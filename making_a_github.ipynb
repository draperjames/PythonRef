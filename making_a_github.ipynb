{
 "cells": [
  {
   "cell_type": "markdown",
   "metadata": {},
   "source": [
    "# github"
   ]
  },
  {
   "cell_type": "code",
   "execution_count": null,
   "metadata": {
    "collapsed": true
   },
   "outputs": [],
   "source": [
    "from urllib.request import urlopen\n",
    "from bs4 import BeautifulSoup\n",
    "\n",
    "name_list = [\"DMPI\",\n",
    "             \"Duke\",\n",
    "             \"DukeUniversity\",\n",
    "             \"ODMPI\",\n",
    "             \"DMPIO\",\n",
    "             \"DMPIomics\",\n",
    "             \"omics\",\n",
    "             \"molphy\",\n",
    "             \"dukemolphy\",\n",
    "             \"dmolphy\",\n",
    "             \"dukeomics\",\n",
    "             \"devilomics\",\n",
    "             \"omicsdevil\",\n",
    "             \"omin\"]\n",
    "\n",
    "gh_link = \"https://github.com/\"\n",
    "\n",
    "for i in name_list:\n",
    "    #print(gh_link+i)\n",
    "    try:\n",
    "        soup = BeautifulSoup(urlopen(gh_link+i),\"lxml\")\n",
    "        #print(soup.title.string)\n",
    "        print(i, \": not available\")\n",
    "    except:\n",
    "        print(i,\": availible\")\n",
    "        "
   ]
  },
  {
   "cell_type": "code",
   "execution_count": null,
   "metadata": {
    "collapsed": true
   },
   "outputs": [],
   "source": []
  }
 ],
 "metadata": {
  "anaconda-cloud": {},
  "kernelspec": {
   "display_name": "Python [Root]",
   "language": "python",
   "name": "Python [Root]"
  },
  "language_info": {
   "codemirror_mode": {
    "name": "ipython",
    "version": 3
   },
   "file_extension": ".py",
   "mimetype": "text/x-python",
   "name": "python",
   "nbconvert_exporter": "python",
   "pygments_lexer": "ipython3",
   "version": "3.5.2"
  }
 },
 "nbformat": 4,
 "nbformat_minor": 0
}
