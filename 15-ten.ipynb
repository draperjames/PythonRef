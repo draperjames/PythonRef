{
 "cells": [
  {
   "cell_type": "markdown",
   "metadata": {},
   "source": [
    "## Ten Jupyter/IPython essentials"
   ]
  },
  {
   "cell_type": "markdown",
   "metadata": {},
   "source": [
    "### Using IPython as an extended shell"
   ]
  },
  {
   "cell_type": "code",
   "execution_count": 1,
   "metadata": {},
   "outputs": [
    {
     "data": {
      "text/plain": [
       "'C:\\\\Users\\\\jad\\\\Documents\\\\JupyterNotebooks\\\\PythonRef'"
      ]
     },
     "execution_count": 1,
     "metadata": {},
     "output_type": "execute_result"
    }
   ],
   "source": [
    "%pwd"
   ]
  },
  {
   "cell_type": "code",
   "execution_count": 2,
   "metadata": {},
   "outputs": [
    {
     "name": "stderr",
     "output_type": "stream",
     "text": [
      "'wget' is not recognized as an internal or external command,\n",
      "operable program or batch file.\n"
     ]
    }
   ],
   "source": [
    "!wget https://raw.githubusercontent.com/ipython-books/minibook-2nd-data/master/facebook.zip"
   ]
  },
  {
   "cell_type": "code",
   "execution_count": 3,
   "metadata": {},
   "outputs": [
    {
     "name": "stdout",
     "output_type": "stream",
     "text": [
      " Volume in drive C has no label.\n",
      " Volume Serial Number is 4FCA-9100\n",
      "\n",
      " Directory of C:\\Users\\jad\\Documents\\JupyterNotebooks\\PythonRef\n",
      "\n",
      "05/08/2017  15:04    <DIR>          .\n",
      "05/08/2017  15:04    <DIR>          ..\n",
      "10/20/2016  09:43               395 .gitattributes\n",
      "01/13/2017  16:08               756 .gitignore\n",
      "05/03/2017  16:44    <DIR>          .ipynb_checkpoints\n",
      "05/08/2017  15:04            20,052 15-ten.ipynb\n",
      "05/08/2017  14:59             5,450 53-parallel.ipynb\n",
      "05/08/2017  14:59             1,695 61-magic.ipynb\n",
      "05/08/2017  15:00             3,141 63-rich.ipynb\n",
      "05/08/2017  15:01             1,250 64-nbapp.ipynb\n",
      "02/17/2017  15:22            30,028 Atom One Dark Color List.ipynb\n",
      "10/25/2016  21:54            43,023 Attempting_to_make_mindmap_in_matplotlib.ipynb\n",
      "04/05/2017  20:42             1,197 bokeh 0125.ipynb\n",
      "04/17/2017  09:22         1,390,326 Bokeh Heatmap.ipynb\n",
      "01/28/2017  03:08         1,323,852 Bokeh HoverTool Custom ToolTips.ipynb\n",
      "04/05/2017  19:43        10,856,582 Bokeh interactive plots.ipynb\n",
      "04/16/2017  16:05         8,011,582 Bokeh linked HoverTool.ipynb\n",
      "04/16/2017  18:10         4,690,543 Bokeh stuff for stack overflow.ipynb\n",
      "04/15/2017  17:48            33,708 clustering in scipy.ipynb\n",
      "01/21/2017  10:08             1,308 CoffeeScript.ipynb\n",
      "01/23/2017  21:16            24,130 Date Picker Widget.ipynb\n",
      "01/24/2017  01:18             3,619 datetime fomatting.ipynb\n",
      "03/21/2017  11:18               904 easygui.ipynb\n",
      "05/03/2017  16:46        13,152,027 Exploring_Data.ipynb\n",
      "01/22/2017  14:20             5,895 File Upload Widget.ipynb\n",
      "04/15/2017  16:12    <DIR>          files.figshare.com\n",
      "01/26/2017  17:19            62,655 FirstLookAtJupyterLab.ipynb\n",
      "01/08/2017  09:22             6,581 Generators and Recusion.ipynb\n",
      "04/18/2017  13:30           227,941 Heatmaps.ipynb\n",
      "01/19/2017  09:59        17,157,222 holoviews.ipynb\n",
      "02/03/2017  10:59            11,877 hovtest.html\n",
      "01/26/2017  22:18            90,112 ipythonblocks.ipynb\n",
      "01/24/2017  23:52            20,580 JavaScript Notebook Extensions.ipynb\n",
      "01/22/2017  15:37            16,971 Jupyter builtin magic commands and variable explorer.ipynb\n",
      "02/23/2017  17:07         1,369,694 Jupyter Notebook and HTML.ipynb\n",
      "10/20/2016  10:46            38,640 JupyterRef_Setting_up_R_on_Jypyter.ipynb\n",
      "03/28/2017  11:43             4,790 lists iter filter and map.ipynb\n",
      "04/26/2017  13:08           470,822 Matplotlib.ipynb\n",
      "03/01/2017  10:40             2,723 Natural Language Processing.ipynb\n",
      "01/22/2017  18:11             5,472 NodeJS notebook.ipynb\n",
      "01/22/2017  15:02             7,568 Nonblocking Console.ipynb\n",
      "10/26/2016  14:47             4,787 numbers_to_words.ipynb\n",
      "01/16/2017  14:37            46,674 openurl.html\n",
      "03/20/2017  15:20             6,325 pandas_conditional.xlsx\n",
      "02/27/2017  11:44            15,980 PandasRef.ipynb\n",
      "12/09/2016  14:38             3,476 Python_Ref_Decorators.ipynb\n",
      "11/04/2016  16:01             2,442 Python_Ref_Lists_&_Tuples.ipynb\n",
      "09/23/2016  15:07             3,363 Python_Ref_Types_sets.ipynb\n",
      "12/28/2016  20:22             1,005 PythonRef_assign_varibles.ipynb\n",
      "10/20/2016  10:46             1,895 PythonRef_BeautifulSoup_usecase_naming_a_github.ipynb\n",
      "12/19/2016  14:01             4,777 PythonRef_Bytes_Unicode_and_Strings.ipynb\n",
      "01/03/2017  13:05             9,797 PythonRef_Classes.ipynb\n",
      "12/18/2016  14:59             1,954 PythonRef_conda_envs.ipynb\n",
      "01/08/2017  07:22             4,264 PythonRef_Conditionals.ipynb\n",
      "12/15/2016  10:46             3,171 PythonRef_cx_Oracle.ipynb\n",
      "11/08/2016  17:53            96,747 PythonRef_GUI_and_plotting.ipynb\n",
      "10/20/2016  10:46             2,144 PythonRef_Lambda_functions_incomplete.ipynb\n",
      "10/20/2016  10:46            34,605 PythonRef_Matplotlib_colormap_fail.ipynb\n",
      "10/20/2016  10:46             1,306 PythonRef_Mouse_control.ipynb\n",
      "12/18/2016  15:07             3,980 PythonRef_py27_kernel.ipynb\n",
      "12/20/2016  00:03             3,451 PythonRef_py34_kernel.ipynb\n",
      "12/15/2016  16:20             4,946 PythonRef_py34_with_pyside.ipynb\n",
      "12/15/2016  16:23             4,322 PythonRef_Py35_PyQt5.ipynb\n",
      "12/15/2016  17:31             9,531 PythonRef_PyQt_and_Pyside_compatibility.ipynb\n",
      "12/28/2016  21:17             1,626 PythonRef_static_methods.ipynb\n",
      "11/04/2016  09:51             6,839 PythonRef_Types_Bool.ipynb\n",
      "01/20/2017  12:46           261,857 PythonReference.ipynb\n",
      "10/20/2016  10:46               273 README.md\n",
      "05/03/2017  14:06            45,225 Strings and Regular Expressions.ipynb\n",
      "03/30/2017  15:53            13,282 threading and multiprocessing.ipynb\n",
      "03/04/2017  19:43             3,245 tkinter.ipynb\n",
      "01/19/2017  14:41           154,733 tool.html\n",
      "01/13/2017  12:17           161,469 toolbar.html\n",
      "03/05/2017  14:10             1,095 Untitled.ipynb\n",
      "01/25/2017  12:17               616 Untitled1.ipynb\n",
      "02/23/2017  17:07             1,412 urllib.ipynb\n",
      "04/18/2017  19:37             1,075 using self as a argument in a function.ipynb\n",
      "01/22/2017  18:46             7,084 Variable Inspector.ipynb\n",
      "04/16/2017  11:50             1,372 warnings.ipynb\n",
      "01/22/2017  15:09            14,648 Widget Styling.ipynb\n",
      "03/20/2017  15:22            10,412 XlsxWriter and Pandas.ipynb\n",
      "              77 File(s)     60,052,316 bytes\n",
      "               4 Dir(s)  188,932,325,376 bytes free\n"
     ]
    }
   ],
   "source": [
    "%ls"
   ]
  },
  {
   "cell_type": "code",
   "execution_count": 4,
   "metadata": {
    "collapsed": true
   },
   "outputs": [],
   "source": [
    "!unzip facebook.zip"
   ]
  },
  {
   "cell_type": "code",
   "execution_count": 5,
   "metadata": {},
   "outputs": [
    {
     "data": {
      "text/plain": [
       "facebook  facebook.zip  [...]"
      ]
     },
     "execution_count": 5,
     "metadata": {},
     "output_type": "execute_result"
    }
   ],
   "source": [
    "%ls"
   ]
  },
  {
   "cell_type": "code",
   "execution_count": 6,
   "metadata": {},
   "outputs": [
    {
     "data": {
      "text/plain": [
       "/home/cyrille/minibook/chapter1/facebook"
      ]
     },
     "execution_count": 6,
     "metadata": {},
     "output_type": "execute_result"
    }
   ],
   "source": [
    "%cd facebook"
   ]
  },
  {
   "cell_type": "code",
   "execution_count": 7,
   "metadata": {
    "collapsed": true
   },
   "outputs": [],
   "source": [
    "%bookmark fbdata"
   ]
  },
  {
   "cell_type": "code",
   "execution_count": 8,
   "metadata": {},
   "outputs": [
    {
     "data": {
      "text/plain": [
       "0.circles    1684.circles  3437.circles  3980.circles  686.circles\n",
       "0.edges      1684.edges    3437.edges    3980.edges    686.edges\n",
       "107.circles  1912.circles  348.circles   414.circles   698.circles\n",
       "107.edges    1912.edges    348.edges     414.edges     698.edges"
      ]
     },
     "execution_count": 8,
     "metadata": {},
     "output_type": "execute_result"
    }
   ],
   "source": [
    "%ls"
   ]
  },
  {
   "cell_type": "code",
   "execution_count": 9,
   "metadata": {
    "collapsed": true
   },
   "outputs": [],
   "source": [
    "files = !ls -1 -S | grep .edges"
   ]
  },
  {
   "cell_type": "code",
   "execution_count": 10,
   "metadata": {},
   "outputs": [
    {
     "data": {
      "text/plain": [
       "['1912.edges',\n",
       " '107.edges',\n",
       " '1684.edges',\n",
       " '3437.edges',\n",
       " '348.edges',\n",
       " '0.edges',\n",
       " '414.edges',\n",
       " '686.edges',\n",
       " '698.edges',\n",
       " '3980.edges']"
      ]
     },
     "execution_count": 10,
     "metadata": {},
     "output_type": "execute_result"
    }
   ],
   "source": [
    "files"
   ]
  },
  {
   "cell_type": "code",
   "execution_count": 11,
   "metadata": {
    "collapsed": true
   },
   "outputs": [],
   "source": [
    "import os\n",
    "from operator import itemgetter\n",
    "# Get the name and file size of all .edges files.\n",
    "files = [(file, os.stat(file).st_size)\n",
    "         for file in os.listdir('.')\n",
    "         if file.endswith('.edges')]\n",
    "# Sort the list with the second item (file size),\n",
    "# in decreasing order.\n",
    "files = sorted(files,\n",
    "               key=itemgetter(1),\n",
    "               reverse=True)\n",
    "# Only keep the first item (file name), in the same order.\n",
    "files = [file for (file, size) in files]"
   ]
  },
  {
   "cell_type": "code",
   "execution_count": 12,
   "metadata": {},
   "outputs": [
    {
     "data": {
      "text/plain": [
       "2290 2363\n",
       "2346 2025\n",
       "2140 2428\n",
       "2201 2506\n",
       "2425 2557"
      ]
     },
     "execution_count": 12,
     "metadata": {},
     "output_type": "execute_result"
    }
   ],
   "source": [
    "!head -n5 {files[0]}"
   ]
  },
  {
   "cell_type": "markdown",
   "metadata": {},
   "source": [
    "### Learning magic commands"
   ]
  },
  {
   "cell_type": "code",
   "execution_count": 4,
   "metadata": {},
   "outputs": [
    {
     "data": {
      "application/json": {
       "cell": {
        "!": "OSMagics",
        "HTML": "Other",
        "SVG": "Other",
        "bash": "Other",
        "capture": "ExecutionMagics",
        "cmd": "Other",
        "debug": "ExecutionMagics",
        "file": "Other",
        "html": "DisplayMagics",
        "javascript": "DisplayMagics",
        "js": "DisplayMagics",
        "latex": "DisplayMagics",
        "perl": "Other",
        "prun": "ExecutionMagics",
        "pypy": "Other",
        "python": "Other",
        "python2": "Other",
        "python3": "Other",
        "ruby": "Other",
        "script": "ScriptMagics",
        "sh": "Other",
        "svg": "DisplayMagics",
        "sx": "OSMagics",
        "system": "OSMagics",
        "time": "ExecutionMagics",
        "timeit": "ExecutionMagics",
        "writefile": "OSMagics"
       },
       "line": {
        "alias": "OSMagics",
        "alias_magic": "BasicMagics",
        "autocall": "AutoMagics",
        "automagic": "AutoMagics",
        "autosave": "KernelMagics",
        "bookmark": "OSMagics",
        "cd": "OSMagics",
        "clear": "KernelMagics",
        "cls": "KernelMagics",
        "colors": "BasicMagics",
        "config": "ConfigMagics",
        "connect_info": "KernelMagics",
        "copy": "Other",
        "ddir": "Other",
        "debug": "ExecutionMagics",
        "dhist": "OSMagics",
        "dirs": "OSMagics",
        "doctest_mode": "BasicMagics",
        "echo": "Other",
        "ed": "Other",
        "edit": "KernelMagics",
        "env": "OSMagics",
        "gui": "BasicMagics",
        "hist": "Other",
        "history": "HistoryMagics",
        "killbgscripts": "ScriptMagics",
        "ldir": "Other",
        "less": "KernelMagics",
        "load": "CodeMagics",
        "load_ext": "ExtensionMagics",
        "loadpy": "CodeMagics",
        "logoff": "LoggingMagics",
        "logon": "LoggingMagics",
        "logstart": "LoggingMagics",
        "logstate": "LoggingMagics",
        "logstop": "LoggingMagics",
        "ls": "Other",
        "lsmagic": "BasicMagics",
        "macro": "ExecutionMagics",
        "magic": "BasicMagics",
        "matplotlib": "PylabMagics",
        "mkdir": "Other",
        "more": "KernelMagics",
        "notebook": "BasicMagics",
        "page": "BasicMagics",
        "pastebin": "CodeMagics",
        "pdb": "ExecutionMagics",
        "pdef": "NamespaceMagics",
        "pdoc": "NamespaceMagics",
        "pfile": "NamespaceMagics",
        "pinfo": "NamespaceMagics",
        "pinfo2": "NamespaceMagics",
        "pip": "BasicMagics",
        "popd": "OSMagics",
        "pprint": "BasicMagics",
        "precision": "BasicMagics",
        "profile": "BasicMagics",
        "prun": "ExecutionMagics",
        "psearch": "NamespaceMagics",
        "psource": "NamespaceMagics",
        "pushd": "OSMagics",
        "pwd": "OSMagics",
        "pycat": "OSMagics",
        "pylab": "PylabMagics",
        "qtconsole": "KernelMagics",
        "quickref": "BasicMagics",
        "recall": "HistoryMagics",
        "rehashx": "OSMagics",
        "reload_ext": "ExtensionMagics",
        "ren": "Other",
        "rep": "Other",
        "rerun": "HistoryMagics",
        "reset": "NamespaceMagics",
        "reset_selective": "NamespaceMagics",
        "rmdir": "Other",
        "run": "ExecutionMagics",
        "save": "CodeMagics",
        "sc": "OSMagics",
        "set_env": "OSMagics",
        "store": "StoreMagics",
        "sx": "OSMagics",
        "system": "OSMagics",
        "tb": "ExecutionMagics",
        "time": "ExecutionMagics",
        "timeit": "ExecutionMagics",
        "unalias": "OSMagics",
        "unload_ext": "ExtensionMagics",
        "who": "NamespaceMagics",
        "who_ls": "NamespaceMagics",
        "whos": "NamespaceMagics",
        "xdel": "NamespaceMagics",
        "xmode": "BasicMagics"
       }
      },
      "text/plain": [
       "Available line magics:\n",
       "%alias  %alias_magic  %autocall  %automagic  %autosave  %bookmark  %cd  %clear  %cls  %colors  %config  %connect_info  %copy  %ddir  %debug  %dhist  %dirs  %doctest_mode  %echo  %ed  %edit  %env  %gui  %hist  %history  %killbgscripts  %ldir  %less  %load  %load_ext  %loadpy  %logoff  %logon  %logstart  %logstate  %logstop  %ls  %lsmagic  %macro  %magic  %matplotlib  %mkdir  %more  %notebook  %page  %pastebin  %pdb  %pdef  %pdoc  %pfile  %pinfo  %pinfo2  %popd  %pprint  %precision  %profile  %prun  %psearch  %psource  %pushd  %pwd  %pycat  %pylab  %qtconsole  %quickref  %recall  %rehashx  %reload_ext  %ren  %rep  %rerun  %reset  %reset_selective  %rmdir  %run  %save  %sc  %set_env  %store  %sx  %system  %tb  %time  %timeit  %unalias  %unload_ext  %who  %who_ls  %whos  %xdel  %xmode\n",
       "\n",
       "Available cell magics:\n",
       "%%!  %%HTML  %%SVG  %%bash  %%capture  %%cmd  %%debug  %%file  %%html  %%javascript  %%js  %%latex  %%perl  %%prun  %%pypy  %%python  %%python2  %%python3  %%ruby  %%script  %%sh  %%svg  %%sx  %%system  %%time  %%timeit  %%writefile\n",
       "\n",
       "Automagic is ON, % prefix IS NOT needed for line magics."
      ]
     },
     "execution_count": 4,
     "metadata": {},
     "output_type": "execute_result"
    }
   ],
   "source": [
    "%lsmagic"
   ]
  },
  {
   "cell_type": "code",
   "execution_count": 6,
   "metadata": {
    "collapsed": true
   },
   "outputs": [],
   "source": [
    "%%capture?"
   ]
  },
  {
   "cell_type": "code",
   "execution_count": 5,
   "metadata": {
    "collapsed": true
   },
   "outputs": [],
   "source": [
    "%history?"
   ]
  },
  {
   "cell_type": "code",
   "execution_count": 15,
   "metadata": {},
   "outputs": [
    {
     "data": {
      "text/plain": [
       "files = !ls -1 -S | grep .edges\n",
       "files\n",
       "!head -n5 {files[0]}\n",
       "%lsmagic\n",
       "%history?"
      ]
     },
     "execution_count": 15,
     "metadata": {},
     "output_type": "execute_result"
    }
   ],
   "source": [
    "%history -l 5"
   ]
  },
  {
   "cell_type": "code",
   "execution_count": 16,
   "metadata": {},
   "outputs": [
    {
     "data": {
      "text/plain": [
       "1440"
      ]
     },
     "execution_count": 16,
     "metadata": {},
     "output_type": "execute_result"
    }
   ],
   "source": [
    "# how many minutes in a day?\n",
    "24 * 60"
   ]
  },
  {
   "cell_type": "code",
   "execution_count": 17,
   "metadata": {},
   "outputs": [
    {
     "data": {
      "text/plain": [
       "525600"
      ]
     },
     "execution_count": 17,
     "metadata": {},
     "output_type": "execute_result"
    }
   ],
   "source": [
    "# and in a year?\n",
    "_ * 365"
   ]
  },
  {
   "cell_type": "code",
   "execution_count": 18,
   "metadata": {
    "collapsed": true
   },
   "outputs": [],
   "source": [
    "%%capture output\n",
    "%ls"
   ]
  },
  {
   "cell_type": "code",
   "execution_count": 19,
   "metadata": {},
   "outputs": [
    {
     "data": {
      "text/plain": [
       "0.circles    1684.circles  3437.circles  3980.circles  686.circles\n",
       "0.edges      1684.edges    3437.edges    3980.edges    686.edges\n",
       "107.circles  1912.circles  348.circles   414.circles   698.circles\n",
       "107.edges    1912.edges    348.edges     414.edges     698.edges"
      ]
     },
     "execution_count": 19,
     "metadata": {},
     "output_type": "execute_result"
    }
   ],
   "source": [
    "output.stdout"
   ]
  },
  {
   "cell_type": "code",
   "execution_count": 20,
   "metadata": {},
   "outputs": [
    {
     "data": {
      "text/plain": [
       "_HEY\n",
       "facebook\n",
       "facebook.zip\n",
       "[...]"
      ]
     },
     "execution_count": 20,
     "metadata": {},
     "output_type": "execute_result"
    }
   ],
   "source": [
    "%%bash\n",
    "cd ..\n",
    "touch _HEY\n",
    "ls\n",
    "rm _HEY\n",
    "cd facebook"
   ]
  },
  {
   "cell_type": "code",
   "execution_count": 21,
   "metadata": {},
   "outputs": [
    {
     "data": {
      "text/plain": [
       "GHCi, version 7.6.3: http://www.haskell.org/ghc/  :? for help\n",
       "Loading package ghc-prim ... linking ... done.\n",
       "Loading package integer-gmp ... linking ... done.\n",
       "Loading package base ... linking ... done.\n",
       "Prelude> Hello world!\n",
       "Prelude> Leaving GHCi."
      ]
     },
     "execution_count": 21,
     "metadata": {},
     "output_type": "execute_result"
    }
   ],
   "source": [
    "%%script ghci\n",
    "putStrLn \"Hello world!\""
   ]
  },
  {
   "cell_type": "code",
   "execution_count": 22,
   "metadata": {},
   "outputs": [
    {
     "data": {
      "text/plain": [
       "Writing myfile.txt"
      ]
     },
     "execution_count": 22,
     "metadata": {},
     "output_type": "execute_result"
    }
   ],
   "source": [
    "%%writefile myfile.txt\n",
    "Hello world!"
   ]
  },
  {
   "cell_type": "code",
   "execution_count": 23,
   "metadata": {},
   "outputs": [
    {
     "data": {
      "text/plain": [
       "Hello world!"
      ]
     },
     "execution_count": 23,
     "metadata": {},
     "output_type": "execute_result"
    }
   ],
   "source": [
    "!more myfile.txt"
   ]
  },
  {
   "cell_type": "code",
   "execution_count": 24,
   "metadata": {
    "collapsed": true
   },
   "outputs": [],
   "source": [
    "!rm myfile.txt"
   ]
  },
  {
   "cell_type": "markdown",
   "metadata": {},
   "source": [
    "### Mastering tab completion"
   ]
  },
  {
   "cell_type": "code",
   "execution_count": 25,
   "metadata": {},
   "outputs": [
    {
     "data": {
      "text/plain": [
       "(bookmark:fbdata) -> /home/cyrille/minibook/chapter1/facebook\n",
       "/home/cyrille/minibook/chapter1/facebook\n",
       "0.circles    1684.circles  3437.circles  3980.circles  686.circles\n",
       "0.edges      1684.edges    3437.edges    3980.edges    686.edges\n",
       "107.circles  1912.circles  348.circles   414.circles   698.circles\n",
       "107.edges    1912.edges    348.edges     414.edges     698.edges"
      ]
     },
     "execution_count": 25,
     "metadata": {},
     "output_type": "execute_result"
    }
   ],
   "source": [
    "%cd fbdata\n",
    "%ls"
   ]
  },
  {
   "cell_type": "markdown",
   "metadata": {},
   "source": [
    "### Writing interactive documents in the Notebook with Markdown"
   ]
  },
  {
   "cell_type": "markdown",
   "metadata": {},
   "source": [
    "### Creating interactive widgets in the Notebook"
   ]
  },
  {
   "cell_type": "code",
   "execution_count": 26,
   "metadata": {
    "collapsed": true
   },
   "outputs": [],
   "source": [
    "from IPython.display import YouTubeVideo\n",
    "YouTubeVideo('j9YpkSX7NNM')"
   ]
  },
  {
   "cell_type": "code",
   "execution_count": 27,
   "metadata": {},
   "outputs": [
    {
     "data": {
      "text/plain": [
       "'The square of 7 is 49.'"
      ]
     },
     "execution_count": 27,
     "metadata": {},
     "output_type": "execute_result"
    }
   ],
   "source": [
    "from ipywidgets import interact  # IPython.html.widgets before IPython 4.0\n",
    "@interact(x=(0, 10))\n",
    "def square(x):\n",
    "    return(\"The square of %d is %d.\" % (x, x**2))"
   ]
  },
  {
   "cell_type": "markdown",
   "metadata": {},
   "source": [
    "### Running Python scripts from IPython"
   ]
  },
  {
   "cell_type": "code",
   "execution_count": 28,
   "metadata": {},
   "outputs": [
    {
     "data": {
      "text/plain": [
       "(bookmark:fbdata) -> /home/cyrille/minibook/chapter1/facebook\n",
       "/home/cyrille/minibook/chapter1/facebook"
      ]
     },
     "execution_count": 28,
     "metadata": {},
     "output_type": "execute_result"
    }
   ],
   "source": [
    "%cd fbdata\n",
    "%cd .."
   ]
  },
  {
   "cell_type": "code",
   "execution_count": 29,
   "metadata": {},
   "outputs": [
    {
     "data": {
      "text/plain": [
       "Overwriting egos.py"
      ]
     },
     "execution_count": 29,
     "metadata": {},
     "output_type": "execute_result"
    }
   ],
   "source": [
    "%%writefile egos.py\n",
    "import sys\n",
    "import os\n",
    "# We retrieve the folder as the first positional argument\n",
    "# to the command-line call\n",
    "if len(sys.argv) > 1:\n",
    "    folder = sys.argv[1]\n",
    "# We list all files in the specified folder\n",
    "files = os.listdir(folder)\n",
    "# ids contains the list of idenfitiers\n",
    "identifiers = [int(file.split('.')[0]) for file in files]\n",
    "# Finally, we remove duplicates with set(), and sort the list\n",
    "# with sorted().\n",
    "ids = sorted(set(identifiers))"
   ]
  },
  {
   "cell_type": "code",
   "execution_count": 30,
   "metadata": {
    "collapsed": true
   },
   "outputs": [],
   "source": [
    "%run egos.py facebook"
   ]
  },
  {
   "cell_type": "code",
   "execution_count": 31,
   "metadata": {},
   "outputs": [
    {
     "data": {
      "text/plain": [
       "[0, 107, 348, 414, 686, 698, 1684, 1912, 3437, 3980]"
      ]
     },
     "execution_count": 31,
     "metadata": {},
     "output_type": "execute_result"
    }
   ],
   "source": [
    "ids"
   ]
  },
  {
   "cell_type": "code",
   "execution_count": 32,
   "metadata": {
    "collapsed": true
   },
   "outputs": [],
   "source": [
    "folder = 'facebook'"
   ]
  },
  {
   "cell_type": "code",
   "execution_count": 33,
   "metadata": {
    "collapsed": true
   },
   "outputs": [],
   "source": [
    "%run egos.py"
   ]
  },
  {
   "cell_type": "code",
   "execution_count": 34,
   "metadata": {
    "collapsed": true
   },
   "outputs": [],
   "source": [
    "%run -i egos.py"
   ]
  },
  {
   "cell_type": "code",
   "execution_count": 35,
   "metadata": {},
   "outputs": [
    {
     "data": {
      "text/plain": [
       "[0, 107, 348, 414, 686, 698, 1684, 1912, 3437, 3980]"
      ]
     },
     "execution_count": 35,
     "metadata": {},
     "output_type": "execute_result"
    }
   ],
   "source": [
    "ids"
   ]
  },
  {
   "cell_type": "markdown",
   "metadata": {},
   "source": [
    "### Introspecting Python objects"
   ]
  },
  {
   "cell_type": "code",
   "execution_count": 36,
   "metadata": {
    "collapsed": true
   },
   "outputs": [],
   "source": [
    "import networkx"
   ]
  },
  {
   "cell_type": "code",
   "execution_count": 37,
   "metadata": {
    "collapsed": true
   },
   "outputs": [],
   "source": [
    "networkx.Graph?"
   ]
  },
  {
   "cell_type": "markdown",
   "metadata": {},
   "source": [
    "### Debugging Python code"
   ]
  },
  {
   "cell_type": "markdown",
   "metadata": {},
   "source": [
    "### Benchmarking Python code"
   ]
  },
  {
   "cell_type": "code",
   "execution_count": 38,
   "metadata": {},
   "outputs": [
    {
     "data": {
      "text/plain": [
       "(bookmark:fbdata) -> /home/cyrille/minibook/chapter1/facebook\n",
       "/home/cyrille/minibook/chapter1/facebook"
      ]
     },
     "execution_count": 38,
     "metadata": {},
     "output_type": "execute_result"
    }
   ],
   "source": [
    "%cd fbdata"
   ]
  },
  {
   "cell_type": "code",
   "execution_count": 39,
   "metadata": {
    "collapsed": true
   },
   "outputs": [],
   "source": [
    "import networkx"
   ]
  },
  {
   "cell_type": "code",
   "execution_count": 40,
   "metadata": {
    "collapsed": true
   },
   "outputs": [],
   "source": [
    "graph = networkx.read_edgelist('107.edges')"
   ]
  },
  {
   "cell_type": "code",
   "execution_count": 41,
   "metadata": {},
   "outputs": [
    {
     "data": {
      "text/plain": [
       "(1034, 26749)"
      ]
     },
     "execution_count": 41,
     "metadata": {},
     "output_type": "execute_result"
    }
   ],
   "source": [
    "len(graph.nodes()), len(graph.edges())"
   ]
  },
  {
   "cell_type": "code",
   "execution_count": 42,
   "metadata": {},
   "outputs": [
    {
     "data": {
      "text/plain": [
       "True"
      ]
     },
     "execution_count": 42,
     "metadata": {},
     "output_type": "execute_result"
    }
   ],
   "source": [
    "networkx.is_connected(graph)"
   ]
  },
  {
   "cell_type": "code",
   "execution_count": 43,
   "metadata": {},
   "outputs": [
    {
     "data": {
      "text/plain": [
       "100 loops, best of 3: 5.92 ms per loop"
      ]
     },
     "execution_count": 43,
     "metadata": {},
     "output_type": "execute_result"
    }
   ],
   "source": [
    "%timeit networkx.is_connected(graph)"
   ]
  },
  {
   "cell_type": "markdown",
   "metadata": {},
   "source": [
    "### Profiling Python code"
   ]
  },
  {
   "cell_type": "code",
   "execution_count": 44,
   "metadata": {
    "collapsed": true
   },
   "outputs": [],
   "source": [
    "import networkx"
   ]
  },
  {
   "cell_type": "code",
   "execution_count": 45,
   "metadata": {
    "collapsed": true
   },
   "outputs": [],
   "source": [
    "def ncomponents(file):\n",
    "    graph = networkx.read_edgelist(file)\n",
    "    return networkx.number_connected_components(graph)"
   ]
  },
  {
   "cell_type": "code",
   "execution_count": 46,
   "metadata": {
    "collapsed": true
   },
   "outputs": [],
   "source": [
    "import glob\n",
    "def ncomponents_files():\n",
    "    return [(file, ncomponents(file))\n",
    "            for file in sorted(glob.glob('*.edges'))]"
   ]
  },
  {
   "cell_type": "code",
   "execution_count": 47,
   "metadata": {},
   "outputs": [
    {
     "data": {
      "text/plain": [
       "0.edges      5 component(s)\n",
       "107.edges    1 component(s)\n",
       "1684.edges   4 component(s)\n",
       "1912.edges   2 component(s)\n",
       "3437.edges   2 component(s)\n",
       "348.edges    1 component(s)\n",
       "3980.edges   4 component(s)\n",
       "414.edges    2 component(s)\n",
       "686.edges    1 component(s)\n",
       "698.edges    3 component(s)"
      ]
     },
     "execution_count": 47,
     "metadata": {},
     "output_type": "execute_result"
    }
   ],
   "source": [
    "for file, n in ncomponents_files():\n",
    "    print(file.ljust(12), n, 'component(s)')"
   ]
  },
  {
   "cell_type": "code",
   "execution_count": 48,
   "metadata": {},
   "outputs": [
    {
     "data": {
      "text/plain": [
       "1 loops, best of 3: 634 ms per loop"
      ]
     },
     "execution_count": 48,
     "metadata": {},
     "output_type": "execute_result"
    }
   ],
   "source": [
    "%timeit ncomponents_files()"
   ]
  },
  {
   "cell_type": "code",
   "execution_count": 49,
   "metadata": {},
   "outputs": [
    {
     "data": {
      "text/plain": [
       "2391070 function calls in 1.038 seconds\n",
       "\n",
       "Ordered by: cumulative time\n",
       "\n",
       "ncalls  tottime  percall  cumtime  percall filename:lineno(function)\n",
       "     1    0.000    0.000    1.038    1.038 {built-in method exec}\n",
       "     1    0.000    0.000    1.038    1.038 <string>:1(<module>)\n",
       "    10    0.000    0.000    0.995    0.100 <string>:1(read_edgelist)\n",
       "    10    0.000    0.000    0.995    0.100 decorators.py:155(_open_file)\n",
       "    10    0.376    0.038    0.995    0.099 edgelist.py:174(parse_edgelist)\n",
       "170174    0.279    0.000    0.350    0.000 graph.py:648(add_edge)\n",
       "170184    0.059    0.000    0.095    0.000 edgelist.py:366(<genexpr>)\n",
       "    10    0.000    0.000    0.021    0.002 connected.py:98(number_connected_components)\n",
       "    35    0.001    0.000    0.021    0.001 connected.py:22(connected_components)"
      ]
     },
     "execution_count": 49,
     "metadata": {},
     "output_type": "execute_result"
    }
   ],
   "source": [
    "%prun -s cumtime ncomponents_files()"
   ]
  }
 ],
 "metadata": {
  "kernelspec": {
   "display_name": "Python 3",
   "language": "python",
   "name": "python3"
  },
  "language_info": {
   "codemirror_mode": {
    "name": "ipython",
    "version": 3
   },
   "file_extension": ".py",
   "mimetype": "text/x-python",
   "name": "python",
   "nbconvert_exporter": "python",
   "pygments_lexer": "ipython3",
   "version": "3.6.0"
  }
 },
 "nbformat": 4,
 "nbformat_minor": 1
}
