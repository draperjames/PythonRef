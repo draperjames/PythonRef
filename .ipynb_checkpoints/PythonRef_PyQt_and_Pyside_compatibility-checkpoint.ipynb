{
 "cells": [
  {
   "cell_type": "code",
   "execution_count": 1,
   "metadata": {
    "collapsed": true
   },
   "outputs": [],
   "source": [
    "from qtpy import QtWidgets, QtGui, QtCore"
   ]
  },
  {
   "cell_type": "code",
   "execution_count": 2,
   "metadata": {
    "collapsed": false
   },
   "outputs": [
    {
     "data": {
      "text/plain": [
       "142"
      ]
     },
     "execution_count": 2,
     "metadata": {},
     "output_type": "execute_result"
    }
   ],
   "source": [
    "len(dir(QtGui))"
   ]
  },
  {
   "cell_type": "code",
   "execution_count": 3,
   "metadata": {
    "collapsed": false
   },
   "outputs": [
    {
     "name": "stdout",
     "output_type": "stream",
     "text": [
      "True\n",
      "False\n"
     ]
    }
   ],
   "source": [
    "print(\"QRegExpValidator\" in dir(QtGui))\n",
    "print(\"QRegExpValidator\" in dir(QtWidgets))"
   ]
  },
  {
   "cell_type": "code",
   "execution_count": 4,
   "metadata": {
    "collapsed": false
   },
   "outputs": [
    {
     "name": "stdout",
     "output_type": "stream",
     "text": [
      "True\n",
      "False\n"
     ]
    }
   ],
   "source": [
    "print(\"QAbstractSpinBox\" in dir(QtWidgets))\n",
    "print(\"QAbstractSpinBox\" in dir(QtGui))"
   ]
  },
  {
   "cell_type": "markdown",
   "metadata": {},
   "source": [
    "From the annals of the qtpy issues come a prtty unique solution\n",
    "https://github.com/mottosso/Qt.py/issues/152\n",
    "```\n",
    "from PyQt5 import QtWidgets as _QtWidgets\n",
    "QtWidgets = types.ModuleType(\"QtWidgets\")\n",
    "QtWidgets.QAbstractItemList = _QtWidgets.QAbstractItemList\n",
    "QtWidgets.QPushButton = _QtWidgets.QPushButton\n",
    "```"
   ]
  },
  {
   "cell_type": "code",
   "execution_count": 5,
   "metadata": {
    "collapsed": false
   },
   "outputs": [],
   "source": [
    "import types\n",
    "\n",
    "import qtpy.QtGui as _QtGui\n",
    "import qtpy.QtWidgets as _QtWidgets\n",
    "import qtpy.QtCore as _QtCore\n",
    "\n",
    "from qtpy.QtCore import (Signal, Slot, Qt)\n",
    "\n",
    "# QtCore compatility\n",
    "QtCore = types.ModuleType(\"QtCore\")\n",
    "QtCore = _QtCore\n",
    "\n",
    "# QtGui compatility\n",
    "QtGui = types.ModuleType(\"QtGui\")\n",
    "QtGui = _QtGui\n",
    "\n",
    "for sub_mod in dir(_QtWidgets):\n",
    "    QtGui.__dict__[sub_mod] = _QtWidgets.__dict__[sub_mod]\n"
   ]
  },
  {
   "cell_type": "code",
   "execution_count": 17,
   "metadata": {
    "collapsed": false
   },
   "outputs": [
    {
     "data": {
      "text/plain": [
       "367"
      ]
     },
     "execution_count": 17,
     "metadata": {},
     "output_type": "execute_result"
    }
   ],
   "source": [
    "len(dir(QtGui))"
   ]
  },
  {
   "cell_type": "code",
   "execution_count": 18,
   "metadata": {
    "collapsed": true
   },
   "outputs": [],
   "source": [
    "import qtpy.QtGui as _QtGui\n",
    "import qtpy.QtWidgets as _QtWidgets\n",
    "import qtpy.QtCore as _QtCore\n",
    "\n",
    "from qtpy.QtCore import (Signal, Slot, Qt)\n",
    "\n",
    "# QtCore compatility\n",
    "QtCore = types.ModuleType(\"QtCore\")\n",
    "QtCore = _QtCore\n",
    "\n",
    "# QtGui compatility\n",
    "QtGui = types.ModuleType(\"QtGui\")\n",
    "QtGui = _QtGui\n",
    "\n",
    "# QtWidgets compatility\n",
    "QtWidgets = types.ModuleType(\"QtWidgets\")\n",
    "QtWidgets = _QtWidgets\n",
    "\n",
    "for sub_mod in dir(_QtGui):\n",
    "    QtWidgets.__dict__[sub_mod] = _QtGui.__dict__[sub_mod]"
   ]
  },
  {
   "cell_type": "code",
   "execution_count": 19,
   "metadata": {
    "collapsed": false
   },
   "outputs": [
    {
     "data": {
      "text/plain": [
       "367"
      ]
     },
     "execution_count": 19,
     "metadata": {},
     "output_type": "execute_result"
    }
   ],
   "source": [
    "len(dir(QtWidgets))"
   ]
  },
  {
   "cell_type": "code",
   "execution_count": null,
   "metadata": {
    "collapsed": true
   },
   "outputs": [],
   "source": []
  }
 ],
 "metadata": {
  "anaconda-cloud": {},
  "kernelspec": {
   "display_name": "Python [Root]",
   "language": "python",
   "name": "Python [Root]"
  },
  "language_info": {
   "codemirror_mode": {
    "name": "ipython",
    "version": 3
   },
   "file_extension": ".py",
   "mimetype": "text/x-python",
   "name": "python",
   "nbconvert_exporter": "python",
   "pygments_lexer": "ipython3",
   "version": "3.5.2"
  }
 },
 "nbformat": 4,
 "nbformat_minor": 2
}
