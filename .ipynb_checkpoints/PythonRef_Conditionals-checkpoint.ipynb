{
 "cells": [
  {
   "cell_type": "markdown",
   "metadata": {},
   "source": [
    "# The `while` statement"
   ]
  },
  {
   "cell_type": "code",
   "execution_count": 1,
   "metadata": {
    "collapsed": true
   },
   "outputs": [],
   "source": [
    "def funzo():\n",
    "    contin = input(\"Are you having fun yet?(Y/N) \")\n",
    "    while contin == \"N\":\n",
    "        contin = input(\"I'm sorry! :( \\n Are you having fun now? (Y/N) \")\n",
    "    while contin == \"Y\":\n",
    "        return \"Good! I hope your happy now.\""
   ]
  },
  {
   "cell_type": "code",
   "execution_count": 2,
   "metadata": {
    "collapsed": false
   },
   "outputs": [
    {
     "name": "stdout",
     "output_type": "stream",
     "text": [
      "Are you having fun yet?(Y/N) N\n",
      "I'm sorry! :( \n",
      " Are you having fun now? (Y/N) N\n",
      "I'm sorry! :( \n",
      " Are you having fun now? (Y/N) N\n",
      "I'm sorry! :( \n",
      " Are you having fun now? (Y/N) Y\n"
     ]
    },
    {
     "data": {
      "text/plain": [
       "'Good! I hope your happy now.'"
      ]
     },
     "execution_count": 2,
     "metadata": {},
     "output_type": "execute_result"
    }
   ],
   "source": [
    "funzo()"
   ]
  },
  {
   "cell_type": "code",
   "execution_count": null,
   "metadata": {
    "collapsed": true
   },
   "outputs": [],
   "source": []
  }
 ],
 "metadata": {
  "anaconda-cloud": {},
  "kernelspec": {
   "display_name": "Python [Root]",
   "language": "python",
   "name": "Python [Root]"
  },
  "language_info": {
   "codemirror_mode": {
    "name": "ipython",
    "version": 3
   },
   "file_extension": ".py",
   "mimetype": "text/x-python",
   "name": "python",
   "nbconvert_exporter": "python",
   "pygments_lexer": "ipython3",
   "version": "3.5.2"
  }
 },
 "nbformat": 4,
 "nbformat_minor": 0
}
