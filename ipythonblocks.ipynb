{
 "cells": [
  {
   "cell_type": "markdown",
   "metadata": {},
   "source": [
    "[ipythonblocks basic use](http://nbviewer.jupyter.org/github/jiffyclub/ipythonblocks/blob/master/demos/ipythonblocks_demo.ipynb)   \n",
    "[ipythonblocks fun examples](http://nbviewer.jupyter.org/github/jiffyclub/ipythonblocks/blob/master/demos/ipythonblocks_fun.ipynb)\n"
   ]
  },
  {
   "cell_type": "code",
   "execution_count": 1,
   "metadata": {
    "collapsed": true
   },
   "outputs": [],
   "source": [
    "import re\n",
    "import numpy as np\n",
    "import colorsys\n",
    "from ipythonblocks import BlockGrid\n",
    "import webcolors\n",
    "# dir(webcolors)"
   ]
  },
  {
   "cell_type": "code",
   "execution_count": 2,
   "metadata": {
    "collapsed": true
   },
   "outputs": [],
   "source": [
    "# webcolors.rgb_to_hex([r[0],g[0],b[0]])"
   ]
  },
  {
   "cell_type": "code",
   "execution_count": 3,
   "metadata": {
    "collapsed": true
   },
   "outputs": [],
   "source": [
    "base = webcolors.name_to_rgb(\"lightblue\")\n",
    "base = np.array(base)\n",
    "# base\n",
    "direction = webcolors.name_to_rgb(\"PeachPuff\")\n",
    "direction = np.array(direction)\n",
    "# direction"
   ]
  },
  {
   "cell_type": "code",
   "execution_count": 4,
   "metadata": {
    "collapsed": true
   },
   "outputs": [],
   "source": [
    "steps=25\n",
    "\n",
    "r = np.linspace(base[0],direction[0],steps,dtype=\"int32\")\n",
    "g = np.linspace(base[1],direction[1],steps,dtype=\"int32\")\n",
    "b = np.linspace(base[2],direction[2],steps,dtype=\"int32\")"
   ]
  },
  {
   "cell_type": "code",
   "execution_count": 5,
   "metadata": {
    "collapsed": true
   },
   "outputs": [],
   "source": [
    "def webColorRange(start_color,end_color,steps=25,output_format=None):\n",
    "    \n",
    "    output_format = output_format or \"rbg\"\n",
    "    \n",
    "    base = webcolors.name_to_rgb(start_color)\n",
    "    base = np.array(base)\n",
    "\n",
    "    direction = webcolors.name_to_rgb(end_color)\n",
    "    direction = np.array(direction)\n",
    "\n",
    "    r = np.linspace(base[0],direction[0],steps,dtype=\"int32\")\n",
    "    g = np.linspace(base[1],direction[1],steps,dtype=\"int32\")\n",
    "    b = np.linspace(base[2],direction[2],steps,dtype=\"int32\")\n",
    "    \n",
    "    if re.search(\"[Rr][Gg][Bg]\", output_format) is not None:\n",
    "        return r,g,b\n",
    "    if re.search(\"[Hh][Ee][Xx]\",output_format) is not None:\n",
    "        hex_list = [webcolors.rgb_to_hex([r[i],g[i],b[i]]) for i in range(steps)]\n",
    "        return hex_list"
   ]
  },
  {
   "cell_type": "code",
   "execution_count": 10,
   "metadata": {
    "collapsed": true
   },
   "outputs": [],
   "source": [
    "color_list = webColorRange(\"blue\",\"lightblue\",steps=25,output_format=\"hex\")"
   ]
  },
  {
   "cell_type": "code",
   "execution_count": 11,
   "metadata": {},
   "outputs": [
    {
     "data": {
      "text/html": [
       "<style type=\"text/css\">table.blockgrid {border: none;} .blockgrid tr {border: none;} .blockgrid td {padding: 0px;} #blocks580f0271-5207-4fe1-8d6a-32ed0bbe0436 td {border: 1px solid white;}</style><table id=\"blocks580f0271-5207-4fe1-8d6a-32ed0bbe0436\" class=\"blockgrid\"><tbody><tr><td title=\"Index: [0, 0]&#10;Color: (0, 0, 255)\" style=\"width: 20px; height: 20px;background-color: rgb(0, 0, 255);\"></td><td title=\"Index: [0, 1]&#10;Color: (7, 9, 253)\" style=\"width: 20px; height: 20px;background-color: rgb(7, 9, 253);\"></td><td title=\"Index: [0, 2]&#10;Color: (14, 18, 252)\" style=\"width: 20px; height: 20px;background-color: rgb(14, 18, 252);\"></td><td title=\"Index: [0, 3]&#10;Color: (21, 27, 251)\" style=\"width: 20px; height: 20px;background-color: rgb(21, 27, 251);\"></td><td title=\"Index: [0, 4]&#10;Color: (28, 36, 250)\" style=\"width: 20px; height: 20px;background-color: rgb(28, 36, 250);\"></td><td title=\"Index: [0, 5]&#10;Color: (36, 45, 249)\" style=\"width: 20px; height: 20px;background-color: rgb(36, 45, 249);\"></td><td title=\"Index: [0, 6]&#10;Color: (43, 54, 248)\" style=\"width: 20px; height: 20px;background-color: rgb(43, 54, 248);\"></td><td title=\"Index: [0, 7]&#10;Color: (50, 63, 247)\" style=\"width: 20px; height: 20px;background-color: rgb(50, 63, 247);\"></td><td title=\"Index: [0, 8]&#10;Color: (57, 72, 246)\" style=\"width: 20px; height: 20px;background-color: rgb(57, 72, 246);\"></td><td title=\"Index: [0, 9]&#10;Color: (64, 81, 245)\" style=\"width: 20px; height: 20px;background-color: rgb(64, 81, 245);\"></td><td title=\"Index: [0, 10]&#10;Color: (72, 90, 244)\" style=\"width: 20px; height: 20px;background-color: rgb(72, 90, 244);\"></td><td title=\"Index: [0, 11]&#10;Color: (79, 99, 243)\" style=\"width: 20px; height: 20px;background-color: rgb(79, 99, 243);\"></td><td title=\"Index: [0, 12]&#10;Color: (86, 108, 242)\" style=\"width: 20px; height: 20px;background-color: rgb(86, 108, 242);\"></td><td title=\"Index: [0, 13]&#10;Color: (93, 117, 241)\" style=\"width: 20px; height: 20px;background-color: rgb(93, 117, 241);\"></td><td title=\"Index: [0, 14]&#10;Color: (100, 126, 240)\" style=\"width: 20px; height: 20px;background-color: rgb(100, 126, 240);\"></td><td title=\"Index: [0, 15]&#10;Color: (108, 135, 239)\" style=\"width: 20px; height: 20px;background-color: rgb(108, 135, 239);\"></td><td title=\"Index: [0, 16]&#10;Color: (115, 144, 238)\" style=\"width: 20px; height: 20px;background-color: rgb(115, 144, 238);\"></td><td title=\"Index: [0, 17]&#10;Color: (122, 153, 237)\" style=\"width: 20px; height: 20px;background-color: rgb(122, 153, 237);\"></td><td title=\"Index: [0, 18]&#10;Color: (129, 162, 236)\" style=\"width: 20px; height: 20px;background-color: rgb(129, 162, 236);\"></td><td title=\"Index: [0, 19]&#10;Color: (136, 171, 235)\" style=\"width: 20px; height: 20px;background-color: rgb(136, 171, 235);\"></td><td title=\"Index: [0, 20]&#10;Color: (144, 180, 234)\" style=\"width: 20px; height: 20px;background-color: rgb(144, 180, 234);\"></td><td title=\"Index: [0, 21]&#10;Color: (151, 189, 233)\" style=\"width: 20px; height: 20px;background-color: rgb(151, 189, 233);\"></td><td title=\"Index: [0, 22]&#10;Color: (158, 198, 232)\" style=\"width: 20px; height: 20px;background-color: rgb(158, 198, 232);\"></td><td title=\"Index: [0, 23]&#10;Color: (165, 207, 231)\" style=\"width: 20px; height: 20px;background-color: rgb(165, 207, 231);\"></td><td title=\"Index: [0, 24]&#10;Color: (173, 216, 230)\" style=\"width: 20px; height: 20px;background-color: rgb(173, 216, 230);\"></td></tr></tbody></table>"
      ],
      "text/plain": [
       "<ipythonblocks.ipythonblocks.BlockGrid at 0x67c0438>"
      ]
     },
     "execution_count": 11,
     "metadata": {},
     "output_type": "execute_result"
    }
   ],
   "source": [
    "grid = BlockGrid(len(color_list),1)\n",
    "\n",
    "for n,_ in enumerate(grid):\n",
    "    grid[0,n] = webcolors.hex_to_rgb(color_list[n])\n",
    "    # grid[0,n].red = r[n]\n",
    "    # grid[0,n].green = g[n]\n",
    "    # grid[0,n].blue = b[n]\n",
    "grid"
   ]
  },
  {
   "cell_type": "code",
   "execution_count": 15,
   "metadata": {},
   "outputs": [],
   "source": [
    "color_list = webColorRange(\"red\",\"blue\",steps=25,output_format=\"hex\")"
   ]
  },
  {
   "cell_type": "code",
   "execution_count": 16,
   "metadata": {},
   "outputs": [
    {
     "data": {
      "text/html": [
       "<style type=\"text/css\">table.blockgrid {border: none;} .blockgrid tr {border: none;} .blockgrid td {padding: 0px;} #blocks102a7327-6751-48d1-bd3c-8f830ed1587f td {border: 1px solid white;}</style><table id=\"blocks102a7327-6751-48d1-bd3c-8f830ed1587f\" class=\"blockgrid\"><tbody><tr><td title=\"Index: [0, 0]&#10;Color: (255, 0, 0)\" style=\"width: 20px; height: 20px;background-color: rgb(255, 0, 0);\"></td><td title=\"Index: [0, 1]&#10;Color: (244, 0, 10)\" style=\"width: 20px; height: 20px;background-color: rgb(244, 0, 10);\"></td><td title=\"Index: [0, 2]&#10;Color: (233, 0, 21)\" style=\"width: 20px; height: 20px;background-color: rgb(233, 0, 21);\"></td><td title=\"Index: [0, 3]&#10;Color: (223, 0, 31)\" style=\"width: 20px; height: 20px;background-color: rgb(223, 0, 31);\"></td><td title=\"Index: [0, 4]&#10;Color: (212, 0, 42)\" style=\"width: 20px; height: 20px;background-color: rgb(212, 0, 42);\"></td><td title=\"Index: [0, 5]&#10;Color: (201, 0, 53)\" style=\"width: 20px; height: 20px;background-color: rgb(201, 0, 53);\"></td><td title=\"Index: [0, 6]&#10;Color: (191, 0, 63)\" style=\"width: 20px; height: 20px;background-color: rgb(191, 0, 63);\"></td><td title=\"Index: [0, 7]&#10;Color: (180, 0, 74)\" style=\"width: 20px; height: 20px;background-color: rgb(180, 0, 74);\"></td><td title=\"Index: [0, 8]&#10;Color: (170, 0, 85)\" style=\"width: 20px; height: 20px;background-color: rgb(170, 0, 85);\"></td><td title=\"Index: [0, 9]&#10;Color: (159, 0, 95)\" style=\"width: 20px; height: 20px;background-color: rgb(159, 0, 95);\"></td><td title=\"Index: [0, 10]&#10;Color: (148, 0, 106)\" style=\"width: 20px; height: 20px;background-color: rgb(148, 0, 106);\"></td><td title=\"Index: [0, 11]&#10;Color: (138, 0, 116)\" style=\"width: 20px; height: 20px;background-color: rgb(138, 0, 116);\"></td><td title=\"Index: [0, 12]&#10;Color: (127, 0, 127)\" style=\"width: 20px; height: 20px;background-color: rgb(127, 0, 127);\"></td><td title=\"Index: [0, 13]&#10;Color: (116, 0, 138)\" style=\"width: 20px; height: 20px;background-color: rgb(116, 0, 138);\"></td><td title=\"Index: [0, 14]&#10;Color: (106, 0, 148)\" style=\"width: 20px; height: 20px;background-color: rgb(106, 0, 148);\"></td><td title=\"Index: [0, 15]&#10;Color: (95, 0, 159)\" style=\"width: 20px; height: 20px;background-color: rgb(95, 0, 159);\"></td><td title=\"Index: [0, 16]&#10;Color: (85, 0, 170)\" style=\"width: 20px; height: 20px;background-color: rgb(85, 0, 170);\"></td><td title=\"Index: [0, 17]&#10;Color: (74, 0, 180)\" style=\"width: 20px; height: 20px;background-color: rgb(74, 0, 180);\"></td><td title=\"Index: [0, 18]&#10;Color: (63, 0, 191)\" style=\"width: 20px; height: 20px;background-color: rgb(63, 0, 191);\"></td><td title=\"Index: [0, 19]&#10;Color: (53, 0, 201)\" style=\"width: 20px; height: 20px;background-color: rgb(53, 0, 201);\"></td><td title=\"Index: [0, 20]&#10;Color: (42, 0, 212)\" style=\"width: 20px; height: 20px;background-color: rgb(42, 0, 212);\"></td><td title=\"Index: [0, 21]&#10;Color: (31, 0, 223)\" style=\"width: 20px; height: 20px;background-color: rgb(31, 0, 223);\"></td><td title=\"Index: [0, 22]&#10;Color: (21, 0, 233)\" style=\"width: 20px; height: 20px;background-color: rgb(21, 0, 233);\"></td><td title=\"Index: [0, 23]&#10;Color: (10, 0, 244)\" style=\"width: 20px; height: 20px;background-color: rgb(10, 0, 244);\"></td><td title=\"Index: [0, 24]&#10;Color: (0, 0, 255)\" style=\"width: 20px; height: 20px;background-color: rgb(0, 0, 255);\"></td></tr></tbody></table>"
      ],
      "text/plain": [
       "<ipythonblocks.ipythonblocks.BlockGrid at 0x68a8dd8>"
      ]
     },
     "execution_count": 16,
     "metadata": {},
     "output_type": "execute_result"
    }
   ],
   "source": [
    "grid = BlockGrid(len(color_list),1)\n",
    "\n",
    "for n,_ in enumerate(grid):\n",
    "    grid[0,n] = webcolors.hex_to_rgb(color_list[n])\n",
    "    # grid[0,n].red = r[n]\n",
    "    # grid[0,n].green = g[n]\n",
    "    # grid[0,n].blue = b[n]\n",
    "grid"
   ]
  },
  {
   "cell_type": "code",
   "execution_count": null,
   "metadata": {
    "collapsed": true
   },
   "outputs": [],
   "source": []
  }
 ],
 "metadata": {
  "anaconda-cloud": {},
  "kernelspec": {
   "display_name": "Python 3",
   "language": "python",
   "name": "python3"
  },
  "language_info": {
   "codemirror_mode": {
    "name": "ipython",
    "version": 3
   },
   "file_extension": ".py",
   "mimetype": "text/x-python",
   "name": "python",
   "nbconvert_exporter": "python",
   "pygments_lexer": "ipython3",
   "version": "3.6.1"
  },
  "varInspector": {
   "cols": {
    "lenName": 16,
    "lenType": 16,
    "lenVar": 40
   },
   "kernels_config": {
    "python": {
     "delete_cmd_postfix": "",
     "delete_cmd_prefix": "del ",
     "library": "var_list.py",
     "varRefreshCmd": "print(var_dic_list())"
    },
    "r": {
     "delete_cmd_postfix": ") ",
     "delete_cmd_prefix": "rm(",
     "library": "var_list.r",
     "varRefreshCmd": "cat(var_dic_list()) "
    }
   },
   "types_to_exclude": [
    "module",
    "function",
    "builtin_function_or_method",
    "instance",
    "_Feature"
   ],
   "window_display": false
  }
 },
 "nbformat": 4,
 "nbformat_minor": 2
}
