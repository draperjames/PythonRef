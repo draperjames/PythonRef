{
 "cells": [
  {
   "cell_type": "code",
   "execution_count": 24,
   "metadata": {},
   "outputs": [
    {
     "data": {
      "text/plain": [
       "'2016-10-20'"
      ]
     },
     "execution_count": 24,
     "metadata": {},
     "output_type": "execute_result"
    }
   ],
   "source": [
    "from datetime import datetime\n",
    "import re\n",
    "\n",
    "unformatted = \"Thu Oct 20 02:40:55 +0000 2016\"\n",
    "\n",
    "# Use re to get rid of the milliseconds.\n",
    "remove_ms = lambda x:re.sub(\"\\+\\d+\\s\",\"\",x)\n",
    "\n",
    "# Make the string into a datetime object.\n",
    "mk_dt = lambda x:datetime.strptime(remove_ms(x), \"%a %b %d %H:%M:%S %Y\")\n",
    "\n",
    "# Format your datetime object.\n",
    "my_form = lambda x:\"{:%Y-%m-%d}\".format(mk_dt(x))\n",
    "\n",
    "my_form(unformatted)"
   ]
  },
  {
   "cell_type": "code",
   "execution_count": 27,
   "metadata": {},
   "outputs": [
    {
     "data": {
      "text/plain": [
       "['2016-09-17',\n",
       " '2016-09-18',\n",
       " '2016-09-19',\n",
       " '2016-09-20',\n",
       " '2016-09-21',\n",
       " '2016-09-22',\n",
       " '2016-09-23',\n",
       " '2016-09-24',\n",
       " '2016-09-25',\n",
       " '2016-09-26',\n",
       " '2016-09-27',\n",
       " '2016-09-28',\n",
       " '2016-09-29',\n",
       " '2016-09-30',\n",
       " '2016-10-01',\n",
       " '2016-10-02',\n",
       " '2016-10-03',\n",
       " '2016-10-04',\n",
       " '2016-10-05',\n",
       " '2016-10-06',\n",
       " '2016-10-07',\n",
       " '2016-10-08',\n",
       " '2016-10-09',\n",
       " '2016-10-10',\n",
       " '2016-10-11',\n",
       " '2016-10-12',\n",
       " '2016-10-13',\n",
       " '2016-10-14',\n",
       " '2016-10-15',\n",
       " '2016-10-16',\n",
       " '2016-10-17',\n",
       " '2016-10-18',\n",
       " '2016-10-19',\n",
       " '2016-10-20',\n",
       " '2016-10-21',\n",
       " '2016-10-22',\n",
       " '2016-10-23',\n",
       " '2016-10-24',\n",
       " '2016-10-25',\n",
       " '2016-10-26',\n",
       " '2016-10-27',\n",
       " '2016-10-28',\n",
       " '2016-10-29',\n",
       " '2016-10-30',\n",
       " '2016-10-31',\n",
       " '2016-11-01',\n",
       " '2016-11-02',\n",
       " '2016-11-03',\n",
       " '2016-11-04',\n",
       " '2016-11-05',\n",
       " '2016-11-06',\n",
       " '2016-11-07']"
      ]
     },
     "execution_count": 27,
     "metadata": {},
     "output_type": "execute_result"
    }
   ],
   "source": [
    "from datetime import date, timedelta as td\n",
    "\n",
    "# Make a lambda function to directly format your datetime objects.\n",
    "dt_form = lambda x:\"{:%Y-%m-%d}\".format(x)\n",
    "\n",
    "d1 = date(2016, 9, 17)\n",
    "d2 = date(2016, 11, 7)\n",
    "\n",
    "delta = d2-d1\n",
    "listOfDates = []\n",
    "for i in range(delta.days+1):\n",
    "#     print(d1 + td(days=i))\n",
    "    listOfDates.append(dt_form(d1 + td(days=i)))\n",
    "listOfDates"
   ]
  },
  {
   "cell_type": "code",
   "execution_count": null,
   "metadata": {
    "collapsed": true
   },
   "outputs": [],
   "source": [
    "# filter()"
   ]
  }
 ],
 "metadata": {
  "anaconda-cloud": {},
  "kernelspec": {
   "display_name": "Python 3",
   "language": "python",
   "name": "python3"
  },
  "language_info": {
   "codemirror_mode": {
    "name": "ipython",
    "version": 3
   },
   "file_extension": ".py",
   "mimetype": "text/x-python",
   "name": "python",
   "nbconvert_exporter": "python",
   "pygments_lexer": "ipython3",
   "version": "3.6.1"
  },
  "varInspector": {
   "cols": {
    "lenName": 16,
    "lenType": 16,
    "lenVar": 40
   },
   "kernels_config": {
    "python": {
     "delete_cmd_postfix": "",
     "delete_cmd_prefix": "del ",
     "library": "var_list.py",
     "varRefreshCmd": "print(var_dic_list())"
    },
    "r": {
     "delete_cmd_postfix": ") ",
     "delete_cmd_prefix": "rm(",
     "library": "var_list.r",
     "varRefreshCmd": "cat(var_dic_list()) "
    }
   },
   "types_to_exclude": [
    "module",
    "function",
    "builtin_function_or_method",
    "instance",
    "_Feature"
   ],
   "window_display": false
  }
 },
 "nbformat": 4,
 "nbformat_minor": 2
}
