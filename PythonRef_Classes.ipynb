{
 "cells": [
  {
   "cell_type": "markdown",
   "metadata": {},
   "source": [
    "# Iteration over class attributes\n",
    "http://stackoverflow.com/questions/11371933/are-there-any-other-ways-to-iterate-through-the-attributes-of-a-custom-class-ex"
   ]
  },
  {
   "cell_type": "code",
   "execution_count": 1,
   "metadata": {},
   "outputs": [],
   "source": [
    "#Question: Can one iterate over attributes in a python class?\n",
    "class Terrain:\n",
    "    WATER = -1\n",
    "    GRASS = 0\n",
    "    HILL = 1\n",
    "    MOUNTAIN = 2"
   ]
  },
  {
   "cell_type": "code",
   "execution_count": 2,
   "metadata": {},
   "outputs": [
    {
     "name": "stdout",
     "output_type": "stream",
     "text": [
      "-1\n",
      "0\n",
      "1\n",
      "2\n"
     ]
    }
   ],
   "source": [
    "# Answer(modified)\n",
    "for key, value in Terrain.__dict__.items():\n",
    "    if not key.startswith(\"__\"):\n",
    "        print(value)"
   ]
  },
  {
   "cell_type": "markdown",
   "metadata": {},
   "source": [
    "We can even see all attributes class instances displayed as a keys of a dict."
   ]
  },
  {
   "cell_type": "code",
   "execution_count": 3,
   "metadata": {
    "collapsed": true
   },
   "outputs": [],
   "source": [
    "\n",
    "class Terrain:\n",
    "    def __init__(self):\n",
    "        self.WATER = -1\n",
    "        self.GRASS = 0\n",
    "        self.HILL = 1\n",
    "        self.MOUNTAIN = 2"
   ]
  },
  {
   "cell_type": "code",
   "execution_count": 4,
   "metadata": {},
   "outputs": [
    {
     "data": {
      "text/plain": [
       "dict_keys(['WATER', 'GRASS', 'HILL', 'MOUNTAIN'])"
      ]
     },
     "execution_count": 4,
     "metadata": {},
     "output_type": "execute_result"
    }
   ],
   "source": [
    "T = Terrain()\n",
    "T.__dict__.keys()"
   ]
  },
  {
   "cell_type": "markdown",
   "metadata": {},
   "source": [
    "# MetaClasses"
   ]
  },
  {
   "cell_type": "code",
   "execution_count": 5,
   "metadata": {},
   "outputs": [
    {
     "data": {
      "text/plain": [
       "'meta'"
      ]
     },
     "execution_count": 5,
     "metadata": {},
     "output_type": "execute_result"
    }
   ],
   "source": [
    "class Meta(object):\n",
    "    def __init__(self,name=None):\n",
    "        self.name = name\n",
    "\n",
    "my_meta_class = Meta(\"meta\")\n",
    "\n",
    "my_meta_class.name"
   ]
  },
  {
   "cell_type": "markdown",
   "metadata": {},
   "source": [
    "# The `__repr__` function"
   ]
  },
  {
   "cell_type": "code",
   "execution_count": 6,
   "metadata": {},
   "outputs": [
    {
     "data": {
      "text/plain": [
       "Acetyl"
      ]
     },
     "execution_count": 6,
     "metadata": {},
     "output_type": "execute_result"
    }
   ],
   "source": [
    "class ClassA:\n",
    "    def __init__(self,mod,dataframe):\n",
    "        self.__dict__[mod] = dataframe\n",
    "    def __repr__(self):\n",
    "        return \"\".join(list(self.__dict__.keys()))\n",
    "\n",
    "g = ClassA(\"Acetyl\",[1,1,23,4])\n",
    "g"
   ]
  },
  {
   "cell_type": "markdown",
   "metadata": {
    "collapsed": true
   },
   "source": [
    "---\n",
    "# Inheritance and Polymorphism\n",
    "- Adapted from \"Rapid GUI Programming\" by Mark Summerfeild pg.99-103"
   ]
  },
  {
   "cell_type": "code",
   "execution_count": 7,
   "metadata": {},
   "outputs": [],
   "source": [
    "class Item(object):\n",
    "    def __init__(self, artist, title, year=None): \n",
    "        self.__artist = artist \n",
    "        self.__title = title \n",
    "        self.__year = year\n",
    "        \n",
    "    def artist(self): \n",
    "        return self.__artist\n",
    "    \n",
    "    def setArtist(self, artist): \n",
    "        self.__artist = artist\n",
    "        \n",
    "    def title(self):\n",
    "        return self.__title\n",
    "    \n",
    "    def setTitle(self,title):\n",
    "        self.__title = title\n",
    "    \n",
    "    def year(self):\n",
    "        return self.__year\n",
    "    \n",
    "    def __str__(self): \n",
    "        year = \"\" \n",
    "        if self.__year is not None: \n",
    "            year = \" in %d\" % self.__year\n",
    "        return \"%s by %s%s\" % (self.__title, self.__artist, year)"
   ]
  },
  {
   "cell_type": "code",
   "execution_count": 8,
   "metadata": {},
   "outputs": [],
   "source": [
    "class Painting(Item):\n",
    "    def __init__(self, artist, title, year=None):\n",
    "        super(Painting, self).__init__(artist, title, year)"
   ]
  },
  {
   "cell_type": "code",
   "execution_count": 9,
   "metadata": {},
   "outputs": [
    {
     "name": "stdout",
     "output_type": "stream",
     "text": [
      "Time by Salvator Dali in 1928\n"
     ]
    }
   ],
   "source": [
    "it = Painting(\"Dali\",\"Time\",1928)\n",
    "it.setArtist(\"Salvator Dali\")\n",
    "print(it)"
   ]
  },
  {
   "cell_type": "code",
   "execution_count": 10,
   "metadata": {},
   "outputs": [],
   "source": [
    "class Sculpture(Item): \n",
    "    def __init__(self, artist, title, year=None, material=None): \n",
    "        super(Sculpture, self).__init__(artist, title, year) \n",
    "        self.__material = material\n",
    "    def __str__(self): \n",
    "        materialString = \"\" \n",
    "        if self.__material is not None: \n",
    "            materialString = \" (%s)\" % self.__material\n",
    "            return \"%s%s\" % (super(Sculpture, self).__str__(),materialString)"
   ]
  },
  {
   "cell_type": "code",
   "execution_count": 11,
   "metadata": {},
   "outputs": [
    {
     "data": {
      "text/plain": [
       "<__main__.Sculpture at 0x57f4160>"
      ]
     },
     "execution_count": 11,
     "metadata": {},
     "output_type": "execute_result"
    }
   ],
   "source": [
    "bird = Sculpture(\"Brancusi\",\"Bird In Space\",1921,material = \"brass\")\n",
    "bird"
   ]
  },
  {
   "cell_type": "code",
   "execution_count": 12,
   "metadata": {},
   "outputs": [
    {
     "name": "stdout",
     "output_type": "stream",
     "text": [
      "Bird In Space by Brancusi in 1921 (brass)\n"
     ]
    }
   ],
   "source": [
    "print(bird)"
   ]
  },
  {
   "cell_type": "code",
   "execution_count": 13,
   "metadata": {},
   "outputs": [],
   "source": [
    "class Title(object):\n",
    "    def __init__(self, title):\n",
    "        self.__title = title\n",
    "    def title(self): \n",
    "        return self.__title"
   ]
  },
  {
   "cell_type": "code",
   "execution_count": 14,
   "metadata": {},
   "outputs": [
    {
     "name": "stdout",
     "output_type": "stream",
     "text": [
      "The Poet\n",
      "Naked Balzac\n",
      "Eternal Springtime\n"
     ]
    }
   ],
   "source": [
    "items = []\n",
    "items.append(Painting(\"Cecil Collins\", \"The Poet\", 1941))\n",
    "items.append(Sculpture(\"Auguste Rodin\", \"Naked Balzac\", 1917, \"plaster\"))\n",
    "items.append(Title(\"Eternal Springtime\"))\n",
    "for item in items:\n",
    "    print(item.title())"
   ]
  },
  {
   "cell_type": "markdown",
   "metadata": {},
   "source": [
    "---"
   ]
  },
  {
   "cell_type": "code",
   "execution_count": 15,
   "metadata": {
    "collapsed": true
   },
   "outputs": [],
   "source": [
    "class Funzo(object):\n",
    "    def __init__(self,title=None):\n",
    "        self.__title = title\n",
    "    def title(self):\n",
    "        return self.__title"
   ]
  },
  {
   "cell_type": "code",
   "execution_count": 16,
   "metadata": {},
   "outputs": [
    {
     "data": {
      "text/plain": [
       "'Hi'"
      ]
     },
     "execution_count": 16,
     "metadata": {},
     "output_type": "execute_result"
    }
   ],
   "source": [
    "fun = Funzo(\"Hi\")\n",
    "fun.title()"
   ]
  },
  {
   "cell_type": "code",
   "execution_count": 17,
   "metadata": {},
   "outputs": [],
   "source": [
    "class BigFun(Funzo):\n",
    "    def __init__(self,title=None,num=None):\n",
    "        super(BigFun, self).__init__(title)\n",
    "        self.num = num\n",
    "        "
   ]
  },
  {
   "cell_type": "code",
   "execution_count": 18,
   "metadata": {},
   "outputs": [
    {
     "data": {
      "text/plain": [
       "'Hello'"
      ]
     },
     "execution_count": 18,
     "metadata": {},
     "output_type": "execute_result"
    }
   ],
   "source": [
    "bfun = BigFun(title = \"Hello\",num = 3)\n",
    "bfun.title()"
   ]
  },
  {
   "cell_type": "markdown",
   "metadata": {
    "collapsed": true
   },
   "source": [
    "---\n",
    "\n",
    "# Creating a subclass"
   ]
  },
  {
   "cell_type": "code",
   "execution_count": 107,
   "metadata": {},
   "outputs": [],
   "source": [
    "class NewDict(dict):\n",
    "    \n",
    "    def __init__(self, *args, **kwargs):\n",
    "        \n",
    "        dict.__init__(self, *args, **kwargs)\n",
    "        \n",
    "        # The super keyword can also be used to initialize a subclass.\n",
    "        # super(NewDict, self).__init__(*args, **kwargs)\n",
    "        \n",
    "        self._hello = 'hello'\n",
    "    \n",
    "    @property\n",
    "    def hello(self):\n",
    "        return self._hello\n",
    "    \n",
    "    def __getitem__(self, key):\n",
    "        if type(key) is str:\n",
    "            print('The value of:', key, ', is:', self.__dict__[key])\n",
    "            return  self.__dict__[key]\n",
    "            \n",
    "    \n",
    "    def __setitem__(self, key, value):\n",
    "        if type(key) is str:\n",
    "            if not hasattr(self,key):\n",
    "                self.__dict__[key] = value\n"
   ]
  },
  {
   "cell_type": "code",
   "execution_count": 108,
   "metadata": {},
   "outputs": [
    {
     "name": "stdout",
     "output_type": "stream",
     "text": [
      "The value of: hi , is: hello\n"
     ]
    },
    {
     "data": {
      "text/plain": [
       "'hello'"
      ]
     },
     "execution_count": 108,
     "metadata": {},
     "output_type": "execute_result"
    }
   ],
   "source": [
    "nd = NewDict()\n",
    "\n",
    "nd['hi'] = 'hello'\n",
    "\n",
    "nd['hi']"
   ]
  },
  {
   "cell_type": "code",
   "execution_count": 109,
   "metadata": {},
   "outputs": [
    {
     "data": {
      "text/plain": [
       "'hello'"
      ]
     },
     "execution_count": 109,
     "metadata": {},
     "output_type": "execute_result"
    }
   ],
   "source": [
    "nd.hello"
   ]
  },
  {
   "cell_type": "code",
   "execution_count": 110,
   "metadata": {},
   "outputs": [
    {
     "data": {
      "text/plain": [
       "'hello'"
      ]
     },
     "execution_count": 110,
     "metadata": {},
     "output_type": "execute_result"
    }
   ],
   "source": [
    "nd.hi"
   ]
  },
  {
   "cell_type": "code",
   "execution_count": 111,
   "metadata": {
    "scrolled": true
   },
   "outputs": [],
   "source": [
    "nd[0] = 'hello'\n",
    "nd[0]"
   ]
  },
  {
   "cell_type": "code",
   "execution_count": 62,
   "metadata": {},
   "outputs": [
    {
     "data": {
      "text/plain": [
       "<function NewDict.pop>"
      ]
     },
     "execution_count": 62,
     "metadata": {},
     "output_type": "execute_result"
    }
   ],
   "source": [
    "nd.pop"
   ]
  },
  {
   "cell_type": "code",
   "execution_count": 96,
   "metadata": {},
   "outputs": [
    {
     "data": {
      "text/plain": [
       "'hello'"
      ]
     },
     "execution_count": 96,
     "metadata": {},
     "output_type": "execute_result"
    }
   ],
   "source": [
    "d = dict()\n",
    "d[0] ='hello'\n",
    "d[0]"
   ]
  }
 ],
 "metadata": {
  "anaconda-cloud": {},
  "kernelspec": {
   "display_name": "Python 3",
   "language": "python",
   "name": "python3"
  },
  "language_info": {
   "codemirror_mode": {
    "name": "ipython",
    "version": 3
   },
   "file_extension": ".py",
   "mimetype": "text/x-python",
   "name": "python",
   "nbconvert_exporter": "python",
   "pygments_lexer": "ipython3",
   "version": "3.6.1"
  },
  "varInspector": {
   "cols": {
    "lenName": 16,
    "lenType": 16,
    "lenVar": 40
   },
   "kernels_config": {
    "python": {
     "delete_cmd_postfix": "",
     "delete_cmd_prefix": "del ",
     "library": "var_list.py",
     "varRefreshCmd": "print(var_dic_list())"
    },
    "r": {
     "delete_cmd_postfix": ") ",
     "delete_cmd_prefix": "rm(",
     "library": "var_list.r",
     "varRefreshCmd": "cat(var_dic_list()) "
    }
   },
   "types_to_exclude": [
    "module",
    "function",
    "builtin_function_or_method",
    "instance",
    "_Feature"
   ],
   "window_display": false
  }
 },
 "nbformat": 4,
 "nbformat_minor": 1
}
