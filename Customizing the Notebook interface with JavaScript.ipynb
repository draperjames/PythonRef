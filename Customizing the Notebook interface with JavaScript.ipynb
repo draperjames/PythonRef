{
 "cells": [
  {
   "cell_type": "markdown",
   "metadata": {},
   "source": [
    "## Customizing the Notebook interface with JavaScript"
   ]
  },
  {
   "cell_type": "code",
   "execution_count": 6,
   "metadata": {},
   "outputs": [
    {
     "data": {
      "application/javascript": [
       "\n",
       "// This function allows us to add buttons\n",
       "// to the Notebook toolbar.\n",
       "IPython.toolbar.add_buttons_group([\n",
       "{\n",
       "\n",
       "    // The button's label.\n",
       "    'label': 'Renumber all code cells',\n",
       "\n",
       "    // The button's icon.\n",
       "    // See a list of Font-Awesome icons here:\n",
       "    // http://fortawesome.github.io/Font-Awesome/icons/\n",
       "    'icon': 'fa-anchor',\n",
       "\n",
       "    // The callback function called when the button is pressed.\n",
       "    'callback': function () {\n",
       "\n",
       "        // We retrieve the lists of all cells.\n",
       "        var cells = IPython.notebook.get_cells();\n",
       "\n",
       "        // We only keep the code cells.\n",
       "        cells = cells.filter(function(c)\n",
       "            {\n",
       "                return c instanceof IPython.CodeCell;\n",
       "            })\n",
       "\n",
       "        // We set the input prompt of all code cells.\n",
       "        for (var i = 0; i < cells.length; i++) {\n",
       "            cells[i].set_input_prompt(i + 1);\n",
       "        }\n",
       "    }\n",
       "}]);"
      ],
      "text/plain": [
       "<IPython.core.display.Javascript object>"
      ]
     },
     "metadata": {},
     "output_type": "display_data"
    }
   ],
   "source": [
    "%%javascript\n",
    "\n",
    "// This function allows us to add buttons\n",
    "// to the Notebook toolbar.\n",
    "IPython.toolbar.add_buttons_group([\n",
    "{\n",
    "\n",
    "    // The button's label.\n",
    "    'label': 'Renumber all code cells',\n",
    "\n",
    "    // The button's icon.\n",
    "    // See a list of Font-Awesome icons here:\n",
    "    // http://fortawesome.github.io/Font-Awesome/icons/\n",
    "    'icon': 'fa-anchor',\n",
    "\n",
    "    // The callback function called when the button is pressed.\n",
    "    'callback': function () {\n",
    "\n",
    "        // We retrieve the lists of all cells.\n",
    "        var cells = IPython.notebook.get_cells();\n",
    "\n",
    "        // We only keep the code cells.\n",
    "        cells = cells.filter(function(c)\n",
    "            {\n",
    "                return c instanceof IPython.CodeCell;\n",
    "            })\n",
    "\n",
    "        // We set the input prompt of all code cells.\n",
    "        for (var i = 0; i < cells.length; i++) {\n",
    "            cells[i].set_input_prompt(i + 1);\n",
    "        }\n",
    "    }\n",
    "}]);"
   ]
  },
  {
   "cell_type": "code",
   "execution_count": 2,
   "metadata": {
    "collapsed": true
   },
   "outputs": [],
   "source": []
  }
 ],
 "metadata": {
  "kernelspec": {
   "display_name": "Python 3",
   "language": "python",
   "name": "python3"
  },
  "language_info": {
   "codemirror_mode": {
    "name": "ipython",
    "version": 3
   },
   "file_extension": ".py",
   "mimetype": "text/x-python",
   "name": "python",
   "nbconvert_exporter": "python",
   "pygments_lexer": "ipython3",
   "version": "3.6.1"
  },
  "varInspector": {
   "cols": {
    "lenName": 16,
    "lenType": 16,
    "lenVar": 40
   },
   "kernels_config": {
    "python": {
     "delete_cmd_postfix": "",
     "delete_cmd_prefix": "del ",
     "library": "var_list.py",
     "varRefreshCmd": "print(var_dic_list())"
    },
    "r": {
     "delete_cmd_postfix": ") ",
     "delete_cmd_prefix": "rm(",
     "library": "var_list.r",
     "varRefreshCmd": "cat(var_dic_list()) "
    }
   },
   "types_to_exclude": [
    "module",
    "function",
    "builtin_function_or_method",
    "instance",
    "_Feature"
   ],
   "window_display": false
  }
 },
 "nbformat": 4,
 "nbformat_minor": 1
}
