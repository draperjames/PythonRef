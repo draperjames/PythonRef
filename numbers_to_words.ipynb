{
 "cells": [
  {
   "cell_type": "code",
   "execution_count": 94,
   "metadata": {
    "collapsed": true
   },
   "outputs": [],
   "source": [
    "def int2word(num,separator=\"-\"):\n",
    "    \"\"\"\n",
    "    \"\"\"\n",
    "    num2words1 = {0: \"Zero\",1: 'One', 2: 'Two', 3: 'Three',\n",
    "              4: 'Four', 5: 'Five',6: 'Six', 7: 'Seven',\n",
    "              8: 'Eight', 9: 'Nine',10: 'Ten',11: 'Eleven',\n",
    "              12: 'Twelve', 13: 'Thirteen', 14: 'Fourteen',\n",
    "              15: 'Fifteen', 16: 'Sixteen', 17: 'Seventeen',\n",
    "              18: 'Eighteen', 19: 'Nineteen'}\n",
    "    num2words2 = {2:'Twenty', 3:'Thirty', 4:'Forty', 5:'Fifty', 6:'Sixty', 7:'Seventy', 8:'Eighty', 9:'Ninety',0:\"\"}\n",
    "\n",
    "    if 0 <= num < 19:\n",
    "        return num2words1[num]\n",
    "    elif 20 <= num <= 99:\n",
    "        tens, below_ten = divmod(num, 10)\n",
    "        if below_ten > 0:\n",
    "            words = num2words2[tens] + separator + num2words1[below_ten].lower()\n",
    "        else:\n",
    "            words = num2words2[tens]\n",
    "        return words\n",
    "    \n",
    "    elif 100<= num <= 999:\n",
    "        hundreds, below_hundred = divmod(num,100)\n",
    "        tens, below_ten = divmod(below_hundred,10)\n",
    "        if below_hundred == 0:\n",
    "            words = num2words1[hundreds]+separator+\"hundred\"\n",
    "        elif below_ten == 0:\n",
    "            words = num2words1[hundreds]+separator+\"hundred\"+separator+num2words2[tens].lower()\n",
    "        else:\n",
    "            if tens > 0:\n",
    "                words = num2words1[hundreds]+separator+\"hundred\"+separator+num2words2[tens].lower()+separator+num2words1[below_ten].lower()\n",
    "            else:\n",
    "                words = num2words1[hundreds]+separator+\"hundred\"+separator+num2words1[below_ten].lower()\n",
    "        return words\n",
    "    \n",
    "    else:\n",
    "        print(\"num out of range\")"
   ]
  },
  {
   "cell_type": "code",
   "execution_count": 134,
   "metadata": {
    "collapsed": false
   },
   "outputs": [],
   "source": [
    "def phraseWasher(phrase,number_separator = \"_\",word_separator = \" \"):\n",
    "    new_phrase = []\n",
    "    for i in phrase.split():\n",
    "        if i.isnumeric():\n",
    "            phrase_part = int2word(int(i),number_separator)\n",
    "            new_phrase.append(phrase_part)\n",
    "        else:\n",
    "            phrase_part = i\n",
    "            new_phrase.append(phrase_part)\n",
    "    washed = word_separator.join(new_phrase)\n",
    "    return washed"
   ]
  },
  {
   "cell_type": "code",
   "execution_count": 142,
   "metadata": {
    "collapsed": false
   },
   "outputs": [
    {
     "data": {
      "text/plain": [
       "'ImmediatePost'"
      ]
     },
     "execution_count": 142,
     "metadata": {},
     "output_type": "execute_result"
    }
   ],
   "source": [
    "phraseWasher(\"Immediate Post\",word_separator=\"\")"
   ]
  },
  {
   "cell_type": "code",
   "execution_count": 143,
   "metadata": {
    "collapsed": true
   },
   "outputs": [],
   "source": [
    "import numpy as np\n",
    "np.max?"
   ]
  },
  {
   "cell_type": "code",
   "execution_count": 88,
   "metadata": {
    "collapsed": false
   },
   "outputs": [],
   "source": [
    "class hey:\n",
    "    def __init__(self,stuff):\n",
    "        self.__dict__[stuff] = stuff\n",
    "    def __repr__(self):\n",
    "        return \"Attributes: \"+\", \".join(list(self.__dict__.keys()))"
   ]
  },
  {
   "cell_type": "code",
   "execution_count": 137,
   "metadata": {
    "collapsed": false
   },
   "outputs": [],
   "source": [
    "h = hey(phraseWasher(\"999 min Post\",word_separator = \"_\"))"
   ]
  },
  {
   "cell_type": "code",
   "execution_count": 138,
   "metadata": {
    "collapsed": false
   },
   "outputs": [
    {
     "data": {
      "text/plain": [
       "Attributes: Nine_hundred_ninety_nine_min_Post"
      ]
     },
     "execution_count": 138,
     "metadata": {},
     "output_type": "execute_result"
    }
   ],
   "source": [
    "h"
   ]
  },
  {
   "cell_type": "code",
   "execution_count": null,
   "metadata": {
    "collapsed": true
   },
   "outputs": [],
   "source": []
  }
 ],
 "metadata": {
  "anaconda-cloud": {},
  "kernelspec": {
   "display_name": "Python [Root]",
   "language": "python",
   "name": "Python [Root]"
  },
  "language_info": {
   "codemirror_mode": {
    "name": "ipython",
    "version": 3
   },
   "file_extension": ".py",
   "mimetype": "text/x-python",
   "name": "python",
   "nbconvert_exporter": "python",
   "pygments_lexer": "ipython3",
   "version": "3.5.2"
  }
 },
 "nbformat": 4,
 "nbformat_minor": 0
}
