{
 "cells": [
  {
   "cell_type": "code",
   "execution_count": 7,
   "metadata": {
    "collapsed": true
   },
   "outputs": [],
   "source": [
    "import re\n",
    "import string\n",
    "import pandas as pd\n",
    "import numpy as np\n",
    "from xlsxwriter.utility import xl_col_to_name"
   ]
  },
  {
   "cell_type": "code",
   "execution_count": 8,
   "metadata": {
    "collapsed": false
   },
   "outputs": [],
   "source": [
    "def randStr(length):\n",
    "    rand_str = \"\".join(np.random.choice(np.array(list(string.ascii_uppercase)),length))\n",
    "    return rand_str"
   ]
  },
  {
   "cell_type": "code",
   "execution_count": 9,
   "metadata": {
    "collapsed": false
   },
   "outputs": [],
   "source": [
    "num = 7\n",
    "column_names = [randStr(5) for i in range(num)]\n",
    "\n",
    "my_df = pd.DataFrame(np.random.rand(num,num))\n",
    "my_df.columns = column_names"
   ]
  },
  {
   "cell_type": "code",
   "execution_count": 10,
   "metadata": {
    "collapsed": false
   },
   "outputs": [
    {
     "data": {
      "text/html": [
       "<div>\n",
       "<table border=\"1\" class=\"dataframe\">\n",
       "  <thead>\n",
       "    <tr style=\"text-align: right;\">\n",
       "      <th></th>\n",
       "      <th>OSMZU</th>\n",
       "      <th>RFIZD</th>\n",
       "      <th>MJICJ</th>\n",
       "      <th>LDGJH</th>\n",
       "      <th>TXJMV</th>\n",
       "      <th>MOOCL</th>\n",
       "      <th>QIJAX</th>\n",
       "    </tr>\n",
       "  </thead>\n",
       "  <tbody>\n",
       "    <tr>\n",
       "      <th>0</th>\n",
       "      <td>0.707801</td>\n",
       "      <td>0.431912</td>\n",
       "      <td>0.311527</td>\n",
       "      <td>0.749288</td>\n",
       "      <td>0.176746</td>\n",
       "      <td>0.661225</td>\n",
       "      <td>0.171821</td>\n",
       "    </tr>\n",
       "    <tr>\n",
       "      <th>1</th>\n",
       "      <td>0.856206</td>\n",
       "      <td>0.421802</td>\n",
       "      <td>0.701306</td>\n",
       "      <td>0.357513</td>\n",
       "      <td>0.488640</td>\n",
       "      <td>0.878906</td>\n",
       "      <td>0.310176</td>\n",
       "    </tr>\n",
       "    <tr>\n",
       "      <th>2</th>\n",
       "      <td>0.441597</td>\n",
       "      <td>0.579130</td>\n",
       "      <td>0.590644</td>\n",
       "      <td>0.355610</td>\n",
       "      <td>0.760915</td>\n",
       "      <td>0.836585</td>\n",
       "      <td>0.164845</td>\n",
       "    </tr>\n",
       "    <tr>\n",
       "      <th>3</th>\n",
       "      <td>0.850957</td>\n",
       "      <td>0.510595</td>\n",
       "      <td>0.482433</td>\n",
       "      <td>0.206053</td>\n",
       "      <td>0.178119</td>\n",
       "      <td>0.852826</td>\n",
       "      <td>0.660721</td>\n",
       "    </tr>\n",
       "    <tr>\n",
       "      <th>4</th>\n",
       "      <td>0.632590</td>\n",
       "      <td>0.845504</td>\n",
       "      <td>0.232336</td>\n",
       "      <td>0.578246</td>\n",
       "      <td>0.279180</td>\n",
       "      <td>0.290978</td>\n",
       "      <td>0.196799</td>\n",
       "    </tr>\n",
       "    <tr>\n",
       "      <th>5</th>\n",
       "      <td>0.852716</td>\n",
       "      <td>0.004518</td>\n",
       "      <td>0.287152</td>\n",
       "      <td>0.119131</td>\n",
       "      <td>0.496080</td>\n",
       "      <td>0.400799</td>\n",
       "      <td>0.825146</td>\n",
       "    </tr>\n",
       "    <tr>\n",
       "      <th>6</th>\n",
       "      <td>0.960913</td>\n",
       "      <td>0.145776</td>\n",
       "      <td>0.514915</td>\n",
       "      <td>0.427011</td>\n",
       "      <td>0.891234</td>\n",
       "      <td>0.394059</td>\n",
       "      <td>0.481943</td>\n",
       "    </tr>\n",
       "  </tbody>\n",
       "</table>\n",
       "</div>"
      ],
      "text/plain": [
       "      OSMZU     RFIZD     MJICJ     LDGJH     TXJMV     MOOCL     QIJAX\n",
       "0  0.707801  0.431912  0.311527  0.749288  0.176746  0.661225  0.171821\n",
       "1  0.856206  0.421802  0.701306  0.357513  0.488640  0.878906  0.310176\n",
       "2  0.441597  0.579130  0.590644  0.355610  0.760915  0.836585  0.164845\n",
       "3  0.850957  0.510595  0.482433  0.206053  0.178119  0.852826  0.660721\n",
       "4  0.632590  0.845504  0.232336  0.578246  0.279180  0.290978  0.196799\n",
       "5  0.852716  0.004518  0.287152  0.119131  0.496080  0.400799  0.825146\n",
       "6  0.960913  0.145776  0.514915  0.427011  0.891234  0.394059  0.481943"
      ]
     },
     "execution_count": 10,
     "metadata": {},
     "output_type": "execute_result"
    }
   ],
   "source": [
    "my_df"
   ]
  },
  {
   "cell_type": "code",
   "execution_count": 11,
   "metadata": {
    "collapsed": false
   },
   "outputs": [
    {
     "data": {
      "text/plain": [
       "'A1:G8'"
      ]
     },
     "execution_count": 11,
     "metadata": {},
     "output_type": "execute_result"
    }
   ],
   "source": [
    "def spanXL(dataframe, start_index=0, row = 1):\n",
    "    first = chr(65+start_index)\n",
    "    last = xl_col_to_name(dataframe.shape[1]-1)\n",
    "    span = [first+str(row),last+str(dataframe.shape[1]+1)]\n",
    "    span = \":\".join(span)\n",
    "    return span\n",
    "spanXL(my_df)"
   ]
  },
  {
   "cell_type": "code",
   "execution_count": 12,
   "metadata": {
    "collapsed": false
   },
   "outputs": [
    {
     "data": {
      "text/plain": [
       "'A$1&G$8'"
      ]
     },
     "execution_count": 12,
     "metadata": {},
     "output_type": "execute_result"
    }
   ],
   "source": [
    "def colSpanXL(dataframe, start_index=0, row = 1):\n",
    "    span_str = spanXL(dataframe, start_index, row).replace(\":\",\"&\")\n",
    "#     span_str = re.sub(\"\\d+$\",\"1\",span_str)\n",
    "    rx = re.compile(\"(\\d.+\\D)\")\n",
    "    col_span = \"$\".join(rx.split(span_str))\n",
    "    return col_span\n",
    "\n",
    "colSpanXL(my_df)"
   ]
  },
  {
   "cell_type": "code",
   "execution_count": 13,
   "metadata": {
    "collapsed": true
   },
   "outputs": [],
   "source": [
    "def makeSearch(term,df):\n",
    "    search_str = '=SEARCH(\"{0}\",{1})'.format(term,colSpanXL(df))\n",
    "    return search_str"
   ]
  },
  {
   "cell_type": "code",
   "execution_count": 14,
   "metadata": {
    "collapsed": false
   },
   "outputs": [
    {
     "data": {
      "text/plain": [
       "'=SEARCH(\"T\",A$1&G$8)'"
      ]
     },
     "execution_count": 14,
     "metadata": {},
     "output_type": "execute_result"
    }
   ],
   "source": [
    "makeSearch(\"T\",my_df)"
   ]
  },
  {
   "cell_type": "code",
   "execution_count": 15,
   "metadata": {
    "collapsed": true
   },
   "outputs": [],
   "source": [
    "def dynFormat(format_set,workbook):\n",
    "    return workbook.add_format(format_set)"
   ]
  },
  {
   "cell_type": "code",
   "execution_count": 17,
   "metadata": {
    "collapsed": false
   },
   "outputs": [],
   "source": [
    "\n",
    "# Create a Pandas Excel writer using XlsxWriter as the engine.\n",
    "writer = pd.ExcelWriter('pandas_conditional.xlsx', engine='xlsxwriter')\n",
    "\n",
    "# Convert the dataframe to an XlsxWriter Excel object.\n",
    "my_df.to_excel(writer, sheet_name='Sheet1',index=False)\n",
    "\n",
    "# Get the xlsxwriter workbook and worksheet objects.\n",
    "workbook  = writer.book\n",
    "worksheet = writer.sheets['Sheet1']\n",
    "\n",
    "\n",
    "worksheet.conditional_format(spanXL(my_df), {'type':'formula',\n",
    "                                             'criteria': makeSearch(column_names[3],my_df),\n",
    "                                             'format': dynFormat({\"bg_color\":\"red\"},workbook)})\n",
    "\n",
    "worksheet.conditional_format(spanXL(my_df),{'type':'formula',\n",
    "                                             'criteria': makeSearch(column_names[-1],my_df),\n",
    "                                             'format':  dynFormat({\"bg_color\":\"#CCFFCC\"},workbook)})\n",
    "\n",
    "# Close the Pandas Excel writer and output the Excel file.\n",
    "writer.save()"
   ]
  },
  {
   "cell_type": "code",
   "execution_count": null,
   "metadata": {
    "collapsed": true
   },
   "outputs": [],
   "source": []
  }
 ],
 "metadata": {
  "anaconda-cloud": {},
  "kernelspec": {
   "display_name": "Python [Root]",
   "language": "python",
   "name": "Python [Root]"
  },
  "language_info": {
   "codemirror_mode": {
    "name": "ipython",
    "version": 3
   },
   "file_extension": ".py",
   "mimetype": "text/x-python",
   "name": "python",
   "nbconvert_exporter": "python",
   "pygments_lexer": "ipython3",
   "version": "3.5.2"
  }
 },
 "nbformat": 4,
 "nbformat_minor": 2
}
