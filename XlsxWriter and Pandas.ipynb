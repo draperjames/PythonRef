{
 "cells": [
  {
   "cell_type": "markdown",
   "metadata": {},
   "source": [
    "[the xlsxwriter format class](http://xlsxwriter.readthedocs.io/format.html)"
   ]
  },
  {
   "cell_type": "code",
   "execution_count": 13,
   "metadata": {
    "collapsed": true
   },
   "outputs": [],
   "source": [
    "import re\n",
    "import string\n",
    "import pandas as pd\n",
    "import numpy as np\n",
    "from xlsxwriter.utility import xl_col_to_name"
   ]
  },
  {
   "cell_type": "code",
   "execution_count": 14,
   "metadata": {
    "collapsed": false
   },
   "outputs": [],
   "source": [
    "def randStr(length):\n",
    "    rand_str = \"\".join(np.random.choice(np.array(list(string.ascii_uppercase)),length))\n",
    "    return rand_str"
   ]
  },
  {
   "cell_type": "code",
   "execution_count": 15,
   "metadata": {
    "collapsed": false
   },
   "outputs": [],
   "source": [
    "num = 7\n",
    "column_names = [randStr(5) for i in range(num)]\n",
    "\n",
    "my_df = pd.DataFrame(np.random.rand(num,num))\n",
    "my_df.columns = column_names"
   ]
  },
  {
   "cell_type": "code",
   "execution_count": 16,
   "metadata": {
    "collapsed": false
   },
   "outputs": [
    {
     "data": {
      "text/html": [
       "<div>\n",
       "<table border=\"1\" class=\"dataframe\">\n",
       "  <thead>\n",
       "    <tr style=\"text-align: right;\">\n",
       "      <th></th>\n",
       "      <th>DNQJO</th>\n",
       "      <th>ZUBSO</th>\n",
       "      <th>XPCBL</th>\n",
       "      <th>UDIMS</th>\n",
       "      <th>TKKFW</th>\n",
       "      <th>QTYNZ</th>\n",
       "      <th>STGSM</th>\n",
       "    </tr>\n",
       "  </thead>\n",
       "  <tbody>\n",
       "    <tr>\n",
       "      <th>0</th>\n",
       "      <td>0.738550</td>\n",
       "      <td>0.806423</td>\n",
       "      <td>0.721609</td>\n",
       "      <td>0.009137</td>\n",
       "      <td>0.232466</td>\n",
       "      <td>0.344570</td>\n",
       "      <td>0.503334</td>\n",
       "    </tr>\n",
       "    <tr>\n",
       "      <th>1</th>\n",
       "      <td>0.823926</td>\n",
       "      <td>0.272925</td>\n",
       "      <td>0.745531</td>\n",
       "      <td>0.438185</td>\n",
       "      <td>0.074280</td>\n",
       "      <td>0.787225</td>\n",
       "      <td>0.613182</td>\n",
       "    </tr>\n",
       "    <tr>\n",
       "      <th>2</th>\n",
       "      <td>0.739322</td>\n",
       "      <td>0.613388</td>\n",
       "      <td>0.840418</td>\n",
       "      <td>0.219731</td>\n",
       "      <td>0.164606</td>\n",
       "      <td>0.913096</td>\n",
       "      <td>0.325501</td>\n",
       "    </tr>\n",
       "    <tr>\n",
       "      <th>3</th>\n",
       "      <td>0.834222</td>\n",
       "      <td>0.881382</td>\n",
       "      <td>0.750082</td>\n",
       "      <td>0.717050</td>\n",
       "      <td>0.398981</td>\n",
       "      <td>0.253958</td>\n",
       "      <td>0.661224</td>\n",
       "    </tr>\n",
       "    <tr>\n",
       "      <th>4</th>\n",
       "      <td>0.419692</td>\n",
       "      <td>0.729984</td>\n",
       "      <td>0.371482</td>\n",
       "      <td>0.882860</td>\n",
       "      <td>0.505222</td>\n",
       "      <td>0.230476</td>\n",
       "      <td>0.675753</td>\n",
       "    </tr>\n",
       "    <tr>\n",
       "      <th>5</th>\n",
       "      <td>0.194444</td>\n",
       "      <td>0.416651</td>\n",
       "      <td>0.937145</td>\n",
       "      <td>0.468166</td>\n",
       "      <td>0.038413</td>\n",
       "      <td>0.991290</td>\n",
       "      <td>0.399311</td>\n",
       "    </tr>\n",
       "    <tr>\n",
       "      <th>6</th>\n",
       "      <td>0.216236</td>\n",
       "      <td>0.580901</td>\n",
       "      <td>0.338051</td>\n",
       "      <td>0.248347</td>\n",
       "      <td>0.452993</td>\n",
       "      <td>0.972451</td>\n",
       "      <td>0.732663</td>\n",
       "    </tr>\n",
       "  </tbody>\n",
       "</table>\n",
       "</div>"
      ],
      "text/plain": [
       "      DNQJO     ZUBSO     XPCBL     UDIMS     TKKFW     QTYNZ     STGSM\n",
       "0  0.738550  0.806423  0.721609  0.009137  0.232466  0.344570  0.503334\n",
       "1  0.823926  0.272925  0.745531  0.438185  0.074280  0.787225  0.613182\n",
       "2  0.739322  0.613388  0.840418  0.219731  0.164606  0.913096  0.325501\n",
       "3  0.834222  0.881382  0.750082  0.717050  0.398981  0.253958  0.661224\n",
       "4  0.419692  0.729984  0.371482  0.882860  0.505222  0.230476  0.675753\n",
       "5  0.194444  0.416651  0.937145  0.468166  0.038413  0.991290  0.399311\n",
       "6  0.216236  0.580901  0.338051  0.248347  0.452993  0.972451  0.732663"
      ]
     },
     "execution_count": 16,
     "metadata": {},
     "output_type": "execute_result"
    }
   ],
   "source": [
    "my_df"
   ]
  },
  {
   "cell_type": "code",
   "execution_count": 17,
   "metadata": {
    "collapsed": false
   },
   "outputs": [
    {
     "data": {
      "text/plain": [
       "'A1:G8'"
      ]
     },
     "execution_count": 17,
     "metadata": {},
     "output_type": "execute_result"
    }
   ],
   "source": [
    "def spanXL(dataframe, start_index=0, row = 1):\n",
    "    first = chr(65+start_index)\n",
    "    last = xl_col_to_name(dataframe.shape[1]-1)\n",
    "    span = [first+str(row),last+str(dataframe.shape[1]+1)]\n",
    "    span = \":\".join(span)\n",
    "    return span\n",
    "spanXL(my_df)"
   ]
  },
  {
   "cell_type": "code",
   "execution_count": 18,
   "metadata": {
    "collapsed": false
   },
   "outputs": [
    {
     "data": {
      "text/plain": [
       "'A$1&G$8'"
      ]
     },
     "execution_count": 18,
     "metadata": {},
     "output_type": "execute_result"
    }
   ],
   "source": [
    "def colSpanXL(dataframe, start_index=0, row = 1):\n",
    "    span_str = spanXL(dataframe, start_index, row).replace(\":\",\"&\")\n",
    "#     span_str = re.sub(\"\\d+$\",\"1\",span_str)\n",
    "    rx = re.compile(\"(\\d.+\\D)\")\n",
    "    col_span = \"$\".join(rx.split(span_str))\n",
    "    return col_span\n",
    "\n",
    "colSpanXL(my_df)"
   ]
  },
  {
   "cell_type": "code",
   "execution_count": 19,
   "metadata": {
    "collapsed": true
   },
   "outputs": [],
   "source": [
    "def makeSearch(term,df):\n",
    "    search_str = '=SEARCH(\"{0}\",{1})'.format(term,colSpanXL(df))\n",
    "    return search_str"
   ]
  },
  {
   "cell_type": "code",
   "execution_count": 20,
   "metadata": {
    "collapsed": false
   },
   "outputs": [
    {
     "data": {
      "text/plain": [
       "'=SEARCH(\"T\",A$1&G$8)'"
      ]
     },
     "execution_count": 20,
     "metadata": {},
     "output_type": "execute_result"
    }
   ],
   "source": [
    "makeSearch(\"T\",my_df)"
   ]
  },
  {
   "cell_type": "code",
   "execution_count": 21,
   "metadata": {
    "collapsed": true
   },
   "outputs": [],
   "source": [
    "def criteriaXL(term,df,xl_fun=\"SEARCH\"):\n",
    "    \n",
    "    xl_fun = xl_fun.upper()\n",
    "    \n",
    "    if not xl_fun.startswith(\"=\"):\n",
    "        xl_fun = \"=\"+xl_fun\n",
    "        \n",
    "    \n",
    "    fun_str = xl_fun+'(\"{0}\",{1})'.format(term,colSpanXL(df))\n",
    "    return fun_str"
   ]
  },
  {
   "cell_type": "code",
   "execution_count": 22,
   "metadata": {
    "collapsed": false
   },
   "outputs": [
    {
     "data": {
      "text/plain": [
       "'=SEARCH(\"acetyl\",A$1&G$8)'"
      ]
     },
     "execution_count": 22,
     "metadata": {},
     "output_type": "execute_result"
    }
   ],
   "source": [
    "criteriaXL(\"acetyl\",my_df)"
   ]
  },
  {
   "cell_type": "code",
   "execution_count": 23,
   "metadata": {
    "collapsed": true
   },
   "outputs": [],
   "source": [
    "def dynFormat(format_set,workbook):\n",
    "    return workbook.add_format(format_set)"
   ]
  },
  {
   "cell_type": "code",
   "execution_count": 26,
   "metadata": {
    "collapsed": false
   },
   "outputs": [],
   "source": [
    "\n",
    "# Create a Pandas Excel writer using XlsxWriter as the engine.\n",
    "writer = pd.ExcelWriter('pandas_conditional.xlsx', engine='xlsxwriter')\n",
    "\n",
    "# Convert the dataframe to an XlsxWriter Excel object.\n",
    "my_df.to_excel(writer, sheet_name='Sheet1',index=False)\n",
    "\n",
    "# Get the xlsxwriter workbook and worksheet objects.\n",
    "workbook  = writer.book\n",
    "worksheet = writer.sheets['Sheet1']\n",
    "\n",
    "\n",
    "worksheet.conditional_format(spanXL(my_df), {'type':'formula',\n",
    "                                             'criteria': makeSearch(column_names[3],my_df),\n",
    "                                             'format': dynFormat({\"bg_color\":\"PeachPuff\"},workbook)})\n",
    "\n",
    "worksheet.conditional_format(spanXL(my_df),{'type':'formula',\n",
    "                                             'criteria': makeSearch(column_names[-1],my_df),\n",
    "                                             'format':  dynFormat({\"bg_color\":\"orange\"},workbook)})\n",
    "\n",
    "# Close the Pandas Excel writer and output the Excel file.\n",
    "writer.save()"
   ]
  },
  {
   "cell_type": "code",
   "execution_count": null,
   "metadata": {
    "collapsed": true
   },
   "outputs": [],
   "source": []
  }
 ],
 "metadata": {
  "anaconda-cloud": {},
  "kernelspec": {
   "display_name": "Python [Root]",
   "language": "python",
   "name": "Python [Root]"
  },
  "language_info": {
   "codemirror_mode": {
    "name": "ipython",
    "version": 3
   },
   "file_extension": ".py",
   "mimetype": "text/x-python",
   "name": "python",
   "nbconvert_exporter": "python",
   "pygments_lexer": "ipython3",
   "version": "3.5.2"
  }
 },
 "nbformat": 4,
 "nbformat_minor": 2
}
