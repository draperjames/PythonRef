{
 "cells": [
  {
   "cell_type": "markdown",
   "metadata": {},
   "source": [
    "- [convert js to coffeescript](http://js2.coffee/)    \n",
    "- [The Little Book on CoffeeScript](http://arcturo.github.io/library/coffeescript/index.html)\n",
    "- [jp-coffeescript a jupyter notebook kernel for coffeescript](https://github.com/n-riesco/jp-coffeescript)\n",
    "- [jp-coffee script windows install issue](https://github.com/n-riesco/jp-coffeescript/issues/7)\n",
    "()"
   ]
  },
  {
   "cell_type": "markdown",
   "metadata": {
    "collapsed": true
   },
   "source": [
    "[hello](http://js2.coffee/)\n"
   ]
  },
  {
   "cell_type": "code",
   "execution_count": 1,
   "metadata": {
    "collapsed": false
   },
   "outputs": [
    {
     "data": {
      "text/plain": [
       "'hello'"
      ]
     },
     "execution_count": 1,
     "metadata": {},
     "output_type": "execute_result"
    }
   ],
   "source": [
    "hello=\"hello\";"
   ]
  }
 ],
 "metadata": {
  "anaconda-cloud": {},
  "kernelspec": {
   "display_name": "Javascript (Node.js)",
   "language": "javascript",
   "name": "javascript"
  },
  "language_info": {
   "file_extension": ".js",
   "mimetype": "application/javascript",
   "name": "javascript",
   "version": "4.4.1"
  }
 },
 "nbformat": 4,
 "nbformat_minor": 2
}
