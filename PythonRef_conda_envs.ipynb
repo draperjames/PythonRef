{
 "cells": [
  {
   "cell_type": "markdown",
   "metadata": {},
   "source": [
    "# Use all the pythons with Anaconda envs"
   ]
  },
  {
   "cell_type": "markdown",
   "metadata": {},
   "source": [
    "If you don't have anaconda installed go ahead and [install it now](https://www.continuum.io/downloads). I recommend installing with Python 3.x some people are still trapped in the past and insist on using Python 2.7 for their projects. Hopefully after this post you'll be able to easily use whichever flavor of python you want.\n",
    "\n",
    "Once you have installed anaconda you can create multiple environments(envs) to test and use a python distribution of your choice. To create a Python 2.7 env run the command below in cmd.exe in windows or terminal for mac users.\n",
    "\n",
    "```\n",
    "conda create -n py27 python=2.7\n",
    "```\n",
    "\n",
    "Now you can use anaconda to install specific packages into that env.\n",
    "```\n",
    "conda install -n py27 pyqt=4\n",
    "```\n",
    "\n",
    "To use your new python env run\n",
    "```\n",
    "activate py27\n",
    "```\n",
    "Now you can run all the Python 2.7 scripts through the command prompt. When you want to back to your root env run;\n",
    "```\n",
    "deactivate\n",
    "```\n",
    "\n",
    "So thats pretty much all there is to it."
   ]
  },
  {
   "cell_type": "code",
   "execution_count": null,
   "metadata": {
    "collapsed": true
   },
   "outputs": [],
   "source": []
  }
 ],
 "metadata": {
  "anaconda-cloud": {},
  "kernelspec": {
   "display_name": "Python [Root]",
   "language": "python",
   "name": "Python [Root]"
  },
  "language_info": {
   "codemirror_mode": {
    "name": "ipython",
    "version": 3
   },
   "file_extension": ".py",
   "mimetype": "text/x-python",
   "name": "python",
   "nbconvert_exporter": "python",
   "pygments_lexer": "ipython3",
   "version": "3.5.2"
  }
 },
 "nbformat": 4,
 "nbformat_minor": 2
}
