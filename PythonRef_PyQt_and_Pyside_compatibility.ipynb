{
 "cells": [
  {
   "cell_type": "markdown",
   "metadata": {},
   "source": [
    "# What I'm Running"
   ]
  },
  {
   "cell_type": "code",
   "execution_count": 2,
   "metadata": {
    "collapsed": false
   },
   "outputs": [
    {
     "data": {
      "text/plain": [
       "'3.5.2 |Anaconda 4.1.1 (64-bit)| (default, Jul  5 2016, 11:41:13) [MSC v.1900 64 bit (AMD64)]'"
      ]
     },
     "execution_count": 2,
     "metadata": {},
     "output_type": "execute_result"
    }
   ],
   "source": [
    "import sys\n",
    "sys.version"
   ]
  },
  {
   "cell_type": "code",
   "execution_count": 3,
   "metadata": {
    "collapsed": false
   },
   "outputs": [
    {
     "name": "stdout",
     "output_type": "stream",
     "text": [
      "# packages in environment at C:\\Anaconda3:\n",
      "#\n",
      "pyqt                      4.11.4                   py35_7  \n",
      "pyqtdeploy                1.3.1                     <pip>\n"
     ]
    }
   ],
   "source": [
    "!conda list pyqt"
   ]
  },
  {
   "cell_type": "markdown",
   "metadata": {},
   "source": [
    "### UPDATE: \n",
    "- Have multiple envs installed through Anaconda, and each of these envs has a unique PySide/PyQt/Qt.py rig-out to test different applications in. Now if you launch  jupyter notebook from a command prompt in a specific env jupyter will let you open notebook in different env kernels BUT jupyter will stick with the PySide/PyQt version of the command prompt you launched out even though you have whatever version of PySide/PyQt installed specifically for that env... It was irritating to figure all this out so hopefully you dear read may benefit from my struggles. "
   ]
  },
  {
   "cell_type": "markdown",
   "metadata": {},
   "source": [
    "# Let's compare the location of submodules in `PyQt4` vs `qtpy`"
   ]
  },
  {
   "cell_type": "markdown",
   "metadata": {},
   "source": [
    "## PyQt4"
   ]
  },
  {
   "cell_type": "code",
   "execution_count": 3,
   "metadata": {
    "collapsed": false
   },
   "outputs": [
    {
     "name": "stdout",
     "output_type": "stream",
     "text": [
      "QtGui Objects: 373\n",
      "QtCore Objects: 213\n",
      "total: 586\n"
     ]
    }
   ],
   "source": [
    "from PyQt4 import QtCore\n",
    "from PyQt4 import QtGui\n",
    "\n",
    "print(\"QtGui Objects:\",len(dir(QtGui)))\n",
    "print(\"QtCore Objects:\",len(dir(QtCore)))\n",
    "print(\"total:\",len(dir(QtGui))+len(dir(QtCore)))"
   ]
  },
  {
   "cell_type": "code",
   "execution_count": 4,
   "metadata": {
    "collapsed": false
   },
   "outputs": [
    {
     "name": "stdout",
     "output_type": "stream",
     "text": [
      "QtGui.QRegExpValidator: True\n",
      "QtGui.QAbstractSpinBox True\n"
     ]
    }
   ],
   "source": [
    "print(\"QtGui.QRegExpValidator:\",\"QRegExpValidator\" in dir(QtGui))\n",
    "print(\"QtGui.QAbstractSpinBox\",\"QAbstractSpinBox\" in dir(QtGui))\n",
    "# print(\"QtWidgets.QRegExpValidator:\",\"QRegExpValidator\" in dir(QtWidgets))\n",
    "# print(\"QtWidgets.QAbstractSpinBox\",\"QAbstractSpinBox\" in dir(QtWidgets))"
   ]
  },
  {
   "cell_type": "markdown",
   "metadata": {},
   "source": [
    "## qtpy"
   ]
  },
  {
   "cell_type": "code",
   "execution_count": 5,
   "metadata": {
    "collapsed": false
   },
   "outputs": [
    {
     "name": "stdout",
     "output_type": "stream",
     "text": [
      "QtGui Objects: 142\n",
      "QtCore Objects: 222\n",
      "QtWidgets Objects: 237\n",
      "QtGui + QtWidgets: 379\n",
      "total: 601\n"
     ]
    }
   ],
   "source": [
    "from qtpy import QtWidgets, QtGui, QtCore\n",
    "\n",
    "print(\"QtGui Objects:\",len(dir(QtGui)))\n",
    "print(\"QtCore Objects:\",len(dir(QtCore)))\n",
    "print(\"QtWidgets Objects:\",len(dir(QtWidgets)))\n",
    "print(\"QtGui + QtWidgets:\",len(dir(QtGui))+len(dir(QtWidgets)))\n",
    "print(\"total:\",len(dir(QtGui))+len(dir(QtCore))+len(dir(QtWidgets)))"
   ]
  },
  {
   "cell_type": "code",
   "execution_count": 6,
   "metadata": {
    "collapsed": false
   },
   "outputs": [
    {
     "name": "stdout",
     "output_type": "stream",
     "text": [
      "QtGui.QRegExpValidator: True\n",
      "QtGui.QAbstractSpinBox: False\n",
      "QtWidgets.QRegExpValidator: False\n",
      "QtWidgets.QAbstractSpinBox True\n"
     ]
    }
   ],
   "source": [
    "print(\"QtGui.QRegExpValidator:\",\"QRegExpValidator\" in dir(QtGui))\n",
    "print(\"QtGui.QAbstractSpinBox:\",\"QAbstractSpinBox\" in dir(QtGui))\n",
    "print(\"QtWidgets.QRegExpValidator:\",\"QRegExpValidator\" in dir(QtWidgets))\n",
    "print(\"QtWidgets.QAbstractSpinBox\",\"QAbstractSpinBox\" in dir(QtWidgets))"
   ]
  },
  {
   "cell_type": "markdown",
   "metadata": {},
   "source": [
    "# Problem: Submodules have moved around\n",
    "\n",
    "# Solution: Loop through and add missing submodules to `QtGui` and `QtWidgets` to *brute force* compatibility.\n",
    "\n",
    "- Inspired from [@mottosso's comment on the qtpy issues.](https://github.com/mottosso/Qt.py/issues/)\n",
    "```\n",
    "from PyQt5 import QtWidgets as _QtWidgets\n",
    "QtWidgets = types.ModuleType(\"QtWidgets\")\n",
    "QtWidgets.QAbstractItemList = _QtWidgets.QAbstractItemList\n",
    "QtWidgets.QPushButton = _QtWidgets.QPushButton\n",
    "```"
   ]
  },
  {
   "cell_type": "code",
   "execution_count": 7,
   "metadata": {
    "collapsed": false
   },
   "outputs": [],
   "source": [
    "import qtpy.QtGui as QtGui\n",
    "import qtpy.QtWidgets as QtWidgets\n",
    "import qtpy.QtCore as QtCore\n",
    "\n",
    "from qtpy.QtCore import (Signal, Slot, Qt)\n",
    "\n",
    "# QtGui compatility\n",
    "for sub_mod in dir(QtWidgets):\n",
    "    QtGui.__dict__[sub_mod] = QtWidgets.__dict__[sub_mod]\n",
    "    \n",
    "for sub_mod in dir(QtGui):\n",
    "    QtWidgets.__dict__[sub_mod] = QtGui.__dict__[sub_mod]"
   ]
  },
  {
   "cell_type": "code",
   "execution_count": 10,
   "metadata": {
    "collapsed": false
   },
   "outputs": [
    {
     "name": "stdout",
     "output_type": "stream",
     "text": [
      "QtGui Objects: 367\n",
      "QtCore Objects: 222\n",
      "QtWidgets Objects: 367\n",
      "total: 956\n"
     ]
    }
   ],
   "source": [
    "print(\"QtGui Objects:\",len(dir(QtGui)))\n",
    "print(\"QtCore Objects:\",len(dir(QtCore)))\n",
    "print(\"QtWidgets Objects:\",len(dir(QtWidgets)))\n",
    "# print(\"QtGui + QtWidgets:\",len(dir(QtGui))+len(dir(QtWidgets)))\n",
    "print(\"total:\",len(dir(QtGui))+len(dir(QtCore))+len(dir(QtWidgets)))"
   ]
  },
  {
   "cell_type": "code",
   "execution_count": 11,
   "metadata": {
    "collapsed": false
   },
   "outputs": [
    {
     "name": "stdout",
     "output_type": "stream",
     "text": [
      "QtGui.QRegExpValidator: True\n",
      "QtGui.QAbstractSpinBox: True\n",
      "QtWidgets.QRegExpValidator: True\n",
      "QtWidgets.QAbstractSpinBox True\n"
     ]
    }
   ],
   "source": [
    "print(\"QtGui.QRegExpValidator:\",\"QRegExpValidator\" in dir(QtGui))\n",
    "print(\"QtGui.QAbstractSpinBox:\",\"QAbstractSpinBox\" in dir(QtGui))\n",
    "print(\"QtWidgets.QRegExpValidator:\",\"QRegExpValidator\" in dir(QtWidgets))\n",
    "print(\"QtWidgets.QAbstractSpinBox\",\"QAbstractSpinBox\" in dir(QtWidgets))"
   ]
  },
  {
   "cell_type": "markdown",
   "metadata": {},
   "source": [
    "---\n",
    "# `Qt.py` vs `pyqt`"
   ]
  },
  {
   "cell_type": "code",
   "execution_count": 1,
   "metadata": {
    "collapsed": false
   },
   "outputs": [
    {
     "name": "stdout",
     "output_type": "stream",
     "text": [
      "QtGui Objects: 373\n",
      "QtCore Objects: 221\n",
      "QtWidgets Objects: 373\n",
      "QtGui + QtWidgets: 746\n",
      "total: 967\n"
     ]
    }
   ],
   "source": [
    "from Qt import QtWidgets, QtGui, QtCore\n",
    "\n",
    "print(\"QtGui Objects:\",len(dir(QtGui)))\n",
    "print(\"QtCore Objects:\",len(dir(QtCore)))\n",
    "print(\"QtWidgets Objects:\",len(dir(QtWidgets)))\n",
    "print(\"QtGui + QtWidgets:\",len(dir(QtGui))+len(dir(QtWidgets)))\n",
    "print(\"total:\",len(dir(QtGui))+len(dir(QtCore))+len(dir(QtWidgets)))"
   ]
  },
  {
   "cell_type": "code",
   "execution_count": 1,
   "metadata": {
    "collapsed": false
   },
   "outputs": [
    {
     "name": "stdout",
     "output_type": "stream",
     "text": [
      "QtGui Objects: 142\n",
      "QtCore Objects: 222\n",
      "QtWidgets Objects: 237\n",
      "QtGui + QtWidgets: 379\n",
      "total: 601\n"
     ]
    }
   ],
   "source": [
    "from qtpy import QtWidgets, QtGui, QtCore\n",
    "\n",
    "print(\"QtGui Objects:\",len(dir(QtGui)))\n",
    "print(\"QtCore Objects:\",len(dir(QtCore)))\n",
    "print(\"QtWidgets Objects:\",len(dir(QtWidgets)))\n",
    "print(\"QtGui + QtWidgets:\",len(dir(QtGui))+len(dir(QtWidgets)))\n",
    "print(\"total:\",len(dir(QtGui))+len(dir(QtCore))+len(dir(QtWidgets)))"
   ]
  },
  {
   "cell_type": "code",
   "execution_count": null,
   "metadata": {
    "collapsed": true
   },
   "outputs": [],
   "source": []
  }
 ],
 "metadata": {
  "anaconda-cloud": {},
  "kernelspec": {
   "display_name": "Python [Root]",
   "language": "python",
   "name": "Python [Root]"
  },
  "language_info": {
   "codemirror_mode": {
    "name": "ipython",
    "version": 3
   },
   "file_extension": ".py",
   "mimetype": "text/x-python",
   "name": "python",
   "nbconvert_exporter": "python",
   "pygments_lexer": "ipython3",
   "version": "3.5.2"
  }
 },
 "nbformat": 4,
 "nbformat_minor": 2
}
