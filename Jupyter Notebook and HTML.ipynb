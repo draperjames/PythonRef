{
 "cells": [
  {
   "cell_type": "code",
   "execution_count": 1,
   "metadata": {
    "collapsed": false
   },
   "outputs": [
    {
     "data": {
      "text/html": [
       "<h1>Printing HTML From Cells</h1>"
      ],
      "text/plain": [
       "<IPython.core.display.HTML object>"
      ]
     },
     "metadata": {},
     "output_type": "display_data"
    }
   ],
   "source": [
    "from IPython.core.display import display, HTML\n",
    "display(HTML(\"<h1>Printing HTML From Cells</h1>\"))"
   ]
  },
  {
   "cell_type": "code",
   "execution_count": 2,
   "metadata": {
    "collapsed": false
   },
   "outputs": [
    {
     "data": {
      "text/html": [
       "<h2>And make it look easy with a lambda funtion</h2>"
      ],
      "text/plain": [
       "<IPython.core.display.HTML object>"
      ]
     },
     "metadata": {},
     "output_type": "display_data"
    }
   ],
   "source": [
    "print_html = lambda x:display(HTML(x))\n",
    "print_html(\"<h2>And make it look easy with a lambda funtion</h2>\")"
   ]
  },
  {
   "cell_type": "code",
   "execution_count": 3,
   "metadata": {
    "collapsed": true
   },
   "outputs": [],
   "source": [
    "## Just copy and paste this cell into you jupyter notebook \n",
    "\n",
    "from IPython.core.display import display, HTML\n",
    "print_html = lambda x:display(HTML(x))"
   ]
  },
  {
   "cell_type": "markdown",
   "metadata": {},
   "source": [
    "---"
   ]
  },
  {
   "cell_type": "code",
   "execution_count": 10,
   "metadata": {
    "collapsed": true
   },
   "outputs": [],
   "source": [
    "from IPython.core.display import Markdown\n",
    "print_md = lambda x:Markdown(x)"
   ]
  },
  {
   "cell_type": "code",
   "execution_count": 14,
   "metadata": {
    "collapsed": false
   },
   "outputs": [
    {
     "data": {
      "text/markdown": [
       "# Using IPython to print to markdown."
      ],
      "text/plain": [
       "<IPython.core.display.Markdown object>"
      ]
     },
     "execution_count": 14,
     "metadata": {},
     "output_type": "execute_result"
    }
   ],
   "source": [
    "print_md(\"# Using IPython to print to markdown.\")"
   ]
  },
  {
   "cell_type": "markdown",
   "metadata": {},
   "source": [
    "---"
   ]
  },
  {
   "cell_type": "markdown",
   "metadata": {},
   "source": [
    "# Some HTML/CSS/JavaScipt Resources\n",
    "- [w3schools](http://www.w3schools.com)\n",
    "- [codepen](http://codepen.io)"
   ]
  },
  {
   "cell_type": "markdown",
   "metadata": {},
   "source": [
    "---"
   ]
  },
  {
   "cell_type": "markdown",
   "metadata": {},
   "source": [
    "# Let's create some functions for easy formating python output as HTML "
   ]
  },
  {
   "cell_type": "code",
   "execution_count": 4,
   "metadata": {
    "collapsed": true
   },
   "outputs": [],
   "source": [
    "def htmlTagGen(tag, style=None, mod = None):\n",
    "    \n",
    "    mod = mod or \"style\"\n",
    "    \n",
    "    if not tag.startswith(\"<\"):\n",
    "        tag = \"<{}>\".format(tag)\n",
    "        \n",
    "    close_tag = tag.replace(\"<\",\"</\")\n",
    "    \n",
    "    if style is not None:\n",
    "        mod = \" {} =\".format(mod)\n",
    "        style = mod+\"\\'{}\\'\".format(style)\n",
    "    \n",
    "    else:\n",
    "        style = \"\"\n",
    "    \n",
    "    style_tag = tag.replace(\">\",style+\">\")\n",
    "    \n",
    "    return style_tag,close_tag\n",
    "\n",
    "def seqTagInject(seq, ind, tag=None, style=None):\n",
    "    tag= tag or \"span\"\n",
    "    style_tag,close_tag = htmlTagGen(tag,style)\n",
    "    tags = style_tag+\"{}\"+close_tag\n",
    "    seq_list = list(seq)\n",
    "    for i in ind:\n",
    "        seq_list[i] = tags.format(seq_list[i])\n",
    "    return \"\".join(seq_list)\n",
    "    "
   ]
  },
  {
   "cell_type": "code",
   "execution_count": 5,
   "metadata": {
    "collapsed": false
   },
   "outputs": [
    {
     "data": {
      "text/html": [
       "<div style ='background:cornsilk;border-radius:10px;padding:5px;box-shadow: 0 4px 8px 0 rgba(0, 0, 0, 0.2), 0 6px 20px 0 rgba(0, 0, 0, 0.19);'><h2>hello!</h2></div>"
      ],
      "text/plain": [
       "<IPython.core.display.HTML object>"
      ]
     },
     "metadata": {},
     "output_type": "display_data"
    }
   ],
   "source": [
    "round_courner = \"\"\"\n",
    "<div style = \"background:cornsilk;border-radius:10px;padding:5px;box-shadow: 0 4px 8px 0 rgba(0, 0, 0, 0.2), 0 6px 20px 0 rgba(0, 0, 0, 0.19);\">\n",
    "{}\n",
    "</div>\"\"\" \n",
    "\n",
    "my_div = [\"background:cornsilk;\",\n",
    " \"border-radius:10px;\",\n",
    " \"padding:5px;\",\n",
    " \"box-shadow: 0 4px 8px 0 rgba(0, 0, 0, 0.2), 0 6px 20px 0 rgba(0, 0, 0, 0.19);\",\n",
    "]\n",
    "\n",
    "my_div = ''.join(my_div)\n",
    "\n",
    "start_tag, close_tag = htmlTagGen(\"div\",style=my_div)\n",
    "\n",
    "section = \"{}\".join([start_tag,close_tag])\n",
    "\n",
    "section = section.format(\"<h2>hello!</h2>\")\n",
    "\n",
    "print_html(section)"
   ]
  },
  {
   "cell_type": "markdown",
   "metadata": {},
   "source": [
    "---"
   ]
  },
  {
   "cell_type": "code",
   "execution_count": 16,
   "metadata": {
    "collapsed": false,
    "scrolled": true
   },
   "outputs": [
    {
     "data": {
      "text/html": [
       "\n",
       "<script>\n",
       "$(document).ready(function () {\n",
       "  //can also be wrapped with:\n",
       "  //1. $(function () {...});\n",
       "  //2. $(window).load(function () {...});\n",
       "  //3. Or your own custom named function block.\n",
       "  //It's better to wrap it.\n",
       "\n",
       "  //Tooltip, activated by hover event\n",
       "  $(\"body\").tooltip({   \n",
       "    selector: \"[data-toggle='tooltip']\",\n",
       "    container: \"body\"\n",
       "  })\n",
       "    //Popover, activated by clicking\n",
       "    .popover({\n",
       "    selector: \"[data-toggle='popover']\",\n",
       "    container: \"body\",\n",
       "    html: true\n",
       "  });\n",
       "  //They can be chained like the example above (when using the same selector).\n",
       "  \n",
       "});\n",
       "</script>\n",
       "\n",
       "<style>\n",
       "body {\n",
       "  background: #eee;\n",
       "  min-height: 520px;\n",
       "}\n",
       "\n",
       "body,\n",
       "h1,\n",
       "h2,\n",
       "h3,\n",
       "h4,\n",
       "div,\n",
       "button {\n",
       "  font-family: consolas, courier, monaco, menlo, monospace;\n",
       "}\n",
       "\n",
       ".ole,\n",
       ".elo {\n",
       "  background: rgb(200,240,255);\n",
       "  padding: 6px 36px;\n",
       "  display: inline-block;\n",
       "  font-size: 1.2em;\n",
       "  border-radius: 4px;\n",
       "  border:0;\n",
       "  cursor: pointer;\n",
       "  color: #000;\n",
       "}\n",
       "\n",
       ".ct {\n",
       "  text-align: center\n",
       "}\n",
       "\n",
       ".two {\n",
       "  background: rgb(180,220,255);\n",
       "}\n",
       "\n",
       ".three {\n",
       "  background: rgb(160,200,255);\n",
       "}\n",
       "\n",
       ".four {\n",
       "  background: rgb(140,180,255);\n",
       "}\n",
       "\n",
       ".ole:hover,\n",
       ".elo:hover {\n",
       "  background: dodgerblue;\n",
       "  color: #fff;\n",
       "  text-shadow: 1px 1px 1px #000;\n",
       "  box-shadow: 0 0 0 #555;\n",
       "}\n",
       "\n",
       ".multiple_elements {\n",
       "  padding: 30px 0 10px 0;\n",
       "  text-align: center;\n",
       "}\n",
       "\n",
       "/*customizing tooltip color*/\n",
       "/*right tooltip*/\n",
       ".tooltip.right > .tooltip-arrow {\n",
       "  border-right-color: dodgerblue;\n",
       "}\n",
       "\n",
       "/*bottom tooltip*/\n",
       ".tooltip.bottom > .tooltip-arrow {\n",
       "  border-bottom-color: dodgerblue;\n",
       "}\n",
       "\n",
       "/*top tooltip*/\n",
       ".tooltip.top > .tooltip-arrow {\n",
       "  border-top-color: dodgerblue;\n",
       "}\n",
       "\n",
       "/*left tooltip*/\n",
       ".tooltip.left > .tooltip-arrow {\n",
       "  border-left-color: dodgerblue;\n",
       "}\n",
       "\n",
       "/*tooltip inner*/\n",
       ".tooltip > .tooltip-inner {\n",
       "  background-color: dodgerblue;\n",
       "  text-shadow: 0 1px 1px #000;\n",
       "  font-weight: normal;\n",
       "}\n",
       "\n",
       "code {\n",
       "  color: royalblue;\n",
       "  background-color: azure;\n",
       "}\n",
       "\n",
       "@media (max-width:640px) {\n",
       "  .ole,\n",
       "  .elo {\n",
       "    padding: 6px 12px;\n",
       "    font-size: 12px;\n",
       "  }\n",
       "}\n",
       "</style>\n",
       "\n",
       "\n",
       "\n",
       "<div class=\"multiple_elements\">\n",
       "\n",
       "<h2>POPOVER</h2>\n",
       "<div class=\"ct\"><small>Click/tap the element to toggle the popover</small></div>\n",
       "\n",
       "<div class=\"btn-group\">\n",
       "<button type=\"button\" class=\"btn btn-primary elo four\" data-toggle=\"popover\" data-placement=\"left\" data-original-title=\"LEFT POPOVER\" data-content=\"The paragraph within the popover is using <code>data-content</code> attribute.\">\n",
       "  ELO\n",
       "</button>\n",
       "\n",
       "<button type=\"button\" class=\"btn btn-primary elo three\" data-toggle=\"popover\" data-placement=\"top\" data-original-title=\"TOP POPOVER\" data-content=\"The paragraph within the popover is using <code>data-content</code> attribute.\">\n",
       "  ELO\n",
       "</button>\n",
       "\n",
       "<button type=\"button\" class=\"btn btn-primary elo two\" data-toggle=\"popover\" data-placement=\"bottom\" data-original-title=\"BOTTOM POPOVER\" data-content=\"The paragraph within the popover is using <code>data-content</code> attribute.\">\n",
       "  ELO\n",
       "</button>\n",
       "\n",
       "<button type=\"button\" class=\"btn btn-primary elo\" data-toggle=\"popover\" data-placement=\"right\" data-original-title=\"RIGHT POPOVER\" data-content=\"The paragraph within the popover is using <code>data-content</code> attribute.\">\n",
       "  ELO\n",
       "</button>\n",
       "</div>"
      ],
      "text/plain": [
       "<IPython.core.display.HTML object>"
      ]
     },
     "metadata": {},
     "output_type": "display_data"
    }
   ],
   "source": [
    "%%HTML\n",
    "\n",
    "<script>\n",
    "$(document).ready(function () {\n",
    "  //can also be wrapped with:\n",
    "  //1. $(function () {...});\n",
    "  //2. $(window).load(function () {...});\n",
    "  //3. Or your own custom named function block.\n",
    "  //It's better to wrap it.\n",
    "\n",
    "  //Tooltip, activated by hover event\n",
    "  $(\"body\").tooltip({   \n",
    "    selector: \"[data-toggle='tooltip']\",\n",
    "    container: \"body\"\n",
    "  })\n",
    "    //Popover, activated by clicking\n",
    "    .popover({\n",
    "    selector: \"[data-toggle='popover']\",\n",
    "    container: \"body\",\n",
    "    html: true\n",
    "  });\n",
    "  //They can be chained like the example above (when using the same selector).\n",
    "  \n",
    "});\n",
    "</script>\n",
    "\n",
    "<style>\n",
    "body {\n",
    "  background: #eee;\n",
    "  min-height: 520px;\n",
    "}\n",
    "\n",
    "body,\n",
    "h1,\n",
    "h2,\n",
    "h3,\n",
    "h4,\n",
    "div,\n",
    "button {\n",
    "  font-family: consolas, courier, monaco, menlo, monospace;\n",
    "}\n",
    "\n",
    ".ole,\n",
    ".elo {\n",
    "  background: rgb(200,240,255);\n",
    "  padding: 6px 36px;\n",
    "  display: inline-block;\n",
    "  font-size: 1.2em;\n",
    "  border-radius: 4px;\n",
    "  border:0;\n",
    "  cursor: pointer;\n",
    "  color: #000;\n",
    "}\n",
    "\n",
    ".ct {\n",
    "  text-align: center\n",
    "}\n",
    "\n",
    ".two {\n",
    "  background: rgb(180,220,255);\n",
    "}\n",
    "\n",
    ".three {\n",
    "  background: rgb(160,200,255);\n",
    "}\n",
    "\n",
    ".four {\n",
    "  background: rgb(140,180,255);\n",
    "}\n",
    "\n",
    ".ole:hover,\n",
    ".elo:hover {\n",
    "  background: dodgerblue;\n",
    "  color: #fff;\n",
    "  text-shadow: 1px 1px 1px #000;\n",
    "  box-shadow: 0 0 0 #555;\n",
    "}\n",
    "\n",
    ".multiple_elements {\n",
    "  padding: 30px 0 10px 0;\n",
    "  text-align: center;\n",
    "}\n",
    "\n",
    "/*customizing tooltip color*/\n",
    "/*right tooltip*/\n",
    ".tooltip.right > .tooltip-arrow {\n",
    "  border-right-color: dodgerblue;\n",
    "}\n",
    "\n",
    "/*bottom tooltip*/\n",
    ".tooltip.bottom > .tooltip-arrow {\n",
    "  border-bottom-color: dodgerblue;\n",
    "}\n",
    "\n",
    "/*top tooltip*/\n",
    ".tooltip.top > .tooltip-arrow {\n",
    "  border-top-color: dodgerblue;\n",
    "}\n",
    "\n",
    "/*left tooltip*/\n",
    ".tooltip.left > .tooltip-arrow {\n",
    "  border-left-color: dodgerblue;\n",
    "}\n",
    "\n",
    "/*tooltip inner*/\n",
    ".tooltip > .tooltip-inner {\n",
    "  background-color: dodgerblue;\n",
    "  text-shadow: 0 1px 1px #000;\n",
    "  font-weight: normal;\n",
    "}\n",
    "\n",
    "code {\n",
    "  color: royalblue;\n",
    "  background-color: azure;\n",
    "}\n",
    "\n",
    "@media (max-width:640px) {\n",
    "  .ole,\n",
    "  .elo {\n",
    "    padding: 6px 12px;\n",
    "    font-size: 12px;\n",
    "  }\n",
    "}\n",
    "</style>\n",
    "\n",
    "\n",
    "\n",
    "<div class=\"multiple_elements\">\n",
    "\n",
    "<h2>POPOVER</h2>\n",
    "<div class=\"ct\"><small>Click/tap the element to toggle the popover</small></div>\n",
    "\n",
    "<div class=\"btn-group\">\n",
    "<button type=\"button\" class=\"btn btn-primary elo four\" data-toggle=\"popover\" data-placement=\"left\" data-original-title=\"LEFT POPOVER\" data-content=\"The paragraph within the popover is using <code>data-content</code> attribute.\">\n",
    "  ELO\n",
    "</button>\n",
    "\n",
    "<button type=\"button\" class=\"btn btn-primary elo three\" data-toggle=\"popover\" data-placement=\"top\" data-original-title=\"TOP POPOVER\" data-content=\"The paragraph within the popover is using <code>data-content</code> attribute.\">\n",
    "  ELO\n",
    "</button>\n",
    "\n",
    "<button type=\"button\" class=\"btn btn-primary elo two\" data-toggle=\"popover\" data-placement=\"bottom\" data-original-title=\"BOTTOM POPOVER\" data-content=\"The paragraph within the popover is using <code>data-content</code> attribute.\">\n",
    "  ELO\n",
    "</button>\n",
    "\n",
    "<button type=\"button\" class=\"btn btn-primary elo\" data-toggle=\"popover\" data-placement=\"right\" data-original-title=\"RIGHT POPOVER\" data-content=\"The paragraph within the popover is using <code>data-content</code> attribute.\">\n",
    "  ELO\n",
    "</button>\n",
    "</div>"
   ]
  },
  {
   "cell_type": "code",
   "execution_count": 5,
   "metadata": {
    "collapsed": false
   },
   "outputs": [
    {
     "data": {
      "text/html": [
       "<script>\n",
       "$('#elem').popover()\n",
       "</script>\n",
       "<style>\n",
       ".well {\n",
       "    margin-top: 30px;\n",
       "}\n",
       "</style>\n",
       "\n",
       "<HTML>\n",
       "<div class=\"well\">\n",
       "    <a id=\"elem\" href=\"#\" class=\"btn btn-danger\" rel=\"popover\" data-original-title=\"Popover\" data-content=\"Body\">hover for popover</a>\n",
       "</div>\n",
       "</HTML>"
      ],
      "text/plain": [
       "<IPython.core.display.HTML object>"
      ]
     },
     "metadata": {},
     "output_type": "display_data"
    }
   ],
   "source": [
    "%%HTML\n",
    "<script>\n",
    "$('#elem').popover()\n",
    "</script>\n",
    "<style>\n",
    ".well {\n",
    "    margin-top: 30px;\n",
    "}\n",
    "</style>\n",
    "\n",
    "<HTML>\n",
    "<div class=\"well\">\n",
    "    <a id=\"elem\" href=\"#\" class=\"btn btn-danger\" rel=\"popover\" data-original-title=\"Popover\" data-content=\"Body\">hover for popover</a>\n",
    "</div>\n",
    "</HTML>"
   ]
  },
  {
   "cell_type": "code",
   "execution_count": 4,
   "metadata": {
    "collapsed": false
   },
   "outputs": [
    {
     "data": {
      "application/javascript": [
       "function load_home() {\n",
       "     document.getElementById(\"content\").innerHTML='<object type=\"text/html\" data=\"home.html\" ></object>';\n",
       "}"
      ],
      "text/plain": [
       "<IPython.core.display.Javascript object>"
      ]
     },
     "metadata": {},
     "output_type": "display_data"
    }
   ],
   "source": [
    "%%javascript\n",
    "function load_home() {\n",
    "     document.getElementById(\"content\").innerHTML='<object type=\"text/html\" data=\"home.html\" ></object>';\n",
    "}"
   ]
  },
  {
   "cell_type": "code",
   "execution_count": null,
   "metadata": {
    "collapsed": true
   },
   "outputs": [],
   "source": []
  }
 ],
 "metadata": {
  "anaconda-cloud": {},
  "kernelspec": {
   "display_name": "Python [Root]",
   "language": "python",
   "name": "Python [Root]"
  },
  "language_info": {
   "codemirror_mode": {
    "name": "ipython",
    "version": 3
   },
   "file_extension": ".py",
   "mimetype": "text/x-python",
   "name": "python",
   "nbconvert_exporter": "python",
   "pygments_lexer": "ipython3",
   "version": "3.5.2"
  }
 },
 "nbformat": 4,
 "nbformat_minor": 2
}
