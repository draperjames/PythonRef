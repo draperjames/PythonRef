{
 "cells": [
  {
   "cell_type": "markdown",
   "metadata": {},
   "source": [
    "# Parsing and generating XML in python\n",
    "\n",
    "### [Python docs on xml parsing](https://docs.python.org/3.6/library/xml.html)\n",
    "\n",
    "### [Python docs on etree](https://docs.python.org/3.6/library/xml.etree.elementtree.html#module-xml.etree.ElementTree)\n",
    "\n",
    "### [effbot on xml](http://effbot.org/zone/element.htm)"
   ]
  },
  {
   "cell_type": "code",
   "execution_count": 1,
   "metadata": {
    "collapsed": true
   },
   "outputs": [],
   "source": [
    "from xml.etree import cElementTree as et"
   ]
  },
  {
   "cell_type": "code",
   "execution_count": null,
   "metadata": {
    "collapsed": true
   },
   "outputs": [],
   "source": [
    "def parent_map(tree):\n",
    "    \"\"\"Return a dict with child nodes as keys and parents as values.\"\"\"\n",
    "    return {c:p for p in tree.iter( ) for c in p}\n"
   ]
  },
  {
   "cell_type": "code",
   "execution_count": 2,
   "metadata": {
    "collapsed": true
   },
   "outputs": [],
   "source": [
    "def node(Name=None, Description=\"\",):\n",
    "    return locals()"
   ]
  },
  {
   "cell_type": "code",
   "execution_count": 8,
   "metadata": {},
   "outputs": [
    {
     "name": "stdout",
     "output_type": "stream",
     "text": [
      "<FirstNode Description=\"\" Name=\"Hello\" />\n"
     ]
    }
   ],
   "source": [
    "n1 = et.Element('FirstNode', node(Name='Hello'))\n",
    "\n",
    "et.dump(n1)"
   ]
  },
  {
   "cell_type": "code",
   "execution_count": null,
   "metadata": {
    "collapsed": true
   },
   "outputs": [],
   "source": []
  }
 ],
 "metadata": {
  "kernelspec": {
   "display_name": "Python 3",
   "language": "python",
   "name": "python3"
  },
  "language_info": {
   "codemirror_mode": {
    "name": "ipython",
    "version": 3
   },
   "file_extension": ".py",
   "mimetype": "text/x-python",
   "name": "python",
   "nbconvert_exporter": "python",
   "pygments_lexer": "ipython3",
   "version": "3.6.3"
  }
 },
 "nbformat": 4,
 "nbformat_minor": 2
}
