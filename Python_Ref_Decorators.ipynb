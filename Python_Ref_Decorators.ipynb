{
 "cells": [
  {
   "cell_type": "markdown",
   "metadata": {},
   "source": [
    "# Decorators\n",
    "- If you have gotten this far in your python career congrats nerd.\n",
    "- Here is [PEP318](https://www.python.org/dev/peps/pep-0318), it's all about decorators in python. Go a head try to read it. I have tried several times and it sucks either because it is confusing as shit or I'm stupid. IDK you decide...\n",
    "- Some of the code below comes from this [pretty good stackoverflow example](http://stackoverflow.com/questions/114214/class-method-differences-in-python-bound-unbound-and-static/114267#114267)"
   ]
  },
  {
   "cell_type": "code",
   "execution_count": 1,
   "metadata": {
    "ExecuteTime": {
     "end_time": "2016-12-09T13:36:49.769604",
     "start_time": "2016-12-09T13:36:49.751603"
    }
   },
   "outputs": [
    {
     "name": "stdout",
     "output_type": "stream",
     "text": [
      "Awww dang... @classmethod can'\n"
     ]
    }
   ],
   "source": [
    "# Import pandas and numpy for illustration purposes.\n",
    "import pandas as pd\n",
    "import numpy as np\n",
    "\n",
    "class TestData(object):\n",
    "    \n",
    "    def selfDataFrame(self):\n",
    "        return pd.DataFrame(np.random.rand(10), columns=['A'])\n",
    "    @classmethod\n",
    "    def classDataFrame(cls):\n",
    "        return pd.DataFrame(np.random.rand(10), columns=['A'])\n",
    "    @staticmethod\n",
    "    def staticDataFrame():\n",
    "        return pd.DataFrame(np.random.rand(10), columns=['A'])\n",
    "\n",
    "# myTest = TestData()\n",
    "# TestData.selfDataFrame(object)\n",
    "# TestData.classDataFrame()\n",
    "try:\n",
    "    TestData.classDataFrame(object)\n",
    "except TypeError as err:\n",
    "    print(\"Awww dang... @classmethod can'\")\n",
    "# TestData.staticDataFrame()"
   ]
  },
  {
   "cell_type": "code",
   "execution_count": 2,
   "metadata": {
    "ExecuteTime": {
     "end_time": "2016-12-09T13:15:51.193618",
     "start_time": "2016-12-09T13:15:51.182617"
    }
   },
   "outputs": [
    {
     "name": "stdout",
     "output_type": "stream",
     "text": [
      "Called method_two\n"
     ]
    }
   ],
   "source": [
    "class Test(object):\n",
    "    @classmethod\n",
    "    def method_one(cls):\n",
    "        print(\"Called method_one\")\n",
    "    @staticmethod\n",
    "    def method_two():\n",
    "        print(\"Called method_two\")\n",
    "\n",
    "# a_test = Test()\n",
    "# a_test.method_one()\n",
    "# a_test.method_two()\n",
    "Test.method_two()"
   ]
  },
  {
   "cell_type": "markdown",
   "metadata": {},
   "source": [
    "---\n",
    "## [Python decorators, the right way: the 4 audiences of programming languages](https://codewithoutrules.com/2017/08/10/python-decorators/)"
   ]
  },
  {
   "cell_type": "code",
   "execution_count": 18,
   "metadata": {
    "collapsed": true
   },
   "outputs": [],
   "source": [
    "from threading import Lock\n",
    "\n",
    "def synchronized(function):\n",
    "    \"\"\"\n",
    "    Given a method, return a new method that acquires a\n",
    "    lock, calls the given method, and then releases the\n",
    "    lock.\n",
    "    \"\"\"\n",
    "    def wrapper(self, *args, **kwargs):\n",
    "        \"\"\"A synchronized wrapper.\"\"\"\n",
    "        with self._lock:\n",
    "            return function(self, *args, **kwargs)\n",
    "    return wrapper"
   ]
  },
  {
   "cell_type": "code",
   "execution_count": 19,
   "metadata": {
    "collapsed": true
   },
   "outputs": [],
   "source": [
    "class ExampleSynchronizedClass:\n",
    "    def __init__(self):\n",
    "        self._lock = Lock()\n",
    "        self._items = []\n",
    "\n",
    "    # Problematic usage:\n",
    "    def add(self, item):\n",
    "        \"\"\"Add a new item.\"\"\"\n",
    "        self._items.append(item)\n",
    "    add = synchronized(add)\n",
    "\n",
    "esc = ExampleSynchronizedClass()\n",
    "\n",
    "esc.add(1)"
   ]
  },
  {
   "cell_type": "code",
   "execution_count": 20,
   "metadata": {
    "collapsed": true
   },
   "outputs": [],
   "source": [
    "class ExampleSynchronizedClass:\n",
    "    def __init__(self):\n",
    "        self._lock = Lock()\n",
    "        self._items = []\n",
    "\n",
    "    # Nicer decorator usage:\n",
    "    @synchronized\n",
    "    def add(self, item):\n",
    "        \"\"\"Add a new item.\"\"\"\n",
    "        self._items.append(item)\n",
    "\n",
    "esc = ExampleSynchronizedClass()"
   ]
  },
  {
   "cell_type": "code",
   "execution_count": 13,
   "metadata": {
    "collapsed": true
   },
   "outputs": [],
   "source": [
    "esc.add()"
   ]
  },
  {
   "cell_type": "markdown",
   "metadata": {},
   "source": [
    "## Decorators using wrapt."
   ]
  },
  {
   "cell_type": "code",
   "execution_count": 23,
   "metadata": {
    "collapsed": true
   },
   "outputs": [],
   "source": [
    "import wrapt\n",
    "from threading import Lock\n",
    "\n",
    "@wrapt.decorator\n",
    "def synchronized(function, self, args, kwargs):\n",
    "    \"\"\"\n",
    "    Given a method, return a new method that acquires a\n",
    "    lock, calls the given method, and then releases the\n",
    "    lock.\n",
    "    \"\"\"\n",
    "    with self._lock:\n",
    "        return function(*args, **kwargs)\n"
   ]
  },
  {
   "cell_type": "code",
   "execution_count": 24,
   "metadata": {
    "collapsed": true
   },
   "outputs": [],
   "source": [
    "class ExampleSynchronizedClass:\n",
    "    def __init__(self):\n",
    "        self._lock = Lock()\n",
    "        self._items = []\n",
    "\n",
    "    # Nicer decorator usage:\n",
    "    @synchronized\n",
    "    def add(self, item):\n",
    "        \"\"\"Add a new item.\"\"\"\n",
    "        self._items.append(item)\n",
    "\n",
    "esc = ExampleSynchronizedClass()\n",
    "\n",
    "esc.add(1)"
   ]
  },
  {
   "cell_type": "markdown",
   "metadata": {},
   "source": [
    "---\n",
    "## Decorators can be used to assign properties and attributes to an instance."
   ]
  },
  {
   "cell_type": "code",
   "execution_count": 1,
   "metadata": {
    "collapsed": true
   },
   "outputs": [],
   "source": [
    "import wrapt\n",
    "\n",
    "@wrapt.decorator\n",
    "def basic(function, self, args, kwargs):\n",
    "    'A basic decorator.'\n",
    "    self.hello = 'hello'\n",
    "\n",
    "class Decked(object):\n",
    "    @basic\n",
    "    def __init__(self):\n",
    "        pass"
   ]
  },
  {
   "cell_type": "code",
   "execution_count": 2,
   "metadata": {},
   "outputs": [
    {
     "data": {
      "text/plain": [
       "'hello'"
      ]
     },
     "execution_count": 2,
     "metadata": {},
     "output_type": "execute_result"
    }
   ],
   "source": [
    "d = Decked()\n",
    "d.hello"
   ]
  },
  {
   "cell_type": "markdown",
   "metadata": {},
   "source": [
    "----\n",
    "## [Python decorators with optional argument](https://codereview.stackexchange.com/a/78873/127038)"
   ]
  },
  {
   "cell_type": "code",
   "execution_count": 33,
   "metadata": {
    "collapsed": true
   },
   "outputs": [],
   "source": [
    "def optional_arg_decorator(fn):\n",
    "    def wrapped_decorator(*args, **kwargs):\n",
    "        if len(args) == 1 and len(kwargs) == 0 and callable(args[0]):\n",
    "            return fn(args[0])\n",
    "\n",
    "        else:\n",
    "            def real_decorator(decoratee):\n",
    "                return fn(decoratee, *args, **kwargs)\n",
    "\n",
    "            return real_decorator\n",
    "\n",
    "    return wrapped_decorator"
   ]
  },
  {
   "cell_type": "markdown",
   "metadata": {},
   "source": [
    "---\n",
    "## Meta Classes (classes are their instances) with that of Super Classes (classes are their sub-classes).\n",
    "\n",
    "- SO thread on [meta/super classes in python](https://stackoverflow.com/questions/33727217/subscriptable-objects-in-class#33728603)"
   ]
  },
  {
   "cell_type": "code",
   "execution_count": 60,
   "metadata": {},
   "outputs": [
    {
     "name": "stdout",
     "output_type": "stream",
     "text": [
      "Using meta __getitem__ on classes that have my type\n"
     ]
    }
   ],
   "source": [
    "class MetaCls(type):\n",
    "   def __getitem__(cls, index):\n",
    "       print(\"Using meta __getitem__ on classes that have my type\")\n",
    "\n",
    "# metaclass is defined in header:\n",
    "class Base(metaclass=MetaCls):\n",
    "    pass\n",
    "\n",
    "\n",
    "Base[0]"
   ]
  },
  {
   "cell_type": "code",
   "execution_count": 61,
   "metadata": {},
   "outputs": [
    {
     "name": "stdout",
     "output_type": "stream",
     "text": [
      "10\n"
     ]
    }
   ],
   "source": [
    "class MyMetaClass(type):\n",
    "    def __getitem__(cls, x):\n",
    "        return getattr(cls, x)\n",
    "\n",
    "    def __new__(cls, name, parents, dct):\n",
    "        dct[\"__getitem__\"] = cls.__getitem__\n",
    "        return super().__new__(cls, name, parents, dct)\n",
    "\n",
    "\n",
    "class Dog(metaclass=MyMetaClass):\n",
    "    x = 10\n",
    "\n",
    "d = Dog()\n",
    "print(d['x'])"
   ]
  },
  {
   "cell_type": "markdown",
   "metadata": {},
   "source": [
    "---"
   ]
  },
  {
   "cell_type": "code",
   "execution_count": 117,
   "metadata": {},
   "outputs": [
    {
     "ename": "AttributeError",
     "evalue": "type object 'Base' has no attribute '__getitem__'",
     "output_type": "error",
     "traceback": [
      "\u001b[1;31m---------------------------------------------------------------------------\u001b[0m",
      "\u001b[1;31mAttributeError\u001b[0m                            Traceback (most recent call last)",
      "\u001b[1;32m<ipython-input-117-f9e37aaa013d>\u001b[0m in \u001b[0;36m<module>\u001b[1;34m()\u001b[0m\n\u001b[0;32m      1\u001b[0m \u001b[1;32mclass\u001b[0m \u001b[0mBase\u001b[0m\u001b[1;33m(\u001b[0m\u001b[0mobject\u001b[0m\u001b[1;33m)\u001b[0m\u001b[1;33m:\u001b[0m\u001b[1;33m\u001b[0m\u001b[0m\n\u001b[0;32m      2\u001b[0m     \u001b[0mx\u001b[0m \u001b[1;33m=\u001b[0m \u001b[1;36m0\u001b[0m\u001b[1;33m\u001b[0m\u001b[0m\n\u001b[1;32m----> 3\u001b[1;33m \u001b[0mBase\u001b[0m\u001b[1;33m.\u001b[0m\u001b[0m__getitem__\u001b[0m\u001b[1;33m\u001b[0m\u001b[0m\n\u001b[0m",
      "\u001b[1;31mAttributeError\u001b[0m: type object 'Base' has no attribute '__getitem__'"
     ]
    }
   ],
   "source": [
    "class Base(object):\n",
    "    x = 0\n",
    "\n",
    "Base.__getitem__"
   ]
  },
  {
   "cell_type": "code",
   "execution_count": 115,
   "metadata": {
    "collapsed": true
   },
   "outputs": [],
   "source": [
    "class Base(object):\n",
    "    x = 0\n",
    "    def __getitem__(self, value):\n",
    "        return self.x.__dict__[value]"
   ]
  },
  {
   "cell_type": "code",
   "execution_count": 116,
   "metadata": {},
   "outputs": [
    {
     "ename": "TypeError",
     "evalue": "'type' object is not subscriptable",
     "output_type": "error",
     "traceback": [
      "\u001b[1;31m---------------------------------------------------------------------------\u001b[0m",
      "\u001b[1;31mTypeError\u001b[0m                                 Traceback (most recent call last)",
      "\u001b[1;32m<ipython-input-116-0244595410db>\u001b[0m in \u001b[0;36m<module>\u001b[1;34m()\u001b[0m\n\u001b[1;32m----> 1\u001b[1;33m \u001b[0mBase\u001b[0m\u001b[1;33m[\u001b[0m\u001b[1;34m'x'\u001b[0m\u001b[1;33m]\u001b[0m\u001b[1;33m\u001b[0m\u001b[0m\n\u001b[0m",
      "\u001b[1;31mTypeError\u001b[0m: 'type' object is not subscriptable"
     ]
    }
   ],
   "source": [
    "Base['x']"
   ]
  },
  {
   "cell_type": "markdown",
   "metadata": {},
   "source": [
    "---"
   ]
  },
  {
   "cell_type": "code",
   "execution_count": 130,
   "metadata": {
    "collapsed": true
   },
   "outputs": [],
   "source": [
    "from itertools import islice\n",
    "\n",
    "class Sliceable(object):\n",
    "    \"\"\"Sliceable(iterable) is an object that wraps 'iterable' and\n",
    "    generates items from 'iterable' when subscripted. For example:\n",
    "\n",
    "        >>> from itertools import count, cycle\n",
    "        >>> s = Sliceable(count())\n",
    "        >>> list(s[3:10:2])\n",
    "        [3, 5, 7, 9]\n",
    "        >>> list(s[3:6])\n",
    "        [13, 14, 15]\n",
    "        >>> next(Sliceable(cycle(range(7)))[11])\n",
    "        4\n",
    "        >>> s['string']\n",
    "        Traceback (most recent call last):\n",
    "            ...\n",
    "        KeyError: 'Key must be non-negative integer or slice, not string'\n",
    "\n",
    "    \"\"\"\n",
    "    def __init__(self, iterable):\n",
    "        self.iterable = iterable\n",
    "\n",
    "    def __getitem__(self, key):\n",
    "        if isinstance(key, int) and key >= 0:\n",
    "            return islice(self.iterable, key, key + 1)\n",
    "        elif isinstance(key, slice):\n",
    "            return islice(self.iterable, key.start, key.stop, key.step)\n",
    "        else:\n",
    "            raise KeyError(\"Key must be non-negative integer or slice, not {}\"\n",
    "                           .format(key))"
   ]
  },
  {
   "cell_type": "code",
   "execution_count": 131,
   "metadata": {},
   "outputs": [
    {
     "data": {
      "text/plain": [
       "[3, 5, 7, 9]"
      ]
     },
     "execution_count": 131,
     "metadata": {},
     "output_type": "execute_result"
    }
   ],
   "source": [
    "from itertools import count, cycle\n",
    "s = Sliceable(count())\n",
    "list(s[3:10:2])"
   ]
  },
  {
   "cell_type": "code",
   "execution_count": 132,
   "metadata": {},
   "outputs": [
    {
     "data": {
      "text/plain": [
       "[10]"
      ]
     },
     "execution_count": 132,
     "metadata": {},
     "output_type": "execute_result"
    }
   ],
   "source": [
    "list(s[0])"
   ]
  },
  {
   "cell_type": "code",
   "execution_count": 136,
   "metadata": {
    "collapsed": true
   },
   "outputs": [],
   "source": [
    "from itertools import islice\n",
    "\n",
    "class Sliceable(object):\n",
    "    \"\"\"Sliceable(iterable) is an object that wraps 'iterable' and\n",
    "    generates items from 'iterable' when subscripted. For example:\n",
    "\n",
    "        >>> from itertools import count, cycle\n",
    "        >>> s = Sliceable(count())\n",
    "        >>> list(s[3:10:2])\n",
    "        [3, 5, 7, 9]\n",
    "        >>> list(s[3:6])\n",
    "        [13, 14, 15]\n",
    "        >>> next(Sliceable(cycle(range(7)))[11])\n",
    "        4\n",
    "        >>> s['string']\n",
    "        Traceback (most recent call last):\n",
    "            ...\n",
    "        KeyError: 'Key must be non-negative integer or slice, not string'\n",
    "\n",
    "    \"\"\"\n",
    "    def __init__(self, iterable):\n",
    "        self.iterable = iterable\n",
    "\n",
    "    def __getitem__(self, key):\n",
    "        if isinstance(key, int) and key >= 0:\n",
    "            return islice(self.iterable, key, key + 1)\n",
    "        elif isinstance(key, slice):\n",
    "            return islice(self.iterable, key.start, key.stop, key.step)\n",
    "        elif isinstance(key, str):\n",
    "            if int(key) >= 0:\n",
    "                return islice(self.iterable, int(key), int(key) + 1)\n",
    "            \n",
    "        else:\n",
    "            raise KeyError(\"Key must be non-negative integer or slice, not {}\"\n",
    "                           .format(key))"
   ]
  },
  {
   "cell_type": "code",
   "execution_count": 141,
   "metadata": {},
   "outputs": [
    {
     "data": {
      "text/plain": [
       "[3, 5, 7, 9]"
      ]
     },
     "execution_count": 141,
     "metadata": {},
     "output_type": "execute_result"
    }
   ],
   "source": [
    "from itertools import count, cycle\n",
    "s = Sliceable(count())\n",
    "list(s[3:10:2])"
   ]
  },
  {
   "cell_type": "code",
   "execution_count": 146,
   "metadata": {},
   "outputs": [
    {
     "data": {
      "text/plain": [
       "[14]"
      ]
     },
     "execution_count": 146,
     "metadata": {},
     "output_type": "execute_result"
    }
   ],
   "source": [
    "list(s[0])"
   ]
  },
  {
   "cell_type": "code",
   "execution_count": 147,
   "metadata": {},
   "outputs": [
    {
     "data": {
      "text/plain": [
       "[15]"
      ]
     },
     "execution_count": 147,
     "metadata": {},
     "output_type": "execute_result"
    }
   ],
   "source": [
    "list(s['0'])"
   ]
  },
  {
   "cell_type": "markdown",
   "metadata": {},
   "source": [
    "---"
   ]
  },
  {
   "cell_type": "code",
   "execution_count": 180,
   "metadata": {
    "collapsed": true
   },
   "outputs": [],
   "source": [
    "class Container(object):\n",
    "    \n",
    "    def __init__(self,*args,**kwargs):\n",
    "        self.value = 0\n",
    "    \n",
    "    def __getitem__(self, key):\n",
    "        return self.__dict__[key]\n",
    "    \n",
    "    def __setitem__(self, key, value):\n",
    "        self.__dict__[key] = value"
   ]
  },
  {
   "cell_type": "code",
   "execution_count": 181,
   "metadata": {
    "collapsed": true
   },
   "outputs": [],
   "source": [
    "c = Container()"
   ]
  },
  {
   "cell_type": "code",
   "execution_count": 182,
   "metadata": {
    "collapsed": true
   },
   "outputs": [],
   "source": [
    "c['value'] = 1"
   ]
  },
  {
   "cell_type": "code",
   "execution_count": 184,
   "metadata": {},
   "outputs": [
    {
     "data": {
      "text/plain": [
       "1"
      ]
     },
     "execution_count": 184,
     "metadata": {},
     "output_type": "execute_result"
    }
   ],
   "source": [
    "c.value"
   ]
  },
  {
   "cell_type": "markdown",
   "metadata": {},
   "source": [
    "---"
   ]
  },
  {
   "cell_type": "code",
   "execution_count": 202,
   "metadata": {
    "collapsed": true
   },
   "outputs": [],
   "source": [
    "import wrapt\n",
    "\n",
    "@wrapt.decorator\n",
    "def basic(function, self, args, kwargs):\n",
    "    'A basic decorator.'\n",
    "    self.hello = 'hello'"
   ]
  },
  {
   "cell_type": "code",
   "execution_count": 214,
   "metadata": {
    "collapsed": true
   },
   "outputs": [],
   "source": [
    "import wrapt\n",
    "\n",
    "@wrapt.decorator\n",
    "def dict_like(function, self, *args, **kwargs):\n",
    "    \n",
    "    def __getitem__(self, key):\n",
    "        return self.__dict__[key]\n",
    "    \n",
    "    def __setitem__(self, key, value):\n",
    "        self.__dict__[key] = value\n",
    "    \n",
    "    setattr(self, '__getitem__', __getitem__)"
   ]
  },
  {
   "cell_type": "code",
   "execution_count": 215,
   "metadata": {
    "collapsed": true
   },
   "outputs": [],
   "source": [
    "class Decked(object):\n",
    "    @dict_like\n",
    "    def __init__(self):\n",
    "        self.hello = 0\n",
    "        pass"
   ]
  },
  {
   "cell_type": "code",
   "execution_count": 216,
   "metadata": {
    "collapsed": true
   },
   "outputs": [],
   "source": [
    "d = Decked()"
   ]
  },
  {
   "cell_type": "code",
   "execution_count": 217,
   "metadata": {},
   "outputs": [
    {
     "ename": "TypeError",
     "evalue": "'Decked' object is not subscriptable",
     "output_type": "error",
     "traceback": [
      "\u001b[1;31m---------------------------------------------------------------------------\u001b[0m",
      "\u001b[1;31mTypeError\u001b[0m                                 Traceback (most recent call last)",
      "\u001b[1;32m<ipython-input-217-496f2ae749ce>\u001b[0m in \u001b[0;36m<module>\u001b[1;34m()\u001b[0m\n\u001b[1;32m----> 1\u001b[1;33m \u001b[0md\u001b[0m\u001b[1;33m[\u001b[0m\u001b[1;34m'hello'\u001b[0m\u001b[1;33m]\u001b[0m\u001b[1;33m\u001b[0m\u001b[0m\n\u001b[0m",
      "\u001b[1;31mTypeError\u001b[0m: 'Decked' object is not subscriptable"
     ]
    }
   ],
   "source": [
    "d['hello']"
   ]
  },
  {
   "cell_type": "code",
   "execution_count": 218,
   "metadata": {
    "collapsed": true
   },
   "outputs": [],
   "source": [
    "class F(object):\n",
    "    def __init__(self, fn):\n",
    "        self.__dict__['fn'] = fn\n",
    "\n",
    "    def __call__(self, *args, **kwargs):\n",
    "        return self.fn(*args, **kwargs)\n",
    "\n",
    "    def __getitem__(self, name):\n",
    "        return name\n",
    "\n",
    "    def __getattr__(self, name):\n",
    "        return name"
   ]
  },
  {
   "cell_type": "code",
   "execution_count": 221,
   "metadata": {
    "collapsed": true
   },
   "outputs": [],
   "source": [
    "def foo():\n",
    "  print('hello')\n",
    "\n",
    "foo = F(foo)"
   ]
  },
  {
   "cell_type": "code",
   "execution_count": null,
   "metadata": {
    "collapsed": true
   },
   "outputs": [],
   "source": []
  }
 ],
 "metadata": {
  "anaconda-cloud": {},
  "kernelspec": {
   "display_name": "Python 3",
   "language": "python",
   "name": "python3"
  },
  "language_info": {
   "codemirror_mode": {
    "name": "ipython",
    "version": 3
   },
   "file_extension": ".py",
   "mimetype": "text/x-python",
   "name": "python",
   "nbconvert_exporter": "python",
   "pygments_lexer": "ipython3",
   "version": "3.6.1"
  },
  "varInspector": {
   "cols": {
    "lenName": 16,
    "lenType": 16,
    "lenVar": 40
   },
   "kernels_config": {
    "python": {
     "delete_cmd_postfix": "",
     "delete_cmd_prefix": "del ",
     "library": "var_list.py",
     "varRefreshCmd": "print(var_dic_list())"
    },
    "r": {
     "delete_cmd_postfix": ") ",
     "delete_cmd_prefix": "rm(",
     "library": "var_list.r",
     "varRefreshCmd": "cat(var_dic_list()) "
    }
   },
   "types_to_exclude": [
    "module",
    "function",
    "builtin_function_or_method",
    "instance",
    "_Feature"
   ],
   "window_display": false
  }
 },
 "nbformat": 4,
 "nbformat_minor": 1
}
