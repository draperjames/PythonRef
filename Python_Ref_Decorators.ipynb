{
 "cells": [
  {
   "cell_type": "markdown",
   "metadata": {
    "collapsed": false
   },
   "source": [
    "# Decorators\n",
    "- If you have gotten this far in your python career congrats nerd.\n",
    "- Here is [PEP318](https://www.python.org/dev/peps/pep-0318), it's all about decorators in python. Go a head try to read it. I have tried several times and it sucks either because it is confusing as shit or I'm stupid. IDK you decide...\n",
    "- Some of the code below comes from this [pretty good stackoverflow example](http://stackoverflow.com/questions/114214/class-method-differences-in-python-bound-unbound-and-static/114267#114267)"
   ]
  },
  {
   "cell_type": "code",
   "execution_count": 78,
   "metadata": {
    "ExecuteTime": {
     "end_time": "2016-12-09T13:36:49.769604",
     "start_time": "2016-12-09T13:36:49.751603"
    },
    "collapsed": false
   },
   "outputs": [
    {
     "name": "stdout",
     "output_type": "stream",
     "text": [
      "Awww dang... @classmethod can'\n"
     ]
    }
   ],
   "source": [
    "# Import pandas and numpy for illustration purposes.\n",
    "import pandas as pd\n",
    "import numpy as np\n",
    "\n",
    "class TestData(object):\n",
    "    \n",
    "    def selfDataFrame(self):\n",
    "        return pd.DataFrame(np.random.rand(10), columns=['A'])\n",
    "    @classmethod\n",
    "    def classDataFrame(cls):\n",
    "        return pd.DataFrame(np.random.rand(10), columns=['A'])\n",
    "    @staticmethod\n",
    "    def staticDataFrame():\n",
    "        return pd.DataFrame(np.random.rand(10), columns=['A'])\n",
    "\n",
    "# myTest = TestData()\n",
    "# TestData.selfDataFrame(object)\n",
    "# TestData.classDataFrame()\n",
    "try:\n",
    "    TestData.classDataFrame(object)\n",
    "except TypeError as err:\n",
    "    print(\"Awww dang... @classmethod can'\")\n",
    "# TestData.staticDataFrame()"
   ]
  },
  {
   "cell_type": "code",
   "execution_count": 36,
   "metadata": {
    "ExecuteTime": {
     "end_time": "2016-12-09T13:15:51.193618",
     "start_time": "2016-12-09T13:15:51.182617"
    },
    "collapsed": false
   },
   "outputs": [
    {
     "name": "stdout",
     "output_type": "stream",
     "text": [
      "Called method_two\n"
     ]
    }
   ],
   "source": [
    "class Test(object):\n",
    "    @classmethod\n",
    "    def method_one(cls):\n",
    "        print(\"Called method_one\")\n",
    "    @staticmethod\n",
    "    def method_two():\n",
    "        print(\"Called method_two\")\n",
    "\n",
    "# a_test = Test()\n",
    "# a_test.method_one()\n",
    "# a_test.method_two()\n",
    "Test.method_two()"
   ]
  },
  {
   "cell_type": "code",
   "execution_count": null,
   "metadata": {
    "collapsed": true
   },
   "outputs": [],
   "source": [
    ">>> a_test = Test()\n",
    ">>> a_test.method_one()\n",
    "Called method_one\n",
    ">>> a_test.method_two()\n",
    "Called method_two\n",
    ">>> Test.method_two()\n",
    "Called method_two"
   ]
  }
 ],
 "metadata": {
  "anaconda-cloud": {},
  "kernelspec": {
   "display_name": "Python [Root]",
   "language": "python",
   "name": "Python [Root]"
  },
  "language_info": {
   "codemirror_mode": {
    "name": "ipython",
    "version": 3
   },
   "file_extension": ".py",
   "mimetype": "text/x-python",
   "name": "python",
   "nbconvert_exporter": "python",
   "pygments_lexer": "ipython3",
   "version": "3.5.2"
  }
 },
 "nbformat": 4,
 "nbformat_minor": 0
}
