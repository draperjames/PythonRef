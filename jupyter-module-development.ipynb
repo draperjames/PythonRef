{
 "cells": [
  {
   "cell_type": "code",
   "execution_count": 2,
   "metadata": {
    "collapsed": true
   },
   "outputs": [],
   "source": [
    "import os\n",
    "from tkinter import Tk, filedialog\n",
    "\n",
    "here = os.getcwd()\n",
    "\n",
    "def select_dir():\n",
    "\n",
    "    # Create Tk root\n",
    "    root = Tk()\n",
    "\n",
    "    # Hide the main window\n",
    "    root.withdraw()\n",
    "\n",
    "    # Raise the root to the top of all windows.\n",
    "    root.call('wm', 'attributes', '.', '-topmost', True)\n",
    "\n",
    "    dir_name = filedialog.askdirectory(initialdir = here,\n",
    "                                   title = \"Select Module to Add\",\n",
    "                                   mustexist=True)\n",
    "    return os.path.abspath(dir_name)\n",
    "\n",
    "fn = select_dir()"
   ]
  },
  {
   "cell_type": "code",
   "execution_count": 3,
   "metadata": {},
   "outputs": [
    {
     "data": {
      "text/plain": [
       "['C:\\\\Users\\\\t440p\\\\Documents\\\\GitHub\\\\cytopy',\n",
       " 'C:\\\\Users\\\\t440p\\\\Documents\\\\GitHub\\\\cytoscape.js',\n",
       " 'C:\\\\Users\\\\t440p\\\\Documents\\\\GitHub\\\\jupyter-module-developer',\n",
       " 'C:\\\\Users\\\\t440p\\\\Documents\\\\GitHub\\\\node-practice',\n",
       " 'C:\\\\Users\\\\t440p\\\\Documents\\\\GitHub\\\\omin',\n",
       " 'C:\\\\Users\\\\t440p\\\\Documents\\\\GitHub\\\\py2cytoscape',\n",
       " 'C:\\\\Users\\\\t440p\\\\Documents\\\\GitHub\\\\WebCola']"
      ]
     },
     "execution_count": 3,
     "metadata": {},
     "output_type": "execute_result"
    }
   ],
   "source": [
    "top = list(os.walk(fn))[0]\n",
    "\n",
    "top_list = [os.path.join(top[0],d) for d in top[1]]\n",
    "\n",
    "top_dirs = list(filter(lambda x:os.path.isdir(x), top_list))\n",
    "top_dirs"
   ]
  },
  {
   "cell_type": "code",
   "execution_count": 4,
   "metadata": {
    "collapsed": true
   },
   "outputs": [],
   "source": [
    "def get_top_init(fn):\n",
    "    try:\n",
    "        mod_list = []\n",
    "        for root, dirs, files in os.walk(fn):\n",
    "            for file in files:\n",
    "                if '__init__' in file:\n",
    "                    path = os.path.join(root, file)\n",
    "                    # print(root)\n",
    "                    if '__pycache__' not in path:\n",
    "                        mod_list.append(path)\n",
    "                        # print(len(dirs))\n",
    "\n",
    "        return mod_list\n",
    "    except:\n",
    "        return"
   ]
  },
  {
   "cell_type": "code",
   "execution_count": 5,
   "metadata": {},
   "outputs": [
    {
     "data": {
      "text/plain": [
       "['C:\\\\Users\\\\t440p\\\\Documents\\\\GitHub\\\\omin\\\\omin\\\\__init__.py',\n",
       " 'C:\\\\Users\\\\t440p\\\\Documents\\\\GitHub\\\\omin\\\\omin\\\\core\\\\__init__.py',\n",
       " 'C:\\\\Users\\\\t440p\\\\Documents\\\\GitHub\\\\omin\\\\omin\\\\databases\\\\__init__.py',\n",
       " 'C:\\\\Users\\\\t440p\\\\Documents\\\\GitHub\\\\omin\\\\omin\\\\databases\\\\mitocarta\\\\__init__.py',\n",
       " 'C:\\\\Users\\\\t440p\\\\Documents\\\\GitHub\\\\omin\\\\omin\\\\export\\\\__init__.py',\n",
       " 'C:\\\\Users\\\\t440p\\\\Documents\\\\GitHub\\\\omin\\\\omin\\\\gui\\\\__init__.py',\n",
       " 'C:\\\\Users\\\\t440p\\\\Documents\\\\GitHub\\\\omin\\\\omin\\\\normalize\\\\__init__.py',\n",
       " 'C:\\\\Users\\\\t440p\\\\Documents\\\\GitHub\\\\omin\\\\omin\\\\stats\\\\__init__.py',\n",
       " 'C:\\\\Users\\\\t440p\\\\Documents\\\\GitHub\\\\omin\\\\omin\\\\utils\\\\__init__.py',\n",
       " 'C:\\\\Users\\\\t440p\\\\Documents\\\\GitHub\\\\omin\\\\omin\\\\visualize\\\\__init__.py']"
      ]
     },
     "execution_count": 5,
     "metadata": {},
     "output_type": "execute_result"
    }
   ],
   "source": [
    "cand = get_top_init(top_dirs[4])\n",
    "cand"
   ]
  },
  {
   "cell_type": "code",
   "execution_count": 12,
   "metadata": {},
   "outputs": [
    {
     "data": {
      "text/plain": [
       "['C:\\\\Users\\\\t440p\\\\Documents\\\\GitHub\\\\py2cytoscape\\\\py2cytoscape\\\\__init__.py',\n",
       " 'C:\\\\Users\\\\t440p\\\\Documents\\\\GitHub\\\\py2cytoscape\\\\py2cytoscape\\\\cytoscapejs\\\\__init__.py',\n",
       " 'C:\\\\Users\\\\t440p\\\\Documents\\\\GitHub\\\\py2cytoscape\\\\py2cytoscape\\\\data\\\\__init__.py',\n",
       " 'C:\\\\Users\\\\t440p\\\\Documents\\\\GitHub\\\\py2cytoscape\\\\py2cytoscape\\\\util\\\\__init__.py',\n",
       " 'C:\\\\Users\\\\t440p\\\\Documents\\\\GitHub\\\\py2cytoscape\\\\tests\\\\__init__.py']"
      ]
     },
     "execution_count": 12,
     "metadata": {},
     "output_type": "execute_result"
    }
   ],
   "source": [
    "cand = get_top_init(top_dirs[-2])\n",
    "cand"
   ]
  },
  {
   "cell_type": "code",
   "execution_count": 13,
   "metadata": {},
   "outputs": [
    {
     "data": {
      "text/plain": [
       "['C:\\\\Users\\\\t440p\\\\Documents\\\\GitHub\\\\py2cytoscape\\\\py2cytoscape\\\\__init__.py',\n",
       " 'C:\\\\Users\\\\t440p\\\\Documents\\\\GitHub\\\\py2cytoscape\\\\tests\\\\__init__.py']"
      ]
     },
     "execution_count": 13,
     "metadata": {},
     "output_type": "execute_result"
    }
   ],
   "source": [
    "dex = [(n, len(i.split(os.path.sep))) for n,i in enumerate(cand)]\n",
    "\n",
    "m = min([i for n,i in dex])\n",
    "\n",
    "sel = list(filter(lambda x:x[1]==m, dex))\n",
    "\n",
    "[cand[i[0]] for i in sel]"
   ]
  },
  {
   "cell_type": "code",
   "execution_count": 102,
   "metadata": {
    "collapsed": true
   },
   "outputs": [],
   "source": [
    "# mod_list\n",
    "\n",
    "# os.path.sep\n",
    "\n",
    "# os.path.commonpath(mod_list)\n",
    "\n",
    "# os.path.commonprefix(mod_list)\n",
    "os.path.isdir()"
   ]
  },
  {
   "cell_type": "code",
   "execution_count": 1,
   "metadata": {
    "collapsed": true
   },
   "outputs": [],
   "source": [
    "# import omin"
   ]
  },
  {
   "cell_type": "code",
   "execution_count": 3,
   "metadata": {
    "collapsed": true
   },
   "outputs": [],
   "source": [
    "# omin.nb()"
   ]
  },
  {
   "cell_type": "code",
   "execution_count": null,
   "metadata": {
    "collapsed": true
   },
   "outputs": [],
   "source": []
  }
 ],
 "metadata": {
  "kernelspec": {
   "display_name": "Python 3",
   "language": "python",
   "name": "python3"
  },
  "language_info": {
   "codemirror_mode": {
    "name": "ipython",
    "version": 3
   },
   "file_extension": ".py",
   "mimetype": "text/x-python",
   "name": "python",
   "nbconvert_exporter": "python",
   "pygments_lexer": "ipython3",
   "version": "3.6.3"
  }
 },
 "nbformat": 4,
 "nbformat_minor": 2
}
