{
 "cells": [
  {
   "cell_type": "code",
   "execution_count": 1,
   "metadata": {
    "collapsed": true
   },
   "outputs": [],
   "source": [
    "import os, sys\n",
    "# sys.path\n",
    "os.getcwd()\n",
    "# os.chdir('../')\n",
    "# os.getcwd()\n",
    "from skunkworks import pandas as pd"
   ]
  },
  {
   "cell_type": "markdown",
   "metadata": {
    "collapsed": true
   },
   "source": [
    "https://www.crummy.com/software/BeautifulSoup/bs4/doc/"
   ]
  },
  {
   "cell_type": "code",
   "execution_count": 6,
   "metadata": {
    "collapsed": true
   },
   "outputs": [],
   "source": [
    "# Copywrite James Draper 2017 MIT License.\n",
    "\n",
    "import re\n",
    "from urllib import request\n",
    "from urllib import parse\n",
    "from bs4 import BeautifulSoup\n",
    "import nbformat as nbf\n",
    "\n",
    "# Define the what version of Python and the desired module.\n",
    "# py_version = '3.6'\n",
    "# module = 'functools'\n",
    "\n",
    "# url = 'https://docs.python.org/{}/library/{}.html'.format(py_version, module)\n",
    "url = 'https://www.crummy.com/software/BeautifulSoup/bs4/doc/'\n",
    "req = request.urlopen(url)\n",
    "info = req.read()\n",
    "soup = BeautifulSoup(info, 'html.parser')"
   ]
  },
  {
   "cell_type": "code",
   "execution_count": 9,
   "metadata": {},
   "outputs": [
    {
     "ename": "AttributeError",
     "evalue": "'NoneType' object has no attribute 'body'",
     "output_type": "error",
     "traceback": [
      "\u001b[1;31m---------------------------------------------------------------------------\u001b[0m",
      "\u001b[1;31mAttributeError\u001b[0m                            Traceback (most recent call last)",
      "\u001b[1;32m<ipython-input-9-4e8f29548bc2>\u001b[0m in \u001b[0;36m<module>\u001b[1;34m()\u001b[0m\n\u001b[0;32m      1\u001b[0m \u001b[1;31m# Isolate the portion of the page that we want.\u001b[0m\u001b[1;33m\u001b[0m\u001b[1;33m\u001b[0m\u001b[0m\n\u001b[1;32m----> 2\u001b[1;33m \u001b[0msoup\u001b[0m \u001b[1;33m=\u001b[0m \u001b[0msoup\u001b[0m\u001b[1;33m.\u001b[0m\u001b[0mbody\u001b[0m\u001b[1;33m\u001b[0m\u001b[0m\n\u001b[0m\u001b[0;32m      3\u001b[0m \u001b[0msections\u001b[0m \u001b[1;33m=\u001b[0m \u001b[0msoup\u001b[0m\u001b[1;33m.\u001b[0m\u001b[0mfindall\u001b[0m\u001b[1;33m(\u001b[0m\u001b[1;34m'div'\u001b[0m\u001b[1;33m,\u001b[0m \u001b[0mclass_\u001b[0m\u001b[1;33m=\u001b[0m\u001b[1;34m'section'\u001b[0m\u001b[1;33m)\u001b[0m\u001b[1;33m\u001b[0m\u001b[0m\n\u001b[0;32m      4\u001b[0m \u001b[0mmain_section\u001b[0m \u001b[1;33m=\u001b[0m \u001b[0msections\u001b[0m\u001b[1;33m[\u001b[0m\u001b[1;36m0\u001b[0m\u001b[1;33m]\u001b[0m\u001b[1;33m\u001b[0m\u001b[0m\n\u001b[0;32m      5\u001b[0m \u001b[0mstr_soup\u001b[0m \u001b[1;33m=\u001b[0m \u001b[0mmain_section\u001b[0m\u001b[1;33m.\u001b[0m\u001b[0mdecode\u001b[0m\u001b[1;33m(\u001b[0m\u001b[1;33m)\u001b[0m\u001b[1;33m\u001b[0m\u001b[0m\n",
      "\u001b[1;31mAttributeError\u001b[0m: 'NoneType' object has no attribute 'body'"
     ]
    }
   ],
   "source": [
    "# Isolate the portion of the page that we want.\n",
    "soup = soup.body\n",
    "sections = soup.findall('div', class_='section')\n",
    "main_section = sections[0]\n",
    "str_soup = main_section.decode()\n",
    "str_soup"
   ]
  },
  {
   "cell_type": "code",
   "execution_count": null,
   "metadata": {
    "collapsed": true
   },
   "outputs": [],
   "source": [
    "# Get all of the Python code divs\n",
    "py = soup.find_all(class_=re.compile('python'))\n",
    "\n",
    "def clean_up(dirty_code):\n",
    "    \"\"\"Clean up sphinx formatted code.\"\"\"\n",
    "    # Use the re module to find working code.\n",
    "    if '>>>' in dirty_code.text:\n",
    "        result = re.findall('^>{3}(.+)|^\\.{3}(.+)', dirty_code.text, flags=re.M)\n",
    "        result = '\\n'.join([[k[1:] for k in i if len(k)>0][0] for i in result if len(i)>0])\n",
    "        return result\n",
    "    else:\n",
    "        return dirty_code.text\n",
    "    \n",
    "# Split up the text on every code div\n",
    "first_part = str_soup.split(str(py[0]))\n",
    "start = str_soup.split(str(py[0]))\n",
    "chunks = [start[0]]\n",
    "remainder = start[1]"
   ]
  },
  {
   "cell_type": "code",
   "execution_count": 7,
   "metadata": {},
   "outputs": [
    {
     "ename": "IndexError",
     "evalue": "list index out of range",
     "output_type": "error",
     "traceback": [
      "\u001b[1;31m---------------------------------------------------------------------------\u001b[0m",
      "\u001b[1;31mIndexError\u001b[0m                                Traceback (most recent call last)",
      "\u001b[1;32m<ipython-input-7-22efa29fa6f7>\u001b[0m in \u001b[0;36m<module>\u001b[1;34m()\u001b[0m\n\u001b[0;32m     22\u001b[0m \u001b[0mstart\u001b[0m \u001b[1;33m=\u001b[0m \u001b[0mstr_soup\u001b[0m\u001b[1;33m.\u001b[0m\u001b[0msplit\u001b[0m\u001b[1;33m(\u001b[0m\u001b[0mstr\u001b[0m\u001b[1;33m(\u001b[0m\u001b[0mpy\u001b[0m\u001b[1;33m[\u001b[0m\u001b[1;36m0\u001b[0m\u001b[1;33m]\u001b[0m\u001b[1;33m)\u001b[0m\u001b[1;33m)\u001b[0m\u001b[1;33m\u001b[0m\u001b[0m\n\u001b[0;32m     23\u001b[0m \u001b[0mchunks\u001b[0m \u001b[1;33m=\u001b[0m \u001b[1;33m[\u001b[0m\u001b[0mstart\u001b[0m\u001b[1;33m[\u001b[0m\u001b[1;36m0\u001b[0m\u001b[1;33m]\u001b[0m\u001b[1;33m]\u001b[0m\u001b[1;33m\u001b[0m\u001b[0m\n\u001b[1;32m---> 24\u001b[1;33m \u001b[0mremainder\u001b[0m \u001b[1;33m=\u001b[0m \u001b[0mstart\u001b[0m\u001b[1;33m[\u001b[0m\u001b[1;36m1\u001b[0m\u001b[1;33m]\u001b[0m\u001b[1;33m\u001b[0m\u001b[0m\n\u001b[0m\u001b[0;32m     25\u001b[0m \u001b[1;33m\u001b[0m\u001b[0m\n\u001b[0;32m     26\u001b[0m \u001b[1;32mfor\u001b[0m \u001b[0mi\u001b[0m \u001b[1;32min\u001b[0m \u001b[0mrange\u001b[0m\u001b[1;33m(\u001b[0m\u001b[1;36m1\u001b[0m\u001b[1;33m,\u001b[0m\u001b[0mlen\u001b[0m\u001b[1;33m(\u001b[0m\u001b[0mpy\u001b[0m\u001b[1;33m)\u001b[0m\u001b[1;33m)\u001b[0m\u001b[1;33m:\u001b[0m\u001b[1;33m\u001b[0m\u001b[0m\n",
      "\u001b[1;31mIndexError\u001b[0m: list index out of range"
     ]
    }
   ],
   "source": [
    "for i in range(1,len(py)):\n",
    "    parts = remainder.split(str(py[i]))\n",
    "    chunks.append(parts[0])\n",
    "    if len(parts)>1:\n",
    "        remainder = parts[1]\n",
    "\n",
    "# Create the notebook object.\n",
    "nb = nbf.v4.new_notebook()\n",
    "\n",
    "\n",
    "# # Adding cell that imports all of the desired modules.\n",
    "# code_cell = nbf.v4.new_code_cell('from {} import *'.format(module))\n",
    "# nb['cells'].append(code_cell)\n",
    "\n",
    "for i in range(len(py)):\n",
    "    \n",
    "    # Formatting a chunk of HTML as a markdown cell.\n",
    "    markdown_cell = nbf.v4.new_markdown_cell(chunks[i])\n",
    "    nb['cells'].append(markdown_cell)\n",
    "    # Formatting code as code cell.\n",
    "    code_cell = nbf.v4.new_code_cell(clean_up(py[i]))\n",
    "    nb['cells'].append(code_cell)\n",
    "\n",
    "# Write the output to a notebook file in the same directory.\n",
    "# fname = '{}_python{}_docs.ipynb'.format(module, py_version.replace('.',''))\n",
    "fname = 'BeautifulSoup_docs.ipynb'\n",
    "nbf.write(nb, fname)"
   ]
  },
  {
   "cell_type": "code",
   "execution_count": null,
   "metadata": {
    "collapsed": true
   },
   "outputs": [],
   "source": []
  }
 ],
 "metadata": {
  "kernelspec": {
   "display_name": "Python 3",
   "language": "python",
   "name": "python3"
  },
  "language_info": {
   "codemirror_mode": {
    "name": "ipython",
    "version": 3
   },
   "file_extension": ".py",
   "mimetype": "text/x-python",
   "name": "python",
   "nbconvert_exporter": "python",
   "pygments_lexer": "ipython3",
   "version": "3.6.1"
  },
  "varInspector": {
   "cols": {
    "lenName": 16,
    "lenType": 16,
    "lenVar": 40
   },
   "kernels_config": {
    "python": {
     "delete_cmd_postfix": "",
     "delete_cmd_prefix": "del ",
     "library": "var_list.py",
     "varRefreshCmd": "print(var_dic_list())"
    },
    "r": {
     "delete_cmd_postfix": ") ",
     "delete_cmd_prefix": "rm(",
     "library": "var_list.r",
     "varRefreshCmd": "cat(var_dic_list()) "
    }
   },
   "types_to_exclude": [
    "module",
    "function",
    "builtin_function_or_method",
    "instance",
    "_Feature"
   ],
   "window_display": false
  }
 },
 "nbformat": 4,
 "nbformat_minor": 2
}
