{
 "cells": [
  {
   "cell_type": "markdown",
   "metadata": {},
   "source": [
    "# On Python Classes and introspection"
   ]
  },
  {
   "cell_type": "markdown",
   "metadata": {},
   "source": [
    "### Find out if a class is a subclass"
   ]
  },
  {
   "cell_type": "code",
   "execution_count": 1,
   "metadata": {},
   "outputs": [
    {
     "data": {
      "text/plain": [
       "True"
      ]
     },
     "execution_count": 1,
     "metadata": {},
     "output_type": "execute_result"
    }
   ],
   "source": [
    "class Upper(object):\n",
    "    def __init__(self):\n",
    "        pass\n",
    "\n",
    "class Lower(Upper):\n",
    "    def __init__(self):\n",
    "        Upper.__init__(self)\n",
    "        self.type = type(self)\n",
    "\n",
    "issubclass(Lower, Upper)\n"
   ]
  },
  {
   "cell_type": "markdown",
   "metadata": {},
   "source": [
    "### Subclasses can _know_ that they are subclasses"
   ]
  },
  {
   "cell_type": "code",
   "execution_count": 2,
   "metadata": {},
   "outputs": [
    {
     "name": "stdout",
     "output_type": "stream",
     "text": [
      "<class '__main__.Lower'>\n",
      "True\n"
     ]
    }
   ],
   "source": [
    "class Upper(object):\n",
    "    def __init__(self):\n",
    "        pass\n",
    "\n",
    "class Lower(Upper):\n",
    "    def __init__(self):\n",
    "        Upper.__init__(self)\n",
    "        self.type = type(self)\n",
    "        self.issub = issubclass(self.type, Upper)\n",
    "\n",
    "u = Upper()\n",
    "l = Lower()\n",
    "print(l.type)\n",
    "print(l.issub)"
   ]
  },
  {
   "cell_type": "markdown",
   "metadata": {},
   "source": [
    "### Subclasses of subclasses can _know_ their parent and grandparent classes "
   ]
  },
  {
   "cell_type": "code",
   "execution_count": 3,
   "metadata": {},
   "outputs": [
    {
     "name": "stdout",
     "output_type": "stream",
     "text": [
      "<class '__main__.MoreLower'>\n",
      "True\n",
      "True\n"
     ]
    }
   ],
   "source": [
    "class MoreLower(Lower):\n",
    "    def __init__(self):\n",
    "        Lower.__init__(self)\n",
    "        self.type = type(self)\n",
    "        self.issub = issubclass(self.type, Lower)\n",
    "        self.issubsub = issubclass(self.type, Upper)\n",
    "\n",
    "\n",
    "m = MoreLower()\n",
    "print(m.type)\n",
    "print(m.issub)\n",
    "print(m.issubsub)"
   ]
  },
  {
   "cell_type": "code",
   "execution_count": 4,
   "metadata": {},
   "outputs": [
    {
     "data": {
      "text/plain": [
       "__main__.Lower"
      ]
     },
     "execution_count": 4,
     "metadata": {},
     "output_type": "execute_result"
    }
   ],
   "source": [
    "MoreLower.__base__"
   ]
  },
  {
   "cell_type": "code",
   "execution_count": 5,
   "metadata": {},
   "outputs": [
    {
     "data": {
      "text/plain": [
       "object"
      ]
     },
     "execution_count": 5,
     "metadata": {},
     "output_type": "execute_result"
    }
   ],
   "source": [
    "Upper.__base__"
   ]
  },
  {
   "cell_type": "markdown",
   "metadata": {},
   "source": [
    "---\n",
    "### [Stckoverflow: How can I find all subclasses of a class given its name?](https://stackoverflow.com/questions/3862310/how-can-i-find-all-subclasses-of-a-class-given-its-name)\n"
   ]
  },
  {
   "cell_type": "code",
   "execution_count": 6,
   "metadata": {},
   "outputs": [],
   "source": [
    "class Foo(object):\n",
    "    pass\n",
    "\n",
    "class Bar(Foo):\n",
    "    pass\n",
    "\n",
    "class Baz(Foo):\n",
    "    pass\n",
    "\n",
    "class Bing(Bar):\n",
    "    pass"
   ]
  },
  {
   "cell_type": "code",
   "execution_count": 7,
   "metadata": {},
   "outputs": [
    {
     "data": {
      "text/plain": [
       "[__main__.Bar, __main__.Baz]"
      ]
     },
     "execution_count": 7,
     "metadata": {},
     "output_type": "execute_result"
    }
   ],
   "source": [
    "#Here are the names of the subclasses:\n",
    "\n",
    "Foo.__subclasses__()"
   ]
  },
  {
   "cell_type": "code",
   "execution_count": 8,
   "metadata": {},
   "outputs": [
    {
     "name": "stdout",
     "output_type": "stream",
     "text": [
      "<class '__main__.Foo'>\n",
      "<class '__main__.Foo'>\n"
     ]
    }
   ],
   "source": [
    "# Confirmation that the subclasses do indeed list Foo as their base:\n",
    "\n",
    "for cls in Foo.__subclasses__():\n",
    "    print(cls.__base__)"
   ]
  },
  {
   "cell_type": "code",
   "execution_count": 9,
   "metadata": {},
   "outputs": [
    {
     "name": "stdout",
     "output_type": "stream",
     "text": [
      "[<class '__main__.Bar'>, <class '__main__.Baz'>, <class '__main__.Bing'>]\n"
     ]
    }
   ],
   "source": [
    "# Note if you want subsubclasses, you'll have to recurse:\n",
    "\n",
    "def all_subclasses(cls):\n",
    "    return cls.__subclasses__() + [g for s in cls.__subclasses__()\n",
    "                                   for g in all_subclasses(s)]\n",
    "\n",
    "print(all_subclasses(Foo))"
   ]
  }
 ],
 "metadata": {
  "kernelspec": {
   "display_name": "Python 3",
   "language": "python",
   "name": "python3"
  },
  "language_info": {
   "codemirror_mode": {
    "name": "ipython",
    "version": 3
   },
   "file_extension": ".py",
   "mimetype": "text/x-python",
   "name": "python",
   "nbconvert_exporter": "python",
   "pygments_lexer": "ipython3",
   "version": "3.6.3"
  }
 },
 "nbformat": 4,
 "nbformat_minor": 2
}
