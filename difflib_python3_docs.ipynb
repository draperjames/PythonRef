{
 "cells": [
  {
   "cell_type": "code",
   "execution_count": null,
   "metadata": {
    "collapsed": true
   },
   "outputs": [],
   "source": [
    "from difflib import *"
   ]
  },
  {
   "cell_type": "markdown",
   "metadata": {},
   "source": [
    "<div class=\"section\" id=\"module-difflib\">\n",
    "<span id=\"difflib-helpers-for-computing-deltas\"></span><h1>6.3. <a class=\"reference internal\" href=\"#module-difflib\" title=\"difflib: Helpers for computing differences between objects.\"><code class=\"xref py py-mod docutils literal\"><span class=\"pre\">difflib</span></code></a> — Helpers for computing deltas<a class=\"headerlink\" href=\"#module-difflib\" title=\"Permalink to this headline\">¶</a></h1>\n",
    "<p><strong>Source code:</strong> <a class=\"reference external\" href=\"https://github.com/python/cpython/tree/3.6/Lib/difflib.py\">Lib/difflib.py</a></p>\n",
    "<hr class=\"docutils\"/>\n",
    "<p>This module provides classes and functions for comparing sequences. It\n",
    "can be used for example, for comparing files, and can produce difference\n",
    "information in various formats, including HTML and context and unified\n",
    "diffs. For comparing directories and files, see also, the <a class=\"reference internal\" href=\"filecmp.html#module-filecmp\" title=\"filecmp: Compare files efficiently.\"><code class=\"xref py py-mod docutils literal\"><span class=\"pre\">filecmp</span></code></a> module.</p>\n",
    "<dl class=\"class\">\n",
    "<dt id=\"difflib.SequenceMatcher\">\n",
    "<em class=\"property\">class </em><code class=\"descclassname\">difflib.</code><code class=\"descname\">SequenceMatcher</code><a class=\"headerlink\" href=\"#difflib.SequenceMatcher\" title=\"Permalink to this definition\">¶</a></dt>\n",
    "<dd><p>This is a flexible class for comparing pairs of sequences of any type, so long\n",
    "as the sequence elements are <a class=\"reference internal\" href=\"../glossary.html#term-hashable\"><span class=\"xref std std-term\">hashable</span></a>.  The basic algorithm predates, and is a\n",
    "little fancier than, an algorithm published in the late 1980’s by Ratcliff and\n",
    "Obershelp under the hyperbolic name “gestalt pattern matching.”  The idea is to\n",
    "find the longest contiguous matching subsequence that contains no “junk”\n",
    "elements; these “junk” elements are ones that are uninteresting in some\n",
    "sense, such as blank lines or whitespace.  (Handling junk is an\n",
    "extension to the Ratcliff and Obershelp algorithm.) The same\n",
    "idea is then applied recursively to the pieces of the sequences to the left and\n",
    "to the right of the matching subsequence.  This does not yield minimal edit\n",
    "sequences, but does tend to yield matches that “look right” to people.</p>\n",
    "<p><strong>Timing:</strong> The basic Ratcliff-Obershelp algorithm is cubic time in the worst\n",
    "case and quadratic time in the expected case. <a class=\"reference internal\" href=\"#difflib.SequenceMatcher\" title=\"difflib.SequenceMatcher\"><code class=\"xref py py-class docutils literal\"><span class=\"pre\">SequenceMatcher</span></code></a> is\n",
    "quadratic time for the worst case and has expected-case behavior dependent in a\n",
    "complicated way on how many elements the sequences have in common; best case\n",
    "time is linear.</p>\n",
    "<p><strong>Automatic junk heuristic:</strong> <a class=\"reference internal\" href=\"#difflib.SequenceMatcher\" title=\"difflib.SequenceMatcher\"><code class=\"xref py py-class docutils literal\"><span class=\"pre\">SequenceMatcher</span></code></a> supports a heuristic that\n",
    "automatically treats certain sequence items as junk. The heuristic counts how many\n",
    "times each individual item appears in the sequence. If an item’s duplicates (after\n",
    "the first one) account for more than 1% of the sequence and the sequence is at least\n",
    "200 items long, this item is marked as “popular” and is treated as junk for\n",
    "the purpose of sequence matching. This heuristic can be turned off by setting\n",
    "the <code class=\"docutils literal\"><span class=\"pre\">autojunk</span></code> argument to <code class=\"docutils literal\"><span class=\"pre\">False</span></code> when creating the <a class=\"reference internal\" href=\"#difflib.SequenceMatcher\" title=\"difflib.SequenceMatcher\"><code class=\"xref py py-class docutils literal\"><span class=\"pre\">SequenceMatcher</span></code></a>.</p>\n",
    "<div class=\"versionadded\">\n",
    "<p><span class=\"versionmodified\">New in version 3.2: </span>The <em>autojunk</em> parameter.</p>\n",
    "</div>\n",
    "</dd></dl>\n",
    "<dl class=\"class\">\n",
    "<dt id=\"difflib.Differ\">\n",
    "<em class=\"property\">class </em><code class=\"descclassname\">difflib.</code><code class=\"descname\">Differ</code><a class=\"headerlink\" href=\"#difflib.Differ\" title=\"Permalink to this definition\">¶</a></dt>\n",
    "<dd><p>This is a class for comparing sequences of lines of text, and producing\n",
    "human-readable differences or deltas.  Differ uses <a class=\"reference internal\" href=\"#difflib.SequenceMatcher\" title=\"difflib.SequenceMatcher\"><code class=\"xref py py-class docutils literal\"><span class=\"pre\">SequenceMatcher</span></code></a>\n",
    "both to compare sequences of lines, and to compare sequences of characters\n",
    "within similar (near-matching) lines.</p>\n",
    "<p>Each line of a <a class=\"reference internal\" href=\"#difflib.Differ\" title=\"difflib.Differ\"><code class=\"xref py py-class docutils literal\"><span class=\"pre\">Differ</span></code></a> delta begins with a two-letter code:</p>\n",
    "<table border=\"1\" class=\"docutils\">\n",
    "<colgroup>\n",
    "<col width=\"19%\"/>\n",
    "<col width=\"81%\"/>\n",
    "</colgroup>\n",
    "<thead valign=\"bottom\">\n",
    "<tr class=\"row-odd\"><th class=\"head\">Code</th>\n",
    "<th class=\"head\">Meaning</th>\n",
    "</tr>\n",
    "</thead>\n",
    "<tbody valign=\"top\">\n",
    "<tr class=\"row-even\"><td><code class=\"docutils literal\"><span class=\"pre\">'-</span> <span class=\"pre\">'</span></code></td>\n",
    "<td>line unique to sequence 1</td>\n",
    "</tr>\n",
    "<tr class=\"row-odd\"><td><code class=\"docutils literal\"><span class=\"pre\">'+</span> <span class=\"pre\">'</span></code></td>\n",
    "<td>line unique to sequence 2</td>\n",
    "</tr>\n",
    "<tr class=\"row-even\"><td><code class=\"docutils literal\"><span class=\"pre\">'</span>  <span class=\"pre\">'</span></code></td>\n",
    "<td>line common to both sequences</td>\n",
    "</tr>\n",
    "<tr class=\"row-odd\"><td><code class=\"docutils literal\"><span class=\"pre\">'?</span> <span class=\"pre\">'</span></code></td>\n",
    "<td>line not present in either input sequence</td>\n",
    "</tr>\n",
    "</tbody>\n",
    "</table>\n",
    "<p>Lines beginning with ‘<code class=\"docutils literal\"><span class=\"pre\">?</span></code>’ attempt to guide the eye to intraline differences,\n",
    "and were not present in either input sequence. These lines can be confusing if\n",
    "the sequences contain tab characters.</p>\n",
    "</dd></dl>\n",
    "<dl class=\"class\">\n",
    "<dt id=\"difflib.HtmlDiff\">\n",
    "<em class=\"property\">class </em><code class=\"descclassname\">difflib.</code><code class=\"descname\">HtmlDiff</code><a class=\"headerlink\" href=\"#difflib.HtmlDiff\" title=\"Permalink to this definition\">¶</a></dt>\n",
    "<dd><p>This class can be used to create an HTML table (or a complete HTML file\n",
    "containing the table) showing a side by side, line by line comparison of text\n",
    "with inter-line and intra-line change highlights.  The table can be generated in\n",
    "either full or contextual difference mode.</p>\n",
    "<p>The constructor for this class is:</p>\n",
    "<dl class=\"method\">\n",
    "<dt id=\"difflib.HtmlDiff.__init__\">\n",
    "<code class=\"descname\">__init__</code><span class=\"sig-paren\">(</span><em>tabsize=8</em>, <em>wrapcolumn=None</em>, <em>linejunk=None</em>, <em>charjunk=IS_CHARACTER_JUNK</em><span class=\"sig-paren\">)</span><a class=\"headerlink\" href=\"#difflib.HtmlDiff.__init__\" title=\"Permalink to this definition\">¶</a></dt>\n",
    "<dd><p>Initializes instance of <a class=\"reference internal\" href=\"#difflib.HtmlDiff\" title=\"difflib.HtmlDiff\"><code class=\"xref py py-class docutils literal\"><span class=\"pre\">HtmlDiff</span></code></a>.</p>\n",
    "<p><em>tabsize</em> is an optional keyword argument to specify tab stop spacing and\n",
    "defaults to <code class=\"docutils literal\"><span class=\"pre\">8</span></code>.</p>\n",
    "<p><em>wrapcolumn</em> is an optional keyword to specify column number where lines are\n",
    "broken and wrapped, defaults to <code class=\"docutils literal\"><span class=\"pre\">None</span></code> where lines are not wrapped.</p>\n",
    "<p><em>linejunk</em> and <em>charjunk</em> are optional keyword arguments passed into <a class=\"reference internal\" href=\"#difflib.ndiff\" title=\"difflib.ndiff\"><code class=\"xref py py-func docutils literal\"><span class=\"pre\">ndiff()</span></code></a>\n",
    "(used by <a class=\"reference internal\" href=\"#difflib.HtmlDiff\" title=\"difflib.HtmlDiff\"><code class=\"xref py py-class docutils literal\"><span class=\"pre\">HtmlDiff</span></code></a> to generate the side by side HTML differences).  See\n",
    "<a class=\"reference internal\" href=\"#difflib.ndiff\" title=\"difflib.ndiff\"><code class=\"xref py py-func docutils literal\"><span class=\"pre\">ndiff()</span></code></a> documentation for argument default values and descriptions.</p>\n",
    "</dd></dl>\n",
    "<p>The following methods are public:</p>\n",
    "<dl class=\"method\">\n",
    "<dt id=\"difflib.HtmlDiff.make_file\">\n",
    "<code class=\"descname\">make_file</code><span class=\"sig-paren\">(</span><em>fromlines</em>, <em>tolines</em>, <em>fromdesc=”</em>, <em>todesc=”</em>, <em>context=False</em>, <em>numlines=5</em>, <em>*</em>, <em>charset=’utf-8’</em><span class=\"sig-paren\">)</span><a class=\"headerlink\" href=\"#difflib.HtmlDiff.make_file\" title=\"Permalink to this definition\">¶</a></dt>\n",
    "<dd><p>Compares <em>fromlines</em> and <em>tolines</em> (lists of strings) and returns a string which\n",
    "is a complete HTML file containing a table showing line by line differences with\n",
    "inter-line and intra-line changes highlighted.</p>\n",
    "<p><em>fromdesc</em> and <em>todesc</em> are optional keyword arguments to specify from/to file\n",
    "column header strings (both default to an empty string).</p>\n",
    "<p><em>context</em> and <em>numlines</em> are both optional keyword arguments. Set <em>context</em> to\n",
    "<code class=\"docutils literal\"><span class=\"pre\">True</span></code> when contextual differences are to be shown, else the default is\n",
    "<code class=\"docutils literal\"><span class=\"pre\">False</span></code> to show the full files. <em>numlines</em> defaults to <code class=\"docutils literal\"><span class=\"pre\">5</span></code>.  When <em>context</em>\n",
    "is <code class=\"docutils literal\"><span class=\"pre\">True</span></code> <em>numlines</em> controls the number of context lines which surround the\n",
    "difference highlights.  When <em>context</em> is <code class=\"docutils literal\"><span class=\"pre\">False</span></code> <em>numlines</em> controls the\n",
    "number of lines which are shown before a difference highlight when using the\n",
    "“next” hyperlinks (setting to zero would cause the “next” hyperlinks to place\n",
    "the next difference highlight at the top of the browser without any leading\n",
    "context).</p>\n",
    "<div class=\"versionchanged\">\n",
    "<p><span class=\"versionmodified\">Changed in version 3.5: </span><em>charset</em> keyword-only argument was added.  The default charset of\n",
    "HTML document changed from <code class=\"docutils literal\"><span class=\"pre\">'ISO-8859-1'</span></code> to <code class=\"docutils literal\"><span class=\"pre\">'utf-8'</span></code>.</p>\n",
    "</div>\n",
    "</dd></dl>\n",
    "<dl class=\"method\">\n",
    "<dt id=\"difflib.HtmlDiff.make_table\">\n",
    "<code class=\"descname\">make_table</code><span class=\"sig-paren\">(</span><em>fromlines</em>, <em>tolines</em>, <em>fromdesc=”</em>, <em>todesc=”</em>, <em>context=False</em>, <em>numlines=5</em><span class=\"sig-paren\">)</span><a class=\"headerlink\" href=\"#difflib.HtmlDiff.make_table\" title=\"Permalink to this definition\">¶</a></dt>\n",
    "<dd><p>Compares <em>fromlines</em> and <em>tolines</em> (lists of strings) and returns a string which\n",
    "is a complete HTML table showing line by line differences with inter-line and\n",
    "intra-line changes highlighted.</p>\n",
    "<p>The arguments for this method are the same as those for the <a class=\"reference internal\" href=\"#difflib.HtmlDiff.make_file\" title=\"difflib.HtmlDiff.make_file\"><code class=\"xref py py-meth docutils literal\"><span class=\"pre\">make_file()</span></code></a>\n",
    "method.</p>\n",
    "</dd></dl>\n",
    "<p><code class=\"file docutils literal\"><span class=\"pre\">Tools/scripts/diff.py</span></code> is a command-line front-end to this class and\n",
    "contains a good example of its use.</p>\n",
    "</dd></dl>\n",
    "<dl class=\"function\">\n",
    "<dt id=\"difflib.context_diff\">\n",
    "<code class=\"descclassname\">difflib.</code><code class=\"descname\">context_diff</code><span class=\"sig-paren\">(</span><em>a</em>, <em>b</em>, <em>fromfile=”</em>, <em>tofile=”</em>, <em>fromfiledate=”</em>, <em>tofiledate=”</em>, <em>n=3</em>, <em>lineterm=’\\n’</em><span class=\"sig-paren\">)</span><a class=\"headerlink\" href=\"#difflib.context_diff\" title=\"Permalink to this definition\">¶</a></dt>\n",
    "<dd><p>Compare <em>a</em> and <em>b</em> (lists of strings); return a delta (a <a class=\"reference internal\" href=\"../glossary.html#term-generator\"><span class=\"xref std std-term\">generator</span></a>\n",
    "generating the delta lines) in context diff format.</p>\n",
    "<p>Context diffs are a compact way of showing just the lines that have changed plus\n",
    "a few lines of context.  The changes are shown in a before/after style.  The\n",
    "number of context lines is set by <em>n</em> which defaults to three.</p>\n",
    "<p>By default, the diff control lines (those with <code class=\"docutils literal\"><span class=\"pre\">***</span></code> or <code class=\"docutils literal\"><span class=\"pre\">---</span></code>) are created\n",
    "with a trailing newline.  This is helpful so that inputs created from\n",
    "<a class=\"reference internal\" href=\"io.html#io.IOBase.readlines\" title=\"io.IOBase.readlines\"><code class=\"xref py py-func docutils literal\"><span class=\"pre\">io.IOBase.readlines()</span></code></a> result in diffs that are suitable for use with\n",
    "<a class=\"reference internal\" href=\"io.html#io.IOBase.writelines\" title=\"io.IOBase.writelines\"><code class=\"xref py py-func docutils literal\"><span class=\"pre\">io.IOBase.writelines()</span></code></a> since both the inputs and outputs have trailing\n",
    "newlines.</p>\n",
    "<p>For inputs that do not have trailing newlines, set the <em>lineterm</em> argument to\n",
    "<code class=\"docutils literal\"><span class=\"pre\">\"\"</span></code> so that the output will be uniformly newline free.</p>\n",
    "<p>The context diff format normally has a header for filenames and modification\n",
    "times.  Any or all of these may be specified using strings for <em>fromfile</em>,\n",
    "<em>tofile</em>, <em>fromfiledate</em>, and <em>tofiledate</em>.  The modification times are normally\n",
    "expressed in the ISO 8601 format. If not specified, the\n",
    "strings default to blanks.</p>\n"
   ]
  },
  {
   "cell_type": "code",
   "execution_count": null,
   "metadata": {
    "collapsed": true
   },
   "outputs": [],
   "source": [
    "s1 = ['bacon\\n', 'eggs\\n', 'ham\\n', 'guido\\n']\n",
    "s2 = ['python\\n', 'eggy\\n', 'hamster\\n', 'guido\\n']\n",
    "sys.stdout.writelines(context_diff(s1, s2, fromfile='before.py', tofile='after.py'))"
   ]
  },
  {
   "cell_type": "markdown",
   "metadata": {},
   "source": [
    "\n",
    "<p>See <a class=\"reference internal\" href=\"#difflib-interface\"><span class=\"std std-ref\">A command-line interface to difflib</span></a> for a more detailed example.</p>\n",
    "</dd></dl>\n",
    "<dl class=\"function\">\n",
    "<dt id=\"difflib.get_close_matches\">\n",
    "<code class=\"descclassname\">difflib.</code><code class=\"descname\">get_close_matches</code><span class=\"sig-paren\">(</span><em>word</em>, <em>possibilities</em>, <em>n=3</em>, <em>cutoff=0.6</em><span class=\"sig-paren\">)</span><a class=\"headerlink\" href=\"#difflib.get_close_matches\" title=\"Permalink to this definition\">¶</a></dt>\n",
    "<dd><p>Return a list of the best “good enough” matches.  <em>word</em> is a sequence for which\n",
    "close matches are desired (typically a string), and <em>possibilities</em> is a list of\n",
    "sequences against which to match <em>word</em> (typically a list of strings).</p>\n",
    "<p>Optional argument <em>n</em> (default <code class=\"docutils literal\"><span class=\"pre\">3</span></code>) is the maximum number of close matches to\n",
    "return; <em>n</em> must be greater than <code class=\"docutils literal\"><span class=\"pre\">0</span></code>.</p>\n",
    "<p>Optional argument <em>cutoff</em> (default <code class=\"docutils literal\"><span class=\"pre\">0.6</span></code>) is a float in the range [0, 1].\n",
    "Possibilities that don’t score at least that similar to <em>word</em> are ignored.</p>\n",
    "<p>The best (no more than <em>n</em>) matches among the possibilities are returned in a\n",
    "list, sorted by similarity score, most similar first.</p>\n"
   ]
  },
  {
   "cell_type": "code",
   "execution_count": null,
   "metadata": {
    "collapsed": true
   },
   "outputs": [],
   "source": [
    "get_close_matches('appel', ['ape', 'apple', 'peach', 'puppy'])\n",
    "import keyword\n",
    "get_close_matches('wheel', keyword.kwlist)\n",
    "get_close_matches('pineapple', keyword.kwlist)\n",
    "get_close_matches('accept', keyword.kwlist)"
   ]
  },
  {
   "cell_type": "markdown",
   "metadata": {},
   "source": [
    "\n",
    "</dd></dl>\n",
    "<dl class=\"function\">\n",
    "<dt id=\"difflib.ndiff\">\n",
    "<code class=\"descclassname\">difflib.</code><code class=\"descname\">ndiff</code><span class=\"sig-paren\">(</span><em>a</em>, <em>b</em>, <em>linejunk=None</em>, <em>charjunk=IS_CHARACTER_JUNK</em><span class=\"sig-paren\">)</span><a class=\"headerlink\" href=\"#difflib.ndiff\" title=\"Permalink to this definition\">¶</a></dt>\n",
    "<dd><p>Compare <em>a</em> and <em>b</em> (lists of strings); return a <a class=\"reference internal\" href=\"#difflib.Differ\" title=\"difflib.Differ\"><code class=\"xref py py-class docutils literal\"><span class=\"pre\">Differ</span></code></a>-style\n",
    "delta (a <a class=\"reference internal\" href=\"../glossary.html#term-generator\"><span class=\"xref std std-term\">generator</span></a> generating the delta lines).</p>\n",
    "<p>Optional keyword parameters <em>linejunk</em> and <em>charjunk</em> are filtering functions\n",
    "(or <code class=\"docutils literal\"><span class=\"pre\">None</span></code>):</p>\n",
    "<p><em>linejunk</em>: A function that accepts a single string argument, and returns\n",
    "true if the string is junk, or false if not. The default is <code class=\"docutils literal\"><span class=\"pre\">None</span></code>. There\n",
    "is also a module-level function <a class=\"reference internal\" href=\"#difflib.IS_LINE_JUNK\" title=\"difflib.IS_LINE_JUNK\"><code class=\"xref py py-func docutils literal\"><span class=\"pre\">IS_LINE_JUNK()</span></code></a>, which filters out lines\n",
    "without visible characters, except for at most one pound character (<code class=\"docutils literal\"><span class=\"pre\">'#'</span></code>)\n",
    "– however the underlying <a class=\"reference internal\" href=\"#difflib.SequenceMatcher\" title=\"difflib.SequenceMatcher\"><code class=\"xref py py-class docutils literal\"><span class=\"pre\">SequenceMatcher</span></code></a> class does a dynamic\n",
    "analysis of which lines are so frequent as to constitute noise, and this\n",
    "usually works better than using this function.</p>\n",
    "<p><em>charjunk</em>: A function that accepts a character (a string of length 1), and\n",
    "returns if the character is junk, or false if not. The default is module-level\n",
    "function <a class=\"reference internal\" href=\"#difflib.IS_CHARACTER_JUNK\" title=\"difflib.IS_CHARACTER_JUNK\"><code class=\"xref py py-func docutils literal\"><span class=\"pre\">IS_CHARACTER_JUNK()</span></code></a>, which filters out whitespace characters (a\n",
    "blank or tab; it’s a bad idea to include newline in this!).</p>\n",
    "<p><code class=\"file docutils literal\"><span class=\"pre\">Tools/scripts/ndiff.py</span></code> is a command-line front-end to this function.</p>\n"
   ]
  },
  {
   "cell_type": "code",
   "execution_count": null,
   "metadata": {
    "collapsed": true
   },
   "outputs": [],
   "source": [
    "diff = ndiff('one\\ntwo\\nthree\\n'.splitlines(keepends=True),\n",
    "             'ore\\ntree\\nemu\\n'.splitlines(keepends=True))\n",
    "print(''.join(diff), end=\"\")"
   ]
  },
  {
   "cell_type": "markdown",
   "metadata": {},
   "source": [
    "\n",
    "</dd></dl>\n",
    "<dl class=\"function\">\n",
    "<dt id=\"difflib.restore\">\n",
    "<code class=\"descclassname\">difflib.</code><code class=\"descname\">restore</code><span class=\"sig-paren\">(</span><em>sequence</em>, <em>which</em><span class=\"sig-paren\">)</span><a class=\"headerlink\" href=\"#difflib.restore\" title=\"Permalink to this definition\">¶</a></dt>\n",
    "<dd><p>Return one of the two sequences that generated a delta.</p>\n",
    "<p>Given a <em>sequence</em> produced by <a class=\"reference internal\" href=\"#difflib.Differ.compare\" title=\"difflib.Differ.compare\"><code class=\"xref py py-meth docutils literal\"><span class=\"pre\">Differ.compare()</span></code></a> or <a class=\"reference internal\" href=\"#difflib.ndiff\" title=\"difflib.ndiff\"><code class=\"xref py py-func docutils literal\"><span class=\"pre\">ndiff()</span></code></a>, extract\n",
    "lines originating from file 1 or 2 (parameter <em>which</em>), stripping off line\n",
    "prefixes.</p>\n",
    "<p>Example:</p>\n"
   ]
  },
  {
   "cell_type": "code",
   "execution_count": null,
   "metadata": {
    "collapsed": true
   },
   "outputs": [],
   "source": [
    "diff = ndiff('one\\ntwo\\nthree\\n'.splitlines(keepends=True),\n",
    "             'ore\\ntree\\nemu\\n'.splitlines(keepends=True))\n",
    "diff = list(diff) # materialize the generated delta into a list\n",
    "print(''.join(restore(diff, 1)), end=\"\")\n",
    "print(''.join(restore(diff, 2)), end=\"\")"
   ]
  },
  {
   "cell_type": "markdown",
   "metadata": {},
   "source": [
    "\n",
    "</dd></dl>\n",
    "<dl class=\"function\">\n",
    "<dt id=\"difflib.unified_diff\">\n",
    "<code class=\"descclassname\">difflib.</code><code class=\"descname\">unified_diff</code><span class=\"sig-paren\">(</span><em>a</em>, <em>b</em>, <em>fromfile=”</em>, <em>tofile=”</em>, <em>fromfiledate=”</em>, <em>tofiledate=”</em>, <em>n=3</em>, <em>lineterm=’\\n’</em><span class=\"sig-paren\">)</span><a class=\"headerlink\" href=\"#difflib.unified_diff\" title=\"Permalink to this definition\">¶</a></dt>\n",
    "<dd><p>Compare <em>a</em> and <em>b</em> (lists of strings); return a delta (a <a class=\"reference internal\" href=\"../glossary.html#term-generator\"><span class=\"xref std std-term\">generator</span></a>\n",
    "generating the delta lines) in unified diff format.</p>\n",
    "<p>Unified diffs are a compact way of showing just the lines that have changed plus\n",
    "a few lines of context.  The changes are shown in an inline style (instead of\n",
    "separate before/after blocks).  The number of context lines is set by <em>n</em> which\n",
    "defaults to three.</p>\n",
    "<p>By default, the diff control lines (those with <code class=\"docutils literal\"><span class=\"pre\">---</span></code>, <code class=\"docutils literal\"><span class=\"pre\">+++</span></code>, or <code class=\"docutils literal\"><span class=\"pre\">@@</span></code>) are\n",
    "created with a trailing newline.  This is helpful so that inputs created from\n",
    "<a class=\"reference internal\" href=\"io.html#io.IOBase.readlines\" title=\"io.IOBase.readlines\"><code class=\"xref py py-func docutils literal\"><span class=\"pre\">io.IOBase.readlines()</span></code></a> result in diffs that are suitable for use with\n",
    "<a class=\"reference internal\" href=\"io.html#io.IOBase.writelines\" title=\"io.IOBase.writelines\"><code class=\"xref py py-func docutils literal\"><span class=\"pre\">io.IOBase.writelines()</span></code></a> since both the inputs and outputs have trailing\n",
    "newlines.</p>\n",
    "<p>For inputs that do not have trailing newlines, set the <em>lineterm</em> argument to\n",
    "<code class=\"docutils literal\"><span class=\"pre\">\"\"</span></code> so that the output will be uniformly newline free.</p>\n",
    "<p>The context diff format normally has a header for filenames and modification\n",
    "times.  Any or all of these may be specified using strings for <em>fromfile</em>,\n",
    "<em>tofile</em>, <em>fromfiledate</em>, and <em>tofiledate</em>.  The modification times are normally\n",
    "expressed in the ISO 8601 format. If not specified, the\n",
    "strings default to blanks.</p>\n"
   ]
  },
  {
   "cell_type": "code",
   "execution_count": null,
   "metadata": {
    "collapsed": true
   },
   "outputs": [],
   "source": [
    "s1 = ['bacon\\n', 'eggs\\n', 'ham\\n', 'guido\\n']\n",
    "s2 = ['python\\n', 'eggy\\n', 'hamster\\n', 'guido\\n']\n",
    "sys.stdout.writelines(unified_diff(s1, s2, fromfile='before.py', tofile='after.py'))"
   ]
  },
  {
   "cell_type": "markdown",
   "metadata": {},
   "source": [
    "\n",
    "<p>See <a class=\"reference internal\" href=\"#difflib-interface\"><span class=\"std std-ref\">A command-line interface to difflib</span></a> for a more detailed example.</p>\n",
    "</dd></dl>\n",
    "<dl class=\"function\">\n",
    "<dt id=\"difflib.diff_bytes\">\n",
    "<code class=\"descclassname\">difflib.</code><code class=\"descname\">diff_bytes</code><span class=\"sig-paren\">(</span><em>dfunc</em>, <em>a</em>, <em>b</em>, <em>fromfile=b”</em>, <em>tofile=b”</em>, <em>fromfiledate=b”</em>, <em>tofiledate=b”</em>, <em>n=3</em>, <em>lineterm=b’\\n’</em><span class=\"sig-paren\">)</span><a class=\"headerlink\" href=\"#difflib.diff_bytes\" title=\"Permalink to this definition\">¶</a></dt>\n",
    "<dd><p>Compare <em>a</em> and <em>b</em> (lists of bytes objects) using <em>dfunc</em>; yield a\n",
    "sequence of delta lines (also bytes) in the format returned by <em>dfunc</em>.\n",
    "<em>dfunc</em> must be a callable, typically either <a class=\"reference internal\" href=\"#difflib.unified_diff\" title=\"difflib.unified_diff\"><code class=\"xref py py-func docutils literal\"><span class=\"pre\">unified_diff()</span></code></a> or\n",
    "<a class=\"reference internal\" href=\"#difflib.context_diff\" title=\"difflib.context_diff\"><code class=\"xref py py-func docutils literal\"><span class=\"pre\">context_diff()</span></code></a>.</p>\n",
    "<p>Allows you to compare data with unknown or inconsistent encoding. All\n",
    "inputs except <em>n</em> must be bytes objects, not str. Works by losslessly\n",
    "converting all inputs (except <em>n</em>) to str, and calling <code class=\"docutils literal\"><span class=\"pre\">dfunc(a,</span> <span class=\"pre\">b,</span>\n",
    "<span class=\"pre\">fromfile,</span> <span class=\"pre\">tofile,</span> <span class=\"pre\">fromfiledate,</span> <span class=\"pre\">tofiledate,</span> <span class=\"pre\">n,</span> <span class=\"pre\">lineterm)</span></code>. The output of\n",
    "<em>dfunc</em> is then converted back to bytes, so the delta lines that you\n",
    "receive have the same unknown/inconsistent encodings as <em>a</em> and <em>b</em>.</p>\n",
    "<div class=\"versionadded\">\n",
    "<p><span class=\"versionmodified\">New in version 3.5.</span></p>\n",
    "</div>\n",
    "</dd></dl>\n",
    "<dl class=\"function\">\n",
    "<dt id=\"difflib.IS_LINE_JUNK\">\n",
    "<code class=\"descclassname\">difflib.</code><code class=\"descname\">IS_LINE_JUNK</code><span class=\"sig-paren\">(</span><em>line</em><span class=\"sig-paren\">)</span><a class=\"headerlink\" href=\"#difflib.IS_LINE_JUNK\" title=\"Permalink to this definition\">¶</a></dt>\n",
    "<dd><p>Return true for ignorable lines.  The line <em>line</em> is ignorable if <em>line</em> is\n",
    "blank or contains a single <code class=\"docutils literal\"><span class=\"pre\">'#'</span></code>, otherwise it is not ignorable.  Used as a\n",
    "default for parameter <em>linejunk</em> in <a class=\"reference internal\" href=\"#difflib.ndiff\" title=\"difflib.ndiff\"><code class=\"xref py py-func docutils literal\"><span class=\"pre\">ndiff()</span></code></a> in older versions.</p>\n",
    "</dd></dl>\n",
    "<dl class=\"function\">\n",
    "<dt id=\"difflib.IS_CHARACTER_JUNK\">\n",
    "<code class=\"descclassname\">difflib.</code><code class=\"descname\">IS_CHARACTER_JUNK</code><span class=\"sig-paren\">(</span><em>ch</em><span class=\"sig-paren\">)</span><a class=\"headerlink\" href=\"#difflib.IS_CHARACTER_JUNK\" title=\"Permalink to this definition\">¶</a></dt>\n",
    "<dd><p>Return true for ignorable characters.  The character <em>ch</em> is ignorable if <em>ch</em>\n",
    "is a space or tab, otherwise it is not ignorable.  Used as a default for\n",
    "parameter <em>charjunk</em> in <a class=\"reference internal\" href=\"#difflib.ndiff\" title=\"difflib.ndiff\"><code class=\"xref py py-func docutils literal\"><span class=\"pre\">ndiff()</span></code></a>.</p>\n",
    "</dd></dl>\n",
    "<div class=\"admonition seealso\">\n",
    "<p class=\"first admonition-title\">See also</p>\n",
    "<dl class=\"last docutils\">\n",
    "<dt><a class=\"reference external\" href=\"http://www.drdobbs.com/database/pattern-matching-the-gestalt-approach/184407970\">Pattern Matching: The Gestalt Approach</a></dt>\n",
    "<dd>Discussion of a similar algorithm by John W. Ratcliff and D. E. Metzener. This\n",
    "was published in <a class=\"reference external\" href=\"http://www.drdobbs.com/\">Dr. Dobb’s Journal</a> in July, 1988.</dd>\n",
    "</dl>\n",
    "</div>\n",
    "<div class=\"section\" id=\"sequencematcher-objects\">\n",
    "<span id=\"sequence-matcher\"></span><h2>6.3.1. SequenceMatcher Objects<a class=\"headerlink\" href=\"#sequencematcher-objects\" title=\"Permalink to this headline\">¶</a></h2>\n",
    "<p>The <a class=\"reference internal\" href=\"#difflib.SequenceMatcher\" title=\"difflib.SequenceMatcher\"><code class=\"xref py py-class docutils literal\"><span class=\"pre\">SequenceMatcher</span></code></a> class has this constructor:</p>\n",
    "<dl class=\"class\">\n",
    "<dt>\n",
    "<em class=\"property\">class </em><code class=\"descclassname\">difflib.</code><code class=\"descname\">SequenceMatcher</code><span class=\"sig-paren\">(</span><em>isjunk=None</em>, <em>a=”</em>, <em>b=”</em>, <em>autojunk=True</em><span class=\"sig-paren\">)</span></dt>\n",
    "<dd><p>Optional argument <em>isjunk</em> must be <code class=\"docutils literal\"><span class=\"pre\">None</span></code> (the default) or a one-argument\n",
    "function that takes a sequence element and returns true if and only if the\n",
    "element is “junk” and should be ignored. Passing <code class=\"docutils literal\"><span class=\"pre\">None</span></code> for <em>isjunk</em> is\n",
    "equivalent to passing <code class=\"docutils literal\"><span class=\"pre\">lambda</span> <span class=\"pre\">x:</span> <span class=\"pre\">0</span></code>; in other words, no elements are ignored.\n",
    "For example, pass:</p>\n"
   ]
  },
  {
   "cell_type": "code",
   "execution_count": null,
   "metadata": {
    "collapsed": true
   },
   "outputs": [],
   "source": [
    "lambda x: x in \" \\t\"\n",
    "\n"
   ]
  },
  {
   "cell_type": "markdown",
   "metadata": {},
   "source": [
    "\n",
    "<p>if you’re comparing lines as sequences of characters, and don’t want to synch up\n",
    "on blanks or hard tabs.</p>\n",
    "<p>The optional arguments <em>a</em> and <em>b</em> are sequences to be compared; both default to\n",
    "empty strings.  The elements of both sequences must be <a class=\"reference internal\" href=\"../glossary.html#term-hashable\"><span class=\"xref std std-term\">hashable</span></a>.</p>\n",
    "<p>The optional argument <em>autojunk</em> can be used to disable the automatic junk\n",
    "heuristic.</p>\n",
    "<div class=\"versionadded\">\n",
    "<p><span class=\"versionmodified\">New in version 3.2: </span>The <em>autojunk</em> parameter.</p>\n",
    "</div>\n",
    "<p>SequenceMatcher objects get three data attributes: <em>bjunk</em> is the\n",
    "set of elements of <em>b</em> for which <em>isjunk</em> is <code class=\"docutils literal\"><span class=\"pre\">True</span></code>; <em>bpopular</em> is the set of\n",
    "non-junk elements considered popular by the heuristic (if it is not\n",
    "disabled); <em>b2j</em> is a dict mapping the remaining elements of <em>b</em> to a list\n",
    "of positions where they occur. All three are reset whenever <em>b</em> is reset\n",
    "with <a class=\"reference internal\" href=\"#difflib.SequenceMatcher.set_seqs\" title=\"difflib.SequenceMatcher.set_seqs\"><code class=\"xref py py-meth docutils literal\"><span class=\"pre\">set_seqs()</span></code></a> or <a class=\"reference internal\" href=\"#difflib.SequenceMatcher.set_seq2\" title=\"difflib.SequenceMatcher.set_seq2\"><code class=\"xref py py-meth docutils literal\"><span class=\"pre\">set_seq2()</span></code></a>.</p>\n",
    "<div class=\"versionadded\">\n",
    "<p><span class=\"versionmodified\">New in version 3.2: </span>The <em>bjunk</em> and <em>bpopular</em> attributes.</p>\n",
    "</div>\n",
    "<p><a class=\"reference internal\" href=\"#difflib.SequenceMatcher\" title=\"difflib.SequenceMatcher\"><code class=\"xref py py-class docutils literal\"><span class=\"pre\">SequenceMatcher</span></code></a> objects have the following methods:</p>\n",
    "<dl class=\"method\">\n",
    "<dt id=\"difflib.SequenceMatcher.set_seqs\">\n",
    "<code class=\"descname\">set_seqs</code><span class=\"sig-paren\">(</span><em>a</em>, <em>b</em><span class=\"sig-paren\">)</span><a class=\"headerlink\" href=\"#difflib.SequenceMatcher.set_seqs\" title=\"Permalink to this definition\">¶</a></dt>\n",
    "<dd><p>Set the two sequences to be compared.</p>\n",
    "</dd></dl>\n",
    "<p><a class=\"reference internal\" href=\"#difflib.SequenceMatcher\" title=\"difflib.SequenceMatcher\"><code class=\"xref py py-class docutils literal\"><span class=\"pre\">SequenceMatcher</span></code></a> computes and caches detailed information about the\n",
    "second sequence, so if you want to compare one sequence against many\n",
    "sequences, use <a class=\"reference internal\" href=\"#difflib.SequenceMatcher.set_seq2\" title=\"difflib.SequenceMatcher.set_seq2\"><code class=\"xref py py-meth docutils literal\"><span class=\"pre\">set_seq2()</span></code></a> to set the commonly used sequence once and\n",
    "call <a class=\"reference internal\" href=\"#difflib.SequenceMatcher.set_seq1\" title=\"difflib.SequenceMatcher.set_seq1\"><code class=\"xref py py-meth docutils literal\"><span class=\"pre\">set_seq1()</span></code></a> repeatedly, once for each of the other sequences.</p>\n",
    "<dl class=\"method\">\n",
    "<dt id=\"difflib.SequenceMatcher.set_seq1\">\n",
    "<code class=\"descname\">set_seq1</code><span class=\"sig-paren\">(</span><em>a</em><span class=\"sig-paren\">)</span><a class=\"headerlink\" href=\"#difflib.SequenceMatcher.set_seq1\" title=\"Permalink to this definition\">¶</a></dt>\n",
    "<dd><p>Set the first sequence to be compared.  The second sequence to be compared\n",
    "is not changed.</p>\n",
    "</dd></dl>\n",
    "<dl class=\"method\">\n",
    "<dt id=\"difflib.SequenceMatcher.set_seq2\">\n",
    "<code class=\"descname\">set_seq2</code><span class=\"sig-paren\">(</span><em>b</em><span class=\"sig-paren\">)</span><a class=\"headerlink\" href=\"#difflib.SequenceMatcher.set_seq2\" title=\"Permalink to this definition\">¶</a></dt>\n",
    "<dd><p>Set the second sequence to be compared.  The first sequence to be compared\n",
    "is not changed.</p>\n",
    "</dd></dl>\n",
    "<dl class=\"method\">\n",
    "<dt id=\"difflib.SequenceMatcher.find_longest_match\">\n",
    "<code class=\"descname\">find_longest_match</code><span class=\"sig-paren\">(</span><em>alo</em>, <em>ahi</em>, <em>blo</em>, <em>bhi</em><span class=\"sig-paren\">)</span><a class=\"headerlink\" href=\"#difflib.SequenceMatcher.find_longest_match\" title=\"Permalink to this definition\">¶</a></dt>\n",
    "<dd><p>Find longest matching block in <code class=\"docutils literal\"><span class=\"pre\">a[alo:ahi]</span></code> and <code class=\"docutils literal\"><span class=\"pre\">b[blo:bhi]</span></code>.</p>\n",
    "<p>If <em>isjunk</em> was omitted or <code class=\"docutils literal\"><span class=\"pre\">None</span></code>, <a class=\"reference internal\" href=\"#difflib.SequenceMatcher.find_longest_match\" title=\"difflib.SequenceMatcher.find_longest_match\"><code class=\"xref py py-meth docutils literal\"><span class=\"pre\">find_longest_match()</span></code></a> returns\n",
    "<code class=\"docutils literal\"><span class=\"pre\">(i,</span> <span class=\"pre\">j,</span> <span class=\"pre\">k)</span></code> such that <code class=\"docutils literal\"><span class=\"pre\">a[i:i+k]</span></code> is equal to <code class=\"docutils literal\"><span class=\"pre\">b[j:j+k]</span></code>, where <code class=\"docutils literal\"><span class=\"pre\">alo</span>\n",
    "<span class=\"pre\">&lt;=</span> <span class=\"pre\">i</span> <span class=\"pre\">&lt;=</span> <span class=\"pre\">i+k</span> <span class=\"pre\">&lt;=</span> <span class=\"pre\">ahi</span></code> and <code class=\"docutils literal\"><span class=\"pre\">blo</span> <span class=\"pre\">&lt;=</span> <span class=\"pre\">j</span> <span class=\"pre\">&lt;=</span> <span class=\"pre\">j+k</span> <span class=\"pre\">&lt;=</span> <span class=\"pre\">bhi</span></code>. For all <code class=\"docutils literal\"><span class=\"pre\">(i',</span> <span class=\"pre\">j',</span>\n",
    "<span class=\"pre\">k')</span></code> meeting those conditions, the additional conditions <code class=\"docutils literal\"><span class=\"pre\">k</span> <span class=\"pre\">&gt;=</span> <span class=\"pre\">k'</span></code>, <code class=\"docutils literal\"><span class=\"pre\">i</span>\n",
    "<span class=\"pre\">&lt;=</span> <span class=\"pre\">i'</span></code>, and if <code class=\"docutils literal\"><span class=\"pre\">i</span> <span class=\"pre\">==</span> <span class=\"pre\">i'</span></code>, <code class=\"docutils literal\"><span class=\"pre\">j</span> <span class=\"pre\">&lt;=</span> <span class=\"pre\">j'</span></code> are also met. In other words, of\n",
    "all maximal matching blocks, return one that starts earliest in <em>a</em>, and\n",
    "of all those maximal matching blocks that start earliest in <em>a</em>, return\n",
    "the one that starts earliest in <em>b</em>.</p>\n"
   ]
  },
  {
   "cell_type": "code",
   "execution_count": null,
   "metadata": {
    "collapsed": true
   },
   "outputs": [],
   "source": [
    "s = SequenceMatcher(None, \" abcd\", \"abcd abcd\")\n",
    "s.find_longest_match(0, 5, 0, 9)"
   ]
  },
  {
   "cell_type": "markdown",
   "metadata": {},
   "source": [
    "\n",
    "<p>If <em>isjunk</em> was provided, first the longest matching block is determined\n",
    "as above, but with the additional restriction that no junk element appears\n",
    "in the block.  Then that block is extended as far as possible by matching\n",
    "(only) junk elements on both sides. So the resulting block never matches\n",
    "on junk except as identical junk happens to be adjacent to an interesting\n",
    "match.</p>\n",
    "<p>Here’s the same example as before, but considering blanks to be junk. That\n",
    "prevents <code class=\"docutils literal\"><span class=\"pre\">'</span> <span class=\"pre\">abcd'</span></code> from matching the <code class=\"docutils literal\"><span class=\"pre\">'</span> <span class=\"pre\">abcd'</span></code> at the tail end of the\n",
    "second sequence directly.  Instead only the <code class=\"docutils literal\"><span class=\"pre\">'abcd'</span></code> can match, and\n",
    "matches the leftmost <code class=\"docutils literal\"><span class=\"pre\">'abcd'</span></code> in the second sequence:</p>\n"
   ]
  },
  {
   "cell_type": "code",
   "execution_count": null,
   "metadata": {
    "collapsed": true
   },
   "outputs": [],
   "source": [
    "s = SequenceMatcher(lambda x: x==\" \", \" abcd\", \"abcd abcd\")\n",
    "s.find_longest_match(0, 5, 0, 9)"
   ]
  },
  {
   "cell_type": "markdown",
   "metadata": {},
   "source": [
    "\n",
    "<p>If no blocks match, this returns <code class=\"docutils literal\"><span class=\"pre\">(alo,</span> <span class=\"pre\">blo,</span> <span class=\"pre\">0)</span></code>.</p>\n",
    "<p>This method returns a <a class=\"reference internal\" href=\"../glossary.html#term-named-tuple\"><span class=\"xref std std-term\">named tuple</span></a> <code class=\"docutils literal\"><span class=\"pre\">Match(a,</span> <span class=\"pre\">b,</span> <span class=\"pre\">size)</span></code>.</p>\n",
    "</dd></dl>\n",
    "<dl class=\"method\">\n",
    "<dt id=\"difflib.SequenceMatcher.get_matching_blocks\">\n",
    "<code class=\"descname\">get_matching_blocks</code><span class=\"sig-paren\">(</span><span class=\"sig-paren\">)</span><a class=\"headerlink\" href=\"#difflib.SequenceMatcher.get_matching_blocks\" title=\"Permalink to this definition\">¶</a></dt>\n",
    "<dd><p>Return list of triples describing matching subsequences. Each triple is of\n",
    "the form <code class=\"docutils literal\"><span class=\"pre\">(i,</span> <span class=\"pre\">j,</span> <span class=\"pre\">n)</span></code>, and means that <code class=\"docutils literal\"><span class=\"pre\">a[i:i+n]</span> <span class=\"pre\">==</span> <span class=\"pre\">b[j:j+n]</span></code>.  The\n",
    "triples are monotonically increasing in <em>i</em> and <em>j</em>.</p>\n",
    "<p>The last triple is a dummy, and has the value <code class=\"docutils literal\"><span class=\"pre\">(len(a),</span> <span class=\"pre\">len(b),</span> <span class=\"pre\">0)</span></code>.  It\n",
    "is the only triple with <code class=\"docutils literal\"><span class=\"pre\">n</span> <span class=\"pre\">==</span> <span class=\"pre\">0</span></code>.  If <code class=\"docutils literal\"><span class=\"pre\">(i,</span> <span class=\"pre\">j,</span> <span class=\"pre\">n)</span></code> and <code class=\"docutils literal\"><span class=\"pre\">(i',</span> <span class=\"pre\">j',</span> <span class=\"pre\">n')</span></code>\n",
    "are adjacent triples in the list, and the second is not the last triple in\n",
    "the list, then <code class=\"docutils literal\"><span class=\"pre\">i+n</span> <span class=\"pre\">!=</span> <span class=\"pre\">i'</span></code> or <code class=\"docutils literal\"><span class=\"pre\">j+n</span> <span class=\"pre\">!=</span> <span class=\"pre\">j'</span></code>; in other words, adjacent\n",
    "triples always describe non-adjacent equal blocks.</p>\n"
   ]
  },
  {
   "cell_type": "code",
   "execution_count": null,
   "metadata": {
    "collapsed": true
   },
   "outputs": [],
   "source": [
    "s = SequenceMatcher(None, \"abxcd\", \"abcd\")\n",
    "s.get_matching_blocks()"
   ]
  },
  {
   "cell_type": "markdown",
   "metadata": {},
   "source": [
    "\n",
    "</dd></dl>\n",
    "<dl class=\"method\">\n",
    "<dt id=\"difflib.SequenceMatcher.get_opcodes\">\n",
    "<code class=\"descname\">get_opcodes</code><span class=\"sig-paren\">(</span><span class=\"sig-paren\">)</span><a class=\"headerlink\" href=\"#difflib.SequenceMatcher.get_opcodes\" title=\"Permalink to this definition\">¶</a></dt>\n",
    "<dd><p>Return list of 5-tuples describing how to turn <em>a</em> into <em>b</em>. Each tuple is\n",
    "of the form <code class=\"docutils literal\"><span class=\"pre\">(tag,</span> <span class=\"pre\">i1,</span> <span class=\"pre\">i2,</span> <span class=\"pre\">j1,</span> <span class=\"pre\">j2)</span></code>.  The first tuple has <code class=\"docutils literal\"><span class=\"pre\">i1</span> <span class=\"pre\">==</span> <span class=\"pre\">j1</span> <span class=\"pre\">==</span>\n",
    "<span class=\"pre\">0</span></code>, and remaining tuples have <em>i1</em> equal to the <em>i2</em> from the preceding\n",
    "tuple, and, likewise, <em>j1</em> equal to the previous <em>j2</em>.</p>\n",
    "<p>The <em>tag</em> values are strings, with these meanings:</p>\n",
    "<table border=\"1\" class=\"docutils\">\n",
    "<colgroup>\n",
    "<col width=\"25%\"/>\n",
    "<col width=\"75%\"/>\n",
    "</colgroup>\n",
    "<thead valign=\"bottom\">\n",
    "<tr class=\"row-odd\"><th class=\"head\">Value</th>\n",
    "<th class=\"head\">Meaning</th>\n",
    "</tr>\n",
    "</thead>\n",
    "<tbody valign=\"top\">\n",
    "<tr class=\"row-even\"><td><code class=\"docutils literal\"><span class=\"pre\">'replace'</span></code></td>\n",
    "<td><code class=\"docutils literal\"><span class=\"pre\">a[i1:i2]</span></code> should be replaced by\n",
    "<code class=\"docutils literal\"><span class=\"pre\">b[j1:j2]</span></code>.</td>\n",
    "</tr>\n",
    "<tr class=\"row-odd\"><td><code class=\"docutils literal\"><span class=\"pre\">'delete'</span></code></td>\n",
    "<td><code class=\"docutils literal\"><span class=\"pre\">a[i1:i2]</span></code> should be deleted.  Note that\n",
    "<code class=\"docutils literal\"><span class=\"pre\">j1</span> <span class=\"pre\">==</span> <span class=\"pre\">j2</span></code> in this case.</td>\n",
    "</tr>\n",
    "<tr class=\"row-even\"><td><code class=\"docutils literal\"><span class=\"pre\">'insert'</span></code></td>\n",
    "<td><code class=\"docutils literal\"><span class=\"pre\">b[j1:j2]</span></code> should be inserted at\n",
    "<code class=\"docutils literal\"><span class=\"pre\">a[i1:i1]</span></code>. Note that <code class=\"docutils literal\"><span class=\"pre\">i1</span> <span class=\"pre\">==</span> <span class=\"pre\">i2</span></code> in\n",
    "this case.</td>\n",
    "</tr>\n",
    "<tr class=\"row-odd\"><td><code class=\"docutils literal\"><span class=\"pre\">'equal'</span></code></td>\n",
    "<td><code class=\"docutils literal\"><span class=\"pre\">a[i1:i2]</span> <span class=\"pre\">==</span> <span class=\"pre\">b[j1:j2]</span></code> (the sub-sequences\n",
    "are equal).</td>\n",
    "</tr>\n",
    "</tbody>\n",
    "</table>\n",
    "<p>For example:</p>\n"
   ]
  },
  {
   "cell_type": "code",
   "execution_count": null,
   "metadata": {
    "collapsed": true
   },
   "outputs": [],
   "source": [
    "a = \"qabxcd\"\n",
    "b = \"abycdf\"\n",
    "s = SequenceMatcher(None, a, b)\n",
    "for tag, i1, i2, j1, j2 in s.get_opcodes():\n",
    "    print('{:7}   a[{}:{}] --> b[{}:{}] {!r:>8} --> {!r}'.format(\n",
    "        tag, i1, i2, j1, j2, a[i1:i2], b[j1:j2]))"
   ]
  },
  {
   "cell_type": "markdown",
   "metadata": {},
   "source": [
    "\n",
    "</dd></dl>\n",
    "<dl class=\"method\">\n",
    "<dt id=\"difflib.SequenceMatcher.get_grouped_opcodes\">\n",
    "<code class=\"descname\">get_grouped_opcodes</code><span class=\"sig-paren\">(</span><em>n=3</em><span class=\"sig-paren\">)</span><a class=\"headerlink\" href=\"#difflib.SequenceMatcher.get_grouped_opcodes\" title=\"Permalink to this definition\">¶</a></dt>\n",
    "<dd><p>Return a <a class=\"reference internal\" href=\"../glossary.html#term-generator\"><span class=\"xref std std-term\">generator</span></a> of groups with up to <em>n</em> lines of context.</p>\n",
    "<p>Starting with the groups returned by <a class=\"reference internal\" href=\"#difflib.SequenceMatcher.get_opcodes\" title=\"difflib.SequenceMatcher.get_opcodes\"><code class=\"xref py py-meth docutils literal\"><span class=\"pre\">get_opcodes()</span></code></a>, this method\n",
    "splits out smaller change clusters and eliminates intervening ranges which\n",
    "have no changes.</p>\n",
    "<p>The groups are returned in the same format as <a class=\"reference internal\" href=\"#difflib.SequenceMatcher.get_opcodes\" title=\"difflib.SequenceMatcher.get_opcodes\"><code class=\"xref py py-meth docutils literal\"><span class=\"pre\">get_opcodes()</span></code></a>.</p>\n",
    "</dd></dl>\n",
    "<dl class=\"method\">\n",
    "<dt id=\"difflib.SequenceMatcher.ratio\">\n",
    "<code class=\"descname\">ratio</code><span class=\"sig-paren\">(</span><span class=\"sig-paren\">)</span><a class=\"headerlink\" href=\"#difflib.SequenceMatcher.ratio\" title=\"Permalink to this definition\">¶</a></dt>\n",
    "<dd><p>Return a measure of the sequences’ similarity as a float in the range [0,\n",
    "1].</p>\n",
    "<p>Where T is the total number of elements in both sequences, and M is the\n",
    "number of matches, this is 2.0*M / T. Note that this is <code class=\"docutils literal\"><span class=\"pre\">1.0</span></code> if the\n",
    "sequences are identical, and <code class=\"docutils literal\"><span class=\"pre\">0.0</span></code> if they have nothing in common.</p>\n",
    "<p>This is expensive to compute if <a class=\"reference internal\" href=\"#difflib.SequenceMatcher.get_matching_blocks\" title=\"difflib.SequenceMatcher.get_matching_blocks\"><code class=\"xref py py-meth docutils literal\"><span class=\"pre\">get_matching_blocks()</span></code></a> or\n",
    "<a class=\"reference internal\" href=\"#difflib.SequenceMatcher.get_opcodes\" title=\"difflib.SequenceMatcher.get_opcodes\"><code class=\"xref py py-meth docutils literal\"><span class=\"pre\">get_opcodes()</span></code></a> hasn’t already been called, in which case you may want\n",
    "to try <a class=\"reference internal\" href=\"#difflib.SequenceMatcher.quick_ratio\" title=\"difflib.SequenceMatcher.quick_ratio\"><code class=\"xref py py-meth docutils literal\"><span class=\"pre\">quick_ratio()</span></code></a> or <a class=\"reference internal\" href=\"#difflib.SequenceMatcher.real_quick_ratio\" title=\"difflib.SequenceMatcher.real_quick_ratio\"><code class=\"xref py py-meth docutils literal\"><span class=\"pre\">real_quick_ratio()</span></code></a> first to get an\n",
    "upper bound.</p>\n",
    "</dd></dl>\n",
    "<dl class=\"method\">\n",
    "<dt id=\"difflib.SequenceMatcher.quick_ratio\">\n",
    "<code class=\"descname\">quick_ratio</code><span class=\"sig-paren\">(</span><span class=\"sig-paren\">)</span><a class=\"headerlink\" href=\"#difflib.SequenceMatcher.quick_ratio\" title=\"Permalink to this definition\">¶</a></dt>\n",
    "<dd><p>Return an upper bound on <a class=\"reference internal\" href=\"#difflib.SequenceMatcher.ratio\" title=\"difflib.SequenceMatcher.ratio\"><code class=\"xref py py-meth docutils literal\"><span class=\"pre\">ratio()</span></code></a> relatively quickly.</p>\n",
    "</dd></dl>\n",
    "<dl class=\"method\">\n",
    "<dt id=\"difflib.SequenceMatcher.real_quick_ratio\">\n",
    "<code class=\"descname\">real_quick_ratio</code><span class=\"sig-paren\">(</span><span class=\"sig-paren\">)</span><a class=\"headerlink\" href=\"#difflib.SequenceMatcher.real_quick_ratio\" title=\"Permalink to this definition\">¶</a></dt>\n",
    "<dd><p>Return an upper bound on <a class=\"reference internal\" href=\"#difflib.SequenceMatcher.ratio\" title=\"difflib.SequenceMatcher.ratio\"><code class=\"xref py py-meth docutils literal\"><span class=\"pre\">ratio()</span></code></a> very quickly.</p>\n",
    "</dd></dl>\n",
    "</dd></dl>\n",
    "<p>The three methods that return the ratio of matching to total characters can give\n",
    "different results due to differing levels of approximation, although\n",
    "<code class=\"xref py py-meth docutils literal\"><span class=\"pre\">quick_ratio()</span></code> and <code class=\"xref py py-meth docutils literal\"><span class=\"pre\">real_quick_ratio()</span></code> are always at least as large as\n",
    "<code class=\"xref py py-meth docutils literal\"><span class=\"pre\">ratio()</span></code>:</p>\n"
   ]
  },
  {
   "cell_type": "code",
   "execution_count": null,
   "metadata": {
    "collapsed": true
   },
   "outputs": [],
   "source": [
    "s = SequenceMatcher(None, \"abcd\", \"bcde\")\n",
    "s.ratio()\n",
    "s.quick_ratio()\n",
    "s.real_quick_ratio()"
   ]
  },
  {
   "cell_type": "markdown",
   "metadata": {},
   "source": [
    "\n",
    "</div>\n",
    "<div class=\"section\" id=\"sequencematcher-examples\">\n",
    "<span id=\"id1\"></span><h2>6.3.2. SequenceMatcher Examples<a class=\"headerlink\" href=\"#sequencematcher-examples\" title=\"Permalink to this headline\">¶</a></h2>\n",
    "<p>This example compares two strings, considering blanks to be “junk”:</p>\n"
   ]
  },
  {
   "cell_type": "code",
   "execution_count": null,
   "metadata": {
    "collapsed": true
   },
   "outputs": [],
   "source": [
    "s = SequenceMatcher(lambda x: x == \" \",\n",
    "                    \"private Thread currentThread;\",\n",
    "                    \"private volatile Thread currentThread;\")"
   ]
  },
  {
   "cell_type": "markdown",
   "metadata": {},
   "source": [
    "\n",
    "<p><code class=\"xref py py-meth docutils literal\"><span class=\"pre\">ratio()</span></code> returns a float in [0, 1], measuring the similarity of the\n",
    "sequences.  As a rule of thumb, a <code class=\"xref py py-meth docutils literal\"><span class=\"pre\">ratio()</span></code> value over 0.6 means the\n",
    "sequences are close matches:</p>\n"
   ]
  },
  {
   "cell_type": "code",
   "execution_count": null,
   "metadata": {
    "collapsed": true
   },
   "outputs": [],
   "source": [
    "print(round(s.ratio(), 3))"
   ]
  },
  {
   "cell_type": "markdown",
   "metadata": {},
   "source": [
    "\n",
    "<p>If you’re only interested in where the sequences match,\n",
    "<code class=\"xref py py-meth docutils literal\"><span class=\"pre\">get_matching_blocks()</span></code> is handy:</p>\n"
   ]
  },
  {
   "cell_type": "code",
   "execution_count": null,
   "metadata": {
    "collapsed": true
   },
   "outputs": [],
   "source": [
    "for block in s.get_matching_blocks():\n",
    "    print(\"a[%d] and b[%d] match for %d elements\" % block)"
   ]
  },
  {
   "cell_type": "markdown",
   "metadata": {},
   "source": [
    "\n",
    "<p>Note that the last tuple returned by <code class=\"xref py py-meth docutils literal\"><span class=\"pre\">get_matching_blocks()</span></code> is always a\n",
    "dummy, <code class=\"docutils literal\"><span class=\"pre\">(len(a),</span> <span class=\"pre\">len(b),</span> <span class=\"pre\">0)</span></code>, and this is the only case in which the last\n",
    "tuple element (number of elements matched) is <code class=\"docutils literal\"><span class=\"pre\">0</span></code>.</p>\n",
    "<p>If you want to know how to change the first sequence into the second, use\n",
    "<code class=\"xref py py-meth docutils literal\"><span class=\"pre\">get_opcodes()</span></code>:</p>\n"
   ]
  },
  {
   "cell_type": "code",
   "execution_count": null,
   "metadata": {
    "collapsed": true
   },
   "outputs": [],
   "source": [
    "for opcode in s.get_opcodes():\n",
    "    print(\"%6s a[%d:%d] b[%d:%d]\" % opcode)"
   ]
  },
  {
   "cell_type": "markdown",
   "metadata": {},
   "source": [
    "\n",
    "<div class=\"admonition seealso\">\n",
    "<p class=\"first admonition-title\">See also</p>\n",
    "<ul class=\"last simple\">\n",
    "<li>The <a class=\"reference internal\" href=\"#difflib.get_close_matches\" title=\"difflib.get_close_matches\"><code class=\"xref py py-func docutils literal\"><span class=\"pre\">get_close_matches()</span></code></a> function in this module which shows how\n",
    "simple code building on <a class=\"reference internal\" href=\"#difflib.SequenceMatcher\" title=\"difflib.SequenceMatcher\"><code class=\"xref py py-class docutils literal\"><span class=\"pre\">SequenceMatcher</span></code></a> can be used to do useful\n",
    "work.</li>\n",
    "<li><a class=\"reference external\" href=\"https://code.activestate.com/recipes/576729/\">Simple version control recipe</a> for a small application\n",
    "built with <a class=\"reference internal\" href=\"#difflib.SequenceMatcher\" title=\"difflib.SequenceMatcher\"><code class=\"xref py py-class docutils literal\"><span class=\"pre\">SequenceMatcher</span></code></a>.</li>\n",
    "</ul>\n",
    "</div>\n",
    "</div>\n",
    "<div class=\"section\" id=\"differ-objects\">\n",
    "<span id=\"id2\"></span><h2>6.3.3. Differ Objects<a class=\"headerlink\" href=\"#differ-objects\" title=\"Permalink to this headline\">¶</a></h2>\n",
    "<p>Note that <a class=\"reference internal\" href=\"#difflib.Differ\" title=\"difflib.Differ\"><code class=\"xref py py-class docutils literal\"><span class=\"pre\">Differ</span></code></a>-generated deltas make no claim to be <strong>minimal</strong>\n",
    "diffs. To the contrary, minimal diffs are often counter-intuitive, because they\n",
    "synch up anywhere possible, sometimes accidental matches 100 pages apart.\n",
    "Restricting synch points to contiguous matches preserves some notion of\n",
    "locality, at the occasional cost of producing a longer diff.</p>\n",
    "<p>The <a class=\"reference internal\" href=\"#difflib.Differ\" title=\"difflib.Differ\"><code class=\"xref py py-class docutils literal\"><span class=\"pre\">Differ</span></code></a> class has this constructor:</p>\n",
    "<dl class=\"class\">\n",
    "<dt>\n",
    "<em class=\"property\">class </em><code class=\"descclassname\">difflib.</code><code class=\"descname\">Differ</code><span class=\"sig-paren\">(</span><em>linejunk=None</em>, <em>charjunk=None</em><span class=\"sig-paren\">)</span></dt>\n",
    "<dd><p>Optional keyword parameters <em>linejunk</em> and <em>charjunk</em> are for filter functions\n",
    "(or <code class=\"docutils literal\"><span class=\"pre\">None</span></code>):</p>\n",
    "<p><em>linejunk</em>: A function that accepts a single string argument, and returns true\n",
    "if the string is junk.  The default is <code class=\"docutils literal\"><span class=\"pre\">None</span></code>, meaning that no line is\n",
    "considered junk.</p>\n",
    "<p><em>charjunk</em>: A function that accepts a single character argument (a string of\n",
    "length 1), and returns true if the character is junk. The default is <code class=\"docutils literal\"><span class=\"pre\">None</span></code>,\n",
    "meaning that no character is considered junk.</p>\n",
    "<p>These junk-filtering functions speed up matching to find\n",
    "differences and do not cause any differing lines or characters to\n",
    "be ignored.  Read the description of the\n",
    "<a class=\"reference internal\" href=\"#difflib.SequenceMatcher.find_longest_match\" title=\"difflib.SequenceMatcher.find_longest_match\"><code class=\"xref py py-meth docutils literal\"><span class=\"pre\">find_longest_match()</span></code></a> method’s <em>isjunk</em>\n",
    "parameter for an explanation.</p>\n",
    "<p><a class=\"reference internal\" href=\"#difflib.Differ\" title=\"difflib.Differ\"><code class=\"xref py py-class docutils literal\"><span class=\"pre\">Differ</span></code></a> objects are used (deltas generated) via a single method:</p>\n",
    "<dl class=\"method\">\n",
    "<dt id=\"difflib.Differ.compare\">\n",
    "<code class=\"descname\">compare</code><span class=\"sig-paren\">(</span><em>a</em>, <em>b</em><span class=\"sig-paren\">)</span><a class=\"headerlink\" href=\"#difflib.Differ.compare\" title=\"Permalink to this definition\">¶</a></dt>\n",
    "<dd><p>Compare two sequences of lines, and generate the delta (a sequence of lines).</p>\n",
    "<p>Each sequence must contain individual single-line strings ending with\n",
    "newlines.  Such sequences can be obtained from the\n",
    "<a class=\"reference internal\" href=\"io.html#io.IOBase.readlines\" title=\"io.IOBase.readlines\"><code class=\"xref py py-meth docutils literal\"><span class=\"pre\">readlines()</span></code></a> method of file-like objects.  The delta\n",
    "generated also consists of newline-terminated strings, ready to be\n",
    "printed as-is via the <a class=\"reference internal\" href=\"io.html#io.IOBase.writelines\" title=\"io.IOBase.writelines\"><code class=\"xref py py-meth docutils literal\"><span class=\"pre\">writelines()</span></code></a> method of a\n",
    "file-like object.</p>\n",
    "</dd></dl>\n",
    "</dd></dl>\n",
    "</div>\n",
    "<div class=\"section\" id=\"differ-example\">\n",
    "<span id=\"differ-examples\"></span><h2>6.3.4. Differ Example<a class=\"headerlink\" href=\"#differ-example\" title=\"Permalink to this headline\">¶</a></h2>\n",
    "<p>This example compares two texts. First we set up the texts, sequences of\n",
    "individual single-line strings ending with newlines (such sequences can also be\n",
    "obtained from the <code class=\"xref py py-meth docutils literal\"><span class=\"pre\">readlines()</span></code> method of file-like objects):</p>\n"
   ]
  },
  {
   "cell_type": "code",
   "execution_count": null,
   "metadata": {
    "collapsed": true
   },
   "outputs": [],
   "source": [
    "text1 = '''  1. Beautiful is better than ugly.\n",
    "  2. Explicit is better than implicit.\n",
    "  3. Simple is better than complex.\n",
    "  4. Complex is better than complicated.\n",
    "'''.splitlines(keepends=True)\n",
    "len(text1)\n",
    "text1[0][-1]\n",
    "text2 = '''  1. Beautiful is better than ugly.\n",
    "  3.   Simple is better than complex.\n",
    "  4. Complicated is better than complex.\n",
    "  5. Flat is better than nested.\n",
    "'''.splitlines(keepends=True)"
   ]
  },
  {
   "cell_type": "markdown",
   "metadata": {},
   "source": [
    "\n",
    "<p>Next we instantiate a Differ object:</p>\n"
   ]
  },
  {
   "cell_type": "code",
   "execution_count": null,
   "metadata": {
    "collapsed": true
   },
   "outputs": [],
   "source": [
    "d = Differ()"
   ]
  },
  {
   "cell_type": "markdown",
   "metadata": {},
   "source": [
    "\n",
    "<p>Note that when instantiating a <a class=\"reference internal\" href=\"#difflib.Differ\" title=\"difflib.Differ\"><code class=\"xref py py-class docutils literal\"><span class=\"pre\">Differ</span></code></a> object we may pass functions to\n",
    "filter out line and character “junk.”  See the <a class=\"reference internal\" href=\"#difflib.Differ\" title=\"difflib.Differ\"><code class=\"xref py py-meth docutils literal\"><span class=\"pre\">Differ()</span></code></a> constructor for\n",
    "details.</p>\n",
    "<p>Finally, we compare the two:</p>\n"
   ]
  },
  {
   "cell_type": "code",
   "execution_count": null,
   "metadata": {
    "collapsed": true
   },
   "outputs": [],
   "source": [
    "result = list(d.compare(text1, text2))"
   ]
  },
  {
   "cell_type": "markdown",
   "metadata": {},
   "source": [
    "\n",
    "<p><code class=\"docutils literal\"><span class=\"pre\">result</span></code> is a list of strings, so let’s pretty-print it:</p>\n"
   ]
  },
  {
   "cell_type": "code",
   "execution_count": null,
   "metadata": {
    "collapsed": true
   },
   "outputs": [],
   "source": [
    "from pprint import pprint\n",
    "pprint(result)"
   ]
  },
  {
   "cell_type": "markdown",
   "metadata": {},
   "source": [
    "\n",
    "<p>As a single multi-line string it looks like this:</p>\n"
   ]
  },
  {
   "cell_type": "code",
   "execution_count": null,
   "metadata": {
    "collapsed": true
   },
   "outputs": [],
   "source": [
    "import sys\n",
    "sys.stdout.writelines(result)"
   ]
  },
  {
   "cell_type": "markdown",
   "metadata": {},
   "source": [
    "\n",
    "</div>\n",
    "<div class=\"section\" id=\"a-command-line-interface-to-difflib\">\n",
    "<span id=\"difflib-interface\"></span><h2>6.3.5. A command-line interface to difflib<a class=\"headerlink\" href=\"#a-command-line-interface-to-difflib\" title=\"Permalink to this headline\">¶</a></h2>\n",
    "<p>This example shows how to use difflib to create a <code class=\"docutils literal\"><span class=\"pre\">diff</span></code>-like utility.\n",
    "It is also contained in the Python source distribution, as\n",
    "<code class=\"file docutils literal\"><span class=\"pre\">Tools/scripts/diff.py</span></code>.</p>\n"
   ]
  },
  {
   "cell_type": "code",
   "execution_count": null,
   "metadata": {
    "collapsed": true
   },
   "outputs": [],
   "source": [
    "#!/usr/bin/env python3\n",
    "\"\"\" Command line interface to difflib.py providing diffs in four formats:\n",
    "\n",
    "* ndiff:    lists every line and highlights interline changes.\n",
    "* context:  highlights clusters of changes in a before/after format.\n",
    "* unified:  highlights clusters of changes in an inline format.\n",
    "* html:     generates side by side comparison with change highlights.\n",
    "\n",
    "\"\"\"\n",
    "\n",
    "import sys, os, difflib, argparse\n",
    "from datetime import datetime, timezone\n",
    "\n",
    "def file_mtime(path):\n",
    "    t = datetime.fromtimestamp(os.stat(path).st_mtime,\n",
    "                               timezone.utc)\n",
    "    return t.astimezone().isoformat()\n",
    "\n",
    "def main():\n",
    "\n",
    "    parser = argparse.ArgumentParser()\n",
    "    parser.add_argument('-c', action='store_true', default=False,\n",
    "                        help='Produce a context format diff (default)')\n",
    "    parser.add_argument('-u', action='store_true', default=False,\n",
    "                        help='Produce a unified format diff')\n",
    "    parser.add_argument('-m', action='store_true', default=False,\n",
    "                        help='Produce HTML side by side diff '\n",
    "                             '(can use -c and -l in conjunction)')\n",
    "    parser.add_argument('-n', action='store_true', default=False,\n",
    "                        help='Produce a ndiff format diff')\n",
    "    parser.add_argument('-l', '--lines', type=int, default=3,\n",
    "                        help='Set number of context lines (default 3)')\n",
    "    parser.add_argument('fromfile')\n",
    "    parser.add_argument('tofile')\n",
    "    options = parser.parse_args()\n",
    "\n",
    "    n = options.lines\n",
    "    fromfile = options.fromfile\n",
    "    tofile = options.tofile\n",
    "\n",
    "    fromdate = file_mtime(fromfile)\n",
    "    todate = file_mtime(tofile)\n",
    "    with open(fromfile) as ff:\n",
    "        fromlines = ff.readlines()\n",
    "    with open(tofile) as tf:\n",
    "        tolines = tf.readlines()\n",
    "\n",
    "    if options.u:\n",
    "        diff = difflib.unified_diff(fromlines, tolines, fromfile, tofile, fromdate, todate, n=n)\n",
    "    elif options.n:\n",
    "        diff = difflib.ndiff(fromlines, tolines)\n",
    "    elif options.m:\n",
    "        diff = difflib.HtmlDiff().make_file(fromlines,tolines,fromfile,tofile,context=options.c,numlines=n)\n",
    "    else:\n",
    "        diff = difflib.context_diff(fromlines, tolines, fromfile, tofile, fromdate, todate, n=n)\n",
    "\n",
    "    sys.stdout.writelines(diff)\n",
    "\n",
    "if __name__ == '__main__':\n",
    "    main()\n",
    "\n"
   ]
  }
 ],
 "metadata": {
  "kernelspec": {
   "display_name": "Python 3",
   "language": "python",
   "name": "python3"
  },
  "language_info": {
   "codemirror_mode": {
    "name": "ipython",
    "version": 3
   },
   "file_extension": ".py",
   "mimetype": "text/x-python",
   "name": "python",
   "nbconvert_exporter": "python",
   "pygments_lexer": "ipython3",
   "version": "3.6.1"
  },
  "varInspector": {
   "cols": {
    "lenName": 16,
    "lenType": 16,
    "lenVar": 40
   },
   "kernels_config": {
    "python": {
     "delete_cmd_postfix": "",
     "delete_cmd_prefix": "del ",
     "library": "var_list.py",
     "varRefreshCmd": "print(var_dic_list())"
    },
    "r": {
     "delete_cmd_postfix": ") ",
     "delete_cmd_prefix": "rm(",
     "library": "var_list.r",
     "varRefreshCmd": "cat(var_dic_list()) "
    }
   },
   "types_to_exclude": [
    "module",
    "function",
    "builtin_function_or_method",
    "instance",
    "_Feature"
   ],
   "window_display": false
  }
 },
 "nbformat": 4,
 "nbformat_minor": 2
}
