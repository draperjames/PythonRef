{
 "cells": [
  {
   "cell_type": "code",
   "execution_count": 1,
   "metadata": {},
   "outputs": [],
   "source": [
    "from jtkinter import filedialog"
   ]
  },
  {
   "cell_type": "code",
   "execution_count": 18,
   "metadata": {},
   "outputs": [
    {
     "data": {
      "text/plain": [
       "'C:/Users/t440p/Documents/JupyterNotebooks/PythonRef/Bokeh Heatmap.ipynb'"
      ]
     },
     "execution_count": 18,
     "metadata": {},
     "output_type": "execute_result"
    }
   ],
   "source": [
    "res = filedialog.askopenfilename()\n",
    "\n",
    "res"
   ]
  },
  {
   "cell_type": "code",
   "execution_count": 5,
   "metadata": {},
   "outputs": [
    {
     "data": {
      "text/plain": [
       "('C:/Users/t440p/Documents/JupyterNotebooks/PythonRef/bokeh 0125.ipynb',\n",
       " 'C:/Users/t440p/Documents/JupyterNotebooks/PythonRef/Bokeh Heatmap.ipynb',\n",
       " 'C:/Users/t440p/Documents/JupyterNotebooks/PythonRef/Bokeh HoverTool Custom ToolTips.ipynb',\n",
       " 'C:/Users/t440p/Documents/JupyterNotebooks/PythonRef/Bokeh interactive plots.ipynb',\n",
       " 'C:/Users/t440p/Documents/JupyterNotebooks/PythonRef/Bokeh Jupyter Interactors and DataTables.ipynb',\n",
       " 'C:/Users/t440p/Documents/JupyterNotebooks/PythonRef/Bokeh stuff for stack overflow.ipynb')"
      ]
     },
     "execution_count": 5,
     "metadata": {},
     "output_type": "execute_result"
    }
   ],
   "source": [
    "res = filedialog.askopenfilenames()\n",
    "\n",
    "res"
   ]
  },
  {
   "cell_type": "markdown",
   "metadata": {},
   "source": [
    "---"
   ]
  },
  {
   "cell_type": "code",
   "execution_count": 19,
   "metadata": {},
   "outputs": [],
   "source": [
    "from __future__ import print_function\n",
    "from IPython.core.magic import Magics, magics_class, line_magic\n",
    "\n",
    "@magics_class\n",
    "class MyMagics(Magics):\n",
    "\n",
    "    @line_magic\n",
    "    def lmagic(self, line):\n",
    "        \"Replace current line with new output\"\n",
    "        raw_code = 'print(\"Hello world!\")'\n",
    "        # Comment out this line if you actually want to run the code.\n",
    "        self.shell.set_next_input('# %lmagic\\n{}'.format(raw_code), replace=True)\n",
    "        # Uncomment this line if you want to run the code instead.\n",
    "        # self.shell.run_cell(raw_code, store_history=False)\n",
    "\n",
    "ip = get_ipython()\n",
    "ip.register_magics(MyMagics)"
   ]
  },
  {
   "cell_type": "code",
   "execution_count": null,
   "metadata": {},
   "outputs": [],
   "source": [
    "# %lmagic\n",
    "print(\"Hello world!\")"
   ]
  },
  {
   "cell_type": "markdown",
   "metadata": {},
   "source": [
    "---"
   ]
  },
  {
   "cell_type": "code",
   "execution_count": 5,
   "metadata": {},
   "outputs": [],
   "source": [
    "import os\n",
    "import re\n",
    "import sys\n",
    "import uuid\n",
    "\n",
    "import subprocess\n",
    "from datetime import datetime\n",
    "from functools import partial\n",
    "from subprocess import CalledProcessError\n",
    "\n",
    "\n",
    "def native_cmd(cmd):\n",
    "    \"\"\"Returns the output of a native command on a give system.\n",
    "    \n",
    "    NOTE: Results may contain white space charaters at end of lines.\n",
    "    \"\"\"\n",
    "    return subprocess.check_output(cmd, shell=True).decode()\n",
    "\n",
    "native_cmd(\"echo %USERPROFILE%\")"
   ]
  },
  {
   "cell_type": "code",
   "execution_count": 7,
   "metadata": {},
   "outputs": [
    {
     "data": {
      "text/plain": [
       "'C:\\\\Users\\\\t440p'"
      ]
     },
     "execution_count": 7,
     "metadata": {},
     "output_type": "execute_result"
    }
   ],
   "source": [
    "# This is th equivalent statement in pure python.\n",
    "os.path.expandvars('%USERPROFILE%')"
   ]
  },
  {
   "cell_type": "code",
   "execution_count": null,
   "metadata": {},
   "outputs": [],
   "source": [
    "def use_nt_exe(exe_path, cmd):\n",
    "    \"\"\"Return output of an exe program given the path and command\n",
    "    NOTE: For using Windows systems.\"\"\"\n",
    "    return native_cmd('\"{}\" '.format(exe_path)+cmd)\n",
    "\n",
    "\n",
    "def load_nt_exe(path):\n",
    "    \"\"\"Return a partial function form an exe path.\n",
    "    \"\"\"\n",
    "    return partial(use_nt_exe, path)"
   ]
  }
 ],
 "metadata": {
  "kernelspec": {
   "display_name": "Python 3",
   "language": "python",
   "name": "python3"
  },
  "language_info": {
   "codemirror_mode": {
    "name": "ipython",
    "version": 3
   },
   "file_extension": ".py",
   "mimetype": "text/x-python",
   "name": "python",
   "nbconvert_exporter": "python",
   "pygments_lexer": "ipython3",
   "version": "3.6.3"
  }
 },
 "nbformat": 4,
 "nbformat_minor": 2
}
