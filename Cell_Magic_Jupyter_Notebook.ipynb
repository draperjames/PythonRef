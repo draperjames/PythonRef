{
 "cells": [
  {
   "cell_type": "markdown",
   "metadata": {},
   "source": [
    "# Jupyter Notebook Cell Magic\n",
    "\n",
    "https://stackoverflow.com/questions/7201715/how-change-a-functions-return-with-decorator-in-python"
   ]
  },
  {
   "cell_type": "code",
   "execution_count": 1,
   "metadata": {},
   "outputs": [],
   "source": [
    "from __future__ import print_function\n",
    "from IPython.core.magic import Magics, magics_class, line_magic\n",
    "\n",
    "@magics_class\n",
    "class MyMagics(Magics):\n",
    "\n",
    "    @line_magic\n",
    "    def lmagic(self, line):\n",
    "        \"Replace current line with new output\"\n",
    "        raw_code = 'print(\"Hello world!\")'\n",
    "        # Comment out this line if you actually want to run the code.\n",
    "        self.shell.set_next_input('# %lmagic\\n{}'.format(raw_code), replace=True)\n",
    "        # Uncomment this line if you want to run the code instead.\n",
    "        # self.shell.run_cell(raw_code, store_history=False)\n",
    "\n",
    "ip = get_ipython()\n",
    "ip.register_magics(MyMagics)"
   ]
  },
  {
   "cell_type": "code",
   "execution_count": null,
   "metadata": {},
   "outputs": [],
   "source": [
    "# %lmagic\n",
    "print(\"Hello world!\")"
   ]
  },
  {
   "cell_type": "markdown",
   "metadata": {},
   "source": [
    "---"
   ]
  },
  {
   "cell_type": "code",
   "execution_count": 23,
   "metadata": {},
   "outputs": [],
   "source": [
    "from __future__ import print_function\n",
    "from IPython.core.magic import Magics, magics_class, line_magic\n",
    "\n",
    "@magics_class\n",
    "class BasicMagic(Magics):\n",
    "\n",
    "    @line_magic\n",
    "    def basic(self, line):\n",
    "        print('Hello World')\n",
    "        \n",
    "    @line_magic\n",
    "    def magic_with_arg(self, n):\n",
    "        print(int(n)*2)\n",
    "\n",
    "ip = get_ipython()\n",
    "ip.register_magics(BasicMagic)"
   ]
  },
  {
   "cell_type": "code",
   "execution_count": 24,
   "metadata": {},
   "outputs": [
    {
     "name": "stdout",
     "output_type": "stream",
     "text": [
      "Hello World\n"
     ]
    }
   ],
   "source": [
    "%basic"
   ]
  },
  {
   "cell_type": "code",
   "execution_count": 25,
   "metadata": {},
   "outputs": [
    {
     "name": "stdout",
     "output_type": "stream",
     "text": [
      "4\n"
     ]
    }
   ],
   "source": [
    "%magic_with_arg 2"
   ]
  },
  {
   "cell_type": "markdown",
   "metadata": {},
   "source": [
    "---"
   ]
  },
  {
   "cell_type": "code",
   "execution_count": 51,
   "metadata": {},
   "outputs": [],
   "source": [
    "from __future__ import print_function\n",
    "from IPython.core.magic import Magics, magics_class, line_magic\n",
    "\n",
    "\n",
    "from jtkinter import filedialog\n",
    "\n",
    "\n",
    "\n",
    "@magics_class\n",
    "class JtkinterMagics(Magics):\n",
    "\n",
    "    @line_magic\n",
    "    def jtkfilename(self, line):\n",
    "        \"Replace current line with new output\"\n",
    "        print(dir(self.shell))\n",
    "#         raw_code = 'print(\"Hello world!\")'\n",
    "#         # Comment out this line if you actually want to run the code.\n",
    "#         self.shell.set_next_input('# %jtkfilename\\n{}'.format(raw_code), replace=True)\n",
    "\n",
    "        \n",
    "ip = get_ipython()\n",
    "ip.register_magics(JtkinterMagics)"
   ]
  },
  {
   "cell_type": "code",
   "execution_count": null,
   "metadata": {},
   "outputs": [],
   "source": [
    "%jtkfilename\n",
    "# print(\"Hello world!\")"
   ]
  },
  {
   "cell_type": "code",
   "execution_count": null,
   "metadata": {},
   "outputs": [],
   "source": [
    "# %jtkfilename\n",
    "print(\"Hello world!\")"
   ]
  },
  {
   "cell_type": "code",
   "execution_count": null,
   "metadata": {},
   "outputs": [],
   "source": [
    "# %lmagic\n",
    "print(\"Hello world!\")"
   ]
  },
  {
   "cell_type": "code",
   "execution_count": null,
   "metadata": {},
   "outputs": [],
   "source": [
    "from __future__ import print_function\n",
    "from IPython.core.magic import Magics, magics_class, line_magic\n",
    "\n",
    "@magics_class\n",
    "class BasicMagic(Magics):\n",
    "\n",
    "    @line_magic\n",
    "    def basic(self, line):\n",
    "        print('Hello World')\n",
    "        \n",
    "    @line_magic\n",
    "    def magic_with_arg(self, n):\n",
    "        print(int(n)*2)\n",
    "\n",
    "ip = get_ipython()\n",
    "ip.register_magics(BasicMagic)"
   ]
  }
 ],
 "metadata": {
  "kernelspec": {
   "display_name": "Python 3",
   "language": "python",
   "name": "python3"
  },
  "language_info": {
   "codemirror_mode": {
    "name": "ipython",
    "version": 3
   },
   "file_extension": ".py",
   "mimetype": "text/x-python",
   "name": "python",
   "nbconvert_exporter": "python",
   "pygments_lexer": "ipython3",
   "version": "3.6.3"
  }
 },
 "nbformat": 4,
 "nbformat_minor": 2
}
