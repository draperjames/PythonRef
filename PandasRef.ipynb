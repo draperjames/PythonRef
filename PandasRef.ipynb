{
 "cells": [
  {
   "cell_type": "markdown",
   "metadata": {},
   "source": [
    "# Pandas"
   ]
  },
  {
   "cell_type": "code",
   "execution_count": 1,
   "metadata": {
    "collapsed": true
   },
   "outputs": [],
   "source": [
    "import random\n",
    "import string\n",
    "import pandas as pd\n",
    "import numpy as np"
   ]
  },
  {
   "cell_type": "code",
   "execution_count": 2,
   "metadata": {},
   "outputs": [
    {
     "data": {
      "text/plain": [
       "'IMFJKVYLP'"
      ]
     },
     "execution_count": 2,
     "metadata": {},
     "output_type": "execute_result"
    }
   ],
   "source": [
    "randStr = lambda str_type,length:\"\".join(np.random.choice(np.array(list(eval(str_type))),length))\n",
    "randStr(\"string.ascii_uppercase\",9)"
   ]
  },
  {
   "cell_type": "code",
   "execution_count": 3,
   "metadata": {},
   "outputs": [
    {
     "data": {
      "text/html": [
       "<div>\n",
       "<table border=\"1\" class=\"dataframe\">\n",
       "  <thead>\n",
       "    <tr style=\"text-align: right;\">\n",
       "      <th></th>\n",
       "      <th>aekbyu</th>\n",
       "      <th>mtrmie</th>\n",
       "      <th>yacwrf</th>\n",
       "      <th>ydyrml</th>\n",
       "      <th>amdssn</th>\n",
       "      <th>byhguv</th>\n",
       "    </tr>\n",
       "  </thead>\n",
       "  <tbody>\n",
       "    <tr>\n",
       "      <th>0</th>\n",
       "      <td>0.046928</td>\n",
       "      <td>0.887509</td>\n",
       "      <td>0.631216</td>\n",
       "      <td>0.511697</td>\n",
       "      <td>0.003158</td>\n",
       "      <td>0.808440</td>\n",
       "    </tr>\n",
       "    <tr>\n",
       "      <th>1</th>\n",
       "      <td>0.736357</td>\n",
       "      <td>0.184243</td>\n",
       "      <td>0.559418</td>\n",
       "      <td>0.733090</td>\n",
       "      <td>0.977888</td>\n",
       "      <td>0.700463</td>\n",
       "    </tr>\n",
       "    <tr>\n",
       "      <th>2</th>\n",
       "      <td>0.020734</td>\n",
       "      <td>0.686597</td>\n",
       "      <td>0.466945</td>\n",
       "      <td>0.023035</td>\n",
       "      <td>0.468907</td>\n",
       "      <td>0.241435</td>\n",
       "    </tr>\n",
       "    <tr>\n",
       "      <th>3</th>\n",
       "      <td>0.973336</td>\n",
       "      <td>0.770435</td>\n",
       "      <td>0.392820</td>\n",
       "      <td>0.894668</td>\n",
       "      <td>0.037600</td>\n",
       "      <td>0.625363</td>\n",
       "    </tr>\n",
       "    <tr>\n",
       "      <th>4</th>\n",
       "      <td>0.827972</td>\n",
       "      <td>0.843094</td>\n",
       "      <td>0.064264</td>\n",
       "      <td>0.420759</td>\n",
       "      <td>0.897631</td>\n",
       "      <td>0.837835</td>\n",
       "    </tr>\n",
       "  </tbody>\n",
       "</table>\n",
       "</div>"
      ],
      "text/plain": [
       "     aekbyu    mtrmie    yacwrf    ydyrml    amdssn    byhguv\n",
       "0  0.046928  0.887509  0.631216  0.511697  0.003158  0.808440\n",
       "1  0.736357  0.184243  0.559418  0.733090  0.977888  0.700463\n",
       "2  0.020734  0.686597  0.466945  0.023035  0.468907  0.241435\n",
       "3  0.973336  0.770435  0.392820  0.894668  0.037600  0.625363\n",
       "4  0.827972  0.843094  0.064264  0.420759  0.897631  0.837835"
      ]
     },
     "execution_count": 3,
     "metadata": {},
     "output_type": "execute_result"
    }
   ],
   "source": [
    "def mkRandDf(length=None, width=None, str_kind=None, str_len=None):\n",
    "    \"\"\"\n",
    "    Parameters\n",
    "    ----------\n",
    "    length : int\n",
    "    width : int\n",
    "    str_kind : str\n",
    "        Any of the types of strings in strings module e.g.\n",
    "            \"acscii_lower\", \"ascii_upper\", \"digits\", ect...\n",
    "    str_len : int\n",
    "    \"\"\"\n",
    "    str_kind = str_kind or \"ascii_uppercase\"\n",
    "    str_kind = \"string.\"+ str_kind\n",
    "    str_len = width or 10\n",
    "    \n",
    "    randStr = lambda str_type, length :\"\".join(np.random.choice(np.array(list(eval(str_type))),length))\n",
    "    \n",
    "    column_names = [randStr(str_kind, width) for i in range(width)]\n",
    "    \n",
    "    rand_df = pd.DataFrame(np.random.rand(length, width))\n",
    "    rand_df.columns = column_names\n",
    "    \n",
    "    return rand_df\n",
    "\n",
    "my_df = mkRandDf(5, 6, str_kind=\"ascii_lowercase\")\n",
    "my_df"
   ]
  },
  {
   "cell_type": "markdown",
   "metadata": {},
   "source": [
    "--- \n",
    "# `ix` to slice up like a `numpy` array."
   ]
  },
  {
   "cell_type": "code",
   "execution_count": 4,
   "metadata": {},
   "outputs": [
    {
     "data": {
      "text/plain": [
       "0    0.046928\n",
       "1    0.736357\n",
       "2    0.020734\n",
       "3    0.973336\n",
       "4    0.827972\n",
       "Name: aekbyu, dtype: float64"
      ]
     },
     "execution_count": 4,
     "metadata": {},
     "output_type": "execute_result"
    }
   ],
   "source": [
    "my_df.ix[:,0]"
   ]
  },
  {
   "cell_type": "markdown",
   "metadata": {},
   "source": [
    "# Use `to_frame` to make a sliced series into a data frame of its own."
   ]
  },
  {
   "cell_type": "code",
   "execution_count": 5,
   "metadata": {},
   "outputs": [
    {
     "data": {
      "text/html": [
       "<div>\n",
       "<table border=\"1\" class=\"dataframe\">\n",
       "  <thead>\n",
       "    <tr style=\"text-align: right;\">\n",
       "      <th></th>\n",
       "      <th>aekbyu</th>\n",
       "    </tr>\n",
       "  </thead>\n",
       "  <tbody>\n",
       "    <tr>\n",
       "      <th>0</th>\n",
       "      <td>0.046928</td>\n",
       "    </tr>\n",
       "    <tr>\n",
       "      <th>1</th>\n",
       "      <td>0.736357</td>\n",
       "    </tr>\n",
       "    <tr>\n",
       "      <th>2</th>\n",
       "      <td>0.020734</td>\n",
       "    </tr>\n",
       "    <tr>\n",
       "      <th>3</th>\n",
       "      <td>0.973336</td>\n",
       "    </tr>\n",
       "    <tr>\n",
       "      <th>4</th>\n",
       "      <td>0.827972</td>\n",
       "    </tr>\n",
       "  </tbody>\n",
       "</table>\n",
       "</div>"
      ],
      "text/plain": [
       "     aekbyu\n",
       "0  0.046928\n",
       "1  0.736357\n",
       "2  0.020734\n",
       "3  0.973336\n",
       "4  0.827972"
      ]
     },
     "execution_count": 5,
     "metadata": {},
     "output_type": "execute_result"
    }
   ],
   "source": [
    "my_df.ix[:,0].to_frame()"
   ]
  },
  {
   "cell_type": "markdown",
   "metadata": {},
   "source": [
    "---\n",
    "\n",
    "### MultiIndexing"
   ]
  },
  {
   "cell_type": "code",
   "execution_count": 3,
   "metadata": {},
   "outputs": [
    {
     "data": {
      "text/html": [
       "<div>\n",
       "<table border=\"1\" class=\"dataframe\">\n",
       "  <thead>\n",
       "    <tr style=\"text-align: right;\">\n",
       "      <th></th>\n",
       "      <th>left</th>\n",
       "      <th>middle</th>\n",
       "      <th>right</th>\n",
       "    </tr>\n",
       "  </thead>\n",
       "  <tbody>\n",
       "    <tr>\n",
       "      <th>0</th>\n",
       "      <td>0.912992</td>\n",
       "      <td>0.544838</td>\n",
       "      <td>0.489038</td>\n",
       "    </tr>\n",
       "    <tr>\n",
       "      <th>1</th>\n",
       "      <td>0.977553</td>\n",
       "      <td>0.265588</td>\n",
       "      <td>0.342345</td>\n",
       "    </tr>\n",
       "    <tr>\n",
       "      <th>2</th>\n",
       "      <td>0.266270</td>\n",
       "      <td>0.121333</td>\n",
       "      <td>0.871679</td>\n",
       "    </tr>\n",
       "  </tbody>\n",
       "</table>\n",
       "</div>"
      ],
      "text/plain": [
       "       left    middle     right\n",
       "0  0.912992  0.544838  0.489038\n",
       "1  0.977553  0.265588  0.342345\n",
       "2  0.266270  0.121333  0.871679"
      ]
     },
     "execution_count": 3,
     "metadata": {},
     "output_type": "execute_result"
    }
   ],
   "source": [
    "data_array = np.random.rand(3,3)\n",
    "data = pd.DataFrame(data_array,columns = [\"left\",\"middle\",\"right\"])\n",
    "data"
   ]
  },
  {
   "cell_type": "code",
   "execution_count": 3,
   "metadata": {
    "collapsed": true
   },
   "outputs": [],
   "source": [
    "def superGroup(dataframe=None,new_level=None):\n",
    "    if type(dataframe.columns) == pd.indexes.base.Index:\n",
    "        out_df = pd.DataFrame(dataframe.values,index=dataframe.index,columns=pd.MultiIndex.from_product([[new_level],dataframe.columns]))\n",
    "        return out_df\n",
    "    if type(dataframe.columns) == pd.indexes.multi.MultiIndex:\n",
    "        levels = [list(i.values) for i in dataframe.columns.levels]\n",
    "        levels = [[new_level]]+levels\n",
    "        out_df = pd.DataFrame(dataframe.values, index = dataframe.index, columns = pd.MultiIndex.from_product(levels))\n",
    "        return out_df"
   ]
  },
  {
   "cell_type": "code",
   "execution_count": 4,
   "metadata": {},
   "outputs": [
    {
     "data": {
      "text/html": [
       "<div>\n",
       "<table border=\"1\" class=\"dataframe\">\n",
       "  <thead>\n",
       "    <tr>\n",
       "      <th></th>\n",
       "      <th colspan=\"3\" halign=\"left\">Most New</th>\n",
       "    </tr>\n",
       "    <tr>\n",
       "      <th></th>\n",
       "      <th colspan=\"3\" halign=\"left\">Newest</th>\n",
       "    </tr>\n",
       "    <tr>\n",
       "      <th></th>\n",
       "      <th colspan=\"3\" halign=\"left\">New</th>\n",
       "    </tr>\n",
       "    <tr>\n",
       "      <th></th>\n",
       "      <th>left</th>\n",
       "      <th>middle</th>\n",
       "      <th>right</th>\n",
       "    </tr>\n",
       "  </thead>\n",
       "  <tbody>\n",
       "    <tr>\n",
       "      <th>0</th>\n",
       "      <td>0.394329</td>\n",
       "      <td>0.298836</td>\n",
       "      <td>0.683910</td>\n",
       "    </tr>\n",
       "    <tr>\n",
       "      <th>1</th>\n",
       "      <td>0.847183</td>\n",
       "      <td>0.630419</td>\n",
       "      <td>0.171109</td>\n",
       "    </tr>\n",
       "    <tr>\n",
       "      <th>2</th>\n",
       "      <td>0.747384</td>\n",
       "      <td>0.058720</td>\n",
       "      <td>0.129397</td>\n",
       "    </tr>\n",
       "  </tbody>\n",
       "</table>\n",
       "</div>"
      ],
      "text/plain": [
       "   Most New                    \n",
       "     Newest                    \n",
       "        New                    \n",
       "       left    middle     right\n",
       "0  0.394329  0.298836  0.683910\n",
       "1  0.847183  0.630419  0.171109\n",
       "2  0.747384  0.058720  0.129397"
      ]
     },
     "execution_count": 4,
     "metadata": {},
     "output_type": "execute_result"
    }
   ],
   "source": [
    "hey = superGroup(data,\"New\")\n",
    "works = superGroup(hey,\"Newest\")\n",
    "superGroup(works,\"Most New\")\n",
    "# hey.columns.labels"
   ]
  },
  {
   "cell_type": "markdown",
   "metadata": {},
   "source": [
    "---"
   ]
  },
  {
   "cell_type": "code",
   "execution_count": null,
   "metadata": {
    "collapsed": true
   },
   "outputs": [],
   "source": []
  }
 ],
 "metadata": {
  "anaconda-cloud": {},
  "kernelspec": {
   "display_name": "Python [default]",
   "language": "python",
   "name": "python3"
  },
  "language_info": {
   "codemirror_mode": {
    "name": "ipython",
    "version": 3
   },
   "file_extension": ".py",
   "mimetype": "text/x-python",
   "name": "python",
   "nbconvert_exporter": "python",
   "pygments_lexer": "ipython3",
   "version": "3.5.2"
  }
 },
 "nbformat": 4,
 "nbformat_minor": 1
}
