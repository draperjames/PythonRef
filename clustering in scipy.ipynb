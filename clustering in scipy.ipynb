{
 "cells": [
  {
   "cell_type": "markdown",
   "metadata": {},
   "source": [
    "# Links;\n",
    "- https://docs.scipy.org/doc/scipy-0.9.0/reference/cluster.hierarchy.html\n",
    "- https://joernhees.de/blog/2015/08/26/scipy-hierarchical-clustering-and-dendrogram-tutorial/\n",
    "- http://stackoverflow.com/questions/2978286/hierarchical-clustering-with-gene-expression-matrix-in-python?rq=1\n",
    "- http://stackoverflow.com/questions/11917779/how-to-plot-and-annotate-hierarchical-clustering-dendrograms-in-scipy-matplotlib"
   ]
  },
  {
   "cell_type": "code",
   "execution_count": 30,
   "metadata": {
    "collapsed": false
   },
   "outputs": [
    {
     "data": {
      "image/png": "[encoded data removed]",
      "text/plain": [
       "<matplotlib.figure.Figure at 0xbd43c18>"
      ]
     },
     "metadata": {},
     "output_type": "display_data"
    }
   ],
   "source": [
    "from scipy.cluster.hierarchy import linkage\n",
    "from scipy.cluster.hierarchy import dendrogram\n",
    "import matplotlib.pyplot as plt\n",
    "\n",
    "import numpy as np\n",
    "\n",
    "\n",
    "ten_by_ten = np.random.random((10,10))\n",
    "\n",
    "ltbt = linkage(ten_by_ten)\n",
    "# ltbt\n",
    "\n",
    "# augmented_dendrogram(mat,link)\n",
    "# ddata = dendrogram(ltbt)\n",
    "\n",
    "# plt.plot(ddata)\n",
    "# ddata\n",
    "dendrogram(\n",
    "    ltbt,\n",
    "    leaf_rotation=90.,  # rotates the x axis labels\n",
    "    leaf_font_size=8.,  # font size for the x axis labels\n",
    ")\n",
    "plt.show()"
   ]
  },
  {
   "cell_type": "markdown",
   "metadata": {},
   "source": [
    "---"
   ]
  },
  {
   "cell_type": "code",
   "execution_count": 8,
   "metadata": {
    "collapsed": false
   },
   "outputs": [
    {
     "name": "stderr",
     "output_type": "stream",
     "text": [
      "c:\\anaconda3\\lib\\site-packages\\ipykernel\\__main__.py:13: RuntimeWarning:\n",
      "\n",
      "covariance is not positive-semidefinite.\n",
      "\n"
     ]
    },
    {
     "data": {
      "image/png": "[encoded data removed]",
      "text/plain": [
       "<matplotlib.figure.Figure at 0xba42550>"
      ]
     },
     "metadata": {},
     "output_type": "display_data"
    },
    {
     "data": {
      "image/png": "[encoded data removed]",
      "text/plain": [
       "<matplotlib.figure.Figure at 0xba26400>"
      ]
     },
     "metadata": {},
     "output_type": "display_data"
    }
   ],
   "source": [
    "import numpy as np\n",
    "from scipy.cluster.hierarchy import linkage\n",
    "import matplotlib.pyplot as plt\n",
    "# from augmented_dendrogram import augmented_dendrogram\n",
    "\n",
    "\n",
    "# Generate a random sample of `n` points in 2-d.\n",
    "np.random.seed(12312)\n",
    "n = 100\n",
    "x = np.random.multivariate_normal([0, 0], np.array([[4.0, 2.5], [2.5, 1.4]]),\n",
    "                                  size=(n,))\n",
    "\n",
    "plt.figure(1, figsize=(6, 5))\n",
    "plt.clf()\n",
    "plt.scatter(x[:, 0], x[:, 1])\n",
    "plt.axis('equal')\n",
    "plt.grid(True)\n",
    "\n",
    "linkage_matrix = linkage(x, \"single\")\n",
    "\n",
    "plt.figure(2, figsize=(10, 4))\n",
    "plt.clf()\n",
    "\n",
    "plt.subplot(1, 2, 1)\n",
    "show_leaf_counts = False\n",
    "ddata = augmented_dendrogram(linkage_matrix,\n",
    "               color_threshold=1,\n",
    "               p=6,\n",
    "               truncate_mode='lastp',\n",
    "               show_leaf_counts=show_leaf_counts,\n",
    "               )\n",
    "plt.title(\"show_leaf_counts = %s\" % show_leaf_counts)\n",
    "\n",
    "plt.subplot(1, 2, 2)\n",
    "show_leaf_counts = True\n",
    "ddata = augmented_dendrogram(linkage_matrix,\n",
    "               color_threshold=1,\n",
    "               p=6,\n",
    "               truncate_mode='lastp',\n",
    "               show_leaf_counts=show_leaf_counts,\n",
    "               )\n",
    "plt.title(\"show_leaf_counts = %s\" % show_leaf_counts)\n",
    "\n",
    "plt.show()"
   ]
  },
  {
   "cell_type": "code",
   "execution_count": null,
   "metadata": {
    "collapsed": true
   },
   "outputs": [],
   "source": []
  }
 ],
 "metadata": {
  "kernelspec": {
   "display_name": "Python 3",
   "language": "python",
   "name": "python3"
  },
  "language_info": {
   "codemirror_mode": {
    "name": "ipython",
    "version": 3
   },
   "file_extension": ".py",
   "mimetype": "text/x-python",
   "name": "python",
   "nbconvert_exporter": "python",
   "pygments_lexer": "ipython3",
   "version": "3.6.0"
  }
 },
 "nbformat": 4,
 "nbformat_minor": 2
}
