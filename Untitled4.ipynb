{
 "cells": [
  {
   "cell_type": "code",
   "execution_count": 1,
   "metadata": {},
   "outputs": [
    {
     "data": {
      "text/markdown": [
       "## Enter your name"
      ],
      "text/plain": [
       "<IPython.core.display.Markdown object>"
      ]
     },
     "metadata": {},
     "output_type": "display_data"
    },
    {
     "data": {
      "application/vnd.jupyter.widget-view+json": {
       "model_id": "9fe14f367d7d48dea01dc074eba6da4b",
       "version_major": 2,
       "version_minor": 0
      },
      "text/plain": [
       "A Jupyter Widget"
      ]
     },
     "metadata": {},
     "output_type": "display_data"
    }
   ],
   "source": [
    "import ipywidgets as widgets\n",
    "from IPython.display import display, Markdown\n",
    "\n",
    "display(Markdown(\"## Enter your name\"))\n",
    "name = widgets.Text(description=\"Enter your name: \")\n",
    "display(name)"
   ]
  },
  {
   "cell_type": "code",
   "execution_count": 17,
   "metadata": {},
   "outputs": [
    {
     "data": {
      "application/vnd.jupyter.widget-view+json": {
       "model_id": "8d979c8bfb7a4915a0e5c4f3852f7c67",
       "version_major": 2,
       "version_minor": 0
      },
      "text/plain": [
       "A Jupyter Widget"
      ]
     },
     "metadata": {},
     "output_type": "display_data"
    },
    {
     "data": {
      "application/vnd.jupyter.widget-view+json": {
       "model_id": "26cacd75ee5a4d1ca2b092bdd281de36",
       "version_major": 2,
       "version_minor": 0
      },
      "text/plain": [
       "A Jupyter Widget"
      ]
     },
     "metadata": {},
     "output_type": "display_data"
    }
   ],
   "source": [
    "import ipywidgets as widgets\n",
    "from dominate import tags\n",
    "from IPython.display import display\n",
    "\n",
    "header = widgets.HTML(tags.h3(\"Enter your name\").render())\n",
    "name = widgets.Text()\n",
    "namebox = widgets.HBox([widgets.Label(\"Enter your name: \"),\n",
    "                    name])\n",
    "\n",
    "display(header, namebox)"
   ]
  },
  {
   "cell_type": "code",
   "execution_count": null,
   "metadata": {
    "collapsed": true
   },
   "outputs": [],
   "source": []
  }
 ],
 "metadata": {
  "kernelspec": {
   "display_name": "Python 3",
   "language": "python",
   "name": "python3"
  },
  "language_info": {
   "codemirror_mode": {
    "name": "ipython",
    "version": 3
   },
   "file_extension": ".py",
   "mimetype": "text/x-python",
   "name": "python",
   "nbconvert_exporter": "python",
   "pygments_lexer": "ipython3",
   "version": "3.6.1"
  },
  "varInspector": {
   "cols": {
    "lenName": 16,
    "lenType": 16,
    "lenVar": 40
   },
   "kernels_config": {
    "python": {
     "delete_cmd_postfix": "",
     "delete_cmd_prefix": "del ",
     "library": "var_list.py",
     "varRefreshCmd": "print(var_dic_list())"
    },
    "r": {
     "delete_cmd_postfix": ") ",
     "delete_cmd_prefix": "rm(",
     "library": "var_list.r",
     "varRefreshCmd": "cat(var_dic_list()) "
    }
   },
   "types_to_exclude": [
    "module",
    "function",
    "builtin_function_or_method",
    "instance",
    "_Feature"
   ],
   "window_display": false
  },
  "widgets": {
   "application/vnd.jupyter.widget-state+json": {
    "state": {
     "069e0edfdf1a4f4aad68b8941a762f56": {
      "model_module": "@jupyter-widgets/base",
      "model_module_version": "1.0.0",
      "model_name": "LayoutModel",
      "state": {}
     },
     "091fd0800a0049c1b88b1257a2bfd4e5": {
      "model_module": "@jupyter-widgets/base",
      "model_module_version": "1.0.0",
      "model_name": "LayoutModel",
      "state": {}
     },
     "0b737c5c08884000aab8f2cb14a9bbf3": {
      "model_module": "@jupyter-widgets/controls",
      "model_module_version": "1.0.0",
      "model_name": "DescriptionStyleModel",
      "state": {
       "description_width": ""
      }
     },
     "0f4acfa742f44ee298c17d90d7392b45": {
      "model_module": "@jupyter-widgets/base",
      "model_module_version": "1.0.0",
      "model_name": "LayoutModel",
      "state": {}
     },
     "10f4c7d372444823a2e83478cc63d5b4": {
      "model_module": "@jupyter-widgets/controls",
      "model_module_version": "1.0.0",
      "model_name": "LabelModel",
      "state": {
       "layout": "IPY_MODEL_24578c66396c4e7a99bdf134a376e3a9",
       "style": "IPY_MODEL_1870569e726a43d9a9ce6d699465a8af",
       "value": "Enter your name: "
      }
     },
     "11dd3e3b0dfa422c9ec534d4be11bbc2": {
      "model_module": "@jupyter-widgets/controls",
      "model_module_version": "1.0.0",
      "model_name": "DescriptionStyleModel",
      "state": {
       "description_width": ""
      }
     },
     "142fb915adb9450a96d3fd3fea893c8a": {
      "model_module": "@jupyter-widgets/controls",
      "model_module_version": "1.0.0",
      "model_name": "DescriptionStyleModel",
      "state": {
       "description_width": ""
      }
     },
     "15b44d76961548cca7166957d662391f": {
      "model_module": "@jupyter-widgets/controls",
      "model_module_version": "1.0.0",
      "model_name": "DescriptionStyleModel",
      "state": {
       "description_width": ""
      }
     },
     "181418d88c394a75b83ceba974c0a314": {
      "model_module": "@jupyter-widgets/base",
      "model_module_version": "1.0.0",
      "model_name": "LayoutModel",
      "state": {}
     },
     "1870569e726a43d9a9ce6d699465a8af": {
      "model_module": "@jupyter-widgets/controls",
      "model_module_version": "1.0.0",
      "model_name": "DescriptionStyleModel",
      "state": {
       "description_width": ""
      }
     },
     "18c21985c5ea41a6a604e6e6591eeefd": {
      "model_module": "@jupyter-widgets/controls",
      "model_module_version": "1.0.0",
      "model_name": "HTMLModel",
      "state": {
       "layout": "IPY_MODEL_069e0edfdf1a4f4aad68b8941a762f56",
       "style": "IPY_MODEL_c2bc9b869214419eb1656bbc66197d15",
       "value": "<h3>Enter your name</h3>"
      }
     },
     "226047c4501e49e790f0ae9fa15a48e3": {
      "model_module": "@jupyter-widgets/base",
      "model_module_version": "1.0.0",
      "model_name": "LayoutModel",
      "state": {}
     },
     "24578c66396c4e7a99bdf134a376e3a9": {
      "model_module": "@jupyter-widgets/base",
      "model_module_version": "1.0.0",
      "model_name": "LayoutModel",
      "state": {}
     },
     "25868c9e3c8644d2a10152571c3db97f": {
      "model_module": "@jupyter-widgets/base",
      "model_module_version": "1.0.0",
      "model_name": "LayoutModel",
      "state": {}
     },
     "26cacd75ee5a4d1ca2b092bdd281de36": {
      "model_module": "@jupyter-widgets/controls",
      "model_module_version": "1.0.0",
      "model_name": "HBoxModel",
      "state": {
       "children": [
        "IPY_MODEL_ceceaedfe13c47f4b5d74cadaa6460ef",
        "IPY_MODEL_acabbb83cea445db9648f37a3face9d1"
       ],
       "layout": "IPY_MODEL_f67f7b82b9574fd3a1d6fddcd26fe735"
      }
     },
     "28d44963ca4d440cb5d4df373df64298": {
      "model_module": "@jupyter-widgets/controls",
      "model_module_version": "1.0.0",
      "model_name": "HTMLModel",
      "state": {
       "layout": "IPY_MODEL_64e4b47be1644fd897486d47ba9855a5",
       "style": "IPY_MODEL_d6247b0ea931456a9ceef84d771d0e21",
       "value": "<h3>Enter your name</h3>"
      }
     },
     "2a38fdab96d14a798c7fe70eb0059dc5": {
      "model_module": "@jupyter-widgets/controls",
      "model_module_version": "1.0.0",
      "model_name": "DescriptionStyleModel",
      "state": {
       "description_width": ""
      }
     },
     "2b0e2ba11a2b4a3f885817167433f80a": {
      "model_module": "@jupyter-widgets/controls",
      "model_module_version": "1.0.0",
      "model_name": "DescriptionStyleModel",
      "state": {
       "description_width": ""
      }
     },
     "2c21fb3223a14d35ad0a9545323c985a": {
      "model_module": "@jupyter-widgets/controls",
      "model_module_version": "1.0.0",
      "model_name": "HBoxModel",
      "state": {
       "children": [
        "IPY_MODEL_10f4c7d372444823a2e83478cc63d5b4",
        "IPY_MODEL_710966e2702f4186a795c26e8183a9af"
       ],
       "layout": "IPY_MODEL_181418d88c394a75b83ceba974c0a314"
      }
     },
     "2dde8503042b4cb9b56c6f9a5f4b5e76": {
      "model_module": "@jupyter-widgets/controls",
      "model_module_version": "1.0.0",
      "model_name": "DescriptionStyleModel",
      "state": {
       "description_width": ""
      }
     },
     "2e712b12376045c795fae4918516782b": {
      "model_module": "@jupyter-widgets/controls",
      "model_module_version": "1.0.0",
      "model_name": "HTMLModel",
      "state": {
       "layout": "IPY_MODEL_5d8e0cc6704441bdb50365f491b52b6f",
       "style": "IPY_MODEL_5aa3fc68cba849658c4c0869be70f1b7",
       "value": "<h3>Enter your name</h3>"
      }
     },
     "315bef172a134b4abfba538ba405ee15": {
      "model_module": "@jupyter-widgets/controls",
      "model_module_version": "1.0.0",
      "model_name": "HTMLModel",
      "state": {
       "layout": "IPY_MODEL_4d7a6e66faa34ee59e81beb2f720d34c",
       "style": "IPY_MODEL_11dd3e3b0dfa422c9ec534d4be11bbc2",
       "value": "## Enter your name"
      }
     },
     "3c3dad64f88748de85ff0f19a7a582e5": {
      "model_module": "@jupyter-widgets/base",
      "model_module_version": "1.0.0",
      "model_name": "LayoutModel",
      "state": {}
     },
     "416aad084b2c4cb9ab039eb2d9cf8229": {
      "model_module": "@jupyter-widgets/base",
      "model_module_version": "1.0.0",
      "model_name": "LayoutModel",
      "state": {}
     },
     "439640996fa34daa8b28d61f994c9413": {
      "model_module": "@jupyter-widgets/controls",
      "model_module_version": "1.0.0",
      "model_name": "TextModel",
      "state": {
       "description": "Enter your name: ",
       "layout": "IPY_MODEL_226047c4501e49e790f0ae9fa15a48e3",
       "style": "IPY_MODEL_ffd0028793194feb9cbbe52e6187c4e1"
      }
     },
     "49b83f328c45496d9aec5c4acd541397": {
      "model_module": "@jupyter-widgets/controls",
      "model_module_version": "1.0.0",
      "model_name": "HTMLModel",
      "state": {
       "layout": "IPY_MODEL_f3f112e2a36948d2a8f5bc7f61c9548f",
       "style": "IPY_MODEL_4a2caa7df22e45efae35283463f4ed7e",
       "value": "<h1>Enter your name</h1>"
      }
     },
     "4a2caa7df22e45efae35283463f4ed7e": {
      "model_module": "@jupyter-widgets/controls",
      "model_module_version": "1.0.0",
      "model_name": "DescriptionStyleModel",
      "state": {
       "description_width": ""
      }
     },
     "4b4452803478469bb5003415e24f9f1b": {
      "model_module": "@jupyter-widgets/base",
      "model_module_version": "1.0.0",
      "model_name": "LayoutModel",
      "state": {}
     },
     "4d7a6e66faa34ee59e81beb2f720d34c": {
      "model_module": "@jupyter-widgets/base",
      "model_module_version": "1.0.0",
      "model_name": "LayoutModel",
      "state": {}
     },
     "4e3676850b844ceb97a4f6e27ced68e7": {
      "model_module": "@jupyter-widgets/base",
      "model_module_version": "1.0.0",
      "model_name": "LayoutModel",
      "state": {}
     },
     "52ccd6610a464599b2b66c30b754e1ea": {
      "model_module": "@jupyter-widgets/base",
      "model_module_version": "1.0.0",
      "model_name": "LayoutModel",
      "state": {}
     },
     "52dc646241984866aa2b21bd33cf2a63": {
      "model_module": "@jupyter-widgets/controls",
      "model_module_version": "1.0.0",
      "model_name": "TextModel",
      "state": {
       "description": "Enter your name: ",
       "layout": "IPY_MODEL_55d8d158cee149cd99b4c86786a9f806",
       "style": "IPY_MODEL_a51bb9ae52b642d0a7a32bf00a28cd39"
      }
     },
     "5358c2d633de47c7869a10493562f069": {
      "model_module": "@jupyter-widgets/controls",
      "model_module_version": "1.0.0",
      "model_name": "DescriptionStyleModel",
      "state": {
       "description_width": ""
      }
     },
     "53b378154ba346e9a4bfe251fa14e378": {
      "model_module": "@jupyter-widgets/controls",
      "model_module_version": "1.0.0",
      "model_name": "HTMLModel",
      "state": {
       "layout": "IPY_MODEL_c8d067c095b3465cb6671fd4ec6a1c41",
       "style": "IPY_MODEL_8493fca9b7a74b6d95204fe5232904ff",
       "value": "<h3>Enter your name</h3>"
      }
     },
     "55d8d158cee149cd99b4c86786a9f806": {
      "model_module": "@jupyter-widgets/base",
      "model_module_version": "1.0.0",
      "model_name": "LayoutModel",
      "state": {}
     },
     "5aa3fc68cba849658c4c0869be70f1b7": {
      "model_module": "@jupyter-widgets/controls",
      "model_module_version": "1.0.0",
      "model_name": "DescriptionStyleModel",
      "state": {
       "description_width": ""
      }
     },
     "5b283d51dce045ec872846b755a17b34": {
      "model_module": "@jupyter-widgets/controls",
      "model_module_version": "1.0.0",
      "model_name": "DescriptionStyleModel",
      "state": {
       "description_width": ""
      }
     },
     "5b9d1af2e08e4404908ff334d1adeaf4": {
      "model_module": "@jupyter-widgets/controls",
      "model_module_version": "1.0.0",
      "model_name": "DescriptionStyleModel",
      "state": {
       "description_width": ""
      }
     },
     "5c283265d75a4174aa236843f8980d50": {
      "model_module": "@jupyter-widgets/base",
      "model_module_version": "1.0.0",
      "model_name": "LayoutModel",
      "state": {}
     },
     "5d8e0cc6704441bdb50365f491b52b6f": {
      "model_module": "@jupyter-widgets/base",
      "model_module_version": "1.0.0",
      "model_name": "LayoutModel",
      "state": {}
     },
     "5f066e93734c4e86a9c23e6d1a593d37": {
      "model_module": "@jupyter-widgets/controls",
      "model_module_version": "1.0.0",
      "model_name": "HTMLModel",
      "state": {
       "layout": "IPY_MODEL_7cf53f4fb2794b489d8d2473db31a006",
       "style": "IPY_MODEL_9d485cfb8c5d4fbfbed977220971436d",
       "value": "<h4>Enter your name</h4>"
      }
     },
     "624ba4ad7d6f4ca9bba95bdece9fbf5c": {
      "model_module": "@jupyter-widgets/controls",
      "model_module_version": "1.0.0",
      "model_name": "DescriptionStyleModel",
      "state": {
       "description_width": ""
      }
     },
     "64e4b47be1644fd897486d47ba9855a5": {
      "model_module": "@jupyter-widgets/base",
      "model_module_version": "1.0.0",
      "model_name": "LayoutModel",
      "state": {}
     },
     "67f47ef10a2748a6b3a8cdd754fe381f": {
      "model_module": "@jupyter-widgets/controls",
      "model_module_version": "1.0.0",
      "model_name": "DescriptionStyleModel",
      "state": {
       "description_width": ""
      }
     },
     "69a853932d81489d813ac76e212f7558": {
      "model_module": "@jupyter-widgets/controls",
      "model_module_version": "1.0.0",
      "model_name": "TextModel",
      "state": {
       "description": "Enter your name: ",
       "layout": "IPY_MODEL_3c3dad64f88748de85ff0f19a7a582e5",
       "style": "IPY_MODEL_dfccc05726404909b8b0af085b09683c"
      }
     },
     "6ad38d2a9c674d48b00a1a57b1b19a3c": {
      "model_module": "@jupyter-widgets/controls",
      "model_module_version": "1.0.0",
      "model_name": "HTMLModel",
      "state": {
       "layout": "IPY_MODEL_416aad084b2c4cb9ab039eb2d9cf8229",
       "style": "IPY_MODEL_0b737c5c08884000aab8f2cb14a9bbf3",
       "value": "## Enter your name"
      }
     },
     "710966e2702f4186a795c26e8183a9af": {
      "model_module": "@jupyter-widgets/controls",
      "model_module_version": "1.0.0",
      "model_name": "TextModel",
      "state": {
       "layout": "IPY_MODEL_0f4acfa742f44ee298c17d90d7392b45",
       "style": "IPY_MODEL_968419d2cc9f4e068c8b0f4c925b0bc6"
      }
     },
     "7cf53f4fb2794b489d8d2473db31a006": {
      "model_module": "@jupyter-widgets/base",
      "model_module_version": "1.0.0",
      "model_name": "LayoutModel",
      "state": {}
     },
     "7f695c3a65344445adcc606969f340af": {
      "model_module": "@jupyter-widgets/controls",
      "model_module_version": "1.0.0",
      "model_name": "TextModel",
      "state": {
       "description": "Enter your name: ",
       "layout": "IPY_MODEL_25868c9e3c8644d2a10152571c3db97f",
       "style": "IPY_MODEL_2dde8503042b4cb9b56c6f9a5f4b5e76"
      }
     },
     "83487ed0ecfb4ee29526ea0f47cd5c32": {
      "model_module": "@jupyter-widgets/controls",
      "model_module_version": "1.0.0",
      "model_name": "TextModel",
      "state": {
       "layout": "IPY_MODEL_5c283265d75a4174aa236843f8980d50",
       "style": "IPY_MODEL_67f47ef10a2748a6b3a8cdd754fe381f"
      }
     },
     "8493fca9b7a74b6d95204fe5232904ff": {
      "model_module": "@jupyter-widgets/controls",
      "model_module_version": "1.0.0",
      "model_name": "DescriptionStyleModel",
      "state": {
       "description_width": ""
      }
     },
     "8d979c8bfb7a4915a0e5c4f3852f7c67": {
      "model_module": "@jupyter-widgets/controls",
      "model_module_version": "1.0.0",
      "model_name": "HTMLModel",
      "state": {
       "layout": "IPY_MODEL_4b4452803478469bb5003415e24f9f1b",
       "style": "IPY_MODEL_5b9d1af2e08e4404908ff334d1adeaf4",
       "value": "<h3>Enter your name</h3>"
      }
     },
     "8dca11297a3444deb65a4f7d0642b6fc": {
      "model_module": "@jupyter-widgets/controls",
      "model_module_version": "1.0.0",
      "model_name": "DescriptionStyleModel",
      "state": {
       "description_width": ""
      }
     },
     "90c1a4b41ada4eb98c90d31d0f237e87": {
      "model_module": "@jupyter-widgets/base",
      "model_module_version": "1.0.0",
      "model_name": "LayoutModel",
      "state": {}
     },
     "968419d2cc9f4e068c8b0f4c925b0bc6": {
      "model_module": "@jupyter-widgets/controls",
      "model_module_version": "1.0.0",
      "model_name": "DescriptionStyleModel",
      "state": {
       "description_width": ""
      }
     },
     "98bfecc056f34855b20894179261f852": {
      "model_module": "@jupyter-widgets/controls",
      "model_module_version": "1.0.0",
      "model_name": "DescriptionStyleModel",
      "state": {
       "description_width": ""
      }
     },
     "9d485cfb8c5d4fbfbed977220971436d": {
      "model_module": "@jupyter-widgets/controls",
      "model_module_version": "1.0.0",
      "model_name": "DescriptionStyleModel",
      "state": {
       "description_width": ""
      }
     },
     "9fe14f367d7d48dea01dc074eba6da4b": {
      "model_module": "@jupyter-widgets/controls",
      "model_module_version": "1.0.0",
      "model_name": "TextModel",
      "state": {
       "description": "Enter your name: ",
       "layout": "IPY_MODEL_f7c098ce3cb642159e53d2a918c53b33",
       "style": "IPY_MODEL_f1772e3043324949a242d83ac95af420"
      }
     },
     "a01bbe89632c435cb2808f693baafded": {
      "model_module": "@jupyter-widgets/controls",
      "model_module_version": "1.0.0",
      "model_name": "HTMLModel",
      "state": {
       "layout": "IPY_MODEL_a911bc8d99464f2b87545274bcc8125b",
       "style": "IPY_MODEL_5b283d51dce045ec872846b755a17b34",
       "value": "<h3>Enter your name</h3>"
      }
     },
     "a0a56d65ec724fd8b1a65c04306bfae2": {
      "model_module": "@jupyter-widgets/controls",
      "model_module_version": "1.0.0",
      "model_name": "LabelModel",
      "state": {
       "layout": "IPY_MODEL_90c1a4b41ada4eb98c90d31d0f237e87",
       "style": "IPY_MODEL_e8c1613e08f14904afe59be1c9851b41",
       "value": "Enter your name: "
      }
     },
     "a51bb9ae52b642d0a7a32bf00a28cd39": {
      "model_module": "@jupyter-widgets/controls",
      "model_module_version": "1.0.0",
      "model_name": "DescriptionStyleModel",
      "state": {
       "description_width": ""
      }
     },
     "a911bc8d99464f2b87545274bcc8125b": {
      "model_module": "@jupyter-widgets/base",
      "model_module_version": "1.0.0",
      "model_name": "LayoutModel",
      "state": {}
     },
     "aa2dee3c1e154781abfe8340616564e8": {
      "model_module": "@jupyter-widgets/controls",
      "model_module_version": "1.0.0",
      "model_name": "TextModel",
      "state": {
       "description": "Enter your name: ",
       "layout": "IPY_MODEL_b0120c29152a4681a8e8b7f862b39773",
       "style": "IPY_MODEL_624ba4ad7d6f4ca9bba95bdece9fbf5c"
      }
     },
     "abbaed2a05e94750ba741cc669ad4a22": {
      "model_module": "@jupyter-widgets/base",
      "model_module_version": "1.0.0",
      "model_name": "LayoutModel",
      "state": {}
     },
     "acabbb83cea445db9648f37a3face9d1": {
      "model_module": "@jupyter-widgets/controls",
      "model_module_version": "1.0.0",
      "model_name": "TextModel",
      "state": {
       "layout": "IPY_MODEL_52ccd6610a464599b2b66c30b754e1ea",
       "style": "IPY_MODEL_2a38fdab96d14a798c7fe70eb0059dc5"
      }
     },
     "b0120c29152a4681a8e8b7f862b39773": {
      "model_module": "@jupyter-widgets/base",
      "model_module_version": "1.0.0",
      "model_name": "LayoutModel",
      "state": {}
     },
     "babe22e09cde4831ad8d1eaaec863c13": {
      "model_module": "@jupyter-widgets/controls",
      "model_module_version": "1.0.0",
      "model_name": "TextModel",
      "state": {
       "description": "Enter your name: ",
       "layout": "IPY_MODEL_e599d4a683dc49c780d357f9b9d967e3",
       "style": "IPY_MODEL_98bfecc056f34855b20894179261f852"
      }
     },
     "be62431676df484a9006e076a2fa2491": {
      "model_module": "@jupyter-widgets/controls",
      "model_module_version": "1.0.0",
      "model_name": "TextModel",
      "state": {
       "description": "Enter your name: ",
       "layout": "IPY_MODEL_4e3676850b844ceb97a4f6e27ced68e7",
       "style": "IPY_MODEL_2b0e2ba11a2b4a3f885817167433f80a"
      }
     },
     "c2bc9b869214419eb1656bbc66197d15": {
      "model_module": "@jupyter-widgets/controls",
      "model_module_version": "1.0.0",
      "model_name": "DescriptionStyleModel",
      "state": {
       "description_width": ""
      }
     },
     "c8d067c095b3465cb6671fd4ec6a1c41": {
      "model_module": "@jupyter-widgets/base",
      "model_module_version": "1.0.0",
      "model_name": "LayoutModel",
      "state": {}
     },
     "ca95f62ff81a4aa3b342df5aee938eef": {
      "model_module": "@jupyter-widgets/controls",
      "model_module_version": "1.0.0",
      "model_name": "LabelModel",
      "state": {
       "layout": "IPY_MODEL_e6019e734cd44796a9e51198a34ebc79",
       "style": "IPY_MODEL_d47d17dad16e41b29ecd2bd5033dbb7b",
       "value": "Enter your name: "
      }
     },
     "ceceaedfe13c47f4b5d74cadaa6460ef": {
      "model_module": "@jupyter-widgets/controls",
      "model_module_version": "1.0.0",
      "model_name": "LabelModel",
      "state": {
       "layout": "IPY_MODEL_abbaed2a05e94750ba741cc669ad4a22",
       "style": "IPY_MODEL_8dca11297a3444deb65a4f7d0642b6fc",
       "value": "Enter your name: "
      }
     },
     "d3542493add14780a3d82e8c6fb96f4e": {
      "model_module": "@jupyter-widgets/base",
      "model_module_version": "1.0.0",
      "model_name": "LayoutModel",
      "state": {}
     },
     "d3d3b342ac8742848ff5bea8dde9064d": {
      "model_module": "@jupyter-widgets/base",
      "model_module_version": "1.0.0",
      "model_name": "LayoutModel",
      "state": {}
     },
     "d47d17dad16e41b29ecd2bd5033dbb7b": {
      "model_module": "@jupyter-widgets/controls",
      "model_module_version": "1.0.0",
      "model_name": "DescriptionStyleModel",
      "state": {
       "description_width": ""
      }
     },
     "d6247b0ea931456a9ceef84d771d0e21": {
      "model_module": "@jupyter-widgets/controls",
      "model_module_version": "1.0.0",
      "model_name": "DescriptionStyleModel",
      "state": {
       "description_width": ""
      }
     },
     "dee5e49dca2e4291bbcc7c34b74bbdcd": {
      "model_module": "@jupyter-widgets/controls",
      "model_module_version": "1.0.0",
      "model_name": "HTMLModel",
      "state": {
       "layout": "IPY_MODEL_d3542493add14780a3d82e8c6fb96f4e",
       "style": "IPY_MODEL_142fb915adb9450a96d3fd3fea893c8a",
       "value": "Enter your name"
      }
     },
     "dfccc05726404909b8b0af085b09683c": {
      "model_module": "@jupyter-widgets/controls",
      "model_module_version": "1.0.0",
      "model_name": "DescriptionStyleModel",
      "state": {
       "description_width": ""
      }
     },
     "e0a72e10ddfe445dbe8257460c275d41": {
      "model_module": "@jupyter-widgets/controls",
      "model_module_version": "1.0.0",
      "model_name": "HTMLModel",
      "state": {
       "layout": "IPY_MODEL_091fd0800a0049c1b88b1257a2bfd4e5",
       "style": "IPY_MODEL_5358c2d633de47c7869a10493562f069",
       "value": "<h2>Enter your name</h2>"
      }
     },
     "e599d4a683dc49c780d357f9b9d967e3": {
      "model_module": "@jupyter-widgets/base",
      "model_module_version": "1.0.0",
      "model_name": "LayoutModel",
      "state": {}
     },
     "e6019e734cd44796a9e51198a34ebc79": {
      "model_module": "@jupyter-widgets/base",
      "model_module_version": "1.0.0",
      "model_name": "LayoutModel",
      "state": {}
     },
     "e8c1613e08f14904afe59be1c9851b41": {
      "model_module": "@jupyter-widgets/controls",
      "model_module_version": "1.0.0",
      "model_name": "DescriptionStyleModel",
      "state": {
       "description_width": ""
      }
     },
     "ec37276d68b74793b51e98d0119dc09a": {
      "model_module": "@jupyter-widgets/controls",
      "model_module_version": "1.0.0",
      "model_name": "TextModel",
      "state": {
       "description": "Enter your name: ",
       "layout": "IPY_MODEL_d3d3b342ac8742848ff5bea8dde9064d",
       "style": "IPY_MODEL_15b44d76961548cca7166957d662391f"
      }
     },
     "f1772e3043324949a242d83ac95af420": {
      "model_module": "@jupyter-widgets/controls",
      "model_module_version": "1.0.0",
      "model_name": "DescriptionStyleModel",
      "state": {
       "description_width": ""
      }
     },
     "f3f112e2a36948d2a8f5bc7f61c9548f": {
      "model_module": "@jupyter-widgets/base",
      "model_module_version": "1.0.0",
      "model_name": "LayoutModel",
      "state": {}
     },
     "f67f7b82b9574fd3a1d6fddcd26fe735": {
      "model_module": "@jupyter-widgets/base",
      "model_module_version": "1.0.0",
      "model_name": "LayoutModel",
      "state": {}
     },
     "f7c098ce3cb642159e53d2a918c53b33": {
      "model_module": "@jupyter-widgets/base",
      "model_module_version": "1.0.0",
      "model_name": "LayoutModel",
      "state": {}
     },
     "ffd0028793194feb9cbbe52e6187c4e1": {
      "model_module": "@jupyter-widgets/controls",
      "model_module_version": "1.0.0",
      "model_name": "DescriptionStyleModel",
      "state": {
       "description_width": ""
      }
     }
    },
    "version_major": 2,
    "version_minor": 0
   }
  }
 },
 "nbformat": 4,
 "nbformat_minor": 2
}
