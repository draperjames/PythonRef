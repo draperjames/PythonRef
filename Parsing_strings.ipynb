{
 "cells": [
  {
   "cell_type": "code",
   "execution_count": 23,
   "metadata": {
    "collapsed": false
   },
   "outputs": [],
   "source": [
    "import re\n",
    "import colorsys\n",
    "import numpy as np\n",
    "from ipythonblocks import BlockGrid as bg\n",
    "from webcolors import hex_to_rgb as h2rgb"
   ]
  },
  {
   "cell_type": "code",
   "execution_count": 6,
   "metadata": {
    "collapsed": true
   },
   "outputs": [],
   "source": [
    "one_dark_syn = \"\"\"\n",
    "@hue-1:   hsl(187, 47%, 55%); // <-cyan\n",
    "@hue-2:   hsl(207, 82%, 66%); // <-blue\n",
    "@hue-3:   hsl(286, 60%, 67%); // <-purple\n",
    "@hue-4:   hsl( 95, 38%, 62%); // <-green\n",
    "@hue-5:   hsl(355, 65%, 65%); // <-red 1\n",
    "@hue-5-2: hsl(  5, 48%, 51%); // <-red 2\n",
    "@hue-6:   hsl( 29, 54%, 61%); // <-orange 1\n",
    "@hue-6-2: hsl( 39, 67%, 69%); // <-orange 2\n",
    "\"\"\""
   ]
  },
  {
   "cell_type": "code",
   "execution_count": 25,
   "metadata": {
    "collapsed": false
   },
   "outputs": [
    {
     "data": {
      "text/plain": [
       "['1D3437',\n",
       " '0C2A42',\n",
       " '3A1B43',\n",
       " '303E26',\n",
       " '41171A',\n",
       " '331D1B',\n",
       " '3D2C1C',\n",
       " '453517']"
      ]
     },
     "execution_count": 25,
     "metadata": {},
     "output_type": "execute_result"
    }
   ],
   "source": [
    "regex = r'hsl\\(\\s*(\\d+),\\s*(\\d+)%,\\s*(\\d+)%\\s*\\);'\n",
    "lines = [re.findall(regex,line) for line in one_dark_syn.split('\\n')]\n",
    "rgbs = [colorsys.hsv_to_rgb(int(line[0][0])/360,\n",
    "                            int(line[0][1])/100,\n",
    "                            int(line[0][2])/100) for line in lines if line]\n",
    "rgbhex = [\"\".join(\"%02X\" % round(i*100) for i in rgb) for rgb in rgbs]\n",
    "rgbhex\n",
    "# rgbs"
   ]
  },
  {
   "cell_type": "code",
   "execution_count": 13,
   "metadata": {
    "collapsed": false
   },
   "outputs": [
    {
     "data": {
      "text/html": [
       "<style type=\"text/css\">table.blockgrid {border: none;} .blockgrid tr {border: none;} .blockgrid td {padding: 0px;} #blocks73b6db60-3326-4d22-8d3f-5ef3171813ec td {border: 1px solid white;}</style><table id=\"blocks73b6db60-3326-4d22-8d3f-5ef3171813ec\" class=\"blockgrid\"><tbody><tr><td title=\"Index: [0, 0]&#10;Color: (0, 0, 0)\" style=\"width: 20px; height: 20px;background-color: rgb(0, 0, 0);\"></td><td title=\"Index: [0, 1]&#10;Color: (0, 0, 0)\" style=\"width: 20px; height: 20px;background-color: rgb(0, 0, 0);\"></td><td title=\"Index: [0, 2]&#10;Color: (0, 0, 0)\" style=\"width: 20px; height: 20px;background-color: rgb(0, 0, 0);\"></td><td title=\"Index: [0, 3]&#10;Color: (0, 0, 0)\" style=\"width: 20px; height: 20px;background-color: rgb(0, 0, 0);\"></td><td title=\"Index: [0, 4]&#10;Color: (0, 0, 0)\" style=\"width: 20px; height: 20px;background-color: rgb(0, 0, 0);\"></td><td title=\"Index: [0, 5]&#10;Color: (0, 0, 0)\" style=\"width: 20px; height: 20px;background-color: rgb(0, 0, 0);\"></td><td title=\"Index: [0, 6]&#10;Color: (0, 0, 0)\" style=\"width: 20px; height: 20px;background-color: rgb(0, 0, 0);\"></td><td title=\"Index: [0, 7]&#10;Color: (0, 0, 0)\" style=\"width: 20px; height: 20px;background-color: rgb(0, 0, 0);\"></td></tr></tbody></table>"
      ],
      "text/plain": [
       "<ipythonblocks.ipythonblocks.BlockGrid at 0x5573550>"
      ]
     },
     "execution_count": 13,
     "metadata": {},
     "output_type": "execute_result"
    }
   ],
   "source": [
    "grid = bg(len(rgbs),1)\n",
    "grid"
   ]
  },
  {
   "cell_type": "code",
   "execution_count": 27,
   "metadata": {
    "collapsed": false
   },
   "outputs": [
    {
     "data": {
      "text/html": [
       "<style type=\"text/css\">table.blockgrid {border: none;} .blockgrid tr {border: none;} .blockgrid td {padding: 0px;} #blocks6a4b09bf-f6f2-4e21-9915-221d67e5aeef td {border: 1px solid white;}</style><table id=\"blocks6a4b09bf-f6f2-4e21-9915-221d67e5aeef\" class=\"blockgrid\"><tbody><tr><td title=\"Index: [0, 0]&#10;Color: (29, 52, 55)\" style=\"width: 20px; height: 20px;background-color: rgb(29, 52, 55);\"></td><td title=\"Index: [0, 1]&#10;Color: (12, 42, 66)\" style=\"width: 20px; height: 20px;background-color: rgb(12, 42, 66);\"></td><td title=\"Index: [0, 2]&#10;Color: (58, 27, 67)\" style=\"width: 20px; height: 20px;background-color: rgb(58, 27, 67);\"></td><td title=\"Index: [0, 3]&#10;Color: (48, 62, 38)\" style=\"width: 20px; height: 20px;background-color: rgb(48, 62, 38);\"></td><td title=\"Index: [0, 4]&#10;Color: (65, 23, 26)\" style=\"width: 20px; height: 20px;background-color: rgb(65, 23, 26);\"></td><td title=\"Index: [0, 5]&#10;Color: (51, 29, 27)\" style=\"width: 20px; height: 20px;background-color: rgb(51, 29, 27);\"></td><td title=\"Index: [0, 6]&#10;Color: (61, 44, 28)\" style=\"width: 20px; height: 20px;background-color: rgb(61, 44, 28);\"></td><td title=\"Index: [0, 7]&#10;Color: (69, 53, 23)\" style=\"width: 20px; height: 20px;background-color: rgb(69, 53, 23);\"></td></tr></tbody></table>"
      ],
      "text/plain": [
       "<ipythonblocks.ipythonblocks.BlockGrid at 0x5573550>"
      ]
     },
     "execution_count": 27,
     "metadata": {},
     "output_type": "execute_result"
    }
   ],
   "source": [
    "for n,_ in enumerate(grid):\n",
    "    grid[0,n] = h2rgb(\"#\"+rgbhex[n])\n",
    "grid"
   ]
  },
  {
   "cell_type": "code",
   "execution_count": null,
   "metadata": {
    "collapsed": true
   },
   "outputs": [],
   "source": []
  }
 ],
 "metadata": {
  "anaconda-cloud": {},
  "kernelspec": {
   "display_name": "Python [Root]",
   "language": "python",
   "name": "Python [Root]"
  },
  "language_info": {
   "codemirror_mode": {
    "name": "ipython",
    "version": 3
   },
   "file_extension": ".py",
   "mimetype": "text/x-python",
   "name": "python",
   "nbconvert_exporter": "python",
   "pygments_lexer": "ipython3",
   "version": "3.5.2"
  }
 },
 "nbformat": 4,
 "nbformat_minor": 2
}
