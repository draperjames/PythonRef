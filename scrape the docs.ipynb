{
 "cells": [
  {
   "cell_type": "markdown",
   "metadata": {},
   "source": [
    "# Scrape the docs\n",
    "## Convert any page from [The Python Standard Library](https://docs.python.org/3/library/index.html) to a working Jupyter notebook file."
   ]
  },
  {
   "cell_type": "code",
   "execution_count": 1,
   "metadata": {
    "collapsed": true
   },
   "outputs": [],
   "source": [
    "# Copywrite James Draper 2017 MIT License.\n",
    "\n",
    "import re\n",
    "from urllib import request\n",
    "from urllib import parse\n",
    "from bs4 import BeautifulSoup\n",
    "import nbformat as nbf\n",
    "\n",
    "# Define the what version of Python and the desired module.\n",
    "py_version = '3.6'\n",
    "module = 'functools'\n",
    "\n",
    "url = 'https://docs.python.org/{}/library/{}.html'.format(py_version, module)\n",
    "req = request.urlopen(url)\n",
    "info = req.read()\n",
    "soup = BeautifulSoup(info, 'html.parser')\n",
    "\n",
    "# Isolate the portion of the page that we want.\n",
    "soup = soup.body\n",
    "sections = soup.find_all('div', class_='section')\n",
    "main_section = sections[0]\n",
    "str_soup = main_section.decode()\n",
    "\n",
    "# Get all of the Python code divs\n",
    "py = soup.find_all(class_=re.compile('python'))\n",
    "\n",
    "def clean_up(dirty_code):\n",
    "    \"\"\"Clean up sphinx formatted code.\"\"\"\n",
    "    # Use the re module to find working code.\n",
    "    if '>>>' in dirty_code.text:\n",
    "        result = re.findall('^>{3}(.+)|^\\.{3}(.+)', dirty_code.text, flags=re.M)\n",
    "        result = '\\n'.join([[k[1:] for k in i if len(k)>0][0] for i in result if len(i)>0])\n",
    "        return result\n",
    "    else:\n",
    "        return dirty_code.text\n",
    "    \n",
    "# Split up the text on every code div\n",
    "first_part = str_soup.split(str(py[0]))\n",
    "start = str_soup.split(str(py[0]))\n",
    "chunks = [start[0]]\n",
    "remainder = start[1]\n",
    "\n",
    "for i in range(1,len(py)):\n",
    "    parts = remainder.split(str(py[i]))\n",
    "    chunks.append(parts[0])\n",
    "    if len(parts)>1:\n",
    "        remainder = parts[1]\n",
    "\n",
    "# Create the notebook object.\n",
    "nb = nbf.v4.new_notebook()\n",
    "\n",
    "\n",
    "# Adding cell that imports all of the desired modules.\n",
    "code_cell = nbf.v4.new_code_cell('from {} import *'.format(module))\n",
    "nb['cells'].append(code_cell)\n",
    "\n",
    "for i in range(len(py)):\n",
    "    \n",
    "    # Formatting a chunk of HTML as a markdown cell.\n",
    "    markdown_cell = nbf.v4.new_markdown_cell(chunks[i])\n",
    "    nb['cells'].append(markdown_cell)\n",
    "    # Formatting code as code cell.\n",
    "    code_cell = nbf.v4.new_code_cell(clean_up(py[i]))\n",
    "    nb['cells'].append(code_cell)\n",
    "\n",
    "# Write the output to a notebook file in the same directory.\n",
    "fname = '{}_python{}_docs.ipynb'.format(module, py_version.replace('.',''))\n",
    "nbf.write(nb, fname)"
   ]
  },
  {
   "cell_type": "code",
   "execution_count": null,
   "metadata": {
    "collapsed": true
   },
   "outputs": [],
   "source": []
  }
 ],
 "metadata": {
  "kernelspec": {
   "display_name": "Python 3",
   "language": "python",
   "name": "python3"
  },
  "language_info": {
   "codemirror_mode": {
    "name": "ipython",
    "version": 3
   },
   "file_extension": ".py",
   "mimetype": "text/x-python",
   "name": "python",
   "nbconvert_exporter": "python",
   "pygments_lexer": "ipython3",
   "version": "3.6.1"
  },
  "varInspector": {
   "cols": {
    "lenName": 16,
    "lenType": 16,
    "lenVar": 40
   },
   "kernels_config": {
    "python": {
     "delete_cmd_postfix": "",
     "delete_cmd_prefix": "del ",
     "library": "var_list.py",
     "varRefreshCmd": "print(var_dic_list())"
    },
    "r": {
     "delete_cmd_postfix": ") ",
     "delete_cmd_prefix": "rm(",
     "library": "var_list.r",
     "varRefreshCmd": "cat(var_dic_list()) "
    }
   },
   "types_to_exclude": [
    "module",
    "function",
    "builtin_function_or_method",
    "instance",
    "_Feature"
   ],
   "window_display": false
  }
 },
 "nbformat": 4,
 "nbformat_minor": 2
}
