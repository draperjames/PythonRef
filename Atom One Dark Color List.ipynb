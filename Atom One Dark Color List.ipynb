{
 "cells": [
  {
   "cell_type": "markdown",
   "metadata": {},
   "source": [
    "# Atom's One Dark syntax theme color list\n",
    "- [source material](https://github.com/jonathanchu/atom-one-dark-theme/blob/master/atom-one-dark-theme.el)"
   ]
  },
  {
   "cell_type": "code",
   "execution_count": 1,
   "metadata": {
    "collapsed": true
   },
   "outputs": [],
   "source": [
    "one_dark_colors = \"\"\"((\"atom-one-dark-accent\"   . \"#528BFF\")\n",
    "(\"atom-one-dark-fg\"       . \"#ABB2BF\")\n",
    "(\"atom-one-dark-bg\"       . \"#282C34\")\n",
    "(\"atom-one-dark-bg-1\"     . \"#121417\")\n",
    "(\"atom-one-dark-bg-hl\"    . \"#2F343D\")\n",
    "(\"atom-one-dark-gutter\"   . \"#666D7A\")\n",
    "(\"atom-one-dark-accent\"   . \"#AEB9F5\")\n",
    "(\"atom-one-dark-mono-1\"   . \"#ABB2BF\")\n",
    "(\"atom-one-dark-mono-2\"   . \"#828997\")\n",
    "(\"atom-one-dark-mono-3\"   . \"#5C6370\")\n",
    "(\"atom-one-dark-cyan\"     . \"#56B6C2\")\n",
    "(\"atom-one-dark-blue\"     . \"#61AFEF\")\n",
    "(\"atom-one-dark-purple\"   . \"#C678DD\")\n",
    "(\"atom-one-dark-green\"    . \"#98C379\")\n",
    "(\"atom-one-dark-red-1\"    . \"#E06C75\")\n",
    "(\"atom-one-dark-red-2\"    . \"#BE5046\")\n",
    "(\"atom-one-dark-orange-1\" . \"#D19A66\")\n",
    "(\"atom-one-dark-orange-2\" . \"#E5C07B\")\n",
    "(\"atom-one-dark-gray\"     . \"#3E4451\")\n",
    "(\"atom-one-dark-silver\"   . \"#AAAAAA\")\n",
    "(\"atom-one-dark-black\" . \"#0F1011\"))\"\"\""
   ]
  },
  {
   "cell_type": "code",
   "execution_count": 2,
   "metadata": {
    "collapsed": false
   },
   "outputs": [],
   "source": [
    "od_colors = [[j.strip().replace(\"\\\"\",\"\") for j in i[1:-1].split(\".\")] for i in one_dark_colors[1:-1].split(\"\\n\")]\n",
    "\n",
    "od_colors = dict(od_colors)\n",
    "\n",
    "# od_colors['atom-one-dark-bg']"
   ]
  },
  {
   "cell_type": "code",
   "execution_count": 3,
   "metadata": {
    "collapsed": false
   },
   "outputs": [],
   "source": [
    "import re\n",
    "import numpy as np\n",
    "import colorsys\n",
    "from ipythonblocks import BlockGrid\n",
    "import webcolors\n",
    "# dir(webcolors)"
   ]
  },
  {
   "cell_type": "code",
   "execution_count": 4,
   "metadata": {
    "collapsed": true
   },
   "outputs": [],
   "source": [
    "color_list = list(od_colors.values())"
   ]
  },
  {
   "cell_type": "code",
   "execution_count": 5,
   "metadata": {
    "collapsed": false
   },
   "outputs": [
    {
     "data": {
      "text/html": [
       "<style type=\"text/css\">table.blockgrid {border: none;} .blockgrid tr {border: none;} .blockgrid td {padding: 0px;} #blocks2a3fd398-7666-421a-9a8c-7f4368d22aaa td {border: 1px solid white;}</style><table id=\"blocks2a3fd398-7666-421a-9a8c-7f4368d22aaa\" class=\"blockgrid\"><tbody><tr><td title=\"Index: [0, 0]&#10;Color: (174, 185, 245)\" style=\"width: 40px; height: 40px;background-color: rgb(174, 185, 245);\"></td><td title=\"Index: [0, 1]&#10;Color: (171, 178, 191)\" style=\"width: 40px; height: 40px;background-color: rgb(171, 178, 191);\"></td><td title=\"Index: [0, 2]&#10;Color: (40, 44, 52)\" style=\"width: 40px; height: 40px;background-color: rgb(40, 44, 52);\"></td><td title=\"Index: [0, 3]&#10;Color: (18, 20, 23)\" style=\"width: 40px; height: 40px;background-color: rgb(18, 20, 23);\"></td><td title=\"Index: [0, 4]&#10;Color: (47, 52, 61)\" style=\"width: 40px; height: 40px;background-color: rgb(47, 52, 61);\"></td><td title=\"Index: [0, 5]&#10;Color: (102, 109, 122)\" style=\"width: 40px; height: 40px;background-color: rgb(102, 109, 122);\"></td><td title=\"Index: [0, 6]&#10;Color: (171, 178, 191)\" style=\"width: 40px; height: 40px;background-color: rgb(171, 178, 191);\"></td><td title=\"Index: [0, 7]&#10;Color: (130, 137, 151)\" style=\"width: 40px; height: 40px;background-color: rgb(130, 137, 151);\"></td><td title=\"Index: [0, 8]&#10;Color: (92, 99, 112)\" style=\"width: 40px; height: 40px;background-color: rgb(92, 99, 112);\"></td><td title=\"Index: [0, 9]&#10;Color: (86, 182, 194)\" style=\"width: 40px; height: 40px;background-color: rgb(86, 182, 194);\"></td><td title=\"Index: [0, 10]&#10;Color: (97, 175, 239)\" style=\"width: 40px; height: 40px;background-color: rgb(97, 175, 239);\"></td><td title=\"Index: [0, 11]&#10;Color: (198, 120, 221)\" style=\"width: 40px; height: 40px;background-color: rgb(198, 120, 221);\"></td><td title=\"Index: [0, 12]&#10;Color: (152, 195, 121)\" style=\"width: 40px; height: 40px;background-color: rgb(152, 195, 121);\"></td><td title=\"Index: [0, 13]&#10;Color: (224, 108, 117)\" style=\"width: 40px; height: 40px;background-color: rgb(224, 108, 117);\"></td><td title=\"Index: [0, 14]&#10;Color: (190, 80, 70)\" style=\"width: 40px; height: 40px;background-color: rgb(190, 80, 70);\"></td><td title=\"Index: [0, 15]&#10;Color: (209, 154, 102)\" style=\"width: 40px; height: 40px;background-color: rgb(209, 154, 102);\"></td><td title=\"Index: [0, 16]&#10;Color: (229, 192, 123)\" style=\"width: 40px; height: 40px;background-color: rgb(229, 192, 123);\"></td><td title=\"Index: [0, 17]&#10;Color: (62, 68, 81)\" style=\"width: 40px; height: 40px;background-color: rgb(62, 68, 81);\"></td><td title=\"Index: [0, 18]&#10;Color: (170, 170, 170)\" style=\"width: 40px; height: 40px;background-color: rgb(170, 170, 170);\"></td><td title=\"Index: [0, 19]&#10;Color: (15, 16, 17)\" style=\"width: 40px; height: 40px;background-color: rgb(15, 16, 17);\"></td></tr></tbody></table>"
      ],
      "text/plain": [
       "<ipythonblocks.ipythonblocks.BlockGrid at 0x5f29710>"
      ]
     },
     "execution_count": 5,
     "metadata": {},
     "output_type": "execute_result"
    }
   ],
   "source": [
    "grid = BlockGrid(len(color_list),1,block_size=40)\n",
    "\n",
    "for n,_ in enumerate(grid):\n",
    "    grid[0,n] = webcolors.hex_to_rgb(color_list[n])\n",
    "grid"
   ]
  },
  {
   "cell_type": "code",
   "execution_count": 6,
   "metadata": {
    "collapsed": false
   },
   "outputs": [
    {
     "data": {
      "text/plain": [
       "'#3E4451'"
      ]
     },
     "execution_count": 6,
     "metadata": {},
     "output_type": "execute_result"
    }
   ],
   "source": [
    "color_list[17]"
   ]
  },
  {
   "cell_type": "code",
   "execution_count": 7,
   "metadata": {
    "collapsed": false
   },
   "outputs": [
    {
     "data": {
      "text/plain": [
       "{'atom-one-dark-accent': '#AEB9F5',\n",
       " 'atom-one-dark-bg': '#282C34',\n",
       " 'atom-one-dark-bg-1': '#121417',\n",
       " 'atom-one-dark-bg-hl': '#2F343D',\n",
       " 'atom-one-dark-black': '#0F1011',\n",
       " 'atom-one-dark-blue': '#61AFEF',\n",
       " 'atom-one-dark-cyan': '#56B6C2',\n",
       " 'atom-one-dark-fg': '#ABB2BF',\n",
       " 'atom-one-dark-gray': '#3E4451',\n",
       " 'atom-one-dark-green': '#98C379',\n",
       " 'atom-one-dark-gutter': '#666D7A',\n",
       " 'atom-one-dark-mono-1': '#ABB2BF',\n",
       " 'atom-one-dark-mono-2': '#828997',\n",
       " 'atom-one-dark-mono-3': '#5C6370',\n",
       " 'atom-one-dark-orange-1': '#D19A66',\n",
       " 'atom-one-dark-orange-2': '#E5C07B',\n",
       " 'atom-one-dark-purple': '#C678DD',\n",
       " 'atom-one-dark-red-1': '#E06C75',\n",
       " 'atom-one-dark-red-2': '#BE5046',\n",
       " 'atom-one-dark-silver': '#AAAAAA'}"
      ]
     },
     "execution_count": 7,
     "metadata": {},
     "output_type": "execute_result"
    }
   ],
   "source": [
    "od_colors\n",
    "\n",
    "# od_colors.items()\n",
    "# [print(i,\":\",j) for i,j in od_colors.items()]"
   ]
  },
  {
   "cell_type": "code",
   "execution_count": 8,
   "metadata": {
    "collapsed": true
   },
   "outputs": [],
   "source": [
    "grid = BlockGrid(1,1,block_size=40)"
   ]
  },
  {
   "cell_type": "code",
   "execution_count": 41,
   "metadata": {
    "collapsed": false
   },
   "outputs": [],
   "source": [
    "grid[0,0] = webcolors.hex_to_rgb(od_colors['atom-one-dark-mono-1'])\n",
    "# for i in grid:\n",
    "#     i.show(),print(i)"
   ]
  },
  {
   "cell_type": "markdown",
   "metadata": {},
   "source": [
    "---"
   ]
  },
  {
   "cell_type": "code",
   "execution_count": 10,
   "metadata": {
    "collapsed": true
   },
   "outputs": [],
   "source": [
    "import re\n",
    "def invertColor(content):\n",
    "    text = content.lower()\n",
    "    code = {}\n",
    "    l1=\"#;0123456789abcdef\"\n",
    "    l2=\"#;fedcba9876543210\"\n",
    "    for i in range(len(l1)):\n",
    "        code[l1[i]]=l2[i]\n",
    "    inverted = \"\"\n",
    "    for j in text:\n",
    "        inverted += code[j]\n",
    "    return inverted"
   ]
  },
  {
   "cell_type": "code",
   "execution_count": 11,
   "metadata": {
    "collapsed": false
   },
   "outputs": [
    {
     "data": {
      "text/plain": [
       "'#1f938a'"
      ]
     },
     "execution_count": 11,
     "metadata": {},
     "output_type": "execute_result"
    }
   ],
   "source": [
    "invertColor('#E06C75')"
   ]
  },
  {
   "cell_type": "code",
   "execution_count": 31,
   "metadata": {
    "collapsed": false
   },
   "outputs": [
    {
     "data": {
      "text/html": [
       "<style type=\"text/css\">table.blockgrid {border: none;} .blockgrid tr {border: none;} .blockgrid td {padding: 0px;} #blocks6fc4727f-8429-493a-ac5d-64244a1a7aa9 td {border: 1px solid white;}</style><table id=\"blocks6fc4727f-8429-493a-ac5d-64244a1a7aa9\" class=\"blockgrid\"><tbody><tr><td title=\"Index: [0, 0]&#10;Color: (81, 70, 10)\" style=\"width: 40px; height: 40px;background-color: rgb(81, 70, 10);\"></td><td title=\"Index: [0, 1]&#10;Color: (84, 77, 64)\" style=\"width: 40px; height: 40px;background-color: rgb(84, 77, 64);\"></td><td title=\"Index: [0, 2]&#10;Color: (215, 211, 203)\" style=\"width: 40px; height: 40px;background-color: rgb(215, 211, 203);\"></td><td title=\"Index: [0, 3]&#10;Color: (237, 235, 232)\" style=\"width: 40px; height: 40px;background-color: rgb(237, 235, 232);\"></td><td title=\"Index: [0, 4]&#10;Color: (208, 203, 194)\" style=\"width: 40px; height: 40px;background-color: rgb(208, 203, 194);\"></td><td title=\"Index: [0, 5]&#10;Color: (153, 146, 133)\" style=\"width: 40px; height: 40px;background-color: rgb(153, 146, 133);\"></td><td title=\"Index: [0, 6]&#10;Color: (84, 77, 64)\" style=\"width: 40px; height: 40px;background-color: rgb(84, 77, 64);\"></td><td title=\"Index: [0, 7]&#10;Color: (125, 118, 104)\" style=\"width: 40px; height: 40px;background-color: rgb(125, 118, 104);\"></td><td title=\"Index: [0, 8]&#10;Color: (163, 156, 143)\" style=\"width: 40px; height: 40px;background-color: rgb(163, 156, 143);\"></td><td title=\"Index: [0, 9]&#10;Color: (169, 73, 61)\" style=\"width: 40px; height: 40px;background-color: rgb(169, 73, 61);\"></td><td title=\"Index: [0, 10]&#10;Color: (158, 80, 16)\" style=\"width: 40px; height: 40px;background-color: rgb(158, 80, 16);\"></td><td title=\"Index: [0, 11]&#10;Color: (57, 135, 34)\" style=\"width: 40px; height: 40px;background-color: rgb(57, 135, 34);\"></td><td title=\"Index: [0, 12]&#10;Color: (103, 60, 134)\" style=\"width: 40px; height: 40px;background-color: rgb(103, 60, 134);\"></td><td title=\"Index: [0, 13]&#10;Color: (31, 147, 138)\" style=\"width: 40px; height: 40px;background-color: rgb(31, 147, 138);\"></td><td title=\"Index: [0, 14]&#10;Color: (65, 175, 185)\" style=\"width: 40px; height: 40px;background-color: rgb(65, 175, 185);\"></td><td title=\"Index: [0, 15]&#10;Color: (46, 101, 153)\" style=\"width: 40px; height: 40px;background-color: rgb(46, 101, 153);\"></td><td title=\"Index: [0, 16]&#10;Color: (26, 63, 132)\" style=\"width: 40px; height: 40px;background-color: rgb(26, 63, 132);\"></td><td title=\"Index: [0, 17]&#10;Color: (193, 187, 174)\" style=\"width: 40px; height: 40px;background-color: rgb(193, 187, 174);\"></td><td title=\"Index: [0, 18]&#10;Color: (85, 85, 85)\" style=\"width: 40px; height: 40px;background-color: rgb(85, 85, 85);\"></td><td title=\"Index: [0, 19]&#10;Color: (240, 239, 238)\" style=\"width: 40px; height: 40px;background-color: rgb(240, 239, 238);\"></td></tr></tbody></table>"
      ],
      "text/plain": [
       "<ipythonblocks.ipythonblocks.BlockGrid at 0x5043198>"
      ]
     },
     "execution_count": 31,
     "metadata": {},
     "output_type": "execute_result"
    }
   ],
   "source": [
    "grid = BlockGrid(len(color_list),1,block_size=40)\n",
    "\n",
    "for n,_ in enumerate(grid):\n",
    "    grid[0,n] = webcolors.hex_to_rgb(invertColor(color_list[n]))\n",
    "grid"
   ]
  },
  {
   "cell_type": "code",
   "execution_count": 32,
   "metadata": {
    "collapsed": false
   },
   "outputs": [],
   "source": [
    "# od_colors\n",
    "iod_colors = od_colors.copy()"
   ]
  },
  {
   "cell_type": "code",
   "execution_count": 33,
   "metadata": {
    "collapsed": false
   },
   "outputs": [],
   "source": [
    "for i in iod_colors.keys():\n",
    "    # print(i)\n",
    "    iod_colors[i] = invertColor(iod_colors[i])"
   ]
  },
  {
   "cell_type": "code",
   "execution_count": 44,
   "metadata": {
    "collapsed": false
   },
   "outputs": [],
   "source": [
    "# len(iod_colors)"
   ]
  },
  {
   "cell_type": "code",
   "execution_count": 45,
   "metadata": {
    "collapsed": false
   },
   "outputs": [],
   "source": [
    "# grid.shape"
   ]
  },
  {
   "cell_type": "code",
   "execution_count": 56,
   "metadata": {
    "collapsed": false
   },
   "outputs": [
    {
     "data": {
      "text/html": [
       "<style type=\"text/css\">table.blockgrid {border: none;} .blockgrid tr {border: none;} .blockgrid td {padding: 0px;} #blocks69ee657a-74c2-4b86-9408-5979560b91fc td {border: 0px solid white;}</style><table id=\"blocks69ee657a-74c2-4b86-9408-5979560b91fc\" class=\"blockgrid\"><tbody><tr><td title=\"Index: [0, 0]&#10;Color: (171, 178, 191)\" style=\"width: 40px; height: 40px;background-color: rgb(171, 178, 191);\"></td></tr></tbody></table>"
      ],
      "text/plain": [
       "<IPython.core.display.HTML object>"
      ]
     },
     "metadata": {},
     "output_type": "display_data"
    },
    {
     "name": "stdout",
     "output_type": "stream",
     "text": [
      "#f0efee\n"
     ]
    },
    {
     "data": {
      "text/html": [
       "<style type=\"text/css\">table.blockgrid {border: none;} .blockgrid tr {border: none;} .blockgrid td {padding: 0px;} #blocks9fab8582-402a-4c08-a984-78ef3d72ca8a td {border: 0px solid white;}</style><table id=\"blocks9fab8582-402a-4c08-a984-78ef3d72ca8a\" class=\"blockgrid\"><tbody><tr><td title=\"Index: [0, 1]&#10;Color: (84, 77, 64)\" style=\"width: 40px; height: 40px;background-color: rgb(84, 77, 64);\"></td></tr></tbody></table>"
      ],
      "text/plain": [
       "<IPython.core.display.HTML object>"
      ]
     },
     "metadata": {},
     "output_type": "display_data"
    },
    {
     "name": "stdout",
     "output_type": "stream",
     "text": [
      "#f0efee\n"
     ]
    },
    {
     "data": {
      "text/html": [
       "<style type=\"text/css\">table.blockgrid {border: none;} .blockgrid tr {border: none;} .blockgrid td {padding: 0px;} #blocksed2f8723-d2cc-4e94-aadd-31aae634d67e td {border: 0px solid white;}</style><table id=\"blocksed2f8723-d2cc-4e94-aadd-31aae634d67e\" class=\"blockgrid\"><tbody><tr><td title=\"Index: [0, 2]&#10;Color: (215, 211, 203)\" style=\"width: 40px; height: 40px;background-color: rgb(215, 211, 203);\"></td></tr></tbody></table>"
      ],
      "text/plain": [
       "<IPython.core.display.HTML object>"
      ]
     },
     "metadata": {},
     "output_type": "display_data"
    },
    {
     "name": "stdout",
     "output_type": "stream",
     "text": [
      "#f0efee\n"
     ]
    },
    {
     "data": {
      "text/html": [
       "<style type=\"text/css\">table.blockgrid {border: none;} .blockgrid tr {border: none;} .blockgrid td {padding: 0px;} #blocks54484da2-9f0d-42db-9c97-fcdd89532e50 td {border: 0px solid white;}</style><table id=\"blocks54484da2-9f0d-42db-9c97-fcdd89532e50\" class=\"blockgrid\"><tbody><tr><td title=\"Index: [0, 3]&#10;Color: (237, 235, 232)\" style=\"width: 40px; height: 40px;background-color: rgb(237, 235, 232);\"></td></tr></tbody></table>"
      ],
      "text/plain": [
       "<IPython.core.display.HTML object>"
      ]
     },
     "metadata": {},
     "output_type": "display_data"
    },
    {
     "name": "stdout",
     "output_type": "stream",
     "text": [
      "#f0efee\n"
     ]
    },
    {
     "data": {
      "text/html": [
       "<style type=\"text/css\">table.blockgrid {border: none;} .blockgrid tr {border: none;} .blockgrid td {padding: 0px;} #blocks83c4bf0f-7b25-4eb6-9059-758674c80335 td {border: 0px solid white;}</style><table id=\"blocks83c4bf0f-7b25-4eb6-9059-758674c80335\" class=\"blockgrid\"><tbody><tr><td title=\"Index: [0, 4]&#10;Color: (208, 203, 194)\" style=\"width: 40px; height: 40px;background-color: rgb(208, 203, 194);\"></td></tr></tbody></table>"
      ],
      "text/plain": [
       "<IPython.core.display.HTML object>"
      ]
     },
     "metadata": {},
     "output_type": "display_data"
    },
    {
     "name": "stdout",
     "output_type": "stream",
     "text": [
      "#f0efee\n"
     ]
    },
    {
     "data": {
      "text/html": [
       "<style type=\"text/css\">table.blockgrid {border: none;} .blockgrid tr {border: none;} .blockgrid td {padding: 0px;} #blocks9c4fa3e3-87b7-4af4-a81b-d4141519e300 td {border: 0px solid white;}</style><table id=\"blocks9c4fa3e3-87b7-4af4-a81b-d4141519e300\" class=\"blockgrid\"><tbody><tr><td title=\"Index: [0, 5]&#10;Color: (153, 146, 133)\" style=\"width: 40px; height: 40px;background-color: rgb(153, 146, 133);\"></td></tr></tbody></table>"
      ],
      "text/plain": [
       "<IPython.core.display.HTML object>"
      ]
     },
     "metadata": {},
     "output_type": "display_data"
    },
    {
     "name": "stdout",
     "output_type": "stream",
     "text": [
      "#f0efee\n"
     ]
    },
    {
     "data": {
      "text/html": [
       "<style type=\"text/css\">table.blockgrid {border: none;} .blockgrid tr {border: none;} .blockgrid td {padding: 0px;} #blocks0b4dfa8a-2982-4830-82e0-5f3c0e051c6e td {border: 0px solid white;}</style><table id=\"blocks0b4dfa8a-2982-4830-82e0-5f3c0e051c6e\" class=\"blockgrid\"><tbody><tr><td title=\"Index: [0, 6]&#10;Color: (84, 77, 64)\" style=\"width: 40px; height: 40px;background-color: rgb(84, 77, 64);\"></td></tr></tbody></table>"
      ],
      "text/plain": [
       "<IPython.core.display.HTML object>"
      ]
     },
     "metadata": {},
     "output_type": "display_data"
    },
    {
     "name": "stdout",
     "output_type": "stream",
     "text": [
      "#f0efee\n"
     ]
    },
    {
     "data": {
      "text/html": [
       "<style type=\"text/css\">table.blockgrid {border: none;} .blockgrid tr {border: none;} .blockgrid td {padding: 0px;} #blockse203b564-2ec8-46dd-a90b-22200a82fdf5 td {border: 0px solid white;}</style><table id=\"blockse203b564-2ec8-46dd-a90b-22200a82fdf5\" class=\"blockgrid\"><tbody><tr><td title=\"Index: [0, 7]&#10;Color: (125, 118, 104)\" style=\"width: 40px; height: 40px;background-color: rgb(125, 118, 104);\"></td></tr></tbody></table>"
      ],
      "text/plain": [
       "<IPython.core.display.HTML object>"
      ]
     },
     "metadata": {},
     "output_type": "display_data"
    },
    {
     "name": "stdout",
     "output_type": "stream",
     "text": [
      "#f0efee\n"
     ]
    },
    {
     "data": {
      "text/html": [
       "<style type=\"text/css\">table.blockgrid {border: none;} .blockgrid tr {border: none;} .blockgrid td {padding: 0px;} #blocks318c4c86-e3dd-4cbc-bca5-b2d5aa1aeb9c td {border: 0px solid white;}</style><table id=\"blocks318c4c86-e3dd-4cbc-bca5-b2d5aa1aeb9c\" class=\"blockgrid\"><tbody><tr><td title=\"Index: [0, 8]&#10;Color: (163, 156, 143)\" style=\"width: 40px; height: 40px;background-color: rgb(163, 156, 143);\"></td></tr></tbody></table>"
      ],
      "text/plain": [
       "<IPython.core.display.HTML object>"
      ]
     },
     "metadata": {},
     "output_type": "display_data"
    },
    {
     "name": "stdout",
     "output_type": "stream",
     "text": [
      "#f0efee\n"
     ]
    },
    {
     "data": {
      "text/html": [
       "<style type=\"text/css\">table.blockgrid {border: none;} .blockgrid tr {border: none;} .blockgrid td {padding: 0px;} #blocks35ac3c53-b47e-4547-b6e5-fcd42a92affb td {border: 0px solid white;}</style><table id=\"blocks35ac3c53-b47e-4547-b6e5-fcd42a92affb\" class=\"blockgrid\"><tbody><tr><td title=\"Index: [0, 9]&#10;Color: (169, 73, 61)\" style=\"width: 40px; height: 40px;background-color: rgb(169, 73, 61);\"></td></tr></tbody></table>"
      ],
      "text/plain": [
       "<IPython.core.display.HTML object>"
      ]
     },
     "metadata": {},
     "output_type": "display_data"
    },
    {
     "name": "stdout",
     "output_type": "stream",
     "text": [
      "#f0efee\n"
     ]
    },
    {
     "data": {
      "text/html": [
       "<style type=\"text/css\">table.blockgrid {border: none;} .blockgrid tr {border: none;} .blockgrid td {padding: 0px;} #blocksa2fd3c3c-554a-4cd6-b01c-ba9b0a26925c td {border: 0px solid white;}</style><table id=\"blocksa2fd3c3c-554a-4cd6-b01c-ba9b0a26925c\" class=\"blockgrid\"><tbody><tr><td title=\"Index: [0, 10]&#10;Color: (158, 80, 16)\" style=\"width: 40px; height: 40px;background-color: rgb(158, 80, 16);\"></td></tr></tbody></table>"
      ],
      "text/plain": [
       "<IPython.core.display.HTML object>"
      ]
     },
     "metadata": {},
     "output_type": "display_data"
    },
    {
     "name": "stdout",
     "output_type": "stream",
     "text": [
      "#f0efee\n"
     ]
    },
    {
     "data": {
      "text/html": [
       "<style type=\"text/css\">table.blockgrid {border: none;} .blockgrid tr {border: none;} .blockgrid td {padding: 0px;} #blocksb95126df-5a4d-44a2-a91a-6adb2d37ec9b td {border: 0px solid white;}</style><table id=\"blocksb95126df-5a4d-44a2-a91a-6adb2d37ec9b\" class=\"blockgrid\"><tbody><tr><td title=\"Index: [0, 11]&#10;Color: (57, 135, 34)\" style=\"width: 40px; height: 40px;background-color: rgb(57, 135, 34);\"></td></tr></tbody></table>"
      ],
      "text/plain": [
       "<IPython.core.display.HTML object>"
      ]
     },
     "metadata": {},
     "output_type": "display_data"
    },
    {
     "name": "stdout",
     "output_type": "stream",
     "text": [
      "#f0efee\n"
     ]
    },
    {
     "data": {
      "text/html": [
       "<style type=\"text/css\">table.blockgrid {border: none;} .blockgrid tr {border: none;} .blockgrid td {padding: 0px;} #blockse49f9dd3-1295-4f15-b4f0-9159ce40b43c td {border: 0px solid white;}</style><table id=\"blockse49f9dd3-1295-4f15-b4f0-9159ce40b43c\" class=\"blockgrid\"><tbody><tr><td title=\"Index: [0, 12]&#10;Color: (103, 60, 134)\" style=\"width: 40px; height: 40px;background-color: rgb(103, 60, 134);\"></td></tr></tbody></table>"
      ],
      "text/plain": [
       "<IPython.core.display.HTML object>"
      ]
     },
     "metadata": {},
     "output_type": "display_data"
    },
    {
     "name": "stdout",
     "output_type": "stream",
     "text": [
      "#f0efee\n"
     ]
    },
    {
     "data": {
      "text/html": [
       "<style type=\"text/css\">table.blockgrid {border: none;} .blockgrid tr {border: none;} .blockgrid td {padding: 0px;} #blocks70ee36ba-afa1-4b9f-91b1-bec06c79a3f8 td {border: 0px solid white;}</style><table id=\"blocks70ee36ba-afa1-4b9f-91b1-bec06c79a3f8\" class=\"blockgrid\"><tbody><tr><td title=\"Index: [0, 13]&#10;Color: (31, 147, 138)\" style=\"width: 40px; height: 40px;background-color: rgb(31, 147, 138);\"></td></tr></tbody></table>"
      ],
      "text/plain": [
       "<IPython.core.display.HTML object>"
      ]
     },
     "metadata": {},
     "output_type": "display_data"
    },
    {
     "name": "stdout",
     "output_type": "stream",
     "text": [
      "#f0efee\n"
     ]
    },
    {
     "data": {
      "text/html": [
       "<style type=\"text/css\">table.blockgrid {border: none;} .blockgrid tr {border: none;} .blockgrid td {padding: 0px;} #blocks108ff0b6-b39f-4a1f-b8f8-1d8201a288c3 td {border: 0px solid white;}</style><table id=\"blocks108ff0b6-b39f-4a1f-b8f8-1d8201a288c3\" class=\"blockgrid\"><tbody><tr><td title=\"Index: [0, 14]&#10;Color: (65, 175, 185)\" style=\"width: 40px; height: 40px;background-color: rgb(65, 175, 185);\"></td></tr></tbody></table>"
      ],
      "text/plain": [
       "<IPython.core.display.HTML object>"
      ]
     },
     "metadata": {},
     "output_type": "display_data"
    },
    {
     "name": "stdout",
     "output_type": "stream",
     "text": [
      "#f0efee\n"
     ]
    },
    {
     "data": {
      "text/html": [
       "<style type=\"text/css\">table.blockgrid {border: none;} .blockgrid tr {border: none;} .blockgrid td {padding: 0px;} #blocksf0d5de8c-7f3f-41c7-bba1-b11f53f03891 td {border: 0px solid white;}</style><table id=\"blocksf0d5de8c-7f3f-41c7-bba1-b11f53f03891\" class=\"blockgrid\"><tbody><tr><td title=\"Index: [0, 15]&#10;Color: (46, 101, 153)\" style=\"width: 40px; height: 40px;background-color: rgb(46, 101, 153);\"></td></tr></tbody></table>"
      ],
      "text/plain": [
       "<IPython.core.display.HTML object>"
      ]
     },
     "metadata": {},
     "output_type": "display_data"
    },
    {
     "name": "stdout",
     "output_type": "stream",
     "text": [
      "#f0efee\n"
     ]
    },
    {
     "data": {
      "text/html": [
       "<style type=\"text/css\">table.blockgrid {border: none;} .blockgrid tr {border: none;} .blockgrid td {padding: 0px;} #blocksf2a25fc8-33fc-4d90-9471-be8eaab274d7 td {border: 0px solid white;}</style><table id=\"blocksf2a25fc8-33fc-4d90-9471-be8eaab274d7\" class=\"blockgrid\"><tbody><tr><td title=\"Index: [0, 16]&#10;Color: (26, 63, 132)\" style=\"width: 40px; height: 40px;background-color: rgb(26, 63, 132);\"></td></tr></tbody></table>"
      ],
      "text/plain": [
       "<IPython.core.display.HTML object>"
      ]
     },
     "metadata": {},
     "output_type": "display_data"
    },
    {
     "name": "stdout",
     "output_type": "stream",
     "text": [
      "#f0efee\n"
     ]
    },
    {
     "data": {
      "text/html": [
       "<style type=\"text/css\">table.blockgrid {border: none;} .blockgrid tr {border: none;} .blockgrid td {padding: 0px;} #blocksb11fe686-e239-440e-b301-d92fafbbc1a4 td {border: 0px solid white;}</style><table id=\"blocksb11fe686-e239-440e-b301-d92fafbbc1a4\" class=\"blockgrid\"><tbody><tr><td title=\"Index: [0, 17]&#10;Color: (193, 187, 174)\" style=\"width: 40px; height: 40px;background-color: rgb(193, 187, 174);\"></td></tr></tbody></table>"
      ],
      "text/plain": [
       "<IPython.core.display.HTML object>"
      ]
     },
     "metadata": {},
     "output_type": "display_data"
    },
    {
     "name": "stdout",
     "output_type": "stream",
     "text": [
      "#f0efee\n"
     ]
    },
    {
     "data": {
      "text/html": [
       "<style type=\"text/css\">table.blockgrid {border: none;} .blockgrid tr {border: none;} .blockgrid td {padding: 0px;} #blocks61c20d62-09db-4853-b4d9-4d2c22545d90 td {border: 0px solid white;}</style><table id=\"blocks61c20d62-09db-4853-b4d9-4d2c22545d90\" class=\"blockgrid\"><tbody><tr><td title=\"Index: [0, 18]&#10;Color: (85, 85, 85)\" style=\"width: 40px; height: 40px;background-color: rgb(85, 85, 85);\"></td></tr></tbody></table>"
      ],
      "text/plain": [
       "<IPython.core.display.HTML object>"
      ]
     },
     "metadata": {},
     "output_type": "display_data"
    },
    {
     "name": "stdout",
     "output_type": "stream",
     "text": [
      "#f0efee\n"
     ]
    },
    {
     "data": {
      "text/html": [
       "<style type=\"text/css\">table.blockgrid {border: none;} .blockgrid tr {border: none;} .blockgrid td {padding: 0px;} #blocks88aac3d2-9cda-4880-a367-aae4aae93084 td {border: 0px solid white;}</style><table id=\"blocks88aac3d2-9cda-4880-a367-aae4aae93084\" class=\"blockgrid\"><tbody><tr><td title=\"Index: [0, 19]&#10;Color: (240, 239, 238)\" style=\"width: 40px; height: 40px;background-color: rgb(240, 239, 238);\"></td></tr></tbody></table>"
      ],
      "text/plain": [
       "<IPython.core.display.HTML object>"
      ]
     },
     "metadata": {},
     "output_type": "display_data"
    },
    {
     "name": "stdout",
     "output_type": "stream",
     "text": [
      "#f0efee\n"
     ]
    }
   ],
   "source": [
    "for i in range(grid.shape[0]):\n",
    "    grid[0,i].show(),print(invertColor(color_list[n]))"
   ]
  },
  {
   "cell_type": "code",
   "execution_count": 54,
   "metadata": {
    "collapsed": false
   },
   "outputs": [
    {
     "data": {
      "text/html": [
       "<style type=\"text/css\">table.blockgrid {border: none;} .blockgrid tr {border: none;} .blockgrid td {padding: 0px;} #blocksa1c3a3fb-2702-4692-9bec-032a9643ac11 td {border: 0px solid white;}</style><table id=\"blocksa1c3a3fb-2702-4692-9bec-032a9643ac11\" class=\"blockgrid\"><tbody><tr><td title=\"Index: [0, 1]&#10;Color: (84, 77, 64)\" style=\"width: 40px; height: 40px;background-color: rgb(84, 77, 64);\"></td></tr></tbody></table>"
      ],
      "text/plain": [
       "Block(84, 77, 64, size=40)"
      ]
     },
     "execution_count": 54,
     "metadata": {},
     "output_type": "execute_result"
    }
   ],
   "source": [
    "grid[0,1]"
   ]
  },
  {
   "cell_type": "code",
   "execution_count": null,
   "metadata": {
    "collapsed": true
   },
   "outputs": [],
   "source": []
  }
 ],
 "metadata": {
  "anaconda-cloud": {},
  "kernelspec": {
   "display_name": "Python 3",
   "language": "python",
   "name": "python3"
  },
  "language_info": {
   "codemirror_mode": {
    "name": "ipython",
    "version": 3
   },
   "file_extension": ".py",
   "mimetype": "text/x-python",
   "name": "python",
   "nbconvert_exporter": "python",
   "pygments_lexer": "ipython3",
   "version": "3.6.0"
  }
 },
 "nbformat": 4,
 "nbformat_minor": 2
}
