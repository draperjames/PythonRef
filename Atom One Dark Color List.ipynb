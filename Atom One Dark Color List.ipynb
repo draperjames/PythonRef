{
 "cells": [
  {
   "cell_type": "markdown",
   "metadata": {},
   "source": [
    "# Atom's One Dark syntax theme color list\n",
    "- [source material](https://github.com/jonathanchu/atom-one-dark-theme/blob/master/atom-one-dark-theme.el)"
   ]
  },
  {
   "cell_type": "code",
   "execution_count": 9,
   "metadata": {
    "collapsed": true
   },
   "outputs": [],
   "source": [
    "one_dark_colors = \"\"\"((\"atom-one-dark-accent\"   . \"#528BFF\")\n",
    "(\"atom-one-dark-fg\"       . \"#ABB2BF\")\n",
    "(\"atom-one-dark-bg\"       . \"#282C34\")\n",
    "(\"atom-one-dark-bg-1\"     . \"#121417\")\n",
    "(\"atom-one-dark-bg-hl\"    . \"#2F343D\")\n",
    "(\"atom-one-dark-gutter\"   . \"#666D7A\")\n",
    "(\"atom-one-dark-accent\"   . \"#AEB9F5\")\n",
    "(\"atom-one-dark-mono-1\"   . \"#ABB2BF\")\n",
    "(\"atom-one-dark-mono-2\"   . \"#828997\")\n",
    "(\"atom-one-dark-mono-3\"   . \"#5C6370\")\n",
    "(\"atom-one-dark-cyan\"     . \"#56B6C2\")\n",
    "(\"atom-one-dark-blue\"     . \"#61AFEF\")\n",
    "(\"atom-one-dark-purple\"   . \"#C678DD\")\n",
    "(\"atom-one-dark-green\"    . \"#98C379\")\n",
    "(\"atom-one-dark-red-1\"    . \"#E06C75\")\n",
    "(\"atom-one-dark-red-2\"    . \"#BE5046\")\n",
    "(\"atom-one-dark-orange-1\" . \"#D19A66\")\n",
    "(\"atom-one-dark-orange-2\" . \"#E5C07B\")\n",
    "(\"atom-one-dark-gray\"     . \"#3E4451\")\n",
    "(\"atom-one-dark-silver\"   . \"#AAAAAA\")\n",
    "(\"atom-one-dark-black\" . \"#0F1011\"))\"\"\""
   ]
  },
  {
   "cell_type": "code",
   "execution_count": 10,
   "metadata": {
    "collapsed": false
   },
   "outputs": [],
   "source": [
    "od_colors = [[j.strip().replace(\"\\\"\",\"\") for j in i[1:-1].split(\".\")] for i in one_dark_colors[1:-1].split(\"\\n\")]\n",
    "\n",
    "od_colors = dict(od_colors)\n",
    "\n",
    "# od_colors['atom-one-dark-bg']"
   ]
  },
  {
   "cell_type": "code",
   "execution_count": 11,
   "metadata": {
    "collapsed": true
   },
   "outputs": [],
   "source": [
    "import re\n",
    "import numpy as np\n",
    "import colorsys\n",
    "from ipythonblocks import BlockGrid\n",
    "import webcolors\n",
    "# dir(webcolors)"
   ]
  },
  {
   "cell_type": "code",
   "execution_count": 12,
   "metadata": {
    "collapsed": true
   },
   "outputs": [],
   "source": [
    "color_list = list(od_colors.values())"
   ]
  },
  {
   "cell_type": "code",
   "execution_count": 13,
   "metadata": {
    "collapsed": false
   },
   "outputs": [
    {
     "data": {
      "text/html": [
       "<style type=\"text/css\">table.blockgrid {border: none;} .blockgrid tr {border: none;} .blockgrid td {padding: 0px;} #blocks2d91046f-7cbf-4580-b81e-1a96478f21d1 td {border: 1px solid white;}</style><table id=\"blocks2d91046f-7cbf-4580-b81e-1a96478f21d1\" class=\"blockgrid\"><tbody><tr><td title=\"Index: [0, 0]&#10;Color: (86, 182, 194)\" style=\"width: 40px; height: 40px;background-color: rgb(86, 182, 194);\"></td><td title=\"Index: [0, 1]&#10;Color: (170, 170, 170)\" style=\"width: 40px; height: 40px;background-color: rgb(170, 170, 170);\"></td><td title=\"Index: [0, 2]&#10;Color: (47, 52, 61)\" style=\"width: 40px; height: 40px;background-color: rgb(47, 52, 61);\"></td><td title=\"Index: [0, 3]&#10;Color: (209, 154, 102)\" style=\"width: 40px; height: 40px;background-color: rgb(209, 154, 102);\"></td><td title=\"Index: [0, 4]&#10;Color: (102, 109, 122)\" style=\"width: 40px; height: 40px;background-color: rgb(102, 109, 122);\"></td><td title=\"Index: [0, 5]&#10;Color: (18, 20, 23)\" style=\"width: 40px; height: 40px;background-color: rgb(18, 20, 23);\"></td><td title=\"Index: [0, 6]&#10;Color: (40, 44, 52)\" style=\"width: 40px; height: 40px;background-color: rgb(40, 44, 52);\"></td><td title=\"Index: [0, 7]&#10;Color: (198, 120, 221)\" style=\"width: 40px; height: 40px;background-color: rgb(198, 120, 221);\"></td><td title=\"Index: [0, 8]&#10;Color: (174, 185, 245)\" style=\"width: 40px; height: 40px;background-color: rgb(174, 185, 245);\"></td><td title=\"Index: [0, 9]&#10;Color: (171, 178, 191)\" style=\"width: 40px; height: 40px;background-color: rgb(171, 178, 191);\"></td><td title=\"Index: [0, 10]&#10;Color: (190, 80, 70)\" style=\"width: 40px; height: 40px;background-color: rgb(190, 80, 70);\"></td><td title=\"Index: [0, 11]&#10;Color: (15, 16, 17)\" style=\"width: 40px; height: 40px;background-color: rgb(15, 16, 17);\"></td><td title=\"Index: [0, 12]&#10;Color: (229, 192, 123)\" style=\"width: 40px; height: 40px;background-color: rgb(229, 192, 123);\"></td><td title=\"Index: [0, 13]&#10;Color: (92, 99, 112)\" style=\"width: 40px; height: 40px;background-color: rgb(92, 99, 112);\"></td><td title=\"Index: [0, 14]&#10;Color: (97, 175, 239)\" style=\"width: 40px; height: 40px;background-color: rgb(97, 175, 239);\"></td><td title=\"Index: [0, 15]&#10;Color: (171, 178, 191)\" style=\"width: 40px; height: 40px;background-color: rgb(171, 178, 191);\"></td><td title=\"Index: [0, 16]&#10;Color: (62, 68, 81)\" style=\"width: 40px; height: 40px;background-color: rgb(62, 68, 81);\"></td><td title=\"Index: [0, 17]&#10;Color: (130, 137, 151)\" style=\"width: 40px; height: 40px;background-color: rgb(130, 137, 151);\"></td><td title=\"Index: [0, 18]&#10;Color: (224, 108, 117)\" style=\"width: 40px; height: 40px;background-color: rgb(224, 108, 117);\"></td><td title=\"Index: [0, 19]&#10;Color: (152, 195, 121)\" style=\"width: 40px; height: 40px;background-color: rgb(152, 195, 121);\"></td></tr></tbody></table>"
      ],
      "text/plain": [
       "<ipythonblocks.ipythonblocks.BlockGrid at 0x53437f0>"
      ]
     },
     "execution_count": 13,
     "metadata": {},
     "output_type": "execute_result"
    }
   ],
   "source": [
    "grid = BlockGrid(len(color_list),1,block_size=40)\n",
    "\n",
    "for n,_ in enumerate(grid):\n",
    "    grid[0,n] = webcolors.hex_to_rgb(color_list[n])\n",
    "grid"
   ]
  },
  {
   "cell_type": "code",
   "execution_count": 7,
   "metadata": {
    "collapsed": false
   },
   "outputs": [
    {
     "data": {
      "text/plain": [
       "'#828997'"
      ]
     },
     "execution_count": 7,
     "metadata": {},
     "output_type": "execute_result"
    }
   ],
   "source": [
    "color_list[17]"
   ]
  },
  {
   "cell_type": "code",
   "execution_count": 8,
   "metadata": {
    "collapsed": false
   },
   "outputs": [
    {
     "data": {
      "text/plain": [
       "{'atom-one-dark-accent': '#AEB9F5',\n",
       " 'atom-one-dark-bg': '#282C34',\n",
       " 'atom-one-dark-bg-1': '#121417',\n",
       " 'atom-one-dark-bg-hl': '#2F343D',\n",
       " 'atom-one-dark-black': '#0F1011',\n",
       " 'atom-one-dark-blue': '#61AFEF',\n",
       " 'atom-one-dark-cyan': '#56B6C2',\n",
       " 'atom-one-dark-fg': '#ABB2BF',\n",
       " 'atom-one-dark-gray': '#3E4451',\n",
       " 'atom-one-dark-green': '#98C379',\n",
       " 'atom-one-dark-gutter': '#666D7A',\n",
       " 'atom-one-dark-mono-1': '#ABB2BF',\n",
       " 'atom-one-dark-mono-2': '#828997',\n",
       " 'atom-one-dark-mono-3': '#5C6370',\n",
       " 'atom-one-dark-orange-1': '#D19A66',\n",
       " 'atom-one-dark-orange-2': '#E5C07B',\n",
       " 'atom-one-dark-purple': '#C678DD',\n",
       " 'atom-one-dark-red-1': '#E06C75',\n",
       " 'atom-one-dark-red-2': '#BE5046',\n",
       " 'atom-one-dark-silver': '#AAAAAA'}"
      ]
     },
     "execution_count": 8,
     "metadata": {},
     "output_type": "execute_result"
    }
   ],
   "source": [
    "od_colors\n",
    "\n",
    "# od_colors.items()\n",
    "# [print(i,\":\",j) for i,j in od_colors.items()]"
   ]
  },
  {
   "cell_type": "code",
   "execution_count": 17,
   "metadata": {
    "collapsed": true
   },
   "outputs": [],
   "source": [
    "grid = BlockGrid(1,1,block_size=40)"
   ]
  },
  {
   "cell_type": "code",
   "execution_count": 24,
   "metadata": {
    "collapsed": false
   },
   "outputs": [
    {
     "data": {
      "text/html": [
       "<style type=\"text/css\">table.blockgrid {border: none;} .blockgrid tr {border: none;} .blockgrid td {padding: 0px;} #blocksb1e7edbf-54cc-4554-bed5-cdc24006882f td {border: 1px solid white;}</style><table id=\"blocksb1e7edbf-54cc-4554-bed5-cdc24006882f\" class=\"blockgrid\"><tbody><tr><td title=\"Index: [0, 0]&#10;Color: (171, 178, 191)\" style=\"width: 40px; height: 40px;background-color: rgb(171, 178, 191);\"></td></tr></tbody></table>"
      ],
      "text/plain": [
       "<ipythonblocks.ipythonblocks.BlockGrid at 0x5331b70>"
      ]
     },
     "execution_count": 24,
     "metadata": {},
     "output_type": "execute_result"
    }
   ],
   "source": [
    "grid[0,0] = webcolors.hex_to_rgb(od_colors['atom-one-dark-mono-1'])\n",
    "grid"
   ]
  }
 ],
 "metadata": {
  "anaconda-cloud": {},
  "kernelspec": {
   "display_name": "Python [Root]",
   "language": "python",
   "name": "Python [Root]"
  },
  "language_info": {
   "codemirror_mode": {
    "name": "ipython",
    "version": 3
   },
   "file_extension": ".py",
   "mimetype": "text/x-python",
   "name": "python",
   "nbconvert_exporter": "python",
   "pygments_lexer": "ipython3",
   "version": "3.5.2"
  }
 },
 "nbformat": 4,
 "nbformat_minor": 2
}
