{
 "cells": [
  {
   "cell_type": "markdown",
   "metadata": {},
   "source": [
    "# Plugins in mpld3"
   ]
  },
  {
   "cell_type": "markdown",
   "metadata": {},
   "source": [
    "One of the most interesting features of mpld3 is the ability to add plugins to your plots.  Plugins are objects which define new, interactive functionality for your visualizations.  There are several built-in to the mpld3 package, and there is a well-defined API to create your own.  We'll briefly walk through these below."
   ]
  },
  {
   "cell_type": "markdown",
   "metadata": {},
   "source": [
    "We'll start with the standard set of imports for working with mpld3"
   ]
  },
  {
   "cell_type": "code",
   "execution_count": 1,
   "metadata": {},
   "outputs": [],
   "source": [
    "%matplotlib inline\n",
    "import numpy as np\n",
    "import matplotlib.pyplot as plt\n",
    "import mpld3\n",
    "mpld3.enable_notebook()"
   ]
  },
  {
   "cell_type": "markdown",
   "metadata": {},
   "source": [
    "Just to make sure it's working, let's create a simple plot:"
   ]
  },
  {
   "cell_type": "code",
   "execution_count": 2,
   "metadata": {},
   "outputs": [
    {
     "data": {
      "image/png": "[encoded data removed]",
      "text/html": [
       "\n",
       "\n",
       "<style>\n",
       "\n",
       "</style>\n",
       "\n",
       "<div id=\"fig_el9484667404649214111975\"></div>\n",
       "<script>\n",
       "function mpld3_load_lib(url, callback){\n",
       "  var s = document.createElement('script');\n",
       "  s.src = url;\n",
       "  s.async = true;\n",
       "  s.onreadystatechange = s.onload = callback;\n",
       "  s.onerror = function(){console.warn(\"failed to load library \" + url);};\n",
       "  document.getElementsByTagName(\"head\")[0].appendChild(s);\n",
       "}\n",
       "\n",
       "if(typeof(mpld3) !== \"undefined\" && mpld3._mpld3IsLoaded){\n",
       "   // already loaded: just create the figure\n",
       "   !function(mpld3){\n",
       "       \n",
       "       mpld3.draw_figure(\"fig_el9484667404649214111975\", {\"width\": 432.0, \"height\": 288.0, \"axes\": [{\"bbox\": [0.125, 0.125, 0.775, 0.755], \"xlim\": [-0.45, 9.45], \"ylim\": [0.3544304567420151, 0.9926738225847919], \"xdomain\": [-0.45, 9.45], \"ydomain\": [0.3544304567420151, 0.9926738225847919], \"xscale\": \"linear\", \"yscale\": \"linear\", \"axes\": [{\"position\": \"bottom\", \"nticks\": 7, \"tickvalues\": null, \"tickformat\": null, \"scale\": \"linear\", \"fontsize\": 10.0, \"grid\": {\"gridOn\": false}, \"visible\": true}, {\"position\": \"left\", \"nticks\": 8, \"tickvalues\": null, \"tickformat\": null, \"scale\": \"linear\", \"fontsize\": 10.0, \"grid\": {\"gridOn\": false}, \"visible\": true}], \"axesbg\": \"#FFFFFF\", \"axesbgalpha\": null, \"zoomable\": true, \"id\": \"el9484163271624\", \"lines\": [{\"data\": \"data01\", \"xindex\": 0, \"yindex\": 1, \"coordinates\": \"data\", \"id\": \"el9484159200648\", \"color\": \"#1F77B4\", \"linewidth\": 1.5, \"dasharray\": \"none\", \"alpha\": 1, \"zorder\": 2, \"drawstyle\": \"default\"}], \"paths\": [], \"markers\": [], \"texts\": [], \"collections\": [], \"images\": [], \"sharex\": [], \"sharey\": []}], \"data\": {\"data01\": [[0.0, 0.5488135039273248], [1.0, 0.7151893663724195], [2.0, 0.6027633760716439], [3.0, 0.5448831829968969], [4.0, 0.4236547993389047], [5.0, 0.6458941130666561], [6.0, 0.4375872112626925], [7.0, 0.8917730007820798], [8.0, 0.9636627605010293], [9.0, 0.3834415188257777]]}, \"id\": \"el948466740464\", \"plugins\": [{\"type\": \"reset\"}, {\"type\": \"zoom\", \"button\": true, \"enabled\": false}, {\"type\": \"boxzoom\", \"button\": true, \"enabled\": false}]});\n",
       "   }(mpld3);\n",
       "}else if(typeof define === \"function\" && define.amd){\n",
       "   // require.js is available: use it to load d3/mpld3\n",
       "   require.config({paths: {d3: \"https://mpld3.github.io/js/d3.v3.min\"}});\n",
       "   require([\"d3\"], function(d3){\n",
       "      window.d3 = d3;\n",
       "      mpld3_load_lib(\"https://mpld3.github.io/js/mpld3.v0.3.js\", function(){\n",
       "         \n",
       "         mpld3.draw_figure(\"fig_el9484667404649214111975\", {\"width\": 432.0, \"height\": 288.0, \"axes\": [{\"bbox\": [0.125, 0.125, 0.775, 0.755], \"xlim\": [-0.45, 9.45], \"ylim\": [0.3544304567420151, 0.9926738225847919], \"xdomain\": [-0.45, 9.45], \"ydomain\": [0.3544304567420151, 0.9926738225847919], \"xscale\": \"linear\", \"yscale\": \"linear\", \"axes\": [{\"position\": \"bottom\", \"nticks\": 7, \"tickvalues\": null, \"tickformat\": null, \"scale\": \"linear\", \"fontsize\": 10.0, \"grid\": {\"gridOn\": false}, \"visible\": true}, {\"position\": \"left\", \"nticks\": 8, \"tickvalues\": null, \"tickformat\": null, \"scale\": \"linear\", \"fontsize\": 10.0, \"grid\": {\"gridOn\": false}, \"visible\": true}], \"axesbg\": \"#FFFFFF\", \"axesbgalpha\": null, \"zoomable\": true, \"id\": \"el9484163271624\", \"lines\": [{\"data\": \"data01\", \"xindex\": 0, \"yindex\": 1, \"coordinates\": \"data\", \"id\": \"el9484159200648\", \"color\": \"#1F77B4\", \"linewidth\": 1.5, \"dasharray\": \"none\", \"alpha\": 1, \"zorder\": 2, \"drawstyle\": \"default\"}], \"paths\": [], \"markers\": [], \"texts\": [], \"collections\": [], \"images\": [], \"sharex\": [], \"sharey\": []}], \"data\": {\"data01\": [[0.0, 0.5488135039273248], [1.0, 0.7151893663724195], [2.0, 0.6027633760716439], [3.0, 0.5448831829968969], [4.0, 0.4236547993389047], [5.0, 0.6458941130666561], [6.0, 0.4375872112626925], [7.0, 0.8917730007820798], [8.0, 0.9636627605010293], [9.0, 0.3834415188257777]]}, \"id\": \"el948466740464\", \"plugins\": [{\"type\": \"reset\"}, {\"type\": \"zoom\", \"button\": true, \"enabled\": false}, {\"type\": \"boxzoom\", \"button\": true, \"enabled\": false}]});\n",
       "      });\n",
       "    });\n",
       "}else{\n",
       "    // require.js not available: dynamically load d3 & mpld3\n",
       "    mpld3_load_lib(\"https://mpld3.github.io/js/d3.v3.min.js\", function(){\n",
       "         mpld3_load_lib(\"https://mpld3.github.io/js/mpld3.v0.3.js\", function(){\n",
       "                 \n",
       "                 mpld3.draw_figure(\"fig_el9484667404649214111975\", {\"width\": 432.0, \"height\": 288.0, \"axes\": [{\"bbox\": [0.125, 0.125, 0.775, 0.755], \"xlim\": [-0.45, 9.45], \"ylim\": [0.3544304567420151, 0.9926738225847919], \"xdomain\": [-0.45, 9.45], \"ydomain\": [0.3544304567420151, 0.9926738225847919], \"xscale\": \"linear\", \"yscale\": \"linear\", \"axes\": [{\"position\": \"bottom\", \"nticks\": 7, \"tickvalues\": null, \"tickformat\": null, \"scale\": \"linear\", \"fontsize\": 10.0, \"grid\": {\"gridOn\": false}, \"visible\": true}, {\"position\": \"left\", \"nticks\": 8, \"tickvalues\": null, \"tickformat\": null, \"scale\": \"linear\", \"fontsize\": 10.0, \"grid\": {\"gridOn\": false}, \"visible\": true}], \"axesbg\": \"#FFFFFF\", \"axesbgalpha\": null, \"zoomable\": true, \"id\": \"el9484163271624\", \"lines\": [{\"data\": \"data01\", \"xindex\": 0, \"yindex\": 1, \"coordinates\": \"data\", \"id\": \"el9484159200648\", \"color\": \"#1F77B4\", \"linewidth\": 1.5, \"dasharray\": \"none\", \"alpha\": 1, \"zorder\": 2, \"drawstyle\": \"default\"}], \"paths\": [], \"markers\": [], \"texts\": [], \"collections\": [], \"images\": [], \"sharex\": [], \"sharey\": []}], \"data\": {\"data01\": [[0.0, 0.5488135039273248], [1.0, 0.7151893663724195], [2.0, 0.6027633760716439], [3.0, 0.5448831829968969], [4.0, 0.4236547993389047], [5.0, 0.6458941130666561], [6.0, 0.4375872112626925], [7.0, 0.8917730007820798], [8.0, 0.9636627605010293], [9.0, 0.3834415188257777]]}, \"id\": \"el948466740464\", \"plugins\": [{\"type\": \"reset\"}, {\"type\": \"zoom\", \"button\": true, \"enabled\": false}, {\"type\": \"boxzoom\", \"button\": true, \"enabled\": false}]});\n",
       "            })\n",
       "         });\n",
       "}\n",
       "</script>"
      ],
      "text/plain": [
       "<matplotlib.figure.Figure at 0x3fa60f0>"
      ]
     },
     "metadata": {},
     "output_type": "display_data"
    }
   ],
   "source": [
    "np.random.seed(0)\n",
    "plt.plot(np.random.rand(10));"
   ]
  },
  {
   "cell_type": "markdown",
   "metadata": {},
   "source": [
    "## The Purpose of Plugins"
   ]
  },
  {
   "cell_type": "markdown",
   "metadata": {},
   "source": [
    "Plugins, in a word, are meant to add new browser-based behavior to a matplotlib plot. The mpld3 package enables several plugins by default, namely the ``Reset`` button, the ``Zoom`` button, and the ``BoxZoom`` button. Note that plugins may or may not be accompanied by buttons.\n",
    "\n",
    "To see a plot with no plugins attached, we can call the ``plugins.clear`` function and remove all plugins from the figure:"
   ]
  },
  {
   "cell_type": "code",
   "execution_count": 3,
   "metadata": {},
   "outputs": [
    {
     "data": {
      "image/png": "[encoded data removed]",
      "text/html": [
       "\n",
       "\n",
       "<style>\n",
       "\n",
       "</style>\n",
       "\n",
       "<div id=\"fig_el9484675871528907324602\"></div>\n",
       "<script>\n",
       "function mpld3_load_lib(url, callback){\n",
       "  var s = document.createElement('script');\n",
       "  s.src = url;\n",
       "  s.async = true;\n",
       "  s.onreadystatechange = s.onload = callback;\n",
       "  s.onerror = function(){console.warn(\"failed to load library \" + url);};\n",
       "  document.getElementsByTagName(\"head\")[0].appendChild(s);\n",
       "}\n",
       "\n",
       "if(typeof(mpld3) !== \"undefined\" && mpld3._mpld3IsLoaded){\n",
       "   // already loaded: just create the figure\n",
       "   !function(mpld3){\n",
       "       \n",
       "       mpld3.draw_figure(\"fig_el9484675871528907324602\", {\"width\": 432.0, \"height\": 288.0, \"axes\": [{\"bbox\": [0.125, 0.125, 0.775, 0.755], \"xlim\": [-0.45, 9.45], \"ylim\": [-0.025050514602291046, 0.9708655503352778], \"xdomain\": [-0.45, 9.45], \"ydomain\": [-0.025050514602291046, 0.9708655503352778], \"xscale\": \"linear\", \"yscale\": \"linear\", \"axes\": [{\"position\": \"bottom\", \"nticks\": 7, \"tickvalues\": null, \"tickformat\": null, \"scale\": \"linear\", \"fontsize\": 10.0, \"grid\": {\"gridOn\": false}, \"visible\": true}, {\"position\": \"left\", \"nticks\": 7, \"tickvalues\": null, \"tickformat\": null, \"scale\": \"linear\", \"fontsize\": 10.0, \"grid\": {\"gridOn\": false}, \"visible\": true}], \"axesbg\": \"#FFFFFF\", \"axesbgalpha\": null, \"zoomable\": true, \"id\": \"el9484159484784\", \"lines\": [{\"data\": \"data01\", \"xindex\": 0, \"yindex\": 1, \"coordinates\": \"data\", \"id\": \"el948494477952\", \"color\": \"#1F77B4\", \"linewidth\": 1.5, \"dasharray\": \"none\", \"alpha\": 1, \"zorder\": 2, \"drawstyle\": \"default\"}], \"paths\": [], \"markers\": [], \"texts\": [], \"collections\": [], \"images\": [], \"sharex\": [], \"sharey\": []}], \"data\": {\"data01\": [[0.0, 0.7917250380826646], [1.0, 0.5288949197529045], [2.0, 0.5680445610939323], [3.0, 0.925596638292661], [4.0, 0.07103605819788694], [5.0, 0.08712929970154071], [6.0, 0.02021839744032572], [7.0, 0.832619845547938], [8.0, 0.7781567509498505], [9.0, 0.8700121482468192]]}, \"id\": \"el948467587152\", \"plugins\": []});\n",
       "   }(mpld3);\n",
       "}else if(typeof define === \"function\" && define.amd){\n",
       "   // require.js is available: use it to load d3/mpld3\n",
       "   require.config({paths: {d3: \"https://mpld3.github.io/js/d3.v3.min\"}});\n",
       "   require([\"d3\"], function(d3){\n",
       "      window.d3 = d3;\n",
       "      mpld3_load_lib(\"https://mpld3.github.io/js/mpld3.v0.3.js\", function(){\n",
       "         \n",
       "         mpld3.draw_figure(\"fig_el9484675871528907324602\", {\"width\": 432.0, \"height\": 288.0, \"axes\": [{\"bbox\": [0.125, 0.125, 0.775, 0.755], \"xlim\": [-0.45, 9.45], \"ylim\": [-0.025050514602291046, 0.9708655503352778], \"xdomain\": [-0.45, 9.45], \"ydomain\": [-0.025050514602291046, 0.9708655503352778], \"xscale\": \"linear\", \"yscale\": \"linear\", \"axes\": [{\"position\": \"bottom\", \"nticks\": 7, \"tickvalues\": null, \"tickformat\": null, \"scale\": \"linear\", \"fontsize\": 10.0, \"grid\": {\"gridOn\": false}, \"visible\": true}, {\"position\": \"left\", \"nticks\": 7, \"tickvalues\": null, \"tickformat\": null, \"scale\": \"linear\", \"fontsize\": 10.0, \"grid\": {\"gridOn\": false}, \"visible\": true}], \"axesbg\": \"#FFFFFF\", \"axesbgalpha\": null, \"zoomable\": true, \"id\": \"el9484159484784\", \"lines\": [{\"data\": \"data01\", \"xindex\": 0, \"yindex\": 1, \"coordinates\": \"data\", \"id\": \"el948494477952\", \"color\": \"#1F77B4\", \"linewidth\": 1.5, \"dasharray\": \"none\", \"alpha\": 1, \"zorder\": 2, \"drawstyle\": \"default\"}], \"paths\": [], \"markers\": [], \"texts\": [], \"collections\": [], \"images\": [], \"sharex\": [], \"sharey\": []}], \"data\": {\"data01\": [[0.0, 0.7917250380826646], [1.0, 0.5288949197529045], [2.0, 0.5680445610939323], [3.0, 0.925596638292661], [4.0, 0.07103605819788694], [5.0, 0.08712929970154071], [6.0, 0.02021839744032572], [7.0, 0.832619845547938], [8.0, 0.7781567509498505], [9.0, 0.8700121482468192]]}, \"id\": \"el948467587152\", \"plugins\": []});\n",
       "      });\n",
       "    });\n",
       "}else{\n",
       "    // require.js not available: dynamically load d3 & mpld3\n",
       "    mpld3_load_lib(\"https://mpld3.github.io/js/d3.v3.min.js\", function(){\n",
       "         mpld3_load_lib(\"https://mpld3.github.io/js/mpld3.v0.3.js\", function(){\n",
       "                 \n",
       "                 mpld3.draw_figure(\"fig_el9484675871528907324602\", {\"width\": 432.0, \"height\": 288.0, \"axes\": [{\"bbox\": [0.125, 0.125, 0.775, 0.755], \"xlim\": [-0.45, 9.45], \"ylim\": [-0.025050514602291046, 0.9708655503352778], \"xdomain\": [-0.45, 9.45], \"ydomain\": [-0.025050514602291046, 0.9708655503352778], \"xscale\": \"linear\", \"yscale\": \"linear\", \"axes\": [{\"position\": \"bottom\", \"nticks\": 7, \"tickvalues\": null, \"tickformat\": null, \"scale\": \"linear\", \"fontsize\": 10.0, \"grid\": {\"gridOn\": false}, \"visible\": true}, {\"position\": \"left\", \"nticks\": 7, \"tickvalues\": null, \"tickformat\": null, \"scale\": \"linear\", \"fontsize\": 10.0, \"grid\": {\"gridOn\": false}, \"visible\": true}], \"axesbg\": \"#FFFFFF\", \"axesbgalpha\": null, \"zoomable\": true, \"id\": \"el9484159484784\", \"lines\": [{\"data\": \"data01\", \"xindex\": 0, \"yindex\": 1, \"coordinates\": \"data\", \"id\": \"el948494477952\", \"color\": \"#1F77B4\", \"linewidth\": 1.5, \"dasharray\": \"none\", \"alpha\": 1, \"zorder\": 2, \"drawstyle\": \"default\"}], \"paths\": [], \"markers\": [], \"texts\": [], \"collections\": [], \"images\": [], \"sharex\": [], \"sharey\": []}], \"data\": {\"data01\": [[0.0, 0.7917250380826646], [1.0, 0.5288949197529045], [2.0, 0.5680445610939323], [3.0, 0.925596638292661], [4.0, 0.07103605819788694], [5.0, 0.08712929970154071], [6.0, 0.02021839744032572], [7.0, 0.832619845547938], [8.0, 0.7781567509498505], [9.0, 0.8700121482468192]]}, \"id\": \"el948467587152\", \"plugins\": []});\n",
       "            })\n",
       "         });\n",
       "}\n",
       "</script>"
      ],
      "text/plain": [
       "<matplotlib.figure.Figure at 0x4074c50>"
      ]
     },
     "metadata": {},
     "output_type": "display_data"
    }
   ],
   "source": [
    "from mpld3 import plugins\n",
    "\n",
    "fig, ax = plt.subplots()\n",
    "ax.plot(np.random.random(10))\n",
    "plugins.clear(fig)  # clear all plugins from the figure"
   ]
  },
  {
   "cell_type": "markdown",
   "metadata": {},
   "source": [
    "Notice that now the figure, while still rendered in D3, does not have any interactive elements. To recover the default interactive elements, we can add them back explicitly. For example, let's say we prefer to switch the order of the ``Zoom`` and ``BoxZoom`` tools in our toolbar:"
   ]
  },
  {
   "cell_type": "code",
   "execution_count": 4,
   "metadata": {},
   "outputs": [
    {
     "data": {
      "image/png": "[encoded data removed]",
      "text/html": [
       "\n",
       "\n",
       "<style>\n",
       "\n",
       "</style>\n",
       "\n",
       "<div id=\"fig_el94841598554484370923352\"></div>\n",
       "<script>\n",
       "function mpld3_load_lib(url, callback){\n",
       "  var s = document.createElement('script');\n",
       "  s.src = url;\n",
       "  s.async = true;\n",
       "  s.onreadystatechange = s.onload = callback;\n",
       "  s.onerror = function(){console.warn(\"failed to load library \" + url);};\n",
       "  document.getElementsByTagName(\"head\")[0].appendChild(s);\n",
       "}\n",
       "\n",
       "if(typeof(mpld3) !== \"undefined\" && mpld3._mpld3IsLoaded){\n",
       "   // already loaded: just create the figure\n",
       "   !function(mpld3){\n",
       "       \n",
       "       mpld3.draw_figure(\"fig_el94841598554484370923352\", {\"width\": 432.0, \"height\": 288.0, \"axes\": [{\"bbox\": [0.125, 0.125, 0.775, 0.755], \"xlim\": [-0.45, 9.45], \"ylim\": [0.07525723005074167, 1.0216355380509556], \"xdomain\": [-0.45, 9.45], \"ydomain\": [0.07525723005074167, 1.0216355380509556], \"xscale\": \"linear\", \"yscale\": \"linear\", \"axes\": [{\"position\": \"bottom\", \"nticks\": 7, \"tickvalues\": null, \"tickformat\": null, \"scale\": \"linear\", \"fontsize\": 10.0, \"grid\": {\"gridOn\": false}, \"visible\": true}, {\"position\": \"left\", \"nticks\": 7, \"tickvalues\": null, \"tickformat\": null, \"scale\": \"linear\", \"fontsize\": 10.0, \"grid\": {\"gridOn\": false}, \"visible\": true}], \"axesbg\": \"#FFFFFF\", \"axesbgalpha\": null, \"zoomable\": true, \"id\": \"el9484159813192\", \"lines\": [{\"data\": \"data01\", \"xindex\": 0, \"yindex\": 1, \"coordinates\": \"data\", \"id\": \"el9484159856736\", \"color\": \"#1F77B4\", \"linewidth\": 1.5, \"dasharray\": \"none\", \"alpha\": 1, \"zorder\": 2, \"drawstyle\": \"default\"}], \"paths\": [], \"markers\": [], \"texts\": [], \"collections\": [], \"images\": [], \"sharex\": [], \"sharey\": []}], \"data\": {\"data01\": [[0.0, 0.978618342232764], [1.0, 0.7991585642167236], [2.0, 0.46147936225293185], [3.0, 0.7805291762864555], [4.0, 0.11827442586893322], [5.0, 0.6399210213275238], [6.0, 0.1433532874090464], [7.0, 0.9446689170495839], [8.0, 0.5218483217500717], [9.0, 0.4146619399905236]]}, \"id\": \"el9484159855448\", \"plugins\": [{\"type\": \"reset\"}, {\"type\": \"boxzoom\", \"button\": true, \"enabled\": false}, {\"type\": \"zoom\", \"button\": true, \"enabled\": false}]});\n",
       "   }(mpld3);\n",
       "}else if(typeof define === \"function\" && define.amd){\n",
       "   // require.js is available: use it to load d3/mpld3\n",
       "   require.config({paths: {d3: \"https://mpld3.github.io/js/d3.v3.min\"}});\n",
       "   require([\"d3\"], function(d3){\n",
       "      window.d3 = d3;\n",
       "      mpld3_load_lib(\"https://mpld3.github.io/js/mpld3.v0.3.js\", function(){\n",
       "         \n",
       "         mpld3.draw_figure(\"fig_el94841598554484370923352\", {\"width\": 432.0, \"height\": 288.0, \"axes\": [{\"bbox\": [0.125, 0.125, 0.775, 0.755], \"xlim\": [-0.45, 9.45], \"ylim\": [0.07525723005074167, 1.0216355380509556], \"xdomain\": [-0.45, 9.45], \"ydomain\": [0.07525723005074167, 1.0216355380509556], \"xscale\": \"linear\", \"yscale\": \"linear\", \"axes\": [{\"position\": \"bottom\", \"nticks\": 7, \"tickvalues\": null, \"tickformat\": null, \"scale\": \"linear\", \"fontsize\": 10.0, \"grid\": {\"gridOn\": false}, \"visible\": true}, {\"position\": \"left\", \"nticks\": 7, \"tickvalues\": null, \"tickformat\": null, \"scale\": \"linear\", \"fontsize\": 10.0, \"grid\": {\"gridOn\": false}, \"visible\": true}], \"axesbg\": \"#FFFFFF\", \"axesbgalpha\": null, \"zoomable\": true, \"id\": \"el9484159813192\", \"lines\": [{\"data\": \"data01\", \"xindex\": 0, \"yindex\": 1, \"coordinates\": \"data\", \"id\": \"el9484159856736\", \"color\": \"#1F77B4\", \"linewidth\": 1.5, \"dasharray\": \"none\", \"alpha\": 1, \"zorder\": 2, \"drawstyle\": \"default\"}], \"paths\": [], \"markers\": [], \"texts\": [], \"collections\": [], \"images\": [], \"sharex\": [], \"sharey\": []}], \"data\": {\"data01\": [[0.0, 0.978618342232764], [1.0, 0.7991585642167236], [2.0, 0.46147936225293185], [3.0, 0.7805291762864555], [4.0, 0.11827442586893322], [5.0, 0.6399210213275238], [6.0, 0.1433532874090464], [7.0, 0.9446689170495839], [8.0, 0.5218483217500717], [9.0, 0.4146619399905236]]}, \"id\": \"el9484159855448\", \"plugins\": [{\"type\": \"reset\"}, {\"type\": \"boxzoom\", \"button\": true, \"enabled\": false}, {\"type\": \"zoom\", \"button\": true, \"enabled\": false}]});\n",
       "      });\n",
       "    });\n",
       "}else{\n",
       "    // require.js not available: dynamically load d3 & mpld3\n",
       "    mpld3_load_lib(\"https://mpld3.github.io/js/d3.v3.min.js\", function(){\n",
       "         mpld3_load_lib(\"https://mpld3.github.io/js/mpld3.v0.3.js\", function(){\n",
       "                 \n",
       "                 mpld3.draw_figure(\"fig_el94841598554484370923352\", {\"width\": 432.0, \"height\": 288.0, \"axes\": [{\"bbox\": [0.125, 0.125, 0.775, 0.755], \"xlim\": [-0.45, 9.45], \"ylim\": [0.07525723005074167, 1.0216355380509556], \"xdomain\": [-0.45, 9.45], \"ydomain\": [0.07525723005074167, 1.0216355380509556], \"xscale\": \"linear\", \"yscale\": \"linear\", \"axes\": [{\"position\": \"bottom\", \"nticks\": 7, \"tickvalues\": null, \"tickformat\": null, \"scale\": \"linear\", \"fontsize\": 10.0, \"grid\": {\"gridOn\": false}, \"visible\": true}, {\"position\": \"left\", \"nticks\": 7, \"tickvalues\": null, \"tickformat\": null, \"scale\": \"linear\", \"fontsize\": 10.0, \"grid\": {\"gridOn\": false}, \"visible\": true}], \"axesbg\": \"#FFFFFF\", \"axesbgalpha\": null, \"zoomable\": true, \"id\": \"el9484159813192\", \"lines\": [{\"data\": \"data01\", \"xindex\": 0, \"yindex\": 1, \"coordinates\": \"data\", \"id\": \"el9484159856736\", \"color\": \"#1F77B4\", \"linewidth\": 1.5, \"dasharray\": \"none\", \"alpha\": 1, \"zorder\": 2, \"drawstyle\": \"default\"}], \"paths\": [], \"markers\": [], \"texts\": [], \"collections\": [], \"images\": [], \"sharex\": [], \"sharey\": []}], \"data\": {\"data01\": [[0.0, 0.978618342232764], [1.0, 0.7991585642167236], [2.0, 0.46147936225293185], [3.0, 0.7805291762864555], [4.0, 0.11827442586893322], [5.0, 0.6399210213275238], [6.0, 0.1433532874090464], [7.0, 0.9446689170495839], [8.0, 0.5218483217500717], [9.0, 0.4146619399905236]]}, \"id\": \"el9484159855448\", \"plugins\": [{\"type\": \"reset\"}, {\"type\": \"boxzoom\", \"button\": true, \"enabled\": false}, {\"type\": \"zoom\", \"button\": true, \"enabled\": false}]});\n",
       "            })\n",
       "         });\n",
       "}\n",
       "</script>"
      ],
      "text/plain": [
       "<matplotlib.figure.Figure at 0x9873358>"
      ]
     },
     "metadata": {},
     "output_type": "display_data"
    }
   ],
   "source": [
    "from mpld3 import plugins\n",
    "\n",
    "fig, ax = plt.subplots()\n",
    "ax.plot(np.random.random(10))\n",
    "plugins.clear(fig)  # clear all plugins from the figure\n",
    "\n",
    "plugins.connect(fig, plugins.Reset(), plugins.BoxZoom(), plugins.Zoom())"
   ]
  },
  {
   "cell_type": "markdown",
   "metadata": {},
   "source": [
    "Notice that the three buttons are now in a different order than they are by default; we've customized our toolbar using the built-in plugin tools."
   ]
  },
  {
   "cell_type": "markdown",
   "metadata": {},
   "source": [
    "## Beyond the Default Plugins"
   ]
  },
  {
   "cell_type": "markdown",
   "metadata": {},
   "source": [
    "There are many other plugins you can use which are built-in to mpld3, and the list is growing. For example, here's a plugin that allows tooltips (i.e. information which appears when you hover your mouse over points):"
   ]
  },
  {
   "cell_type": "code",
   "execution_count": null,
   "metadata": {
    "collapsed": true
   },
   "outputs": [],
   "source": [
    "fig, ax = plt.subplots()\n",
    "points = ax.scatter(np.random.rand(40), np.random.rand(40),\n",
    "                    s=300, alpha=0.3)\n",
    "\n",
    "labels = [\"Point {0}\".format(i) for i in range(40)]\n",
    "tooltip = plugins.PointLabelTooltip(points, labels)\n",
    "\n",
    "plugins.connect(fig, tooltip)"
   ]
  },
  {
   "cell_type": "code",
   "execution_count": null,
   "metadata": {
    "collapsed": true
   },
   "outputs": [],
   "source": [
    "# plugins.PointHTMLTooltip()\n",
    "plugins.PointClickableHTMLTooltip()"
   ]
  },
  {
   "cell_type": "code",
   "execution_count": 29,
   "metadata": {},
   "outputs": [
    {
     "data": {
      "image/png": "[encoded data removed]",
      "text/html": [
       "\n",
       "\n",
       "<style>\n",
       "\n",
       "</style>\n",
       "\n",
       "<div id=\"fig_el94841619443528601865695\"></div>\n",
       "<script>\n",
       "function mpld3_load_lib(url, callback){\n",
       "  var s = document.createElement('script');\n",
       "  s.src = url;\n",
       "  s.async = true;\n",
       "  s.onreadystatechange = s.onload = callback;\n",
       "  s.onerror = function(){console.warn(\"failed to load library \" + url);};\n",
       "  document.getElementsByTagName(\"head\")[0].appendChild(s);\n",
       "}\n",
       "\n",
       "if(typeof(mpld3) !== \"undefined\" && mpld3._mpld3IsLoaded){\n",
       "   // already loaded: just create the figure\n",
       "   !function(mpld3){\n",
       "       \n",
       "       mpld3.draw_figure(\"fig_el94841619443528601865695\", {\"width\": 432.0, \"height\": 288.0, \"axes\": [{\"bbox\": [0.125, 0.125, 0.775, 0.755], \"xlim\": [-0.45985663082437267, 9.45985663082437], \"ylim\": [-0.4651766004415011, 9.4651766004415], \"xdomain\": [-0.45985663082437267, 9.45985663082437], \"ydomain\": [-0.4651766004415011, 9.4651766004415], \"xscale\": \"linear\", \"yscale\": \"linear\", \"axes\": [{\"position\": \"bottom\", \"nticks\": 7, \"tickvalues\": null, \"tickformat\": null, \"scale\": \"linear\", \"fontsize\": 10.0, \"grid\": {\"gridOn\": false}, \"visible\": true}, {\"position\": \"left\", \"nticks\": 7, \"tickvalues\": null, \"tickformat\": null, \"scale\": \"linear\", \"fontsize\": 10.0, \"grid\": {\"gridOn\": false}, \"visible\": true}], \"axesbg\": \"#FFFFFF\", \"axesbgalpha\": null, \"zoomable\": true, \"id\": \"el9484161039528\", \"lines\": [], \"paths\": [], \"markers\": [], \"texts\": [], \"collections\": [{\"offsets\": \"data01\", \"xindex\": 0, \"yindex\": 1, \"paths\": [[[[0.0, -0.5], [0.13260155, -0.5], [0.25978993539242673, -0.44731684579412084], [0.3535533905932738, -0.3535533905932738], [0.44731684579412084, -0.25978993539242673], [0.5, -0.13260155], [0.5, 0.0], [0.5, 0.13260155], [0.44731684579412084, 0.25978993539242673], [0.3535533905932738, 0.3535533905932738], [0.25978993539242673, 0.44731684579412084], [0.13260155, 0.5], [0.0, 0.5], [-0.13260155, 0.5], [-0.25978993539242673, 0.44731684579412084], [-0.3535533905932738, 0.3535533905932738], [-0.44731684579412084, 0.25978993539242673], [-0.5, 0.13260155], [-0.5, 0.0], [-0.5, -0.13260155], [-0.44731684579412084, -0.25978993539242673], [-0.3535533905932738, -0.3535533905932738], [-0.25978993539242673, -0.44731684579412084], [-0.13260155, -0.5], [0.0, -0.5]], [\"M\", \"C\", \"C\", \"C\", \"C\", \"C\", \"C\", \"C\", \"C\", \"Z\"]]], \"pathtransforms\": [[6.0, 0.0, 0.0, 6.0, 0.0, 0.0]], \"alphas\": [null], \"edgecolors\": [\"#1F77B4\"], \"facecolors\": [\"#1F77B4\"], \"edgewidths\": [1.0], \"offsetcoordinates\": \"data\", \"pathcoordinates\": \"display\", \"zorder\": 1, \"id\": \"el9484165607744\"}], \"images\": [], \"sharex\": [], \"sharey\": []}], \"data\": {\"data01\": [[0.0, 0.0], [1.0, 1.0], [2.0, 2.0], [3.0, 3.0], [4.0, 4.0], [5.0, 5.0], [6.0, 6.0], [7.0, 7.0], [8.0, 8.0], [9.0, 9.0]]}, \"id\": \"el9484161944352\", \"plugins\": [{\"type\": \"reset\"}, {\"type\": \"zoom\", \"button\": true, \"enabled\": false}, {\"type\": \"boxzoom\", \"button\": true, \"enabled\": false}]});\n",
       "   }(mpld3);\n",
       "}else if(typeof define === \"function\" && define.amd){\n",
       "   // require.js is available: use it to load d3/mpld3\n",
       "   require.config({paths: {d3: \"https://mpld3.github.io/js/d3.v3.min\"}});\n",
       "   require([\"d3\"], function(d3){\n",
       "      window.d3 = d3;\n",
       "      mpld3_load_lib(\"https://mpld3.github.io/js/mpld3.v0.3.js\", function(){\n",
       "         \n",
       "         mpld3.draw_figure(\"fig_el94841619443528601865695\", {\"width\": 432.0, \"height\": 288.0, \"axes\": [{\"bbox\": [0.125, 0.125, 0.775, 0.755], \"xlim\": [-0.45985663082437267, 9.45985663082437], \"ylim\": [-0.4651766004415011, 9.4651766004415], \"xdomain\": [-0.45985663082437267, 9.45985663082437], \"ydomain\": [-0.4651766004415011, 9.4651766004415], \"xscale\": \"linear\", \"yscale\": \"linear\", \"axes\": [{\"position\": \"bottom\", \"nticks\": 7, \"tickvalues\": null, \"tickformat\": null, \"scale\": \"linear\", \"fontsize\": 10.0, \"grid\": {\"gridOn\": false}, \"visible\": true}, {\"position\": \"left\", \"nticks\": 7, \"tickvalues\": null, \"tickformat\": null, \"scale\": \"linear\", \"fontsize\": 10.0, \"grid\": {\"gridOn\": false}, \"visible\": true}], \"axesbg\": \"#FFFFFF\", \"axesbgalpha\": null, \"zoomable\": true, \"id\": \"el9484161039528\", \"lines\": [], \"paths\": [], \"markers\": [], \"texts\": [], \"collections\": [{\"offsets\": \"data01\", \"xindex\": 0, \"yindex\": 1, \"paths\": [[[[0.0, -0.5], [0.13260155, -0.5], [0.25978993539242673, -0.44731684579412084], [0.3535533905932738, -0.3535533905932738], [0.44731684579412084, -0.25978993539242673], [0.5, -0.13260155], [0.5, 0.0], [0.5, 0.13260155], [0.44731684579412084, 0.25978993539242673], [0.3535533905932738, 0.3535533905932738], [0.25978993539242673, 0.44731684579412084], [0.13260155, 0.5], [0.0, 0.5], [-0.13260155, 0.5], [-0.25978993539242673, 0.44731684579412084], [-0.3535533905932738, 0.3535533905932738], [-0.44731684579412084, 0.25978993539242673], [-0.5, 0.13260155], [-0.5, 0.0], [-0.5, -0.13260155], [-0.44731684579412084, -0.25978993539242673], [-0.3535533905932738, -0.3535533905932738], [-0.25978993539242673, -0.44731684579412084], [-0.13260155, -0.5], [0.0, -0.5]], [\"M\", \"C\", \"C\", \"C\", \"C\", \"C\", \"C\", \"C\", \"C\", \"Z\"]]], \"pathtransforms\": [[6.0, 0.0, 0.0, 6.0, 0.0, 0.0]], \"alphas\": [null], \"edgecolors\": [\"#1F77B4\"], \"facecolors\": [\"#1F77B4\"], \"edgewidths\": [1.0], \"offsetcoordinates\": \"data\", \"pathcoordinates\": \"display\", \"zorder\": 1, \"id\": \"el9484165607744\"}], \"images\": [], \"sharex\": [], \"sharey\": []}], \"data\": {\"data01\": [[0.0, 0.0], [1.0, 1.0], [2.0, 2.0], [3.0, 3.0], [4.0, 4.0], [5.0, 5.0], [6.0, 6.0], [7.0, 7.0], [8.0, 8.0], [9.0, 9.0]]}, \"id\": \"el9484161944352\", \"plugins\": [{\"type\": \"reset\"}, {\"type\": \"zoom\", \"button\": true, \"enabled\": false}, {\"type\": \"boxzoom\", \"button\": true, \"enabled\": false}]});\n",
       "      });\n",
       "    });\n",
       "}else{\n",
       "    // require.js not available: dynamically load d3 & mpld3\n",
       "    mpld3_load_lib(\"https://mpld3.github.io/js/d3.v3.min.js\", function(){\n",
       "         mpld3_load_lib(\"https://mpld3.github.io/js/mpld3.v0.3.js\", function(){\n",
       "                 \n",
       "                 mpld3.draw_figure(\"fig_el94841619443528601865695\", {\"width\": 432.0, \"height\": 288.0, \"axes\": [{\"bbox\": [0.125, 0.125, 0.775, 0.755], \"xlim\": [-0.45985663082437267, 9.45985663082437], \"ylim\": [-0.4651766004415011, 9.4651766004415], \"xdomain\": [-0.45985663082437267, 9.45985663082437], \"ydomain\": [-0.4651766004415011, 9.4651766004415], \"xscale\": \"linear\", \"yscale\": \"linear\", \"axes\": [{\"position\": \"bottom\", \"nticks\": 7, \"tickvalues\": null, \"tickformat\": null, \"scale\": \"linear\", \"fontsize\": 10.0, \"grid\": {\"gridOn\": false}, \"visible\": true}, {\"position\": \"left\", \"nticks\": 7, \"tickvalues\": null, \"tickformat\": null, \"scale\": \"linear\", \"fontsize\": 10.0, \"grid\": {\"gridOn\": false}, \"visible\": true}], \"axesbg\": \"#FFFFFF\", \"axesbgalpha\": null, \"zoomable\": true, \"id\": \"el9484161039528\", \"lines\": [], \"paths\": [], \"markers\": [], \"texts\": [], \"collections\": [{\"offsets\": \"data01\", \"xindex\": 0, \"yindex\": 1, \"paths\": [[[[0.0, -0.5], [0.13260155, -0.5], [0.25978993539242673, -0.44731684579412084], [0.3535533905932738, -0.3535533905932738], [0.44731684579412084, -0.25978993539242673], [0.5, -0.13260155], [0.5, 0.0], [0.5, 0.13260155], [0.44731684579412084, 0.25978993539242673], [0.3535533905932738, 0.3535533905932738], [0.25978993539242673, 0.44731684579412084], [0.13260155, 0.5], [0.0, 0.5], [-0.13260155, 0.5], [-0.25978993539242673, 0.44731684579412084], [-0.3535533905932738, 0.3535533905932738], [-0.44731684579412084, 0.25978993539242673], [-0.5, 0.13260155], [-0.5, 0.0], [-0.5, -0.13260155], [-0.44731684579412084, -0.25978993539242673], [-0.3535533905932738, -0.3535533905932738], [-0.25978993539242673, -0.44731684579412084], [-0.13260155, -0.5], [0.0, -0.5]], [\"M\", \"C\", \"C\", \"C\", \"C\", \"C\", \"C\", \"C\", \"C\", \"Z\"]]], \"pathtransforms\": [[6.0, 0.0, 0.0, 6.0, 0.0, 0.0]], \"alphas\": [null], \"edgecolors\": [\"#1F77B4\"], \"facecolors\": [\"#1F77B4\"], \"edgewidths\": [1.0], \"offsetcoordinates\": \"data\", \"pathcoordinates\": \"display\", \"zorder\": 1, \"id\": \"el9484165607744\"}], \"images\": [], \"sharex\": [], \"sharey\": []}], \"data\": {\"data01\": [[0.0, 0.0], [1.0, 1.0], [2.0, 2.0], [3.0, 3.0], [4.0, 4.0], [5.0, 5.0], [6.0, 6.0], [7.0, 7.0], [8.0, 8.0], [9.0, 9.0]]}, \"id\": \"el9484161944352\", \"plugins\": [{\"type\": \"reset\"}, {\"type\": \"zoom\", \"button\": true, \"enabled\": false}, {\"type\": \"boxzoom\", \"button\": true, \"enabled\": false}]});\n",
       "            })\n",
       "         });\n",
       "}\n",
       "</script>"
      ],
      "text/plain": [
       "<matplotlib.figure.Figure at 0x9a71320>"
      ]
     },
     "metadata": {},
     "output_type": "display_data"
    }
   ],
   "source": [
    "import matplotlib.pyplot as plt\n",
    "from mpld3 import plugins\n",
    "fig, ax = plt.subplots(1,1)\n",
    "xx = yy = range(10)\n",
    "scat = ax.scatter(xx, range(10))\n",
    "\n",
    "def marq(x, y):\n",
    "    return \"<marquee>It works!<br><h1>{}, {}</h1></marquee>\".format(x, y)\n",
    "\n",
    "targets = map(marq, zip(xx, yy))\n",
    "\n",
    "def f(x, y):\n",
    "    return \"{}, {}\".format(x,y)\n",
    "\n",
    "labels = map(f, zip(xx, yy))"
   ]
  },
  {
   "cell_type": "code",
   "execution_count": 30,
   "metadata": {},
   "outputs": [],
   "source": [
    "plugins.connect(fig, plugins.PointClickableHTMLTooltip(scat, labels=labels, targets=targets))"
   ]
  },
  {
   "cell_type": "code",
   "execution_count": 38,
   "metadata": {},
   "outputs": [
    {
     "data": {
      "image/png": "[encoded data removed]",
      "text/html": [
       "\n",
       "\n",
       "<style>\n",
       "\n",
       "</style>\n",
       "\n",
       "<div id=\"fig_el94841640833608649206199\"></div>\n",
       "<script>\n",
       "function mpld3_load_lib(url, callback){\n",
       "  var s = document.createElement('script');\n",
       "  s.src = url;\n",
       "  s.async = true;\n",
       "  s.onreadystatechange = s.onload = callback;\n",
       "  s.onerror = function(){console.warn(\"failed to load library \" + url);};\n",
       "  document.getElementsByTagName(\"head\")[0].appendChild(s);\n",
       "}\n",
       "\n",
       "if(typeof(mpld3) !== \"undefined\" && mpld3._mpld3IsLoaded){\n",
       "   // already loaded: just create the figure\n",
       "   !function(mpld3){\n",
       "       \n",
       "    mpld3.register_plugin(\"htmltooltip\", HtmlTooltipPlugin);\n",
       "    HtmlTooltipPlugin.prototype = Object.create(mpld3.Plugin.prototype);\n",
       "    HtmlTooltipPlugin.prototype.constructor = HtmlTooltipPlugin;\n",
       "    HtmlTooltipPlugin.prototype.requiredProps = [\"id\"];\n",
       "    HtmlTooltipPlugin.prototype.defaultProps = {labels:null,\n",
       "                                                hoffset:0,\n",
       "                                                voffset:10};\n",
       "    function HtmlTooltipPlugin(fig, props){\n",
       "        mpld3.Plugin.call(this, fig, props);\n",
       "    };\n",
       "\n",
       "    HtmlTooltipPlugin.prototype.draw = function(){\n",
       "       var obj = mpld3.get_element(this.props.id);\n",
       "       var labels = this.props.labels;\n",
       "       var tooltip = d3.select(\"body\").append(\"div\")\n",
       "                    .attr(\"class\", \"mpld3-tooltip\")\n",
       "                    .style(\"position\", \"absolute\")\n",
       "                    .style(\"z-index\", \"10\")\n",
       "                    .style(\"visibility\", \"hidden\");\n",
       "\n",
       "       obj.elements()\n",
       "           .on(\"mouseover\", function(d, i){\n",
       "                              tooltip.html(labels[i])\n",
       "                                     .style(\"visibility\", \"visible\");})\n",
       "           .on(\"mousemove\", function(d, i){\n",
       "                  tooltip\n",
       "                    .style(\"top\", d3.event.pageY + this.props.voffset + \"px\")\n",
       "                    .style(\"left\",d3.event.pageX + this.props.hoffset + \"px\");\n",
       "                 }.bind(this))\n",
       "           .on(\"mouseout\",  function(d, i){\n",
       "                           tooltip.style(\"visibility\", \"hidden\");});\n",
       "    };\n",
       "    \n",
       "       mpld3.draw_figure(\"fig_el94841640833608649206199\", {\"width\": 432.0, \"height\": 288.0, \"axes\": [{\"bbox\": [0.125, 0.125, 0.775, 0.755], \"xlim\": [-0.45, 9.45], \"ylim\": [-0.45, 9.45], \"xdomain\": [-0.45, 9.45], \"ydomain\": [-0.45, 9.45], \"xscale\": \"linear\", \"yscale\": \"linear\", \"axes\": [{\"position\": \"bottom\", \"nticks\": 7, \"tickvalues\": null, \"tickformat\": null, \"scale\": \"linear\", \"fontsize\": 10.0, \"grid\": {\"gridOn\": false}, \"visible\": true}, {\"position\": \"left\", \"nticks\": 7, \"tickvalues\": null, \"tickformat\": null, \"scale\": \"linear\", \"fontsize\": 10.0, \"grid\": {\"gridOn\": false}, \"visible\": true}], \"axesbg\": \"#FFFFFF\", \"axesbgalpha\": null, \"zoomable\": true, \"id\": \"el9484166786272\", \"lines\": [], \"paths\": [], \"markers\": [{\"data\": \"data01\", \"xindex\": 0, \"yindex\": 1, \"coordinates\": \"data\", \"id\": \"el9484160083920pts\", \"facecolor\": \"#1F77B4\", \"edgecolor\": \"#1F77B4\", \"edgewidth\": 1.0, \"alpha\": 1, \"zorder\": 2, \"markerpath\": [[[0.0, 3.0], [0.7956093000000001, 3.0], [1.5587396123545605, 2.683901074764725], [2.121320343559643, 2.121320343559643], [2.683901074764725, 1.5587396123545605], [3.0, 0.7956093000000001], [3.0, 0.0], [3.0, -0.7956093000000001], [2.683901074764725, -1.5587396123545605], [2.121320343559643, -2.121320343559643], [1.5587396123545605, -2.683901074764725], [0.7956093000000001, -3.0], [0.0, -3.0], [-0.7956093000000001, -3.0], [-1.5587396123545605, -2.683901074764725], [-2.121320343559643, -2.121320343559643], [-2.683901074764725, -1.5587396123545605], [-3.0, -0.7956093000000001], [-3.0, 0.0], [-3.0, 0.7956093000000001], [-2.683901074764725, 1.5587396123545605], [-2.121320343559643, 2.121320343559643], [-1.5587396123545605, 2.683901074764725], [-0.7956093000000001, 3.0], [0.0, 3.0]], [\"M\", \"C\", \"C\", \"C\", \"C\", \"C\", \"C\", \"C\", \"C\", \"Z\"]]}], \"texts\": [], \"collections\": [], \"images\": [], \"sharex\": [], \"sharey\": []}], \"data\": {\"data01\": [[0.0, 0.0], [1.0, 1.0], [2.0, 2.0], [3.0, 3.0], [4.0, 4.0], [5.0, 5.0], [6.0, 6.0], [7.0, 7.0], [8.0, 8.0], [9.0, 9.0]]}, \"id\": \"el9484164083360\", \"plugins\": [{\"type\": \"reset\"}, {\"type\": \"zoom\", \"button\": true, \"enabled\": false}, {\"type\": \"boxzoom\", \"button\": true, \"enabled\": false}, {\"type\": \"htmltooltip\", \"id\": \"el9484160083920pts\", \"labels\": [\"<div background-color:\\\"red\\\";><h1>0</h1></div>\", \"<div background-color:\\\"red\\\";><h1>1</h1></div>\", \"<div background-color:\\\"red\\\";><h1>2</h1></div>\", \"<div background-color:\\\"red\\\";><h1>3</h1></div>\", \"<div background-color:\\\"red\\\";><h1>4</h1></div>\", \"<div background-color:\\\"red\\\";><h1>5</h1></div>\", \"<div background-color:\\\"red\\\";><h1>6</h1></div>\", \"<div background-color:\\\"red\\\";><h1>7</h1></div>\", \"<div background-color:\\\"red\\\";><h1>8</h1></div>\", \"<div background-color:\\\"red\\\";><h1>9</h1></div>\"], \"hoffset\": 0, \"voffset\": 10}]});\n",
       "   }(mpld3);\n",
       "}else if(typeof define === \"function\" && define.amd){\n",
       "   // require.js is available: use it to load d3/mpld3\n",
       "   require.config({paths: {d3: \"https://mpld3.github.io/js/d3.v3.min\"}});\n",
       "   require([\"d3\"], function(d3){\n",
       "      window.d3 = d3;\n",
       "      mpld3_load_lib(\"https://mpld3.github.io/js/mpld3.v0.3.js\", function(){\n",
       "         \n",
       "    mpld3.register_plugin(\"htmltooltip\", HtmlTooltipPlugin);\n",
       "    HtmlTooltipPlugin.prototype = Object.create(mpld3.Plugin.prototype);\n",
       "    HtmlTooltipPlugin.prototype.constructor = HtmlTooltipPlugin;\n",
       "    HtmlTooltipPlugin.prototype.requiredProps = [\"id\"];\n",
       "    HtmlTooltipPlugin.prototype.defaultProps = {labels:null,\n",
       "                                                hoffset:0,\n",
       "                                                voffset:10};\n",
       "    function HtmlTooltipPlugin(fig, props){\n",
       "        mpld3.Plugin.call(this, fig, props);\n",
       "    };\n",
       "\n",
       "    HtmlTooltipPlugin.prototype.draw = function(){\n",
       "       var obj = mpld3.get_element(this.props.id);\n",
       "       var labels = this.props.labels;\n",
       "       var tooltip = d3.select(\"body\").append(\"div\")\n",
       "                    .attr(\"class\", \"mpld3-tooltip\")\n",
       "                    .style(\"position\", \"absolute\")\n",
       "                    .style(\"z-index\", \"10\")\n",
       "                    .style(\"visibility\", \"hidden\");\n",
       "\n",
       "       obj.elements()\n",
       "           .on(\"mouseover\", function(d, i){\n",
       "                              tooltip.html(labels[i])\n",
       "                                     .style(\"visibility\", \"visible\");})\n",
       "           .on(\"mousemove\", function(d, i){\n",
       "                  tooltip\n",
       "                    .style(\"top\", d3.event.pageY + this.props.voffset + \"px\")\n",
       "                    .style(\"left\",d3.event.pageX + this.props.hoffset + \"px\");\n",
       "                 }.bind(this))\n",
       "           .on(\"mouseout\",  function(d, i){\n",
       "                           tooltip.style(\"visibility\", \"hidden\");});\n",
       "    };\n",
       "    \n",
       "         mpld3.draw_figure(\"fig_el94841640833608649206199\", {\"width\": 432.0, \"height\": 288.0, \"axes\": [{\"bbox\": [0.125, 0.125, 0.775, 0.755], \"xlim\": [-0.45, 9.45], \"ylim\": [-0.45, 9.45], \"xdomain\": [-0.45, 9.45], \"ydomain\": [-0.45, 9.45], \"xscale\": \"linear\", \"yscale\": \"linear\", \"axes\": [{\"position\": \"bottom\", \"nticks\": 7, \"tickvalues\": null, \"tickformat\": null, \"scale\": \"linear\", \"fontsize\": 10.0, \"grid\": {\"gridOn\": false}, \"visible\": true}, {\"position\": \"left\", \"nticks\": 7, \"tickvalues\": null, \"tickformat\": null, \"scale\": \"linear\", \"fontsize\": 10.0, \"grid\": {\"gridOn\": false}, \"visible\": true}], \"axesbg\": \"#FFFFFF\", \"axesbgalpha\": null, \"zoomable\": true, \"id\": \"el9484166786272\", \"lines\": [], \"paths\": [], \"markers\": [{\"data\": \"data01\", \"xindex\": 0, \"yindex\": 1, \"coordinates\": \"data\", \"id\": \"el9484160083920pts\", \"facecolor\": \"#1F77B4\", \"edgecolor\": \"#1F77B4\", \"edgewidth\": 1.0, \"alpha\": 1, \"zorder\": 2, \"markerpath\": [[[0.0, 3.0], [0.7956093000000001, 3.0], [1.5587396123545605, 2.683901074764725], [2.121320343559643, 2.121320343559643], [2.683901074764725, 1.5587396123545605], [3.0, 0.7956093000000001], [3.0, 0.0], [3.0, -0.7956093000000001], [2.683901074764725, -1.5587396123545605], [2.121320343559643, -2.121320343559643], [1.5587396123545605, -2.683901074764725], [0.7956093000000001, -3.0], [0.0, -3.0], [-0.7956093000000001, -3.0], [-1.5587396123545605, -2.683901074764725], [-2.121320343559643, -2.121320343559643], [-2.683901074764725, -1.5587396123545605], [-3.0, -0.7956093000000001], [-3.0, 0.0], [-3.0, 0.7956093000000001], [-2.683901074764725, 1.5587396123545605], [-2.121320343559643, 2.121320343559643], [-1.5587396123545605, 2.683901074764725], [-0.7956093000000001, 3.0], [0.0, 3.0]], [\"M\", \"C\", \"C\", \"C\", \"C\", \"C\", \"C\", \"C\", \"C\", \"Z\"]]}], \"texts\": [], \"collections\": [], \"images\": [], \"sharex\": [], \"sharey\": []}], \"data\": {\"data01\": [[0.0, 0.0], [1.0, 1.0], [2.0, 2.0], [3.0, 3.0], [4.0, 4.0], [5.0, 5.0], [6.0, 6.0], [7.0, 7.0], [8.0, 8.0], [9.0, 9.0]]}, \"id\": \"el9484164083360\", \"plugins\": [{\"type\": \"reset\"}, {\"type\": \"zoom\", \"button\": true, \"enabled\": false}, {\"type\": \"boxzoom\", \"button\": true, \"enabled\": false}, {\"type\": \"htmltooltip\", \"id\": \"el9484160083920pts\", \"labels\": [\"<div background-color:\\\"red\\\";><h1>0</h1></div>\", \"<div background-color:\\\"red\\\";><h1>1</h1></div>\", \"<div background-color:\\\"red\\\";><h1>2</h1></div>\", \"<div background-color:\\\"red\\\";><h1>3</h1></div>\", \"<div background-color:\\\"red\\\";><h1>4</h1></div>\", \"<div background-color:\\\"red\\\";><h1>5</h1></div>\", \"<div background-color:\\\"red\\\";><h1>6</h1></div>\", \"<div background-color:\\\"red\\\";><h1>7</h1></div>\", \"<div background-color:\\\"red\\\";><h1>8</h1></div>\", \"<div background-color:\\\"red\\\";><h1>9</h1></div>\"], \"hoffset\": 0, \"voffset\": 10}]});\n",
       "      });\n",
       "    });\n",
       "}else{\n",
       "    // require.js not available: dynamically load d3 & mpld3\n",
       "    mpld3_load_lib(\"https://mpld3.github.io/js/d3.v3.min.js\", function(){\n",
       "         mpld3_load_lib(\"https://mpld3.github.io/js/mpld3.v0.3.js\", function(){\n",
       "                 \n",
       "    mpld3.register_plugin(\"htmltooltip\", HtmlTooltipPlugin);\n",
       "    HtmlTooltipPlugin.prototype = Object.create(mpld3.Plugin.prototype);\n",
       "    HtmlTooltipPlugin.prototype.constructor = HtmlTooltipPlugin;\n",
       "    HtmlTooltipPlugin.prototype.requiredProps = [\"id\"];\n",
       "    HtmlTooltipPlugin.prototype.defaultProps = {labels:null,\n",
       "                                                hoffset:0,\n",
       "                                                voffset:10};\n",
       "    function HtmlTooltipPlugin(fig, props){\n",
       "        mpld3.Plugin.call(this, fig, props);\n",
       "    };\n",
       "\n",
       "    HtmlTooltipPlugin.prototype.draw = function(){\n",
       "       var obj = mpld3.get_element(this.props.id);\n",
       "       var labels = this.props.labels;\n",
       "       var tooltip = d3.select(\"body\").append(\"div\")\n",
       "                    .attr(\"class\", \"mpld3-tooltip\")\n",
       "                    .style(\"position\", \"absolute\")\n",
       "                    .style(\"z-index\", \"10\")\n",
       "                    .style(\"visibility\", \"hidden\");\n",
       "\n",
       "       obj.elements()\n",
       "           .on(\"mouseover\", function(d, i){\n",
       "                              tooltip.html(labels[i])\n",
       "                                     .style(\"visibility\", \"visible\");})\n",
       "           .on(\"mousemove\", function(d, i){\n",
       "                  tooltip\n",
       "                    .style(\"top\", d3.event.pageY + this.props.voffset + \"px\")\n",
       "                    .style(\"left\",d3.event.pageX + this.props.hoffset + \"px\");\n",
       "                 }.bind(this))\n",
       "           .on(\"mouseout\",  function(d, i){\n",
       "                           tooltip.style(\"visibility\", \"hidden\");});\n",
       "    };\n",
       "    \n",
       "                 mpld3.draw_figure(\"fig_el94841640833608649206199\", {\"width\": 432.0, \"height\": 288.0, \"axes\": [{\"bbox\": [0.125, 0.125, 0.775, 0.755], \"xlim\": [-0.45, 9.45], \"ylim\": [-0.45, 9.45], \"xdomain\": [-0.45, 9.45], \"ydomain\": [-0.45, 9.45], \"xscale\": \"linear\", \"yscale\": \"linear\", \"axes\": [{\"position\": \"bottom\", \"nticks\": 7, \"tickvalues\": null, \"tickformat\": null, \"scale\": \"linear\", \"fontsize\": 10.0, \"grid\": {\"gridOn\": false}, \"visible\": true}, {\"position\": \"left\", \"nticks\": 7, \"tickvalues\": null, \"tickformat\": null, \"scale\": \"linear\", \"fontsize\": 10.0, \"grid\": {\"gridOn\": false}, \"visible\": true}], \"axesbg\": \"#FFFFFF\", \"axesbgalpha\": null, \"zoomable\": true, \"id\": \"el9484166786272\", \"lines\": [], \"paths\": [], \"markers\": [{\"data\": \"data01\", \"xindex\": 0, \"yindex\": 1, \"coordinates\": \"data\", \"id\": \"el9484160083920pts\", \"facecolor\": \"#1F77B4\", \"edgecolor\": \"#1F77B4\", \"edgewidth\": 1.0, \"alpha\": 1, \"zorder\": 2, \"markerpath\": [[[0.0, 3.0], [0.7956093000000001, 3.0], [1.5587396123545605, 2.683901074764725], [2.121320343559643, 2.121320343559643], [2.683901074764725, 1.5587396123545605], [3.0, 0.7956093000000001], [3.0, 0.0], [3.0, -0.7956093000000001], [2.683901074764725, -1.5587396123545605], [2.121320343559643, -2.121320343559643], [1.5587396123545605, -2.683901074764725], [0.7956093000000001, -3.0], [0.0, -3.0], [-0.7956093000000001, -3.0], [-1.5587396123545605, -2.683901074764725], [-2.121320343559643, -2.121320343559643], [-2.683901074764725, -1.5587396123545605], [-3.0, -0.7956093000000001], [-3.0, 0.0], [-3.0, 0.7956093000000001], [-2.683901074764725, 1.5587396123545605], [-2.121320343559643, 2.121320343559643], [-1.5587396123545605, 2.683901074764725], [-0.7956093000000001, 3.0], [0.0, 3.0]], [\"M\", \"C\", \"C\", \"C\", \"C\", \"C\", \"C\", \"C\", \"C\", \"Z\"]]}], \"texts\": [], \"collections\": [], \"images\": [], \"sharex\": [], \"sharey\": []}], \"data\": {\"data01\": [[0.0, 0.0], [1.0, 1.0], [2.0, 2.0], [3.0, 3.0], [4.0, 4.0], [5.0, 5.0], [6.0, 6.0], [7.0, 7.0], [8.0, 8.0], [9.0, 9.0]]}, \"id\": \"el9484164083360\", \"plugins\": [{\"type\": \"reset\"}, {\"type\": \"zoom\", \"button\": true, \"enabled\": false}, {\"type\": \"boxzoom\", \"button\": true, \"enabled\": false}, {\"type\": \"htmltooltip\", \"id\": \"el9484160083920pts\", \"labels\": [\"<div background-color:\\\"red\\\";><h1>0</h1></div>\", \"<div background-color:\\\"red\\\";><h1>1</h1></div>\", \"<div background-color:\\\"red\\\";><h1>2</h1></div>\", \"<div background-color:\\\"red\\\";><h1>3</h1></div>\", \"<div background-color:\\\"red\\\";><h1>4</h1></div>\", \"<div background-color:\\\"red\\\";><h1>5</h1></div>\", \"<div background-color:\\\"red\\\";><h1>6</h1></div>\", \"<div background-color:\\\"red\\\";><h1>7</h1></div>\", \"<div background-color:\\\"red\\\";><h1>8</h1></div>\", \"<div background-color:\\\"red\\\";><h1>9</h1></div>\"], \"hoffset\": 0, \"voffset\": 10}]});\n",
       "            })\n",
       "         });\n",
       "}\n",
       "</script>"
      ],
      "text/plain": [
       "<matplotlib.figure.Figure at 0x9c7b6a0>"
      ]
     },
     "metadata": {},
     "output_type": "display_data"
    }
   ],
   "source": [
    "import matplotlib.pyplot as plt\n",
    "from mpld3 import fig_to_html, plugins\n",
    "fig, ax = plt.subplots()\n",
    "points = ax.plot(range(10), 'o')\n",
    "\n",
    "# labels = ['<h1>{title}</h1>'.format(title=i) for i in range(10)]\n",
    "\n",
    "labels = ['<div background-color:\"red\";><h1>{title}</h1></div>'.format(title=i) for i in range(10)]\n",
    "\n",
    "plugins.connect(fig, plugins.PointHTMLTooltip(points[0], labels))\n",
    "# fig_to_html(fig)"
   ]
  },
  {
   "cell_type": "code",
   "execution_count": 8,
   "metadata": {},
   "outputs": [
    {
     "data": {
      "text/plain": [
       "['BoxZoom',\n",
       " 'DEFAULT_PLUGINS',\n",
       " 'InteractiveLegendPlugin',\n",
       " 'LineHTMLTooltip',\n",
       " 'LineLabelTooltip',\n",
       " 'LinkedBrush',\n",
       " 'MousePosition',\n",
       " 'MouseXPosition',\n",
       " 'PluginBase',\n",
       " 'PointClickableHTMLTooltip',\n",
       " 'PointHTMLTooltip',\n",
       " 'PointLabelTooltip',\n",
       " 'Reset',\n",
       " 'Zoom',\n",
       " '__all__',\n",
       " '__builtins__',\n",
       " '__cached__',\n",
       " '__doc__',\n",
       " '__file__',\n",
       " '__loader__',\n",
       " '__name__',\n",
       " '__package__',\n",
       " '__spec__',\n",
       " 'clear',\n",
       " 'collections',\n",
       " 'connect',\n",
       " 'get_id',\n",
       " 'get_plugins',\n",
       " 'json',\n",
       " 'matplotlib',\n",
       " 'uuid']"
      ]
     },
     "execution_count": 8,
     "metadata": {},
     "output_type": "execute_result"
    }
   ],
   "source": [
    "dir(plugins)"
   ]
  },
  {
   "cell_type": "code",
   "execution_count": 5,
   "metadata": {},
   "outputs": [
    {
     "data": {
      "image/png": "[encoded data removed]",
      "text/html": [
       "\n",
       "\n",
       "<style>\n",
       "\n",
       "</style>\n",
       "\n",
       "<div id=\"fig_el9484160291416495219773\"></div>\n",
       "<script>\n",
       "function mpld3_load_lib(url, callback){\n",
       "  var s = document.createElement('script');\n",
       "  s.src = url;\n",
       "  s.async = true;\n",
       "  s.onreadystatechange = s.onload = callback;\n",
       "  s.onerror = function(){console.warn(\"failed to load library \" + url);};\n",
       "  document.getElementsByTagName(\"head\")[0].appendChild(s);\n",
       "}\n",
       "\n",
       "if(typeof(mpld3) !== \"undefined\" && mpld3._mpld3IsLoaded){\n",
       "   // already loaded: just create the figure\n",
       "   !function(mpld3){\n",
       "       \n",
       "       mpld3.draw_figure(\"fig_el9484160291416495219773\", {\"width\": 432.0, \"height\": 288.0, \"axes\": [{\"bbox\": [0.125, 0.125, 0.775, 0.755], \"xlim\": [-0.05814304374356028, 1.0653066822391413], \"ylim\": [-0.08771887615876278, 1.069175440541647], \"xdomain\": [-0.05814304374356028, 1.0653066822391413], \"ydomain\": [-0.08771887615876278, 1.069175440541647], \"xscale\": \"linear\", \"yscale\": \"linear\", \"axes\": [{\"position\": \"bottom\", \"nticks\": 8, \"tickvalues\": null, \"tickformat\": null, \"scale\": \"linear\", \"fontsize\": 10.0, \"grid\": {\"gridOn\": false}, \"visible\": true}, {\"position\": \"left\", \"nticks\": 8, \"tickvalues\": null, \"tickformat\": null, \"scale\": \"linear\", \"fontsize\": 10.0, \"grid\": {\"gridOn\": false}, \"visible\": true}], \"axesbg\": \"#FFFFFF\", \"axesbgalpha\": null, \"zoomable\": true, \"id\": \"el9484159287616\", \"lines\": [], \"paths\": [], \"markers\": [], \"texts\": [], \"collections\": [{\"offsets\": \"data01\", \"xindex\": 0, \"yindex\": 1, \"paths\": [[[[0.0, -0.5], [0.13260155, -0.5], [0.25978993539242673, -0.44731684579412084], [0.3535533905932738, -0.3535533905932738], [0.44731684579412084, -0.25978993539242673], [0.5, -0.13260155], [0.5, 0.0], [0.5, 0.13260155], [0.44731684579412084, 0.25978993539242673], [0.3535533905932738, 0.3535533905932738], [0.25978993539242673, 0.44731684579412084], [0.13260155, 0.5], [0.0, 0.5], [-0.13260155, 0.5], [-0.25978993539242673, 0.44731684579412084], [-0.3535533905932738, 0.3535533905932738], [-0.44731684579412084, 0.25978993539242673], [-0.5, 0.13260155], [-0.5, 0.0], [-0.5, -0.13260155], [-0.44731684579412084, -0.25978993539242673], [-0.3535533905932738, -0.3535533905932738], [-0.25978993539242673, -0.44731684579412084], [-0.13260155, -0.5], [0.0, -0.5]], [\"M\", \"C\", \"C\", \"C\", \"C\", \"C\", \"C\", \"C\", \"C\", \"Z\"]]], \"pathtransforms\": [[17.320508075688775, 0.0, 0.0, 17.320508075688775, 0.0, 0.0]], \"alphas\": [0.3], \"edgecolors\": [\"#1F77B4\"], \"facecolors\": [\"#1F77B4\"], \"edgewidths\": [1.0], \"offsetcoordinates\": \"data\", \"pathcoordinates\": \"display\", \"zorder\": 1, \"id\": \"el9484160291528\"}], \"images\": [], \"sharex\": [], \"sharey\": []}], \"data\": {\"data01\": [[0.26455561210462697, 0.9764594650133958], [0.7742336894342167, 0.4686512016477016], [0.45615033221654855, 0.9767610881903371], [0.5684339488686485, 0.604845519745046], [0.018789800436355142, 0.7392635793983017], [0.6176354970758771, 0.039187792254320675], [0.6120957227224214, 0.2828069625764096], [0.6169339968747569, 0.1201965612131689], [0.9437480785146242, 0.29614019752214493], [0.6818202991034834, 0.11872771895424405], [0.359507900573786, 0.317983179393976], [0.43703195379934145, 0.41426299451466997], [0.6976311959272649, 0.06414749634878436], [0.06022547162926983, 0.6924721193700198], [0.6667667154456677, 0.5666014542065752], [0.6706378696181594, 0.2653894909394454], [0.2103825610738409, 0.5232480534666997], [0.1289262976548533, 0.09394051075844168], [0.31542835092418386, 0.5759464955561793], [0.3637107709426226, 0.9292961975762141], [0.5701967704178796, 0.31856895245132366], [0.43860151346232035, 0.6674103799636817], [0.9883738380592262, 0.13179786240439217], [0.10204481074802807, 0.7163272041185655], [0.2088767560948347, 0.2894060929472011], [0.16130951788499626, 0.18319136200711683], [0.6531083254653984, 0.5865129348100832], [0.2532916025397821, 0.020107546187493552], [0.4663107728563063, 0.8289400292173631], [0.24442559200160274, 0.004695476192547066], [0.15896958364551972, 0.6778165367962301], [0.11037514116430513, 0.27000797319216485], [0.6563295894652734, 0.7351940221225949], [0.1381829513486138, 0.9621885451174382], [0.1965823616800535, 0.24875314351995803], [0.3687251706609641, 0.5761573344178369], [0.8209932298479351, 0.592041931271839], [0.09710127579306127, 0.5722519057908734], [0.8379449074988039, 0.2230816326406183], [0.09609840789396307, 0.952749011516985]]}, \"id\": \"el9484160291416\", \"plugins\": [{\"type\": \"reset\"}, {\"type\": \"zoom\", \"button\": true, \"enabled\": false}, {\"type\": \"boxzoom\", \"button\": true, \"enabled\": false}, {\"type\": \"tooltip\", \"id\": \"el9484160291528\", \"labels\": [\"Point 0\", \"Point 1\", \"Point 2\", \"Point 3\", \"Point 4\", \"Point 5\", \"Point 6\", \"Point 7\", \"Point 8\", \"Point 9\", \"Point 10\", \"Point 11\", \"Point 12\", \"Point 13\", \"Point 14\", \"Point 15\", \"Point 16\", \"Point 17\", \"Point 18\", \"Point 19\", \"Point 20\", \"Point 21\", \"Point 22\", \"Point 23\", \"Point 24\", \"Point 25\", \"Point 26\", \"Point 27\", \"Point 28\", \"Point 29\", \"Point 30\", \"Point 31\", \"Point 32\", \"Point 33\", \"Point 34\", \"Point 35\", \"Point 36\", \"Point 37\", \"Point 38\", \"Point 39\"], \"hoffset\": 0, \"voffset\": 10, \"location\": \"mouse\"}]});\n",
       "   }(mpld3);\n",
       "}else if(typeof define === \"function\" && define.amd){\n",
       "   // require.js is available: use it to load d3/mpld3\n",
       "   require.config({paths: {d3: \"https://mpld3.github.io/js/d3.v3.min\"}});\n",
       "   require([\"d3\"], function(d3){\n",
       "      window.d3 = d3;\n",
       "      mpld3_load_lib(\"https://mpld3.github.io/js/mpld3.v0.3.js\", function(){\n",
       "         \n",
       "         mpld3.draw_figure(\"fig_el9484160291416495219773\", {\"width\": 432.0, \"height\": 288.0, \"axes\": [{\"bbox\": [0.125, 0.125, 0.775, 0.755], \"xlim\": [-0.05814304374356028, 1.0653066822391413], \"ylim\": [-0.08771887615876278, 1.069175440541647], \"xdomain\": [-0.05814304374356028, 1.0653066822391413], \"ydomain\": [-0.08771887615876278, 1.069175440541647], \"xscale\": \"linear\", \"yscale\": \"linear\", \"axes\": [{\"position\": \"bottom\", \"nticks\": 8, \"tickvalues\": null, \"tickformat\": null, \"scale\": \"linear\", \"fontsize\": 10.0, \"grid\": {\"gridOn\": false}, \"visible\": true}, {\"position\": \"left\", \"nticks\": 8, \"tickvalues\": null, \"tickformat\": null, \"scale\": \"linear\", \"fontsize\": 10.0, \"grid\": {\"gridOn\": false}, \"visible\": true}], \"axesbg\": \"#FFFFFF\", \"axesbgalpha\": null, \"zoomable\": true, \"id\": \"el9484159287616\", \"lines\": [], \"paths\": [], \"markers\": [], \"texts\": [], \"collections\": [{\"offsets\": \"data01\", \"xindex\": 0, \"yindex\": 1, \"paths\": [[[[0.0, -0.5], [0.13260155, -0.5], [0.25978993539242673, -0.44731684579412084], [0.3535533905932738, -0.3535533905932738], [0.44731684579412084, -0.25978993539242673], [0.5, -0.13260155], [0.5, 0.0], [0.5, 0.13260155], [0.44731684579412084, 0.25978993539242673], [0.3535533905932738, 0.3535533905932738], [0.25978993539242673, 0.44731684579412084], [0.13260155, 0.5], [0.0, 0.5], [-0.13260155, 0.5], [-0.25978993539242673, 0.44731684579412084], [-0.3535533905932738, 0.3535533905932738], [-0.44731684579412084, 0.25978993539242673], [-0.5, 0.13260155], [-0.5, 0.0], [-0.5, -0.13260155], [-0.44731684579412084, -0.25978993539242673], [-0.3535533905932738, -0.3535533905932738], [-0.25978993539242673, -0.44731684579412084], [-0.13260155, -0.5], [0.0, -0.5]], [\"M\", \"C\", \"C\", \"C\", \"C\", \"C\", \"C\", \"C\", \"C\", \"Z\"]]], \"pathtransforms\": [[17.320508075688775, 0.0, 0.0, 17.320508075688775, 0.0, 0.0]], \"alphas\": [0.3], \"edgecolors\": [\"#1F77B4\"], \"facecolors\": [\"#1F77B4\"], \"edgewidths\": [1.0], \"offsetcoordinates\": \"data\", \"pathcoordinates\": \"display\", \"zorder\": 1, \"id\": \"el9484160291528\"}], \"images\": [], \"sharex\": [], \"sharey\": []}], \"data\": {\"data01\": [[0.26455561210462697, 0.9764594650133958], [0.7742336894342167, 0.4686512016477016], [0.45615033221654855, 0.9767610881903371], [0.5684339488686485, 0.604845519745046], [0.018789800436355142, 0.7392635793983017], [0.6176354970758771, 0.039187792254320675], [0.6120957227224214, 0.2828069625764096], [0.6169339968747569, 0.1201965612131689], [0.9437480785146242, 0.29614019752214493], [0.6818202991034834, 0.11872771895424405], [0.359507900573786, 0.317983179393976], [0.43703195379934145, 0.41426299451466997], [0.6976311959272649, 0.06414749634878436], [0.06022547162926983, 0.6924721193700198], [0.6667667154456677, 0.5666014542065752], [0.6706378696181594, 0.2653894909394454], [0.2103825610738409, 0.5232480534666997], [0.1289262976548533, 0.09394051075844168], [0.31542835092418386, 0.5759464955561793], [0.3637107709426226, 0.9292961975762141], [0.5701967704178796, 0.31856895245132366], [0.43860151346232035, 0.6674103799636817], [0.9883738380592262, 0.13179786240439217], [0.10204481074802807, 0.7163272041185655], [0.2088767560948347, 0.2894060929472011], [0.16130951788499626, 0.18319136200711683], [0.6531083254653984, 0.5865129348100832], [0.2532916025397821, 0.020107546187493552], [0.4663107728563063, 0.8289400292173631], [0.24442559200160274, 0.004695476192547066], [0.15896958364551972, 0.6778165367962301], [0.11037514116430513, 0.27000797319216485], [0.6563295894652734, 0.7351940221225949], [0.1381829513486138, 0.9621885451174382], [0.1965823616800535, 0.24875314351995803], [0.3687251706609641, 0.5761573344178369], [0.8209932298479351, 0.592041931271839], [0.09710127579306127, 0.5722519057908734], [0.8379449074988039, 0.2230816326406183], [0.09609840789396307, 0.952749011516985]]}, \"id\": \"el9484160291416\", \"plugins\": [{\"type\": \"reset\"}, {\"type\": \"zoom\", \"button\": true, \"enabled\": false}, {\"type\": \"boxzoom\", \"button\": true, \"enabled\": false}, {\"type\": \"tooltip\", \"id\": \"el9484160291528\", \"labels\": [\"Point 0\", \"Point 1\", \"Point 2\", \"Point 3\", \"Point 4\", \"Point 5\", \"Point 6\", \"Point 7\", \"Point 8\", \"Point 9\", \"Point 10\", \"Point 11\", \"Point 12\", \"Point 13\", \"Point 14\", \"Point 15\", \"Point 16\", \"Point 17\", \"Point 18\", \"Point 19\", \"Point 20\", \"Point 21\", \"Point 22\", \"Point 23\", \"Point 24\", \"Point 25\", \"Point 26\", \"Point 27\", \"Point 28\", \"Point 29\", \"Point 30\", \"Point 31\", \"Point 32\", \"Point 33\", \"Point 34\", \"Point 35\", \"Point 36\", \"Point 37\", \"Point 38\", \"Point 39\"], \"hoffset\": 0, \"voffset\": 10, \"location\": \"mouse\"}]});\n",
       "      });\n",
       "    });\n",
       "}else{\n",
       "    // require.js not available: dynamically load d3 & mpld3\n",
       "    mpld3_load_lib(\"https://mpld3.github.io/js/d3.v3.min.js\", function(){\n",
       "         mpld3_load_lib(\"https://mpld3.github.io/js/mpld3.v0.3.js\", function(){\n",
       "                 \n",
       "                 mpld3.draw_figure(\"fig_el9484160291416495219773\", {\"width\": 432.0, \"height\": 288.0, \"axes\": [{\"bbox\": [0.125, 0.125, 0.775, 0.755], \"xlim\": [-0.05814304374356028, 1.0653066822391413], \"ylim\": [-0.08771887615876278, 1.069175440541647], \"xdomain\": [-0.05814304374356028, 1.0653066822391413], \"ydomain\": [-0.08771887615876278, 1.069175440541647], \"xscale\": \"linear\", \"yscale\": \"linear\", \"axes\": [{\"position\": \"bottom\", \"nticks\": 8, \"tickvalues\": null, \"tickformat\": null, \"scale\": \"linear\", \"fontsize\": 10.0, \"grid\": {\"gridOn\": false}, \"visible\": true}, {\"position\": \"left\", \"nticks\": 8, \"tickvalues\": null, \"tickformat\": null, \"scale\": \"linear\", \"fontsize\": 10.0, \"grid\": {\"gridOn\": false}, \"visible\": true}], \"axesbg\": \"#FFFFFF\", \"axesbgalpha\": null, \"zoomable\": true, \"id\": \"el9484159287616\", \"lines\": [], \"paths\": [], \"markers\": [], \"texts\": [], \"collections\": [{\"offsets\": \"data01\", \"xindex\": 0, \"yindex\": 1, \"paths\": [[[[0.0, -0.5], [0.13260155, -0.5], [0.25978993539242673, -0.44731684579412084], [0.3535533905932738, -0.3535533905932738], [0.44731684579412084, -0.25978993539242673], [0.5, -0.13260155], [0.5, 0.0], [0.5, 0.13260155], [0.44731684579412084, 0.25978993539242673], [0.3535533905932738, 0.3535533905932738], [0.25978993539242673, 0.44731684579412084], [0.13260155, 0.5], [0.0, 0.5], [-0.13260155, 0.5], [-0.25978993539242673, 0.44731684579412084], [-0.3535533905932738, 0.3535533905932738], [-0.44731684579412084, 0.25978993539242673], [-0.5, 0.13260155], [-0.5, 0.0], [-0.5, -0.13260155], [-0.44731684579412084, -0.25978993539242673], [-0.3535533905932738, -0.3535533905932738], [-0.25978993539242673, -0.44731684579412084], [-0.13260155, -0.5], [0.0, -0.5]], [\"M\", \"C\", \"C\", \"C\", \"C\", \"C\", \"C\", \"C\", \"C\", \"Z\"]]], \"pathtransforms\": [[17.320508075688775, 0.0, 0.0, 17.320508075688775, 0.0, 0.0]], \"alphas\": [0.3], \"edgecolors\": [\"#1F77B4\"], \"facecolors\": [\"#1F77B4\"], \"edgewidths\": [1.0], \"offsetcoordinates\": \"data\", \"pathcoordinates\": \"display\", \"zorder\": 1, \"id\": \"el9484160291528\"}], \"images\": [], \"sharex\": [], \"sharey\": []}], \"data\": {\"data01\": [[0.26455561210462697, 0.9764594650133958], [0.7742336894342167, 0.4686512016477016], [0.45615033221654855, 0.9767610881903371], [0.5684339488686485, 0.604845519745046], [0.018789800436355142, 0.7392635793983017], [0.6176354970758771, 0.039187792254320675], [0.6120957227224214, 0.2828069625764096], [0.6169339968747569, 0.1201965612131689], [0.9437480785146242, 0.29614019752214493], [0.6818202991034834, 0.11872771895424405], [0.359507900573786, 0.317983179393976], [0.43703195379934145, 0.41426299451466997], [0.6976311959272649, 0.06414749634878436], [0.06022547162926983, 0.6924721193700198], [0.6667667154456677, 0.5666014542065752], [0.6706378696181594, 0.2653894909394454], [0.2103825610738409, 0.5232480534666997], [0.1289262976548533, 0.09394051075844168], [0.31542835092418386, 0.5759464955561793], [0.3637107709426226, 0.9292961975762141], [0.5701967704178796, 0.31856895245132366], [0.43860151346232035, 0.6674103799636817], [0.9883738380592262, 0.13179786240439217], [0.10204481074802807, 0.7163272041185655], [0.2088767560948347, 0.2894060929472011], [0.16130951788499626, 0.18319136200711683], [0.6531083254653984, 0.5865129348100832], [0.2532916025397821, 0.020107546187493552], [0.4663107728563063, 0.8289400292173631], [0.24442559200160274, 0.004695476192547066], [0.15896958364551972, 0.6778165367962301], [0.11037514116430513, 0.27000797319216485], [0.6563295894652734, 0.7351940221225949], [0.1381829513486138, 0.9621885451174382], [0.1965823616800535, 0.24875314351995803], [0.3687251706609641, 0.5761573344178369], [0.8209932298479351, 0.592041931271839], [0.09710127579306127, 0.5722519057908734], [0.8379449074988039, 0.2230816326406183], [0.09609840789396307, 0.952749011516985]]}, \"id\": \"el9484160291416\", \"plugins\": [{\"type\": \"reset\"}, {\"type\": \"zoom\", \"button\": true, \"enabled\": false}, {\"type\": \"boxzoom\", \"button\": true, \"enabled\": false}, {\"type\": \"tooltip\", \"id\": \"el9484160291528\", \"labels\": [\"Point 0\", \"Point 1\", \"Point 2\", \"Point 3\", \"Point 4\", \"Point 5\", \"Point 6\", \"Point 7\", \"Point 8\", \"Point 9\", \"Point 10\", \"Point 11\", \"Point 12\", \"Point 13\", \"Point 14\", \"Point 15\", \"Point 16\", \"Point 17\", \"Point 18\", \"Point 19\", \"Point 20\", \"Point 21\", \"Point 22\", \"Point 23\", \"Point 24\", \"Point 25\", \"Point 26\", \"Point 27\", \"Point 28\", \"Point 29\", \"Point 30\", \"Point 31\", \"Point 32\", \"Point 33\", \"Point 34\", \"Point 35\", \"Point 36\", \"Point 37\", \"Point 38\", \"Point 39\"], \"hoffset\": 0, \"voffset\": 10, \"location\": \"mouse\"}]});\n",
       "            })\n",
       "         });\n",
       "}\n",
       "</script>"
      ],
      "text/plain": [
       "<matplotlib.figure.Figure at 0x98dda58>"
      ]
     },
     "metadata": {},
     "output_type": "display_data"
    }
   ],
   "source": [
    "fig, ax = plt.subplots()\n",
    "points = ax.scatter(np.random.rand(40), np.random.rand(40),\n",
    "                    s=300, alpha=0.3)\n",
    "\n",
    "labels = [\"Point {0}\".format(i) for i in range(40)]\n",
    "tooltip = plugins.PointLabelTooltip(points, labels)\n",
    "\n",
    "plugins.connect(fig, tooltip)"
   ]
  },
  {
   "cell_type": "code",
   "execution_count": 39,
   "metadata": {},
   "outputs": [
    {
     "ename": "TypeError",
     "evalue": "Object of type 'map' is not JSON serializable",
     "output_type": "error",
     "traceback": [
      "\u001b[1;31m---------------------------------------------------------------------------\u001b[0m",
      "\u001b[1;31mTypeError\u001b[0m                                 Traceback (most recent call last)",
      "\u001b[1;32mC:\\Anaconda3\\lib\\site-packages\\IPython\\core\\formatters.py\u001b[0m in \u001b[0;36m__call__\u001b[1;34m(self, obj)\u001b[0m\n\u001b[0;32m    330\u001b[0m                 \u001b[1;32mpass\u001b[0m\u001b[1;33m\u001b[0m\u001b[0m\n\u001b[0;32m    331\u001b[0m             \u001b[1;32melse\u001b[0m\u001b[1;33m:\u001b[0m\u001b[1;33m\u001b[0m\u001b[0m\n\u001b[1;32m--> 332\u001b[1;33m                 \u001b[1;32mreturn\u001b[0m \u001b[0mprinter\u001b[0m\u001b[1;33m(\u001b[0m\u001b[0mobj\u001b[0m\u001b[1;33m)\u001b[0m\u001b[1;33m\u001b[0m\u001b[0m\n\u001b[0m\u001b[0;32m    333\u001b[0m             \u001b[1;31m# Finally look for special method names\u001b[0m\u001b[1;33m\u001b[0m\u001b[1;33m\u001b[0m\u001b[0m\n\u001b[0;32m    334\u001b[0m             \u001b[0mmethod\u001b[0m \u001b[1;33m=\u001b[0m \u001b[0mget_real_method\u001b[0m\u001b[1;33m(\u001b[0m\u001b[0mobj\u001b[0m\u001b[1;33m,\u001b[0m \u001b[0mself\u001b[0m\u001b[1;33m.\u001b[0m\u001b[0mprint_method\u001b[0m\u001b[1;33m)\u001b[0m\u001b[1;33m\u001b[0m\u001b[0m\n",
      "\u001b[1;32mC:\\Anaconda3\\lib\\site-packages\\mpld3\\_display.py\u001b[0m in \u001b[0;36m<lambda>\u001b[1;34m(fig, kwds)\u001b[0m\n\u001b[0;32m    408\u001b[0m     \u001b[0mformatter\u001b[0m \u001b[1;33m=\u001b[0m \u001b[0mip\u001b[0m\u001b[1;33m.\u001b[0m\u001b[0mdisplay_formatter\u001b[0m\u001b[1;33m.\u001b[0m\u001b[0mformatters\u001b[0m\u001b[1;33m[\u001b[0m\u001b[1;34m'text/html'\u001b[0m\u001b[1;33m]\u001b[0m\u001b[1;33m\u001b[0m\u001b[0m\n\u001b[0;32m    409\u001b[0m     formatter.for_type(Figure,\n\u001b[1;32m--> 410\u001b[1;33m                        lambda fig, kwds=kwargs: fig_to_html(fig, **kwds))\n\u001b[0m\u001b[0;32m    411\u001b[0m \u001b[1;33m\u001b[0m\u001b[0m\n\u001b[0;32m    412\u001b[0m \u001b[1;33m\u001b[0m\u001b[0m\n",
      "\u001b[1;32mC:\\Anaconda3\\lib\\site-packages\\mpld3\\_display.py\u001b[0m in \u001b[0;36mfig_to_html\u001b[1;34m(fig, d3_url, mpld3_url, no_extras, template_type, figid, use_http, **kwargs)\u001b[0m\n\u001b[0;32m    249\u001b[0m                            \u001b[0md3_url\u001b[0m\u001b[1;33m=\u001b[0m\u001b[0md3_url\u001b[0m\u001b[1;33m,\u001b[0m\u001b[1;33m\u001b[0m\u001b[0m\n\u001b[0;32m    250\u001b[0m                            \u001b[0mmpld3_url\u001b[0m\u001b[1;33m=\u001b[0m\u001b[0mmpld3_url\u001b[0m\u001b[1;33m,\u001b[0m\u001b[1;33m\u001b[0m\u001b[0m\n\u001b[1;32m--> 251\u001b[1;33m                            \u001b[0mfigure_json\u001b[0m\u001b[1;33m=\u001b[0m\u001b[0mjson\u001b[0m\u001b[1;33m.\u001b[0m\u001b[0mdumps\u001b[0m\u001b[1;33m(\u001b[0m\u001b[0mfigure_json\u001b[0m\u001b[1;33m,\u001b[0m \u001b[0mcls\u001b[0m\u001b[1;33m=\u001b[0m\u001b[0mNumpyEncoder\u001b[0m\u001b[1;33m)\u001b[0m\u001b[1;33m,\u001b[0m\u001b[1;33m\u001b[0m\u001b[0m\n\u001b[0m\u001b[0;32m    252\u001b[0m                            \u001b[0mextra_css\u001b[0m\u001b[1;33m=\u001b[0m\u001b[0mextra_css\u001b[0m\u001b[1;33m,\u001b[0m\u001b[1;33m\u001b[0m\u001b[0m\n\u001b[0;32m    253\u001b[0m                            extra_js=extra_js)\n",
      "\u001b[1;32mC:\\Anaconda3\\lib\\json\\__init__.py\u001b[0m in \u001b[0;36mdumps\u001b[1;34m(obj, skipkeys, ensure_ascii, check_circular, allow_nan, cls, indent, separators, default, sort_keys, **kw)\u001b[0m\n\u001b[0;32m    236\u001b[0m         \u001b[0mcheck_circular\u001b[0m\u001b[1;33m=\u001b[0m\u001b[0mcheck_circular\u001b[0m\u001b[1;33m,\u001b[0m \u001b[0mallow_nan\u001b[0m\u001b[1;33m=\u001b[0m\u001b[0mallow_nan\u001b[0m\u001b[1;33m,\u001b[0m \u001b[0mindent\u001b[0m\u001b[1;33m=\u001b[0m\u001b[0mindent\u001b[0m\u001b[1;33m,\u001b[0m\u001b[1;33m\u001b[0m\u001b[0m\n\u001b[0;32m    237\u001b[0m         \u001b[0mseparators\u001b[0m\u001b[1;33m=\u001b[0m\u001b[0mseparators\u001b[0m\u001b[1;33m,\u001b[0m \u001b[0mdefault\u001b[0m\u001b[1;33m=\u001b[0m\u001b[0mdefault\u001b[0m\u001b[1;33m,\u001b[0m \u001b[0msort_keys\u001b[0m\u001b[1;33m=\u001b[0m\u001b[0msort_keys\u001b[0m\u001b[1;33m,\u001b[0m\u001b[1;33m\u001b[0m\u001b[0m\n\u001b[1;32m--> 238\u001b[1;33m         **kw).encode(obj)\n\u001b[0m\u001b[0;32m    239\u001b[0m \u001b[1;33m\u001b[0m\u001b[0m\n\u001b[0;32m    240\u001b[0m \u001b[1;33m\u001b[0m\u001b[0m\n",
      "\u001b[1;32mC:\\Anaconda3\\lib\\json\\encoder.py\u001b[0m in \u001b[0;36mencode\u001b[1;34m(self, o)\u001b[0m\n\u001b[0;32m    197\u001b[0m         \u001b[1;31m# exceptions aren't as detailed.  The list call should be roughly\u001b[0m\u001b[1;33m\u001b[0m\u001b[1;33m\u001b[0m\u001b[0m\n\u001b[0;32m    198\u001b[0m         \u001b[1;31m# equivalent to the PySequence_Fast that ''.join() would do.\u001b[0m\u001b[1;33m\u001b[0m\u001b[1;33m\u001b[0m\u001b[0m\n\u001b[1;32m--> 199\u001b[1;33m         \u001b[0mchunks\u001b[0m \u001b[1;33m=\u001b[0m \u001b[0mself\u001b[0m\u001b[1;33m.\u001b[0m\u001b[0miterencode\u001b[0m\u001b[1;33m(\u001b[0m\u001b[0mo\u001b[0m\u001b[1;33m,\u001b[0m \u001b[0m_one_shot\u001b[0m\u001b[1;33m=\u001b[0m\u001b[1;32mTrue\u001b[0m\u001b[1;33m)\u001b[0m\u001b[1;33m\u001b[0m\u001b[0m\n\u001b[0m\u001b[0;32m    200\u001b[0m         \u001b[1;32mif\u001b[0m \u001b[1;32mnot\u001b[0m \u001b[0misinstance\u001b[0m\u001b[1;33m(\u001b[0m\u001b[0mchunks\u001b[0m\u001b[1;33m,\u001b[0m \u001b[1;33m(\u001b[0m\u001b[0mlist\u001b[0m\u001b[1;33m,\u001b[0m \u001b[0mtuple\u001b[0m\u001b[1;33m)\u001b[0m\u001b[1;33m)\u001b[0m\u001b[1;33m:\u001b[0m\u001b[1;33m\u001b[0m\u001b[0m\n\u001b[0;32m    201\u001b[0m             \u001b[0mchunks\u001b[0m \u001b[1;33m=\u001b[0m \u001b[0mlist\u001b[0m\u001b[1;33m(\u001b[0m\u001b[0mchunks\u001b[0m\u001b[1;33m)\u001b[0m\u001b[1;33m\u001b[0m\u001b[0m\n",
      "\u001b[1;32mC:\\Anaconda3\\lib\\json\\encoder.py\u001b[0m in \u001b[0;36miterencode\u001b[1;34m(self, o, _one_shot)\u001b[0m\n\u001b[0;32m    255\u001b[0m                 \u001b[0mself\u001b[0m\u001b[1;33m.\u001b[0m\u001b[0mkey_separator\u001b[0m\u001b[1;33m,\u001b[0m \u001b[0mself\u001b[0m\u001b[1;33m.\u001b[0m\u001b[0mitem_separator\u001b[0m\u001b[1;33m,\u001b[0m \u001b[0mself\u001b[0m\u001b[1;33m.\u001b[0m\u001b[0msort_keys\u001b[0m\u001b[1;33m,\u001b[0m\u001b[1;33m\u001b[0m\u001b[0m\n\u001b[0;32m    256\u001b[0m                 self.skipkeys, _one_shot)\n\u001b[1;32m--> 257\u001b[1;33m         \u001b[1;32mreturn\u001b[0m \u001b[0m_iterencode\u001b[0m\u001b[1;33m(\u001b[0m\u001b[0mo\u001b[0m\u001b[1;33m,\u001b[0m \u001b[1;36m0\u001b[0m\u001b[1;33m)\u001b[0m\u001b[1;33m\u001b[0m\u001b[0m\n\u001b[0m\u001b[0;32m    258\u001b[0m \u001b[1;33m\u001b[0m\u001b[0m\n\u001b[0;32m    259\u001b[0m def _make_iterencode(markers, _default, _encoder, _indent, _floatstr,\n",
      "\u001b[1;32mC:\\Anaconda3\\lib\\site-packages\\mpld3\\_display.py\u001b[0m in \u001b[0;36mdefault\u001b[1;34m(self, obj)\u001b[0m\n\u001b[0;32m    136\u001b[0m             numpy.float64)):\n\u001b[0;32m    137\u001b[0m             \u001b[1;32mreturn\u001b[0m \u001b[0mfloat\u001b[0m\u001b[1;33m(\u001b[0m\u001b[0mobj\u001b[0m\u001b[1;33m)\u001b[0m\u001b[1;33m\u001b[0m\u001b[0m\n\u001b[1;32m--> 138\u001b[1;33m         \u001b[1;32mreturn\u001b[0m \u001b[0mjson\u001b[0m\u001b[1;33m.\u001b[0m\u001b[0mJSONEncoder\u001b[0m\u001b[1;33m.\u001b[0m\u001b[0mdefault\u001b[0m\u001b[1;33m(\u001b[0m\u001b[0mself\u001b[0m\u001b[1;33m,\u001b[0m \u001b[0mobj\u001b[0m\u001b[1;33m)\u001b[0m\u001b[1;33m\u001b[0m\u001b[0m\n\u001b[0m\u001b[0;32m    139\u001b[0m \u001b[1;33m\u001b[0m\u001b[0m\n\u001b[0;32m    140\u001b[0m \u001b[1;33m\u001b[0m\u001b[0m\n",
      "\u001b[1;32mC:\\Anaconda3\\lib\\json\\encoder.py\u001b[0m in \u001b[0;36mdefault\u001b[1;34m(self, o)\u001b[0m\n\u001b[0;32m    178\u001b[0m         \"\"\"\n\u001b[0;32m    179\u001b[0m         raise TypeError(\"Object of type '%s' is not JSON serializable\" %\n\u001b[1;32m--> 180\u001b[1;33m                         o.__class__.__name__)\n\u001b[0m\u001b[0;32m    181\u001b[0m \u001b[1;33m\u001b[0m\u001b[0m\n\u001b[0;32m    182\u001b[0m     \u001b[1;32mdef\u001b[0m \u001b[0mencode\u001b[0m\u001b[1;33m(\u001b[0m\u001b[0mself\u001b[0m\u001b[1;33m,\u001b[0m \u001b[0mo\u001b[0m\u001b[1;33m)\u001b[0m\u001b[1;33m:\u001b[0m\u001b[1;33m\u001b[0m\u001b[0m\n",
      "\u001b[1;31mTypeError\u001b[0m: Object of type 'map' is not JSON serializable"
     ]
    },
    {
     "data": {
      "image/png": "[encoded data removed]",
      "text/plain": [
       "<matplotlib.figure.Figure at 0x9c0d198>"
      ]
     },
     "metadata": {},
     "output_type": "display_data"
    }
   ],
   "source": [
    "%matplotlib inline\n",
    "import mpld3\n",
    "mpld3.enable_notebook()\n",
    "from mpld3 import plugins\n",
    "\n",
    "import matplotlib.pyplot as plt\n",
    "fig, ax = plt.subplots(1,1)\n",
    "xx = yy = range(10)\n",
    "scat = ax.scatter(xx, range(10))\n",
    "targets = [\"<marquee>It works!<br><h1>{}, {}</h1></marquee>\".format(x, y) for (x,y) in zip(xx, yy)]\n",
    "labels = [\"{}, {}\".format(x,y) for (x,y) in zip(xx,yy)]\n",
    "\n",
    "from mpld3.plugins import PointClickableHTMLTooltip, MouseXPosition\n",
    "plugins.connect(fig, PointClickableHTMLTooltip(scat, labels=labels, targets=targets))\n",
    "plugins.connect(fig, MouseXPosition())"
   ]
  },
  {
   "cell_type": "markdown",
   "metadata": {},
   "source": [
    "Other available plugins can be viewed in the [example gallery](http://mpld3.github.io/examples/index.html) and in other parts of the [mpld3 documentation](http://mpld3.github.io)."
   ]
  },
  {
   "cell_type": "markdown",
   "metadata": {},
   "source": [
    "## Paving Your Own Way..."
   ]
  },
  {
   "cell_type": "markdown",
   "metadata": {},
   "source": [
    "While the built-in plugins are useful, one of the nicest features of mpld3 is the ability to define your own custom behaviors. This requires a bit of familiarity with both Python and Javascript, as well as some level of knowledge of the javascript side of the mpld3 implementation. Here we'll walk through the process of creating a some plugins to do various simple tasks."
   ]
  },
  {
   "cell_type": "markdown",
   "metadata": {},
   "source": [
    "First, let's do a silly plugin which writes \"hello world\" on the figure:"
   ]
  },
  {
   "cell_type": "code",
   "execution_count": 6,
   "metadata": {},
   "outputs": [
    {
     "data": {
      "image/png": "[encoded data removed]",
      "text/html": [
       "\n",
       "\n",
       "<style>\n",
       "\n",
       "</style>\n",
       "\n",
       "<div id=\"fig_el94841614062561920090093\"></div>\n",
       "<script>\n",
       "function mpld3_load_lib(url, callback){\n",
       "  var s = document.createElement('script');\n",
       "  s.src = url;\n",
       "  s.async = true;\n",
       "  s.onreadystatechange = s.onload = callback;\n",
       "  s.onerror = function(){console.warn(\"failed to load library \" + url);};\n",
       "  document.getElementsByTagName(\"head\")[0].appendChild(s);\n",
       "}\n",
       "\n",
       "if(typeof(mpld3) !== \"undefined\" && mpld3._mpld3IsLoaded){\n",
       "   // already loaded: just create the figure\n",
       "   !function(mpld3){\n",
       "       \n",
       "    mpld3.register_plugin(\"helloworld\", HelloWorld);\n",
       "    HelloWorld.prototype = Object.create(mpld3.Plugin.prototype);\n",
       "    HelloWorld.prototype.constructor = HelloWorld;\n",
       "    function HelloWorld(fig, props){\n",
       "        mpld3.Plugin.call(this, fig, props);\n",
       "    };\n",
       "    \n",
       "    HelloWorld.prototype.draw = function(){\n",
       "        this.fig.canvas.append(\"text\")\n",
       "            .text(\"hello world\")\n",
       "            .style(\"font-size\", 72)\n",
       "            .style(\"opacity\", 0.3)\n",
       "            .style(\"text-anchor\", \"middle\")\n",
       "            .attr(\"x\", this.fig.width / 2)\n",
       "            .attr(\"y\", this.fig.height / 2)\n",
       "    }\n",
       "    \n",
       "       mpld3.draw_figure(\"fig_el94841614062561920090093\", {\"width\": 432.0, \"height\": 288.0, \"axes\": [{\"bbox\": [0.125, 0.125, 0.775, 0.755], \"xlim\": [0.0, 1.0], \"ylim\": [0.0, 1.0], \"xdomain\": [0.0, 1.0], \"ydomain\": [0.0, 1.0], \"xscale\": \"linear\", \"yscale\": \"linear\", \"axes\": [{\"position\": \"bottom\", \"nticks\": 6, \"tickvalues\": null, \"tickformat\": null, \"scale\": \"linear\", \"fontsize\": 10.0, \"grid\": {\"gridOn\": false}, \"visible\": true}, {\"position\": \"left\", \"nticks\": 6, \"tickvalues\": null, \"tickformat\": null, \"scale\": \"linear\", \"fontsize\": 10.0, \"grid\": {\"gridOn\": false}, \"visible\": true}], \"axesbg\": \"#FFFFFF\", \"axesbgalpha\": null, \"zoomable\": true, \"id\": \"el9484161282312\", \"lines\": [], \"paths\": [], \"markers\": [], \"texts\": [], \"collections\": [], \"images\": [], \"sharex\": [], \"sharey\": []}], \"data\": {}, \"id\": \"el9484161406256\", \"plugins\": [{\"type\": \"reset\"}, {\"type\": \"zoom\", \"button\": true, \"enabled\": false}, {\"type\": \"boxzoom\", \"button\": true, \"enabled\": false}, {\"type\": \"helloworld\"}]});\n",
       "   }(mpld3);\n",
       "}else if(typeof define === \"function\" && define.amd){\n",
       "   // require.js is available: use it to load d3/mpld3\n",
       "   require.config({paths: {d3: \"https://mpld3.github.io/js/d3.v3.min\"}});\n",
       "   require([\"d3\"], function(d3){\n",
       "      window.d3 = d3;\n",
       "      mpld3_load_lib(\"https://mpld3.github.io/js/mpld3.v0.3.js\", function(){\n",
       "         \n",
       "    mpld3.register_plugin(\"helloworld\", HelloWorld);\n",
       "    HelloWorld.prototype = Object.create(mpld3.Plugin.prototype);\n",
       "    HelloWorld.prototype.constructor = HelloWorld;\n",
       "    function HelloWorld(fig, props){\n",
       "        mpld3.Plugin.call(this, fig, props);\n",
       "    };\n",
       "    \n",
       "    HelloWorld.prototype.draw = function(){\n",
       "        this.fig.canvas.append(\"text\")\n",
       "            .text(\"hello world\")\n",
       "            .style(\"font-size\", 72)\n",
       "            .style(\"opacity\", 0.3)\n",
       "            .style(\"text-anchor\", \"middle\")\n",
       "            .attr(\"x\", this.fig.width / 2)\n",
       "            .attr(\"y\", this.fig.height / 2)\n",
       "    }\n",
       "    \n",
       "         mpld3.draw_figure(\"fig_el94841614062561920090093\", {\"width\": 432.0, \"height\": 288.0, \"axes\": [{\"bbox\": [0.125, 0.125, 0.775, 0.755], \"xlim\": [0.0, 1.0], \"ylim\": [0.0, 1.0], \"xdomain\": [0.0, 1.0], \"ydomain\": [0.0, 1.0], \"xscale\": \"linear\", \"yscale\": \"linear\", \"axes\": [{\"position\": \"bottom\", \"nticks\": 6, \"tickvalues\": null, \"tickformat\": null, \"scale\": \"linear\", \"fontsize\": 10.0, \"grid\": {\"gridOn\": false}, \"visible\": true}, {\"position\": \"left\", \"nticks\": 6, \"tickvalues\": null, \"tickformat\": null, \"scale\": \"linear\", \"fontsize\": 10.0, \"grid\": {\"gridOn\": false}, \"visible\": true}], \"axesbg\": \"#FFFFFF\", \"axesbgalpha\": null, \"zoomable\": true, \"id\": \"el9484161282312\", \"lines\": [], \"paths\": [], \"markers\": [], \"texts\": [], \"collections\": [], \"images\": [], \"sharex\": [], \"sharey\": []}], \"data\": {}, \"id\": \"el9484161406256\", \"plugins\": [{\"type\": \"reset\"}, {\"type\": \"zoom\", \"button\": true, \"enabled\": false}, {\"type\": \"boxzoom\", \"button\": true, \"enabled\": false}, {\"type\": \"helloworld\"}]});\n",
       "      });\n",
       "    });\n",
       "}else{\n",
       "    // require.js not available: dynamically load d3 & mpld3\n",
       "    mpld3_load_lib(\"https://mpld3.github.io/js/d3.v3.min.js\", function(){\n",
       "         mpld3_load_lib(\"https://mpld3.github.io/js/mpld3.v0.3.js\", function(){\n",
       "                 \n",
       "    mpld3.register_plugin(\"helloworld\", HelloWorld);\n",
       "    HelloWorld.prototype = Object.create(mpld3.Plugin.prototype);\n",
       "    HelloWorld.prototype.constructor = HelloWorld;\n",
       "    function HelloWorld(fig, props){\n",
       "        mpld3.Plugin.call(this, fig, props);\n",
       "    };\n",
       "    \n",
       "    HelloWorld.prototype.draw = function(){\n",
       "        this.fig.canvas.append(\"text\")\n",
       "            .text(\"hello world\")\n",
       "            .style(\"font-size\", 72)\n",
       "            .style(\"opacity\", 0.3)\n",
       "            .style(\"text-anchor\", \"middle\")\n",
       "            .attr(\"x\", this.fig.width / 2)\n",
       "            .attr(\"y\", this.fig.height / 2)\n",
       "    }\n",
       "    \n",
       "                 mpld3.draw_figure(\"fig_el94841614062561920090093\", {\"width\": 432.0, \"height\": 288.0, \"axes\": [{\"bbox\": [0.125, 0.125, 0.775, 0.755], \"xlim\": [0.0, 1.0], \"ylim\": [0.0, 1.0], \"xdomain\": [0.0, 1.0], \"ydomain\": [0.0, 1.0], \"xscale\": \"linear\", \"yscale\": \"linear\", \"axes\": [{\"position\": \"bottom\", \"nticks\": 6, \"tickvalues\": null, \"tickformat\": null, \"scale\": \"linear\", \"fontsize\": 10.0, \"grid\": {\"gridOn\": false}, \"visible\": true}, {\"position\": \"left\", \"nticks\": 6, \"tickvalues\": null, \"tickformat\": null, \"scale\": \"linear\", \"fontsize\": 10.0, \"grid\": {\"gridOn\": false}, \"visible\": true}], \"axesbg\": \"#FFFFFF\", \"axesbgalpha\": null, \"zoomable\": true, \"id\": \"el9484161282312\", \"lines\": [], \"paths\": [], \"markers\": [], \"texts\": [], \"collections\": [], \"images\": [], \"sharex\": [], \"sharey\": []}], \"data\": {}, \"id\": \"el9484161406256\", \"plugins\": [{\"type\": \"reset\"}, {\"type\": \"zoom\", \"button\": true, \"enabled\": false}, {\"type\": \"boxzoom\", \"button\": true, \"enabled\": false}, {\"type\": \"helloworld\"}]});\n",
       "            })\n",
       "         });\n",
       "}\n",
       "</script>"
      ],
      "text/plain": [
       "<matplotlib.figure.Figure at 0x99edd30>"
      ]
     },
     "metadata": {},
     "output_type": "display_data"
    }
   ],
   "source": [
    "class HelloWorld(plugins.PluginBase):  # inherit from PluginBase\n",
    "    \"\"\"Hello World plugin\"\"\"\n",
    "    \n",
    "    JAVASCRIPT = \"\"\"\n",
    "    mpld3.register_plugin(\"helloworld\", HelloWorld);\n",
    "    HelloWorld.prototype = Object.create(mpld3.Plugin.prototype);\n",
    "    HelloWorld.prototype.constructor = HelloWorld;\n",
    "    function HelloWorld(fig, props){\n",
    "        mpld3.Plugin.call(this, fig, props);\n",
    "    };\n",
    "    \n",
    "    HelloWorld.prototype.draw = function(){\n",
    "        this.fig.canvas.append(\"text\")\n",
    "            .text(\"hello world\")\n",
    "            .style(\"font-size\", 72)\n",
    "            .style(\"opacity\", 0.3)\n",
    "            .style(\"text-anchor\", \"middle\")\n",
    "            .attr(\"x\", this.fig.width / 2)\n",
    "            .attr(\"y\", this.fig.height / 2)\n",
    "    }\n",
    "    \"\"\"\n",
    "    def __init__(self):\n",
    "        self.dict_ = {\"type\": \"helloworld\"}\n",
    "        \n",
    "fig, ax = plt.subplots()\n",
    "plugins.connect(fig, HelloWorld())"
   ]
  },
  {
   "cell_type": "markdown",
   "metadata": {},
   "source": [
    "It worked! Notice here that the \"hello world\" text *did not come from Python*, but from the javascript code defined in the plugin.  The code in the ``JAVASCRIPT`` class variable is injected into the javascript which defines the figure, which we can see by calling ``fig_to_html` explicitly. If you were to copy this code into an html file and open it with your browser, it would show the above figure."
   ]
  },
  {
   "cell_type": "code",
   "execution_count": 7,
   "metadata": {},
   "outputs": [
    {
     "name": "stdout",
     "output_type": "stream",
     "text": [
      "\n",
      "<script type=\"text/javascript\" src=\"https://mpld3.github.io/js/d3.v3.min.js\"></script>\n",
      "<script type=\"text/javascript\" src=\"https://mpld3.github.io/js/mpld3.v0.2git.js\"></script>\n",
      "\n",
      "<style>\n",
      "\n",
      "</style>\n",
      "\n",
      "<div id=\"fig_el926444003186729531601938\"></div>\n",
      "<script type=\"text/javascript\">\n",
      "\n",
      "  !function(mpld3){\n",
      "       \n",
      "    mpld3.register_plugin(\"helloworld\", HelloWorld);\n",
      "    HelloWorld.prototype = Object.create(mpld3.Plugin.prototype);\n",
      "    HelloWorld.prototype.constructor = HelloWorld;\n",
      "    function HelloWorld(fig, props){\n",
      "        mpld3.Plugin.call(this, fig, props);\n",
      "    };\n",
      "    \n",
      "    HelloWorld.prototype.draw = function(){\n",
      "        this.fig.canvas.append(\"text\")\n",
      "            .text(\"hello world\")\n",
      "            .style(\"font-size\", 72)\n",
      "            .style(\"opacity\", 0.3)\n",
      "            .style(\"text-anchor\", \"middle\")\n",
      "            .attr(\"x\", this.fig.width / 2)\n",
      "            .attr(\"y\", this.fig.height / 2)\n",
      "    }\n",
      "    \n",
      "       mpld3.draw_figure(\"fig_el926444003186729531601938\", {\"axes\": [{\"xlim\": [0.0, 1.0], \"yscale\": \"linear\", \"axesbg\": \"#FFFFFF\", \"texts\": [], \"zoomable\": true, \"images\": [], \"xdomain\": [0.0, 1.0], \"ylim\": [0.0, 1.0], \"paths\": [], \"sharey\": [], \"sharex\": [], \"axesbgalpha\": null, \"axes\": [{\"scale\": \"linear\", \"tickformat\": null, \"grid\": {\"gridOn\": false}, \"fontsize\": 10.0, \"position\": \"bottom\", \"nticks\": 6, \"tickvalues\": null}, {\"scale\": \"linear\", \"tickformat\": null, \"grid\": {\"gridOn\": false}, \"fontsize\": 10.0, \"position\": \"left\", \"nticks\": 6, \"tickvalues\": null}], \"lines\": [], \"markers\": [], \"id\": \"el92644400026640\", \"ydomain\": [0.0, 1.0], \"collections\": [], \"xscale\": \"linear\", \"bbox\": [0.125, 0.125, 0.77500000000000002, 0.77500000000000002]}], \"height\": 320.0, \"width\": 480.0, \"plugins\": [{\"type\": \"reset\"}, {\"enabled\": false, \"button\": true, \"type\": \"zoom\"}, {\"enabled\": false, \"button\": true, \"type\": \"boxzoom\"}, {\"type\": \"helloworld\"}], \"data\": {}, \"id\": \"el92644400318672\"});\n",
      "  }(mpld3);\n",
      "\n",
      "\n",
      "</script>\n"
     ]
    }
   ],
   "source": [
    "print(mpld3.fig_to_html(fig, template_type=\"simple\"))"
   ]
  },
  {
   "cell_type": "markdown",
   "metadata": {},
   "source": [
    "There, right in the middle of our script, is our ``HelloWorld`` plugin definition!\n",
    "\n",
    "Note also that in the JSON definition at the bottom of the output, we see the following piece: ``\"plugins\": [..., {\"type\": \"helloworld\"}]``. This is what actually tells the ``draw_figure`` command that we want to connect the ``HelloWorld`` plugin to the figure."
   ]
  },
  {
   "cell_type": "markdown",
   "metadata": {},
   "source": [
    "### What's happening in ``HelloWorld``"
   ]
  },
  {
   "cell_type": "markdown",
   "metadata": {},
   "source": [
    "Let's take a look at the ``HelloWorld`` javascript code.  First we have this piece:\n",
    "``` javascript   \n",
    "mpld3.register_plugin(\"helloworld\", HelloWorld);\n",
    "```\n",
    "This is the first piece of code you should have for every plugin. The function ``register_plugin(key, object)`` associates a ``key`` with a given plugin object, so that this key can be referenced in the figure JSON, as we saw above with the ``\"helloworld\"`` key.\n",
    "\n",
    "``` javascript\n",
    "HelloWorld.prototype = Object.create(mpld3.Plugin.prototype);\n",
    "HelloWorld.prototype.constructor = HelloWorld;\n",
    "function HelloWorld(fig, props){\n",
    "    mpld3.Plugin.call(this, fig, props);\n",
    "};\n",
    "```\n",
    "\n",
    "This piece might looks complicated, but to an experienced javascript programmer it's easily recognized as an object definition. Javascript is built on *prototypical inheritance*, which is a different approach than the class-based inheritance that you may be familiar with in Python.  What these lines do is to create a ``HelloWorld`` type which inherits from ``mpld3.Plugin``, and is initialized by the specified function.\n",
    "\n",
    "``` javascript\n",
    "HelloWorld.prototype.draw = function(){\n",
    "    this.fig.canvas.append(\"text\")\n",
    "        .text(\"hello world\")\n",
    "        .style(\"font-size\", 72)\n",
    "        .style(\"opacity\", 0.3)\n",
    "        .style(\"text-anchor\", \"middle\")\n",
    "        .attr(\"x\", this.fig.width / 2)\n",
    "        .attr(\"y\", this.fig.height / 2)\n",
    "}\n",
    "```\n",
    "\n",
    "This is the meat of the plugin: when the figure is drawn to the web page, the ``draw`` method of the plugin is called. Anyone familiar with ``d3`` should recognize exactly what's happening here.  ``this.fig`` references the figure object associated with the plugin instance, and the figure object holds a ``d3`` selection named ``canvas``. The canvas is the root element within the SVG created by ``mpld3.draw_figure``.\n",
    "\n",
    "We use standard d3 syntax to add an SVG text element to the canvas, and then adjust the content, position, and style to be what we want."
   ]
  },
  {
   "cell_type": "markdown",
   "metadata": {},
   "source": [
    "Finally, we can take a look at the Python side of things, snipping out the javascript for the time being:\n",
    "``` python\n",
    "class HelloWorld(plugins.PluginBase):\n",
    "    JAVASCRIPT = \"\"\" <snip> \"\"\"\n",
    "    def __init__(self):\n",
    "        self.dict_ = {\"type\": \"helloworld\"}\n",
    "```\n",
    "The ``__init__`` function simply defines a class member ``dict_``, which is a JSON serializable dictionary that is used to pass options from Python to javascript. When the plugin is connected to a figure, a JSON representation of ``dict_`` will be put in the ``\"plugins\"`` list, as we saw in the printout above.  Every plugin should have a ``\"type\"`` element in the ``dict_``, which should match the key used in ``mpld3.register_plugin`` on the javascript side.\n",
    "\n",
    "That's all there is to it!"
   ]
  },
  {
   "cell_type": "markdown",
   "metadata": {},
   "source": [
    "## A More Interesting Example: Point Information"
   ]
  },
  {
   "cell_type": "markdown",
   "metadata": {},
   "source": [
    "The above example may seem like an incredibly complicated way to add some text to the plot, and it is. The real power of plugins, though, comes from the ability to use d3 to poke around in the Document Object Model (DOM) and modify the elements based on user input.\n",
    "\n",
    "Here we'll do a more interesting plugin: we'll make it so that clicking on points brings up an alert box with information about the point."
   ]
  },
  {
   "cell_type": "code",
   "execution_count": 7,
   "metadata": {},
   "outputs": [
    {
     "data": {
      "image/png": "[encoded data removed]",
      "text/html": [
       "\n",
       "\n",
       "<style>\n",
       "\n",
       "</style>\n",
       "\n",
       "<div id=\"fig_el94841606189846885232552\"></div>\n",
       "<script>\n",
       "function mpld3_load_lib(url, callback){\n",
       "  var s = document.createElement('script');\n",
       "  s.src = url;\n",
       "  s.async = true;\n",
       "  s.onreadystatechange = s.onload = callback;\n",
       "  s.onerror = function(){console.warn(\"failed to load library \" + url);};\n",
       "  document.getElementsByTagName(\"head\")[0].appendChild(s);\n",
       "}\n",
       "\n",
       "if(typeof(mpld3) !== \"undefined\" && mpld3._mpld3IsLoaded){\n",
       "   // already loaded: just create the figure\n",
       "   !function(mpld3){\n",
       "       \n",
       "    mpld3.register_plugin(\"clickinfo\", ClickInfo);\n",
       "    ClickInfo.prototype = Object.create(mpld3.Plugin.prototype);\n",
       "    ClickInfo.prototype.constructor = ClickInfo;\n",
       "    ClickInfo.prototype.requiredProps = [\"id\"];\n",
       "    function ClickInfo(fig, props){\n",
       "        mpld3.Plugin.call(this, fig, props);\n",
       "    };\n",
       "    \n",
       "    ClickInfo.prototype.draw = function(){\n",
       "        var obj = mpld3.get_element(this.props.id);\n",
       "        obj.elements().on(\"mousedown\",\n",
       "                          function(d, i){alert(\"clicked on points[\" + i + \"]\");});\n",
       "    }\n",
       "    \n",
       "       mpld3.draw_figure(\"fig_el94841606189846885232552\", {\"width\": 432.0, \"height\": 288.0, \"axes\": [{\"bbox\": [0.125, 0.125, 0.775, 0.755], \"xlim\": [-0.06652298635762194, 1.084563191234822], \"ylim\": [-0.09303613728014191, 1.0802717264680297], \"xdomain\": [-0.06652298635762194, 1.084563191234822], \"ydomain\": [-0.09303613728014191, 1.0802717264680297], \"xscale\": \"linear\", \"yscale\": \"linear\", \"axes\": [{\"position\": \"bottom\", \"nticks\": 8, \"tickvalues\": null, \"tickformat\": null, \"scale\": \"linear\", \"fontsize\": 10.0, \"grid\": {\"gridOn\": false}, \"visible\": true}, {\"position\": \"left\", \"nticks\": 8, \"tickvalues\": null, \"tickformat\": null, \"scale\": \"linear\", \"fontsize\": 10.0, \"grid\": {\"gridOn\": false}, \"visible\": true}], \"axesbg\": \"#FFFFFF\", \"axesbgalpha\": null, \"zoomable\": true, \"id\": \"el9484160681432\", \"lines\": [], \"paths\": [], \"markers\": [], \"texts\": [], \"collections\": [{\"offsets\": \"data01\", \"xindex\": 0, \"yindex\": 1, \"paths\": [[[[0.0, -0.5], [0.13260155, -0.5], [0.25978993539242673, -0.44731684579412084], [0.3535533905932738, -0.3535533905932738], [0.44731684579412084, -0.25978993539242673], [0.5, -0.13260155], [0.5, 0.0], [0.5, 0.13260155], [0.44731684579412084, 0.25978993539242673], [0.3535533905932738, 0.3535533905932738], [0.25978993539242673, 0.44731684579412084], [0.13260155, 0.5], [0.0, 0.5], [-0.13260155, 0.5], [-0.25978993539242673, 0.44731684579412084], [-0.3535533905932738, 0.3535533905932738], [-0.44731684579412084, 0.25978993539242673], [-0.5, 0.13260155], [-0.5, 0.0], [-0.5, -0.13260155], [-0.44731684579412084, -0.25978993539242673], [-0.3535533905932738, -0.3535533905932738], [-0.25978993539242673, -0.44731684579412084], [-0.13260155, -0.5], [0.0, -0.5]], [\"M\", \"C\", \"C\", \"C\", \"C\", \"C\", \"C\", \"C\", \"C\", \"Z\"]]], \"pathtransforms\": [[22.360679774997898, 0.0, 0.0, 22.360679774997898, 0.0, 0.0]], \"alphas\": [0.3], \"edgecolors\": [\"#1F77B4\"], \"facecolors\": [\"#1F77B4\"], \"edgewidths\": [1.0], \"offsetcoordinates\": \"data\", \"pathcoordinates\": \"display\", \"zorder\": 1, \"id\": \"el9484160616912\"}], \"images\": [], \"sharex\": [], \"sharey\": []}], \"data\": {\"data01\": [[0.44712537861762736, 0.6974287731445636], [0.8464086724711278, 0.45354268267806885], [0.6994792753175043, 0.7220555994703479], [0.29743695085513366, 0.8663823259286292], [0.8137978197024772, 0.9755215050028858], [0.39650574084698464, 0.855803342392611], [0.8811031971111616, 0.011714084185001972], [0.5812728726358587, 0.3599780644783639], [0.8817353618548528, 0.729990562424058], [0.6925315900777659, 0.17162967726144052], [0.7252542798196405, 0.5210366062041293], [0.5013243819267023, 0.05433798833925363], [0.9560836347232239, 0.19999652489640007], [0.6439901992296374, 0.01852179446061397], [0.4238550485581797, 0.7936977033574206], [0.6063932141279244, 0.22392468806038013], [0.019193198309333526, 0.3453516806969027], [0.30157481667454933, 0.9280812934655909], [0.660173537492685, 0.7044144019235328], [0.29007760721044407, 0.03183892953130785], [0.6180154289988415, 0.16469415649791275], [0.42876870094576613, 0.6214784014997635], [0.13547406422245023, 0.5772285886041676], [0.29828232595603077, 0.23789282137450862], [0.5699649107012649, 0.9342139979247938], [0.5908727612481732, 0.613965955965896], [0.5743252488495788, 0.5356328030249583], [0.6532008198571336, 0.589909976354571], [0.6521032700016889, 0.7301220295167696], [0.43141843543397396, 0.31194499547960186], [0.896546595851063, 0.3982210622160919], [0.36756187004789653, 0.20984374897512215], [0.4358649252656268, 0.18619300588033616], [0.8919233550156721, 0.9443723899839336], [0.8061939890460857, 0.7395507950492876], [0.7038885835403663, 0.4904588086175671], [0.10022688731230112, 0.22741462797332324], [0.9194826137446735, 0.25435648177039294], [0.7142412995491114, 0.05802916032387562], [0.9988470065678665, 0.4344166255581208], [0.14944830465799375, 0.3117958819941026], [0.8681260573682142, 0.6963434888154595], [0.16249293467637482, 0.3777518392924809], [0.6155595642838442, 0.1796036775596348], [0.12381998284944151, 0.02467872839133123], [0.8480082293222344, 0.06724963146324858], [0.8073189587250107, 0.6793927734985673], [0.5691007386145933, 0.4536968445560453], [0.40718329722599966, 0.5365792111087222], [0.06916699545513805, 0.8966712930403421]]}, \"id\": \"el9484160618984\", \"plugins\": [{\"type\": \"reset\"}, {\"type\": \"zoom\", \"button\": true, \"enabled\": false}, {\"type\": \"boxzoom\", \"button\": true, \"enabled\": false}, {\"type\": \"clickinfo\", \"id\": \"el9484160616912\"}]});\n",
       "   }(mpld3);\n",
       "}else if(typeof define === \"function\" && define.amd){\n",
       "   // require.js is available: use it to load d3/mpld3\n",
       "   require.config({paths: {d3: \"https://mpld3.github.io/js/d3.v3.min\"}});\n",
       "   require([\"d3\"], function(d3){\n",
       "      window.d3 = d3;\n",
       "      mpld3_load_lib(\"https://mpld3.github.io/js/mpld3.v0.3.js\", function(){\n",
       "         \n",
       "    mpld3.register_plugin(\"clickinfo\", ClickInfo);\n",
       "    ClickInfo.prototype = Object.create(mpld3.Plugin.prototype);\n",
       "    ClickInfo.prototype.constructor = ClickInfo;\n",
       "    ClickInfo.prototype.requiredProps = [\"id\"];\n",
       "    function ClickInfo(fig, props){\n",
       "        mpld3.Plugin.call(this, fig, props);\n",
       "    };\n",
       "    \n",
       "    ClickInfo.prototype.draw = function(){\n",
       "        var obj = mpld3.get_element(this.props.id);\n",
       "        obj.elements().on(\"mousedown\",\n",
       "                          function(d, i){alert(\"clicked on points[\" + i + \"]\");});\n",
       "    }\n",
       "    \n",
       "         mpld3.draw_figure(\"fig_el94841606189846885232552\", {\"width\": 432.0, \"height\": 288.0, \"axes\": [{\"bbox\": [0.125, 0.125, 0.775, 0.755], \"xlim\": [-0.06652298635762194, 1.084563191234822], \"ylim\": [-0.09303613728014191, 1.0802717264680297], \"xdomain\": [-0.06652298635762194, 1.084563191234822], \"ydomain\": [-0.09303613728014191, 1.0802717264680297], \"xscale\": \"linear\", \"yscale\": \"linear\", \"axes\": [{\"position\": \"bottom\", \"nticks\": 8, \"tickvalues\": null, \"tickformat\": null, \"scale\": \"linear\", \"fontsize\": 10.0, \"grid\": {\"gridOn\": false}, \"visible\": true}, {\"position\": \"left\", \"nticks\": 8, \"tickvalues\": null, \"tickformat\": null, \"scale\": \"linear\", \"fontsize\": 10.0, \"grid\": {\"gridOn\": false}, \"visible\": true}], \"axesbg\": \"#FFFFFF\", \"axesbgalpha\": null, \"zoomable\": true, \"id\": \"el9484160681432\", \"lines\": [], \"paths\": [], \"markers\": [], \"texts\": [], \"collections\": [{\"offsets\": \"data01\", \"xindex\": 0, \"yindex\": 1, \"paths\": [[[[0.0, -0.5], [0.13260155, -0.5], [0.25978993539242673, -0.44731684579412084], [0.3535533905932738, -0.3535533905932738], [0.44731684579412084, -0.25978993539242673], [0.5, -0.13260155], [0.5, 0.0], [0.5, 0.13260155], [0.44731684579412084, 0.25978993539242673], [0.3535533905932738, 0.3535533905932738], [0.25978993539242673, 0.44731684579412084], [0.13260155, 0.5], [0.0, 0.5], [-0.13260155, 0.5], [-0.25978993539242673, 0.44731684579412084], [-0.3535533905932738, 0.3535533905932738], [-0.44731684579412084, 0.25978993539242673], [-0.5, 0.13260155], [-0.5, 0.0], [-0.5, -0.13260155], [-0.44731684579412084, -0.25978993539242673], [-0.3535533905932738, -0.3535533905932738], [-0.25978993539242673, -0.44731684579412084], [-0.13260155, -0.5], [0.0, -0.5]], [\"M\", \"C\", \"C\", \"C\", \"C\", \"C\", \"C\", \"C\", \"C\", \"Z\"]]], \"pathtransforms\": [[22.360679774997898, 0.0, 0.0, 22.360679774997898, 0.0, 0.0]], \"alphas\": [0.3], \"edgecolors\": [\"#1F77B4\"], \"facecolors\": [\"#1F77B4\"], \"edgewidths\": [1.0], \"offsetcoordinates\": \"data\", \"pathcoordinates\": \"display\", \"zorder\": 1, \"id\": \"el9484160616912\"}], \"images\": [], \"sharex\": [], \"sharey\": []}], \"data\": {\"data01\": [[0.44712537861762736, 0.6974287731445636], [0.8464086724711278, 0.45354268267806885], [0.6994792753175043, 0.7220555994703479], [0.29743695085513366, 0.8663823259286292], [0.8137978197024772, 0.9755215050028858], [0.39650574084698464, 0.855803342392611], [0.8811031971111616, 0.011714084185001972], [0.5812728726358587, 0.3599780644783639], [0.8817353618548528, 0.729990562424058], [0.6925315900777659, 0.17162967726144052], [0.7252542798196405, 0.5210366062041293], [0.5013243819267023, 0.05433798833925363], [0.9560836347232239, 0.19999652489640007], [0.6439901992296374, 0.01852179446061397], [0.4238550485581797, 0.7936977033574206], [0.6063932141279244, 0.22392468806038013], [0.019193198309333526, 0.3453516806969027], [0.30157481667454933, 0.9280812934655909], [0.660173537492685, 0.7044144019235328], [0.29007760721044407, 0.03183892953130785], [0.6180154289988415, 0.16469415649791275], [0.42876870094576613, 0.6214784014997635], [0.13547406422245023, 0.5772285886041676], [0.29828232595603077, 0.23789282137450862], [0.5699649107012649, 0.9342139979247938], [0.5908727612481732, 0.613965955965896], [0.5743252488495788, 0.5356328030249583], [0.6532008198571336, 0.589909976354571], [0.6521032700016889, 0.7301220295167696], [0.43141843543397396, 0.31194499547960186], [0.896546595851063, 0.3982210622160919], [0.36756187004789653, 0.20984374897512215], [0.4358649252656268, 0.18619300588033616], [0.8919233550156721, 0.9443723899839336], [0.8061939890460857, 0.7395507950492876], [0.7038885835403663, 0.4904588086175671], [0.10022688731230112, 0.22741462797332324], [0.9194826137446735, 0.25435648177039294], [0.7142412995491114, 0.05802916032387562], [0.9988470065678665, 0.4344166255581208], [0.14944830465799375, 0.3117958819941026], [0.8681260573682142, 0.6963434888154595], [0.16249293467637482, 0.3777518392924809], [0.6155595642838442, 0.1796036775596348], [0.12381998284944151, 0.02467872839133123], [0.8480082293222344, 0.06724963146324858], [0.8073189587250107, 0.6793927734985673], [0.5691007386145933, 0.4536968445560453], [0.40718329722599966, 0.5365792111087222], [0.06916699545513805, 0.8966712930403421]]}, \"id\": \"el9484160618984\", \"plugins\": [{\"type\": \"reset\"}, {\"type\": \"zoom\", \"button\": true, \"enabled\": false}, {\"type\": \"boxzoom\", \"button\": true, \"enabled\": false}, {\"type\": \"clickinfo\", \"id\": \"el9484160616912\"}]});\n",
       "      });\n",
       "    });\n",
       "}else{\n",
       "    // require.js not available: dynamically load d3 & mpld3\n",
       "    mpld3_load_lib(\"https://mpld3.github.io/js/d3.v3.min.js\", function(){\n",
       "         mpld3_load_lib(\"https://mpld3.github.io/js/mpld3.v0.3.js\", function(){\n",
       "                 \n",
       "    mpld3.register_plugin(\"clickinfo\", ClickInfo);\n",
       "    ClickInfo.prototype = Object.create(mpld3.Plugin.prototype);\n",
       "    ClickInfo.prototype.constructor = ClickInfo;\n",
       "    ClickInfo.prototype.requiredProps = [\"id\"];\n",
       "    function ClickInfo(fig, props){\n",
       "        mpld3.Plugin.call(this, fig, props);\n",
       "    };\n",
       "    \n",
       "    ClickInfo.prototype.draw = function(){\n",
       "        var obj = mpld3.get_element(this.props.id);\n",
       "        obj.elements().on(\"mousedown\",\n",
       "                          function(d, i){alert(\"clicked on points[\" + i + \"]\");});\n",
       "    }\n",
       "    \n",
       "                 mpld3.draw_figure(\"fig_el94841606189846885232552\", {\"width\": 432.0, \"height\": 288.0, \"axes\": [{\"bbox\": [0.125, 0.125, 0.775, 0.755], \"xlim\": [-0.06652298635762194, 1.084563191234822], \"ylim\": [-0.09303613728014191, 1.0802717264680297], \"xdomain\": [-0.06652298635762194, 1.084563191234822], \"ydomain\": [-0.09303613728014191, 1.0802717264680297], \"xscale\": \"linear\", \"yscale\": \"linear\", \"axes\": [{\"position\": \"bottom\", \"nticks\": 8, \"tickvalues\": null, \"tickformat\": null, \"scale\": \"linear\", \"fontsize\": 10.0, \"grid\": {\"gridOn\": false}, \"visible\": true}, {\"position\": \"left\", \"nticks\": 8, \"tickvalues\": null, \"tickformat\": null, \"scale\": \"linear\", \"fontsize\": 10.0, \"grid\": {\"gridOn\": false}, \"visible\": true}], \"axesbg\": \"#FFFFFF\", \"axesbgalpha\": null, \"zoomable\": true, \"id\": \"el9484160681432\", \"lines\": [], \"paths\": [], \"markers\": [], \"texts\": [], \"collections\": [{\"offsets\": \"data01\", \"xindex\": 0, \"yindex\": 1, \"paths\": [[[[0.0, -0.5], [0.13260155, -0.5], [0.25978993539242673, -0.44731684579412084], [0.3535533905932738, -0.3535533905932738], [0.44731684579412084, -0.25978993539242673], [0.5, -0.13260155], [0.5, 0.0], [0.5, 0.13260155], [0.44731684579412084, 0.25978993539242673], [0.3535533905932738, 0.3535533905932738], [0.25978993539242673, 0.44731684579412084], [0.13260155, 0.5], [0.0, 0.5], [-0.13260155, 0.5], [-0.25978993539242673, 0.44731684579412084], [-0.3535533905932738, 0.3535533905932738], [-0.44731684579412084, 0.25978993539242673], [-0.5, 0.13260155], [-0.5, 0.0], [-0.5, -0.13260155], [-0.44731684579412084, -0.25978993539242673], [-0.3535533905932738, -0.3535533905932738], [-0.25978993539242673, -0.44731684579412084], [-0.13260155, -0.5], [0.0, -0.5]], [\"M\", \"C\", \"C\", \"C\", \"C\", \"C\", \"C\", \"C\", \"C\", \"Z\"]]], \"pathtransforms\": [[22.360679774997898, 0.0, 0.0, 22.360679774997898, 0.0, 0.0]], \"alphas\": [0.3], \"edgecolors\": [\"#1F77B4\"], \"facecolors\": [\"#1F77B4\"], \"edgewidths\": [1.0], \"offsetcoordinates\": \"data\", \"pathcoordinates\": \"display\", \"zorder\": 1, \"id\": \"el9484160616912\"}], \"images\": [], \"sharex\": [], \"sharey\": []}], \"data\": {\"data01\": [[0.44712537861762736, 0.6974287731445636], [0.8464086724711278, 0.45354268267806885], [0.6994792753175043, 0.7220555994703479], [0.29743695085513366, 0.8663823259286292], [0.8137978197024772, 0.9755215050028858], [0.39650574084698464, 0.855803342392611], [0.8811031971111616, 0.011714084185001972], [0.5812728726358587, 0.3599780644783639], [0.8817353618548528, 0.729990562424058], [0.6925315900777659, 0.17162967726144052], [0.7252542798196405, 0.5210366062041293], [0.5013243819267023, 0.05433798833925363], [0.9560836347232239, 0.19999652489640007], [0.6439901992296374, 0.01852179446061397], [0.4238550485581797, 0.7936977033574206], [0.6063932141279244, 0.22392468806038013], [0.019193198309333526, 0.3453516806969027], [0.30157481667454933, 0.9280812934655909], [0.660173537492685, 0.7044144019235328], [0.29007760721044407, 0.03183892953130785], [0.6180154289988415, 0.16469415649791275], [0.42876870094576613, 0.6214784014997635], [0.13547406422245023, 0.5772285886041676], [0.29828232595603077, 0.23789282137450862], [0.5699649107012649, 0.9342139979247938], [0.5908727612481732, 0.613965955965896], [0.5743252488495788, 0.5356328030249583], [0.6532008198571336, 0.589909976354571], [0.6521032700016889, 0.7301220295167696], [0.43141843543397396, 0.31194499547960186], [0.896546595851063, 0.3982210622160919], [0.36756187004789653, 0.20984374897512215], [0.4358649252656268, 0.18619300588033616], [0.8919233550156721, 0.9443723899839336], [0.8061939890460857, 0.7395507950492876], [0.7038885835403663, 0.4904588086175671], [0.10022688731230112, 0.22741462797332324], [0.9194826137446735, 0.25435648177039294], [0.7142412995491114, 0.05802916032387562], [0.9988470065678665, 0.4344166255581208], [0.14944830465799375, 0.3117958819941026], [0.8681260573682142, 0.6963434888154595], [0.16249293467637482, 0.3777518392924809], [0.6155595642838442, 0.1796036775596348], [0.12381998284944151, 0.02467872839133123], [0.8480082293222344, 0.06724963146324858], [0.8073189587250107, 0.6793927734985673], [0.5691007386145933, 0.4536968445560453], [0.40718329722599966, 0.5365792111087222], [0.06916699545513805, 0.8966712930403421]]}, \"id\": \"el9484160618984\", \"plugins\": [{\"type\": \"reset\"}, {\"type\": \"zoom\", \"button\": true, \"enabled\": false}, {\"type\": \"boxzoom\", \"button\": true, \"enabled\": false}, {\"type\": \"clickinfo\", \"id\": \"el9484160616912\"}]});\n",
       "            })\n",
       "         });\n",
       "}\n",
       "</script>"
      ],
      "text/plain": [
       "<matplotlib.figure.Figure at 0x992d9e8>"
      ]
     },
     "metadata": {},
     "output_type": "display_data"
    }
   ],
   "source": [
    "from mpld3 import utils\n",
    "\n",
    "class ClickInfo(plugins.PluginBase):\n",
    "    \"\"\"Plugin for getting info on click\"\"\"\n",
    "    \n",
    "    JAVASCRIPT = \"\"\"\n",
    "    mpld3.register_plugin(\"clickinfo\", ClickInfo);\n",
    "    ClickInfo.prototype = Object.create(mpld3.Plugin.prototype);\n",
    "    ClickInfo.prototype.constructor = ClickInfo;\n",
    "    ClickInfo.prototype.requiredProps = [\"id\"];\n",
    "    function ClickInfo(fig, props){\n",
    "        mpld3.Plugin.call(this, fig, props);\n",
    "    };\n",
    "    \n",
    "    ClickInfo.prototype.draw = function(){\n",
    "        var obj = mpld3.get_element(this.props.id);\n",
    "        obj.elements().on(\"mousedown\",\n",
    "                          function(d, i){alert(\"clicked on points[\" + i + \"]\");});\n",
    "    }\n",
    "    \"\"\"\n",
    "    def __init__(self, points):\n",
    "        self.dict_ = {\"type\": \"clickinfo\",\n",
    "                      \"id\": utils.get_id(points)}\n",
    "        \n",
    "fig, ax = plt.subplots()\n",
    "points = ax.scatter(np.random.rand(50), np.random.rand(50),\n",
    "                    s=500, alpha=0.3)\n",
    "\n",
    "plugins.connect(fig, ClickInfo(points))"
   ]
  },
  {
   "cell_type": "markdown",
   "metadata": {},
   "source": [
    "If you click on any of the above points, you should see a browser alert box which tells you which point you clicked on!\n",
    "\n",
    "There are just a couple extra pieces here beyond what we saw in the previous example.  On the javascript side, we have this addition to the class prototype definition:\n",
    "``` javascript\n",
    "ClickInfo.prototype.requiredProps = [\"id\"];\n",
    "```\n",
    "This tells us that the plugin expects to be passed a property named ``\"id\"``, which in this case points to the plot elements that are the subject of the interaction.  This id is generated by the python script, and we can find it using the ``utils.get_id`` utility:"
   ]
  },
  {
   "cell_type": "code",
   "execution_count": 9,
   "metadata": {},
   "outputs": [
    {
     "data": {
      "text/plain": [
       "'el92644400590224'"
      ]
     },
     "execution_count": 9,
     "metadata": {},
     "output_type": "execute_result"
    }
   ],
   "source": [
    "utils.get_id(points)"
   ]
  },
  {
   "cell_type": "markdown",
   "metadata": {},
   "source": [
    "This output is passed to the ``dict_`` attribute in Python, which is in turn passed to the ``props`` attribute in Javascript.  Because the same ``get_id`` utility is used to find the id when the points are first drawn, we can use this id to locate the correct plot elements.  Finally, we do some typical ``d3`` gymnastics and write the following:\n",
    "``` javascript\n",
    "var obj = mpld3.get_element(this.props.id);\n",
    "obj.elements().on(\"mousedown\",\n",
    "                  function(d, i){alert(\"clicked on points[\" + i + \"]\");});\n",
    "```\n",
    "The ``mpld3.get_element`` function in javascript essentially does the opposite of the ``utils.get_id`` function in Python: it maps from the id to the Javascript object containing the points.  Once the elements of this plot object are accessed, all it takes is a simple ``on(\"mousedown\", ...)`` command to add the desired behavior."
   ]
  },
  {
   "cell_type": "markdown",
   "metadata": {},
   "source": [
    "## Conclusion"
   ]
  },
  {
   "cell_type": "markdown",
   "metadata": {},
   "source": [
    "We've just scraped the surface of what you can do with mpld3 plugins, but hopefully the above discussion is enough to get you started in defining your own interactive behaviors.  With a familiarity with D3, the possibilities really are endless. For ideas, you can check out some of the plugins built-in to the mpld3 library (they're defined just like this, except much of the javascript is bundled with the main mpld3 source!). There are also some interesting examples in the [mpld3 gallery](http://mpld3.github.io/examples/index.html).  If you come up with something you'd like to share, feel free to submit it as a pull request to the main mpld3 gallery: we'd love to see it!"
   ]
  }
 ],
 "metadata": {
  "kernelspec": {
   "display_name": "Python 3",
   "language": "python",
   "name": "python3"
  },
  "language_info": {
   "codemirror_mode": {
    "name": "ipython",
    "version": 3
   },
   "file_extension": ".py",
   "mimetype": "text/x-python",
   "name": "python",
   "nbconvert_exporter": "python",
   "pygments_lexer": "ipython3",
   "version": "3.6.1"
  },
  "varInspector": {
   "cols": {
    "lenName": 16,
    "lenType": 16,
    "lenVar": 40
   },
   "kernels_config": {
    "python": {
     "delete_cmd_postfix": "",
     "delete_cmd_prefix": "del ",
     "library": "var_list.py",
     "varRefreshCmd": "print(var_dic_list())"
    },
    "r": {
     "delete_cmd_postfix": ") ",
     "delete_cmd_prefix": "rm(",
     "library": "var_list.r",
     "varRefreshCmd": "cat(var_dic_list()) "
    }
   },
   "types_to_exclude": [
    "module",
    "function",
    "builtin_function_or_method",
    "instance",
    "_Feature"
   ],
   "window_display": false
  }
 },
 "nbformat": 4,
 "nbformat_minor": 1
}
