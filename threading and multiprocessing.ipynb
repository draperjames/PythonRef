{
 "cells": [
  {
   "cell_type": "markdown",
   "metadata": {
    "deletable": true,
    "editable": true
   },
   "source": [
    "# threading\n",
    "## Resources;     \n",
    "[multiprocessing module](https://docs.python.org/3.5/library/multiprocessing.html)    \n",
    "[Parallelism in one line](http://chriskiehl.com/article/parallelism-in-one-line/)\n"
   ]
  },
  {
   "cell_type": "code",
   "execution_count": 2,
   "metadata": {
    "collapsed": true,
    "deletable": true,
    "editable": true
   },
   "outputs": [],
   "source": [
    "from urllib import request\n",
    "from multiprocessing.dummy import Pool as ThreadPool "
   ]
  },
  {
   "cell_type": "code",
   "execution_count": 4,
   "metadata": {
    "collapsed": true,
    "deletable": true,
    "editable": true
   },
   "outputs": [],
   "source": [
    "urls = [\n",
    "  'http://www.python.org', \n",
    "  'http://www.python.org/about/',\n",
    "  'http://www.onlamp.com/pub/a/python/2003/04/17/metaclasses.html',\n",
    "  'http://www.python.org/doc/',\n",
    "  'http://www.python.org/download/',\n",
    "  'http://www.python.org/getit/',\n",
    "  'http://www.python.org/community/',\n",
    "  'https://wiki.python.org/moin/',\n",
    "  'http://planet.python.org/',\n",
    "  'https://wiki.python.org/moin/LocalUserGroups',\n",
    "  'http://www.python.org/psf/',\n",
    "  'http://docs.python.org/devguide/',\n",
    "  'http://www.python.org/community/awards/'\n",
    "  # etc.. \n",
    "  ]"
   ]
  },
  {
   "cell_type": "code",
   "execution_count": 2,
   "metadata": {
    "collapsed": false,
    "deletable": true,
    "editable": true
   },
   "outputs": [],
   "source": [
    "# Make the Pool of workers\n",
    "pool = ThreadPool(4) \n",
    "# Open the urls in their own threads\n",
    "# and return the results\n",
    "results = pool.map(request.urlopen, urls)\n",
    "#close the pool and wait for the work to finish \n",
    "pool.close() \n",
    "pool.join() "
   ]
  },
  {
   "cell_type": "code",
   "execution_count": 4,
   "metadata": {
    "collapsed": true,
    "deletable": true,
    "editable": true
   },
   "outputs": [],
   "source": [
    "pool = ThreadPool(4)"
   ]
  },
  {
   "cell_type": "code",
   "execution_count": 5,
   "metadata": {
    "collapsed": false,
    "deletable": true,
    "editable": true
   },
   "outputs": [
    {
     "name": "stdout",
     "output_type": "stream",
     "text": [
      "1 loop, best of 3: 1.22 s per loop\n"
     ]
    }
   ],
   "source": [
    "%timeit pool.map(request.urlopen, urls)"
   ]
  },
  {
   "cell_type": "code",
   "execution_count": 6,
   "metadata": {
    "collapsed": true,
    "deletable": true,
    "editable": true
   },
   "outputs": [],
   "source": [
    "pool.close()\n",
    "pool.join()"
   ]
  },
  {
   "cell_type": "code",
   "execution_count": 5,
   "metadata": {
    "collapsed": false,
    "deletable": true,
    "editable": true
   },
   "outputs": [
    {
     "name": "stdout",
     "output_type": "stream",
     "text": [
      "The slowest run took 9.59 times longer than the fastest. This could mean that an intermediate result is being cached.\n",
      "1000000 loops, best of 3: 494 ns per loop\n"
     ]
    }
   ],
   "source": [
    "%timeit map(request.urlopen, urls)"
   ]
  },
  {
   "cell_type": "markdown",
   "metadata": {
    "deletable": true,
    "editable": true
   },
   "source": [
    "---"
   ]
  },
  {
   "cell_type": "code",
   "execution_count": 40,
   "metadata": {
    "collapsed": false,
    "deletable": true,
    "editable": true
   },
   "outputs": [
    {
     "name": "stdout",
     "output_type": "stream",
     "text": [
      "10 loops, best of 3: 47.8 ms per loop\n"
     ]
    }
   ],
   "source": [
    "from multiprocessing import cpu_count\n",
    "from multiprocessing.pool import ThreadPool \n",
    "\n",
    "\n",
    "cpu_num = multiprocessing.cpu_count() \n",
    "\n",
    "# Make the Pool of workers\n",
    "pool = ThreadPool(cpu_num)\n",
    "%timeit results = pool.map(lambda x:x**2,range(100000))\n",
    "# %timeit results = pool.apply(PreProcess,args=(peptide_file,protein_file))\n",
    "pool.close()\n",
    "pool.join()"
   ]
  },
  {
   "cell_type": "code",
   "execution_count": 34,
   "metadata": {
    "collapsed": false,
    "deletable": true,
    "editable": true
   },
   "outputs": [],
   "source": [
    "# list(range(1000))"
   ]
  },
  {
   "cell_type": "markdown",
   "metadata": {
    "deletable": true,
    "editable": true
   },
   "source": [
    "---"
   ]
  },
  {
   "cell_type": "code",
   "execution_count": 41,
   "metadata": {
    "collapsed": false,
    "deletable": true,
    "editable": true
   },
   "outputs": [
    {
     "name": "stdout",
     "output_type": "stream",
     "text": [
      "The slowest run took 5.34 times longer than the fastest. This could mean that an intermediate result is being cached.\n",
      "1000000 loops, best of 3: 296 ns per loop\n"
     ]
    }
   ],
   "source": [
    "things = range(100000)\n",
    "%timeit map(lambda x:x**2, things)"
   ]
  },
  {
   "cell_type": "code",
   "execution_count": 42,
   "metadata": {
    "collapsed": false,
    "deletable": true,
    "editable": true
   },
   "outputs": [
    {
     "name": "stdout",
     "output_type": "stream",
     "text": [
      "10 loops, best of 3: 47.3 ms per loop\n"
     ]
    }
   ],
   "source": [
    "# from multiprocessing.dummy import Pool as ThreadPool\n",
    "pool = ThreadPool(4)\n",
    "things = range(100000)\n",
    "%timeit results = pool.map(lambda x:x**2,things)"
   ]
  },
  {
   "cell_type": "code",
   "execution_count": 5,
   "metadata": {
    "collapsed": true,
    "deletable": true,
    "editable": true
   },
   "outputs": [],
   "source": [
    "pool.close()\n",
    "pool.join()"
   ]
  },
  {
   "cell_type": "markdown",
   "metadata": {
    "collapsed": true,
    "deletable": true,
    "editable": true
   },
   "source": [
    "---\n",
    "# [QuantStart](https://www.quantstart.com/articles/Parallelising-Python-with-Threading-and-Multiprocessing)"
   ]
  },
  {
   "cell_type": "code",
   "execution_count": 12,
   "metadata": {
    "collapsed": false,
    "deletable": true,
    "editable": true
   },
   "outputs": [],
   "source": [
    "\n",
    "import random\n",
    "import threading\n",
    "\n",
    "\n",
    "def list_append(count, id, out_list):\n",
    "\t\"\"\"\n",
    "\tCreates an empty list and then appends a \n",
    "\trandom number to the list 'count' number\n",
    "\tof times. A CPU-heavy operation!\n",
    "\t\"\"\"\n",
    "\tfor i in range(count):\n",
    "\t\tout_list.append(random.random())\n",
    "        \n",
    "def threader():\n",
    "    size = 10000000   # Number of random numbers to add\n",
    "    threads = 2   # Number of threads to create\n",
    "\n",
    "    # Create a list of jobs and then iterate through\n",
    "    # the number of threads appending each thread to\n",
    "    # the job list \n",
    "    jobs = []\n",
    "    for i in range(0, threads):\n",
    "        out_list = list()\n",
    "        thread = threading.Thread(target=list_append(size, i, out_list))\n",
    "        jobs.append(thread)\n",
    "\n",
    "    # Start the threads (i.e. calculate the random number lists)\n",
    "    for j in jobs:\n",
    "        j.start()\n",
    "\n",
    "    # Ensure all of the threads have finished\n",
    "    for j in jobs:\n",
    "        j.join()\n",
    "    print(\"List processing complete.\")"
   ]
  },
  {
   "cell_type": "code",
   "execution_count": 19,
   "metadata": {
    "collapsed": false,
    "deletable": true,
    "editable": true
   },
   "outputs": [
    {
     "name": "stdout",
     "output_type": "stream",
     "text": [
      "List processing complete.\n",
      "List processing complete.\n",
      "List processing complete.\n",
      "List processing complete.\n",
      "1 loop, best of 3: 4.5 s per loop\n"
     ]
    }
   ],
   "source": [
    "%timeit threader()"
   ]
  },
  {
   "cell_type": "markdown",
   "metadata": {
    "deletable": true,
    "editable": true
   },
   "source": [
    "---"
   ]
  },
  {
   "cell_type": "code",
   "execution_count": 27,
   "metadata": {
    "collapsed": false,
    "deletable": true,
    "editable": true
   },
   "outputs": [],
   "source": [
    "import random\n",
    "import multiprocessing\n",
    "\n",
    "\n",
    "def list_append(count, id, out_list):\n",
    "    \"\"\"\n",
    "    Creates an empty list and then appends a \n",
    "    random number to the list 'count' number\n",
    "    of times. A CPU-heavy operation!\n",
    "    \"\"\"\n",
    "    for i in range(count):\n",
    "        out_list.append(random.random())\n",
    "def multi():\n",
    "    size = 10000000   # Number of random numbers to add\n",
    "    procs = 2   # Number of processes to create\n",
    "\n",
    "    # Create a list of jobs and then iterate through\n",
    "    # the number of processes appending each process to\n",
    "    # the job list \n",
    "    jobs = []\n",
    "    for i in range(procs):\n",
    "        out_list = list()\n",
    "        process = multiprocessing.Process(target=list_append, \n",
    "                                          args=(size, i, out_list))\n",
    "        jobs.append(process)\n",
    "\n",
    "    # Start the processes (i.e. calculate the random number lists)\t\t\n",
    "    for j in jobs:\n",
    "        j.start()\n",
    "\n",
    "    # Ensure all of the processes have finished\n",
    "    for j in jobs:\n",
    "        j.join()\n",
    "\n",
    "    print(\"List processing complete.\")"
   ]
  },
  {
   "cell_type": "code",
   "execution_count": 30,
   "metadata": {
    "collapsed": false,
    "deletable": true,
    "editable": true
   },
   "outputs": [
    {
     "name": "stdout",
     "output_type": "stream",
     "text": [
      "List processing complete.\n",
      "List processing complete.\n",
      "List processing complete.\n",
      "List processing complete.\n",
      "List processing complete.\n",
      "List processing complete.\n",
      "List processing complete.\n",
      "List processing complete.\n",
      "List processing complete.\n",
      "List processing complete.\n",
      "List processing complete.\n",
      "List processing complete.\n",
      "List processing complete.\n",
      "List processing complete.\n",
      "List processing complete.\n",
      "List processing complete.\n",
      "List processing complete.\n",
      "List processing complete.\n",
      "List processing complete.\n",
      "List processing complete.\n",
      "List processing complete.\n",
      "List processing complete.\n",
      "List processing complete.\n",
      "List processing complete.\n",
      "List processing complete.\n",
      "List processing complete.\n",
      "List processing complete.\n",
      "List processing complete.\n",
      "List processing complete.\n",
      "List processing complete.\n",
      "List processing complete.\n",
      "List processing complete.\n",
      "List processing complete.\n",
      "List processing complete.\n",
      "List processing complete.\n",
      "List processing complete.\n",
      "List processing complete.\n",
      "List processing complete.\n",
      "List processing complete.\n",
      "List processing complete.\n",
      "List processing complete.\n",
      "10 loops, best of 3: 137 ms per loop\n"
     ]
    }
   ],
   "source": [
    "%timeit multi()"
   ]
  },
  {
   "cell_type": "code",
   "execution_count": 43,
   "metadata": {
    "collapsed": true,
    "deletable": true,
    "editable": true
   },
   "outputs": [],
   "source": [
    "multiprocessing.Process?"
   ]
  },
  {
   "cell_type": "markdown",
   "metadata": {
    "collapsed": true,
    "deletable": true,
    "editable": true
   },
   "source": [
    "---"
   ]
  },
  {
   "cell_type": "code",
   "execution_count": null,
   "metadata": {
    "collapsed": false
   },
   "outputs": [],
   "source": [
    "from multiprocessing import Pool\n",
    "\n",
    "def f(x):\n",
    "    return x*x\n",
    "\n",
    "with Pool(4) as p:\n",
    "    print(p.map(f, [1, 2, 3]))"
   ]
  },
  {
   "cell_type": "code",
   "execution_count": 1,
   "metadata": {
    "collapsed": false
   },
   "outputs": [
    {
     "data": {
      "text/plain": [
       "True"
      ]
     },
     "execution_count": 1,
     "metadata": {},
     "output_type": "execute_result"
    }
   ],
   "source": [
    "import webbrowser\n",
    "\n",
    "url = 'http://docs.python.org/'\n",
    "\n",
    "# Open URL in a new tab, if a browser window is already open.\n",
    "webbrowser.open_new_tab(url)"
   ]
  },
  {
   "cell_type": "code",
   "execution_count": null,
   "metadata": {
    "collapsed": true
   },
   "outputs": [],
   "source": []
  }
 ],
 "metadata": {
  "kernelspec": {
   "display_name": "Python 3",
   "language": "python",
   "name": "python3"
  },
  "language_info": {
   "codemirror_mode": {
    "name": "ipython",
    "version": 3
   },
   "file_extension": ".py",
   "mimetype": "text/x-python",
   "name": "python",
   "nbconvert_exporter": "python",
   "pygments_lexer": "ipython3",
   "version": "3.6.0"
  }
 },
 "nbformat": 4,
 "nbformat_minor": 2
}
