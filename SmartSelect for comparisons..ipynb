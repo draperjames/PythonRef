{
 "cells": [
  {
   "cell_type": "code",
   "execution_count": 55,
   "metadata": {},
   "outputs": [
    {
     "data": {
      "application/vnd.jupyter.widget-view+json": {
       "model_id": "2bfcc7d694da455d9febbc015bf6077a",
       "version_major": 2,
       "version_minor": 0
      },
      "text/html": [
       "<p>Failed to display Jupyter Widget of type <code>HBox</code>.</p>\n",
       "<p>\n",
       "  If you're reading this message in Jupyter Notebook or JupyterLab, it may mean\n",
       "  that the widgets JavaScript is still loading. If this message persists, it\n",
       "  likely means that the widgets JavaScript library is either not installed or\n",
       "  not enabled. See the <a href=\"https://ipywidgets.readthedocs.io/en/stable/user_install.html\">Jupyter\n",
       "  Widgets Documentation</a> for setup instructions.\n",
       "</p>\n",
       "<p>\n",
       "  If you're reading this message in another notebook frontend (for example, a static\n",
       "  rendering on GitHub or <a href=\"https://nbviewer.jupyter.org/\">NBViewer</a>),\n",
       "  it may mean that your frontend doesn't currently support widgets.\n",
       "</p>\n"
      ],
      "text/plain": [
       "HBox(children=(VBox(children=(SelectMultiple(layout=Layout(height='200px'), options=(1, 2, 3, 4, 5), value=()), Button(description='select', style=ButtonStyle()))), VBox(children=(SmartSelect(layout=Layout(height='200px'), options=(), value=None), Button(description='Remove Selected', style=ButtonStyle()), Button(description='Clear All', style=ButtonStyle(button_color='red'))))))"
      ]
     },
     "metadata": {},
     "output_type": "display_data"
    }
   ],
   "source": [
    "from ipywidgets import widgets\n",
    "from ipywidgets import Select, SelectMultiple\n",
    "from traitlets import CInt\n",
    "\n",
    "class SmartSelect(Select):\n",
    "    comp_num = CInt(0).tag(sync=True)\n",
    "\n",
    "    def __init__(self, *args, **kwargs):\n",
    "        super().__init__(*args, **kwargs)\n",
    "    \n",
    "    def remove_option(self, item):\n",
    "        if len(self.options) > 1:\n",
    "            self.options = list(filter(lambda x: x is not item, self.options))\n",
    "\n",
    "lay = widgets.Layout(height='200px')\n",
    "opt = [1,2,3,4,5]\n",
    "sel = widgets.SelectMultiple(options=opt, layout=lay)\n",
    "res = SmartSelect(layout=lay)\n",
    "\n",
    "res_dict = dict()\n",
    "res.comp_num\n",
    "\n",
    "def make_selection(self):\n",
    "    res.comp_num += 1\n",
    "    comp = 'Comparison: {}'.format(res.comp_num)\n",
    "    res_dict[comp] = sel.value\n",
    "    res.options += (comp,)\n",
    "\n",
    "b0 = widgets.Button(description='select')\n",
    "b0.on_click(make_selection)\n",
    "\n",
    "def on_value_change(change):\n",
    "    if change['new'] is not None:\n",
    "        value = str(change[\"new\"])\n",
    "        sel.value = res_dict[value]\n",
    "\n",
    "res.observe(on_value_change, names='value')\n",
    "\n",
    "def clear_comparisons(self):\n",
    "    res.options = ()\n",
    "    res_dictt = dict()\n",
    "    \n",
    "clear_button = widgets.Button(description='Clear All')\n",
    "clear_button.on_click(clear_comparisons)\n",
    "clear_button.style.button_color = 'red'\n",
    "\n",
    "def remove_selected(self):\n",
    "    res.remove_option(res.value)\n",
    "    res._dict.pop(res.value)\n",
    "\n",
    "remove_selected_button = widgets.Button(description='Remove Selected')\n",
    "\n",
    "\n",
    "sel_pack = widgets.VBox([sel, b0])\n",
    "\n",
    "res_pack = widgets.VBox([res, remove_selected_button, clear_button])\n",
    "\n",
    "sel_con = widgets.HBox([sel_pack, res_pack])\n",
    "\n",
    "sel_con"
   ]
  },
  {
   "cell_type": "markdown",
   "metadata": {},
   "source": [
    "---"
   ]
  },
  {
   "cell_type": "code",
   "execution_count": 20,
   "metadata": {
    "scrolled": false
   },
   "outputs": [
    {
     "data": {
      "application/vnd.jupyter.widget-view+json": {
       "model_id": "7be34a955de8467ea437608ba394fb22",
       "version_major": 2,
       "version_minor": 0
      },
      "text/html": [
       "<p>Failed to display Jupyter Widget of type <code>HBox</code>.</p>\n",
       "<p>\n",
       "  If you're reading this message in Jupyter Notebook or JupyterLab, it may mean\n",
       "  that the widgets JavaScript is still loading. If this message persists, it\n",
       "  likely means that the widgets JavaScript library is either not installed or\n",
       "  not enabled. See the <a href=\"https://ipywidgets.readthedocs.io/en/stable/user_install.html\">Jupyter\n",
       "  Widgets Documentation</a> for setup instructions.\n",
       "</p>\n",
       "<p>\n",
       "  If you're reading this message in another notebook frontend (for example, a static\n",
       "  rendering on GitHub or <a href=\"https://nbviewer.jupyter.org/\">NBViewer</a>),\n",
       "  it may mean that your frontend doesn't currently support widgets.\n",
       "</p>\n"
      ],
      "text/plain": [
       "HBox(children=(VBox(children=(SelectMultiple(layout=Layout(height='200px'), options=(1, 2, 3, 4, 5), value=()), Button(description='select', style=ButtonStyle()))), VBox(children=(SmartSelect(layout=Layout(height='200px'), options=(), value=None), Button(description='Remove Selected', style=ButtonStyle()), Button(description='Clear All', style=ButtonStyle(button_color='red'))))))"
      ]
     },
     "metadata": {},
     "output_type": "display_data"
    }
   ],
   "source": [
    "from ipywidgets import widgets\n",
    "from ipywidgets import Select, SelectMultiple\n",
    "from traitlets import CInt\n",
    "\n",
    "class SmartSelect(Select):\n",
    "    comp_num = CInt(0).tag(sync=True)\n",
    "\n",
    "    def __init__(self, *args, **kwargs):\n",
    "        super().__init__(*args, **kwargs)\n",
    "    \n",
    "    def remove_option(self, item):\n",
    "        if len(self.options) > 1:\n",
    "            self.options = list(filter(lambda x: x is not item, self.options))\n",
    "\n",
    "lay = widgets.Layout(height='200px')\n",
    "opt = [1,2,3,4,5]\n",
    "sel = widgets.SelectMultiple(options=opt, layout=lay)\n",
    "res = SmartSelect(layout=lay)\n",
    "\n",
    "res_dict = dict()\n",
    "res.comp_num\n",
    "\n",
    "def make_selection(self):\n",
    "    res.comp_num += 1\n",
    "    comp = 'Comparison: {}'.format(res.comp_num)\n",
    "    res_dict[comp] = sel.value\n",
    "    res.options += (comp,)\n",
    "\n",
    "numerator_select_button = widgets.Button(description='select')\n",
    "numerator_select_button.on_click(make_selection)\n",
    "\n",
    "def on_value_change(change):\n",
    "    if change['new'] is not None:\n",
    "        if str(change['new']) in res_dict:\n",
    "            value = str(change[\"new\"])\n",
    "            sel.value = res_dict[value]\n",
    "\n",
    "res.observe(on_value_change, names='value')\n",
    "\n",
    "def clear_comparisons(self):\n",
    "    res.options = ()\n",
    "    res_dictt = dict()\n",
    "    \n",
    "clear_button = widgets.Button(description='Clear All')\n",
    "clear_button.on_click(clear_comparisons)\n",
    "clear_button.style.button_color = 'red'\n",
    "\n",
    "def remove_selected(self):\n",
    "    res.remove_option(res.value)\n",
    "    if res.value in res_dict:\n",
    "        del res_dict[res.value]\n",
    "\n",
    "remove_selected_button = widgets.Button(description='Remove Selected')\n",
    "remove_selected_button.on_click(remove_selected)\n",
    "\n",
    "sel_pack = widgets.VBox([sel, numerator_select_button])\n",
    "\n",
    "res_pack = widgets.VBox([res, remove_selected_button, clear_button])\n",
    "\n",
    "sel_con = widgets.HBox([sel_pack, res_pack])\n",
    "\n",
    "sel_con"
   ]
  },
  {
   "cell_type": "markdown",
   "metadata": {},
   "source": [
    "---"
   ]
  },
  {
   "cell_type": "code",
   "execution_count": 67,
   "metadata": {},
   "outputs": [
    {
     "data": {
      "application/vnd.jupyter.widget-view+json": {
       "model_id": "ec49f6818e864fcfbc2ed567d41f1843",
       "version_major": 2,
       "version_minor": 0
      },
      "text/html": [
       "<p>Failed to display Jupyter Widget of type <code>HBox</code>.</p>\n",
       "<p>\n",
       "  If you're reading this message in Jupyter Notebook or JupyterLab, it may mean\n",
       "  that the widgets JavaScript is still loading. If this message persists, it\n",
       "  likely means that the widgets JavaScript library is either not installed or\n",
       "  not enabled. See the <a href=\"https://ipywidgets.readthedocs.io/en/stable/user_install.html\">Jupyter\n",
       "  Widgets Documentation</a> for setup instructions.\n",
       "</p>\n",
       "<p>\n",
       "  If you're reading this message in another notebook frontend (for example, a static\n",
       "  rendering on GitHub or <a href=\"https://nbviewer.jupyter.org/\">NBViewer</a>),\n",
       "  it may mean that your frontend doesn't currently support widgets.\n",
       "</p>\n"
      ],
      "text/plain": [
       "HBox(children=(VBox(children=(HTML(value='<h3>Numerator</h3>'), SelectMultiple(layout=Layout(height='200px'), options=(1, 2, 3, 4, 5), value=()), HTML(value='<h3>Denominator</h3>'), SelectMultiple(layout=Layout(height='200px'), options=(5, 6, 7, 8, 9), value=()), Button(description='select', style=ButtonStyle()))), VBox(children=(HTML(value='<h3>Comparison List</h3>'), SmartSelect(layout=Layout(height='200px'), options=(), value=None), Button(description='Remove Selected', style=ButtonStyle()), Button(description='Clear All', style=ButtonStyle(button_color='red'))))))"
      ]
     },
     "metadata": {},
     "output_type": "display_data"
    }
   ],
   "source": [
    "from ipywidgets import widgets\n",
    "from dominate import tags\n",
    "from ipywidgets import Select, SelectMultiple, HTML\n",
    "from traitlets import CInt\n",
    "\n",
    "class SmartSelect(Select):\n",
    "    comp_num = CInt(0).tag(sync=True)\n",
    "\n",
    "    def __init__(self, *args, **kwargs):\n",
    "        super().__init__(*args, **kwargs)\n",
    "    \n",
    "    def remove_option(self, item):\n",
    "        if len(self.options) > 1:\n",
    "            self.options = list(filter(lambda x: x is not item, self.options))\n",
    "\n",
    "lay = widgets.Layout(height='200px')\n",
    "num_opt = [1,2,3,4,5]\n",
    "den_opt = [5,6,7,8,9]\n",
    "numerator_select = widgets.SelectMultiple(options=num_opt, layout=lay)\n",
    "denominator_select = widgets.SelectMultiple(options=den_opt, layout=lay)\n",
    "\n",
    "res = SmartSelect(layout=lay)\n",
    "res_dict = dict()\n",
    "\n",
    "def make_selection(self):\n",
    "    res.comp_num += 1\n",
    "    comp = 'Comparison: {}'.format(res.comp_num)\n",
    "    res_dict[comp] = (numerator_select.value,\n",
    "                      denominator_select.value)\n",
    "    res.options += (comp,)\n",
    "\n",
    "numerator_select_button = widgets.Button(description='select')\n",
    "numerator_select_button.on_click(make_selection)\n",
    "\n",
    "def on_value_change(change):\n",
    "    if change['new'] is not None:\n",
    "        if str(change['new']) in res_dict:\n",
    "            value = str(change[\"new\"])\n",
    "            # print(value)\n",
    "            # print(res_dict[value])\n",
    "            numerator_select.value = res_dict[value][0]\n",
    "            denominator_select.value = res_dict[value][1]\n",
    "\n",
    "res.observe(on_value_change, names='value')\n",
    "\n",
    "def clear_comparisons(self):\n",
    "    res.options = ()\n",
    "    res_dictt = dict()\n",
    "    \n",
    "clear_button = widgets.Button(description='Clear All')\n",
    "clear_button.on_click(clear_comparisons)\n",
    "clear_button.style.button_color = 'red'\n",
    "\n",
    "def remove_selected(self):\n",
    "    res.remove_option(res.value)\n",
    "    if res.value in res_dict:\n",
    "        del res_dict[res.value]\n",
    "\n",
    "remove_selected_button = widgets.Button(description='Remove Selected')\n",
    "remove_selected_button.on_click(remove_selected)\n",
    "\n",
    "num_title = HTML(tags.h3('Numerator').render())\n",
    "den_title = HTML(tags.h3('Denominator').render())\n",
    "sel_pack = widgets.VBox([num_title, \n",
    "                         numerator_select,\n",
    "                         den_title,\n",
    "                         denominator_select,\n",
    "                         numerator_select_button])\n",
    "\n",
    "comp_list_title = HTML(tags.h3('Comparison List').render())\n",
    "res_pack = widgets.VBox([comp_list_title,\n",
    "                         res,\n",
    "                         remove_selected_button,\n",
    "                         clear_button])\n",
    "\n",
    "sel_con = widgets.HBox([sel_pack, res_pack])\n",
    "\n",
    "sel_con"
   ]
  },
  {
   "cell_type": "markdown",
   "metadata": {},
   "source": [
    "---"
   ]
  },
  {
   "cell_type": "code",
   "execution_count": 1,
   "metadata": {},
   "outputs": [
    {
     "data": {
      "application/vnd.jupyter.widget-view+json": {
       "model_id": "35bd88776f6f40028e13b334e96b9483",
       "version_major": 2,
       "version_minor": 0
      },
      "text/html": [
       "<p>Failed to display Jupyter Widget of type <code>HBox</code>.</p>\n",
       "<p>\n",
       "  If you're reading this message in Jupyter Notebook or JupyterLab, it may mean\n",
       "  that the widgets JavaScript is still loading. If this message persists, it\n",
       "  likely means that the widgets JavaScript library is either not installed or\n",
       "  not enabled. See the <a href=\"https://ipywidgets.readthedocs.io/en/stable/user_install.html\">Jupyter\n",
       "  Widgets Documentation</a> for setup instructions.\n",
       "</p>\n",
       "<p>\n",
       "  If you're reading this message in another notebook frontend (for example, a static\n",
       "  rendering on GitHub or <a href=\"https://nbviewer.jupyter.org/\">NBViewer</a>),\n",
       "  it may mean that your frontend doesn't currently support widgets.\n",
       "</p>\n"
      ],
      "text/plain": [
       "HBox(children=(VBox(children=(HTML(value='<h3>Numerator</h3>'), SelectMultiple(layout=Layout(height='200px'), options=(1, 2, 3, 4, 5), value=()), HTML(value='<h3>Denominator</h3>'), SelectMultiple(layout=Layout(height='200px'), options=(5, 6, 7, 8, 9), value=()), Button(description='select', style=ButtonStyle()))), VBox(children=(HTML(value='<h3>Comparison List</h3>'), SmartSelect(layout=Layout(height='200px'), options=(), value=None), Button(description='Remove Selected', style=ButtonStyle()), Button(description='Clear All', style=ButtonStyle(button_color='red'))))))"
      ]
     },
     "metadata": {},
     "output_type": "display_data"
    }
   ],
   "source": [
    "from ipywidgets import widgets\n",
    "from dominate import tags\n",
    "from ipywidgets import Select, SelectMultiple, HTML\n",
    "from traitlets import CInt\n",
    "\n",
    "class SmartSelect(Select):\n",
    "    comp_num = CInt(0).tag(sync=True)\n",
    "\n",
    "    def __init__(self, *args, **kwargs):\n",
    "        super().__init__(*args, **kwargs)\n",
    "    \n",
    "    def remove_option(self, item):\n",
    "        if len(self.options) > 1:\n",
    "            self.options = list(filter(lambda x: x is not item, self.options))\n",
    "\n",
    "lay = widgets.Layout(height='200px')\n",
    "num_opt = [1,2,3,4,5]\n",
    "den_opt = [5,6,7,8,9]\n",
    "numerator_select = widgets.SelectMultiple(options=num_opt, layout=lay)\n",
    "denominator_select = widgets.SelectMultiple(options=den_opt, layout=lay)\n",
    "\n",
    "res = SmartSelect(layout=lay)\n",
    "res_dict = dict()\n",
    "\n",
    "def make_selection(self):\n",
    "    res.comp_num += 1\n",
    "    comp = 'Comparison: {}'.format(res.comp_num)\n",
    "    res_dict[comp] = (numerator_select.value,\n",
    "                      denominator_select.value)\n",
    "    res.options += (comp,)\n",
    "\n",
    "numerator_select_button = widgets.Button(description='select')\n",
    "numerator_select_button.on_click(make_selection)\n",
    "\n",
    "def on_value_change(change):\n",
    "    if change['new'] is not None:\n",
    "        if str(change['new']) in res_dict:\n",
    "            value = str(change[\"new\"])\n",
    "            # print(value)\n",
    "            # print(res_dict[value])\n",
    "            numerator_select.value = res_dict[value][0]\n",
    "            denominator_select.value = res_dict[value][1]\n",
    "\n",
    "res.observe(on_value_change, names='value')\n",
    "\n",
    "def clear_comparisons(self):\n",
    "    res.options = ()\n",
    "    res_dictt = dict()\n",
    "    \n",
    "clear_button = widgets.Button(description='Clear All')\n",
    "clear_button.on_click(clear_comparisons)\n",
    "clear_button.style.button_color = 'red'\n",
    "\n",
    "def remove_selected(self):\n",
    "    res.remove_option(res.value)\n",
    "    if res.value in res_dict:\n",
    "        del res_dict[res.value]\n",
    "\n",
    "remove_selected_button = widgets.Button(description='Remove Selected')\n",
    "remove_selected_button.on_click(remove_selected)\n",
    "\n",
    "num_title = HTML(tags.h3('Numerator').render())\n",
    "den_title = HTML(tags.h3('Denominator').render())\n",
    "sel_pack = widgets.VBox([num_title, \n",
    "                         numerator_select,\n",
    "                         den_title,\n",
    "                         denominator_select,\n",
    "                         numerator_select_button])\n",
    "\n",
    "comp_list_title = HTML(tags.h3('Comparison List').render())\n",
    "res_pack = widgets.VBox([comp_list_title,\n",
    "                         res,\n",
    "                         remove_selected_button,\n",
    "                         clear_button])\n",
    "\n",
    "sel_con = widgets.HBox([sel_pack, res_pack])\n",
    "\n",
    "sel_con"
   ]
  },
  {
   "cell_type": "code",
   "execution_count": null,
   "metadata": {
    "collapsed": true
   },
   "outputs": [],
   "source": []
  }
 ],
 "metadata": {
  "kernelspec": {
   "display_name": "Python 3",
   "language": "python",
   "name": "python3"
  },
  "language_info": {
   "codemirror_mode": {
    "name": "ipython",
    "version": 3
   },
   "file_extension": ".py",
   "mimetype": "text/x-python",
   "name": "python",
   "nbconvert_exporter": "python",
   "pygments_lexer": "ipython3",
   "version": "3.6.1"
  },
  "varInspector": {
   "cols": {
    "lenName": 16,
    "lenType": 16,
    "lenVar": 40
   },
   "kernels_config": {
    "python": {
     "delete_cmd_postfix": "",
     "delete_cmd_prefix": "del ",
     "library": "var_list.py",
     "varRefreshCmd": "print(var_dic_list())"
    },
    "r": {
     "delete_cmd_postfix": ") ",
     "delete_cmd_prefix": "rm(",
     "library": "var_list.r",
     "varRefreshCmd": "cat(var_dic_list()) "
    }
   },
   "types_to_exclude": [
    "module",
    "function",
    "builtin_function_or_method",
    "instance",
    "_Feature"
   ],
   "window_display": false
  }
 },
 "nbformat": 4,
 "nbformat_minor": 2
}
