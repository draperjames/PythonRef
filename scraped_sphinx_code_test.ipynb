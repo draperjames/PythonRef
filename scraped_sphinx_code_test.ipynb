{
 "cells": [
  {
   "cell_type": "code",
   "execution_count": null,
   "metadata": {},
   "outputs": [],
   "source": [
    "from difflib import *"
   ]
  },
  {
   "cell_type": "code",
   "execution_count": null,
   "metadata": {},
   "outputs": [],
   "source": [
    "get_close_matches('appel', ['ape', 'apple', 'peach', 'puppy'])\n",
    "import keyword\n",
    "get_close_matches('wheel', keyword.kwlist)\n",
    "get_close_matches('pineapple', keyword.kwlist)\n",
    "get_close_matches('accept', keyword.kwlist)"
   ]
  }
 ],
 "metadata": {},
 "nbformat": 4,
 "nbformat_minor": 2
}
