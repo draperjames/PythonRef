{
 "cells": [
  {
   "cell_type": "markdown",
   "metadata": {},
   "source": [
    "I managed to get this to work in my python 2.7 environment so I just decided to export it as a `.yml` file that you can clone through these steps;\n",
    "\n",
    "1) Download and unzip [this gist](https://gist.github.com/draperjames/8215dd2b7af117cdbac25c73aa9070b3) \n",
    "\n",
    "2) cd to the location of the unzipped `.yml` file.\n",
    "\n",
    "3) Create the clone of my py27 env using the following command;\n",
    "    \n",
    "    conda env create -f py27.yml\n",
    "\n",
    "4) Once conda finishes the install then activate the env;\n",
    "    \n",
    "    activate py27\n",
    "\n",
    "5) Then this env to your list of jupyter notebook kernels with the following;\n",
    "\n",
    "    ipython kernel install --name py27\n",
    "\n",
    "Now when you start jupyter notebook you can choose to create a `py27` notebook when you click the new button. Afeter that you should be able to run pyttbl.\n",
    "\n",
    "Please comment below if you are still having issues."
   ]
  },
  {
   "cell_type": "code",
   "execution_count": 1,
   "metadata": {
    "collapsed": true
   },
   "outputs": [],
   "source": [
    "import pyvttbl as pt"
   ]
  },
  {
   "cell_type": "code",
   "execution_count": null,
   "metadata": {
    "collapsed": true
   },
   "outputs": [],
   "source": []
  }
 ],
 "metadata": {
  "kernelspec": {
   "display_name": "py27clone",
   "language": "python",
   "name": "py27clone"
  },
  "language_info": {
   "codemirror_mode": {
    "name": "ipython",
    "version": 2
   },
   "file_extension": ".py",
   "mimetype": "text/x-python",
   "name": "python",
   "nbconvert_exporter": "python",
   "pygments_lexer": "ipython2",
   "version": "2.7.13"
  },
  "varInspector": {
   "cols": {
    "lenName": 16,
    "lenType": 16,
    "lenVar": 40
   },
   "kernels_config": {
    "python": {
     "delete_cmd_postfix": "",
     "delete_cmd_prefix": "del ",
     "library": "var_list.py",
     "varRefreshCmd": "print(var_dic_list())"
    },
    "r": {
     "delete_cmd_postfix": ") ",
     "delete_cmd_prefix": "rm(",
     "library": "var_list.r",
     "varRefreshCmd": "cat(var_dic_list()) "
    }
   },
   "types_to_exclude": [
    "module",
    "function",
    "builtin_function_or_method",
    "instance",
    "_Feature"
   ],
   "window_display": false
  }
 },
 "nbformat": 4,
 "nbformat_minor": 2
}
