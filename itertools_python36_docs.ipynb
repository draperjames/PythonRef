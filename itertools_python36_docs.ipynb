{
 "cells": [
  {
   "cell_type": "code",
   "execution_count": null,
   "metadata": {
    "collapsed": true
   },
   "outputs": [],
   "source": [
    "from itertools import *"
   ]
  },
  {
   "cell_type": "markdown",
   "metadata": {},
   "source": [
    "<div class=\"section\" id=\"module-itertools\">\n",
    "<span id=\"itertools-functions-creating-iterators-for-efficient-looping\"></span><h1>10.1. <a class=\"reference internal\" href=\"#module-itertools\" title=\"itertools: Functions creating iterators for efficient looping.\"><code class=\"xref py py-mod docutils literal\"><span class=\"pre\">itertools</span></code></a> — Functions creating iterators for efficient looping<a class=\"headerlink\" href=\"#module-itertools\" title=\"Permalink to this headline\">¶</a></h1>\n",
    "<hr class=\"docutils\"/>\n",
    "<p>This module implements a number of <a class=\"reference internal\" href=\"../glossary.html#term-iterator\"><span class=\"xref std std-term\">iterator</span></a> building blocks inspired\n",
    "by constructs from APL, Haskell, and SML.  Each has been recast in a form\n",
    "suitable for Python.</p>\n",
    "<p>The module standardizes a core set of fast, memory efficient tools that are\n",
    "useful by themselves or in combination.  Together, they form an “iterator\n",
    "algebra” making it possible to construct specialized tools succinctly and\n",
    "efficiently in pure Python.</p>\n",
    "<p>For instance, SML provides a tabulation tool: <code class=\"docutils literal\"><span class=\"pre\">tabulate(f)</span></code> which produces a\n",
    "sequence <code class=\"docutils literal\"><span class=\"pre\">f(0),</span> <span class=\"pre\">f(1),</span> <span class=\"pre\">...</span></code>.  The same effect can be achieved in Python\n",
    "by combining <a class=\"reference internal\" href=\"functions.html#map\" title=\"map\"><code class=\"xref py py-func docutils literal\"><span class=\"pre\">map()</span></code></a> and <a class=\"reference internal\" href=\"#itertools.count\" title=\"itertools.count\"><code class=\"xref py py-func docutils literal\"><span class=\"pre\">count()</span></code></a> to form <code class=\"docutils literal\"><span class=\"pre\">map(f,</span> <span class=\"pre\">count())</span></code>.</p>\n",
    "<p>These tools and their built-in counterparts also work well with the high-speed\n",
    "functions in the <a class=\"reference internal\" href=\"operator.html#module-operator\" title=\"operator: Functions corresponding to the standard operators.\"><code class=\"xref py py-mod docutils literal\"><span class=\"pre\">operator</span></code></a> module.  For example, the multiplication\n",
    "operator can be mapped across two vectors to form an efficient dot-product:\n",
    "<code class=\"docutils literal\"><span class=\"pre\">sum(map(operator.mul,</span> <span class=\"pre\">vector1,</span> <span class=\"pre\">vector2))</span></code>.</p>\n",
    "<p><strong>Infinite Iterators:</strong></p>\n",
    "<table border=\"1\" class=\"docutils\">\n",
    "<colgroup>\n",
    "<col width=\"14%\"/>\n",
    "<col width=\"14%\"/>\n",
    "<col width=\"39%\"/>\n",
    "<col width=\"33%\"/>\n",
    "</colgroup>\n",
    "<thead valign=\"bottom\">\n",
    "<tr class=\"row-odd\"><th class=\"head\">Iterator</th>\n",
    "<th class=\"head\">Arguments</th>\n",
    "<th class=\"head\">Results</th>\n",
    "<th class=\"head\">Example</th>\n",
    "</tr>\n",
    "</thead>\n",
    "<tbody valign=\"top\">\n",
    "<tr class=\"row-even\"><td><a class=\"reference internal\" href=\"#itertools.count\" title=\"itertools.count\"><code class=\"xref py py-func docutils literal\"><span class=\"pre\">count()</span></code></a></td>\n",
    "<td>start, [step]</td>\n",
    "<td>start, start+step, start+2*step, …</td>\n",
    "<td><code class=\"docutils literal\"><span class=\"pre\">count(10)</span> <span class=\"pre\">--&gt;</span> <span class=\"pre\">10</span> <span class=\"pre\">11</span> <span class=\"pre\">12</span> <span class=\"pre\">13</span> <span class=\"pre\">14</span> <span class=\"pre\">...</span></code></td>\n",
    "</tr>\n",
    "<tr class=\"row-odd\"><td><a class=\"reference internal\" href=\"#itertools.cycle\" title=\"itertools.cycle\"><code class=\"xref py py-func docutils literal\"><span class=\"pre\">cycle()</span></code></a></td>\n",
    "<td>p</td>\n",
    "<td>p0, p1, … plast, p0, p1, …</td>\n",
    "<td><code class=\"docutils literal\"><span class=\"pre\">cycle('ABCD')</span> <span class=\"pre\">--&gt;</span> <span class=\"pre\">A</span> <span class=\"pre\">B</span> <span class=\"pre\">C</span> <span class=\"pre\">D</span> <span class=\"pre\">A</span> <span class=\"pre\">B</span> <span class=\"pre\">C</span> <span class=\"pre\">D</span> <span class=\"pre\">...</span></code></td>\n",
    "</tr>\n",
    "<tr class=\"row-even\"><td><a class=\"reference internal\" href=\"#itertools.repeat\" title=\"itertools.repeat\"><code class=\"xref py py-func docutils literal\"><span class=\"pre\">repeat()</span></code></a></td>\n",
    "<td>elem [,n]</td>\n",
    "<td>elem, elem, elem, … endlessly or up to n times</td>\n",
    "<td><code class=\"docutils literal\"><span class=\"pre\">repeat(10,</span> <span class=\"pre\">3)</span> <span class=\"pre\">--&gt;</span> <span class=\"pre\">10</span> <span class=\"pre\">10</span> <span class=\"pre\">10</span></code></td>\n",
    "</tr>\n",
    "</tbody>\n",
    "</table>\n",
    "<p><strong>Iterators terminating on the shortest input sequence:</strong></p>\n",
    "<table border=\"1\" class=\"docutils\">\n",
    "<colgroup>\n",
    "<col width=\"17%\"/>\n",
    "<col width=\"17%\"/>\n",
    "<col width=\"30%\"/>\n",
    "<col width=\"37%\"/>\n",
    "</colgroup>\n",
    "<thead valign=\"bottom\">\n",
    "<tr class=\"row-odd\"><th class=\"head\">Iterator</th>\n",
    "<th class=\"head\">Arguments</th>\n",
    "<th class=\"head\">Results</th>\n",
    "<th class=\"head\">Example</th>\n",
    "</tr>\n",
    "</thead>\n",
    "<tbody valign=\"top\">\n",
    "<tr class=\"row-even\"><td><a class=\"reference internal\" href=\"#itertools.accumulate\" title=\"itertools.accumulate\"><code class=\"xref py py-func docutils literal\"><span class=\"pre\">accumulate()</span></code></a></td>\n",
    "<td>p [,func]</td>\n",
    "<td>p0, p0+p1, p0+p1+p2, …</td>\n",
    "<td><code class=\"docutils literal\"><span class=\"pre\">accumulate([1,2,3,4,5])</span> <span class=\"pre\">--&gt;</span> <span class=\"pre\">1</span> <span class=\"pre\">3</span> <span class=\"pre\">6</span> <span class=\"pre\">10</span> <span class=\"pre\">15</span></code></td>\n",
    "</tr>\n",
    "<tr class=\"row-odd\"><td><a class=\"reference internal\" href=\"#itertools.chain\" title=\"itertools.chain\"><code class=\"xref py py-func docutils literal\"><span class=\"pre\">chain()</span></code></a></td>\n",
    "<td>p, q, …</td>\n",
    "<td>p0, p1, … plast, q0, q1, …</td>\n",
    "<td><code class=\"docutils literal\"><span class=\"pre\">chain('ABC',</span> <span class=\"pre\">'DEF')</span> <span class=\"pre\">--&gt;</span> <span class=\"pre\">A</span> <span class=\"pre\">B</span> <span class=\"pre\">C</span> <span class=\"pre\">D</span> <span class=\"pre\">E</span> <span class=\"pre\">F</span></code></td>\n",
    "</tr>\n",
    "<tr class=\"row-even\"><td><a class=\"reference internal\" href=\"#itertools.chain.from_iterable\" title=\"itertools.chain.from_iterable\"><code class=\"xref py py-func docutils literal\"><span class=\"pre\">chain.from_iterable()</span></code></a></td>\n",
    "<td>iterable</td>\n",
    "<td>p0, p1, … plast, q0, q1, …</td>\n",
    "<td><code class=\"docutils literal\"><span class=\"pre\">chain.from_iterable(['ABC',</span> <span class=\"pre\">'DEF'])</span> <span class=\"pre\">--&gt;</span> <span class=\"pre\">A</span> <span class=\"pre\">B</span> <span class=\"pre\">C</span> <span class=\"pre\">D</span> <span class=\"pre\">E</span> <span class=\"pre\">F</span></code></td>\n",
    "</tr>\n",
    "<tr class=\"row-odd\"><td><a class=\"reference internal\" href=\"#itertools.compress\" title=\"itertools.compress\"><code class=\"xref py py-func docutils literal\"><span class=\"pre\">compress()</span></code></a></td>\n",
    "<td>data, selectors</td>\n",
    "<td>(d[0] if s[0]), (d[1] if s[1]), …</td>\n",
    "<td><code class=\"docutils literal\"><span class=\"pre\">compress('ABCDEF',</span> <span class=\"pre\">[1,0,1,0,1,1])</span> <span class=\"pre\">--&gt;</span> <span class=\"pre\">A</span> <span class=\"pre\">C</span> <span class=\"pre\">E</span> <span class=\"pre\">F</span></code></td>\n",
    "</tr>\n",
    "<tr class=\"row-even\"><td><a class=\"reference internal\" href=\"#itertools.dropwhile\" title=\"itertools.dropwhile\"><code class=\"xref py py-func docutils literal\"><span class=\"pre\">dropwhile()</span></code></a></td>\n",
    "<td>pred, seq</td>\n",
    "<td>seq[n], seq[n+1], starting when pred fails</td>\n",
    "<td><code class=\"docutils literal\"><span class=\"pre\">dropwhile(lambda</span> <span class=\"pre\">x:</span> <span class=\"pre\">x&lt;5,</span> <span class=\"pre\">[1,4,6,4,1])</span> <span class=\"pre\">--&gt;</span> <span class=\"pre\">6</span> <span class=\"pre\">4</span> <span class=\"pre\">1</span></code></td>\n",
    "</tr>\n",
    "<tr class=\"row-odd\"><td><a class=\"reference internal\" href=\"#itertools.filterfalse\" title=\"itertools.filterfalse\"><code class=\"xref py py-func docutils literal\"><span class=\"pre\">filterfalse()</span></code></a></td>\n",
    "<td>pred, seq</td>\n",
    "<td>elements of seq where pred(elem) is false</td>\n",
    "<td><code class=\"docutils literal\"><span class=\"pre\">filterfalse(lambda</span> <span class=\"pre\">x:</span> <span class=\"pre\">x%2,</span> <span class=\"pre\">range(10))</span> <span class=\"pre\">--&gt;</span> <span class=\"pre\">0</span> <span class=\"pre\">2</span> <span class=\"pre\">4</span> <span class=\"pre\">6</span> <span class=\"pre\">8</span></code></td>\n",
    "</tr>\n",
    "<tr class=\"row-even\"><td><a class=\"reference internal\" href=\"#itertools.groupby\" title=\"itertools.groupby\"><code class=\"xref py py-func docutils literal\"><span class=\"pre\">groupby()</span></code></a></td>\n",
    "<td>iterable[, key]</td>\n",
    "<td>sub-iterators grouped by value of key(v)</td>\n",
    "<td> </td>\n",
    "</tr>\n",
    "<tr class=\"row-odd\"><td><a class=\"reference internal\" href=\"#itertools.islice\" title=\"itertools.islice\"><code class=\"xref py py-func docutils literal\"><span class=\"pre\">islice()</span></code></a></td>\n",
    "<td>seq, [start,] stop [, step]</td>\n",
    "<td>elements from seq[start:stop:step]</td>\n",
    "<td><code class=\"docutils literal\"><span class=\"pre\">islice('ABCDEFG',</span> <span class=\"pre\">2,</span> <span class=\"pre\">None)</span> <span class=\"pre\">--&gt;</span> <span class=\"pre\">C</span> <span class=\"pre\">D</span> <span class=\"pre\">E</span> <span class=\"pre\">F</span> <span class=\"pre\">G</span></code></td>\n",
    "</tr>\n",
    "<tr class=\"row-even\"><td><a class=\"reference internal\" href=\"#itertools.starmap\" title=\"itertools.starmap\"><code class=\"xref py py-func docutils literal\"><span class=\"pre\">starmap()</span></code></a></td>\n",
    "<td>func, seq</td>\n",
    "<td>func(*seq[0]), func(*seq[1]), …</td>\n",
    "<td><code class=\"docutils literal\"><span class=\"pre\">starmap(pow,</span> <span class=\"pre\">[(2,5),</span> <span class=\"pre\">(3,2),</span> <span class=\"pre\">(10,3)])</span> <span class=\"pre\">--&gt;</span> <span class=\"pre\">32</span> <span class=\"pre\">9</span> <span class=\"pre\">1000</span></code></td>\n",
    "</tr>\n",
    "<tr class=\"row-odd\"><td><a class=\"reference internal\" href=\"#itertools.takewhile\" title=\"itertools.takewhile\"><code class=\"xref py py-func docutils literal\"><span class=\"pre\">takewhile()</span></code></a></td>\n",
    "<td>pred, seq</td>\n",
    "<td>seq[0], seq[1], until pred fails</td>\n",
    "<td><code class=\"docutils literal\"><span class=\"pre\">takewhile(lambda</span> <span class=\"pre\">x:</span> <span class=\"pre\">x&lt;5,</span> <span class=\"pre\">[1,4,6,4,1])</span> <span class=\"pre\">--&gt;</span> <span class=\"pre\">1</span> <span class=\"pre\">4</span></code></td>\n",
    "</tr>\n",
    "<tr class=\"row-even\"><td><a class=\"reference internal\" href=\"#itertools.tee\" title=\"itertools.tee\"><code class=\"xref py py-func docutils literal\"><span class=\"pre\">tee()</span></code></a></td>\n",
    "<td>it, n</td>\n",
    "<td>it1, it2, … itn  splits one iterator into n</td>\n",
    "<td> </td>\n",
    "</tr>\n",
    "<tr class=\"row-odd\"><td><a class=\"reference internal\" href=\"#itertools.zip_longest\" title=\"itertools.zip_longest\"><code class=\"xref py py-func docutils literal\"><span class=\"pre\">zip_longest()</span></code></a></td>\n",
    "<td>p, q, …</td>\n",
    "<td>(p[0], q[0]), (p[1], q[1]), …</td>\n",
    "<td><code class=\"docutils literal\"><span class=\"pre\">zip_longest('ABCD',</span> <span class=\"pre\">'xy',</span> <span class=\"pre\">fillvalue='-')</span> <span class=\"pre\">--&gt;</span> <span class=\"pre\">Ax</span> <span class=\"pre\">By</span> <span class=\"pre\">C-</span> <span class=\"pre\">D-</span></code></td>\n",
    "</tr>\n",
    "</tbody>\n",
    "</table>\n",
    "<p><strong>Combinatoric generators:</strong></p>\n",
    "<table border=\"1\" class=\"docutils\">\n",
    "<colgroup>\n",
    "<col width=\"36%\"/>\n",
    "<col width=\"16%\"/>\n",
    "<col width=\"48%\"/>\n",
    "</colgroup>\n",
    "<thead valign=\"bottom\">\n",
    "<tr class=\"row-odd\"><th class=\"head\">Iterator</th>\n",
    "<th class=\"head\">Arguments</th>\n",
    "<th class=\"head\">Results</th>\n",
    "</tr>\n",
    "</thead>\n",
    "<tbody valign=\"top\">\n",
    "<tr class=\"row-even\"><td><a class=\"reference internal\" href=\"#itertools.product\" title=\"itertools.product\"><code class=\"xref py py-func docutils literal\"><span class=\"pre\">product()</span></code></a></td>\n",
    "<td>p, q, … [repeat=1]</td>\n",
    "<td>cartesian product, equivalent to a nested for-loop</td>\n",
    "</tr>\n",
    "<tr class=\"row-odd\"><td><a class=\"reference internal\" href=\"#itertools.permutations\" title=\"itertools.permutations\"><code class=\"xref py py-func docutils literal\"><span class=\"pre\">permutations()</span></code></a></td>\n",
    "<td>p[, r]</td>\n",
    "<td>r-length tuples, all possible orderings, no repeated elements</td>\n",
    "</tr>\n",
    "<tr class=\"row-even\"><td><a class=\"reference internal\" href=\"#itertools.combinations\" title=\"itertools.combinations\"><code class=\"xref py py-func docutils literal\"><span class=\"pre\">combinations()</span></code></a></td>\n",
    "<td>p, r</td>\n",
    "<td>r-length tuples, in sorted order, no repeated elements</td>\n",
    "</tr>\n",
    "<tr class=\"row-odd\"><td><a class=\"reference internal\" href=\"#itertools.combinations_with_replacement\" title=\"itertools.combinations_with_replacement\"><code class=\"xref py py-func docutils literal\"><span class=\"pre\">combinations_with_replacement()</span></code></a></td>\n",
    "<td>p, r</td>\n",
    "<td>r-length tuples, in sorted order, with repeated elements</td>\n",
    "</tr>\n",
    "<tr class=\"row-even\"><td><code class=\"docutils literal\"><span class=\"pre\">product('ABCD',</span> <span class=\"pre\">repeat=2)</span></code></td>\n",
    "<td> </td>\n",
    "<td><code class=\"docutils literal\"><span class=\"pre\">AA</span> <span class=\"pre\">AB</span> <span class=\"pre\">AC</span> <span class=\"pre\">AD</span> <span class=\"pre\">BA</span> <span class=\"pre\">BB</span> <span class=\"pre\">BC</span> <span class=\"pre\">BD</span> <span class=\"pre\">CA</span> <span class=\"pre\">CB</span> <span class=\"pre\">CC</span> <span class=\"pre\">CD</span> <span class=\"pre\">DA</span> <span class=\"pre\">DB</span> <span class=\"pre\">DC</span> <span class=\"pre\">DD</span></code></td>\n",
    "</tr>\n",
    "<tr class=\"row-odd\"><td><code class=\"docutils literal\"><span class=\"pre\">permutations('ABCD',</span> <span class=\"pre\">2)</span></code></td>\n",
    "<td> </td>\n",
    "<td><code class=\"docutils literal\"><span class=\"pre\">AB</span> <span class=\"pre\">AC</span> <span class=\"pre\">AD</span> <span class=\"pre\">BA</span> <span class=\"pre\">BC</span> <span class=\"pre\">BD</span> <span class=\"pre\">CA</span> <span class=\"pre\">CB</span> <span class=\"pre\">CD</span> <span class=\"pre\">DA</span> <span class=\"pre\">DB</span> <span class=\"pre\">DC</span></code></td>\n",
    "</tr>\n",
    "<tr class=\"row-even\"><td><code class=\"docutils literal\"><span class=\"pre\">combinations('ABCD',</span> <span class=\"pre\">2)</span></code></td>\n",
    "<td> </td>\n",
    "<td><code class=\"docutils literal\"><span class=\"pre\">AB</span> <span class=\"pre\">AC</span> <span class=\"pre\">AD</span> <span class=\"pre\">BC</span> <span class=\"pre\">BD</span> <span class=\"pre\">CD</span></code></td>\n",
    "</tr>\n",
    "<tr class=\"row-odd\"><td><code class=\"docutils literal\"><span class=\"pre\">combinations_with_replacement('ABCD',</span> <span class=\"pre\">2)</span></code></td>\n",
    "<td> </td>\n",
    "<td><code class=\"docutils literal\"><span class=\"pre\">AA</span> <span class=\"pre\">AB</span> <span class=\"pre\">AC</span> <span class=\"pre\">AD</span> <span class=\"pre\">BB</span> <span class=\"pre\">BC</span> <span class=\"pre\">BD</span> <span class=\"pre\">CC</span> <span class=\"pre\">CD</span> <span class=\"pre\">DD</span></code></td>\n",
    "</tr>\n",
    "</tbody>\n",
    "</table>\n",
    "<div class=\"section\" id=\"itertool-functions\">\n",
    "<span id=\"itertools-functions\"></span><h2>10.1.1. Itertool functions<a class=\"headerlink\" href=\"#itertool-functions\" title=\"Permalink to this headline\">¶</a></h2>\n",
    "<p>The following module functions all construct and return iterators. Some provide\n",
    "streams of infinite length, so they should only be accessed by functions or\n",
    "loops that truncate the stream.</p>\n",
    "<dl class=\"function\">\n",
    "<dt id=\"itertools.accumulate\">\n",
    "<code class=\"descclassname\">itertools.</code><code class=\"descname\">accumulate</code><span class=\"sig-paren\">(</span><em>iterable</em><span class=\"optional\">[</span>, <em>func</em><span class=\"optional\">]</span><span class=\"sig-paren\">)</span><a class=\"headerlink\" href=\"#itertools.accumulate\" title=\"Permalink to this definition\">¶</a></dt>\n",
    "<dd><p>Make an iterator that returns accumulated sums, or accumulated\n",
    "results of other binary functions (specified via the optional\n",
    "<em>func</em> argument).  If <em>func</em> is supplied, it should be a function\n",
    "of two arguments. Elements of the input <em>iterable</em> may be any type\n",
    "that can be accepted as arguments to <em>func</em>. (For example, with\n",
    "the default operation of addition, elements may be any addable\n",
    "type including <a class=\"reference internal\" href=\"decimal.html#decimal.Decimal\" title=\"decimal.Decimal\"><code class=\"xref py py-class docutils literal\"><span class=\"pre\">Decimal</span></code></a> or\n",
    "<a class=\"reference internal\" href=\"fractions.html#fractions.Fraction\" title=\"fractions.Fraction\"><code class=\"xref py py-class docutils literal\"><span class=\"pre\">Fraction</span></code></a>.) If the input iterable is empty, the\n",
    "output iterable will also be empty.</p>\n",
    "<p>Roughly equivalent to:</p>\n"
   ]
  },
  {
   "cell_type": "code",
   "execution_count": null,
   "metadata": {
    "collapsed": true
   },
   "outputs": [],
   "source": [
    "def accumulate(iterable, func=operator.add):\n",
    "    'Return running totals'\n",
    "    # accumulate([1,2,3,4,5]) --> 1 3 6 10 15\n",
    "    # accumulate([1,2,3,4,5], operator.mul) --> 1 2 6 24 120\n",
    "    it = iter(iterable)\n",
    "    try:\n",
    "        total = next(it)\n",
    "    except StopIteration:\n",
    "        return\n",
    "    yield total\n",
    "    for element in it:\n",
    "        total = func(total, element)\n",
    "        yield total\n",
    "\n"
   ]
  },
  {
   "cell_type": "markdown",
   "metadata": {},
   "source": [
    "\n",
    "<p>There are a number of uses for the <em>func</em> argument.  It can be set to\n",
    "<a class=\"reference internal\" href=\"functions.html#min\" title=\"min\"><code class=\"xref py py-func docutils literal\"><span class=\"pre\">min()</span></code></a> for a running minimum, <a class=\"reference internal\" href=\"functions.html#max\" title=\"max\"><code class=\"xref py py-func docutils literal\"><span class=\"pre\">max()</span></code></a> for a running maximum, or\n",
    "<a class=\"reference internal\" href=\"operator.html#operator.mul\" title=\"operator.mul\"><code class=\"xref py py-func docutils literal\"><span class=\"pre\">operator.mul()</span></code></a> for a running product.  Amortization tables can be\n",
    "built by accumulating interest and applying payments.  First-order\n",
    "<a class=\"reference external\" href=\"https://en.wikipedia.org/wiki/Recurrence_relation\">recurrence relations</a>\n",
    "can be modeled by supplying the initial value in the iterable and using only\n",
    "the accumulated total in <em>func</em> argument:</p>\n"
   ]
  },
  {
   "cell_type": "code",
   "execution_count": null,
   "metadata": {
    "collapsed": true
   },
   "outputs": [],
   "source": [
    "data = [3, 4, 6, 2, 1, 9, 0, 7, 5, 8]\n",
    "list(accumulate(data, operator.mul))     # running product\n",
    "list(accumulate(data, max))              # running maximum\n",
    "cashflows = [1000, -90, -90, -90, -90]\n",
    "list(accumulate(cashflows, lambda bal, pmt: bal*1.05 + pmt))\n",
    "logistic_map = lambda x, _:  r * x * (1 - x)\n",
    "r = 3.8\n",
    "x0 = 0.4\n",
    "inputs = repeat(x0, 36)     # only the initial value is used\n",
    "[format(x, '.2f') for x in accumulate(inputs, logistic_map)]"
   ]
  },
  {
   "cell_type": "markdown",
   "metadata": {},
   "source": [
    "\n",
    "<p>See <a class=\"reference internal\" href=\"functools.html#functools.reduce\" title=\"functools.reduce\"><code class=\"xref py py-func docutils literal\"><span class=\"pre\">functools.reduce()</span></code></a> for a similar function that returns only the\n",
    "final accumulated value.</p>\n",
    "<div class=\"versionadded\">\n",
    "<p><span class=\"versionmodified\">New in version 3.2.</span></p>\n",
    "</div>\n",
    "<div class=\"versionchanged\">\n",
    "<p><span class=\"versionmodified\">Changed in version 3.3: </span>Added the optional <em>func</em> parameter.</p>\n",
    "</div>\n",
    "</dd></dl>\n",
    "<dl class=\"function\">\n",
    "<dt id=\"itertools.chain\">\n",
    "<code class=\"descclassname\">itertools.</code><code class=\"descname\">chain</code><span class=\"sig-paren\">(</span><em>*iterables</em><span class=\"sig-paren\">)</span><a class=\"headerlink\" href=\"#itertools.chain\" title=\"Permalink to this definition\">¶</a></dt>\n",
    "<dd><p>Make an iterator that returns elements from the first iterable until it is\n",
    "exhausted, then proceeds to the next iterable, until all of the iterables are\n",
    "exhausted.  Used for treating consecutive sequences as a single sequence.\n",
    "Roughly equivalent to:</p>\n"
   ]
  },
  {
   "cell_type": "code",
   "execution_count": null,
   "metadata": {
    "collapsed": true
   },
   "outputs": [],
   "source": [
    "def chain(*iterables):\n",
    "    # chain('ABC', 'DEF') --> A B C D E F\n",
    "    for it in iterables:\n",
    "        for element in it:\n",
    "            yield element\n",
    "\n"
   ]
  },
  {
   "cell_type": "markdown",
   "metadata": {},
   "source": [
    "\n",
    "</dd></dl>\n",
    "<dl class=\"classmethod\">\n",
    "<dt id=\"itertools.chain.from_iterable\">\n",
    "<em class=\"property\">classmethod </em><code class=\"descclassname\">chain.</code><code class=\"descname\">from_iterable</code><span class=\"sig-paren\">(</span><em>iterable</em><span class=\"sig-paren\">)</span><a class=\"headerlink\" href=\"#itertools.chain.from_iterable\" title=\"Permalink to this definition\">¶</a></dt>\n",
    "<dd><p>Alternate constructor for <a class=\"reference internal\" href=\"#itertools.chain\" title=\"itertools.chain\"><code class=\"xref py py-func docutils literal\"><span class=\"pre\">chain()</span></code></a>.  Gets chained inputs from a\n",
    "single iterable argument that is evaluated lazily.  Roughly equivalent to:</p>\n"
   ]
  },
  {
   "cell_type": "code",
   "execution_count": null,
   "metadata": {
    "collapsed": true
   },
   "outputs": [],
   "source": [
    "def from_iterable(iterables):\n",
    "    # chain.from_iterable(['ABC', 'DEF']) --> A B C D E F\n",
    "    for it in iterables:\n",
    "        for element in it:\n",
    "            yield element\n",
    "\n"
   ]
  },
  {
   "cell_type": "markdown",
   "metadata": {},
   "source": [
    "\n",
    "</dd></dl>\n",
    "<dl class=\"function\">\n",
    "<dt id=\"itertools.combinations\">\n",
    "<code class=\"descclassname\">itertools.</code><code class=\"descname\">combinations</code><span class=\"sig-paren\">(</span><em>iterable</em>, <em>r</em><span class=\"sig-paren\">)</span><a class=\"headerlink\" href=\"#itertools.combinations\" title=\"Permalink to this definition\">¶</a></dt>\n",
    "<dd><p>Return <em>r</em> length subsequences of elements from the input <em>iterable</em>.</p>\n",
    "<p>Combinations are emitted in lexicographic sort order.  So, if the\n",
    "input <em>iterable</em> is sorted, the combination tuples will be produced\n",
    "in sorted order.</p>\n",
    "<p>Elements are treated as unique based on their position, not on their\n",
    "value.  So if the input elements are unique, there will be no repeat\n",
    "values in each combination.</p>\n",
    "<p>Roughly equivalent to:</p>\n"
   ]
  },
  {
   "cell_type": "code",
   "execution_count": null,
   "metadata": {
    "collapsed": true
   },
   "outputs": [],
   "source": [
    "def combinations(iterable, r):\n",
    "    # combinations('ABCD', 2) --> AB AC AD BC BD CD\n",
    "    # combinations(range(4), 3) --> 012 013 023 123\n",
    "    pool = tuple(iterable)\n",
    "    n = len(pool)\n",
    "    if r > n:\n",
    "        return\n",
    "    indices = list(range(r))\n",
    "    yield tuple(pool[i] for i in indices)\n",
    "    while True:\n",
    "        for i in reversed(range(r)):\n",
    "            if indices[i] != i + n - r:\n",
    "                break\n",
    "        else:\n",
    "            return\n",
    "        indices[i] += 1\n",
    "        for j in range(i+1, r):\n",
    "            indices[j] = indices[j-1] + 1\n",
    "        yield tuple(pool[i] for i in indices)\n",
    "\n"
   ]
  },
  {
   "cell_type": "markdown",
   "metadata": {},
   "source": [
    "\n",
    "<p>The code for <a class=\"reference internal\" href=\"#itertools.combinations\" title=\"itertools.combinations\"><code class=\"xref py py-func docutils literal\"><span class=\"pre\">combinations()</span></code></a> can be also expressed as a subsequence\n",
    "of <a class=\"reference internal\" href=\"#itertools.permutations\" title=\"itertools.permutations\"><code class=\"xref py py-func docutils literal\"><span class=\"pre\">permutations()</span></code></a> after filtering entries where the elements are not\n",
    "in sorted order (according to their position in the input pool):</p>\n"
   ]
  },
  {
   "cell_type": "code",
   "execution_count": null,
   "metadata": {
    "collapsed": true
   },
   "outputs": [],
   "source": [
    "def combinations(iterable, r):\n",
    "    pool = tuple(iterable)\n",
    "    n = len(pool)\n",
    "    for indices in permutations(range(n), r):\n",
    "        if sorted(indices) == list(indices):\n",
    "            yield tuple(pool[i] for i in indices)\n",
    "\n"
   ]
  },
  {
   "cell_type": "markdown",
   "metadata": {},
   "source": [
    "\n",
    "<p>The number of items returned is <code class=\"docutils literal\"><span class=\"pre\">n!</span> <span class=\"pre\">/</span> <span class=\"pre\">r!</span> <span class=\"pre\">/</span> <span class=\"pre\">(n-r)!</span></code> when <code class=\"docutils literal\"><span class=\"pre\">0</span> <span class=\"pre\">&lt;=</span> <span class=\"pre\">r</span> <span class=\"pre\">&lt;=</span> <span class=\"pre\">n</span></code>\n",
    "or zero when <code class=\"docutils literal\"><span class=\"pre\">r</span> <span class=\"pre\">&gt;</span> <span class=\"pre\">n</span></code>.</p>\n",
    "</dd></dl>\n",
    "<dl class=\"function\">\n",
    "<dt id=\"itertools.combinations_with_replacement\">\n",
    "<code class=\"descclassname\">itertools.</code><code class=\"descname\">combinations_with_replacement</code><span class=\"sig-paren\">(</span><em>iterable</em>, <em>r</em><span class=\"sig-paren\">)</span><a class=\"headerlink\" href=\"#itertools.combinations_with_replacement\" title=\"Permalink to this definition\">¶</a></dt>\n",
    "<dd><p>Return <em>r</em> length subsequences of elements from the input <em>iterable</em>\n",
    "allowing individual elements to be repeated more than once.</p>\n",
    "<p>Combinations are emitted in lexicographic sort order.  So, if the\n",
    "input <em>iterable</em> is sorted, the combination tuples will be produced\n",
    "in sorted order.</p>\n",
    "<p>Elements are treated as unique based on their position, not on their\n",
    "value.  So if the input elements are unique, the generated combinations\n",
    "will also be unique.</p>\n",
    "<p>Roughly equivalent to:</p>\n"
   ]
  },
  {
   "cell_type": "code",
   "execution_count": null,
   "metadata": {
    "collapsed": true
   },
   "outputs": [],
   "source": [
    "def combinations_with_replacement(iterable, r):\n",
    "    # combinations_with_replacement('ABC', 2) --> AA AB AC BB BC CC\n",
    "    pool = tuple(iterable)\n",
    "    n = len(pool)\n",
    "    if not n and r:\n",
    "        return\n",
    "    indices = [0] * r\n",
    "    yield tuple(pool[i] for i in indices)\n",
    "    while True:\n",
    "        for i in reversed(range(r)):\n",
    "            if indices[i] != n - 1:\n",
    "                break\n",
    "        else:\n",
    "            return\n",
    "        indices[i:] = [indices[i] + 1] * (r - i)\n",
    "        yield tuple(pool[i] for i in indices)\n",
    "\n"
   ]
  },
  {
   "cell_type": "markdown",
   "metadata": {},
   "source": [
    "\n",
    "<p>The code for <a class=\"reference internal\" href=\"#itertools.combinations_with_replacement\" title=\"itertools.combinations_with_replacement\"><code class=\"xref py py-func docutils literal\"><span class=\"pre\">combinations_with_replacement()</span></code></a> can be also expressed as\n",
    "a subsequence of <a class=\"reference internal\" href=\"#itertools.product\" title=\"itertools.product\"><code class=\"xref py py-func docutils literal\"><span class=\"pre\">product()</span></code></a> after filtering entries where the elements\n",
    "are not in sorted order (according to their position in the input pool):</p>\n"
   ]
  },
  {
   "cell_type": "code",
   "execution_count": null,
   "metadata": {
    "collapsed": true
   },
   "outputs": [],
   "source": [
    "def combinations_with_replacement(iterable, r):\n",
    "    pool = tuple(iterable)\n",
    "    n = len(pool)\n",
    "    for indices in product(range(n), repeat=r):\n",
    "        if sorted(indices) == list(indices):\n",
    "            yield tuple(pool[i] for i in indices)\n",
    "\n"
   ]
  },
  {
   "cell_type": "markdown",
   "metadata": {},
   "source": [
    "\n",
    "<p>The number of items returned is <code class=\"docutils literal\"><span class=\"pre\">(n+r-1)!</span> <span class=\"pre\">/</span> <span class=\"pre\">r!</span> <span class=\"pre\">/</span> <span class=\"pre\">(n-1)!</span></code> when <code class=\"docutils literal\"><span class=\"pre\">n</span> <span class=\"pre\">&gt;</span> <span class=\"pre\">0</span></code>.</p>\n",
    "<div class=\"versionadded\">\n",
    "<p><span class=\"versionmodified\">New in version 3.1.</span></p>\n",
    "</div>\n",
    "</dd></dl>\n",
    "<dl class=\"function\">\n",
    "<dt id=\"itertools.compress\">\n",
    "<code class=\"descclassname\">itertools.</code><code class=\"descname\">compress</code><span class=\"sig-paren\">(</span><em>data</em>, <em>selectors</em><span class=\"sig-paren\">)</span><a class=\"headerlink\" href=\"#itertools.compress\" title=\"Permalink to this definition\">¶</a></dt>\n",
    "<dd><p>Make an iterator that filters elements from <em>data</em> returning only those that\n",
    "have a corresponding element in <em>selectors</em> that evaluates to <code class=\"docutils literal\"><span class=\"pre\">True</span></code>.\n",
    "Stops when either the <em>data</em> or <em>selectors</em> iterables has been exhausted.\n",
    "Roughly equivalent to:</p>\n"
   ]
  },
  {
   "cell_type": "code",
   "execution_count": null,
   "metadata": {
    "collapsed": true
   },
   "outputs": [],
   "source": [
    "def compress(data, selectors):\n",
    "    # compress('ABCDEF', [1,0,1,0,1,1]) --> A C E F\n",
    "    return (d for d, s in zip(data, selectors) if s)\n",
    "\n"
   ]
  },
  {
   "cell_type": "markdown",
   "metadata": {},
   "source": [
    "\n",
    "<div class=\"versionadded\">\n",
    "<p><span class=\"versionmodified\">New in version 3.1.</span></p>\n",
    "</div>\n",
    "</dd></dl>\n",
    "<dl class=\"function\">\n",
    "<dt id=\"itertools.count\">\n",
    "<code class=\"descclassname\">itertools.</code><code class=\"descname\">count</code><span class=\"sig-paren\">(</span><em>start=0</em>, <em>step=1</em><span class=\"sig-paren\">)</span><a class=\"headerlink\" href=\"#itertools.count\" title=\"Permalink to this definition\">¶</a></dt>\n",
    "<dd><p>Make an iterator that returns evenly spaced values starting with number <em>start</em>. Often\n",
    "used as an argument to <a class=\"reference internal\" href=\"functions.html#map\" title=\"map\"><code class=\"xref py py-func docutils literal\"><span class=\"pre\">map()</span></code></a> to generate consecutive data points.\n",
    "Also, used with <a class=\"reference internal\" href=\"functions.html#zip\" title=\"zip\"><code class=\"xref py py-func docutils literal\"><span class=\"pre\">zip()</span></code></a> to add sequence numbers.  Roughly equivalent to:</p>\n"
   ]
  },
  {
   "cell_type": "code",
   "execution_count": null,
   "metadata": {
    "collapsed": true
   },
   "outputs": [],
   "source": [
    "def count(start=0, step=1):\n",
    "    # count(10) --> 10 11 12 13 14 ...\n",
    "    # count(2.5, 0.5) -> 2.5 3.0 3.5 ...\n",
    "    n = start\n",
    "    while True:\n",
    "        yield n\n",
    "        n += step\n",
    "\n"
   ]
  },
  {
   "cell_type": "markdown",
   "metadata": {},
   "source": [
    "\n",
    "<p>When counting with floating point numbers, better accuracy can sometimes be\n",
    "achieved by substituting multiplicative code such as: <code class=\"docutils literal\"><span class=\"pre\">(start</span> <span class=\"pre\">+</span> <span class=\"pre\">step</span> <span class=\"pre\">*</span> <span class=\"pre\">i</span>\n",
    "<span class=\"pre\">for</span> <span class=\"pre\">i</span> <span class=\"pre\">in</span> <span class=\"pre\">count())</span></code>.</p>\n",
    "<div class=\"versionchanged\">\n",
    "<p><span class=\"versionmodified\">Changed in version 3.1: </span>Added <em>step</em> argument and allowed non-integer arguments.</p>\n",
    "</div>\n",
    "</dd></dl>\n",
    "<dl class=\"function\">\n",
    "<dt id=\"itertools.cycle\">\n",
    "<code class=\"descclassname\">itertools.</code><code class=\"descname\">cycle</code><span class=\"sig-paren\">(</span><em>iterable</em><span class=\"sig-paren\">)</span><a class=\"headerlink\" href=\"#itertools.cycle\" title=\"Permalink to this definition\">¶</a></dt>\n",
    "<dd><p>Make an iterator returning elements from the iterable and saving a copy of each.\n",
    "When the iterable is exhausted, return elements from the saved copy.  Repeats\n",
    "indefinitely.  Roughly equivalent to:</p>\n"
   ]
  },
  {
   "cell_type": "code",
   "execution_count": null,
   "metadata": {
    "collapsed": true
   },
   "outputs": [],
   "source": [
    "def cycle(iterable):\n",
    "    # cycle('ABCD') --> A B C D A B C D A B C D ...\n",
    "    saved = []\n",
    "    for element in iterable:\n",
    "        yield element\n",
    "        saved.append(element)\n",
    "    while saved:\n",
    "        for element in saved:\n",
    "              yield element\n",
    "\n"
   ]
  },
  {
   "cell_type": "markdown",
   "metadata": {},
   "source": [
    "\n",
    "<p>Note, this member of the toolkit may require significant auxiliary storage\n",
    "(depending on the length of the iterable).</p>\n",
    "</dd></dl>\n",
    "<dl class=\"function\">\n",
    "<dt id=\"itertools.dropwhile\">\n",
    "<code class=\"descclassname\">itertools.</code><code class=\"descname\">dropwhile</code><span class=\"sig-paren\">(</span><em>predicate</em>, <em>iterable</em><span class=\"sig-paren\">)</span><a class=\"headerlink\" href=\"#itertools.dropwhile\" title=\"Permalink to this definition\">¶</a></dt>\n",
    "<dd><p>Make an iterator that drops elements from the iterable as long as the predicate\n",
    "is true; afterwards, returns every element.  Note, the iterator does not produce\n",
    "<em>any</em> output until the predicate first becomes false, so it may have a lengthy\n",
    "start-up time.  Roughly equivalent to:</p>\n"
   ]
  },
  {
   "cell_type": "code",
   "execution_count": null,
   "metadata": {
    "collapsed": true
   },
   "outputs": [],
   "source": [
    "def dropwhile(predicate, iterable):\n",
    "    # dropwhile(lambda x: x<5, [1,4,6,4,1]) --> 6 4 1\n",
    "    iterable = iter(iterable)\n",
    "    for x in iterable:\n",
    "        if not predicate(x):\n",
    "            yield x\n",
    "            break\n",
    "    for x in iterable:\n",
    "        yield x\n",
    "\n"
   ]
  },
  {
   "cell_type": "markdown",
   "metadata": {},
   "source": [
    "\n",
    "</dd></dl>\n",
    "<dl class=\"function\">\n",
    "<dt id=\"itertools.filterfalse\">\n",
    "<code class=\"descclassname\">itertools.</code><code class=\"descname\">filterfalse</code><span class=\"sig-paren\">(</span><em>predicate</em>, <em>iterable</em><span class=\"sig-paren\">)</span><a class=\"headerlink\" href=\"#itertools.filterfalse\" title=\"Permalink to this definition\">¶</a></dt>\n",
    "<dd><p>Make an iterator that filters elements from iterable returning only those for\n",
    "which the predicate is <code class=\"docutils literal\"><span class=\"pre\">False</span></code>. If <em>predicate</em> is <code class=\"docutils literal\"><span class=\"pre\">None</span></code>, return the items\n",
    "that are false. Roughly equivalent to:</p>\n"
   ]
  },
  {
   "cell_type": "code",
   "execution_count": null,
   "metadata": {
    "collapsed": true
   },
   "outputs": [],
   "source": [
    "def filterfalse(predicate, iterable):\n",
    "    # filterfalse(lambda x: x%2, range(10)) --> 0 2 4 6 8\n",
    "    if predicate is None:\n",
    "        predicate = bool\n",
    "    for x in iterable:\n",
    "        if not predicate(x):\n",
    "            yield x\n",
    "\n"
   ]
  },
  {
   "cell_type": "markdown",
   "metadata": {},
   "source": [
    "\n",
    "</dd></dl>\n",
    "<dl class=\"function\">\n",
    "<dt id=\"itertools.groupby\">\n",
    "<code class=\"descclassname\">itertools.</code><code class=\"descname\">groupby</code><span class=\"sig-paren\">(</span><em>iterable</em>, <em>key=None</em><span class=\"sig-paren\">)</span><a class=\"headerlink\" href=\"#itertools.groupby\" title=\"Permalink to this definition\">¶</a></dt>\n",
    "<dd><p>Make an iterator that returns consecutive keys and groups from the <em>iterable</em>.\n",
    "The <em>key</em> is a function computing a key value for each element.  If not\n",
    "specified or is <code class=\"docutils literal\"><span class=\"pre\">None</span></code>, <em>key</em> defaults to an identity function and returns\n",
    "the element unchanged.  Generally, the iterable needs to already be sorted on\n",
    "the same key function.</p>\n",
    "<p>The operation of <a class=\"reference internal\" href=\"#itertools.groupby\" title=\"itertools.groupby\"><code class=\"xref py py-func docutils literal\"><span class=\"pre\">groupby()</span></code></a> is similar to the <code class=\"docutils literal\"><span class=\"pre\">uniq</span></code> filter in Unix.  It\n",
    "generates a break or new group every time the value of the key function changes\n",
    "(which is why it is usually necessary to have sorted the data using the same key\n",
    "function).  That behavior differs from SQL’s GROUP BY which aggregates common\n",
    "elements regardless of their input order.</p>\n",
    "<p>The returned group is itself an iterator that shares the underlying iterable\n",
    "with <a class=\"reference internal\" href=\"#itertools.groupby\" title=\"itertools.groupby\"><code class=\"xref py py-func docutils literal\"><span class=\"pre\">groupby()</span></code></a>.  Because the source is shared, when the <a class=\"reference internal\" href=\"#itertools.groupby\" title=\"itertools.groupby\"><code class=\"xref py py-func docutils literal\"><span class=\"pre\">groupby()</span></code></a>\n",
    "object is advanced, the previous group is no longer visible.  So, if that data\n",
    "is needed later, it should be stored as a list:</p>\n"
   ]
  },
  {
   "cell_type": "code",
   "execution_count": null,
   "metadata": {
    "collapsed": true
   },
   "outputs": [],
   "source": [
    "groups = []\n",
    "uniquekeys = []\n",
    "data = sorted(data, key=keyfunc)\n",
    "for k, g in groupby(data, keyfunc):\n",
    "    groups.append(list(g))      # Store group iterator as a list\n",
    "    uniquekeys.append(k)\n",
    "\n"
   ]
  },
  {
   "cell_type": "markdown",
   "metadata": {},
   "source": [
    "\n",
    "<p><a class=\"reference internal\" href=\"#itertools.groupby\" title=\"itertools.groupby\"><code class=\"xref py py-func docutils literal\"><span class=\"pre\">groupby()</span></code></a> is roughly equivalent to:</p>\n"
   ]
  },
  {
   "cell_type": "code",
   "execution_count": null,
   "metadata": {
    "collapsed": true
   },
   "outputs": [],
   "source": [
    "class groupby:\n",
    "    # [k for k, g in groupby('AAAABBBCCDAABBB')] --> A B C D A B\n",
    "    # [list(g) for k, g in groupby('AAAABBBCCD')] --> AAAA BBB CC D\n",
    "    def __init__(self, iterable, key=None):\n",
    "        if key is None:\n",
    "            key = lambda x: x\n",
    "        self.keyfunc = key\n",
    "        self.it = iter(iterable)\n",
    "        self.tgtkey = self.currkey = self.currvalue = object()\n",
    "    def __iter__(self):\n",
    "        return self\n",
    "    def __next__(self):\n",
    "        while self.currkey == self.tgtkey:\n",
    "            self.currvalue = next(self.it)    # Exit on StopIteration\n",
    "            self.currkey = self.keyfunc(self.currvalue)\n",
    "        self.tgtkey = self.currkey\n",
    "        return (self.currkey, self._grouper(self.tgtkey))\n",
    "    def _grouper(self, tgtkey):\n",
    "        while self.currkey == tgtkey:\n",
    "            yield self.currvalue\n",
    "            try:\n",
    "                self.currvalue = next(self.it)\n",
    "            except StopIteration:\n",
    "                return\n",
    "            self.currkey = self.keyfunc(self.currvalue)\n",
    "\n"
   ]
  },
  {
   "cell_type": "markdown",
   "metadata": {},
   "source": [
    "\n",
    "</dd></dl>\n",
    "<dl class=\"function\">\n",
    "<dt id=\"itertools.islice\">\n",
    "<code class=\"descclassname\">itertools.</code><code class=\"descname\">islice</code><span class=\"sig-paren\">(</span><em>iterable</em>, <em>stop</em><span class=\"sig-paren\">)</span><a class=\"headerlink\" href=\"#itertools.islice\" title=\"Permalink to this definition\">¶</a></dt>\n",
    "<dt>\n",
    "<code class=\"descclassname\">itertools.</code><code class=\"descname\">islice</code><span class=\"sig-paren\">(</span><em>iterable</em>, <em>start</em>, <em>stop</em><span class=\"optional\">[</span>, <em>step</em><span class=\"optional\">]</span><span class=\"sig-paren\">)</span></dt>\n",
    "<dd><p>Make an iterator that returns selected elements from the iterable. If <em>start</em> is\n",
    "non-zero, then elements from the iterable are skipped until start is reached.\n",
    "Afterward, elements are returned consecutively unless <em>step</em> is set higher than\n",
    "one which results in items being skipped.  If <em>stop</em> is <code class=\"docutils literal\"><span class=\"pre\">None</span></code>, then iteration\n",
    "continues until the iterator is exhausted, if at all; otherwise, it stops at the\n",
    "specified position.  Unlike regular slicing, <a class=\"reference internal\" href=\"#itertools.islice\" title=\"itertools.islice\"><code class=\"xref py py-func docutils literal\"><span class=\"pre\">islice()</span></code></a> does not support\n",
    "negative values for <em>start</em>, <em>stop</em>, or <em>step</em>.  Can be used to extract related\n",
    "fields from data where the internal structure has been flattened (for example, a\n",
    "multi-line report may list a name field on every third line).  Roughly equivalent to:</p>\n"
   ]
  },
  {
   "cell_type": "code",
   "execution_count": null,
   "metadata": {
    "collapsed": true
   },
   "outputs": [],
   "source": [
    "def islice(iterable, *args):\n",
    "    # islice('ABCDEFG', 2) --> A B\n",
    "    # islice('ABCDEFG', 2, 4) --> C D\n",
    "    # islice('ABCDEFG', 2, None) --> C D E F G\n",
    "    # islice('ABCDEFG', 0, None, 2) --> A C E G\n",
    "    s = slice(*args)\n",
    "    it = iter(range(s.start or 0, s.stop or sys.maxsize, s.step or 1))\n",
    "    try:\n",
    "        nexti = next(it)\n",
    "    except StopIteration:\n",
    "        return\n",
    "    for i, element in enumerate(iterable):\n",
    "        if i == nexti:\n",
    "            yield element\n",
    "            nexti = next(it)\n",
    "\n"
   ]
  },
  {
   "cell_type": "markdown",
   "metadata": {},
   "source": [
    "\n",
    "<p>If <em>start</em> is <code class=\"docutils literal\"><span class=\"pre\">None</span></code>, then iteration starts at zero. If <em>step</em> is <code class=\"docutils literal\"><span class=\"pre\">None</span></code>,\n",
    "then the step defaults to one.</p>\n",
    "</dd></dl>\n",
    "<dl class=\"function\">\n",
    "<dt id=\"itertools.permutations\">\n",
    "<code class=\"descclassname\">itertools.</code><code class=\"descname\">permutations</code><span class=\"sig-paren\">(</span><em>iterable</em>, <em>r=None</em><span class=\"sig-paren\">)</span><a class=\"headerlink\" href=\"#itertools.permutations\" title=\"Permalink to this definition\">¶</a></dt>\n",
    "<dd><p>Return successive <em>r</em> length permutations of elements in the <em>iterable</em>.</p>\n",
    "<p>If <em>r</em> is not specified or is <code class=\"docutils literal\"><span class=\"pre\">None</span></code>, then <em>r</em> defaults to the length\n",
    "of the <em>iterable</em> and all possible full-length permutations\n",
    "are generated.</p>\n",
    "<p>Permutations are emitted in lexicographic sort order.  So, if the\n",
    "input <em>iterable</em> is sorted, the permutation tuples will be produced\n",
    "in sorted order.</p>\n",
    "<p>Elements are treated as unique based on their position, not on their\n",
    "value.  So if the input elements are unique, there will be no repeat\n",
    "values in each permutation.</p>\n",
    "<p>Roughly equivalent to:</p>\n"
   ]
  },
  {
   "cell_type": "code",
   "execution_count": null,
   "metadata": {
    "collapsed": true
   },
   "outputs": [],
   "source": [
    "def permutations(iterable, r=None):\n",
    "    # permutations('ABCD', 2) --> AB AC AD BA BC BD CA CB CD DA DB DC\n",
    "    # permutations(range(3)) --> 012 021 102 120 201 210\n",
    "    pool = tuple(iterable)\n",
    "    n = len(pool)\n",
    "    r = n if r is None else r\n",
    "    if r > n:\n",
    "        return\n",
    "    indices = list(range(n))\n",
    "    cycles = list(range(n, n-r, -1))\n",
    "    yield tuple(pool[i] for i in indices[:r])\n",
    "    while n:\n",
    "        for i in reversed(range(r)):\n",
    "            cycles[i] -= 1\n",
    "            if cycles[i] == 0:\n",
    "                indices[i:] = indices[i+1:] + indices[i:i+1]\n",
    "                cycles[i] = n - i\n",
    "            else:\n",
    "                j = cycles[i]\n",
    "                indices[i], indices[-j] = indices[-j], indices[i]\n",
    "                yield tuple(pool[i] for i in indices[:r])\n",
    "                break\n",
    "        else:\n",
    "            return\n",
    "\n"
   ]
  },
  {
   "cell_type": "markdown",
   "metadata": {},
   "source": [
    "\n",
    "<p>The code for <a class=\"reference internal\" href=\"#itertools.permutations\" title=\"itertools.permutations\"><code class=\"xref py py-func docutils literal\"><span class=\"pre\">permutations()</span></code></a> can be also expressed as a subsequence of\n",
    "<a class=\"reference internal\" href=\"#itertools.product\" title=\"itertools.product\"><code class=\"xref py py-func docutils literal\"><span class=\"pre\">product()</span></code></a>, filtered to exclude entries with repeated elements (those\n",
    "from the same position in the input pool):</p>\n"
   ]
  },
  {
   "cell_type": "code",
   "execution_count": null,
   "metadata": {
    "collapsed": true
   },
   "outputs": [],
   "source": [
    "def permutations(iterable, r=None):\n",
    "    pool = tuple(iterable)\n",
    "    n = len(pool)\n",
    "    r = n if r is None else r\n",
    "    for indices in product(range(n), repeat=r):\n",
    "        if len(set(indices)) == r:\n",
    "            yield tuple(pool[i] for i in indices)\n",
    "\n"
   ]
  },
  {
   "cell_type": "markdown",
   "metadata": {},
   "source": [
    "\n",
    "<p>The number of items returned is <code class=\"docutils literal\"><span class=\"pre\">n!</span> <span class=\"pre\">/</span> <span class=\"pre\">(n-r)!</span></code> when <code class=\"docutils literal\"><span class=\"pre\">0</span> <span class=\"pre\">&lt;=</span> <span class=\"pre\">r</span> <span class=\"pre\">&lt;=</span> <span class=\"pre\">n</span></code>\n",
    "or zero when <code class=\"docutils literal\"><span class=\"pre\">r</span> <span class=\"pre\">&gt;</span> <span class=\"pre\">n</span></code>.</p>\n",
    "</dd></dl>\n",
    "<dl class=\"function\">\n",
    "<dt id=\"itertools.product\">\n",
    "<code class=\"descclassname\">itertools.</code><code class=\"descname\">product</code><span class=\"sig-paren\">(</span><em>*iterables</em>, <em>repeat=1</em><span class=\"sig-paren\">)</span><a class=\"headerlink\" href=\"#itertools.product\" title=\"Permalink to this definition\">¶</a></dt>\n",
    "<dd><p>Cartesian product of input iterables.</p>\n",
    "<p>Roughly equivalent to nested for-loops in a generator expression. For example,\n",
    "<code class=\"docutils literal\"><span class=\"pre\">product(A,</span> <span class=\"pre\">B)</span></code> returns the same as <code class=\"docutils literal\"><span class=\"pre\">((x,y)</span> <span class=\"pre\">for</span> <span class=\"pre\">x</span> <span class=\"pre\">in</span> <span class=\"pre\">A</span> <span class=\"pre\">for</span> <span class=\"pre\">y</span> <span class=\"pre\">in</span> <span class=\"pre\">B)</span></code>.</p>\n",
    "<p>The nested loops cycle like an odometer with the rightmost element advancing\n",
    "on every iteration.  This pattern creates a lexicographic ordering so that if\n",
    "the input’s iterables are sorted, the product tuples are emitted in sorted\n",
    "order.</p>\n",
    "<p>To compute the product of an iterable with itself, specify the number of\n",
    "repetitions with the optional <em>repeat</em> keyword argument.  For example,\n",
    "<code class=\"docutils literal\"><span class=\"pre\">product(A,</span> <span class=\"pre\">repeat=4)</span></code> means the same as <code class=\"docutils literal\"><span class=\"pre\">product(A,</span> <span class=\"pre\">A,</span> <span class=\"pre\">A,</span> <span class=\"pre\">A)</span></code>.</p>\n",
    "<p>This function is roughly equivalent to the following code, except that the\n",
    "actual implementation does not build up intermediate results in memory:</p>\n"
   ]
  },
  {
   "cell_type": "code",
   "execution_count": null,
   "metadata": {
    "collapsed": true
   },
   "outputs": [],
   "source": [
    "def product(*args, repeat=1):\n",
    "    # product('ABCD', 'xy') --> Ax Ay Bx By Cx Cy Dx Dy\n",
    "    # product(range(2), repeat=3) --> 000 001 010 011 100 101 110 111\n",
    "    pools = [tuple(pool) for pool in args] * repeat\n",
    "    result = [[]]\n",
    "    for pool in pools:\n",
    "        result = [x+[y] for x in result for y in pool]\n",
    "    for prod in result:\n",
    "        yield tuple(prod)\n",
    "\n"
   ]
  },
  {
   "cell_type": "markdown",
   "metadata": {},
   "source": [
    "\n",
    "</dd></dl>\n",
    "<dl class=\"function\">\n",
    "<dt id=\"itertools.repeat\">\n",
    "<code class=\"descclassname\">itertools.</code><code class=\"descname\">repeat</code><span class=\"sig-paren\">(</span><em>object</em><span class=\"optional\">[</span>, <em>times</em><span class=\"optional\">]</span><span class=\"sig-paren\">)</span><a class=\"headerlink\" href=\"#itertools.repeat\" title=\"Permalink to this definition\">¶</a></dt>\n",
    "<dd><p>Make an iterator that returns <em>object</em> over and over again. Runs indefinitely\n",
    "unless the <em>times</em> argument is specified. Used as argument to <a class=\"reference internal\" href=\"functions.html#map\" title=\"map\"><code class=\"xref py py-func docutils literal\"><span class=\"pre\">map()</span></code></a> for\n",
    "invariant parameters to the called function.  Also used with <a class=\"reference internal\" href=\"functions.html#zip\" title=\"zip\"><code class=\"xref py py-func docutils literal\"><span class=\"pre\">zip()</span></code></a> to\n",
    "create an invariant part of a tuple record.</p>\n",
    "<p>Roughly equivalent to:</p>\n"
   ]
  },
  {
   "cell_type": "code",
   "execution_count": null,
   "metadata": {
    "collapsed": true
   },
   "outputs": [],
   "source": [
    "def repeat(object, times=None):\n",
    "    # repeat(10, 3) --> 10 10 10\n",
    "    if times is None:\n",
    "        while True:\n",
    "            yield object\n",
    "    else:\n",
    "        for i in range(times):\n",
    "            yield object\n",
    "\n"
   ]
  },
  {
   "cell_type": "markdown",
   "metadata": {},
   "source": [
    "\n",
    "<p>A common use for <em>repeat</em> is to supply a stream of constant values to <em>map</em>\n",
    "or <em>zip</em>:</p>\n"
   ]
  },
  {
   "cell_type": "code",
   "execution_count": null,
   "metadata": {
    "collapsed": true
   },
   "outputs": [],
   "source": [
    "list(map(pow, range(10), repeat(2)))"
   ]
  },
  {
   "cell_type": "markdown",
   "metadata": {},
   "source": [
    "\n",
    "</dd></dl>\n",
    "<dl class=\"function\">\n",
    "<dt id=\"itertools.starmap\">\n",
    "<code class=\"descclassname\">itertools.</code><code class=\"descname\">starmap</code><span class=\"sig-paren\">(</span><em>function</em>, <em>iterable</em><span class=\"sig-paren\">)</span><a class=\"headerlink\" href=\"#itertools.starmap\" title=\"Permalink to this definition\">¶</a></dt>\n",
    "<dd><p>Make an iterator that computes the function using arguments obtained from\n",
    "the iterable.  Used instead of <a class=\"reference internal\" href=\"functions.html#map\" title=\"map\"><code class=\"xref py py-func docutils literal\"><span class=\"pre\">map()</span></code></a> when argument parameters are already\n",
    "grouped in tuples from a single iterable (the data has been “pre-zipped”).  The\n",
    "difference between <a class=\"reference internal\" href=\"functions.html#map\" title=\"map\"><code class=\"xref py py-func docutils literal\"><span class=\"pre\">map()</span></code></a> and <a class=\"reference internal\" href=\"#itertools.starmap\" title=\"itertools.starmap\"><code class=\"xref py py-func docutils literal\"><span class=\"pre\">starmap()</span></code></a> parallels the distinction\n",
    "between <code class=\"docutils literal\"><span class=\"pre\">function(a,b)</span></code> and <code class=\"docutils literal\"><span class=\"pre\">function(*c)</span></code>. Roughly equivalent to:</p>\n"
   ]
  },
  {
   "cell_type": "code",
   "execution_count": null,
   "metadata": {
    "collapsed": true
   },
   "outputs": [],
   "source": [
    "def starmap(function, iterable):\n",
    "    # starmap(pow, [(2,5), (3,2), (10,3)]) --> 32 9 1000\n",
    "    for args in iterable:\n",
    "        yield function(*args)\n",
    "\n"
   ]
  },
  {
   "cell_type": "markdown",
   "metadata": {},
   "source": [
    "\n",
    "</dd></dl>\n",
    "<dl class=\"function\">\n",
    "<dt id=\"itertools.takewhile\">\n",
    "<code class=\"descclassname\">itertools.</code><code class=\"descname\">takewhile</code><span class=\"sig-paren\">(</span><em>predicate</em>, <em>iterable</em><span class=\"sig-paren\">)</span><a class=\"headerlink\" href=\"#itertools.takewhile\" title=\"Permalink to this definition\">¶</a></dt>\n",
    "<dd><p>Make an iterator that returns elements from the iterable as long as the\n",
    "predicate is true.  Roughly equivalent to:</p>\n"
   ]
  },
  {
   "cell_type": "code",
   "execution_count": null,
   "metadata": {
    "collapsed": true
   },
   "outputs": [],
   "source": [
    "def takewhile(predicate, iterable):\n",
    "    # takewhile(lambda x: x<5, [1,4,6,4,1]) --> 1 4\n",
    "    for x in iterable:\n",
    "        if predicate(x):\n",
    "            yield x\n",
    "        else:\n",
    "            break\n",
    "\n"
   ]
  },
  {
   "cell_type": "markdown",
   "metadata": {},
   "source": [
    "\n",
    "</dd></dl>\n",
    "<dl class=\"function\">\n",
    "<dt id=\"itertools.tee\">\n",
    "<code class=\"descclassname\">itertools.</code><code class=\"descname\">tee</code><span class=\"sig-paren\">(</span><em>iterable</em>, <em>n=2</em><span class=\"sig-paren\">)</span><a class=\"headerlink\" href=\"#itertools.tee\" title=\"Permalink to this definition\">¶</a></dt>\n",
    "<dd><p>Return <em>n</em> independent iterators from a single iterable.</p>\n",
    "<p>The following Python code helps explain what <em>tee</em> does (although the actual\n",
    "implementation is more complex and uses only a single underlying\n",
    "<abbr title=\"first-in, first-out\">FIFO</abbr> queue).</p>\n",
    "<p>Roughly equivalent to:</p>\n"
   ]
  },
  {
   "cell_type": "code",
   "execution_count": null,
   "metadata": {
    "collapsed": true
   },
   "outputs": [],
   "source": [
    "def tee(iterable, n=2):\n",
    "    it = iter(iterable)\n",
    "    deques = [collections.deque() for i in range(n)]\n",
    "    def gen(mydeque):\n",
    "        while True:\n",
    "            if not mydeque:             # when the local deque is empty\n",
    "                try:\n",
    "                    newval = next(it)   # fetch a new value and\n",
    "                except StopIteration:\n",
    "                    return\n",
    "                for d in deques:        # load it to all the deques\n",
    "                    d.append(newval)\n",
    "            yield mydeque.popleft()\n",
    "    return tuple(gen(d) for d in deques)\n",
    "\n"
   ]
  },
  {
   "cell_type": "markdown",
   "metadata": {},
   "source": [
    "\n",
    "<p>Once <a class=\"reference internal\" href=\"#itertools.tee\" title=\"itertools.tee\"><code class=\"xref py py-func docutils literal\"><span class=\"pre\">tee()</span></code></a> has made a split, the original <em>iterable</em> should not be\n",
    "used anywhere else; otherwise, the <em>iterable</em> could get advanced without\n",
    "the tee objects being informed.</p>\n",
    "<p>This itertool may require significant auxiliary storage (depending on how\n",
    "much temporary data needs to be stored). In general, if one iterator uses\n",
    "most or all of the data before another iterator starts, it is faster to use\n",
    "<a class=\"reference internal\" href=\"stdtypes.html#list\" title=\"list\"><code class=\"xref py py-func docutils literal\"><span class=\"pre\">list()</span></code></a> instead of <a class=\"reference internal\" href=\"#itertools.tee\" title=\"itertools.tee\"><code class=\"xref py py-func docutils literal\"><span class=\"pre\">tee()</span></code></a>.</p>\n",
    "</dd></dl>\n",
    "<dl class=\"function\">\n",
    "<dt id=\"itertools.zip_longest\">\n",
    "<code class=\"descclassname\">itertools.</code><code class=\"descname\">zip_longest</code><span class=\"sig-paren\">(</span><em>*iterables</em>, <em>fillvalue=None</em><span class=\"sig-paren\">)</span><a class=\"headerlink\" href=\"#itertools.zip_longest\" title=\"Permalink to this definition\">¶</a></dt>\n",
    "<dd><p>Make an iterator that aggregates elements from each of the iterables. If the\n",
    "iterables are of uneven length, missing values are filled-in with <em>fillvalue</em>.\n",
    "Iteration continues until the longest iterable is exhausted.  Roughly equivalent to:</p>\n"
   ]
  },
  {
   "cell_type": "code",
   "execution_count": null,
   "metadata": {
    "collapsed": true
   },
   "outputs": [],
   "source": [
    "class ZipExhausted(Exception):\n",
    "    pass\n",
    "\n",
    "def zip_longest(*args, **kwds):\n",
    "    # zip_longest('ABCD', 'xy', fillvalue='-') --> Ax By C- D-\n",
    "    fillvalue = kwds.get('fillvalue')\n",
    "    counter = len(args) - 1\n",
    "    def sentinel():\n",
    "        nonlocal counter\n",
    "        if not counter:\n",
    "            raise ZipExhausted\n",
    "        counter -= 1\n",
    "        yield fillvalue\n",
    "    fillers = repeat(fillvalue)\n",
    "    iterators = [chain(it, sentinel(), fillers) for it in args]\n",
    "    try:\n",
    "        while iterators:\n",
    "            yield tuple(map(next, iterators))\n",
    "    except ZipExhausted:\n",
    "        pass\n",
    "\n"
   ]
  },
  {
   "cell_type": "markdown",
   "metadata": {},
   "source": [
    "\n",
    "<p>If one of the iterables is potentially infinite, then the <a class=\"reference internal\" href=\"#itertools.zip_longest\" title=\"itertools.zip_longest\"><code class=\"xref py py-func docutils literal\"><span class=\"pre\">zip_longest()</span></code></a>\n",
    "function should be wrapped with something that limits the number of calls\n",
    "(for example <a class=\"reference internal\" href=\"#itertools.islice\" title=\"itertools.islice\"><code class=\"xref py py-func docutils literal\"><span class=\"pre\">islice()</span></code></a> or <a class=\"reference internal\" href=\"#itertools.takewhile\" title=\"itertools.takewhile\"><code class=\"xref py py-func docutils literal\"><span class=\"pre\">takewhile()</span></code></a>).  If not specified,\n",
    "<em>fillvalue</em> defaults to <code class=\"docutils literal\"><span class=\"pre\">None</span></code>.</p>\n",
    "</dd></dl>\n",
    "</div>\n",
    "<div class=\"section\" id=\"itertools-recipes\">\n",
    "<span id=\"id1\"></span><h2>10.1.2. Itertools Recipes<a class=\"headerlink\" href=\"#itertools-recipes\" title=\"Permalink to this headline\">¶</a></h2>\n",
    "<p>This section shows recipes for creating an extended toolset using the existing\n",
    "itertools as building blocks.</p>\n",
    "<p>The extended tools offer the same high performance as the underlying toolset.\n",
    "The superior memory performance is kept by processing elements one at a time\n",
    "rather than bringing the whole iterable into memory all at once. Code volume is\n",
    "kept small by linking the tools together in a functional style which helps\n",
    "eliminate temporary variables.  High speed is retained by preferring\n",
    "“vectorized” building blocks over the use of for-loops and <a class=\"reference internal\" href=\"../glossary.html#term-generator\"><span class=\"xref std std-term\">generator</span></a>s\n",
    "which incur interpreter overhead.</p>\n"
   ]
  },
  {
   "cell_type": "code",
   "execution_count": null,
   "metadata": {
    "collapsed": true
   },
   "outputs": [],
   "source": [
    "def take(n, iterable):\n",
    "    \"Return first n items of the iterable as a list\"\n",
    "    return list(islice(iterable, n))\n",
    "\n",
    "def tabulate(function, start=0):\n",
    "    \"Return function(0), function(1), ...\"\n",
    "    return map(function, count(start))\n",
    "\n",
    "def tail(n, iterable):\n",
    "    \"Return an iterator over the last n items\"\n",
    "    # tail(3, 'ABCDEFG') --> E F G\n",
    "    return iter(collections.deque(iterable, maxlen=n))\n",
    "\n",
    "def consume(iterator, n):\n",
    "    \"Advance the iterator n-steps ahead. If n is none, consume entirely.\"\n",
    "    # Use functions that consume iterators at C speed.\n",
    "    if n is None:\n",
    "        # feed the entire iterator into a zero-length deque\n",
    "        collections.deque(iterator, maxlen=0)\n",
    "    else:\n",
    "        # advance to the empty slice starting at position n\n",
    "        next(islice(iterator, n, n), None)\n",
    "\n",
    "def nth(iterable, n, default=None):\n",
    "    \"Returns the nth item or a default value\"\n",
    "    return next(islice(iterable, n, None), default)\n",
    "\n",
    "def all_equal(iterable):\n",
    "    \"Returns True if all the elements are equal to each other\"\n",
    "    g = groupby(iterable)\n",
    "    return next(g, True) and not next(g, False)\n",
    "\n",
    "def quantify(iterable, pred=bool):\n",
    "    \"Count how many times the predicate is true\"\n",
    "    return sum(map(pred, iterable))\n",
    "\n",
    "def padnone(iterable):\n",
    "    \"\"\"Returns the sequence elements and then returns None indefinitely.\n",
    "\n",
    "    Useful for emulating the behavior of the built-in map() function.\n",
    "    \"\"\"\n",
    "    return chain(iterable, repeat(None))\n",
    "\n",
    "def ncycles(iterable, n):\n",
    "    \"Returns the sequence elements n times\"\n",
    "    return chain.from_iterable(repeat(tuple(iterable), n))\n",
    "\n",
    "def dotproduct(vec1, vec2):\n",
    "    return sum(map(operator.mul, vec1, vec2))\n",
    "\n",
    "def flatten(listOfLists):\n",
    "    \"Flatten one level of nesting\"\n",
    "    return chain.from_iterable(listOfLists)\n",
    "\n",
    "def repeatfunc(func, times=None, *args):\n",
    "    \"\"\"Repeat calls to func with specified arguments.\n",
    "\n",
    "    Example:  repeatfunc(random.random)\n",
    "    \"\"\"\n",
    "    if times is None:\n",
    "        return starmap(func, repeat(args))\n",
    "    return starmap(func, repeat(args, times))\n",
    "\n",
    "def pairwise(iterable):\n",
    "    \"s -> (s0,s1), (s1,s2), (s2, s3), ...\"\n",
    "    a, b = tee(iterable)\n",
    "    next(b, None)\n",
    "    return zip(a, b)\n",
    "\n",
    "def grouper(iterable, n, fillvalue=None):\n",
    "    \"Collect data into fixed-length chunks or blocks\"\n",
    "    # grouper('ABCDEFG', 3, 'x') --> ABC DEF Gxx\"\n",
    "    args = [iter(iterable)] * n\n",
    "    return zip_longest(*args, fillvalue=fillvalue)\n",
    "\n",
    "def roundrobin(*iterables):\n",
    "    \"roundrobin('ABC', 'D', 'EF') --> A D E B F C\"\n",
    "    # Recipe credited to George Sakkis\n",
    "    pending = len(iterables)\n",
    "    nexts = cycle(iter(it).__next__ for it in iterables)\n",
    "    while pending:\n",
    "        try:\n",
    "            for next in nexts:\n",
    "                yield next()\n",
    "        except StopIteration:\n",
    "            pending -= 1\n",
    "            nexts = cycle(islice(nexts, pending))\n",
    "\n",
    "def partition(pred, iterable):\n",
    "    'Use a predicate to partition entries into false entries and true entries'\n",
    "    # partition(is_odd, range(10)) --> 0 2 4 6 8   and  1 3 5 7 9\n",
    "    t1, t2 = tee(iterable)\n",
    "    return filterfalse(pred, t1), filter(pred, t2)\n",
    "\n",
    "def powerset(iterable):\n",
    "    \"powerset([1,2,3]) --> () (1,) (2,) (3,) (1,2) (1,3) (2,3) (1,2,3)\"\n",
    "    s = list(iterable)\n",
    "    return chain.from_iterable(combinations(s, r) for r in range(len(s)+1))\n",
    "\n",
    "def unique_everseen(iterable, key=None):\n",
    "    \"List unique elements, preserving order. Remember all elements ever seen.\"\n",
    "    # unique_everseen('AAAABBBCCDAABBB') --> A B C D\n",
    "    # unique_everseen('ABBCcAD', str.lower) --> A B C D\n",
    "    seen = set()\n",
    "    seen_add = seen.add\n",
    "    if key is None:\n",
    "        for element in filterfalse(seen.__contains__, iterable):\n",
    "            seen_add(element)\n",
    "            yield element\n",
    "    else:\n",
    "        for element in iterable:\n",
    "            k = key(element)\n",
    "            if k not in seen:\n",
    "                seen_add(k)\n",
    "                yield element\n",
    "\n",
    "def unique_justseen(iterable, key=None):\n",
    "    \"List unique elements, preserving order. Remember only the element just seen.\"\n",
    "    # unique_justseen('AAAABBBCCDAABBB') --> A B C D A B\n",
    "    # unique_justseen('ABBCcAD', str.lower) --> A B C A D\n",
    "    return map(next, map(itemgetter(1), groupby(iterable, key)))\n",
    "\n",
    "def iter_except(func, exception, first=None):\n",
    "    \"\"\" Call a function repeatedly until an exception is raised.\n",
    "\n",
    "    Converts a call-until-exception interface to an iterator interface.\n",
    "    Like builtins.iter(func, sentinel) but uses an exception instead\n",
    "    of a sentinel to end the loop.\n",
    "\n",
    "    Examples:\n",
    "        iter_except(functools.partial(heappop, h), IndexError)   # priority queue iterator\n",
    "        iter_except(d.popitem, KeyError)                         # non-blocking dict iterator\n",
    "        iter_except(d.popleft, IndexError)                       # non-blocking deque iterator\n",
    "        iter_except(q.get_nowait, Queue.Empty)                   # loop over a producer Queue\n",
    "        iter_except(s.pop, KeyError)                             # non-blocking set iterator\n",
    "\n",
    "    \"\"\"\n",
    "    try:\n",
    "        if first is not None:\n",
    "            yield first()            # For database APIs needing an initial cast to db.first()\n",
    "        while True:\n",
    "            yield func()\n",
    "    except exception:\n",
    "        pass\n",
    "\n",
    "def first_true(iterable, default=False, pred=None):\n",
    "    \"\"\"Returns the first true value in the iterable.\n",
    "\n",
    "    If no true value is found, returns *default*\n",
    "\n",
    "    If *pred* is not None, returns the first item\n",
    "    for which pred(item) is true.\n",
    "\n",
    "    \"\"\"\n",
    "    # first_true([a,b,c], x) --> a or b or c or x\n",
    "    # first_true([a,b], x, f) --> a if f(a) else b if f(b) else x\n",
    "    return next(filter(pred, iterable), default)\n",
    "\n",
    "def random_product(*args, repeat=1):\n",
    "    \"Random selection from itertools.product(*args, **kwds)\"\n",
    "    pools = [tuple(pool) for pool in args] * repeat\n",
    "    return tuple(random.choice(pool) for pool in pools)\n",
    "\n",
    "def random_permutation(iterable, r=None):\n",
    "    \"Random selection from itertools.permutations(iterable, r)\"\n",
    "    pool = tuple(iterable)\n",
    "    r = len(pool) if r is None else r\n",
    "    return tuple(random.sample(pool, r))\n",
    "\n",
    "def random_combination(iterable, r):\n",
    "    \"Random selection from itertools.combinations(iterable, r)\"\n",
    "    pool = tuple(iterable)\n",
    "    n = len(pool)\n",
    "    indices = sorted(random.sample(range(n), r))\n",
    "    return tuple(pool[i] for i in indices)\n",
    "\n",
    "def random_combination_with_replacement(iterable, r):\n",
    "    \"Random selection from itertools.combinations_with_replacement(iterable, r)\"\n",
    "    pool = tuple(iterable)\n",
    "    n = len(pool)\n",
    "    indices = sorted(random.randrange(n) for i in range(r))\n",
    "    return tuple(pool[i] for i in indices)\n",
    "\n"
   ]
  },
  {
   "cell_type": "markdown",
   "metadata": {},
   "source": [
    "\n",
    "<p>Note, many of the above recipes can be optimized by replacing global lookups\n",
    "with local variables defined as default values.  For example, the\n",
    "<em>dotproduct</em> recipe can be written as:</p>\n"
   ]
  },
  {
   "cell_type": "code",
   "execution_count": null,
   "metadata": {
    "collapsed": true
   },
   "outputs": [],
   "source": [
    "def dotproduct(vec1, vec2, sum=sum, map=map, mul=operator.mul):\n",
    "    return sum(map(mul, vec1, vec2))\n",
    "\n"
   ]
  }
 ],
 "metadata": {
  "kernelspec": {
   "display_name": "Python 3",
   "language": "python",
   "name": "python3"
  },
  "language_info": {
   "codemirror_mode": {
    "name": "ipython",
    "version": 3
   },
   "file_extension": ".py",
   "mimetype": "text/x-python",
   "name": "python",
   "nbconvert_exporter": "python",
   "pygments_lexer": "ipython3",
   "version": "3.6.1"
  },
  "varInspector": {
   "cols": {
    "lenName": 16,
    "lenType": 16,
    "lenVar": 40
   },
   "kernels_config": {
    "python": {
     "delete_cmd_postfix": "",
     "delete_cmd_prefix": "del ",
     "library": "var_list.py",
     "varRefreshCmd": "print(var_dic_list())"
    },
    "r": {
     "delete_cmd_postfix": ") ",
     "delete_cmd_prefix": "rm(",
     "library": "var_list.r",
     "varRefreshCmd": "cat(var_dic_list()) "
    }
   },
   "types_to_exclude": [
    "module",
    "function",
    "builtin_function_or_method",
    "instance",
    "_Feature"
   ],
   "window_display": false
  }
 },
 "nbformat": 4,
 "nbformat_minor": 2
}
