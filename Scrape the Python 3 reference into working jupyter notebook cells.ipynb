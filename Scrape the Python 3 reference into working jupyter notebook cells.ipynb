{
 "cells": [
  {
   "cell_type": "markdown",
   "metadata": {},
   "source": [
    "https://docs.python.org/3/library/functions.html"
   ]
  },
  {
   "cell_type": "code",
   "execution_count": 1,
   "metadata": {
    "collapsed": true
   },
   "outputs": [],
   "source": [
    "import re\n",
    "from urllib import request\n",
    "from urllib import parse\n",
    "# from ipywidgets import HTML\n",
    "from IPython.display import HTML\n",
    "from bs4 import BeautifulSoup\n",
    "\n",
    "# url = 'https://docs.python.org/3/library/functions.html'\n",
    "url = 'https://docs.python.org/3.6/library/difflib.html'\n",
    "req = request.urlopen(url)\n",
    "info = req.read().decode()\n",
    "\n",
    "# HTML(info)\n",
    "\n",
    "soup = BeautifulSoup(info, 'html.parser')\n",
    "soup = soup.body\n",
    "sections = soup.find_all('div', class_='section')\n",
    "main_section = sections[0]\n",
    "# HTML(str(main_section))\n",
    "\n",
    "code = soup.find_all('div', class_=re.compile('python'))\n",
    "\n",
    "# print(code[0].text)\n",
    "\n",
    "def clean_up(dirty_code):\n",
    "    # Use the re module to find working code.\n",
    "    if '>>>' in dirty_code.text:\n",
    "        result = re.findall('^>{3}(.+)|^\\.{3}(.+)', dirty_code.text, flags=re.M)\n",
    "        result = '\\n'.join([[k[1:] for k in i if len(k)>0][0] for i in result if len(i)>0])\n",
    "        return result\n",
    "    \n",
    "    else:\n",
    "        return dirty_code.text\n",
    "\n",
    "# print(clean_up(code[0]))"
   ]
  },
  {
   "cell_type": "code",
   "execution_count": 5,
   "metadata": {},
   "outputs": [
    {
     "data": {
      "application/javascript": [
       "\n",
       "        var markdown = Jupyter.notebook.insert_cell_below('markdown');\n",
       "        markdown.set_text(atob(\"IyBoZWxsbyB3b3JsZA==\"));\n",
       "        markdown.render();\n",
       "    "
      ],
      "text/plain": [
       "<IPython.core.display.Javascript object>"
      ]
     },
     "metadata": {},
     "output_type": "display_data"
    }
   ],
   "source": [
    "import base64\n",
    "from IPython.display import Javascript, display\n",
    "from IPython.utils.py3compat import str_to_bytes, bytes_to_str\n",
    "\n",
    "def create_code_cell(code='', where='below'):\n",
    "    \"\"\"Create a code cell in the IPython Notebook.\n",
    "\n",
    "    Parameters\n",
    "    ----------\n",
    "    code: unicode\n",
    "        Code to fill the new code cell with.\n",
    "    where: unicode\n",
    "        Where to add the new code cell.\n",
    "        Possible values include:\n",
    "            at_bottom\n",
    "            above\n",
    "            below\n",
    "    \"\"\"\n",
    "    # encoded_code = base64.b64encode(code.encode()).decode()\n",
    "    encoded_code = bytes_to_str(base64.b64encode(str_to_bytes(code)))\n",
    "    display(Javascript(\"\"\"\n",
    "        var code = Jupyter.notebook.insert_cell_{0}('code');\n",
    "        code.set_text(atob(\"{1}\"));\n",
    "    \"\"\".format(where, encoded_code)))\n",
    "\n",
    "\n",
    "# create_code_cell(clean_up(code[0]))\n",
    "\n",
    "# for i in code:\n",
    "#     create_code_cell(clean_up(i), where='at_bottom')\n",
    "\n",
    "def create_markdown_cell(markdown='', where='below'):\n",
    "    \"\"\"Create a markdown cell in the IPython Notebook.\n",
    "\n",
    "    Parameters\n",
    "    ----------\n",
    "    markdown: unicode\n",
    "        markdown to fill the new markdown cell with.\n",
    "    where: unicode\n",
    "        Where to add the new markdown cell.\n",
    "        Possible values include:\n",
    "            at_bottom\n",
    "            above\n",
    "            below\n",
    "    \"\"\"\n",
    "    # encoded_code = base64.b64encode(markdown.encode()).decode()\n",
    "    encoded_code = bytes_to_str(base64.b64encode(str_to_bytes(markdown)))\n",
    "    # return encoded_code\n",
    "    # encoded_code = code\n",
    "    display(Javascript(\"\"\"\n",
    "        var markdown = Jupyter.notebook.insert_cell_{0}('markdown');\n",
    "        markdown.set_text(atob(\"{1}\"));\n",
    "        markdown.render();\n",
    "    \"\"\".format(where, encoded_code)))\n",
    "\n",
    "# create_markdown_cell('# hello world')\n",
    "\n",
    "py = soup.find_all(class_=re.compile('python'))\n",
    "\n",
    "str_soup = str(main_section)\n",
    "\n",
    "first_part = str_soup.split(str(py[0]))\n",
    "\n",
    "start = str_soup.split(str(py[0]))\n",
    "\n",
    "chunks = [start[0]]\n",
    "\n",
    "remainder = start[1]\n",
    "\n",
    "for i in range(1,len(py)):\n",
    "    # print(i)\n",
    "    parts = remainder.split(str(py[i]))\n",
    "    chunks.append(parts[0])\n",
    "    if len(parts)>1:\n",
    "        remainder = parts[1]\n",
    "    \n",
    "\n",
    "len(chunks)\n",
    "len(py)\n",
    "\n",
    "# create_markdown_cell(chunks[0], where='at_bottom')\n",
    "# create_code_cell(clean_up(py[0]), where='at_bottom')\n",
    "# create_markdown_cell(chunks[1], where='at_bottom')"
   ]
  }
 ],
 "metadata": {
  "kernelspec": {
   "display_name": "Python 3",
   "language": "python",
   "name": "python3"
  },
  "language_info": {
   "codemirror_mode": {
    "name": "ipython",
    "version": 3
   },
   "file_extension": ".py",
   "mimetype": "text/x-python",
   "name": "python",
   "nbconvert_exporter": "python",
   "pygments_lexer": "ipython3",
   "version": "3.6.1"
  },
  "varInspector": {
   "cols": {
    "lenName": 16,
    "lenType": 16,
    "lenVar": 40
   },
   "kernels_config": {
    "python": {
     "delete_cmd_postfix": "",
     "delete_cmd_prefix": "del ",
     "library": "var_list.py",
     "varRefreshCmd": "print(var_dic_list())"
    },
    "r": {
     "delete_cmd_postfix": ") ",
     "delete_cmd_prefix": "rm(",
     "library": "var_list.r",
     "varRefreshCmd": "cat(var_dic_list()) "
    }
   },
   "types_to_exclude": [
    "module",
    "function",
    "builtin_function_or_method",
    "instance",
    "_Feature"
   ],
   "window_display": false
  }
 },
 "nbformat": 4,
 "nbformat_minor": 2
}
