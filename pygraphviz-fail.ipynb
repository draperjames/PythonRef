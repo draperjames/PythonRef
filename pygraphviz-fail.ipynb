{
 "cells": [
  {
   "cell_type": "code",
   "execution_count": 1,
   "metadata": {},
   "outputs": [
    {
     "name": "stdout",
     "output_type": "stream",
     "text": [
      "Collecting pygraphviz\n",
      "  Using cached pygraphviz-1.3.1.zip\n",
      "Building wheels for collected packages: pygraphviz\n",
      "  Running setup.py bdist_wheel for pygraphviz: started\n",
      "  Running setup.py bdist_wheel for pygraphviz: finished with status 'error'\n",
      "  Complete output from command C:\\Anaconda3\\python.exe -u -c \"import setuptools, tokenize;__file__='C:\\\\Users\\\\jad\\\\AppData\\\\Local\\\\Temp\\\\pip-build-g34vytav\\\\pygraphviz\\\\setup.py';f=getattr(tokenize, 'open', open)(__file__);code=f.read().replace('\\r\\n', '\\n');f.close();exec(compile(code, __file__, 'exec'))\" bdist_wheel -d C:\\Users\\jad\\AppData\\Local\\Temp\\tmpwdc9qf2bpip-wheel- --python-tag cp36:\n",
      "  running bdist_wheel\n",
      "  running build\n",
      "  running build_py\n",
      "  creating build\n",
      "  creating build\\lib.win-amd64-3.6\n",
      "  creating build\\lib.win-amd64-3.6\\pygraphviz\n",
      "  copying pygraphviz\\agraph.py -> build\\lib.win-amd64-3.6\\pygraphviz\n",
      "  copying pygraphviz\\graphviz.py -> build\\lib.win-amd64-3.6\\pygraphviz\n",
      "  copying pygraphviz\\release.py -> build\\lib.win-amd64-3.6\\pygraphviz\n",
      "  copying pygraphviz\\version.py -> build\\lib.win-amd64-3.6\\pygraphviz\n",
      "  copying pygraphviz\\__init__.py -> build\\lib.win-amd64-3.6\\pygraphviz\n",
      "  creating build\\lib.win-amd64-3.6\\pygraphviz\\tests\n",
      "  copying pygraphviz\\tests\\test.py -> build\\lib.win-amd64-3.6\\pygraphviz\\tests\n",
      "  copying pygraphviz\\tests\\test_attributes.py -> build\\lib.win-amd64-3.6\\pygraphviz\\tests\n",
      "  copying pygraphviz\\tests\\test_attribute_defaults.py -> build\\lib.win-amd64-3.6\\pygraphviz\\tests\n",
      "  copying pygraphviz\\tests\\test_clear.py -> build\\lib.win-amd64-3.6\\pygraphviz\\tests\n",
      "  copying pygraphviz\\tests\\test_drawing.py -> build\\lib.win-amd64-3.6\\pygraphviz\\tests\n",
      "  copying pygraphviz\\tests\\test_edge_attributes.py -> build\\lib.win-amd64-3.6\\pygraphviz\\tests\n",
      "  copying pygraphviz\\tests\\test_graph.py -> build\\lib.win-amd64-3.6\\pygraphviz\\tests\n",
      "  copying pygraphviz\\tests\\test_html.py -> build\\lib.win-amd64-3.6\\pygraphviz\\tests\n",
      "  copying pygraphviz\\tests\\test_layout.py -> build\\lib.win-amd64-3.6\\pygraphviz\\tests\n",
      "  copying pygraphviz\\tests\\test_node_attributes.py -> build\\lib.win-amd64-3.6\\pygraphviz\\tests\n",
      "  copying pygraphviz\\tests\\test_readwrite.py -> build\\lib.win-amd64-3.6\\pygraphviz\\tests\n",
      "  copying pygraphviz\\tests\\test_string.py -> build\\lib.win-amd64-3.6\\pygraphviz\\tests\n",
      "  copying pygraphviz\\tests\\test_subgraph.py -> build\\lib.win-amd64-3.6\\pygraphviz\\tests\n",
      "  copying pygraphviz\\tests\\test_unicode.py -> build\\lib.win-amd64-3.6\\pygraphviz\\tests\n",
      "  copying pygraphviz\\tests\\__init__.py -> build\\lib.win-amd64-3.6\\pygraphviz\\tests\n",
      "  running egg_info\n",
      "  writing pygraphviz.egg-info\\PKG-INFO\n",
      "  writing dependency_links to pygraphviz.egg-info\\dependency_links.txt\n",
      "  writing top-level names to pygraphviz.egg-info\\top_level.txt\n",
      "  reading manifest file 'pygraphviz.egg-info\\SOURCES.txt'\n",
      "  reading manifest template 'MANIFEST.in'\n",
      "  warning: no previously-included files matching '*~' found anywhere in distribution\n",
      "  warning: no previously-included files matching '*.pyc' found anywhere in distribution\n",
      "  warning: no previously-included files matching '.svn' found anywhere in distribution\n",
      "  no previously-included directories found matching 'doc\\build'\n",
      "  writing manifest file 'pygraphviz.egg-info\\SOURCES.txt'\n",
      "  copying pygraphviz\\graphviz.i -> build\\lib.win-amd64-3.6\\pygraphviz\n",
      "  copying pygraphviz\\graphviz_wrap.c -> build\\lib.win-amd64-3.6\\pygraphviz\n",
      "  running build_ext\n",
      "  building 'pygraphviz._graphviz' extension\n",
      "  error: Microsoft Visual C++ 14.0 is required. Get it with \"Microsoft Visual C++ Build Tools\": http://landinghub.visualstudio.com/visual-cpp-build-tools\n",
      "  \n",
      "  ----------------------------------------\n",
      "  Running setup.py clean for pygraphviz\n",
      "Failed to build pygraphviz\n",
      "Installing collected packages: pygraphviz\n",
      "  Running setup.py install for pygraphviz: started\n",
      "    Running setup.py install for pygraphviz: finished with status 'error'\n",
      "    Complete output from command C:\\Anaconda3\\python.exe -u -c \"import setuptools, tokenize;__file__='C:\\\\Users\\\\jad\\\\AppData\\\\Local\\\\Temp\\\\pip-build-g34vytav\\\\pygraphviz\\\\setup.py';f=getattr(tokenize, 'open', open)(__file__);code=f.read().replace('\\r\\n', '\\n');f.close();exec(compile(code, __file__, 'exec'))\" install --record C:\\Users\\jad\\AppData\\Local\\Temp\\pip-wf2du51j-record\\install-record.txt --single-version-externally-managed --compile:\n",
      "    running install\n",
      "    include_dirs=None\n",
      "    library_dirs=None\n",
      "    running build\n",
      "    running build_py\n",
      "    creating build\n",
      "    creating build\\lib.win-amd64-3.6\n",
      "    creating build\\lib.win-amd64-3.6\\pygraphviz\n",
      "    copying pygraphviz\\agraph.py -> build\\lib.win-amd64-3.6\\pygraphviz\n",
      "    copying pygraphviz\\graphviz.py -> build\\lib.win-amd64-3.6\\pygraphviz\n",
      "    copying pygraphviz\\release.py -> build\\lib.win-amd64-3.6\\pygraphviz\n",
      "    copying pygraphviz\\version.py -> build\\lib.win-amd64-3.6\\pygraphviz\n",
      "    copying pygraphviz\\__init__.py -> build\\lib.win-amd64-3.6\\pygraphviz\n",
      "    creating build\\lib.win-amd64-3.6\\pygraphviz\\tests\n",
      "    copying pygraphviz\\tests\\test.py -> build\\lib.win-amd64-3.6\\pygraphviz\\tests\n",
      "    copying pygraphviz\\tests\\test_attributes.py -> build\\lib.win-amd64-3.6\\pygraphviz\\tests\n",
      "    copying pygraphviz\\tests\\test_attribute_defaults.py -> build\\lib.win-amd64-3.6\\pygraphviz\\tests\n",
      "    copying pygraphviz\\tests\\test_clear.py -> build\\lib.win-amd64-3.6\\pygraphviz\\tests\n",
      "    copying pygraphviz\\tests\\test_drawing.py -> build\\lib.win-amd64-3.6\\pygraphviz\\tests\n",
      "    copying pygraphviz\\tests\\test_edge_attributes.py -> build\\lib.win-amd64-3.6\\pygraphviz\\tests\n",
      "    copying pygraphviz\\tests\\test_graph.py -> build\\lib.win-amd64-3.6\\pygraphviz\\tests\n",
      "    copying pygraphviz\\tests\\test_html.py -> build\\lib.win-amd64-3.6\\pygraphviz\\tests\n",
      "    copying pygraphviz\\tests\\test_layout.py -> build\\lib.win-amd64-3.6\\pygraphviz\\tests\n",
      "    copying pygraphviz\\tests\\test_node_attributes.py -> build\\lib.win-amd64-3.6\\pygraphviz\\tests\n",
      "    copying pygraphviz\\tests\\test_readwrite.py -> build\\lib.win-amd64-3.6\\pygraphviz\\tests\n",
      "    copying pygraphviz\\tests\\test_string.py -> build\\lib.win-amd64-3.6\\pygraphviz\\tests\n",
      "    copying pygraphviz\\tests\\test_subgraph.py -> build\\lib.win-amd64-3.6\\pygraphviz\\tests\n",
      "    copying pygraphviz\\tests\\test_unicode.py -> build\\lib.win-amd64-3.6\\pygraphviz\\tests\n",
      "    copying pygraphviz\\tests\\__init__.py -> build\\lib.win-amd64-3.6\\pygraphviz\\tests\n",
      "    running egg_info\n",
      "    writing pygraphviz.egg-info\\PKG-INFO\n",
      "    writing dependency_links to pygraphviz.egg-info\\dependency_links.txt\n",
      "    writing top-level names to pygraphviz.egg-info\\top_level.txt\n",
      "    reading manifest file 'pygraphviz.egg-info\\SOURCES.txt'\n",
      "    reading manifest template 'MANIFEST.in'\n",
      "    warning: no previously-included files matching '*~' found anywhere in distribution\n",
      "    warning: no previously-included files matching '*.pyc' found anywhere in distribution\n",
      "    warning: no previously-included files matching '.svn' found anywhere in distribution\n",
      "    no previously-included directories found matching 'doc\\build'\n",
      "    writing manifest file 'pygraphviz.egg-info\\SOURCES.txt'\n",
      "    copying pygraphviz\\graphviz.i -> build\\lib.win-amd64-3.6\\pygraphviz\n",
      "    copying pygraphviz\\graphviz_wrap.c -> build\\lib.win-amd64-3.6\\pygraphviz\n",
      "    running build_ext\n",
      "    building 'pygraphviz._graphviz' extension\n",
      "    error: Microsoft Visual C++ 14.0 is required. Get it with \"Microsoft Visual C++ Build Tools\": http://landinghub.visualstudio.com/visual-cpp-build-tools\n",
      "    \n",
      "    ----------------------------------------\n"
     ]
    },
    {
     "name": "stderr",
     "output_type": "stream",
     "text": [
      "  Failed building wheel for pygraphviz\n",
      "Command \"C:\\Anaconda3\\python.exe -u -c \"import setuptools, tokenize;__file__='C:\\\\Users\\\\jad\\\\AppData\\\\Local\\\\Temp\\\\pip-build-g34vytav\\\\pygraphviz\\\\setup.py';f=getattr(tokenize, 'open', open)(__file__);code=f.read().replace('\\r\\n', '\\n');f.close();exec(compile(code, __file__, 'exec'))\" install --record C:\\Users\\jad\\AppData\\Local\\Temp\\pip-wf2du51j-record\\install-record.txt --single-version-externally-managed --compile\" failed with error code 1 in C:\\Users\\jad\\AppData\\Local\\Temp\\pip-build-g34vytav\\pygraphviz\\\n"
     ]
    }
   ],
   "source": [
    "! pip install pygraphviz"
   ]
  },
  {
   "cell_type": "code",
   "execution_count": null,
   "metadata": {
    "collapsed": true
   },
   "outputs": [],
   "source": []
  }
 ],
 "metadata": {
  "kernelspec": {
   "display_name": "py27",
   "language": "python",
   "name": "py27"
  },
  "language_info": {
   "codemirror_mode": {
    "name": "ipython",
    "version": 2
   },
   "file_extension": ".py",
   "mimetype": "text/x-python",
   "name": "python",
   "nbconvert_exporter": "python",
   "pygments_lexer": "ipython2",
   "version": "2.7.13"
  },
  "varInspector": {
   "cols": {
    "lenName": 16,
    "lenType": 16,
    "lenVar": 40
   },
   "kernels_config": {
    "python": {
     "delete_cmd_postfix": "",
     "delete_cmd_prefix": "del ",
     "library": "var_list.py",
     "varRefreshCmd": "print(var_dic_list())"
    },
    "r": {
     "delete_cmd_postfix": ") ",
     "delete_cmd_prefix": "rm(",
     "library": "var_list.r",
     "varRefreshCmd": "cat(var_dic_list()) "
    }
   },
   "types_to_exclude": [
    "module",
    "function",
    "builtin_function_or_method",
    "instance",
    "_Feature"
   ],
   "window_display": false
  }
 },
 "nbformat": 4,
 "nbformat_minor": 2
}
