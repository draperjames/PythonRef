{
 "cells": [
  {
   "cell_type": "code",
   "execution_count": 1,
   "metadata": {
    "collapsed": false
   },
   "outputs": [
    {
     "data": {
      "text/plain": [
       "('C:/Users/jad/Documents/JupyterNotebooks/DMPI/Muoio_Lab/Malonylation/Data/3rdSearch/_E749_4027_08_PeptideGroups.txt',\n",
       " 'C:/Users/jad/Documents/JupyterNotebooks/DMPI/Muoio_Lab/Malonylation/Data/3rdSearch/_E749_4027_08_Proteins.txt')"
      ]
     },
     "execution_count": 1,
     "metadata": {},
     "output_type": "execute_result"
    }
   ],
   "source": [
    "from tkinter import*\n",
    "# Create Tk root\n",
    "root = Tk()\n",
    "# Hide the main window\n",
    "root.withdraw()\n",
    "root.call('wm', 'attributes', '.', '-topmost', True)\n",
    "\n",
    "from tkinter import filedialog\n",
    "infiles = filedialog.askopenfilename(multiple=True)\n",
    "\n",
    "%gui tk\n",
    "infiles"
   ]
  },
  {
   "cell_type": "code",
   "execution_count": 9,
   "metadata": {
    "collapsed": false
   },
   "outputs": [],
   "source": [
    "import os\n",
    "import tkinter \n",
    "from tkinter import filedialog\n",
    "\n",
    "root = tkinter.Tk()\n",
    "root.withdraw() #this will hide the main window\n",
    "infiles = filedialog.askopenfilename(multiple=True)\n",
    "root.call('wm', 'attributes', \".\", '-topmost', True)\n",
    "%gui tk"
   ]
  },
  {
   "cell_type": "markdown",
   "metadata": {
    "collapsed": true
   },
   "source": [
    "---"
   ]
  },
  {
   "cell_type": "code",
   "execution_count": 7,
   "metadata": {
    "collapsed": false
   },
   "outputs": [
    {
     "name": "stdout",
     "output_type": "stream",
     "text": [
      "(None, None)\n"
     ]
    }
   ],
   "source": [
    "# import os\n",
    "import tkinter\n",
    "from tkinter.colorchooser import askcolor\n",
    "root = tkinter.Tk()\n",
    "root.withdraw()\n",
    "# cwd = os.getcwd()\n",
    "root.call('wm', 'attributes', \".\", '-topmost', True)\n",
    "color = askcolor()\n",
    "# root.call('wm', 'attributes', '.', '-topmost', True)\n",
    "print(color)\n",
    "%gui tk"
   ]
  },
  {
   "cell_type": "code",
   "execution_count": 3,
   "metadata": {
    "collapsed": false
   },
   "outputs": [
    {
     "data": {
      "text/plain": [
       "'C:\\\\Users\\\\jad\\\\Documents\\\\JupyterNotebooks\\\\PythonRef'"
      ]
     },
     "execution_count": 3,
     "metadata": {},
     "output_type": "execute_result"
    }
   ],
   "source": [
    "import os\n",
    "os.getcwd()\n",
    "# class hello(object):\n",
    "#     def __init__(self):\n",
    "#         self.hello = 1\n",
    "# def tkFileSelector():\n",
    "#     return "
   ]
  },
  {
   "cell_type": "code",
   "execution_count": null,
   "metadata": {
    "collapsed": true
   },
   "outputs": [],
   "source": []
  }
 ],
 "metadata": {
  "kernelspec": {
   "display_name": "Python 3",
   "language": "python",
   "name": "python3"
  },
  "language_info": {
   "codemirror_mode": {
    "name": "ipython",
    "version": 3
   },
   "file_extension": ".py",
   "mimetype": "text/x-python",
   "name": "python",
   "nbconvert_exporter": "python",
   "pygments_lexer": "ipython3",
   "version": "3.6.0"
  }
 },
 "nbformat": 4,
 "nbformat_minor": 2
}
