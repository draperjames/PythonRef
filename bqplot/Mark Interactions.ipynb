{
 "cells": [
  {
   "cell_type": "code",
   "execution_count": 3,
   "metadata": {
    "collapsed": true
   },
   "outputs": [],
   "source": [
    "from __future__ import print_function\n",
    "from bqplot import *\n",
    "import numpy as np\n",
    "import pandas as pd\n",
    "from ipywidgets import Layout"
   ]
  },
  {
   "cell_type": "markdown",
   "metadata": {},
   "source": [
    "## Scatter Chart"
   ]
  },
  {
   "cell_type": "markdown",
   "metadata": {},
   "source": [
    "#### Scatter Chart Selections\n",
    "\n",
    "Click a point on the `Scatter` plot to select it. Now, run the cell below to check the selection. After you've done this, try holding the `ctrl` (or `command` key on Mac) and clicking another point. Clicking the background will reset the selection."
   ]
  },
  {
   "cell_type": "code",
   "execution_count": 4,
   "metadata": {},
   "outputs": [
    {
     "data": {
      "application/vnd.jupyter.widget-view+json": {
       "model_id": "cf73dfae882242c596e78add951b6a22",
       "version_major": "2",
       "version_minor": "0"
      },
      "text/plain": [
       "A Jupyter Widget"
      ]
     },
     "metadata": {},
     "output_type": "display_data"
    }
   ],
   "source": [
    "x_sc = LinearScale()\n",
    "y_sc = LinearScale()\n",
    "\n",
    "x_data = np.arange(20)\n",
    "y_data = np.random.randn(20)\n",
    "\n",
    "scatter_chart = Scatter(x=x_data, y=y_data, scales= {'x': x_sc, 'y': y_sc}, default_colors=['dodgerblue'],\n",
    "                       interactions={'click': 'select'},\n",
    "                        selected_style={'opacity': 1.0, 'fill': 'DarkOrange', 'stroke': 'Red'},\n",
    "                       unselected_style={'opacity': 0.5})\n",
    "\n",
    "ax_x = Axis(scale=x_sc)\n",
    "ax_y = Axis(scale=y_sc, orientation='vertical', tick_format='0.2f')\n",
    "\n",
    "Figure(marks=[scatter_chart], axes=[ax_x, ax_y])"
   ]
  },
  {
   "cell_type": "code",
   "execution_count": 5,
   "metadata": {},
   "outputs": [
    {
     "data": {
      "text/plain": [
       "[7]"
      ]
     },
     "execution_count": 5,
     "metadata": {},
     "output_type": "execute_result"
    }
   ],
   "source": [
    "scatter_chart.selected"
   ]
  },
  {
   "cell_type": "markdown",
   "metadata": {},
   "source": [
    "Alternately, the `selected` attribute can be directly set on the Python side (try running the cell below):"
   ]
  },
  {
   "cell_type": "code",
   "execution_count": 6,
   "metadata": {
    "collapsed": true
   },
   "outputs": [],
   "source": [
    "scatter_chart.selected = [1, 2, 3]"
   ]
  },
  {
   "cell_type": "markdown",
   "metadata": {},
   "source": [
    "#### Scatter Chart Interactions and Tooltips"
   ]
  },
  {
   "cell_type": "code",
   "execution_count": 7,
   "metadata": {
    "collapsed": true
   },
   "outputs": [],
   "source": [
    "from ipywidgets import *"
   ]
  },
  {
   "cell_type": "code",
   "execution_count": 8,
   "metadata": {},
   "outputs": [
    {
     "data": {
      "application/vnd.jupyter.widget-view+json": {
       "model_id": "362b573be18f4377bc5090e439a30431",
       "version_major": "2",
       "version_minor": "0"
      },
      "text/plain": [
       "A Jupyter Widget"
      ]
     },
     "metadata": {},
     "output_type": "display_data"
    },
    {
     "name": "stdout",
     "output_type": "stream",
     "text": [
      "{'event': 'hover', 'data': {'x': 9, 'y': -0.6140382619960282, 'index': 9, 'name': 109, 'unique_id': 9}}\n",
      "{'event': 'hover', 'data': {'x': 6, 'y': 0.3117514943042283, 'index': 6, 'name': 106, 'unique_id': 6}}\n",
      "{'event': 'hover', 'data': {'x': 6, 'y': 0.3117514943042283, 'index': 6, 'name': 106, 'unique_id': 6}}\n",
      "{'event': 'hover', 'data': {'x': 7, 'y': 0.2901267559227702, 'index': 7, 'name': 107, 'unique_id': 7}}\n",
      "{'event': 'element_click', 'data': {'x': 9, 'y': 0.09457205730465847, 'index': 9, 'name': 109, 'unique_id': 9}}\n",
      "{'event': 'hover', 'data': {'x': 10, 'y': 0.14454495666819916, 'index': 10, 'name': 110, 'unique_id': 10}}\n",
      "{'event': 'hover', 'data': {'x': 10, 'y': 0.14454495666819916, 'index': 10, 'name': 110, 'unique_id': 10}}\n",
      "{'event': 'hover', 'data': {'x': 10, 'y': 0.14454495666819916, 'index': 10, 'name': 110, 'unique_id': 10}}\n",
      "{'event': 'hover', 'data': {'x': 10, 'y': 0.14454495666819916, 'index': 10, 'name': 110, 'unique_id': 10}}\n",
      "{'event': 'hover', 'data': {'x': 10, 'y': 0.14454495666819916, 'index': 10, 'name': 110, 'unique_id': 10}}\n",
      "{'event': 'hover', 'data': {'x': 11, 'y': -0.5356167166079996, 'index': 11, 'name': 111, 'unique_id': 11}}\n",
      "{'event': 'hover', 'data': {'x': 12, 'y': 0.5182557300640046, 'index': 12, 'name': 112, 'unique_id': 12}}\n",
      "{'event': 'element_click', 'data': {'x': 15, 'y': 1.2115576281429177, 'index': 15, 'name': 115, 'unique_id': 15}}\n",
      "{'event': 'element_click', 'data': {'x': 15, 'y': 1.2115576281429177, 'index': 15, 'name': 115, 'unique_id': 15}}\n",
      "{'event': 'element_click', 'data': {'x': 15, 'y': 1.2115576281429177, 'index': 15, 'name': 115, 'unique_id': 15}}\n",
      "{'event': 'element_click', 'data': {'x': 11, 'y': -1.9626429561370982, 'index': 11, 'name': 111, 'unique_id': 11}}\n",
      "{'event': 'element_click', 'data': {'x': 11, 'y': -1.9626429561370982, 'index': 11, 'name': 111, 'unique_id': 11}}\n",
      "{'event': 'background_click', 'data': None}\n",
      "{'event': 'background_click', 'data': None}\n",
      "{'event': 'hover', 'data': {'x': 15, 'y': -1.7861821655894394, 'index': 15, 'name': 115, 'unique_id': 15}}\n",
      "{'event': 'hover', 'data': {'x': 15, 'y': -1.7861821655894394, 'index': 15, 'name': 115, 'unique_id': 15}}\n",
      "{'event': 'element_click', 'data': {'x': 7, 'y': -0.1054651357949411, 'index': 7, 'name': 107, 'unique_id': 7}}\n",
      "{'event': 'element_click', 'data': {'x': 7, 'y': -0.1054651357949411, 'index': 7, 'name': 107, 'unique_id': 7}}\n",
      "{'event': 'hover', 'data': {'x': 5, 'y': -0.14738613492091476, 'index': 5, 'name': 105, 'unique_id': 5}}\n",
      "{'event': 'hover', 'data': {'x': 5, 'y': -0.14738613492091476, 'index': 5, 'name': 105, 'unique_id': 5}}\n",
      "{'event': 'hover', 'data': {'x': 5, 'y': -0.14738613492091476, 'index': 5, 'name': 105, 'unique_id': 5}}\n",
      "{'event': 'hover', 'data': {'x': 5, 'y': -0.14738613492091476, 'index': 5, 'name': 105, 'unique_id': 5}}\n",
      "{'event': 'hover', 'data': {'x': 5, 'y': -0.14738613492091476, 'index': 5, 'name': 105, 'unique_id': 5}}\n",
      "{'event': 'hover', 'data': {'x': 5, 'y': -0.14738613492091476, 'index': 5, 'name': 105, 'unique_id': 5}}\n",
      "{'event': 'background_click', 'data': None}\n",
      "{'event': 'background_click', 'data': None}\n",
      "{'event': 'hover', 'data': {'x': 5, 'y': -0.14738613492091476, 'index': 5, 'name': 105, 'unique_id': 5}}\n",
      "{'event': 'hover', 'data': {'x': 5, 'y': -0.14738613492091476, 'index': 5, 'name': 105, 'unique_id': 5}}\n",
      "{'event': 'hover', 'data': {'x': 4, 'y': -0.07671123866940575, 'index': 4, 'name': 104, 'unique_id': 4}}\n",
      "{'event': 'hover', 'data': {'x': 4, 'y': -0.07671123866940575, 'index': 4, 'name': 104, 'unique_id': 4}}\n",
      "{'event': 'hover', 'data': {'x': 2, 'y': -0.005504945625798031, 'index': 2, 'name': 102, 'unique_id': 2}}\n",
      "{'event': 'hover', 'data': {'x': 2, 'y': -0.005504945625798031, 'index': 2, 'name': 102, 'unique_id': 2}}\n",
      "{'event': 'element_click', 'data': {'x': 4, 'y': 0.5267823486657479, 'index': 4, 'name': 104, 'unique_id': 4}}\n",
      "{'event': 'element_click', 'data': {'x': 4, 'y': 0.5267823486657479, 'index': 4, 'name': 104, 'unique_id': 4}}\n",
      "{'event': 'hover', 'data': {'x': 8, 'y': 1.0035219074079098, 'index': 8, 'name': 108, 'unique_id': 8}}\n",
      "{'event': 'hover', 'data': {'x': 8, 'y': 1.0035219074079098, 'index': 8, 'name': 108, 'unique_id': 8}}\n",
      "{'event': 'hover', 'data': {'x': 14, 'y': -0.48500944485187203, 'index': 14, 'name': 114, 'unique_id': 14}}\n",
      "{'event': 'hover', 'data': {'x': 14, 'y': -0.48500944485187203, 'index': 14, 'name': 114, 'unique_id': 14}}\n",
      "{'event': 'hover', 'data': {'x': 14, 'y': -0.48500944485187203, 'index': 14, 'name': 114, 'unique_id': 14}}\n"
     ]
    }
   ],
   "source": [
    "x_sc = LinearScale()\n",
    "y_sc = LinearScale()\n",
    "\n",
    "x_data = np.arange(20)\n",
    "y_data = np.random.randn(20)\n",
    "\n",
    "dd = Dropdown(options=['First', 'Second', 'Third', 'Fourth'])\n",
    "scatter_chart = Scatter(x=x_data, y=y_data, scales= {'x': x_sc, 'y': y_sc}, default_colors=['dodgerblue'],\n",
    "                       names=np.arange(100, 200), names_unique=False, display_names=False, display_legend=True,\n",
    "                       labels=['Blue'])\n",
    "ins = Button(icon='fa-legal')\n",
    "scatter_chart.tooltip = ins\n",
    "\n",
    "scatter_chart2 = Scatter(x=x_data, y=np.random.randn(20), \n",
    "                         scales= {'x': x_sc, 'y': y_sc}, default_colors=['orangered'],\n",
    "                         tooltip=dd, names=np.arange(100, 200), names_unique=False, display_names=False, \n",
    "                         display_legend=True, labels=['Red'])\n",
    "\n",
    "ax_x = Axis(scale=x_sc)\n",
    "ax_y = Axis(scale=y_sc, orientation='vertical', tick_format='0.2f')\n",
    "\n",
    "Figure(marks=[scatter_chart, scatter_chart2], axes=[ax_x, ax_y])"
   ]
  },
  {
   "cell_type": "code",
   "execution_count": 15,
   "metadata": {
    "collapsed": true
   },
   "outputs": [],
   "source": [
    "def print_event(self, target):\n",
    "    print(target)\n",
    "\n",
    "# Adding call back to scatter events\n",
    "# print custom mssg on hover and background click of Blue Scatter\n",
    "scatter_chart.on_hover(print_event)\n",
    "scatter_chart.on_background_click(print_event)\n",
    "\n",
    "# print custom mssg on click of an element or legend of Red Scatter\n",
    "scatter_chart2.on_element_click(print_event)\n",
    "scatter_chart2.on_legend_click(print_event)"
   ]
  },
  {
   "cell_type": "code",
   "execution_count": 16,
   "metadata": {
    "collapsed": true
   },
   "outputs": [],
   "source": [
    "# Adding figure as tooltip\n",
    "x_sc = LinearScale()\n",
    "y_sc = LinearScale()\n",
    "\n",
    "x_data = np.arange(10)\n",
    "y_data = np.random.randn(10)\n",
    "\n",
    "lc = Lines(x=x_data, y=y_data, scales={'x': x_sc, 'y':y_sc})\n",
    "ax_x = Axis(scale=x_sc)\n",
    "ax_y = Axis(scale=y_sc, orientation='vertical', tick_format='0.2f')\n",
    "tooltip_fig = Figure(marks=[lc], axes=[ax_x, ax_y], layout=Layout(min_width='600px'))\n",
    "\n",
    "scatter_chart.tooltip = tooltip_fig"
   ]
  },
  {
   "cell_type": "code",
   "execution_count": 17,
   "metadata": {
    "collapsed": true
   },
   "outputs": [],
   "source": [
    "# Changing interaction from hover to click for tooltip\n",
    "scatter_chart.interactions = {'click': 'tooltip'}"
   ]
  },
  {
   "cell_type": "markdown",
   "metadata": {},
   "source": [
    "## Line Chart"
   ]
  },
  {
   "cell_type": "code",
   "execution_count": 18,
   "metadata": {},
   "outputs": [
    {
     "data": {
      "application/vnd.jupyter.widget-view+json": {
       "model_id": "2320f0c936a84cd78885435dd23e9d90",
       "version_major": "2",
       "version_minor": "0"
      },
      "text/plain": [
       "A Jupyter Widget"
      ]
     },
     "metadata": {},
     "output_type": "display_data"
    }
   ],
   "source": [
    "# Adding default tooltip to Line Chart\n",
    "x_sc = LinearScale()\n",
    "y_sc = LinearScale()\n",
    "\n",
    "x_data = np.arange(100)\n",
    "y_data = np.random.randn(3, 100)\n",
    "\n",
    "def_tt = Tooltip(fields=['name', 'index'], formats=['', '.2f'], labels=['id', 'line_num'])\n",
    "line_chart = Lines(x=x_data, y=y_data, scales= {'x': x_sc, 'y': y_sc}, \n",
    "                       tooltip=def_tt, display_legend=True, labels=[\"line 1\", \"line 2\", \"line 3\"] )\n",
    "\n",
    "ax_x = Axis(scale=x_sc)\n",
    "ax_y = Axis(scale=y_sc, orientation='vertical', tick_format='0.2f')\n",
    "\n",
    "Figure(marks=[line_chart], axes=[ax_x, ax_y])"
   ]
  },
  {
   "cell_type": "code",
   "execution_count": 19,
   "metadata": {
    "collapsed": true
   },
   "outputs": [],
   "source": [
    "# Adding call back to print event when legend or the line is clicked\n",
    "line_chart.on_legend_click(print_event)\n",
    "line_chart.on_element_click(print_event)"
   ]
  },
  {
   "cell_type": "markdown",
   "metadata": {},
   "source": [
    "## Bar Chart"
   ]
  },
  {
   "cell_type": "code",
   "execution_count": 20,
   "metadata": {},
   "outputs": [
    {
     "data": {
      "application/vnd.jupyter.widget-view+json": {
       "model_id": "1d64d0f834b841b684513ed881611116",
       "version_major": "2",
       "version_minor": "0"
      },
      "text/plain": [
       "A Jupyter Widget"
      ]
     },
     "metadata": {},
     "output_type": "display_data"
    }
   ],
   "source": [
    "# Adding interaction to select bar on click for Bar Chart\n",
    "x_sc = OrdinalScale()\n",
    "y_sc = LinearScale()\n",
    "\n",
    "x_data = np.arange(10)\n",
    "y_data = np.random.randn(2, 10)\n",
    "\n",
    "bar_chart = Bars(x=x_data, y=[y_data[0, :].tolist(), y_data[1, :].tolist()], scales= {'x': x_sc, 'y': y_sc},\n",
    "                 interactions={'click': 'select'},\n",
    "                 selected_style={'stroke': 'orange', 'fill': 'red'},\n",
    "                 labels=['Level 1', 'Level 2'],\n",
    "                 display_legend=True)\n",
    "ax_x = Axis(scale=x_sc)\n",
    "ax_y = Axis(scale=y_sc, orientation='vertical', tick_format='0.2f')\n",
    "\n",
    "Figure(marks=[bar_chart], axes=[ax_x, ax_y])"
   ]
  },
  {
   "cell_type": "code",
   "execution_count": 21,
   "metadata": {
    "collapsed": true
   },
   "outputs": [],
   "source": [
    "# Adding a tooltip on hover in addition to select on click\n",
    "def_tt = Tooltip(fields=['x', 'y'], formats=['', '.2f'])\n",
    "bar_chart.tooltip=def_tt\n",
    "bar_chart.interactions = {\n",
    "    'legend_hover': 'highlight_axes',\n",
    "    'hover': 'tooltip', \n",
    "    'click': 'select',\n",
    "}"
   ]
  },
  {
   "cell_type": "code",
   "execution_count": 22,
   "metadata": {
    "collapsed": true
   },
   "outputs": [],
   "source": [
    "# Changing tooltip to be on click\n",
    "bar_chart.interactions = {'click': 'tooltip'}"
   ]
  },
  {
   "cell_type": "code",
   "execution_count": 23,
   "metadata": {
    "collapsed": true
   },
   "outputs": [],
   "source": [
    "# Call back on legend being clicked\n",
    "bar_chart.type='grouped'\n",
    "bar_chart.on_legend_click(print_event)"
   ]
  },
  {
   "cell_type": "markdown",
   "metadata": {},
   "source": [
    "## Histogram"
   ]
  },
  {
   "cell_type": "code",
   "execution_count": 24,
   "metadata": {},
   "outputs": [
    {
     "data": {
      "application/vnd.jupyter.widget-view+json": {
       "model_id": "7ef42fc369fa449d9f8e2a07ae4e28d6",
       "version_major": "2",
       "version_minor": "0"
      },
      "text/plain": [
       "A Jupyter Widget"
      ]
     },
     "metadata": {},
     "output_type": "display_data"
    }
   ],
   "source": [
    "# Adding tooltip for Histogram\n",
    "x_sc = LinearScale()\n",
    "y_sc = LinearScale()\n",
    "\n",
    "sample_data = np.random.randn(100)\n",
    "\n",
    "def_tt = Tooltip(formats=['', '.2f'], fields=['count', 'midpoint'])\n",
    "hist = Hist(sample=sample_data, scales= {'sample': x_sc, 'count': y_sc},\n",
    "                       tooltip=def_tt, display_legend=True, labels=['Test Hist'], select_bars=True)\n",
    "ax_x = Axis(scale=x_sc, tick_format='0.2f')\n",
    "ax_y = Axis(scale=y_sc, orientation='vertical', tick_format='0.2f')\n",
    "\n",
    "Figure(marks=[hist], axes=[ax_x, ax_y])"
   ]
  },
  {
   "cell_type": "code",
   "execution_count": 25,
   "metadata": {
    "collapsed": true
   },
   "outputs": [],
   "source": [
    "# Changing tooltip to be displayed on click\n",
    "hist.interactions = {'click': 'tooltip'}"
   ]
  },
  {
   "cell_type": "code",
   "execution_count": 26,
   "metadata": {
    "collapsed": true
   },
   "outputs": [],
   "source": [
    "# Changing tooltip to be on click of legend\n",
    "hist.interactions = {'legend_click': 'tooltip'}"
   ]
  },
  {
   "cell_type": "markdown",
   "metadata": {
    "collapsed": true
   },
   "source": [
    "## Pie Chart"
   ]
  },
  {
   "cell_type": "code",
   "execution_count": 27,
   "metadata": {},
   "outputs": [
    {
     "data": {
      "application/vnd.jupyter.widget-view+json": {
       "model_id": "36877afea0e24c94abc76fb6ae792ff3",
       "version_major": "2",
       "version_minor": "0"
      },
      "text/plain": [
       "A Jupyter Widget"
      ]
     },
     "metadata": {},
     "output_type": "display_data"
    }
   ],
   "source": [
    "pie_data = np.abs(np.random.randn(10))\n",
    "\n",
    "sc = ColorScale(scheme='Reds')\n",
    "tooltip_widget = Tooltip(fields=['size', 'index', 'color'], formats=['0.2f', '', '0.2f'])\n",
    "pie = Pie(sizes=pie_data, scales={'color': sc}, color=np.random.randn(10), \n",
    "          tooltip=tooltip_widget, interactions = {'click': 'tooltip'}, selected_style={'fill': 'red'})\n",
    "\n",
    "pie.selected_style = {\"opacity\": \"1\", \"stroke\": \"white\", \"stroke-width\": \"2\"}\n",
    "pie.unselected_style = {\"opacity\": \"0.2\"}\n",
    "\n",
    "Figure(marks=[pie])"
   ]
  },
  {
   "cell_type": "code",
   "execution_count": 28,
   "metadata": {
    "collapsed": true
   },
   "outputs": [],
   "source": [
    "# Changing interaction to select on click and tooltip on hover\n",
    "pie.interactions = {'click': 'select', 'hover': 'tooltip'}"
   ]
  },
  {
   "cell_type": "code",
   "execution_count": 29,
   "metadata": {
    "collapsed": true
   },
   "outputs": [],
   "source": [
    "# Changing interaction to select on click and tooltip on hover\n",
    "pie.interactions = {'click': ['select','tooltip']} #, 'click': 'tooltip'}"
   ]
  },
  {
   "cell_type": "code",
   "execution_count": null,
   "metadata": {
    "collapsed": true
   },
   "outputs": [],
   "source": []
  }
 ],
 "metadata": {
  "anaconda-cloud": {},
  "kernelspec": {
   "display_name": "Python 3",
   "language": "python",
   "name": "python3"
  },
  "language_info": {
   "codemirror_mode": {
    "name": "ipython",
    "version": 3
   },
   "file_extension": ".py",
   "mimetype": "text/x-python",
   "name": "python",
   "nbconvert_exporter": "python",
   "pygments_lexer": "ipython3",
   "version": "3.6.1"
  },
  "varInspector": {
   "cols": {
    "lenName": 16,
    "lenType": 16,
    "lenVar": 40
   },
   "kernels_config": {
    "python": {
     "delete_cmd_postfix": "",
     "delete_cmd_prefix": "del ",
     "library": "var_list.py",
     "varRefreshCmd": "print(var_dic_list())"
    },
    "r": {
     "delete_cmd_postfix": ") ",
     "delete_cmd_prefix": "rm(",
     "library": "var_list.r",
     "varRefreshCmd": "cat(var_dic_list()) "
    }
   },
   "types_to_exclude": [
    "module",
    "function",
    "builtin_function_or_method",
    "instance",
    "_Feature"
   ],
   "window_display": false
  },
  "widgets": {
   "application/vnd.jupyter.widget-state+json": {
    "state": {
     "033fe8bc8df54097bc731b2889aee8e4": {
      "model_module": "bqplot",
      "model_module_version": "^0.2.3",
      "model_name": "LinearScaleModel",
      "state": {
       "allow_padding": false,
       "max": 1,
       "min": 0,
       "stabilized": false
      }
     },
     "08ae128c694e47879d45ba74eec0305f": {
      "model_module": "bqplot",
      "model_module_version": "^0.2.3",
      "model_name": "BarsModel",
      "state": {
       "color": {
        "type": null,
        "values": null
       },
       "interactions": {
        "click": "tooltip"
       },
       "labels": [
        "Level 1",
        "Level 2"
       ],
       "scales": {
        "x": "IPY_MODEL_8f1626071d174fe58329a1ca976f6064",
        "y": "IPY_MODEL_e4e190fa0f274df58fc95b5dcb7c54d0"
       },
       "selected": [],
       "selected_style": {
        "fill": "red",
        "stroke": "orange"
       },
       "tooltip": "IPY_MODEL_3fc8a6cc1eaa46ff98ff2e137e033a6b",
       "type": "grouped",
       "x": {
        "type": "float",
        "values": [
         0,
         1,
         2,
         3,
         4,
         5,
         6,
         7,
         8,
         9
        ]
       },
       "y": {
        "type": "float",
        "values": [
         [
          1.4887109069595985,
          0.09973868671297823,
          0.533076694164424,
          3.0259154913752275,
          -1.5595267843458327,
          -1.0601753637631424,
          1.0411270352441182,
          0.2430526786628611,
          -1.1836860668176357,
          -0.5018566118749286
         ],
         [
          -1.2258208355608893,
          0.10360995285299511,
          1.015506641591996,
          -0.8575061799070806,
          -0.9212288054020537,
          -0.7423626196462234,
          -0.2748348362493243,
          -0.9246535967495718,
          -0.586155510584619,
          1.3080066770596483
         ]
        ]
       }
      }
     },
     "0b7ba4dda4684b9fad51d39a549f86fa": {
      "model_module": "jupyter-js-widgets",
      "model_module_version": "~2.1.4",
      "model_name": "LayoutModel",
      "state": {
       "_model_module_version": "~2.1.4",
       "_view_module_version": "~2.1.4",
       "min_width": "600px"
      }
     },
     "0e14d8caa87c4a479848ae2d3b978929": {
      "model_module": "bqplot",
      "model_module_version": "^0.2.3",
      "model_name": "LinearScaleModel",
      "state": {
       "stabilized": false
      }
     },
     "0f49a8e6b8c2431e8153671d160cf549": {
      "model_module": "bqplot",
      "model_module_version": "^0.2.3",
      "model_name": "LinearScaleModel",
      "state": {
       "allow_padding": false,
       "max": 1,
       "min": 0,
       "stabilized": false
      }
     },
     "116f240913af4ab98b3eecb0e88367e4": {
      "model_module": "jupyter-js-widgets",
      "model_module_version": "~2.1.4",
      "model_name": "LayoutModel",
      "state": {
       "_model_module_version": "~2.1.4",
       "_view_module_version": "~2.1.4"
      }
     },
     "14dcdfad0b864286a4eafe83d53a4ae0": {
      "model_module": "bqplot",
      "model_module_version": "^0.2.3",
      "model_name": "AxisModel",
      "state": {
       "scale": "IPY_MODEL_e20e1215c08644cdae24bd43abefd3c9",
       "side": "bottom",
       "tick_values": {
        "type": null,
        "values": null
       }
      }
     },
     "1c3aa17e4a344aad9cf091b4f71b39df": {
      "model_module": "bqplot",
      "model_module_version": "^0.2.3",
      "model_name": "LinearScaleModel",
      "state": {
       "allow_padding": false,
       "max": 1,
       "min": 0,
       "stabilized": false
      }
     },
     "1e1be8a26d854b14b4bbc097ade74eb8": {
      "model_module": "bqplot",
      "model_module_version": "^0.2.3",
      "model_name": "LinearScaleModel",
      "state": {
       "stabilized": false
      }
     },
     "2e543875534449ff8a5284e02fcb461a": {
      "model_module": "bqplot",
      "model_module_version": "^0.2.3",
      "model_name": "LinearScaleModel",
      "state": {
       "allow_padding": false,
       "max": 1,
       "min": 0,
       "stabilized": false
      }
     },
     "2f709b7f2aae4beab26a6c6ce0f38db8": {
      "model_module": "bqplot",
      "model_module_version": "^0.2.3",
      "model_name": "LinearScaleModel",
      "state": {
       "allow_padding": false,
       "max": 1,
       "min": 0,
       "stabilized": false
      }
     },
     "2f8a7b9762c24f1ea82074501ac5088c": {
      "model_module": "jupyter-js-widgets",
      "model_module_version": "~2.1.4",
      "model_name": "LayoutModel",
      "state": {
       "_model_module_version": "~2.1.4",
       "_view_module_version": "~2.1.4",
       "min_width": "125px"
      }
     },
     "30fea9121aaa499494a067bdb3418bc1": {
      "model_module": "jupyter-js-widgets",
      "model_module_version": "~2.1.4",
      "model_name": "LayoutModel",
      "state": {
       "_model_module_version": "~2.1.4",
       "_view_module_version": "~2.1.4"
      }
     },
     "3774423c83484ef48a3ebb2489805a48": {
      "model_module": "bqplot",
      "model_module_version": "^0.2.3",
      "model_name": "AxisModel",
      "state": {
       "orientation": "vertical",
       "scale": "IPY_MODEL_e4e190fa0f274df58fc95b5dcb7c54d0",
       "side": "left",
       "tick_format": "0.2f",
       "tick_values": {
        "type": null,
        "values": null
       }
      }
     },
     "387a610b1b374115a2c0c5f38aa801dd": {
      "model_module": "bqplot",
      "model_module_version": "^0.2.3",
      "model_name": "FigureModel",
      "state": {
       "_dom_classes": [],
       "axes": [
        "IPY_MODEL_ad55be359b7746489ffbaafd1efbab22",
        "IPY_MODEL_b0c6d4eb563b4461b5ca3f6b61517253"
       ],
       "layout": "IPY_MODEL_0b7ba4dda4684b9fad51d39a549f86fa",
       "marks": [
        "IPY_MODEL_d92483813f4c4277a100689b3b398dbb"
       ],
       "max_aspect_ratio": 6,
       "scale_x": "IPY_MODEL_2f709b7f2aae4beab26a6c6ce0f38db8",
       "scale_y": "IPY_MODEL_e86e208aad9b4666a3503005da188072"
      }
     },
     "3e066b0f638941d2a7c6103a1c144ec1": {
      "model_module": "bqplot",
      "model_module_version": "^0.2.3",
      "model_name": "TooltipModel",
      "state": {
       "fields": [
        "size",
        "index",
        "color"
       ],
       "formats": [
        "0.2f",
        "",
        "0.2f"
       ],
       "layout": "IPY_MODEL_3e30dec8690b4a82a1dd22f2ddbc2de3"
      }
     },
     "3e30dec8690b4a82a1dd22f2ddbc2de3": {
      "model_module": "jupyter-js-widgets",
      "model_module_version": "~2.1.4",
      "model_name": "LayoutModel",
      "state": {
       "_model_module_version": "~2.1.4",
       "_view_module_version": "~2.1.4"
      }
     },
     "3f3e5980e42c4221a69c7697e24279c9": {
      "model_module": "jupyter-js-widgets",
      "model_module_version": "~2.1.4",
      "model_name": "LayoutModel",
      "state": {
       "_model_module_version": "~2.1.4",
       "_view_module_version": "~2.1.4",
       "min_width": "125px"
      }
     },
     "3f4672bbcb184dd48e22255211415b39": {
      "model_module": "bqplot",
      "model_module_version": "^0.2.3",
      "model_name": "FigureModel",
      "state": {
       "_dom_classes": [],
       "axes": [
        "IPY_MODEL_5ea864e411784452b97054489d85528c",
        "IPY_MODEL_82f3e58a0423417cbe7d65453c113e7b"
       ],
       "layout": "IPY_MODEL_2f8a7b9762c24f1ea82074501ac5088c",
       "marks": [
        "IPY_MODEL_b40dac90744d4d0385fd7f16b9ebf859"
       ],
       "max_aspect_ratio": 6,
       "scale_x": "IPY_MODEL_aff6008e66954b2bbc81120697efdfcf",
       "scale_y": "IPY_MODEL_0f49a8e6b8c2431e8153671d160cf549"
      }
     },
     "3f50fb0f0f6f4f60954e51297087e3d5": {
      "model_module": "bqplot",
      "model_module_version": "^0.2.3",
      "model_name": "FigureModel",
      "state": {
       "_dom_classes": [],
       "axes": [
        "IPY_MODEL_b59d5e0345454a6a802adc67f81bd029",
        "IPY_MODEL_3774423c83484ef48a3ebb2489805a48"
       ],
       "layout": "IPY_MODEL_3f3e5980e42c4221a69c7697e24279c9",
       "marks": [
        "IPY_MODEL_08ae128c694e47879d45ba74eec0305f"
       ],
       "max_aspect_ratio": 6,
       "scale_x": "IPY_MODEL_800766acc1b24d9aaeeee6c4ac67882c",
       "scale_y": "IPY_MODEL_1c3aa17e4a344aad9cf091b4f71b39df"
      }
     },
     "3fc8a6cc1eaa46ff98ff2e137e033a6b": {
      "model_module": "bqplot",
      "model_module_version": "^0.2.3",
      "model_name": "TooltipModel",
      "state": {
       "fields": [
        "x",
        "y"
       ],
       "formats": [
        "",
        ".2f"
       ],
       "layout": "IPY_MODEL_116f240913af4ab98b3eecb0e88367e4"
      }
     },
     "4444fa56ae3345ed8107819c0d2ad606": {
      "model_module": "bqplot",
      "model_module_version": "^0.2.3",
      "model_name": "LinearScaleModel",
      "state": {
       "stabilized": false
      }
     },
     "46d7c8e84942444e998abde8ebc48eb5": {
      "model_module": "bqplot",
      "model_module_version": "^0.2.3",
      "model_name": "AxisModel",
      "state": {
       "orientation": "vertical",
       "scale": "IPY_MODEL_70770e6e0d4b49ba99fa4a17fd448a45",
       "side": "left",
       "tick_format": "0.2f",
       "tick_values": {
        "type": null,
        "values": null
       }
      }
     },
     "472db4f8499342f4bed3cac7b1fd775f": {
      "model_module": "jupyter-js-widgets",
      "model_module_version": "~2.1.4",
      "model_name": "DropdownModel",
      "state": {
       "_model_module_version": "~2.1.4",
       "_options_labels": [
        "First",
        "Second",
        "Third",
        "Fourth"
       ],
       "_view_module_version": "~2.1.4",
       "layout": "IPY_MODEL_30fea9121aaa499494a067bdb3418bc1",
       "value": "First"
      }
     },
     "48efc654dc364cd8bf4022a08e233032": {
      "model_module": "bqplot",
      "model_module_version": "^0.2.3",
      "model_name": "LinearScaleModel",
      "state": {
       "allow_padding": false,
       "max": 1,
       "min": 0,
       "stabilized": false
      }
     },
     "4e6701c8548f485cab5115ac1370c832": {
      "model_module": "bqplot",
      "model_module_version": "^0.2.3",
      "model_name": "FigureModel",
      "state": {
       "_dom_classes": [],
       "axes": [
        "IPY_MODEL_a88cb9e43de44ea7b71f9789add373fd",
        "IPY_MODEL_46d7c8e84942444e998abde8ebc48eb5"
       ],
       "layout": "IPY_MODEL_9d79129ace5646d69f6d4bd0c8e48623",
       "marks": [
        "IPY_MODEL_7d5b478410f94a2bbc67cc50af599d46"
       ],
       "max_aspect_ratio": 6,
       "scale_x": "IPY_MODEL_75c5d3ed664a4a92828d29b88e8c3fc2",
       "scale_y": "IPY_MODEL_54bb81f0dbbb4816ad6e31946947e419"
      }
     },
     "54bb81f0dbbb4816ad6e31946947e419": {
      "model_module": "bqplot",
      "model_module_version": "^0.2.3",
      "model_name": "LinearScaleModel",
      "state": {
       "allow_padding": false,
       "max": 1,
       "min": 0,
       "stabilized": false
      }
     },
     "5ea864e411784452b97054489d85528c": {
      "model_module": "bqplot",
      "model_module_version": "^0.2.3",
      "model_name": "AxisModel",
      "state": {
       "scale": "IPY_MODEL_e70b0d70417a4a8f9f43bd3319084af2",
       "side": "bottom",
       "tick_values": {
        "type": null,
        "values": null
       }
      }
     },
     "620251d7831a4f69a7b5b05bffea4370": {
      "model_module": "bqplot",
      "model_module_version": "^0.2.3",
      "model_name": "LinearScaleModel",
      "state": {
       "allow_padding": false,
       "max": 1,
       "min": 0,
       "stabilized": false
      }
     },
     "621dd6b211db42b3808ed32d0537ec54": {
      "model_module": "jupyter-js-widgets",
      "model_module_version": "~2.1.4",
      "model_name": "ButtonModel",
      "state": {
       "_model_module_version": "~2.1.4",
       "_view_module_version": "~2.1.4",
       "icon": "legal",
       "layout": "IPY_MODEL_c9fbd8dc67c2447ea2c15a990add9c0a",
       "style": "IPY_MODEL_ce2c8dfaf184494ca53a00e7f0282ddc"
      }
     },
     "641167e7ed0648c3a1acb5c9306cf082": {
      "model_module": "bqplot",
      "model_module_version": "^0.2.3",
      "model_name": "LinesModel",
      "state": {
       "color": {
        "type": null,
        "values": null
       },
       "fill_colors": [],
       "labels": [
        "line 1",
        "line 2",
        "line 3"
       ],
       "scales": {
        "x": "IPY_MODEL_4444fa56ae3345ed8107819c0d2ad606",
        "y": "IPY_MODEL_1e1be8a26d854b14b4bbc097ade74eb8"
       },
       "selected": [],
       "tooltip": "IPY_MODEL_f85dfcb6b3a640a8935e35bb0a059b2d",
       "x": {
        "type": "float",
        "values": [
         0,
         1,
         2,
         3,
         4,
         5,
         6,
         7,
         8,
         9,
         10,
         11,
         12,
         13,
         14,
         15,
         16,
         17,
         18,
         19,
         20,
         21,
         22,
         23,
         24,
         25,
         26,
         27,
         28,
         29,
         30,
         31,
         32,
         33,
         34,
         35,
         36,
         37,
         38,
         39,
         40,
         41,
         42,
         43,
         44,
         45,
         46,
         47,
         48,
         49,
         50,
         51,
         52,
         53,
         54,
         55,
         56,
         57,
         58,
         59,
         60,
         61,
         62,
         63,
         64,
         65,
         66,
         67,
         68,
         69,
         70,
         71,
         72,
         73,
         74,
         75,
         76,
         77,
         78,
         79,
         80,
         81,
         82,
         83,
         84,
         85,
         86,
         87,
         88,
         89,
         90,
         91,
         92,
         93,
         94,
         95,
         96,
         97,
         98,
         99
        ]
       },
       "y": {
        "type": "float",
        "values": [
         [
          -0.572578062316996,
          0.8780708050242021,
          -2.992324630388213,
          0.1817454476315819,
          -1.146119013981802,
          2.0404154486448753,
          -0.28554040168887684,
          0.5734322536012716,
          0.6274755059877754,
          -0.8331954662230893,
          1.1964373186833548,
          0.5644311782513941,
          -0.1481976325883916,
          0.35913104726797873,
          -2.0751120906122864,
          1.628816284984938,
          0.21880733135449149,
          0.5288286018869092,
          1.2654776346150467,
          0.0753792440677799,
          1.86562674813692,
          0.026360218588900097,
          -0.1975457534197137,
          0.4020413406654239,
          -0.08884274491113707,
          0.2429941318831899,
          1.2473065169085336,
          0.4912246574934968,
          -0.9768952192433049,
          -1.6395189462804685,
          -0.4708634768821871,
          -0.3736774829701516,
          -1.5470807411475949,
          1.1355057506936186,
          -0.4494092017061628,
          -0.12417431926424416,
          -0.6928262134453244,
          0.7649678615795821,
          0.1784772582070673,
          0.21130573565004135,
          -0.46455257401926087,
          0.880555355934475,
          0.746308725669056,
          -1.1998517970821077,
          -0.007249575951717648,
          0.5478860760200258,
          -0.6944930274038227,
          -0.32256263942774255,
          1.4403107083354085,
          -0.22774846127189594,
          -0.33945399313977825,
          -1.3314031195784606,
          0.692233829496578,
          0.15374022617606264,
          -1.1072656489505293,
          0.23033086177809275,
          -0.2768080524738242,
          0.05011987224224545,
          -0.9607674884196962,
          -0.9544544398707883,
          -1.5695295917516878,
          -0.032379634928423794,
          -1.2154880070142224,
          -0.6427359851491846,
          -0.22063748954304813,
          0.9951469136443548,
          -0.3507719219136407,
          0.34108179243881726,
          -1.2880117118181555,
          1.0548885934267005,
          0.2634341819856955,
          -0.7534660064618716,
          -0.8233878373744542,
          1.7353399054369565,
          0.05986562322548542,
          -0.5066778042017764,
          1.0157112857945003,
          -0.9615686637462982,
          0.5735906857008748,
          1.2545173854558491,
          -1.7556579157040295,
          -0.6616073387987103,
          0.3045416564667429,
          -1.0698429625724353,
          -0.3523134520132827,
          0.813252696320076,
          -0.8570374229653863,
          0.9851235624289472,
          -0.39332624018985,
          -1.566400086845305,
          -0.1039346624885416,
          0.057315106857445695,
          -0.9103317228978709,
          -0.6136252875636518,
          1.4613811259102876,
          -1.015062896509978,
          2.3356411298217545,
          -0.28312790867355586,
          -1.1235856515733846,
          -0.6378537461806751
         ],
         [
          -0.6658835815066723,
          -0.5913936139341721,
          -1.090612524067681,
          -0.41746786796106466,
          -0.01992398646277403,
          -0.8891159660851923,
          -1.439548094823164,
          -1.124119994501529,
          0.15347159289764867,
          -0.26287935517470723,
          -0.33126748125354183,
          -0.13966960385889524,
          0.5572930683098262,
          0.6311736780624536,
          -1.627002192097941,
          0.14689931754800128,
          -0.41098422423563863,
          -0.7873400982372698,
          0.1687369944348402,
          1.663035422867892,
          -1.8500375569265426,
          0.6983341338559628,
          0.11052273927669967,
          0.8670807814965213,
          1.2807032702074215,
          -1.4259993880002964,
          -1.0567135789467583,
          1.0742324892561474,
          0.2714128357627755,
          -0.38285009224161615,
          1.8790239934041777,
          -1.4927002893152117,
          0.40956299761893694,
          -0.6570930154931582,
          -0.1053124097458595,
          -0.8709145922384675,
          0.5739665696722076,
          1.7992685629720349,
          0.3854050270580515,
          0.882401202568095,
          -0.8108254866321017,
          1.2507618665260685,
          2.2083424227623363,
          -1.214644121205882,
          1.2303600343477532,
          1.5248464832198436,
          -0.1533562413847579,
          0.7707915929085152,
          2.0159415466144908,
          0.49077136417610295,
          1.1604257529110993,
          0.9265935809169538,
          0.3716091420049656,
          -0.2684933520336906,
          1.6702128315227949,
          -0.3401884009114217,
          0.5452300370264226,
          0.06058561074550133,
          1.225413304544159,
          1.3794373500424957,
          -0.12763008221359784,
          1.2975429536016188,
          -0.23085093921225777,
          1.0015426433897556,
          -0.7096892183346339,
          -0.5133395042255986,
          0.006754578946341776,
          0.395511198470763,
          1.0521597749131462,
          1.327080461187566,
          -0.18003257525430222,
          -2.059831700924182,
          2.287795591365904,
          0.3366578561039884,
          -0.4643389099254843,
          1.4451519688154,
          0.5137039595368208,
          -1.8114063402905027,
          0.04336407112524536,
          -0.7374880641596578,
          0.9444749150892653,
          0.4038290135934289,
          -0.08594832038778608,
          0.8431124573761799,
          -0.06427688260770698,
          0.6198884419207426,
          0.6044035670032983,
          -0.6305099662852534,
          -0.36874040537917757,
          0.03821306182343803,
          -0.5906375606715046,
          -1.407485802790891,
          -0.26287177517975974,
          0.32928844286565345,
          -1.4035733000121495,
          -0.6066510898338325,
          0.42649108176371214,
          -1.8403066652145597,
          0.06202288816847185,
          0.651327578618742
         ],
         [
          -1.1333471958145793,
          -0.3586683359173502,
          -1.073883164027932,
          -0.8930155670809039,
          -0.10542682331678617,
          0.08520690589985468,
          -0.976656970958475,
          -1.3233335975999385,
          -0.45060961960601786,
          1.4725456476959344,
          0.7016311014349468,
          -1.3624890862007373,
          -1.0301210936193563,
          0.6773256351091689,
          -0.18290628792998115,
          1.3038099485369457,
          -0.09432143222214136,
          -0.4989295767793345,
          1.1596413090070228,
          -0.8174245170633649,
          0.6148771649054187,
          -0.5962135177906949,
          0.5047730339913797,
          -1.107798794141637,
          -2.124797210222882,
          -0.24740087421156115,
          -1.1839782806885657,
          -0.397604976772927,
          -0.5422249289290278,
          0.661355775774305,
          -0.31761867861343557,
          0.4653264843920533,
          1.0951536895284657,
          1.1857251157895954,
          0.567126514717282,
          0.3048193357438778,
          -1.1286839838827847,
          0.9216258977821987,
          0.3098889328441157,
          1.1496115094387434,
          -0.9407008770464504,
          1.260695793853614,
          -0.8128394309414257,
          -0.8880545725602192,
          -1.1495948987511877,
          -0.8376941325712604,
          -0.645067966778408,
          -1.444257405566374,
          0.468905334239279,
          -1.5619671819355392,
          0.047027607837367716,
          -0.5636007778574116,
          -2.133518305477399,
          -1.5930701844972415,
          -1.1828592754215395,
          0.7972337399279884,
          -1.7211666700789892,
          0.4713344882633413,
          -0.7806184700156192,
          -1.9393261316171109,
          0.6155938619954622,
          -0.6702346856665885,
          -0.8091423302831257,
          0.8465990780310141,
          -0.5124309882263426,
          -0.34962041204294314,
          0.8571235972324311,
          0.33835435521628865,
          -0.5131445341452667,
          -1.5095799840674469,
          -1.6524393513937974,
          -0.11990154483918358,
          -0.40001917995458647,
          -0.2655597912618212,
          0.8644177997358818,
          1.2103646941683852,
          -0.019968128960533477,
          -1.5592438869603034,
          -0.9704488553771069,
          -0.2222697002444735,
          -1.3732256910711778,
          0.3514545213490903,
          1.2513292815016392,
          1.073545295035707,
          -0.2443997090849785,
          -0.7573330293448431,
          -0.16932486860861837,
          0.4463650145654839,
          -0.4939837174842134,
          -0.5599861319500858,
          0.7926437840202165,
          -0.1846886140051392,
          -0.5931521669357644,
          -0.2505243655573843,
          -0.9426975420884085,
          1.8051170832516819,
          0.1237749960903162,
          -1.5757416691547075,
          0.2643410612881527,
          2.8812160462288063
         ]
        ]
       }
      }
     },
     "65d81ccc42bb464abacf0660d004f277": {
      "model_module": "bqplot",
      "model_module_version": "^0.2.3",
      "model_name": "ScatterModel",
      "state": {
       "_model_module": "bqplot",
       "_model_module_version": "^0.2.3",
       "_view_module": "bqplot",
       "_view_module_version": "^0.2.3",
       "apply_clip": true,
       "color": {
        "type": null,
        "values": null
       },
       "colors": [
        "dodgerblue"
       ],
       "display_legend": true,
       "display_names": false,
       "enable_hover": true,
       "hovered_style": {},
       "interactions": {
        "click": "tooltip"
       },
       "labels": [
        "Blue"
       ],
       "msg_throttle": 1,
       "names": {
        "type": "float",
        "values": [
         100,
         101,
         102,
         103,
         104,
         105,
         106,
         107,
         108,
         109,
         110,
         111,
         112,
         113,
         114,
         115,
         116,
         117,
         118,
         119,
         120,
         121,
         122,
         123,
         124,
         125,
         126,
         127,
         128,
         129,
         130,
         131,
         132,
         133,
         134,
         135,
         136,
         137,
         138,
         139,
         140,
         141,
         142,
         143,
         144,
         145,
         146,
         147,
         148,
         149,
         150,
         151,
         152,
         153,
         154,
         155,
         156,
         157,
         158,
         159,
         160,
         161,
         162,
         163,
         164,
         165,
         166,
         167,
         168,
         169,
         170,
         171,
         172,
         173,
         174,
         175,
         176,
         177,
         178,
         179,
         180,
         181,
         182,
         183,
         184,
         185,
         186,
         187,
         188,
         189,
         190,
         191,
         192,
         193,
         194,
         195,
         196,
         197,
         198,
         199
        ]
       },
       "names_unique": false,
       "opacity": {
        "type": null,
        "values": null
       },
       "preserve_domain": {},
       "rotation": {
        "type": null,
        "values": null
       },
       "scales": {
        "x": "IPY_MODEL_e20e1215c08644cdae24bd43abefd3c9",
        "y": "IPY_MODEL_cc234fddd7ce4475acc5240941bad25b"
       },
       "scales_metadata": {
        "color": {
         "dimension": "color"
        },
        "opacity": {
         "dimension": "opacity"
        },
        "size": {
         "dimension": "size"
        },
        "x": {
         "dimension": "x",
         "orientation": "horizontal"
        },
        "y": {
         "dimension": "y",
         "orientation": "vertical"
        }
       },
       "selected": [],
       "selected_style": {},
       "size": {
        "type": null,
        "values": null
       },
       "skew": {
        "type": null,
        "values": null
       },
       "tooltip": "IPY_MODEL_387a610b1b374115a2c0c5f38aa801dd",
       "tooltip_location": "mouse",
       "tooltip_style": {
        "opacity": 0.9
       },
       "unhovered_style": {},
       "unselected_style": {},
       "visible": true,
       "x": {
        "type": "float",
        "values": [
         0,
         1,
         2,
         3,
         4,
         5,
         6,
         7,
         8,
         9,
         10,
         11,
         12,
         13,
         14,
         15,
         16,
         17,
         18,
         19
        ]
       },
       "y": {
        "type": "float",
        "values": [
         -1.3660331051320032,
         0.5289196484541321,
         -0.044881322802383446,
         -1.483466760001073,
         0.2777583247009385,
         1.3239217168680486,
         -0.0677063691520475,
         -0.2959671277762589,
         -0.9186816310708729,
         -0.19277539293060605,
         0.6897933794020791,
         -0.7363504675141066,
         0.46123903306047326,
         0.192845282964744,
         0.37481858113285893,
         0.7297450704279338,
         1.0706184552583964,
         2.3369532083746227,
         1.7042219176946969,
         1.7455030608376518
        ]
       }
      }
     },
     "70770e6e0d4b49ba99fa4a17fd448a45": {
      "model_module": "bqplot",
      "model_module_version": "^0.2.3",
      "model_name": "LinearScaleModel",
      "state": {
       "stabilized": false
      }
     },
     "71d9add85ed743e2a05970459f50dd29": {
      "model_module": "bqplot",
      "model_module_version": "^0.2.3",
      "model_name": "ScatterModel",
      "state": {
       "_model_module": "bqplot",
       "_model_module_version": "^0.2.3",
       "_view_module": "bqplot",
       "_view_module_version": "^0.2.3",
       "apply_clip": true,
       "color": {
        "type": null,
        "values": null
       },
       "colors": [
        "orangered"
       ],
       "display_legend": true,
       "display_names": false,
       "enable_hover": true,
       "hovered_style": {},
       "interactions": {
        "hover": "tooltip"
       },
       "labels": [
        "Red"
       ],
       "msg_throttle": 1,
       "names": {
        "type": "float",
        "values": [
         100,
         101,
         102,
         103,
         104,
         105,
         106,
         107,
         108,
         109,
         110,
         111,
         112,
         113,
         114,
         115,
         116,
         117,
         118,
         119,
         120,
         121,
         122,
         123,
         124,
         125,
         126,
         127,
         128,
         129,
         130,
         131,
         132,
         133,
         134,
         135,
         136,
         137,
         138,
         139,
         140,
         141,
         142,
         143,
         144,
         145,
         146,
         147,
         148,
         149,
         150,
         151,
         152,
         153,
         154,
         155,
         156,
         157,
         158,
         159,
         160,
         161,
         162,
         163,
         164,
         165,
         166,
         167,
         168,
         169,
         170,
         171,
         172,
         173,
         174,
         175,
         176,
         177,
         178,
         179,
         180,
         181,
         182,
         183,
         184,
         185,
         186,
         187,
         188,
         189,
         190,
         191,
         192,
         193,
         194,
         195,
         196,
         197,
         198,
         199
        ]
       },
       "names_unique": false,
       "opacity": {
        "type": null,
        "values": null
       },
       "preserve_domain": {},
       "rotation": {
        "type": null,
        "values": null
       },
       "scales": {
        "x": "IPY_MODEL_e20e1215c08644cdae24bd43abefd3c9",
        "y": "IPY_MODEL_cc234fddd7ce4475acc5240941bad25b"
       },
       "scales_metadata": {
        "color": {
         "dimension": "color"
        },
        "opacity": {
         "dimension": "opacity"
        },
        "size": {
         "dimension": "size"
        },
        "x": {
         "dimension": "x",
         "orientation": "horizontal"
        },
        "y": {
         "dimension": "y",
         "orientation": "vertical"
        }
       },
       "selected": [],
       "selected_style": {},
       "size": {
        "type": null,
        "values": null
       },
       "skew": {
        "type": null,
        "values": null
       },
       "tooltip": "IPY_MODEL_472db4f8499342f4bed3cac7b1fd775f",
       "tooltip_location": "mouse",
       "tooltip_style": {
        "opacity": 0.9
       },
       "unhovered_style": {},
       "unselected_style": {},
       "visible": true,
       "x": {
        "type": "float",
        "values": [
         0,
         1,
         2,
         3,
         4,
         5,
         6,
         7,
         8,
         9,
         10,
         11,
         12,
         13,
         14,
         15,
         16,
         17,
         18,
         19
        ]
       },
       "y": {
        "type": "float",
        "values": [
         -0.16637042510888692,
         -1.2419968134904051,
         -0.5311595911494743,
         -0.8417205957356031,
         0.42783601464402365,
         -0.6279162526053539,
         -0.8537886790335549,
         -0.9039588442042243,
         0.5299657294030986,
         0.19126989499780278,
         0.17249130991246023,
         0.6048241558280749,
         -1.019880488482987,
         0.16003178927106973,
         -0.572111569733064,
         0.14935800996126838,
         0.7022504184092728,
         -0.06341421760380388,
         0.10695828834866751,
         0.6075258000583726
        ]
       }
      }
     },
     "75c5d3ed664a4a92828d29b88e8c3fc2": {
      "model_module": "bqplot",
      "model_module_version": "^0.2.3",
      "model_name": "LinearScaleModel",
      "state": {
       "allow_padding": false,
       "max": 1,
       "min": 0,
       "stabilized": false
      }
     },
     "7ab9d7dff46b42d2adfce4e79223a0f4": {
      "model_module": "bqplot",
      "model_module_version": "^0.2.3",
      "model_name": "FigureModel",
      "state": {
       "_dom_classes": [],
       "layout": "IPY_MODEL_d3413d36cd0e4d14a467c7cd1bdba108",
       "marks": [
        "IPY_MODEL_b4608860e685455a826783fcecbc823a"
       ],
       "max_aspect_ratio": 6,
       "scale_x": "IPY_MODEL_033fe8bc8df54097bc731b2889aee8e4",
       "scale_y": "IPY_MODEL_48efc654dc364cd8bf4022a08e233032"
      }
     },
     "7d5b478410f94a2bbc67cc50af599d46": {
      "model_module": "bqplot",
      "model_module_version": "^0.2.3",
      "model_name": "HistModel",
      "state": {
       "count": {
        "type": "float",
        "values": [
         2,
         1,
         5,
         13,
         26,
         18,
         17,
         13,
         4,
         1
        ]
       },
       "interactions": {
        "legend_click": "tooltip"
       },
       "labels": [
        "Test Hist"
       ],
       "midpoints": [
        -2.639028010029107,
        -2.11749284253671,
        -1.5959576750443132,
        -1.0744225075519158,
        -0.5528873400595189,
        -0.03135217256712175,
        0.4901829949252756,
        1.0117181624176728,
        1.5332533299100697,
        2.054788497402466
       ],
       "sample": {
        "type": "float",
        "values": [
         -0.8223307693510036,
         0.6687159150763746,
         -0.5010628247993828,
         1.0588959982205832,
         0.9370931509588069,
         -0.5572963530793834,
         -0.5490560748671404,
         -0.08932038940596286,
         -0.4863002941265483,
         0.4124288460424873,
         -0.5919450947451174,
         -0.5252057958162681,
         -0.19664242527188364,
         1.036765088998756,
         -0.15608153339214048,
         -0.16833557356281598,
         -0.6820824014089296,
         -1.9257063655045015,
         -1.3507631224859862,
         -0.2994244203202988,
         -0.37247656091540843,
         0.7428304315728325,
         -0.22034750026206967,
         0.5104667344394123,
         0.8761466897638918,
         -0.1908851636601325,
         -2.443959357405559,
         1.4966100601325074,
         -0.05337393134273352,
         -1.0964616922589216,
         -0.6406937450369614,
         -0.20768094885909572,
         0.3148637657514865,
         -0.7705656301712211,
         -0.4028276889347931,
         0.38280478734115325,
         -0.0897238691759636,
         1.108628914848418,
         0.5478899920275557,
         0.34520058711522567,
         0.7818246606028189,
         -0.8954029468694512,
         0.401147135095683,
         -0.33213248623538305,
         -0.2665943155145857,
         -0.02604825995586671,
         -1.7698723050752663,
         -1.2280867556658912,
         -0.29397092286483856,
         0.5452509567589915,
         -1.1906421642926863,
         0.8616027538623338,
         -0.34271688673314,
         -0.5954131848779983,
         -0.5413143000239802,
         -1.0582466670223698,
         -0.1401822929635482,
         0.5768711503916114,
         0.6491303366457601,
         0.3534925704675911,
         -0.42642283112386953,
         2.3155560811486646,
         -0.9249192743338684,
         0.6765344878217756,
         -0.22441106071554046,
         -1.1899239093791514,
         -1.152106029758392,
         -0.47345275487907923,
         -1.5345162334337292,
         0.7944059464859223,
         1.146460958941723,
         -0.9473672822888908,
         1.0237658264315168,
         -0.23470314402945003,
         1.0493849935395074,
         -0.7173425651137854,
         1.0708284005176272,
         0.559221608880428,
         1.7444602239154914,
         -0.17071716272897117,
         -0.30231709503593457,
         -0.5764090900236972,
         -0.9560439210374364,
         -0.5317214254902507,
         0.3112538346912899,
         -0.10333400144234145,
         -0.830036061750346,
         -0.3606131998443321,
         1.067747475126913,
         -1.3881419926843928,
         -0.03449184497770846,
         -0.9188519102137581,
         -0.7400023469989008,
         1.421438649291947,
         -1.4223753784655997,
         1.5361241507692451,
         -0.7165118881602006,
         0.25385893085163613,
         -2.899795593775306,
         0.09405948256846111
        ]
       },
       "scales": {
        "count": "IPY_MODEL_70770e6e0d4b49ba99fa4a17fd448a45",
        "sample": "IPY_MODEL_e96b925873104e0cbf63a4c6e97e08c0"
       },
       "selected": [],
       "tooltip": "IPY_MODEL_f7df4a7ff5a84da09c3e25571289ed94"
      }
     },
     "7fac74339e7e4e2d89498a14c439c9fb": {
      "model_module": "bqplot",
      "model_module_version": "^0.2.3",
      "model_name": "AxisModel",
      "state": {
       "orientation": "vertical",
       "scale": "IPY_MODEL_cc234fddd7ce4475acc5240941bad25b",
       "side": "left",
       "tick_format": "0.2f",
       "tick_values": {
        "type": null,
        "values": null
       }
      }
     },
     "800766acc1b24d9aaeeee6c4ac67882c": {
      "model_module": "bqplot",
      "model_module_version": "^0.2.3",
      "model_name": "LinearScaleModel",
      "state": {
       "allow_padding": false,
       "max": 1,
       "min": 0,
       "stabilized": false
      }
     },
     "82f3e58a0423417cbe7d65453c113e7b": {
      "model_module": "bqplot",
      "model_module_version": "^0.2.3",
      "model_name": "AxisModel",
      "state": {
       "orientation": "vertical",
       "scale": "IPY_MODEL_0e14d8caa87c4a479848ae2d3b978929",
       "side": "left",
       "tick_format": "0.2f",
       "tick_values": {
        "type": null,
        "values": null
       }
      }
     },
     "88090f107bfd4e5b86a4a5fddb3aeb35": {
      "model_module": "bqplot",
      "model_module_version": "^0.2.3",
      "model_name": "FigureModel",
      "state": {
       "_dom_classes": [],
       "axes": [
        "IPY_MODEL_14dcdfad0b864286a4eafe83d53a4ae0",
        "IPY_MODEL_7fac74339e7e4e2d89498a14c439c9fb"
       ],
       "layout": "IPY_MODEL_cc97107918e04f699480319fc402b90d",
       "marks": [
        "IPY_MODEL_65d81ccc42bb464abacf0660d004f277",
        "IPY_MODEL_71d9add85ed743e2a05970459f50dd29"
       ],
       "max_aspect_ratio": 6,
       "scale_x": "IPY_MODEL_620251d7831a4f69a7b5b05bffea4370",
       "scale_y": "IPY_MODEL_2e543875534449ff8a5284e02fcb461a"
      }
     },
     "8f1626071d174fe58329a1ca976f6064": {
      "model_module": "bqplot",
      "model_module_version": "^0.2.3",
      "model_name": "OrdinalScaleModel",
      "state": {
       "domain": []
      }
     },
     "925eb0d3a6ab49469bb5468655f56d05": {
      "model_module": "bqplot",
      "model_module_version": "^0.2.3",
      "model_name": "LinearScaleModel",
      "state": {
       "stabilized": false
      }
     },
     "9d79129ace5646d69f6d4bd0c8e48623": {
      "model_module": "jupyter-js-widgets",
      "model_module_version": "~2.1.4",
      "model_name": "LayoutModel",
      "state": {
       "_model_module_version": "~2.1.4",
       "_view_module_version": "~2.1.4",
       "min_width": "125px"
      }
     },
     "9d9d33335ad248c29e5cdbe562117a9b": {
      "model_module": "bqplot",
      "model_module_version": "^0.2.3",
      "model_name": "AxisModel",
      "state": {
       "orientation": "vertical",
       "scale": "IPY_MODEL_1e1be8a26d854b14b4bbc097ade74eb8",
       "side": "left",
       "tick_format": "0.2f",
       "tick_values": {
        "type": null,
        "values": null
       }
      }
     },
     "a7e62cb59cfe4771a5e87224d5d924a7": {
      "model_module": "bqplot",
      "model_module_version": "^0.2.3",
      "model_name": "LinearScaleModel",
      "state": {
       "allow_padding": false,
       "max": 1,
       "min": 0,
       "stabilized": false
      }
     },
     "a87da92f313049a99de2d12225da94d4": {
      "model_module": "bqplot",
      "model_module_version": "^0.2.3",
      "model_name": "LinearScaleModel",
      "state": {
       "stabilized": false
      }
     },
     "a88cb9e43de44ea7b71f9789add373fd": {
      "model_module": "bqplot",
      "model_module_version": "^0.2.3",
      "model_name": "AxisModel",
      "state": {
       "scale": "IPY_MODEL_e96b925873104e0cbf63a4c6e97e08c0",
       "side": "bottom",
       "tick_format": "0.2f",
       "tick_values": {
        "type": null,
        "values": null
       }
      }
     },
     "ad55be359b7746489ffbaafd1efbab22": {
      "model_module": "bqplot",
      "model_module_version": "^0.2.3",
      "model_name": "AxisModel",
      "state": {
       "scale": "IPY_MODEL_925eb0d3a6ab49469bb5468655f56d05",
       "side": "bottom",
       "tick_values": {
        "type": null,
        "values": null
       }
      }
     },
     "aff6008e66954b2bbc81120697efdfcf": {
      "model_module": "bqplot",
      "model_module_version": "^0.2.3",
      "model_name": "LinearScaleModel",
      "state": {
       "allow_padding": false,
       "max": 1,
       "min": 0,
       "stabilized": false
      }
     },
     "b0c6d4eb563b4461b5ca3f6b61517253": {
      "model_module": "bqplot",
      "model_module_version": "^0.2.3",
      "model_name": "AxisModel",
      "state": {
       "orientation": "vertical",
       "scale": "IPY_MODEL_a87da92f313049a99de2d12225da94d4",
       "side": "left",
       "tick_format": "0.2f",
       "tick_values": {
        "type": null,
        "values": null
       }
      }
     },
     "b1e0e7b31292474ba96c96f07ebb2bd7": {
      "model_module": "jupyter-js-widgets",
      "model_module_version": "~2.1.4",
      "model_name": "LayoutModel",
      "state": {
       "_model_module_version": "~2.1.4",
       "_view_module_version": "~2.1.4"
      }
     },
     "b40dac90744d4d0385fd7f16b9ebf859": {
      "model_module": "bqplot",
      "model_module_version": "^0.2.3",
      "model_name": "ScatterModel",
      "state": {
       "_model_module": "bqplot",
       "_model_module_version": "^0.2.3",
       "_view_module": "bqplot",
       "_view_module_version": "^0.2.3",
       "apply_clip": true,
       "color": {
        "type": null,
        "values": null
       },
       "colors": [
        "dodgerblue"
       ],
       "display_legend": false,
       "enable_hover": true,
       "hovered_style": {},
       "interactions": {
        "click": "select"
       },
       "labels": [],
       "msg_throttle": 1,
       "names": {
        "type": null,
        "values": null
       },
       "opacity": {
        "type": null,
        "values": null
       },
       "preserve_domain": {},
       "rotation": {
        "type": null,
        "values": null
       },
       "scales": {
        "x": "IPY_MODEL_e70b0d70417a4a8f9f43bd3319084af2",
        "y": "IPY_MODEL_0e14d8caa87c4a479848ae2d3b978929"
       },
       "scales_metadata": {
        "color": {
         "dimension": "color"
        },
        "opacity": {
         "dimension": "opacity"
        },
        "size": {
         "dimension": "size"
        },
        "x": {
         "dimension": "x",
         "orientation": "horizontal"
        },
        "y": {
         "dimension": "y",
         "orientation": "vertical"
        }
       },
       "selected": [
        1,
        2,
        3
       ],
       "selected_style": {
        "fill": "DarkOrange",
        "opacity": 1,
        "stroke": "Red"
       },
       "size": {
        "type": null,
        "values": null
       },
       "skew": {
        "type": null,
        "values": null
       },
       "tooltip": null,
       "tooltip_location": "mouse",
       "tooltip_style": {
        "opacity": 0.9
       },
       "unhovered_style": {},
       "unselected_style": {
        "opacity": 0.5
       },
       "visible": true,
       "x": {
        "type": "float",
        "values": [
         0,
         1,
         2,
         3,
         4,
         5,
         6,
         7,
         8,
         9,
         10,
         11,
         12,
         13,
         14,
         15,
         16,
         17,
         18,
         19
        ]
       },
       "y": {
        "type": "float",
        "values": [
         0.3620403378034442,
         0.46679892567693676,
         1.292304351666774,
         -0.20769399750605025,
         -1.3128448410000007,
         -0.5758769766519909,
         -0.4324029539004649,
         -0.023089055781777723,
         0.20158794105212716,
         0.9494293684487056,
         2.0995113444000166,
         0.35732376804755345,
         -0.7457966366099578,
         1.1809525294255045,
         0.0052689643361929165,
         0.15266676207529076,
         0.01317820918048119,
         0.7344013220254095,
         -0.9334047953395679,
         0.977809455155711
        ]
       }
      }
     },
     "b4608860e685455a826783fcecbc823a": {
      "model_module": "bqplot",
      "model_module_version": "^0.2.3",
      "model_name": "PieModel",
      "state": {
       "color": {
        "type": "float",
        "values": [
         0.42465376528519616,
         0.7444239029727854,
         0.9082263788934422,
         0.917678708795257,
         0.5796552203673372,
         0.3362458343283529,
         -1.3595963135605174,
         -1.733682274851899,
         -0.7117965609274204,
         1.6308410016621846
        ]
       },
       "display_labels": true,
       "display_legend": false,
       "font_size": "10px",
       "font_weight": "normal",
       "interactions": {
        "click": "select",
        "hover": "tooltip"
       },
       "label_color": null,
       "scales": {
        "color": "IPY_MODEL_fb4e0726aaba4020bf96bde7bd25a280"
       },
       "selected": [],
       "selected_style": {
        "opacity": "1",
        "stroke": "white",
        "stroke-width": "2"
       },
       "sizes": {
        "type": "float",
        "values": [
         0.8363526935980972,
         1.598764691780109,
         0.9369164835919171,
         0.8418501222199448,
         2.487404316555139,
         0.8237057056975261,
         0.17923990662809514,
         1.2037879148809014,
         0.4778989714831334,
         0.5430756433265285
        ]
       },
       "tooltip": "IPY_MODEL_3e066b0f638941d2a7c6103a1c144ec1",
       "unselected_style": {
        "opacity": "0.2"
       }
      }
     },
     "b59d5e0345454a6a802adc67f81bd029": {
      "model_module": "bqplot",
      "model_module_version": "^0.2.3",
      "model_name": "AxisModel",
      "state": {
       "scale": "IPY_MODEL_8f1626071d174fe58329a1ca976f6064",
       "side": "bottom",
       "tick_values": {
        "type": null,
        "values": null
       }
      }
     },
     "beecadb818104feea6f5170802c01385": {
      "model_module": "jupyter-js-widgets",
      "model_module_version": "~2.1.4",
      "model_name": "LayoutModel",
      "state": {
       "_model_module_version": "~2.1.4",
       "_view_module_version": "~2.1.4",
       "min_width": "125px"
      }
     },
     "c285aa5ffedf4d8e8688209accfd9759": {
      "model_module": "bqplot",
      "model_module_version": "^0.2.3",
      "model_name": "LinearScaleModel",
      "state": {
       "allow_padding": false,
       "max": 1,
       "min": 0,
       "stabilized": false
      }
     },
     "c4c76c4a2a8940ff81b7356fd2c9de84": {
      "model_module": "bqplot",
      "model_module_version": "^0.2.3",
      "model_name": "AxisModel",
      "state": {
       "scale": "IPY_MODEL_4444fa56ae3345ed8107819c0d2ad606",
       "side": "bottom",
       "tick_values": {
        "type": null,
        "values": null
       }
      }
     },
     "c9fbd8dc67c2447ea2c15a990add9c0a": {
      "model_module": "jupyter-js-widgets",
      "model_module_version": "~2.1.4",
      "model_name": "LayoutModel",
      "state": {
       "_model_module_version": "~2.1.4",
       "_view_module_version": "~2.1.4"
      }
     },
     "cc234fddd7ce4475acc5240941bad25b": {
      "model_module": "bqplot",
      "model_module_version": "^0.2.3",
      "model_name": "LinearScaleModel",
      "state": {
       "stabilized": false
      }
     },
     "cc97107918e04f699480319fc402b90d": {
      "model_module": "jupyter-js-widgets",
      "model_module_version": "~2.1.4",
      "model_name": "LayoutModel",
      "state": {
       "_model_module_version": "~2.1.4",
       "_view_module_version": "~2.1.4",
       "min_width": "125px"
      }
     },
     "ce2c8dfaf184494ca53a00e7f0282ddc": {
      "model_module": "jupyter-js-widgets",
      "model_module_version": "~2.1.4",
      "model_name": "ButtonStyleModel",
      "state": {
       "_model_module_version": "~2.1.4",
       "_view_module_version": "~2.1.4"
      }
     },
     "d3413d36cd0e4d14a467c7cd1bdba108": {
      "model_module": "jupyter-js-widgets",
      "model_module_version": "~2.1.4",
      "model_name": "LayoutModel",
      "state": {
       "_model_module_version": "~2.1.4",
       "_view_module_version": "~2.1.4",
       "min_width": "125px"
      }
     },
     "d6c30105a6a64bf18e8743804256a831": {
      "model_module": "jupyter-js-widgets",
      "model_module_version": "~2.1.4",
      "model_name": "LayoutModel",
      "state": {
       "_model_module_version": "~2.1.4",
       "_view_module_version": "~2.1.4"
      }
     },
     "d92483813f4c4277a100689b3b398dbb": {
      "model_module": "bqplot",
      "model_module_version": "^0.2.3",
      "model_name": "LinesModel",
      "state": {
       "color": {
        "type": null,
        "values": null
       },
       "display_legend": false,
       "fill_colors": [],
       "labels": [
        "C1"
       ],
       "scales": {
        "x": "IPY_MODEL_925eb0d3a6ab49469bb5468655f56d05",
        "y": "IPY_MODEL_a87da92f313049a99de2d12225da94d4"
       },
       "selected": [],
       "x": {
        "type": "float",
        "values": [
         0,
         1,
         2,
         3,
         4,
         5,
         6,
         7,
         8,
         9
        ]
       },
       "y": {
        "type": "float",
        "values": [
         1.502956331116108,
         -0.6530144576264582,
         -1.4623696061375173,
         0.8870830092431143,
         -0.5382503304155977,
         -0.5156741634504343,
         -0.8184500395525285,
         0.6131651940553305,
         0.36490826448466573,
         0.947147585427788
        ]
       }
      }
     },
     "e20e1215c08644cdae24bd43abefd3c9": {
      "model_module": "bqplot",
      "model_module_version": "^0.2.3",
      "model_name": "LinearScaleModel",
      "state": {
       "stabilized": false
      }
     },
     "e4e190fa0f274df58fc95b5dcb7c54d0": {
      "model_module": "bqplot",
      "model_module_version": "^0.2.3",
      "model_name": "LinearScaleModel",
      "state": {
       "stabilized": false
      }
     },
     "e70b0d70417a4a8f9f43bd3319084af2": {
      "model_module": "bqplot",
      "model_module_version": "^0.2.3",
      "model_name": "LinearScaleModel",
      "state": {
       "stabilized": false
      }
     },
     "e86e208aad9b4666a3503005da188072": {
      "model_module": "bqplot",
      "model_module_version": "^0.2.3",
      "model_name": "LinearScaleModel",
      "state": {
       "allow_padding": false,
       "max": 1,
       "min": 0,
       "stabilized": false
      }
     },
     "e96b925873104e0cbf63a4c6e97e08c0": {
      "model_module": "bqplot",
      "model_module_version": "^0.2.3",
      "model_name": "LinearScaleModel",
      "state": {
       "stabilized": false
      }
     },
     "e9c7ed8ab139438b8132e39fd0fc2094": {
      "model_module": "bqplot",
      "model_module_version": "^0.2.3",
      "model_name": "FigureModel",
      "state": {
       "_dom_classes": [],
       "axes": [
        "IPY_MODEL_c4c76c4a2a8940ff81b7356fd2c9de84",
        "IPY_MODEL_9d9d33335ad248c29e5cdbe562117a9b"
       ],
       "layout": "IPY_MODEL_beecadb818104feea6f5170802c01385",
       "marks": [
        "IPY_MODEL_641167e7ed0648c3a1acb5c9306cf082"
       ],
       "max_aspect_ratio": 6,
       "scale_x": "IPY_MODEL_a7e62cb59cfe4771a5e87224d5d924a7",
       "scale_y": "IPY_MODEL_c285aa5ffedf4d8e8688209accfd9759"
      }
     },
     "f7df4a7ff5a84da09c3e25571289ed94": {
      "model_module": "bqplot",
      "model_module_version": "^0.2.3",
      "model_name": "TooltipModel",
      "state": {
       "fields": [
        "count",
        "midpoint"
       ],
       "formats": [
        "",
        ".2f"
       ],
       "layout": "IPY_MODEL_d6c30105a6a64bf18e8743804256a831"
      }
     },
     "f85dfcb6b3a640a8935e35bb0a059b2d": {
      "model_module": "bqplot",
      "model_module_version": "^0.2.3",
      "model_name": "TooltipModel",
      "state": {
       "fields": [
        "name",
        "index"
       ],
       "formats": [
        "",
        ".2f"
       ],
       "labels": [
        "id",
        "line_num"
       ],
       "layout": "IPY_MODEL_b1e0e7b31292474ba96c96f07ebb2bd7"
      }
     },
     "fb4e0726aaba4020bf96bde7bd25a280": {
      "model_module": "bqplot",
      "model_module_version": "^0.2.3",
      "model_name": "ColorScaleModel",
      "state": {
       "_model_name": "ColorScaleModel",
       "_view_name": "ColorScale",
       "colors": [],
       "mid": null,
       "scale_type": "linear",
       "scheme": "Reds"
      }
     }
    },
    "version_major": 1,
    "version_minor": 0
   }
  }
 },
 "nbformat": 4,
 "nbformat_minor": 1
}
