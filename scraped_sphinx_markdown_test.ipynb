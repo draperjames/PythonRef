{
 "cells": [
  {
   "cell_type": "markdown",
   "metadata": {},
   "source": [
    "\n",
    "<p>See <a class=\"reference internal\" href=\"#difflib-interface\"><span class=\"std std-ref\">A command-line interface to difflib</span></a> for a more detailed example.</p>\n",
    "</dd></dl>\n",
    "<dl class=\"function\">\n",
    "<dt id=\"difflib.get_close_matches\">\n",
    "<code class=\"descclassname\">difflib.</code><code class=\"descname\">get_close_matches</code><span class=\"sig-paren\">(</span><em>word</em>, <em>possibilities</em>, <em>n=3</em>, <em>cutoff=0.6</em><span class=\"sig-paren\">)</span><a class=\"headerlink\" href=\"#difflib.get_close_matches\" title=\"Permalink to this definition\">¶</a></dt>\n",
    "<dd><p>Return a list of the best “good enough” matches.  <em>word</em> is a sequence for which\n",
    "close matches are desired (typically a string), and <em>possibilities</em> is a list of\n",
    "sequences against which to match <em>word</em> (typically a list of strings).</p>\n",
    "<p>Optional argument <em>n</em> (default <code class=\"docutils literal\"><span class=\"pre\">3</span></code>) is the maximum number of close matches to\n",
    "return; <em>n</em> must be greater than <code class=\"docutils literal\"><span class=\"pre\">0</span></code>.</p>\n",
    "<p>Optional argument <em>cutoff</em> (default <code class=\"docutils literal\"><span class=\"pre\">0.6</span></code>) is a float in the range [0, 1].\n",
    "Possibilities that don’t score at least that similar to <em>word</em> are ignored.</p>\n",
    "<p>The best (no more than <em>n</em>) matches among the possibilities are returned in a\n",
    "list, sorted by similarity score, most similar first.</p>\n"
   ]
  }
 ],
 "metadata": {},
 "nbformat": 4,
 "nbformat_minor": 2
}
