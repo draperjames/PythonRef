{
 "cells": [
  {
   "cell_type": "markdown",
   "metadata": {},
   "source": [
    "# Jupyter Notebook and Python Reference \n",
    "- Press the <mark>HOME</mark> button to return to the top this page.\n",
    "<a id = \"TOC\"></a>\n",
    "## Table of contents\n",
    "Here's how to make a [TOC](http://nbviewer.ipython.org/github/rasbt/python_reference/blob/master/tutorials/table_of_contents_ipython.ipynb)\n",
    "\n",
    "- [Notes from Comp116 TOC](#comptoc)\n",
    "- [Zen of Python](#Zen)\n",
    "- [Helpful resources](#handr)\n",
    "- [Building and installing python modules](#install)\n",
    "- [IPython Notebook](#ipython)\n",
    "    - [file links](#ipythonlinks)\n",
    "- [Markdown](#markdown)\n",
    "- [LaTeX in IPython](#latex)\n",
    "- [Types](#section2)\n",
    "- [Lists](#lists)\n",
    "- [Bools](#bools)\n",
    "- __[Arrays](#arrays)__\n",
    "    - [Creating arrays](#arrays)\n",
    "    - [Accessing Array Elements](#accessing array elements)\n",
    "    - [Changing Array Shapes](#changing array shape)\n",
    "    - [Array Functions](#array functions)\n",
    "    - [`np.ind1`](#indl)\n",
    "- [Formatting Matplotlib](#matplotlib)\n",
    "- [Simple Plotting](#plotting)\n",
    "- [Loops](#loops)\n",
    "- [Dicts](#dicts)\n",
    "- [Sets](#sets)\n",
    "- [Get some user input](#input)\n",
    "- [IPython Blocks](#blocks)\n",
    "- [Pickle](#pickle)\n",
    "- [Writing data to a file](#writing)\n",
    "- [Importing data from the web](#url)\n",
    "- [Pandas](#pandas)\n",
    "- [Mechanize](#mech)\n",
    "- [Biopython](#bio)\n",
    "- [Random module](#rand)\n",
    "- [Webcolors](#webcolors)\n",
    "    - [CSS3](#CSS)\n",
    "- [Time](#time)\n",
    "- [re](#re)\n",
    "- [Classes](#class)\n",
    "- [Java](#java)\n",
    "    - [Jython](#jython)\n",
    "- [Modules](#module)\n",
    "- [Misc.](#misc)\n",
    "- [Github](#github)\n",
    "- [Pandoc](#pandoc)\n",
    "- [FTP stuff](#ftp)"
   ]
  },
  {
   "cell_type": "markdown",
   "metadata": {},
   "source": [
    "---\n",
    "\n",
    "<a id= \"comptoc\"></a>\n",
    "# __Comp116 Notes table of contents:__\n",
    "\n",
    "These are the class notes taken by Dr. Bishop, from his [Comp116](https://www.cs.unc.edu/Courses/comp116-s14/posts/2014/01/21/you-can-read-our-class-notes-here/) class at UNC Chapel Hill.\n",
    "\n",
    "- 0114- [Basics](http://nbviewer.ipython.org/urls/www.cs.unc.edu/Courses/comp116-s14/media/Notes0114.ipynb?create=1)\n",
    "- 0116- [Sequences](http://nbviewer.ipython.org/urls/www.cs.unc.edu/Courses/comp116-s14/media/Notes0116.ipynb?create=1)\n",
    "- 0121- [np.loadtxt, arrays](http://nbviewer.ipython.org/urls/www.cs.unc.edu/Courses/comp116-s14/media/Notes0121.ipynb?create=1)\n",
    "\n",
    "- 0123- [Numpy functions](http://nbviewer.ipython.org/urls/www.cs.unc.edu/Courses/comp116-s14/media/Notes0123.ipynb?create=1)\n",
    "\n",
    "- 0128- [Beginning A2](http://nbviewer.ipython.org/urls/www.cs.unc.edu/Courses/comp116-s14/media/Notes0128.ipynb?create=1)\n",
    "\n",
    "- 0130- [Arrays](http://nbviewer.ipython.org/urls/www.cs.unc.edu/Courses/comp116-s14/media/Notes0130.ipynb?create=1)\n",
    "\n",
    "- 0204- [Temperature conversions with functions](http://nbviewer.ipython.org/urls/www.cs.unc.edu/Courses/comp116-s14/media/Notes0204.ipynb?create=1)\n",
    "\n",
    "- 0206- [Pylab stuff 0206- converting F to C, Dew point, messing around with boolean vectors](http://nbviewer.ipython.org/urls/www.cs.unc.edu/Courses/comp116-s14/media/Notes0206.ipynb?create=1)\n",
    "\n",
    "- 0220- [np.logical, arrays (A3)-sh(im) function, AND, OR & NOT](http://nbviewer.ipython.org/urls/www.cs.unc.edu/Courses/comp116-s14/media/Notes0220.ipynb?create=1)\n",
    "\n",
    "- 0225- [Beginning A4- LOOPS, reading and slinging up a file](http://nbviewer.ipython.org/urls/www.cs.unc.edu/Courses/comp116-s14/media/Notes0225.ipynb?create=1)\n",
    "\n",
    "- 0227- [Distances, np.where, and A4](http://nbviewer.ipython.org/urls/www.cs.unc.edu/Courses/comp116-s14/media/Notes0227.ipynb?create=1)\n",
    "\n",
    "- 0304- [Finding max without np.max writing a max function, writing a recursive factorial function.](http://nbviewer.ipython.org/urls/www.cs.unc.edu/Courses/comp116-s14/media/Notes0304.ipynb?create=1)\n",
    "\n",
    "- 0306- [Counting number of occurences in an array-  loops, sub-loops and print functions for debugging](http://nbviewer.ipython.org/urls/www.cs.unc.edu/Courses/comp116-s14/media/Notes0304.ipynb?create=1)\n",
    "\n",
    "- 0318- [Data Analysis](http://nbviewer.ipython.org/urls/www.cs.unc.edu/Courses/comp116-s14/media/Notes0318.ipynb?create=1)\n",
    "    - google csv file on the class height data, making a random permuatation to test the hypothesis.\n",
    "\n",
    "- 0320- [Pallindromes](http://nbviewer.ipython.org/urls/www.cs.unc.edu/Courses/comp116-s14/media/Notes0320.ipynb?create=1)\n",
    "    - working with strings and pallindromes in loops, graphing with loops.\n",
    "\n",
    "- 0325- [Max so far(in an array)](http://nbviewer.ipython.org/urls/www.cs.unc.edu/Courses/comp116-s14/media/Notes0401.ipynb?create=1)\n",
    "\n",
    "- 0401- [Midterm 2 review](http://nbviewer.ipython.org/urls/www.cs.unc.edu/Courses/comp116-s14/media/Notes0401.ipynb?create=1)\n",
    "\n",
    "- 0408- [Dictionary and Set (A6)](http://nbviewer.ipython.org/urls/www.cs.unc.edu/Courses/comp116-s14/media/Notes0408.ipynb?create=1)\n",
    "    - working with dictionaries and a little bit of working with sets\n",
    "\n",
    "- 0410- [Jumble Words](http://nbviewer.ipython.org/urls/www.cs.unc.edu/Courses/comp116-s14/media/Notes0410.ipynb?create=1)\n",
    "    - working with files and the strip function, user interface and word jumble all in the context of dictionaies\n",
    "\n",
    "- 0415- [Fitting Equations to Data](http://nbviewer.ipython.org/urls/www.cs.unc.edu/Courses/comp116-s14/media/Notes0415.ipynb?create=1)\n",
    "\n",
    "- 0417- [Exponential Smoothing](http://nbviewer.ipython.org/urls/www.cs.unc.edu/Courses/comp116-s14/media/Notes0417.ipynb?create=1)\n",
    "\n"
   ]
  },
  {
   "cell_type": "markdown",
   "metadata": {},
   "source": [
    "---\n",
    "<a id='Zen'></a>\n",
    "## The Zen of Python"
   ]
  },
  {
   "cell_type": "code",
   "execution_count": 1,
   "metadata": {
    "collapsed": false
   },
   "outputs": [
    {
     "name": "stdout",
     "output_type": "stream",
     "text": [
      "The Zen of Python, by Tim Peters\n",
      "\n",
      "Beautiful is better than ugly.\n",
      "Explicit is better than implicit.\n",
      "Simple is better than complex.\n",
      "Complex is better than complicated.\n",
      "Flat is better than nested.\n",
      "Sparse is better than dense.\n",
      "Readability counts.\n",
      "Special cases aren't special enough to break the rules.\n",
      "Although practicality beats purity.\n",
      "Errors should never pass silently.\n",
      "Unless explicitly silenced.\n",
      "In the face of ambiguity, refuse the temptation to guess.\n",
      "There should be one-- and preferably only one --obvious way to do it.\n",
      "Although that way may not be obvious at first unless you're Dutch.\n",
      "Now is better than never.\n",
      "Although never is often better than *right* now.\n",
      "If the implementation is hard to explain, it's a bad idea.\n",
      "If the implementation is easy to explain, it may be a good idea.\n",
      "Namespaces are one honking great idea -- let's do more of those!\n"
     ]
    }
   ],
   "source": [
    "import this"
   ]
  },
  {
   "cell_type": "markdown",
   "metadata": {},
   "source": [
    "---\n",
    "<a id = \"handr\"></a>\n",
    "# Helpful resources for beginners:\n",
    "- this is a list of some helpful recources\n",
    "- [StackOverflow](http://stackoverflow.com/)\n",
    "- [Python Standard Library](https://docs.python.org/2/contents.html)\n",
    "- [Informal introduction to python](https://docs.python.org/2/tutorial/introduction.html)\n",
    "    - there is alot of good stuff in here if you are not used to python it makes it very very simple to understand and use.\n",
    "- [Intermediate Ipython stuff](http://nbviewer.ipython.org/github/NelisW/ComputationalRadiometry/blob/master/01-IPythonHintsAndTips.ipynb)\n",
    "- remember that you can hit TAB after any module object and ipy will give you a list of its functions"
   ]
  },
  {
   "cell_type": "code",
   "execution_count": 2,
   "metadata": {
    "collapsed": false
   },
   "outputs": [],
   "source": [
    "import numpy as np"
   ]
  },
  {
   "cell_type": "code",
   "execution_count": 3,
   "metadata": {
    "collapsed": false
   },
   "outputs": [
    {
     "data": {
      "text/plain": [
       "3.141592653589793"
      ]
     },
     "execution_count": 3,
     "metadata": {},
     "output_type": "execute_result"
    }
   ],
   "source": [
    "np.pi  # hit tab then hit \"p\" and you should see it pop up"
   ]
  },
  {
   "cell_type": "markdown",
   "metadata": {},
   "source": [
    "- you can also type `dir(module)`,where `module` is any module,to find the functionlist.\n",
    "- you can also you `dir(module.method)`, where `method` is any method or function,to find out about the functions."
   ]
  },
  {
   "cell_type": "code",
   "execution_count": 2,
   "metadata": {
    "collapsed": false
   },
   "outputs": [],
   "source": [
    "#import pandas as pd\n",
    "#dir(pd)#uncomment this line if you wanna see"
   ]
  },
  {
   "cell_type": "code",
   "execution_count": 4,
   "metadata": {
    "collapsed": false
   },
   "outputs": [],
   "source": [
    "import numpy\n",
    "%quickref\n",
    "?numpy.*sum*#can use this to find any thing inside of a module"
   ]
  },
  {
   "cell_type": "markdown",
   "metadata": {},
   "source": [
    "---\n",
    "<a id='install'></a>\n",
    "# [Building and installing python modules](https://docs.python.org/2/install/)\n",
    "\n",
    "- in windows make sure that you have extracted the zip file\n",
    "\n",
    "`cd Downloads\\modulex`\n"
   ]
  },
  {
   "cell_type": "markdown",
   "metadata": {},
   "source": [
    "---\n",
    "   \n",
    "   \n",
    "<a id = \"ipython\"></a>\n",
    "# IPython notebook\n",
    "- [IPython](http://ipython.org/)\n",
    "\n",
    "- [Citing Ipython ](http://ipython.org/citing.html)\n",
    "\n",
    "- [IPython Notebook Convert](http://ipython.org/ipython-doc/1/interactive/nbconvert.html)\n",
    "\n",
    "    - cd C:\\Users\\drapja\\Documents\\IPython Notebooks\n",
    "    - ipython nbconvert Untitled0.ipynb --to html\n",
    "\n",
    "- [Ipython Notebook Gallery](https://github.com/ipython/ipython/wiki/A-gallery-of-interesting-IPython-Notebooks)\n",
    "\n",
    "- [IPython extensions](http://ipython.org/ipython-doc/dev/config/extensions/index.html)\n",
    "\n",
    "- [IPython extension index](https://github.com/ipython/ipython/wiki/Extensions-Index)\n",
    "\n",
    "- [Theming in ipython](http://www.damian.oquanta.info/posts/48-themes-for-your-ipython-notebook.html)\n",
    "\n",
    "- [IPython REDDIT](http://www.reddit.com/r/IPython)\n",
    "\n",
    "- [separate nbs](http://stackoverflow.com/a/20024051/3727854)"
   ]
  },
  {
   "cell_type": "markdown",
   "metadata": {},
   "source": [
    "- [Mining the Social Web](http://nbviewer.ipython.org/github/ptwobrussell/Mining-the-Social-Web-2nd-Edition/blob/master/ipynb/Chapter%208%20-%20Mining%20the%20Semantically%20Marked-Up%20Web.ipynb)\n",
    "\n",
    "- [Ploting market data](http://nbviewer.ipython.org/gist/twiecki/3962843)\n",
    "\n",
    "- [Fortran and C in IPython notebook](http://nbviewer.ipython.org/github/jrjohansson/scientific-python-lectures/blob/master/Lecture-6A-Fortran-and-C.ipynb)\n",
    "\n",
    "- [Plotly](http://nbviewer.ipython.org/github/plotly/python-user-guide/blob/master/Index.ipynb)\n",
    "\n",
    "- [Plotly on Heatmaps and Histograms](https://plot.ly/python/heatmaps-contours-and-2dhistograms-tutorial/)"
   ]
  },
  {
   "cell_type": "markdown",
   "metadata": {},
   "source": [
    "---\n",
    "    \n",
    "<a id = 'ipythonlinks'></a>\n",
    "### Here is how to generate a list of links to all of the files in a directory;"
   ]
  },
  {
   "cell_type": "code",
   "execution_count": 2,
   "metadata": {
    "collapsed": false
   },
   "outputs": [
    {
     "data": {
      "text/html": [
       "./<br>\n",
       "&nbsp;&nbsp;<a href='./Generators and Recusion.ipynb' target='_blank'>Generators and Recusion.ipynb</a><br>\n",
       "&nbsp;&nbsp;<a href='./Jupyter builtin magic commands and variable explorer.ipynb' target='_blank'>Jupyter builtin magic commands and variable explorer.ipynb</a><br>\n",
       "&nbsp;&nbsp;<a href='./JupyterRef_Setting_up_R_on_Jypyter.ipynb' target='_blank'>JupyterRef_Setting_up_R_on_Jypyter.ipynb</a><br>\n",
       "&nbsp;&nbsp;<a href='./PandasRef.ipynb' target='_blank'>PandasRef.ipynb</a><br>\n",
       "&nbsp;&nbsp;<a href='./PythonReference.ipynb' target='_blank'>PythonReference.ipynb</a><br>\n",
       "&nbsp;&nbsp;<a href='./PythonRef_assign_varibles.ipynb' target='_blank'>PythonRef_assign_varibles.ipynb</a><br>\n",
       "&nbsp;&nbsp;<a href='./PythonRef_BeautifulSoup_usecase_naming_a_github.ipynb' target='_blank'>PythonRef_BeautifulSoup_usecase_naming_a_github.ipynb</a><br>\n",
       "&nbsp;&nbsp;<a href='./PythonRef_bokeh_interactive_plots.ipynb' target='_blank'>PythonRef_bokeh_interactive_plots.ipynb</a><br>\n",
       "&nbsp;&nbsp;<a href='./PythonRef_Bytes_Unicode_and_Strings.ipynb' target='_blank'>PythonRef_Bytes_Unicode_and_Strings.ipynb</a><br>\n",
       "&nbsp;&nbsp;<a href='./PythonRef_Classes.ipynb' target='_blank'>PythonRef_Classes.ipynb</a><br>\n",
       "&nbsp;&nbsp;<a href='./PythonRef_conda_envs.ipynb' target='_blank'>PythonRef_conda_envs.ipynb</a><br>\n",
       "&nbsp;&nbsp;<a href='./PythonRef_Conditionals.ipynb' target='_blank'>PythonRef_Conditionals.ipynb</a><br>\n",
       "&nbsp;&nbsp;<a href='./PythonRef_cx_Oracle.ipynb' target='_blank'>PythonRef_cx_Oracle.ipynb</a><br>\n",
       "&nbsp;&nbsp;<a href='./PythonRef_GUI_and_plotting.ipynb' target='_blank'>PythonRef_GUI_and_plotting.ipynb</a><br>\n",
       "&nbsp;&nbsp;<a href='./PythonRef_Lambda_functions_incomplete.ipynb' target='_blank'>PythonRef_Lambda_functions_incomplete.ipynb</a><br>\n",
       "&nbsp;&nbsp;<a href='./PythonRef_Matplotlib.ipynb' target='_blank'>PythonRef_Matplotlib.ipynb</a><br>\n",
       "&nbsp;&nbsp;<a href='./PythonRef_Matplotlib_colormap_fail.ipynb' target='_blank'>PythonRef_Matplotlib_colormap_fail.ipynb</a><br>\n",
       "&nbsp;&nbsp;<a href='./PythonRef_Mouse_control.ipynb' target='_blank'>PythonRef_Mouse_control.ipynb</a><br>\n",
       "&nbsp;&nbsp;<a href='./PythonRef_py27_kernel.ipynb' target='_blank'>PythonRef_py27_kernel.ipynb</a><br>\n",
       "&nbsp;&nbsp;<a href='./PythonRef_py34_kernel.ipynb' target='_blank'>PythonRef_py34_kernel.ipynb</a><br>\n",
       "&nbsp;&nbsp;<a href='./PythonRef_py34_with_pyside.ipynb' target='_blank'>PythonRef_py34_with_pyside.ipynb</a><br>\n",
       "&nbsp;&nbsp;<a href='./PythonRef_Py35_PyQt5.ipynb' target='_blank'>PythonRef_Py35_PyQt5.ipynb</a><br>\n",
       "&nbsp;&nbsp;<a href='./PythonRef_PyQt_and_Pyside_compatibility.ipynb' target='_blank'>PythonRef_PyQt_and_Pyside_compatibility.ipynb</a><br>\n",
       "&nbsp;&nbsp;<a href='./PythonRef_static_methods.ipynb' target='_blank'>PythonRef_static_methods.ipynb</a><br>\n",
       "&nbsp;&nbsp;<a href='./PythonRef_Types_Bool.ipynb' target='_blank'>PythonRef_Types_Bool.ipynb</a><br>\n",
       "&nbsp;&nbsp;<a href='./Python_Ref_Decorators.ipynb' target='_blank'>Python_Ref_Decorators.ipynb</a><br>\n",
       "&nbsp;&nbsp;<a href='./Python_Ref_Lists_&_Tuples.ipynb' target='_blank'>Python_Ref_Lists_&_Tuples.ipynb</a><br>\n",
       "&nbsp;&nbsp;<a href='./Python_Ref_Types_sets.ipynb' target='_blank'>Python_Ref_Types_sets.ipynb</a><br>\n",
       "&nbsp;&nbsp;<a href='./Strings and Regular Expressions.ipynb' target='_blank'>Strings and Regular Expressions.ipynb</a><br>\n",
       "&nbsp;&nbsp;<a href='./XlsxWriter and Pandas.ipynb' target='_blank'>XlsxWriter and Pandas.ipynb</a><br>\n",
       ".\\.ipynb_checkpoints/<br>\n",
       "&nbsp;&nbsp;<a href='./.ipynb_checkpoints/Generators and Recusion-checkpoint.ipynb' target='_blank'>Generators and Recusion-checkpoint.ipynb</a><br>\n",
       "&nbsp;&nbsp;<a href='./.ipynb_checkpoints/Jupyter builtin magic commands and variable explorer-checkpoint.ipynb' target='_blank'>Jupyter builtin magic commands and variable explorer-checkpoint.ipynb</a><br>\n",
       "&nbsp;&nbsp;<a href='./.ipynb_checkpoints/PandasRef-checkpoint.ipynb' target='_blank'>PandasRef-checkpoint.ipynb</a><br>\n",
       "&nbsp;&nbsp;<a href='./.ipynb_checkpoints/PythonReference-checkpoint.ipynb' target='_blank'>PythonReference-checkpoint.ipynb</a><br>\n",
       "&nbsp;&nbsp;<a href='./.ipynb_checkpoints/PythonRef_assign_varibles-checkpoint.ipynb' target='_blank'>PythonRef_assign_varibles-checkpoint.ipynb</a><br>\n",
       "&nbsp;&nbsp;<a href='./.ipynb_checkpoints/PythonRef_Bytes_Unicode_and_Strings-checkpoint.ipynb' target='_blank'>PythonRef_Bytes_Unicode_and_Strings-checkpoint.ipynb</a><br>\n",
       "&nbsp;&nbsp;<a href='./.ipynb_checkpoints/PythonRef_Classes-checkpoint.ipynb' target='_blank'>PythonRef_Classes-checkpoint.ipynb</a><br>\n",
       "&nbsp;&nbsp;<a href='./.ipynb_checkpoints/PythonRef_conda_envs-checkpoint.ipynb' target='_blank'>PythonRef_conda_envs-checkpoint.ipynb</a><br>\n",
       "&nbsp;&nbsp;<a href='./.ipynb_checkpoints/PythonRef_Conditionals-checkpoint.ipynb' target='_blank'>PythonRef_Conditionals-checkpoint.ipynb</a><br>\n",
       "&nbsp;&nbsp;<a href='./.ipynb_checkpoints/PythonRef_cx_Oracle-checkpoint.ipynb' target='_blank'>PythonRef_cx_Oracle-checkpoint.ipynb</a><br>\n",
       "&nbsp;&nbsp;<a href='./.ipynb_checkpoints/PythonRef_GUI_and_plotting-checkpoint.ipynb' target='_blank'>PythonRef_GUI_and_plotting-checkpoint.ipynb</a><br>\n",
       "&nbsp;&nbsp;<a href='./.ipynb_checkpoints/PythonRef_py27_kernel-checkpoint.ipynb' target='_blank'>PythonRef_py27_kernel-checkpoint.ipynb</a><br>\n",
       "&nbsp;&nbsp;<a href='./.ipynb_checkpoints/PythonRef_py34_kernel-checkpoint.ipynb' target='_blank'>PythonRef_py34_kernel-checkpoint.ipynb</a><br>\n",
       "&nbsp;&nbsp;<a href='./.ipynb_checkpoints/PythonRef_py34_with_pyside-checkpoint.ipynb' target='_blank'>PythonRef_py34_with_pyside-checkpoint.ipynb</a><br>\n",
       "&nbsp;&nbsp;<a href='./.ipynb_checkpoints/PythonRef_Py35_PyQt5-checkpoint.ipynb' target='_blank'>PythonRef_Py35_PyQt5-checkpoint.ipynb</a><br>\n",
       "&nbsp;&nbsp;<a href='./.ipynb_checkpoints/PythonRef_PyQt_and_Pyside_compatibility-checkpoint.ipynb' target='_blank'>PythonRef_PyQt_and_Pyside_compatibility-checkpoint.ipynb</a><br>\n",
       "&nbsp;&nbsp;<a href='./.ipynb_checkpoints/PythonRef_static_methods-checkpoint.ipynb' target='_blank'>PythonRef_static_methods-checkpoint.ipynb</a><br>\n",
       "&nbsp;&nbsp;<a href='./.ipynb_checkpoints/PythonRef_Types_Bool-checkpoint.ipynb' target='_blank'>PythonRef_Types_Bool-checkpoint.ipynb</a><br>\n",
       "&nbsp;&nbsp;<a href='./.ipynb_checkpoints/Python_Ref_Decorators-checkpoint.ipynb' target='_blank'>Python_Ref_Decorators-checkpoint.ipynb</a><br>\n",
       "&nbsp;&nbsp;<a href='./.ipynb_checkpoints/Python_Ref_Lists_&_Tuples-checkpoint.ipynb' target='_blank'>Python_Ref_Lists_&_Tuples-checkpoint.ipynb</a><br>\n",
       "&nbsp;&nbsp;<a href='./.ipynb_checkpoints/Strings and Regular Expressions-checkpoint.ipynb' target='_blank'>Strings and Regular Expressions-checkpoint.ipynb</a><br>\n",
       "&nbsp;&nbsp;<a href='./.ipynb_checkpoints/XlsxWriter and Pandas-checkpoint.ipynb' target='_blank'>XlsxWriter and Pandas-checkpoint.ipynb</a><br>"
      ],
      "text/plain": [
       "./\n",
       "  Generators and Recusion.ipynb\n",
       "  Jupyter builtin magic commands and variable explorer.ipynb\n",
       "  JupyterRef_Setting_up_R_on_Jypyter.ipynb\n",
       "  PandasRef.ipynb\n",
       "  PythonReference.ipynb\n",
       "  PythonRef_assign_varibles.ipynb\n",
       "  PythonRef_BeautifulSoup_usecase_naming_a_github.ipynb\n",
       "  PythonRef_bokeh_interactive_plots.ipynb\n",
       "  PythonRef_Bytes_Unicode_and_Strings.ipynb\n",
       "  PythonRef_Classes.ipynb\n",
       "  PythonRef_conda_envs.ipynb\n",
       "  PythonRef_Conditionals.ipynb\n",
       "  PythonRef_cx_Oracle.ipynb\n",
       "  PythonRef_GUI_and_plotting.ipynb\n",
       "  PythonRef_Lambda_functions_incomplete.ipynb\n",
       "  PythonRef_Matplotlib.ipynb\n",
       "  PythonRef_Matplotlib_colormap_fail.ipynb\n",
       "  PythonRef_Mouse_control.ipynb\n",
       "  PythonRef_py27_kernel.ipynb\n",
       "  PythonRef_py34_kernel.ipynb\n",
       "  PythonRef_py34_with_pyside.ipynb\n",
       "  PythonRef_Py35_PyQt5.ipynb\n",
       "  PythonRef_PyQt_and_Pyside_compatibility.ipynb\n",
       "  PythonRef_static_methods.ipynb\n",
       "  PythonRef_Types_Bool.ipynb\n",
       "  Python_Ref_Decorators.ipynb\n",
       "  Python_Ref_Lists_&_Tuples.ipynb\n",
       "  Python_Ref_Types_sets.ipynb\n",
       "  Strings and Regular Expressions.ipynb\n",
       "  XlsxWriter and Pandas.ipynb\n",
       ".\\.ipynb_checkpoints/\n",
       "  Generators and Recusion-checkpoint.ipynb\n",
       "  Jupyter builtin magic commands and variable explorer-checkpoint.ipynb\n",
       "  PandasRef-checkpoint.ipynb\n",
       "  PythonReference-checkpoint.ipynb\n",
       "  PythonRef_assign_varibles-checkpoint.ipynb\n",
       "  PythonRef_Bytes_Unicode_and_Strings-checkpoint.ipynb\n",
       "  PythonRef_Classes-checkpoint.ipynb\n",
       "  PythonRef_conda_envs-checkpoint.ipynb\n",
       "  PythonRef_Conditionals-checkpoint.ipynb\n",
       "  PythonRef_cx_Oracle-checkpoint.ipynb\n",
       "  PythonRef_GUI_and_plotting-checkpoint.ipynb\n",
       "  PythonRef_py27_kernel-checkpoint.ipynb\n",
       "  PythonRef_py34_kernel-checkpoint.ipynb\n",
       "  PythonRef_py34_with_pyside-checkpoint.ipynb\n",
       "  PythonRef_Py35_PyQt5-checkpoint.ipynb\n",
       "  PythonRef_PyQt_and_Pyside_compatibility-checkpoint.ipynb\n",
       "  PythonRef_static_methods-checkpoint.ipynb\n",
       "  PythonRef_Types_Bool-checkpoint.ipynb\n",
       "  Python_Ref_Decorators-checkpoint.ipynb\n",
       "  Python_Ref_Lists_&_Tuples-checkpoint.ipynb\n",
       "  Strings and Regular Expressions-checkpoint.ipynb\n",
       "  XlsxWriter and Pandas-checkpoint.ipynb"
      ]
     },
     "execution_count": 2,
     "metadata": {},
     "output_type": "execute_result"
    }
   ],
   "source": [
    "from IPython.display import FileLink, FileLinks\n",
    "FileLinks(\".\", included_suffixes=[\".ipynb\"])"
   ]
  },
  {
   "cell_type": "markdown",
   "metadata": {},
   "source": [
    "<a id = \"markdown\"></a> \n",
    "---\n",
    "# Markdown\n",
    "- [Mark Down](http://daringfireball.net/projects/markdown/syntax)   \n",
    "- [Markdown cheatsheet](https://github.com/adam-p/markdown-here/wiki/Markdown-Cheatsheet)\n",
    "- [PHP Markdown Extra](https://michelf.ca/projects/php-markdown/extra/#fn-output)\n",
    "- [Rich Display system](http://nbviewer.ipython.org/github/ipython/ipython/blob/1.x/examples/notebooks/Part%205%20-%20Rich%20Display%20System.ipynb)\n"
   ]
  },
  {
   "cell_type": "markdown",
   "metadata": {},
   "source": [
    "---\n",
    "\n",
    "## Here is how to change the color of fonts\n",
    "\n",
    "$\\rightarrow$  Check this out you can white out text\n",
    "\n",
    "$\\rightarrow$\n",
    "\n",
    "- `<font color = #FFFFFF>You can change the color of the fonts. Check the .pynb file and could cick on this cell for the secret message</font>`      \n",
    "\n",
    "- <font color = #FFFFFF>SEE this is all whited out out. That is if you have not changed your css default file like I have.</font>  \n",
    "\n",
    "- <font color = #20dfdf>HEY this is a kind of electric blue color. Try highlighing the bullet point above to reveal the secret message.</font>"
   ]
  },
  {
   "cell_type": "markdown",
   "metadata": {},
   "source": [
    "---\n",
    "<a id = 'latex'></a>\n",
    "# LaTeX in ipython\n",
    "\n",
    "- This is how to write stuff in latex.\n",
    "- Here how this looks `$x_{0}^2+y_{0}^2=z_{0}^2$` ;\n",
    "\n",
    "$x_{0}^2+y_{0}^2=z_{0}^2$\n",
    "\n",
    "- You can center that by adding an extra set of dollar signs;\n",
    "\n",
    "$$x_{0}^2+y_{0}^2=z_{0}^2$$\n",
    "\n",
    "\n",
    "\n",
    "## Greek symbols \n",
    "These can be found at ['The Macdonald Polynomial Web Page'](http://garsia.math.yorku.ca/MPWP/LATEXmath/node2.html)\n",
    "- `$\\alpha$` $\\alpha$\n",
    "- `$\\varepsilon$` $\\varepsilon$\n",
    "- `$\\Phi$` $\\Phi$\n",
    "- `$\\Sigma$` $\\Sigma$\n",
    "- `$\\Delta$` $\\Delta$\n",
    "\n",
    "<a id = 'arrowsymbols'></a>\n",
    "## Arrow Symbols\n",
    "I found these on the ['The Macdonald Polynomial Web Page'](http://garsia.math.yorku.ca/MPWP/LATEXmath/node9.html).\n",
    "- `$\\leftarrow$` $\\leftarrow$\n",
    "- `$\\longleftarrow$` $\\longleftarrow$\n",
    "- `$\\uparrow$` $\\uparrow$\n",
    "- `$\\Leftarrow$` $\\Leftarrow$\n",
    "- `$\\Longleftarrow$` $\\Longleftarrow$\n",
    "- `$\\leftrightarrow$` $\\leftrightarrow$\n",
    "- `$\\Updownarrow$` $\\Updownarrow$\n",
    "- `$\\mapsto$` $\\mapsto$\n",
    "- `$\\hookleftarrow$` $\\hookleftarrow$\n",
    "- `$\\leftharpoondown$` $\\leftharpoondown$\n",
    "- `$\\swarrow$` $\\swarrow$\n",
    "- `$\\leftrightharpoon$` $\\leftrightharpoons$\n",
    "\n",
    "<a id = 'miscmarkdown'></a>\n",
    "## Misc. Markdown\n",
    "I found these on the ['The Macdonald Polynomial Web Page'](http://garsia.math.yorku.ca/MPWP/LATEXmath/node8.html).\n",
    "\n",
    "- `$\\because$` $\\because$\n",
    "- `$\\therefore$` $\\therefore$\n",
    "- `$\\thicksim$` $\\thicksim$\n",
    "- `$\\thickapprox$` $\\thickapprox$\n",
    "- `$\\partial$` $\\partial$\n",
    "- `$\\ell$` $\\ell$\n",
    "- `$\\prime$` $\\prime$\n",
    "- `$\\infty$` $\\infty$\n",
    "- `$\\triangle$` $\\triangle$\n",
    "- `$\\wp$` $\\wp$\n",
    "\n",
    "## Math mode accents\n",
    "- `$\\hat{a}$` $\\hat{a}$\n",
    "- `$\\acute{a}$` $\\acute{a}$\n",
    "- `$\\bar{bar}$` $\\bar{a}$\n",
    "- `$\\dot{a}$` $\\dot{a}$\n",
    "- `$\\breve{a}$` $\\breve{a}$\n",
    "- `$\\vec{a}` $\\vec{a}$\n",
    "- `$\\tilde{a}$` $\\tilde{a}$\n",
    "\n",
    "## LaTeX math constructs\n",
    "- `$\\overrightarrow{hello!}$` $\\overrightarrow{hello!}$\n",
    "- `$\\frac{hello!}{there}$` $\\frac{hello!}{there}$\n",
    "- `$\\sqrt[n]{123}$` $\\sqrt[n]{123}$"
   ]
  },
  {
   "cell_type": "markdown",
   "metadata": {},
   "source": [
    "---\n",
    "\n",
    "<a id = 'section2'></a>\n",
    "## Types\n",
    "\n",
    "-[Python built-in types -- Python docs](https://docs.python.org/2/library/stdtypes.html)\n",
    "\n",
    "**int**: integers, positive and negative\n",
    "\n",
    "    1 2 3 -42\n",
    "    \n",
    "**float**: like real numbers but not quite.\n",
    "\n",
    "    1.1 0.01 -3.14 6.022e23\n",
    "    \n",
    "**str**: string, a sequence of characters\n",
    "\n",
    "    \"a string\" 'another string' 'Z'\n",
    "    \n",
    "**list**: a sequence of values of any type\n",
    "\n",
    "    [1, 2] ['hello', 17]\n",
    "    \n",
    "**tuple**: a sequence of values of any type. Like a list but you can't change the values\n",
    "\n",
    "    (1, 2) (1.5, 1, 'abc')\n",
    "    \n",
    "**bool**: a Boolean value, True or False\n",
    "\n",
    "    True False 0 1\n",
    "    \n",
    "**array**: vector, matrix, or higher dimensioned collection of numbers\n",
    "\n",
    "    array([1, 2, 3]) array([0.1, 1.5, 2.3])"
   ]
  },
  {
   "cell_type": "markdown",
   "metadata": {},
   "source": [
    "---\n",
    "\n",
    "<a id = 'lists'></a>\n",
    "# List operations"
   ]
  },
  {
   "cell_type": "code",
   "execution_count": 113,
   "metadata": {
    "collapsed": false
   },
   "outputs": [],
   "source": [
    "L= [\"I\",\"said\",\"hey\",\"there\",\"world\"]"
   ]
  },
  {
   "cell_type": "code",
   "execution_count": 114,
   "metadata": {
    "collapsed": false
   },
   "outputs": [
    {
     "data": {
      "text/plain": [
       "['I', 'said', 'hey', 'there', 'world', 'YO', 'YO', 'YO']"
      ]
     },
     "execution_count": 114,
     "metadata": {},
     "output_type": "execute_result"
    }
   ],
   "source": [
    "L= L.__add__(3*[\"YO\"])\n",
    "L"
   ]
  },
  {
   "cell_type": "code",
   "execution_count": 115,
   "metadata": {
    "collapsed": false
   },
   "outputs": [
    {
     "data": {
      "text/plain": [
       "['I', 'said', 'hey', 'there', 'world', 'YO', 'YO', 'YO', 'see']"
      ]
     },
     "execution_count": 115,
     "metadata": {},
     "output_type": "execute_result"
    }
   ],
   "source": [
    "L.append(\"see\")\n",
    "L"
   ]
  },
  {
   "cell_type": "code",
   "execution_count": 116,
   "metadata": {
    "collapsed": false
   },
   "outputs": [
    {
     "name": "stdout",
     "output_type": "stream",
     "text": [
      "3\n",
      "5\n"
     ]
    }
   ],
   "source": [
    "print L.count(\"YO\")\n",
    "print L.index(\"YO\")#gives the first instance of \"YO\" as int"
   ]
  },
  {
   "cell_type": "code",
   "execution_count": 117,
   "metadata": {
    "collapsed": false
   },
   "outputs": [
    {
     "data": {
      "text/plain": [
       "['I', 'said', 'hey', 'there', 'world', 'YO', 'YO', 'YO']"
      ]
     },
     "execution_count": 117,
     "metadata": {},
     "output_type": "execute_result"
    }
   ],
   "source": [
    "L.pop()#pop removes the last term from the list\n",
    "L"
   ]
  },
  {
   "cell_type": "code",
   "execution_count": 118,
   "metadata": {
    "collapsed": false
   },
   "outputs": [
    {
     "data": {
      "text/plain": [
       "['I', 'said', 'hey', 'there', 'world', 'YO', 'YO', 'YO', 'yes!']"
      ]
     },
     "execution_count": 118,
     "metadata": {},
     "output_type": "execute_result"
    }
   ],
   "source": [
    "L.extend([\"yes!\"])#extend is like __add__ or append\n",
    "L"
   ]
  },
  {
   "cell_type": "code",
   "execution_count": 119,
   "metadata": {
    "collapsed": false
   },
   "outputs": [
    {
     "data": {
      "text/plain": [
       "['I', 'said', 'hey', 'there', 'world', 'YO', 'YO', 'yes!']"
      ]
     },
     "execution_count": 119,
     "metadata": {},
     "output_type": "execute_result"
    }
   ],
   "source": [
    "L.remove(\"YO\")\n",
    "L\n"
   ]
  },
  {
   "cell_type": "code",
   "execution_count": 111,
   "metadata": {
    "collapsed": false
   },
   "outputs": [
    {
     "data": {
      "text/plain": [
       "['yes!', 'world', 'there', 'hey', 'said', 'I']"
      ]
     },
     "execution_count": 111,
     "metadata": {},
     "output_type": "execute_result"
    }
   ],
   "source": [
    "L.reverse()\n",
    "L"
   ]
  },
  {
   "cell_type": "code",
   "execution_count": null,
   "metadata": {
    "collapsed": false
   },
   "outputs": [],
   "source": [
    "L.sort()\n",
    "L.remove(\"YO\")\n",
    "L"
   ]
  },
  {
   "cell_type": "markdown",
   "metadata": {},
   "source": [
    "- ###A really quick way to remove repeats from a list is to just make that list a [set](#sets)"
   ]
  },
  {
   "cell_type": "code",
   "execution_count": 162,
   "metadata": {
    "collapsed": false
   },
   "outputs": [
    {
     "data": {
      "text/plain": [
       "{'g', 'p', 'r', 'y'}"
      ]
     },
     "execution_count": 162,
     "metadata": {},
     "output_type": "execute_result"
    }
   ],
   "source": [
    "K = [\"p\",\"p\",\"p\",\"p\",\"r\",\"g\",\"y\"]\n",
    "K = set(K)\n",
    "K"
   ]
  },
  {
   "cell_type": "markdown",
   "metadata": {},
   "source": [
    "---\n",
    "\n",
    "<a id=\"bools\"></a>\n",
    "# Bools\n",
    "\n",
    "- ###AND & OR"
   ]
  },
  {
   "cell_type": "code",
   "execution_count": 13,
   "metadata": {
    "collapsed": false
   },
   "outputs": [
    {
     "data": {
      "text/plain": [
       "True"
      ]
     },
     "execution_count": 13,
     "metadata": {},
     "output_type": "execute_result"
    }
   ],
   "source": [
    "#ORing is the same as adding in boolean algebra\n",
    "False or True"
   ]
  },
  {
   "cell_type": "code",
   "execution_count": 14,
   "metadata": {
    "collapsed": false
   },
   "outputs": [
    {
     "data": {
      "text/plain": [
       "True"
      ]
     },
     "execution_count": 14,
     "metadata": {},
     "output_type": "execute_result"
    }
   ],
   "source": [
    "bool(False + True)#see....\n",
    "#think about it if True is 1 and False is 0 then 1+0=1"
   ]
  },
  {
   "cell_type": "code",
   "execution_count": 15,
   "metadata": {
    "collapsed": false
   },
   "outputs": [
    {
     "data": {
      "text/plain": [
       "False"
      ]
     },
     "execution_count": 15,
     "metadata": {},
     "output_type": "execute_result"
    }
   ],
   "source": [
    "#ANDing is the same thing as multiplying in boolean algebra\n",
    "False and True"
   ]
  },
  {
   "cell_type": "code",
   "execution_count": 16,
   "metadata": {
    "collapsed": false
   },
   "outputs": [
    {
     "data": {
      "text/plain": [
       "False"
      ]
     },
     "execution_count": 16,
     "metadata": {},
     "output_type": "execute_result"
    }
   ],
   "source": [
    "bool(True * False)#do you get it now?"
   ]
  },
  {
   "cell_type": "code",
   "execution_count": 17,
   "metadata": {
    "collapsed": false
   },
   "outputs": [
    {
     "data": {
      "text/plain": [
       "1"
      ]
     },
     "execution_count": 17,
     "metadata": {},
     "output_type": "execute_result"
    }
   ],
   "source": [
    "True * True * False + True"
   ]
  },
  {
   "cell_type": "code",
   "execution_count": 19,
   "metadata": {
    "collapsed": false
   },
   "outputs": [
    {
     "name": "stdout",
     "output_type": "stream",
     "text": [
      "one is usually greater than zero\n"
     ]
    }
   ],
   "source": [
    "#anyways this can be worked out to give you a conditional that can have multiple terms\n",
    "if 1>0 or 1<0:\n",
    "    print(\"one is usually greater than zero\")"
   ]
  },
  {
   "cell_type": "markdown",
   "metadata": {},
   "source": [
    "---\n",
    "\n",
    "# Functions\n",
    "\n",
    "In the function descriptions below, I will sometimes refer to variables. I'll initialize them below and I will use a naming rule to help you remember their types. Of course, in Python, the types of variables is **not** determined by their name but using a convention makes code easier to read.\n",
    "\n",
    "* i, j, k will be integer variables\n",
    "* x, y, z will be floats\n",
    "* A, B, C will be one-dimensional arrays of floats\n",
    "* M, N will be two-dimensioanl arrays of floats\n",
    "* s, t will be strings"
   ]
  },
  {
   "cell_type": "code",
   "execution_count": 2,
   "metadata": {
    "collapsed": false
   },
   "outputs": [],
   "source": [
    "%matplotlib inline\n",
    "import numpy as np # we need to import the numpy module before we can use it\n",
    "import pylab # so we can plot\n",
    "\n",
    "i = 1\n",
    "j = 7\n",
    "k = 42\n",
    "\n",
    "x = 1.0\n",
    "y = 3.14\n",
    "z = 0.42\n",
    "\n",
    "A = np.arange(10.0)\n",
    "B = np.arange(14.0, 34, 2)\n",
    "C = np.array([-1.0, 2.0, -3.0, 4, -5, 6, -7, 8, -9.1, 10])\n",
    "\n",
    "M = np.array([[1, 2], [3, 4], [5, 6]]) # 3 rows of 2 columns\n",
    "N = np.ones((3, 2)) # also 3 by 2\n",
    "\n",
    "\n",
    "s = 'Hello world!'\n",
    "t = 'z'"
   ]
  },
  {
   "cell_type": "markdown",
   "metadata": {},
   "source": [
    "---\n",
    "<a id='numpy'></a>\n",
    "# Numpy and Scipy\n",
    "## A halfassed investigation\n",
    "- [Scipy for the matlab user](http://wiki.scipy.org/NumPy_for_Matlab_Users)"
   ]
  },
  {
   "cell_type": "markdown",
   "metadata": {},
   "source": [
    "---\n",
    "\n",
    "<a id = \"arrays\"></a>\n",
    "\n",
    "# ARRAYS!\n",
    "- _\"START,STOP,STEP...\"_\n",
    "\n",
    "## Creating arrays\n",
    " \n",
    "`np.arange(10.0)` will return an array of 10 floats counting from 0 to 9 inclusive."
   ]
  },
  {
   "cell_type": "code",
   "execution_count": 3,
   "metadata": {
    "collapsed": false
   },
   "outputs": [
    {
     "data": {
      "text/plain": [
       "array([ 0.,  1.,  2.,  3.,  4.,  5.,  6.,  7.,  8.,  9.])"
      ]
     },
     "execution_count": 3,
     "metadata": {},
     "output_type": "execute_result"
    }
   ],
   "source": [
    "np.arange(10.0)"
   ]
  },
  {
   "cell_type": "markdown",
   "metadata": {},
   "source": [
    "`np.arange(7, 21, 3)` returns an array that starts with 7, counts up to but not including 21, and counts by 3's. The pattern to remember with those arguments is <mark>start, stop, step</mark>. Also remember in virtually every case, the end of the range, `stop`, is not included."
   ]
  },
  {
   "cell_type": "code",
   "execution_count": 4,
   "metadata": {
    "collapsed": false
   },
   "outputs": [
    {
     "data": {
      "text/plain": [
       "array([  7.,  10.,  13.,  16.,  19.])"
      ]
     },
     "execution_count": 4,
     "metadata": {},
     "output_type": "execute_result"
    }
   ],
   "source": [
    "np.arange(7.0, 21, 3)"
   ]
  },
  {
   "cell_type": "markdown",
   "metadata": {},
   "source": [
    "`np.arange(7, 21)` is just like above but steps by 1. That is a common pattern. If you omit the step it defaults to 1."
   ]
  },
  {
   "cell_type": "code",
   "execution_count": 5,
   "metadata": {
    "collapsed": false
   },
   "outputs": [
    {
     "data": {
      "text/plain": [
       "array([  7.,   8.,   9.,  10.,  11.,  12.,  13.,  14.,  15.,  16.,  17.,\n",
       "        18.,  19.,  20.])"
      ]
     },
     "execution_count": 5,
     "metadata": {},
     "output_type": "execute_result"
    }
   ],
   "source": [
    "np.arange(7., 21)"
   ]
  },
  {
   "cell_type": "markdown",
   "metadata": {},
   "source": [
    "We can also create arrays from lists. This allows us to enter any numbers we need."
   ]
  },
  {
   "cell_type": "code",
   "execution_count": 6,
   "metadata": {
    "collapsed": false
   },
   "outputs": [
    {
     "data": {
      "text/plain": [
       "array([ 19.1 , -42.5 ,  73.1 ,   0.  ,   3.14])"
      ]
     },
     "execution_count": 6,
     "metadata": {},
     "output_type": "execute_result"
    }
   ],
   "source": [
    "np.array([19.1, -42.5, 73.1, 0.0, 3.14])"
   ]
  },
  {
   "cell_type": "markdown",
   "metadata": {},
   "source": [
    "Two-dimensional arrays are just as easy."
   ]
  },
  {
   "cell_type": "code",
   "execution_count": 7,
   "metadata": {
    "collapsed": false
   },
   "outputs": [
    {
     "data": {
      "text/plain": [
       "array([[ 42,  33],\n",
       "       [-19,   5],\n",
       "       [  0, 101]])"
      ]
     },
     "execution_count": 7,
     "metadata": {},
     "output_type": "execute_result"
    }
   ],
   "source": [
    "np.array([[42, 33], [-19, 5], [0, 101]]) # 3 rows of 2 columms"
   ]
  },
  {
   "cell_type": "markdown",
   "metadata": {},
   "source": [
    "We can create arrays full of zeros or ones."
   ]
  },
  {
   "cell_type": "code",
   "execution_count": 8,
   "metadata": {
    "collapsed": false
   },
   "outputs": [
    {
     "data": {
      "text/plain": [
       "array([[ 0.,  0.,  0.],\n",
       "       [ 0.,  0.,  0.]])"
      ]
     },
     "execution_count": 8,
     "metadata": {},
     "output_type": "execute_result"
    }
   ],
   "source": [
    "np.zeros((2,3)) # 2 rows of 3 columns"
   ]
  },
  {
   "cell_type": "markdown",
   "metadata": {},
   "source": [
    "We can also create arrays that are `like` others. This is often useful for initializing an array to use as a result."
   ]
  },
  {
   "cell_type": "code",
   "execution_count": 9,
   "metadata": {
    "collapsed": false
   },
   "outputs": [
    {
     "name": "stdout",
     "output_type": "stream",
     "text": [
      "[ 0.  0.  0.  0.  0.  0.  0.  0.  0.  0.] [ 1.  1.  1.  1.  1.  1.  1.  1.  1.  1.]\n"
     ]
    }
   ],
   "source": [
    "D = np.zeros_like(C)\n",
    "E = np.ones_like(C)\n",
    "print D, E"
   ]
  },
  {
   "cell_type": "markdown",
   "metadata": {},
   "source": [
    "##Reading arrays\n",
    "\n",
    "We can read an array from a file with one line per row and spaces between numbers. To read data from a .csv (comma separated values) file, add sep=',' to the arguments. We can also read a _comma separated values_ file by specifying `delimiter=\",\"` as the second argument to `np.loadtxt`."
   ]
  },
  {
   "cell_type": "code",
   "execution_count": 10,
   "metadata": {
    "collapsed": false
   },
   "outputs": [],
   "source": [
    "rain = np.loadtxt('A2/depth.txt')"
   ]
  },
  {
   "cell_type": "markdown",
   "metadata": {},
   "source": [
    "You can also give `loadtxt` an optional delimiter character to use. For example, read a CSV (comma separated value) file like this: `foo = np.loadtxt('A5/foo.csv', delimiter=',')`"
   ]
  },
  {
   "cell_type": "markdown",
   "metadata": {},
   "source": [
    "\n",
    "<a id='accessing array elements'></a>\n",
    "##Accessing array elements\n",
    "\n",
    "Let's start by looking at the contents of B."
   ]
  },
  {
   "cell_type": "code",
   "execution_count": 12,
   "metadata": {
    "collapsed": false
   },
   "outputs": [
    {
     "data": {
      "text/plain": [
       "array([ 14.,  16.,  18.,  20.,  22.,  24.,  26.,  28.,  30.,  32.])"
      ]
     },
     "execution_count": 12,
     "metadata": {},
     "output_type": "execute_result"
    }
   ],
   "source": [
    "B"
   ]
  },
  {
   "cell_type": "markdown",
   "metadata": {},
   "source": [
    "The first element in the array has index 0 because we love counting from 0."
   ]
  },
  {
   "cell_type": "code",
   "execution_count": 13,
   "metadata": {
    "collapsed": false
   },
   "outputs": [
    {
     "data": {
      "text/plain": [
       "14.0"
      ]
     },
     "execution_count": 13,
     "metadata": {},
     "output_type": "execute_result"
    }
   ],
   "source": [
    "B[0]"
   ]
  },
  {
   "cell_type": "markdown",
   "metadata": {},
   "source": [
    "We can get the length of an array using the `len` function."
   ]
  },
  {
   "cell_type": "code",
   "execution_count": 14,
   "metadata": {
    "collapsed": false
   },
   "outputs": [
    {
     "data": {
      "text/plain": [
       "10"
      ]
     },
     "execution_count": 14,
     "metadata": {},
     "output_type": "execute_result"
    }
   ],
   "source": [
    "len(B)"
   ]
  },
  {
   "cell_type": "markdown",
   "metadata": {},
   "source": [
    "The last element can be accessed with len(B)-1 or, for convenience, simply -1. If we use a negative index we are telling it to count backward from the end."
   ]
  },
  {
   "cell_type": "code",
   "execution_count": 15,
   "metadata": {
    "collapsed": false
   },
   "outputs": [
    {
     "data": {
      "text/plain": [
       "32.0"
      ]
     },
     "execution_count": 15,
     "metadata": {},
     "output_type": "execute_result"
    }
   ],
   "source": [
    "B[9]  # because B is of length 10"
   ]
  },
  {
   "cell_type": "code",
   "execution_count": 16,
   "metadata": {
    "collapsed": false
   },
   "outputs": [
    {
     "data": {
      "text/plain": [
       "32.0"
      ]
     },
     "execution_count": 16,
     "metadata": {},
     "output_type": "execute_result"
    }
   ],
   "source": [
    "B[-1]  # I don't care about the length, just give me the last one"
   ]
  },
  {
   "cell_type": "markdown",
   "metadata": {},
   "source": [
    "We can also pull out a _slice_ of an array using the notation start\\:end. For example to get the elements with index 3, 4, and 5, we can write B[3:6]. Why 6? Read [Dijkstra's paper](https://www.cs.unc.edu/Courses/comp116-s14/media/EWD831.PDF) again!"
   ]
  },
  {
   "cell_type": "code",
   "execution_count": 17,
   "metadata": {
    "collapsed": false
   },
   "outputs": [
    {
     "data": {
      "text/plain": [
       "array([ 20.,  22.,  24.])"
      ]
     },
     "execution_count": 17,
     "metadata": {},
     "output_type": "execute_result"
    }
   ],
   "source": [
    "B[3:6]"
   ]
  },
  {
   "cell_type": "markdown",
   "metadata": {},
   "source": [
    "We can leave off the second number to get all the elements up to the end. Note we still need the colon to indicate we want a slice."
   ]
  },
  {
   "cell_type": "code",
   "execution_count": 18,
   "metadata": {
    "collapsed": false
   },
   "outputs": [
    {
     "data": {
      "text/plain": [
       "array([ 20.,  22.,  24.,  26.,  28.,  30.,  32.])"
      ]
     },
     "execution_count": 18,
     "metadata": {},
     "output_type": "execute_result"
    }
   ],
   "source": [
    "B[3:]"
   ]
  },
  {
   "cell_type": "markdown",
   "metadata": {},
   "source": [
    "We can also leave off the first number to get all elements from the beginning."
   ]
  },
  {
   "cell_type": "code",
   "execution_count": 19,
   "metadata": {
    "collapsed": false
   },
   "outputs": [
    {
     "data": {
      "text/plain": [
       "array([ 14.,  16.,  18.,  20.,  22.,  24.])"
      ]
     },
     "execution_count": 19,
     "metadata": {},
     "output_type": "execute_result"
    }
   ],
   "source": [
    "B[:6]"
   ]
  },
  {
   "cell_type": "markdown",
   "metadata": {},
   "source": [
    "Following the pattern we learned above, we can also adjust the step size by adding another color and number."
   ]
  },
  {
   "cell_type": "code",
   "execution_count": 20,
   "metadata": {
    "collapsed": false
   },
   "outputs": [
    {
     "data": {
      "text/plain": [
       "array([ 18.,  24.])"
      ]
     },
     "execution_count": 20,
     "metadata": {},
     "output_type": "execute_result"
    }
   ],
   "source": [
    "B[2:8:3] # will get the elements at index 2 and 5 but not 8. "
   ]
  },
  {
   "cell_type": "markdown",
   "metadata": {},
   "source": [
    "For arrays of more than one dimension we can use multiple subscripts separated by commas. First look at the values in the array `M`."
   ]
  },
  {
   "cell_type": "code",
   "execution_count": 21,
   "metadata": {
    "collapsed": false
   },
   "outputs": [
    {
     "data": {
      "text/plain": [
       "array([[1, 2],\n",
       "       [3, 4],\n",
       "       [5, 6]])"
      ]
     },
     "execution_count": 21,
     "metadata": {},
     "output_type": "execute_result"
    }
   ],
   "source": [
    "M"
   ]
  },
  {
   "cell_type": "code",
   "execution_count": 22,
   "metadata": {
    "collapsed": false
   },
   "outputs": [
    {
     "data": {
      "text/plain": [
       "6"
      ]
     },
     "execution_count": 22,
     "metadata": {},
     "output_type": "execute_result"
    }
   ],
   "source": [
    "M[2,1] # row 2, column 1"
   ]
  },
  {
   "cell_type": "markdown",
   "metadata": {},
   "source": [
    "We can get an entire row or column."
   ]
  },
  {
   "cell_type": "code",
   "execution_count": 23,
   "metadata": {
    "collapsed": false
   },
   "outputs": [
    {
     "data": {
      "text/plain": [
       "array([3, 4])"
      ]
     },
     "execution_count": 23,
     "metadata": {},
     "output_type": "execute_result"
    }
   ],
   "source": [
    "M[1,:]"
   ]
  },
  {
   "cell_type": "code",
   "execution_count": 24,
   "metadata": {
    "collapsed": false
   },
   "outputs": [
    {
     "data": {
      "text/plain": [
       "array([2, 4, 6])"
      ]
     },
     "execution_count": 24,
     "metadata": {},
     "output_type": "execute_result"
    }
   ],
   "source": [
    "M[:,1]"
   ]
  },
  {
   "cell_type": "markdown",
   "metadata": {},
   "source": [
    "You can acess whole colmuns very easily by assigning multiple variables at the same time."
   ]
  },
  {
   "cell_type": "code",
   "execution_count": 15,
   "metadata": {
    "collapsed": false
   },
   "outputs": [
    {
     "name": "stdout",
     "output_type": "stream",
     "text": [
      "R=\n",
      "[[ 1.  0.  0.]\n",
      " [ 0.  0.  0.]\n",
      " [ 0.  0.  1.]]\n",
      "\n",
      "A= [ 1.  0.  0.]\n",
      "\n",
      "M= [ 0.  0.  0.]\n",
      "\n",
      "Z= [ 0.  0.  1.]\n"
     ]
    }
   ],
   "source": [
    "import numpy as np\n",
    "R = np.zeros((3,3))\n",
    "R[0,0] = 1\n",
    "R[2,2] = 1\n",
    "print 'R=\\n',R\n",
    "A,M,Z = R\n",
    "print '\\nA=',A\n",
    "print '\\nM=',M\n",
    "print '\\nZ=',Z"
   ]
  },
  {
   "cell_type": "code",
   "execution_count": 9,
   "metadata": {
    "collapsed": false
   },
   "outputs": [
    {
     "data": {
      "text/plain": [
       "array([ 1.,  0.])"
      ]
     },
     "execution_count": 9,
     "metadata": {},
     "output_type": "execute_result"
    }
   ],
   "source": [
    "A.T"
   ]
  },
  {
   "cell_type": "markdown",
   "metadata": {},
   "source": [
    "---\n",
    "\n",
    "<a id='changing array shape'></a>\n",
    "## Changing array shape\n",
    "\n",
    "- We can change the shape of an array using the np.reshape function. (We can also assign to the shape property but that seems more  confusing to beginners so let's focus on using np.reshape)."
   ]
  },
  {
   "cell_type": "code",
   "execution_count": 25,
   "metadata": {
    "collapsed": false
   },
   "outputs": [
    {
     "data": {
      "text/plain": [
       "array([ 0,  1,  2,  3,  4,  5,  6,  7,  8,  9, 10, 11])"
      ]
     },
     "execution_count": 25,
     "metadata": {},
     "output_type": "execute_result"
    }
   ],
   "source": [
    "T = np.arange(12)  # create an array with 12 elements\n",
    "T"
   ]
  },
  {
   "cell_type": "code",
   "execution_count": 26,
   "metadata": {
    "collapsed": false
   },
   "outputs": [
    {
     "data": {
      "text/plain": [
       "(12,)"
      ]
     },
     "execution_count": 26,
     "metadata": {},
     "output_type": "execute_result"
    }
   ],
   "source": [
    "T.shape # look at its shape"
   ]
  },
  {
   "cell_type": "code",
   "execution_count": 27,
   "metadata": {
    "collapsed": false
   },
   "outputs": [
    {
     "data": {
      "text/plain": [
       "array([[ 0,  1,  2,  3,  4,  5],\n",
       "       [ 6,  7,  8,  9, 10, 11]])"
      ]
     },
     "execution_count": 27,
     "metadata": {},
     "output_type": "execute_result"
    }
   ],
   "source": [
    "T2 = np.reshape(T, (2, 6))  # create a new array\n",
    "T2 # has 2 rows of 6 columns"
   ]
  },
  {
   "cell_type": "code",
   "execution_count": 28,
   "metadata": {
    "collapsed": false
   },
   "outputs": [
    {
     "data": {
      "text/plain": [
       "array([[ 0,  1,  2],\n",
       "       [ 3,  4,  5],\n",
       "       [ 6,  7,  8],\n",
       "       [ 9, 10, 11]])"
      ]
     },
     "execution_count": 28,
     "metadata": {},
     "output_type": "execute_result"
    }
   ],
   "source": [
    "T3 = np.reshape(T, (-1, 3)) # let numpy figure out how many rows it should have for 3 columns\n",
    "T3"
   ]
  },
  {
   "cell_type": "code",
   "execution_count": 29,
   "metadata": {
    "collapsed": false
   },
   "outputs": [
    {
     "data": {
      "text/plain": [
       "array([[ 0,  1,  2],\n",
       "       [ 3,  4,  5],\n",
       "       [ 6,  7,  8],\n",
       "       [ 9, 10, 11]])"
      ]
     },
     "execution_count": 29,
     "metadata": {},
     "output_type": "execute_result"
    }
   ],
   "source": [
    "T4 = np.reshape(T, (4, -1)) # let numpy figure out how many columns it should have\n",
    "T4"
   ]
  },
  {
   "cell_type": "markdown",
   "metadata": {},
   "source": [
    "You can also transpose(make the rows the columns) arrays with the .T command."
   ]
  },
  {
   "cell_type": "code",
   "execution_count": 30,
   "metadata": {
    "collapsed": false
   },
   "outputs": [
    {
     "name": "stdout",
     "output_type": "stream",
     "text": [
      "F=\n",
      "[[ 1.  0.  0.]\n",
      " [ 1.  0.  0.]\n",
      " [ 1.  0.  0.]]\n",
      "F.T=\n",
      "[[ 1.  1.  1.]\n",
      " [ 0.  0.  0.]\n",
      " [ 0.  0.  0.]]\n"
     ]
    }
   ],
   "source": [
    "F = np.zeros((3,3))\n",
    "F[:,0] = 1\n",
    "print 'F=\\n',F\n",
    "print 'F.T=\\n',F.T"
   ]
  },
  {
   "cell_type": "markdown",
   "metadata": {},
   "source": [
    "---  \n",
    "\n",
    "<a id='array functions'></a>\n",
    "## Array functions\n",
    "\n",
    "Numpy has a wide variety of functions that we can apply to arrays. Of course we can combine them with the usual arithmetic operators as long as we assure they have compatible shapes (more on this later)."
   ]
  },
  {
   "cell_type": "code",
   "execution_count": 30,
   "metadata": {
    "collapsed": false
   },
   "outputs": [
    {
     "data": {
      "text/plain": [
       "array([ 14.,  17.,  20.,  23.,  26.,  29.,  32.,  35.,  38.,  41.])"
      ]
     },
     "execution_count": 30,
     "metadata": {},
     "output_type": "execute_result"
    }
   ],
   "source": [
    "A+B"
   ]
  },
  {
   "cell_type": "code",
   "execution_count": 31,
   "metadata": {
    "collapsed": false
   },
   "outputs": [
    {
     "data": {
      "text/plain": [
       "array([-14.        ,   9.        ,  -4.        ,   8.        ,\n",
       "        -0.4       ,   9.        ,   2.28571429,  10.5       ,\n",
       "         4.7032967 ,  12.2       ])"
      ]
     },
     "execution_count": 31,
     "metadata": {},
     "output_type": "execute_result"
    }
   ],
   "source": [
    "A+B/C"
   ]
  },
  {
   "cell_type": "markdown",
   "metadata": {},
   "source": [
    "`np.min(A)`, `np.max(B)` will give us the minimum or maximum value in the array."
   ]
  },
  {
   "cell_type": "code",
   "execution_count": 32,
   "metadata": {
    "collapsed": false
   },
   "outputs": [
    {
     "data": {
      "text/plain": [
       "-9.0999999999999996"
      ]
     },
     "execution_count": 32,
     "metadata": {},
     "output_type": "execute_result"
    }
   ],
   "source": [
    "np.min(C)  # notice the result isn't exactly -9.1. That is approximation error. "
   ]
  },
  {
   "cell_type": "code",
   "execution_count": 33,
   "metadata": {
    "collapsed": false
   },
   "outputs": [
    {
     "data": {
      "text/plain": [
       "10.0"
      ]
     },
     "execution_count": 33,
     "metadata": {},
     "output_type": "execute_result"
    }
   ],
   "source": [
    "np.max(C)"
   ]
  },
  {
   "cell_type": "markdown",
   "metadata": {},
   "source": [
    "`np.mean(B)` computes the mean (average) of the values in the array."
   ]
  },
  {
   "cell_type": "code",
   "execution_count": 34,
   "metadata": {
    "collapsed": false
   },
   "outputs": [
    {
     "data": {
      "text/plain": [
       "23.0"
      ]
     },
     "execution_count": 34,
     "metadata": {},
     "output_type": "execute_result"
    }
   ],
   "source": [
    "np.mean(B)"
   ]
  },
  {
   "cell_type": "markdown",
   "metadata": {},
   "source": [
    "`np.std(C)` computes the starndard deviation."
   ]
  },
  {
   "cell_type": "code",
   "execution_count": 35,
   "metadata": {
    "collapsed": false
   },
   "outputs": [
    {
     "data": {
      "text/plain": [
       "9.0719843474291775"
      ]
     },
     "execution_count": 35,
     "metadata": {},
     "output_type": "execute_result"
    }
   ],
   "source": [
    "np.std(C+B)  # I can apply these to the results of expressions as well as variables"
   ]
  },
  {
   "cell_type": "markdown",
   "metadata": {},
   "source": [
    "All of the above can be used with the `axis` argument to operate along that axis only. axis=0 will remove the row dimension because the row index is the first of the indexes. Likewise, axis=1 removes the column dimension because it is second."
   ]
  },
  {
   "cell_type": "code",
   "execution_count": 36,
   "metadata": {
    "collapsed": false
   },
   "outputs": [
    {
     "name": "stdout",
     "output_type": "stream",
     "text": [
      "[1 2] [1 3 5]\n"
     ]
    }
   ],
   "source": [
    "print np.min(M, axis=0), np.min(M, axis=1)"
   ]
  },
  {
   "cell_type": "markdown",
   "metadata": {},
   "source": [
    "We can also compute cumulative sums."
   ]
  },
  {
   "cell_type": "code",
   "execution_count": 37,
   "metadata": {
    "collapsed": false
   },
   "outputs": [
    {
     "data": {
      "text/plain": [
       "array([-1. ,  1. , -2. ,  2. , -3. ,  3. , -4. ,  4. , -5.1,  4.9])"
      ]
     },
     "execution_count": 37,
     "metadata": {},
     "output_type": "execute_result"
    }
   ],
   "source": [
    "np.cumsum(C)"
   ]
  },
  {
   "cell_type": "markdown",
   "metadata": {},
   "source": [
    "And differences."
   ]
  },
  {
   "cell_type": "code",
   "execution_count": 38,
   "metadata": {
    "collapsed": false
   },
   "outputs": [
    {
     "data": {
      "text/plain": [
       "array([  3. ,  -5. ,   7. ,  -9. ,  11. , -13. ,  15. , -17.1,  19.1])"
      ]
     },
     "execution_count": 38,
     "metadata": {},
     "output_type": "execute_result"
    }
   ],
   "source": [
    "np.diff(C)"
   ]
  },
  {
   "cell_type": "markdown",
   "metadata": {},
   "source": [
    "We can count the number of non-zero (typically True) items in an array."
   ]
  },
  {
   "cell_type": "code",
   "execution_count": 39,
   "metadata": {
    "collapsed": false
   },
   "outputs": [
    {
     "data": {
      "text/plain": [
       "5"
      ]
     },
     "execution_count": 39,
     "metadata": {},
     "output_type": "execute_result"
    }
   ],
   "source": [
    "np.count_nonzero(C > 0)"
   ]
  },
  {
   "cell_type": "markdown",
   "metadata": {},
   "source": [
    "We can limit the values in an array using the clip command."
   ]
  },
  {
   "cell_type": "code",
   "execution_count": 40,
   "metadata": {
    "collapsed": false
   },
   "outputs": [
    {
     "data": {
      "text/plain": [
       "array([[-10,  20,  30],\n",
       "       [ 15,  17,  25],\n",
       "       [ 10,  13,  15],\n",
       "       [ 24, 100,  95]])"
      ]
     },
     "execution_count": 40,
     "metadata": {},
     "output_type": "execute_result"
    }
   ],
   "source": [
    "A1=np.array([[-10,20,30],[15,17,25],[10,13,15],[24,100,95]])\n",
    "A1"
   ]
  },
  {
   "cell_type": "code",
   "execution_count": 41,
   "metadata": {
    "collapsed": false
   },
   "outputs": [
    {
     "data": {
      "text/plain": [
       "array([[ 0, 20, 20],\n",
       "       [15, 17, 20],\n",
       "       [10, 13, 15],\n",
       "       [20, 20, 20]])"
      ]
     },
     "execution_count": 41,
     "metadata": {},
     "output_type": "execute_result"
    }
   ],
   "source": [
    "B1=np.clip(A1,0,20)\n",
    "B1"
   ]
  },
  {
   "cell_type": "markdown",
   "metadata": {},
   "source": [
    "We can find `NaN` (Not a Number) values with the np.isnan(A) function which returns a Boolean vector with value True if the number was NaN and False if not."
   ]
  },
  {
   "cell_type": "markdown",
   "metadata": {},
   "source": [
    "`np.interp(x, xp, yp)` Returns the one-dimensional piecewise linear interpolant in the data defined by xp and yp. For example."
   ]
  },
  {
   "cell_type": "code",
   "execution_count": 42,
   "metadata": {
    "collapsed": false
   },
   "outputs": [
    {
     "data": {
      "text/plain": [
       "array([ 200.,  250.])"
      ]
     },
     "execution_count": 42,
     "metadata": {},
     "output_type": "execute_result"
    }
   ],
   "source": [
    "np.interp(np.array([2, 4]), np.array([1, 3, 5]), np.array([100, 300, 200]))"
   ]
  },
  {
   "cell_type": "markdown",
   "metadata": {},
   "source": [
    "<a id=\"indl\"></a>\n",
    "## `np.ind1`"
   ]
  },
  {
   "cell_type": "markdown",
   "metadata": {},
   "source": [
    "`numpy.in1d(ar1, ar2, assume_unique=False, invert=False)[source]`\n",
    "\n",
    "Test whether each element of a 1-D array is also present in a second array.\n",
    "\n",
    "Returns a boolean array the same length as ar1 that is True where an element of ar1 is in ar2 and False otherwise."
   ]
  },
  {
   "cell_type": "code",
   "execution_count": 16,
   "metadata": {
    "collapsed": false
   },
   "outputs": [
    {
     "data": {
      "text/plain": [
       "array([ True, False,  True, False,  True, False, False, False], dtype=bool)"
      ]
     },
     "execution_count": 16,
     "metadata": {},
     "output_type": "execute_result"
    }
   ],
   "source": [
    "import numpy as np\n",
    "test = np.array([0, 1, 2, 5, 0, 3, 3, 5])\n",
    "states = [0, 2]\n",
    "mask = np.in1d(test, states)\n",
    "mask"
   ]
  },
  {
   "cell_type": "markdown",
   "metadata": {},
   "source": [
    "---\n",
    "\n",
    "<a id ='matplotlib'></a>\n",
    "#Formating Matplotlib\n",
    "\n",
    "\n",
    "-[Matplotlib tutorial](http://matplotlib.org/users/pyplot_tutorial.html)"
   ]
  },
  {
   "cell_type": "code",
   "execution_count": 33,
   "metadata": {
    "collapsed": false
   },
   "outputs": [
    {
     "data": {
      "text/plain": [
       "[<matplotlib.lines.Line2D at 0xa1ba2b0>]"
      ]
     },
     "execution_count": 33,
     "metadata": {},
     "output_type": "execute_result"
    },
    {
     "data": {
      "image/png": "[encoded data removed]",
      "text/plain": [
       "<matplotlib.figure.Figure at 0xa029b70>"
      ]
     },
     "metadata": {},
     "output_type": "display_data"
    }
   ],
   "source": [
    "#This function sets the matlibplot back to its defaults.\n",
    "matplotlib.pyplot.rcdefaults()\n",
    "pylab.plot(arange(1,100)**2)"
   ]
  },
  {
   "cell_type": "code",
   "execution_count": 31,
   "metadata": {
    "collapsed": false
   },
   "outputs": [
    {
     "data": {
      "image/png": "[encoded data removed]",
      "text/plain": [
       "<matplotlib.figure.Figure at 0x9bd8a20>"
      ]
     },
     "metadata": {},
     "output_type": "display_data"
    }
   ],
   "source": [
    "import matplotlib.pyplot as plt\n",
    "\n",
    "fig = plt.figure()\n",
    "ax = fig.add_subplot(111)\n",
    "\n",
    "ax.plot(arange(10)**2)\n",
    "ax.set_xlabel('X-axis')\n",
    "ax.set_ylabel('Y-axis')\n",
    "\n",
    "#ax.spines['bottom'].set_color('lightblue')\n",
    "#ax.spines['top'].set_color('lightblue')\n",
    "\n",
    "#Change the color of the X-axis \n",
    "ax.xaxis.label.set_color('lightblue')\n",
    "ax.tick_params(axis='x', colors='lightblue')\n",
    "\n",
    "#Change the color of the Y-axis\n",
    "ax.yaxis.label.set_color('lightblue')\n",
    "ax.tick_params(axis='y', colors='lightblue')\n",
    "\n",
    "plt.show()"
   ]
  },
  {
   "cell_type": "code",
   "execution_count": 24,
   "metadata": {
    "collapsed": false
   },
   "outputs": [
    {
     "data": {
      "image/png": "[encoded data removed]",
      "text/plain": [
       "<matplotlib.figure.Figure at 0xb625d68>"
      ]
     },
     "metadata": {},
     "output_type": "display_data"
    }
   ],
   "source": [
    "import numpy as np\n",
    "import matplotlib.pyplot as plt\n",
    "\n",
    "mu, sigma = 100, 15\n",
    "x = mu + sigma * np.random.randn(10000)\n",
    "\n",
    "# the histogram of the data\n",
    "n, bins, patches = plt.hist(x, 50, normed=1, facecolor='g', alpha=0.75)\n",
    "\n",
    "\n",
    "plt.xlabel('Smarts')\n",
    "plt.ylabel('Probability')\n",
    "plt.title('Histogram of IQ')\n",
    "\n",
    "plt.text(60, .025, r'$\\mu=100,\\ \\sigma=15$')\n",
    "plt.axis([40, 160, 0, 0.03])\n",
    "plt.grid(True)\n",
    "plt.show()"
   ]
  },
  {
   "cell_type": "markdown",
   "metadata": {},
   "source": [
    "---"
   ]
  },
  {
   "cell_type": "markdown",
   "metadata": {},
   "source": [
    "<a id=\"plotting\"></a>\n",
    "##Simple plotting\n",
    "\n",
    "We can plot a graph of x vs y using\n",
    "\n",
    "    plot(x, y)\n",
    "    \n",
    "If y has several columns, we'll get several lines on our graph. "
   ]
  },
  {
   "cell_type": "code",
   "execution_count": 22,
   "metadata": {
    "collapsed": false
   },
   "outputs": [
    {
     "data": {
      "text/plain": [
       "[<matplotlib.lines.Line2D at 0xb795f28>]"
      ]
     },
     "execution_count": 22,
     "metadata": {},
     "output_type": "execute_result"
    },
    {
     "data": {
      "image/png": "[encoded data removed]",
      "text/plain": [
       "<matplotlib.figure.Figure at 0xb33a748>"
      ]
     },
     "metadata": {},
     "output_type": "display_data"
    }
   ],
   "source": [
    "x = np.arange(0.0, 2*np.pi, 0.01)\n",
    "y = 1.1 * np.sin(x)\n",
    "pylab.plot(x, y)"
   ]
  },
  {
   "cell_type": "markdown",
   "metadata": {},
   "source": [
    "We can omit x, and it will use integers for the x axis."
   ]
  },
  {
   "cell_type": "code",
   "execution_count": 2,
   "metadata": {
    "collapsed": false
   },
   "outputs": [
    {
     "data": {
      "text/plain": [
       "[<matplotlib.lines.Line2D at 0xa026320>]"
      ]
     },
     "execution_count": 2,
     "metadata": {},
     "output_type": "execute_result"
    },
    {
     "data": {
      "image/png": "[encoded data removed]",
      "text/plain": [
       "<matplotlib.figure.Figure at 0x9caec18>"
      ]
     },
     "metadata": {},
     "output_type": "display_data"
    }
   ],
   "source": [
    "pylab.plot(y)"
   ]
  },
  {
   "cell_type": "markdown",
   "metadata": {},
   "source": [
    "We can create bar charts."
   ]
  },
  {
   "cell_type": "code",
   "execution_count": 45,
   "metadata": {
    "collapsed": false
   },
   "outputs": [
    {
     "data": {
      "text/plain": [
       "<Container object of 10 artists>"
      ]
     },
     "execution_count": 45,
     "metadata": {},
     "output_type": "execute_result"
    },
    {
     "data": {
      "image/png": "[encoded data removed]",
      "text/plain": [
       "<matplotlib.figure.Figure at 0x289dbd0>"
      ]
     },
     "metadata": {},
     "output_type": "display_data"
    }
   ],
   "source": [
    "pylab.bar(np.arange(len(C)), C)"
   ]
  },
  {
   "cell_type": "markdown",
   "metadata": {},
   "source": [
    "We can plot multiple curves on the same graph. Below the first colum is the blue line and the second column is green."
   ]
  },
  {
   "cell_type": "code",
   "execution_count": 46,
   "metadata": {
    "collapsed": false
   },
   "outputs": [
    {
     "data": {
      "text/plain": [
       "[<matplotlib.lines.Line2D at 0x2db8610>,\n",
       " <matplotlib.lines.Line2D at 0x2db8890>]"
      ]
     },
     "execution_count": 46,
     "metadata": {},
     "output_type": "execute_result"
    },
    {
     "data": {
      "image/png": "[encoded data removed]",
      "text/plain": [
       "<matplotlib.figure.Figure at 0x2ca2150>"
      ]
     },
     "metadata": {},
     "output_type": "display_data"
    }
   ],
   "source": [
    "data = np.random.randn(20, 2) # 20 rows of 2 columns of mrandom numbers\n",
    "pylab.plot(data)"
   ]
  },
  {
   "cell_type": "markdown",
   "metadata": {},
   "source": [
    "---"
   ]
  },
  {
   "cell_type": "markdown",
   "metadata": {},
   "source": [
    "<a id = \"loops\"></a>\n",
    "# Loops"
   ]
  },
  {
   "cell_type": "markdown",
   "metadata": {},
   "source": [
    "Indexes are useful, but lists really shine when you start looping.\n",
    "\n",
    "Loops let you do something for each item in a list. They are kind of like if statements because they have an indented block.\n",
    "\n",
    "They look like this:\n",
    "\n",
    "    `for item in list:\n",
    "        print(item) # Do any action per item in the list`\n",
    "\n",
    "\"for\" and \"in\" are required. \"list\" can be any variable or literal which is like a list. \"item\" is the name you want to give each item of the list in the indented block as you iterate through. We call each step where item has a new value an iteration.\n",
    "\n",
    "Let's see it in action with our list"
   ]
  },
  {
   "cell_type": "code",
   "execution_count": 61,
   "metadata": {
    "collapsed": false
   },
   "outputs": [
    {
     "name": "stdout",
     "output_type": "stream",
     "text": [
      "Eric Idle\n",
      "Albert O'Connor\n",
      "John Cleese\n"
     ]
    }
   ],
   "source": [
    "your_name = \"Albert O'Connor\"\n",
    "awesome_people = [\"Eric Idle\", your_name]\n",
    "awesome_people.append(\"John Cleese\")\n",
    "\n",
    "for person in awesome_people:\n",
    "    print(person)"
   ]
  },
  {
   "cell_type": "markdown",
   "metadata": {},
   "source": [
    "- We can also use loops with the builtin function `range()`"
   ]
  },
  {
   "cell_type": "code",
   "execution_count": 62,
   "metadata": {
    "collapsed": false
   },
   "outputs": [
    {
     "name": "stdout",
     "output_type": "stream",
     "text": [
      "0 squared is 0\n",
      "1 squared is 1\n",
      "2 squared is 4\n",
      "3 squared is 9\n",
      "4 squared is 16\n",
      "5 squared is 25\n",
      "6 squared is 36\n",
      "7 squared is 49\n",
      "8 squared is 64\n",
      "9 squared is 81\n"
     ]
    }
   ],
   "source": [
    "for number in range(0,10):\n",
    "    print(\"{0} squared is {1}\".format(number, number*number))"
   ]
  },
  {
   "cell_type": "markdown",
   "metadata": {},
   "source": [
    "- `enumerate()` can save some time"
   ]
  },
  {
   "cell_type": "code",
   "execution_count": 58,
   "metadata": {
    "collapsed": false
   },
   "outputs": [
    {
     "data": {
      "text/plain": [
       "array([6, 4, 3, 8, 8, 4, 7, 4, 3, 9, 7, 5])"
      ]
     },
     "execution_count": 58,
     "metadata": {},
     "output_type": "execute_result"
    }
   ],
   "source": [
    "L = np.random.randint(3,10,12)\n",
    "for i in enumerate(L):\n",
    "    print i"
   ]
  },
  {
   "cell_type": "code",
   "execution_count": 7,
   "metadata": {
    "collapsed": false
   },
   "outputs": [
    {
     "name": "stdout",
     "output_type": "stream",
     "text": [
      "0 squared is 0\n",
      "1 squared is 1\n",
      "2 squared is 4\n",
      "3 squared is 9\n",
      "4 squared is 16\n",
      "5 squared is 25\n",
      "6 squared is 36\n",
      "7 squared is 49\n",
      "8 squared is 64\n",
      "9 squared is 81\n"
     ]
    }
   ],
   "source": [
    "for number in range(0,10):\n",
    "    print(\"{0} squared is {1}\".format(number, number*number))"
   ]
  },
  {
   "cell_type": "markdown",
   "metadata": {},
   "source": [
    "### [writing a simple factorial](https://www.youtube.com/watch?v=ZyYp1V84Xqc)"
   ]
  },
  {
   "cell_type": "code",
   "execution_count": 1,
   "metadata": {
    "collapsed": false
   },
   "outputs": [
    {
     "name": "stdout",
     "output_type": "stream",
     "text": [
      "enter a non-negative integer to take the factorial of:3\n",
      "1\n",
      "2\n",
      "6\n"
     ]
    }
   ],
   "source": [
    "#writing a simple factorial\n",
    "#this will take the input from the user\n",
    "number = input(\"enter a non-negative integer to take the factorial of:\")\n",
    "product = 1\n",
    "for i in range(number):#so this effectively give this index of the number\n",
    "    product = product *(i+1)\n",
    "    'the for loop will increment through the list'\n",
    "    print product\n",
    "    'prints the product'"
   ]
  },
  {
   "cell_type": "markdown",
   "metadata": {},
   "source": [
    "### [stepping through the for loop](https://www.youtube.com/watch?v=dn9XjHz33O8)"
   ]
  },
  {
   "cell_type": "markdown",
   "metadata": {},
   "source": [
    "### [recursive factorial](https://www.youtube.com/watch?v=o920mj0NbhE)"
   ]
  },
  {
   "cell_type": "code",
   "execution_count": 2,
   "metadata": {
    "collapsed": false
   },
   "outputs": [],
   "source": [
    "#recursive factorial\n",
    "def factorial(number):\n",
    "    if number <=1:\n",
    "        'this is our base case'\n",
    "        return 1\n",
    "    else:\n",
    "        return number*factorial(number-1)\n",
    "        \"here the function is reffering to itself \"\n",
    "        #this is actually kind of amazing"
   ]
  },
  {
   "cell_type": "code",
   "execution_count": 3,
   "metadata": {
    "collapsed": false
   },
   "outputs": [
    {
     "data": {
      "text/plain": [
       "120"
      ]
     },
     "execution_count": 3,
     "metadata": {},
     "output_type": "execute_result"
    }
   ],
   "source": [
    "factorial(5)\n",
    "#see we can run the program and it finds it recursively\n"
   ]
  },
  {
   "cell_type": "markdown",
   "metadata": {},
   "source": [
    "### [fibonacci iterative method](https://www.youtube.com/watch?v=94O_3QCvfqI)"
   ]
  },
  {
   "cell_type": "code",
   "execution_count": 5,
   "metadata": {
    "collapsed": false
   },
   "outputs": [],
   "source": [
    "#fibonacci iterative method\n",
    "def fibbonacci(n):\n",
    "    terms = [0,1]\n",
    "    'the zeroth term is 0 and the first term is one'\n",
    "    i = 2\n",
    "    #we start i at 2 b/c 0 and 1 are delt with\n",
    "    while i<=n:\n",
    "        terms.append(terms[i-1]+terms[i-2])\n",
    "        i = i +1\n",
    "        'must have this step to break out of the loop'\n",
    "    return terms[n]\n",
    "#I should see what the book has to say about all of this\n"
   ]
  },
  {
   "cell_type": "code",
   "execution_count": 7,
   "metadata": {
    "collapsed": false
   },
   "outputs": [
    {
     "name": "stdout",
     "output_type": "stream",
     "text": [
      "0\n",
      "1\n",
      "21\n"
     ]
    }
   ],
   "source": [
    "print fibbonacci(0)\n",
    "#lets just try it at zero\n",
    "print fibbonacci(1)\n",
    "#and 1\n",
    "print fibbonacci(8)"
   ]
  },
  {
   "cell_type": "markdown",
   "metadata": {},
   "source": [
    "### [recursive fibbonacci](https://www.youtube.com/watch?v=urPVT1lymzU)"
   ]
  },
  {
   "cell_type": "code",
   "execution_count": 31,
   "metadata": {
    "collapsed": false
   },
   "outputs": [],
   "source": [
    "#write a recursive fibbonacci function\n",
    "#you really have to think about the base cases in these functions\n",
    "def fibbonacciR(n):\n",
    "    if n == 0:\n",
    "        return 0\n",
    "    elif n==1:\n",
    "        return 1\n",
    "    else:\n",
    "        return (fibbonacciR(n-1) + fibbonacciR(n-2))"
   ]
  },
  {
   "cell_type": "code",
   "execution_count": 33,
   "metadata": {
    "collapsed": false
   },
   "outputs": [
    {
     "name": "stdout",
     "output_type": "stream",
     "text": [
      "0\n",
      "21\n"
     ]
    }
   ],
   "source": [
    "print(fibbonacciR(0))\n",
    "print(fibbonacciR(8))"
   ]
  },
  {
   "cell_type": "markdown",
   "metadata": {},
   "source": [
    "<a id=tightloops></a>\n",
    "## Loops in one line"
   ]
  },
  {
   "cell_type": "code",
   "execution_count": 3,
   "metadata": {
    "collapsed": false
   },
   "outputs": [
    {
     "data": {
      "text/plain": [
       "['02CC', '02FF', '02FC']"
      ]
     },
     "execution_count": 3,
     "metadata": {},
     "output_type": "execute_result"
    }
   ],
   "source": [
    "hex = \"3300033\"\n",
    "rgb = (hex[0:2], hex[2:4], hex[4:6])\n",
    "comp = ['02%X' % (255 - int(a, 16)) for a in rgb]\n",
    "comp"
   ]
  },
  {
   "cell_type": "code",
   "execution_count": 2,
   "metadata": {
    "collapsed": false
   },
   "outputs": [
    {
     "data": {
      "text/plain": [
       "['New', 'way', 'to', 'iterate.']"
      ]
     },
     "execution_count": 2,
     "metadata": {},
     "output_type": "execute_result"
    }
   ],
   "source": [
    "rit = \"New way to iterate.\".split()\n",
    "[\"\" + i for i in rit]"
   ]
  },
  {
   "cell_type": "code",
   "execution_count": 1,
   "metadata": {
    "collapsed": false
   },
   "outputs": [
    {
     "data": {
      "text/plain": [
       "[('New', 0, 0), ('way', 1, 1), ('to', 2, 2), ('iterate.', 3, 3)]"
      ]
     },
     "execution_count": 1,
     "metadata": {},
     "output_type": "execute_result"
    }
   ],
   "source": [
    "rit = \"New way to iterate.\".split()\n",
    "X = [\"\" + i for i in rit]\n",
    "tupz = [(rit[i], i, i) for i in range(len(rit))]\n",
    "tupz"
   ]
  },
  {
   "cell_type": "code",
   "execution_count": 2,
   "metadata": {
    "collapsed": false
   },
   "outputs": [
    {
     "data": {
      "text/html": [
       "<div style=\"max-height:1000px;max-width:1500px;overflow:auto;\">\n",
       "<table border=\"1\" class=\"dataframe\">\n",
       "  <thead>\n",
       "    <tr style=\"text-align: right;\">\n",
       "      <th></th>\n",
       "      <th>0</th>\n",
       "      <th>1</th>\n",
       "      <th>2</th>\n",
       "    </tr>\n",
       "  </thead>\n",
       "  <tbody>\n",
       "    <tr>\n",
       "      <th>0</th>\n",
       "      <td>      New</td>\n",
       "      <td> 0</td>\n",
       "      <td> 0</td>\n",
       "    </tr>\n",
       "    <tr>\n",
       "      <th>1</th>\n",
       "      <td>      way</td>\n",
       "      <td> 1</td>\n",
       "      <td> 1</td>\n",
       "    </tr>\n",
       "    <tr>\n",
       "      <th>2</th>\n",
       "      <td>       to</td>\n",
       "      <td> 2</td>\n",
       "      <td> 2</td>\n",
       "    </tr>\n",
       "    <tr>\n",
       "      <th>3</th>\n",
       "      <td> iterate.</td>\n",
       "      <td> 3</td>\n",
       "      <td> 3</td>\n",
       "    </tr>\n",
       "  </tbody>\n",
       "</table>\n",
       "</div>"
      ],
      "text/plain": [
       "          0  1  2\n",
       "0       New  0  0\n",
       "1       way  1  1\n",
       "2        to  2  2\n",
       "3  iterate.  3  3"
      ]
     },
     "execution_count": 2,
     "metadata": {},
     "output_type": "execute_result"
    }
   ],
   "source": [
    "from pandas import DataFrame as df\n",
    "df(tupz)"
   ]
  },
  {
   "cell_type": "code",
   "execution_count": 5,
   "metadata": {
    "collapsed": false
   },
   "outputs": [
    {
     "name": "stdout",
     "output_type": "stream",
     "text": [
      "Old\n",
      "way\n",
      "to\n",
      "iterate.\n"
     ]
    }
   ],
   "source": [
    "rit = \"Old way to iterate.\".split()\n",
    "for i in rit:\n",
    "    print \"\" + i"
   ]
  },
  {
   "cell_type": "code",
   "execution_count": 6,
   "metadata": {
    "collapsed": false
   },
   "outputs": [
    {
     "data": {
      "text/plain": [
       "{'You',\n",
       " 'can',\n",
       " 'change',\n",
       " 'data',\n",
       " 'interate',\n",
       " 'that',\n",
       " 'the',\n",
       " 'through',\n",
       " 'types',\n",
       " 'you'}"
      ]
     },
     "execution_count": 6,
     "metadata": {},
     "output_type": "execute_result"
    }
   ],
   "source": [
    "rit = \"You can change the data types that you interate through\".split()\n",
    "{\"\"+ i for i in rit}"
   ]
  },
  {
   "cell_type": "code",
   "execution_count": 1,
   "metadata": {
    "collapsed": false
   },
   "outputs": [
    {
     "data": {
      "text/plain": [
       "['08', '09', '07', '07', '08', '04', '02', '04', '05', '06', '02']"
      ]
     },
     "execution_count": 1,
     "metadata": {},
     "output_type": "execute_result"
    }
   ],
   "source": [
    "nipsy = \"89778424562\"\n",
    "[\"0%X\"%int(a) for a in nipsy]"
   ]
  },
  {
   "cell_type": "code",
   "execution_count": 9,
   "metadata": {
    "collapsed": false
   },
   "outputs": [
    {
     "name": "stdout",
     "output_type": "stream",
     "text": [
      "2\n",
      "3\n",
      "4\n",
      "5\n",
      "6\n"
     ]
    }
   ],
   "source": [
    "def funzo(input):\n",
    "    [print(i+2) for i in arange(input)]\n",
    "funzo(5)"
   ]
  },
  {
   "cell_type": "markdown",
   "metadata": {},
   "source": [
    "---\n",
    "\n",
    "<a id=\"dicts\"></a>\n",
    "# Dicts\n"
   ]
  },
  {
   "cell_type": "code",
   "execution_count": 112,
   "metadata": {
    "collapsed": false
   },
   "outputs": [],
   "source": [
    "#dir({})\n",
    "d={}\n",
    "d[\"the answer\"] = 42"
   ]
  },
  {
   "cell_type": "code",
   "execution_count": 18,
   "metadata": {
    "collapsed": false
   },
   "outputs": [
    {
     "name": "stdout",
     "output_type": "stream",
     "text": [
      "[42]\n",
      "['the answer']\n"
     ]
    }
   ],
   "source": [
    "print d.values()\n",
    "print d.keys()"
   ]
  },
  {
   "cell_type": "code",
   "execution_count": 100,
   "metadata": {
    "collapsed": false
   },
   "outputs": [
    {
     "data": {
      "text/plain": [
       "{'a': 10, 'b': 10, 'c': 10, 'd': 10, 'e': 10}"
      ]
     },
     "execution_count": 100,
     "metadata": {},
     "output_type": "execute_result"
    }
   ],
   "source": [
    "D = {}\n",
    "for i in \"abcde\":\n",
    "    D[i] = 10\n",
    "D"
   ]
  },
  {
   "cell_type": "code",
   "execution_count": 101,
   "metadata": {
    "collapsed": false
   },
   "outputs": [],
   "source": [
    "#d = D\n",
    "#d.clear()#clears the dict\n",
    "#d"
   ]
  },
  {
   "cell_type": "code",
   "execution_count": 102,
   "metadata": {
    "collapsed": false
   },
   "outputs": [
    {
     "data": {
      "text/plain": [
       "{'b': 10, 'c': 10, 'd': 10, 'e': 10}"
      ]
     },
     "execution_count": 102,
     "metadata": {},
     "output_type": "execute_result"
    }
   ],
   "source": [
    "D.pop(\"a\")#pop drops the key \n",
    "D"
   ]
  },
  {
   "cell_type": "code",
   "execution_count": 103,
   "metadata": {
    "collapsed": false
   },
   "outputs": [
    {
     "data": {
      "text/plain": [
       "False"
      ]
     },
     "execution_count": 103,
     "metadata": {},
     "output_type": "execute_result"
    }
   ],
   "source": [
    "D.has_key(\"a\")"
   ]
  },
  {
   "cell_type": "code",
   "execution_count": 109,
   "metadata": {
    "collapsed": false
   },
   "outputs": [
    {
     "name": "stdout",
     "output_type": "stream",
     "text": [
      "We still have 'b' though\n",
      "AND we can use has_key as a conditional.\n"
     ]
    }
   ],
   "source": [
    "if D.has_key(\"b\"):\n",
    "    print \"We still have 'b' though\\nAND we can use has_key as a conditional.\""
   ]
  },
  {
   "cell_type": "code",
   "execution_count": 123,
   "metadata": {
    "collapsed": false
   },
   "outputs": [],
   "source": [
    "#dir({})"
   ]
  },
  {
   "cell_type": "code",
   "execution_count": 111,
   "metadata": {
    "collapsed": false
   },
   "outputs": [
    {
     "name": "stdout",
     "output_type": "stream",
     "text": [
      "('c', 10)\n",
      "('b', 10)\n",
      "('e', 10)\n",
      "('d', 10)\n"
     ]
    }
   ],
   "source": [
    "#we can use iteritems to iterate through the items\n",
    "for i in D.iteritems():\n",
    "    print i\n",
    "    "
   ]
  },
  {
   "cell_type": "code",
   "execution_count": 120,
   "metadata": {
    "collapsed": false
   },
   "outputs": [
    {
     "name": "stdout",
     "output_type": "stream",
     "text": [
      "2\n",
      "10\n",
      "10\n",
      "10\n",
      "10\n"
     ]
    }
   ],
   "source": [
    "for i in D.itervalues():\n",
    "    print i"
   ]
  },
  {
   "cell_type": "code",
   "execution_count": 116,
   "metadata": {
    "collapsed": false
   },
   "outputs": [
    {
     "data": {
      "text/plain": [
       "{'a': 2, 'b': 10, 'c': 10, 'd': 10, 'e': 10}"
      ]
     },
     "execution_count": 116,
     "metadata": {},
     "output_type": "execute_result"
    }
   ],
   "source": [
    "D.update({\"a\":2})\n",
    "D"
   ]
  },
  {
   "cell_type": "code",
   "execution_count": 122,
   "metadata": {
    "collapsed": false
   },
   "outputs": [
    {
     "data": {
      "text/plain": [
       "dict_keys(['a', 'c', 'b', 'e', 'd'])"
      ]
     },
     "execution_count": 122,
     "metadata": {},
     "output_type": "execute_result"
    }
   ],
   "source": [
    "D.viewkeys()"
   ]
  },
  {
   "cell_type": "markdown",
   "metadata": {},
   "source": [
    "---\n",
    "\n",
    "<a id=\"sets\"></a>\n",
    "# Sets"
   ]
  },
  {
   "cell_type": "code",
   "execution_count": 124,
   "metadata": {
    "collapsed": false
   },
   "outputs": [
    {
     "data": {
      "text/plain": [
       "{'hello', 'there'}"
      ]
     },
     "execution_count": 124,
     "metadata": {},
     "output_type": "execute_result"
    }
   ],
   "source": [
    "s = set()#create a new set\n",
    "s.add('hello')#here we add an element\n",
    "s.add('there')\n",
    "# print the set\n",
    "s"
   ]
  },
  {
   "cell_type": "code",
   "execution_count": 125,
   "metadata": {
    "collapsed": false
   },
   "outputs": [
    {
     "data": {
      "text/plain": [
       "{'hello', 'world'}"
      ]
     },
     "execution_count": 125,
     "metadata": {},
     "output_type": "execute_result"
    }
   ],
   "source": [
    "# we can also compute set unions and intersections\n",
    "s2 = set(['hello', 'world'])\n",
    "s2"
   ]
  },
  {
   "cell_type": "code",
   "execution_count": 126,
   "metadata": {
    "collapsed": false
   },
   "outputs": [
    {
     "name": "stdout",
     "output_type": "stream",
     "text": [
      "set(['world', 'there', 'hello'])\n"
     ]
    }
   ],
   "source": [
    "#print 'union s with s2', s | s2\n",
    "print s|s2"
   ]
  },
  {
   "cell_type": "code",
   "execution_count": 127,
   "metadata": {
    "collapsed": false
   },
   "outputs": [
    {
     "name": "stdout",
     "output_type": "stream",
     "text": [
      "set(['hello'])\n"
     ]
    }
   ],
   "source": [
    "print s&s2#we can also get the intersection of two sets by using the and symbol "
   ]
  },
  {
   "cell_type": "code",
   "execution_count": 128,
   "metadata": {
    "collapsed": false
   },
   "outputs": [
    {
     "name": "stdout",
     "output_type": "stream",
     "text": [
      "set(['o'])\n",
      "set([])\n"
     ]
    }
   ],
   "source": [
    "print set(\"yo\")&set(\"no\")\n",
    "print set([\"yo\"])&set(\"no\")#however one must be careful to type bractets around any strings"
   ]
  },
  {
   "cell_type": "markdown",
   "metadata": {},
   "source": [
    "---\n",
    "\n",
    "<a id = \"input\"></a>\n",
    "# Get some user input"
   ]
  },
  {
   "cell_type": "code",
   "execution_count": 30,
   "metadata": {
    "collapsed": false
   },
   "outputs": [],
   "source": [
    "def getInput():\n",
    "    return raw_input()"
   ]
  },
  {
   "cell_type": "code",
   "execution_count": 31,
   "metadata": {
    "collapsed": false
   },
   "outputs": [
    {
     "name": "stdout",
     "output_type": "stream",
     "text": [
      "YO\n"
     ]
    },
    {
     "data": {
      "text/plain": [
       "'YO'"
      ]
     },
     "execution_count": 31,
     "metadata": {},
     "output_type": "execute_result"
    }
   ],
   "source": [
    "getInput()"
   ]
  },
  {
   "cell_type": "markdown",
   "metadata": {},
   "source": [
    "---\n",
    "\n",
    "<a id = \"blocks\"></a>\n",
    "# ipythonblocks"
   ]
  },
  {
   "cell_type": "code",
   "execution_count": 1,
   "metadata": {
    "collapsed": false
   },
   "outputs": [
    {
     "data": {
      "text/html": [
       "<style type=\"text/css\">table.blockgrid {border: none;} .blockgrid tr {border: none;} .blockgrid td {padding: 0px;} #blocksdd5a9911-8eb5-4eef-843b-504af3f12163 td {border: 1px solid white;}</style><table id=\"blocksdd5a9911-8eb5-4eef-843b-504af3f12163\" class=\"blockgrid\"><tbody><tr><td title=\"Index: [0, 0]&#10;Color: (123, 230, 123)\" style=\"width: 20px; height: 20px;background-color: rgb(123, 230, 123);\"></td><td title=\"Index: [0, 1]&#10;Color: (123, 230, 123)\" style=\"width: 20px; height: 20px;background-color: rgb(123, 230, 123);\"></td><td title=\"Index: [0, 2]&#10;Color: (123, 230, 123)\" style=\"width: 20px; height: 20px;background-color: rgb(123, 230, 123);\"></td><td title=\"Index: [0, 3]&#10;Color: (123, 230, 123)\" style=\"width: 20px; height: 20px;background-color: rgb(123, 230, 123);\"></td><td title=\"Index: [0, 4]&#10;Color: (123, 230, 123)\" style=\"width: 20px; height: 20px;background-color: rgb(123, 230, 123);\"></td></tr><tr><td title=\"Index: [1, 0]&#10;Color: (123, 230, 123)\" style=\"width: 20px; height: 20px;background-color: rgb(123, 230, 123);\"></td><td title=\"Index: [1, 1]&#10;Color: (123, 230, 123)\" style=\"width: 20px; height: 20px;background-color: rgb(123, 230, 123);\"></td><td title=\"Index: [1, 2]&#10;Color: (123, 230, 123)\" style=\"width: 20px; height: 20px;background-color: rgb(123, 230, 123);\"></td><td title=\"Index: [1, 3]&#10;Color: (123, 230, 123)\" style=\"width: 20px; height: 20px;background-color: rgb(123, 230, 123);\"></td><td title=\"Index: [1, 4]&#10;Color: (123, 230, 123)\" style=\"width: 20px; height: 20px;background-color: rgb(123, 230, 123);\"></td></tr><tr><td title=\"Index: [2, 0]&#10;Color: (123, 230, 123)\" style=\"width: 20px; height: 20px;background-color: rgb(123, 230, 123);\"></td><td title=\"Index: [2, 1]&#10;Color: (123, 230, 123)\" style=\"width: 20px; height: 20px;background-color: rgb(123, 230, 123);\"></td><td title=\"Index: [2, 2]&#10;Color: (123, 230, 123)\" style=\"width: 20px; height: 20px;background-color: rgb(123, 230, 123);\"></td><td title=\"Index: [2, 3]&#10;Color: (123, 230, 123)\" style=\"width: 20px; height: 20px;background-color: rgb(123, 230, 123);\"></td><td title=\"Index: [2, 4]&#10;Color: (123, 230, 123)\" style=\"width: 20px; height: 20px;background-color: rgb(123, 230, 123);\"></td></tr><tr><td title=\"Index: [3, 0]&#10;Color: (123, 230, 123)\" style=\"width: 20px; height: 20px;background-color: rgb(123, 230, 123);\"></td><td title=\"Index: [3, 1]&#10;Color: (123, 230, 123)\" style=\"width: 20px; height: 20px;background-color: rgb(123, 230, 123);\"></td><td title=\"Index: [3, 2]&#10;Color: (123, 230, 123)\" style=\"width: 20px; height: 20px;background-color: rgb(123, 230, 123);\"></td><td title=\"Index: [3, 3]&#10;Color: (123, 230, 123)\" style=\"width: 20px; height: 20px;background-color: rgb(123, 230, 123);\"></td><td title=\"Index: [3, 4]&#10;Color: (123, 230, 123)\" style=\"width: 20px; height: 20px;background-color: rgb(123, 230, 123);\"></td></tr><tr><td title=\"Index: [4, 0]&#10;Color: (123, 230, 123)\" style=\"width: 20px; height: 20px;background-color: rgb(123, 230, 123);\"></td><td title=\"Index: [4, 1]&#10;Color: (123, 230, 123)\" style=\"width: 20px; height: 20px;background-color: rgb(123, 230, 123);\"></td><td title=\"Index: [4, 2]&#10;Color: (123, 230, 123)\" style=\"width: 20px; height: 20px;background-color: rgb(123, 230, 123);\"></td><td title=\"Index: [4, 3]&#10;Color: (123, 230, 123)\" style=\"width: 20px; height: 20px;background-color: rgb(123, 230, 123);\"></td><td title=\"Index: [4, 4]&#10;Color: (123, 230, 123)\" style=\"width: 20px; height: 20px;background-color: rgb(123, 230, 123);\"></td></tr></tbody></table>"
      ],
      "text/plain": [
       "<ipythonblocks.ipythonblocks.BlockGrid at 0x3d32b70>"
      ]
     },
     "execution_count": 1,
     "metadata": {},
     "output_type": "execute_result"
    }
   ],
   "source": [
    "from ipythonblocks import BlockGrid as bg\n",
    "grid =bg(5,5,fill= (123,230,123))#can manipulate the color by using fill\n",
    "grid"
   ]
  },
  {
   "cell_type": "code",
   "execution_count": 2,
   "metadata": {
    "collapsed": false
   },
   "outputs": [
    {
     "data": {
      "text/html": [
       "<style type=\"text/css\">table.blockgrid {border: none;} .blockgrid tr {border: none;} .blockgrid td {padding: 0px;} #blocks632fff9c-b9b7-4797-8e65-5973f131164c td {border: 0px solid white;}</style><table id=\"blocks632fff9c-b9b7-4797-8e65-5973f131164c\" class=\"blockgrid\"><tbody><tr><td title=\"Index: [0, 0]&#10;Color: (123, 230, 123)\" style=\"width: 20px; height: 20px;background-color: rgb(123, 230, 123);\"></td></tr></tbody></table>"
      ],
      "text/plain": [
       "Block(123, 230, 123, size=20)"
      ]
     },
     "execution_count": 2,
     "metadata": {},
     "output_type": "execute_result"
    }
   ],
   "source": [
    "grid[0,0]"
   ]
  },
  {
   "cell_type": "code",
   "execution_count": 40,
   "metadata": {
    "collapsed": false
   },
   "outputs": [
    {
     "data": {
      "text/html": [
       "<style type=\"text/css\">table.blockgrid {border: none;} .blockgrid tr {border: none;} .blockgrid td {padding: 0px;} #blocksd0d0973d-c3cd-49b4-8dd9-4fdace278e68 td {border: 1px solid white;}</style><table id=\"blocksd0d0973d-c3cd-49b4-8dd9-4fdace278e68\" class=\"blockgrid\"><tbody><tr><td title=\"Index: [0, 0]&#10;Color: (0, 0, 0)\" style=\"width: 20px; height: 20px;background-color: rgb(0, 0, 0);\"></td><td title=\"Index: [0, 1]&#10;Color: (123, 230, 123)\" style=\"width: 20px; height: 20px;background-color: rgb(123, 230, 123);\"></td><td title=\"Index: [0, 2]&#10;Color: (123, 230, 123)\" style=\"width: 20px; height: 20px;background-color: rgb(123, 230, 123);\"></td><td title=\"Index: [0, 3]&#10;Color: (0, 0, 0)\" style=\"width: 20px; height: 20px;background-color: rgb(0, 0, 0);\"></td><td title=\"Index: [0, 4]&#10;Color: (123, 230, 123)\" style=\"width: 20px; height: 20px;background-color: rgb(123, 230, 123);\"></td></tr><tr><td title=\"Index: [1, 0]&#10;Color: (123, 230, 123)\" style=\"width: 20px; height: 20px;background-color: rgb(123, 230, 123);\"></td><td title=\"Index: [1, 1]&#10;Color: (123, 230, 123)\" style=\"width: 20px; height: 20px;background-color: rgb(123, 230, 123);\"></td><td title=\"Index: [1, 2]&#10;Color: (123, 230, 123)\" style=\"width: 20px; height: 20px;background-color: rgb(123, 230, 123);\"></td><td title=\"Index: [1, 3]&#10;Color: (123, 230, 123)\" style=\"width: 20px; height: 20px;background-color: rgb(123, 230, 123);\"></td><td title=\"Index: [1, 4]&#10;Color: (123, 230, 123)\" style=\"width: 20px; height: 20px;background-color: rgb(123, 230, 123);\"></td></tr><tr><td title=\"Index: [2, 0]&#10;Color: (0, 0, 0)\" style=\"width: 20px; height: 20px;background-color: rgb(0, 0, 0);\"></td><td title=\"Index: [2, 1]&#10;Color: (123, 230, 123)\" style=\"width: 20px; height: 20px;background-color: rgb(123, 230, 123);\"></td><td title=\"Index: [2, 2]&#10;Color: (123, 230, 123)\" style=\"width: 20px; height: 20px;background-color: rgb(123, 230, 123);\"></td><td title=\"Index: [2, 3]&#10;Color: (0, 0, 0)\" style=\"width: 20px; height: 20px;background-color: rgb(0, 0, 0);\"></td><td title=\"Index: [2, 4]&#10;Color: (123, 230, 123)\" style=\"width: 20px; height: 20px;background-color: rgb(123, 230, 123);\"></td></tr><tr><td title=\"Index: [3, 0]&#10;Color: (123, 230, 123)\" style=\"width: 20px; height: 20px;background-color: rgb(123, 230, 123);\"></td><td title=\"Index: [3, 1]&#10;Color: (123, 230, 123)\" style=\"width: 20px; height: 20px;background-color: rgb(123, 230, 123);\"></td><td title=\"Index: [3, 2]&#10;Color: (123, 230, 123)\" style=\"width: 20px; height: 20px;background-color: rgb(123, 230, 123);\"></td><td title=\"Index: [3, 3]&#10;Color: (123, 230, 123)\" style=\"width: 20px; height: 20px;background-color: rgb(123, 230, 123);\"></td><td title=\"Index: [3, 4]&#10;Color: (123, 230, 123)\" style=\"width: 20px; height: 20px;background-color: rgb(123, 230, 123);\"></td></tr><tr><td title=\"Index: [4, 0]&#10;Color: (0, 0, 0)\" style=\"width: 20px; height: 20px;background-color: rgb(0, 0, 0);\"></td><td title=\"Index: [4, 1]&#10;Color: (123, 230, 123)\" style=\"width: 20px; height: 20px;background-color: rgb(123, 230, 123);\"></td><td title=\"Index: [4, 2]&#10;Color: (123, 230, 123)\" style=\"width: 20px; height: 20px;background-color: rgb(123, 230, 123);\"></td><td title=\"Index: [4, 3]&#10;Color: (0, 0, 0)\" style=\"width: 20px; height: 20px;background-color: rgb(0, 0, 0);\"></td><td title=\"Index: [4, 4]&#10;Color: (123, 230, 123)\" style=\"width: 20px; height: 20px;background-color: rgb(123, 230, 123);\"></td></tr></tbody></table>"
      ],
      "text/plain": [
       "<ipythonblocks.ipythonblocks.BlockGrid at 0x4370978>"
      ]
     },
     "execution_count": 40,
     "metadata": {},
     "output_type": "execute_result"
    }
   ],
   "source": [
    "for block in grid:\n",
    "    if block.row % 2 == 0 and block.col%3==0:\n",
    "        block.red=0\n",
    "        block.blue=0\n",
    "        block.green=0\n",
    "grid"
   ]
  },
  {
   "cell_type": "code",
   "execution_count": 59,
   "metadata": {
    "collapsed": false
   },
   "outputs": [],
   "source": [
    "import webcolors\n",
    "from webcolors import hex_to_rgb as h2rgb"
   ]
  },
  {
   "cell_type": "code",
   "execution_count": 55,
   "metadata": {
    "collapsed": false
   },
   "outputs": [],
   "source": [
    "#dir(webcolors)"
   ]
  },
  {
   "cell_type": "code",
   "execution_count": 60,
   "metadata": {
    "collapsed": false
   },
   "outputs": [
    {
     "data": {
      "text/plain": [
       "(32, 223, 223)"
      ]
     },
     "execution_count": 60,
     "metadata": {},
     "output_type": "execute_result"
    }
   ],
   "source": [
    "h2rgb(\"#20dfdf\")"
   ]
  },
  {
   "cell_type": "code",
   "execution_count": 64,
   "metadata": {
    "collapsed": false
   },
   "outputs": [
    {
     "data": {
      "text/plain": [
       "(143, 85, 54)"
      ]
     },
     "execution_count": 64,
     "metadata": {},
     "output_type": "execute_result"
    }
   ],
   "source": [
    "h2rgb(\"#8f5536\")"
   ]
  },
  {
   "cell_type": "markdown",
   "metadata": {},
   "source": [
    "---\n",
    "\n",
    "<a id = \"pickle\"></a>\n",
    "# Pickling your data\n",
    "- here I want to demonstrate how one can simply store and reload their data"
   ]
  },
  {
   "cell_type": "code",
   "execution_count": 129,
   "metadata": {
    "collapsed": false
   },
   "outputs": [],
   "source": [
    "import pickle\n",
    "\n",
    "favorite_color = { \"lion\": \"yellow\", \"kitty\": \"red\" }\n",
    "pickle.dump(favorite_color, open( \"save.pkl\", \"wb\" ) )"
   ]
  },
  {
   "cell_type": "code",
   "execution_count": 130,
   "metadata": {
    "collapsed": false
   },
   "outputs": [
    {
     "data": {
      "text/plain": [
       "{'kitty': 'red', 'lion': 'yellow'}"
      ]
     },
     "execution_count": 130,
     "metadata": {},
     "output_type": "execute_result"
    }
   ],
   "source": [
    "favcol = pickle.load(open(\"save.pkl\", \"rb\"))\n",
    "favcol"
   ]
  },
  {
   "cell_type": "markdown",
   "metadata": {},
   "source": [
    "---\n",
    "\n",
    "<a id=\"writing\"></a>\n",
    "# Writing data to a file\n",
    "\n",
    "- r Opens a file for reading. This is the default value if mode isn’t specified.\n",
    "- w Opens a file for writing, overwriting an existing file.\n",
    "- a Opens a file for writing in append mode; all write operations are performed at the end. If the file doesn’t exist, it is created.\n",
    "- r+ Opens a file for reading and updating. If the file doesn’t exist, an exception is raised.\n",
    "- w+ Creates a new file for writing and updating, overwriting an existing one.\n",
    "- a+ Opens a file for reading and writing in append mode. All write operations are performed at the end. If the file doesn’t exist, it is created."
   ]
  },
  {
   "cell_type": "markdown",
   "metadata": {},
   "source": [
    "---\n",
    "\n",
    "<a id=\"url\"></a>\n",
    "# Loading data from the Internet"
   ]
  },
  {
   "cell_type": "code",
   "execution_count": 138,
   "metadata": {
    "collapsed": false
   },
   "outputs": [],
   "source": [
    "import urllib"
   ]
  },
  {
   "cell_type": "code",
   "execution_count": 137,
   "metadata": {
    "collapsed": false
   },
   "outputs": [
    {
     "data": {
      "text/plain": [
       "'>AT3G25730.1|Arabidopsis_thaliana|RAV|AT3G25730.1'"
      ]
     },
     "execution_count": 137,
     "metadata": {},
     "output_type": "execute_result"
    }
   ],
   "source": [
    "R = urllib.urlopen(\"http://planttfdb.cbi.pku.edu.cn/download_seq.php?sp=Ath\")\n",
    "R.read().split(\"\\n\")[0]"
   ]
  },
  {
   "cell_type": "markdown",
   "metadata": {},
   "source": [
    "---\n",
    "\n",
    "<a id = \"pandas\"></a>\n",
    "# Pandas\n",
    "- this is a breif primer on how to use pandas for other infor on pandas look to the other files with pandas in the title.\n",
    "- [Pandas -- Python doc ](https://pypi.python.org/pypi/pandas/0.7.3)\n",
    "- [Intro to Pandas notebook](http://nbviewer.ipython.org/gist/fonnesbeck/5850375)\n",
    "\n"
   ]
  },
  {
   "cell_type": "code",
   "execution_count": 142,
   "metadata": {
    "collapsed": false
   },
   "outputs": [],
   "source": [
    "import numpy as np\n",
    "import pandas as pd\n",
    "import mechanize"
   ]
  },
  {
   "cell_type": "code",
   "execution_count": 143,
   "metadata": {
    "collapsed": false
   },
   "outputs": [
    {
     "name": "stdout",
     "output_type": "stream",
     "text": [
      "The file is already in the ALL_ARATH folder.\n"
     ]
    }
   ],
   "source": [
    "path = \"ALL_ARATH/msb201166-s2.xls\"\n",
    "if os.path.exists(path):\n",
    "    print \"The file is already in the ALL_ARATH folder.\"\n",
    "else:\n",
    "    try:\n",
    "        br = mechanize.Browser(factory=mechanize.RobustFactory())\n",
    "        br.set_handle_robots(False)\n",
    "        br.addheaders = [('User-agent', 'Firefox')]\n",
    "        br.retrieve(\"http://www.ncbi.nlm.nih.gov/pmc/articles/PMC3202803/bin/msb201166-s2.xls\",path)[0]\n",
    "        print \"File added\"\n",
    "    except:\n",
    "        print \"Sorry but you will need to use the method below to download the master interactome file.\"\n"
   ]
  },
  {
   "cell_type": "code",
   "execution_count": 145,
   "metadata": {
    "collapsed": false
   },
   "outputs": [],
   "source": [
    "interactome = pd.ExcelFile(\"ALL_ARATH\\msb201166-s2.xls\")\n",
    "inter = interactome.parse(\"All Interactions\")\n",
    "#inter"
   ]
  },
  {
   "cell_type": "markdown",
   "metadata": {},
   "source": [
    "<a id=\"dfs\"></a>\n",
    "### Manipulating dataframes"
   ]
  },
  {
   "cell_type": "code",
   "execution_count": 146,
   "metadata": {
    "collapsed": false
   },
   "outputs": [
    {
     "data": {
      "text/html": [
       "<div style=\"max-height:1000px;max-width:1500px;overflow:auto;\">\n",
       "<table border=\"1\" class=\"dataframe\">\n",
       "  <thead>\n",
       "    <tr style=\"text-align: right;\">\n",
       "      <th></th>\n",
       "      <th>a</th>\n",
       "      <th>b</th>\n",
       "      <th>c</th>\n",
       "      <th>d</th>\n",
       "      <th>e</th>\n",
       "    </tr>\n",
       "  </thead>\n",
       "  <tbody>\n",
       "    <tr>\n",
       "      <th>0</th>\n",
       "      <td> 0.114964</td>\n",
       "      <td> 0.070294</td>\n",
       "      <td> 0.897893</td>\n",
       "      <td> 0.376143</td>\n",
       "      <td> 0.366992</td>\n",
       "    </tr>\n",
       "    <tr>\n",
       "      <th>1</th>\n",
       "      <td> 0.612923</td>\n",
       "      <td> 0.898654</td>\n",
       "      <td> 0.074942</td>\n",
       "      <td> 0.024219</td>\n",
       "      <td> 0.240974</td>\n",
       "    </tr>\n",
       "    <tr>\n",
       "      <th>2</th>\n",
       "      <td> 0.102403</td>\n",
       "      <td> 0.220786</td>\n",
       "      <td> 0.848184</td>\n",
       "      <td> 0.093102</td>\n",
       "      <td> 0.130015</td>\n",
       "    </tr>\n",
       "    <tr>\n",
       "      <th>3</th>\n",
       "      <td> 0.095744</td>\n",
       "      <td> 0.522096</td>\n",
       "      <td> 0.444983</td>\n",
       "      <td> 0.061148</td>\n",
       "      <td> 0.747584</td>\n",
       "    </tr>\n",
       "  </tbody>\n",
       "</table>\n",
       "</div>"
      ],
      "text/plain": [
       "          a         b         c         d         e\n",
       "0  0.114964  0.070294  0.897893  0.376143  0.366992\n",
       "1  0.612923  0.898654  0.074942  0.024219  0.240974\n",
       "2  0.102403  0.220786  0.848184  0.093102  0.130015\n",
       "3  0.095744  0.522096  0.444983  0.061148  0.747584"
      ]
     },
     "execution_count": 146,
     "metadata": {},
     "output_type": "execute_result"
    }
   ],
   "source": [
    "# here is how to make a dataframe of random numbers\n",
    "df = pd.DataFrame(np.random.rand(4,5), columns = list('abcde'))\n",
    "#df.ix[:,'b':]\n",
    "df "
   ]
  },
  {
   "cell_type": "code",
   "execution_count": 147,
   "metadata": {
    "collapsed": false
   },
   "outputs": [
    {
     "data": {
      "text/html": [
       "<div style=\"max-height:1000px;max-width:1500px;overflow:auto;\">\n",
       "<table border=\"1\" class=\"dataframe\">\n",
       "  <thead>\n",
       "    <tr style=\"text-align: right;\">\n",
       "      <th></th>\n",
       "      <th>0</th>\n",
       "      <th>1</th>\n",
       "      <th>2</th>\n",
       "      <th>3</th>\n",
       "      <th>4</th>\n",
       "      <th>mean</th>\n",
       "    </tr>\n",
       "  </thead>\n",
       "  <tbody>\n",
       "    <tr>\n",
       "      <th>0</th>\n",
       "      <td> 0.673857</td>\n",
       "      <td> 0.486491</td>\n",
       "      <td> 0.095341</td>\n",
       "      <td> 0.969702</td>\n",
       "      <td> 0.606079</td>\n",
       "      <td> 0.566294</td>\n",
       "    </tr>\n",
       "    <tr>\n",
       "      <th>1</th>\n",
       "      <td> 0.142393</td>\n",
       "      <td> 0.818200</td>\n",
       "      <td> 0.811911</td>\n",
       "      <td> 0.741636</td>\n",
       "      <td> 0.739120</td>\n",
       "      <td> 0.650652</td>\n",
       "    </tr>\n",
       "    <tr>\n",
       "      <th>2</th>\n",
       "      <td> 0.732082</td>\n",
       "      <td> 0.528871</td>\n",
       "      <td> 0.667710</td>\n",
       "      <td> 0.718694</td>\n",
       "      <td> 0.982376</td>\n",
       "      <td> 0.725947</td>\n",
       "    </tr>\n",
       "    <tr>\n",
       "      <th>3</th>\n",
       "      <td> 0.243188</td>\n",
       "      <td> 0.968778</td>\n",
       "      <td> 0.875107</td>\n",
       "      <td> 0.596253</td>\n",
       "      <td> 0.507893</td>\n",
       "      <td> 0.638244</td>\n",
       "    </tr>\n",
       "    <tr>\n",
       "      <th>4</th>\n",
       "      <td> 0.688845</td>\n",
       "      <td> 0.413349</td>\n",
       "      <td> 0.807936</td>\n",
       "      <td> 0.678651</td>\n",
       "      <td> 0.328136</td>\n",
       "      <td> 0.583384</td>\n",
       "    </tr>\n",
       "    <tr>\n",
       "      <th>5</th>\n",
       "      <td> 0.145051</td>\n",
       "      <td> 0.194280</td>\n",
       "      <td> 0.695920</td>\n",
       "      <td> 0.615227</td>\n",
       "      <td> 0.290453</td>\n",
       "      <td> 0.388186</td>\n",
       "    </tr>\n",
       "    <tr>\n",
       "      <th>6</th>\n",
       "      <td> 0.122538</td>\n",
       "      <td> 0.552865</td>\n",
       "      <td> 0.238154</td>\n",
       "      <td> 0.873221</td>\n",
       "      <td> 0.362436</td>\n",
       "      <td> 0.429843</td>\n",
       "    </tr>\n",
       "    <tr>\n",
       "      <th>7</th>\n",
       "      <td> 0.454810</td>\n",
       "      <td> 0.766246</td>\n",
       "      <td> 0.224121</td>\n",
       "      <td> 0.493584</td>\n",
       "      <td> 0.416837</td>\n",
       "      <td> 0.471120</td>\n",
       "    </tr>\n",
       "    <tr>\n",
       "      <th>8</th>\n",
       "      <td> 0.896857</td>\n",
       "      <td> 0.448190</td>\n",
       "      <td> 0.985159</td>\n",
       "      <td> 0.569679</td>\n",
       "      <td> 0.545488</td>\n",
       "      <td> 0.689075</td>\n",
       "    </tr>\n",
       "    <tr>\n",
       "      <th>9</th>\n",
       "      <td> 0.872328</td>\n",
       "      <td> 0.015707</td>\n",
       "      <td> 0.752156</td>\n",
       "      <td> 0.928003</td>\n",
       "      <td> 0.216253</td>\n",
       "      <td> 0.556889</td>\n",
       "    </tr>\n",
       "  </tbody>\n",
       "</table>\n",
       "</div>"
      ],
      "text/plain": [
       "          0         1         2         3         4      mean\n",
       "0  0.673857  0.486491  0.095341  0.969702  0.606079  0.566294\n",
       "1  0.142393  0.818200  0.811911  0.741636  0.739120  0.650652\n",
       "2  0.732082  0.528871  0.667710  0.718694  0.982376  0.725947\n",
       "3  0.243188  0.968778  0.875107  0.596253  0.507893  0.638244\n",
       "4  0.688845  0.413349  0.807936  0.678651  0.328136  0.583384\n",
       "5  0.145051  0.194280  0.695920  0.615227  0.290453  0.388186\n",
       "6  0.122538  0.552865  0.238154  0.873221  0.362436  0.429843\n",
       "7  0.454810  0.766246  0.224121  0.493584  0.416837  0.471120\n",
       "8  0.896857  0.448190  0.985159  0.569679  0.545488  0.689075\n",
       "9  0.872328  0.015707  0.752156  0.928003  0.216253  0.556889"
      ]
     },
     "execution_count": 147,
     "metadata": {},
     "output_type": "execute_result"
    }
   ],
   "source": [
    "df = pd.DataFrame(np.random.rand(10, 5))#setup a dataframe of random values\n",
    "df['mean'] = df.mean(1)\n",
    "df"
   ]
  },
  {
   "cell_type": "code",
   "execution_count": 148,
   "metadata": {
    "collapsed": false
   },
   "outputs": [
    {
     "data": {
      "text/plain": [
       "[0L, 1L, 2L, 3L, 4L, 'mean']"
      ]
     },
     "execution_count": 148,
     "metadata": {},
     "output_type": "execute_result"
    }
   ],
   "source": [
    "cols = df.columns.tolist()\n",
    "cols"
   ]
  },
  {
   "cell_type": "code",
   "execution_count": 149,
   "metadata": {
    "collapsed": false
   },
   "outputs": [
    {
     "data": {
      "text/plain": [
       "['mean', 0L, 1L, 2L, 3L, 4L]"
      ]
     },
     "execution_count": 149,
     "metadata": {},
     "output_type": "execute_result"
    }
   ],
   "source": [
    "cols = cols[-1:] + cols[:-1]\n",
    "cols"
   ]
  },
  {
   "cell_type": "code",
   "execution_count": 150,
   "metadata": {
    "collapsed": false
   },
   "outputs": [
    {
     "data": {
      "text/html": [
       "<div style=\"max-height:1000px;max-width:1500px;overflow:auto;\">\n",
       "<table border=\"1\" class=\"dataframe\">\n",
       "  <thead>\n",
       "    <tr style=\"text-align: right;\">\n",
       "      <th></th>\n",
       "      <th>mean</th>\n",
       "      <th>0</th>\n",
       "      <th>1</th>\n",
       "      <th>2</th>\n",
       "      <th>3</th>\n",
       "      <th>4</th>\n",
       "    </tr>\n",
       "  </thead>\n",
       "  <tbody>\n",
       "    <tr>\n",
       "      <th>0</th>\n",
       "      <td> 0.566294</td>\n",
       "      <td> 0.673857</td>\n",
       "      <td> 0.486491</td>\n",
       "      <td> 0.095341</td>\n",
       "      <td> 0.969702</td>\n",
       "      <td> 0.606079</td>\n",
       "    </tr>\n",
       "    <tr>\n",
       "      <th>1</th>\n",
       "      <td> 0.650652</td>\n",
       "      <td> 0.142393</td>\n",
       "      <td> 0.818200</td>\n",
       "      <td> 0.811911</td>\n",
       "      <td> 0.741636</td>\n",
       "      <td> 0.739120</td>\n",
       "    </tr>\n",
       "    <tr>\n",
       "      <th>2</th>\n",
       "      <td> 0.725947</td>\n",
       "      <td> 0.732082</td>\n",
       "      <td> 0.528871</td>\n",
       "      <td> 0.667710</td>\n",
       "      <td> 0.718694</td>\n",
       "      <td> 0.982376</td>\n",
       "    </tr>\n",
       "    <tr>\n",
       "      <th>3</th>\n",
       "      <td> 0.638244</td>\n",
       "      <td> 0.243188</td>\n",
       "      <td> 0.968778</td>\n",
       "      <td> 0.875107</td>\n",
       "      <td> 0.596253</td>\n",
       "      <td> 0.507893</td>\n",
       "    </tr>\n",
       "    <tr>\n",
       "      <th>4</th>\n",
       "      <td> 0.583384</td>\n",
       "      <td> 0.688845</td>\n",
       "      <td> 0.413349</td>\n",
       "      <td> 0.807936</td>\n",
       "      <td> 0.678651</td>\n",
       "      <td> 0.328136</td>\n",
       "    </tr>\n",
       "    <tr>\n",
       "      <th>5</th>\n",
       "      <td> 0.388186</td>\n",
       "      <td> 0.145051</td>\n",
       "      <td> 0.194280</td>\n",
       "      <td> 0.695920</td>\n",
       "      <td> 0.615227</td>\n",
       "      <td> 0.290453</td>\n",
       "    </tr>\n",
       "    <tr>\n",
       "      <th>6</th>\n",
       "      <td> 0.429843</td>\n",
       "      <td> 0.122538</td>\n",
       "      <td> 0.552865</td>\n",
       "      <td> 0.238154</td>\n",
       "      <td> 0.873221</td>\n",
       "      <td> 0.362436</td>\n",
       "    </tr>\n",
       "    <tr>\n",
       "      <th>7</th>\n",
       "      <td> 0.471120</td>\n",
       "      <td> 0.454810</td>\n",
       "      <td> 0.766246</td>\n",
       "      <td> 0.224121</td>\n",
       "      <td> 0.493584</td>\n",
       "      <td> 0.416837</td>\n",
       "    </tr>\n",
       "    <tr>\n",
       "      <th>8</th>\n",
       "      <td> 0.689075</td>\n",
       "      <td> 0.896857</td>\n",
       "      <td> 0.448190</td>\n",
       "      <td> 0.985159</td>\n",
       "      <td> 0.569679</td>\n",
       "      <td> 0.545488</td>\n",
       "    </tr>\n",
       "    <tr>\n",
       "      <th>9</th>\n",
       "      <td> 0.556889</td>\n",
       "      <td> 0.872328</td>\n",
       "      <td> 0.015707</td>\n",
       "      <td> 0.752156</td>\n",
       "      <td> 0.928003</td>\n",
       "      <td> 0.216253</td>\n",
       "    </tr>\n",
       "  </tbody>\n",
       "</table>\n",
       "</div>"
      ],
      "text/plain": [
       "       mean         0         1         2         3         4\n",
       "0  0.566294  0.673857  0.486491  0.095341  0.969702  0.606079\n",
       "1  0.650652  0.142393  0.818200  0.811911  0.741636  0.739120\n",
       "2  0.725947  0.732082  0.528871  0.667710  0.718694  0.982376\n",
       "3  0.638244  0.243188  0.968778  0.875107  0.596253  0.507893\n",
       "4  0.583384  0.688845  0.413349  0.807936  0.678651  0.328136\n",
       "5  0.388186  0.145051  0.194280  0.695920  0.615227  0.290453\n",
       "6  0.429843  0.122538  0.552865  0.238154  0.873221  0.362436\n",
       "7  0.471120  0.454810  0.766246  0.224121  0.493584  0.416837\n",
       "8  0.689075  0.896857  0.448190  0.985159  0.569679  0.545488\n",
       "9  0.556889  0.872328  0.015707  0.752156  0.928003  0.216253"
      ]
     },
     "execution_count": 150,
     "metadata": {},
     "output_type": "execute_result"
    }
   ],
   "source": [
    "df[cols]"
   ]
  },
  {
   "cell_type": "code",
   "execution_count": 151,
   "metadata": {
    "collapsed": false
   },
   "outputs": [
    {
     "data": {
      "text/html": [
       "<div style=\"max-height:1000px;max-width:1500px;overflow:auto;\">\n",
       "<table border=\"1\" class=\"dataframe\">\n",
       "  <thead>\n",
       "    <tr style=\"text-align: right;\">\n",
       "      <th></th>\n",
       "      <th>1</th>\n",
       "      <th>mean</th>\n",
       "      <th>2</th>\n",
       "    </tr>\n",
       "  </thead>\n",
       "  <tbody>\n",
       "    <tr>\n",
       "      <th>0</th>\n",
       "      <td> 0.486491</td>\n",
       "      <td> 0.566294</td>\n",
       "      <td> 0.095341</td>\n",
       "    </tr>\n",
       "    <tr>\n",
       "      <th>1</th>\n",
       "      <td> 0.818200</td>\n",
       "      <td> 0.650652</td>\n",
       "      <td> 0.811911</td>\n",
       "    </tr>\n",
       "    <tr>\n",
       "      <th>2</th>\n",
       "      <td> 0.528871</td>\n",
       "      <td> 0.725947</td>\n",
       "      <td> 0.667710</td>\n",
       "    </tr>\n",
       "    <tr>\n",
       "      <th>3</th>\n",
       "      <td> 0.968778</td>\n",
       "      <td> 0.638244</td>\n",
       "      <td> 0.875107</td>\n",
       "    </tr>\n",
       "    <tr>\n",
       "      <th>4</th>\n",
       "      <td> 0.413349</td>\n",
       "      <td> 0.583384</td>\n",
       "      <td> 0.807936</td>\n",
       "    </tr>\n",
       "    <tr>\n",
       "      <th>5</th>\n",
       "      <td> 0.194280</td>\n",
       "      <td> 0.388186</td>\n",
       "      <td> 0.695920</td>\n",
       "    </tr>\n",
       "    <tr>\n",
       "      <th>6</th>\n",
       "      <td> 0.552865</td>\n",
       "      <td> 0.429843</td>\n",
       "      <td> 0.238154</td>\n",
       "    </tr>\n",
       "    <tr>\n",
       "      <th>7</th>\n",
       "      <td> 0.766246</td>\n",
       "      <td> 0.471120</td>\n",
       "      <td> 0.224121</td>\n",
       "    </tr>\n",
       "    <tr>\n",
       "      <th>8</th>\n",
       "      <td> 0.448190</td>\n",
       "      <td> 0.689075</td>\n",
       "      <td> 0.985159</td>\n",
       "    </tr>\n",
       "    <tr>\n",
       "      <th>9</th>\n",
       "      <td> 0.015707</td>\n",
       "      <td> 0.556889</td>\n",
       "      <td> 0.752156</td>\n",
       "    </tr>\n",
       "  </tbody>\n",
       "</table>\n",
       "</div>"
      ],
      "text/plain": [
       "          1      mean         2\n",
       "0  0.486491  0.566294  0.095341\n",
       "1  0.818200  0.650652  0.811911\n",
       "2  0.528871  0.725947  0.667710\n",
       "3  0.968778  0.638244  0.875107\n",
       "4  0.413349  0.583384  0.807936\n",
       "5  0.194280  0.388186  0.695920\n",
       "6  0.552865  0.429843  0.238154\n",
       "7  0.766246  0.471120  0.224121\n",
       "8  0.448190  0.689075  0.985159\n",
       "9  0.015707  0.556889  0.752156"
      ]
     },
     "execution_count": 151,
     "metadata": {},
     "output_type": "execute_result"
    }
   ],
   "source": [
    "#columns can also be rearranged by writing a list and then indexing the dataframe\n",
    "cols = [1,\"mean\",2]\n",
    "df[cols]"
   ]
  },
  {
   "cell_type": "markdown",
   "metadata": {},
   "source": [
    "---\n",
    "\n",
    "<a id = \"mech\"></a>\n",
    "# Mechanize\n",
    "- mechanize cheatsheet](http://www.pythonforbeginners.com/cheatsheet/python-mechanize-cheat-sheet)\n",
    "- [another one](http://dreamrunner.org/wiki/public_html/Python/Python%20Mechanize%20Cheat%20Sheet%20.html)\n",
    "- [Mechanize guide](http://swizec.com/blog/scraping-with-mechanize-and-beautifulsoup/swizec/5039)"
   ]
  },
  {
   "cell_type": "code",
   "execution_count": 152,
   "metadata": {
    "collapsed": false
   },
   "outputs": [
    {
     "data": {
      "text/plain": [
       "<response_seek_wrapper at 0xbb8a188L whose wrapped object = <closeable_response at 0xbb8a208L whose fp = <socket._fileobject object at 0x000000000B9DAE58>>>"
      ]
     },
     "execution_count": 152,
     "metadata": {},
     "output_type": "execute_result"
    }
   ],
   "source": [
    "import urllib\n",
    "import mechanize\n",
    "br = mechanize.Browser()\n",
    "br.open(\"http://www.cbs.dtu.dk/services/TMHMM/\")"
   ]
  },
  {
   "cell_type": "code",
   "execution_count": 153,
   "metadata": {
    "collapsed": false
   },
   "outputs": [
    {
     "name": "stdout",
     "output_type": "stream",
     "text": [
      "<test POST http://www.cbs.dtu.dk/cgi-bin/search.cgi application/x-www-form-urlencoded\n",
      "  <TextControl(Words=)>\n",
      "  <ImageControl(<None>=Search)>>\n",
      "<POST http://www.cbs.dtu.dk/cgi-bin/webface2.fcgi multipart/form-data\n",
      "  <HiddenControl(configfile=/usr/opt/www/pub/CBS/services/TMHMM-2.0/TMHMM2CONV.cf) (readonly)>\n",
      "  <FileControl(seqfile=<No files added>)>\n",
      "  <TextareaControl(SEQ=)>\n",
      "  <RadioControl(outform=[*-noshort, -noplot, -short])>\n",
      "  <CheckboxControl(version=[-v1])>\n",
      "  <SubmitControl(<None>=Submit) (readonly)>\n",
      "  <IgnoreControl(<None>=<None>)>>\n"
     ]
    }
   ],
   "source": [
    "for i in br.forms():#Now we will print out each form contained in the page\n",
    "    print i"
   ]
  },
  {
   "cell_type": "code",
   "execution_count": 154,
   "metadata": {
    "collapsed": false
   },
   "outputs": [],
   "source": [
    "br.select_form(nr=1)\n",
    "br[\"SEQ\"] = \"MAAAAAAAAAAAAAAFHHTMSVVVVVVVVVVVV\" "
   ]
  },
  {
   "cell_type": "code",
   "execution_count": 155,
   "metadata": {
    "collapsed": false
   },
   "outputs": [
    {
     "name": "stdout",
     "output_type": "stream",
     "text": [
      "<test POST http://www.cbs.dtu.dk/cgi-bin/search.cgi application/x-www-form-urlencoded\n",
      "  <TextControl(Words=)>\n",
      "  <ImageControl(<None>=Search)>>\n",
      "<POST http://www.cbs.dtu.dk/cgi-bin/webface2.fcgi multipart/form-data\n",
      "  <HiddenControl(configfile=/usr/opt/www/pub/CBS/services/TMHMM-2.0/TMHMM2CONV.cf) (readonly)>\n",
      "  <FileControl(seqfile=<No files added>)>\n",
      "  <TextareaControl(SEQ=MAAAAAAAAAAAAAAFHHTMSVVVVVVVVVVVV)>\n",
      "  <RadioControl(outform=[*-noshort, -noplot, -short])>\n",
      "  <CheckboxControl(version=[-v1])>\n",
      "  <SubmitControl(<None>=Submit) (readonly)>\n",
      "  <IgnoreControl(<None>=<None>)>>\n"
     ]
    }
   ],
   "source": [
    "for i in br.forms():\n",
    "    print i"
   ]
  },
  {
   "cell_type": "code",
   "execution_count": 156,
   "metadata": {
    "collapsed": false
   },
   "outputs": [],
   "source": [
    "G = br.submit()"
   ]
  },
  {
   "cell_type": "code",
   "execution_count": 157,
   "metadata": {
    "collapsed": false
   },
   "outputs": [
    {
     "data": {
      "text/plain": [
       "'<html>\\n<head>\\n<title>Job status of 54927CA10000221EA32D46F8</span></title></head>\\n<script type=\"text/javascript\" src=\"http://code.jquery.com/jquery-1.10.1.min.js\"></script>\\n<script type=\"text/javascript\" src=\"/js/webface.js\"></script>\\n<script type=\"text/javascript\">\\n$(document).ready(function(){\\n\\tlaunchcheck(\\'queued\\',\\'54927CA10000221EA32D46F8\\',\\'http://www.cbs.dtu.dk/cgi-bin/webface2.fcgi\\',20);\\n});\\n</script>\\n</head>\\n<body>\\n<!-- jobid: 54927CA10000221EA32D46F8 status: queued -->\\n<H1>Your job 54927CA10000221EA32D46F8 is <span name=\"status\">queued</span></H1>\\n<br>\\n\\n<form>\\n\\tSend me email when job finishes\\n\\t<input type=\"hidden\" name=\"jobid\" value=\"54927CA10000221EA32D46F8\">\\n\\t<input type=\"text\" name=\"email\" value=\"\">\\n\\t<input type=\"hidden\" name=\"wait\" value=\"20\">\\n\\t<input type=\"submit\" name=\"submit\" value=\"Send email\">\\n</form>\\n<div id=\"progress\"></div>\\n<noscript>This page should reload automatically. Otherwise <a href=\"http://www.cbs.dtu.dk//cgi-bin/webface2.fcgi?jobid=54927CA10000221EA32D46F8\">click here</a>\\n</noscript>\\n</body>\\n</html>\\n'"
      ]
     },
     "execution_count": 157,
     "metadata": {},
     "output_type": "execute_result"
    }
   ],
   "source": [
    "G.read()"
   ]
  },
  {
   "cell_type": "markdown",
   "metadata": {},
   "source": [
    "### If that does not work for you then try the following:"
   ]
  },
  {
   "cell_type": "code",
   "execution_count": 158,
   "metadata": {
    "collapsed": false
   },
   "outputs": [
    {
     "name": "stdout",
     "output_type": "stream",
     "text": [
      "<POST http://web.expasy.org/cgi-bin/myristoylator/myristoylator.pl application/x-www-form-urlencoded\n",
      "  <TextareaControl(protein=)>\n",
      "  <SubmitControl(<None>=RUN PREDICTION) (readonly)>\n",
      "  <IgnoreControl(<None>=<None>)>>\n"
     ]
    }
   ],
   "source": [
    "import mechanize\n",
    "br = mechanize.Browser(factory=mechanize.RobustFactory())\n",
    "br.set_handle_robots(False)\n",
    "br.open(\"http://www.expasy.org/proteomics\")\n",
    "response1 = br.follow_link(text_regex=r\"Myristoylator\", nr=1)\n",
    "for i in br.forms():\n",
    "    print i"
   ]
  },
  {
   "cell_type": "code",
   "execution_count": 159,
   "metadata": {
    "collapsed": false
   },
   "outputs": [
    {
     "data": {
      "text/plain": [
       "'<!DOCTYPE HTML PUBLIC \"-//W3C//DTD HTML 4.01 Transitional//EN\" \"http://www.w3.org/TR/html4/loose.dtd\">\\n<html lang=\"en-US\">\\n  <head>\\n    <meta http-equiv=\"Content-Type\" content=\"text/html;charset=iso-8859-1\"><!-- automatically added by Apache -->\\n    <link rel=\"shortcut icon\" href=\"http://web.expasy.org/favicon.ico\" ><!-- automatically added by Apache -->\\n    <link rel=\"stylesheet\" href=\"/css/sib_css/sib.css\" type=\"text/css\" media=\"screen\" charset=\"utf-8\" >\\n\\t   <link rel=\"stylesheet\" href=\"/css/sib_css/sib_print.css\" type=\"text/css\" media=\"print\" charset=\"utf-8\" >\\n           <!--[if lte IE 6]>\\n\\t   <link rel=\"stylesheet\" href=\"/css/sib_css/sib_ie6.css\" type=\"text/css\" media=\"screen\" title=\"\" charset=\"utf-8\">\\n           <![endif]-->\\n           <link rel=\"stylesheet\" href=\"/css/base.css\" type=\"text/css\"><!-- automatically added by Apache -->\\n<title>ExPASy - Myristoylator</title>\\n  </head>\\n  <body>\\n<!-- ********************************************************************************************** -->\\n<!-- START OF HEADER information on top of the page -->\\n<div id=\\'sib_top\\'><a name=\\'TOP\\'></a></div>\\n<div id=\\'sib_container\\'>\\n\\n<!-- TODO: Change id to \"sib_header\" or \"sib_header_small\" -->\\n<div id=\\'sib_header_small\\'>\\n\\n<!-- SIB-ExPASy -->\\n<div id=\"sib_expasy_logo\">\\n<a href=\"http://www.isb-sib.ch\" id=\"sib_link\" title=\"SIB Swiss Institute of Bioinformatics\"></a>\\n<a href=\"http://www.expasy.org\" id=\"expasy_link\" title=\"ExPASy - SIB Bioinformatics Resource Portal\"></a>\\n</div>\\n<!-- SIB-ExPASy END -->\\n\\n<div class=\\'sib_title_no_logo\\'>\\n<h1><a href=\\'http://web.expasy.org/myristoylator\\'>Myristoylator</a></h1>\\n</div>\\n\\n<! -- Additionnal resource header -->\\n<div id=\\'resource_header\\'></div>\\n\\n<div id=\\'sib_header_nav\\'>\\n<a href=\"http://web.expasy.org/myristoylator\" title=\"Home page\">Home</a>&nbsp;|&nbsp;<a style=\"font-weight: bold; color: rgb(204,0,0) !important;\" href=\"/contact\" title=\"Contact\">Contact</a></div>\\n</div>\\n<!-- END OF HEADER -->\\n<!-- ********************************************************************************************** -->\\n<div id=\\'sib_body\\'>\\n<!-- automatically added by Apache -->\\n<H1>\\n <a href=\"/myristoylator\">Myristoylator</a> </H1><P><HR>\\n<A HREF=\"/myristoylator/myristoylator-doc.html\">Documentation</A> is available.<p>The entered sequence is:<BR>\\n<PRE>\\nMGRSPCCEKA HTNKGAWTKE EDQRLVDYIR NHGEGCWRSL PKSAGLLRCG KSCRLRWINY \\nLRPDL</PRE>\\n\\n<br>This protein is predicted as <b>non-myristoylated</b>:<br><br><table class=\"proteomics2\"><tr><th></th><th>Positive</th><th>Negative</th></tr><tr><td nowrap align=\"center\">Average response of 25 neural networks</td><td align=\"center\">0.00778242</td><td align=\"center\">0.992308</td></tr><tr><td align=\"center\">Counters </td><td align=\"center\">0</td><td align=\"center\">25</td></tr></table>\\n<br><br>\\n<a href=\"/myristoylator/myristoylator-doc.html\"><img src=\"/images/others/help.gif\" alt=\"?\" width=\"12\" height=\"12\" border=\"0\"></a> Score = 0.00778242 - 0.992308 = -0.98452558 \\n<br><br><hr><!-- sib_body -->\\n<br clear=\"left\" />\\n</div>\\n<!-- ********************************************************************************************** -->\\n<!-- START OF FOOTER information at the bottom of the page -->\\n<div id = \\'sib_footer\\'>\\t\\t\\t\\n  <!-- This part of the footer is _left_ justified and should contain SIB on the very left -->\\t\\n  <div id = \\'sib_footer_content\\'> \\n    <a href = \"http://www.isb-sib.ch\">SIB Swiss Institute of Bioinformatics</a>&nbsp;|&nbsp;<a href = \"http://www.expasy.org/disclaimer.html\">Disclaimer</a>\\n\\n\\t<!-- This part of the footer is _right_ justified -->\\n\\t<div id = \"sib_footer_right\">\\t\\n      <a href=\"#TOP\" id = \"sib_footer_gototop\"><span style = \"padding-left: 10px\">Back to the Top</span></a>\\t\\t\\t\\t\\n    </div>\\n  </div>\\n</div>\\n<!-- END OF FOOTER -->\\n</div> <!-- sib_container -->\\n<script type=\"text/javascript\">\\n  var _gaq = _gaq || [];\\n  _gaq.push([\\'_setAccount\\', \\'UA-23625305-1\\']);\\n  _gaq.push([\\'_trackPageview\\']);\\n\\n  (function() {\\n    var ga = document.createElement(\\'script\\'); ga.type = \\'text/javascript\\'; ga.async = true;\\n    ga.src = (\\'https:\\' == document.location.protocol ? \\'https://ssl\\' : \\'http://www\\') + \\'.google-analytics.com/ga.js\\';\\n    var s = document.getElementsByTagName(\\'script\\')[0]; s.parentNode.insertBefore(ga, s);\\n  })();\\n\\n</script><!-- automatically added by Apache -->\\n\\n    </body>\\n</html>'"
      ]
     },
     "execution_count": 159,
     "metadata": {},
     "output_type": "execute_result"
    }
   ],
   "source": [
    "loc = \"MGRSPCCEKAHTNKGAWTKEEDQRLVDYIRNHGEGCWRSLPKSAGLLRCGKSCRLRWINYLRPDL\"\n",
    "br.select_form(nr=0)\n",
    "br[u\"protein\"] = loc\n",
    "G = br.submit()\n",
    "R = G.read()\n",
    "R"
   ]
  },
  {
   "cell_type": "markdown",
   "metadata": {},
   "source": [
    "###Use the built in index function to find what you want in your data"
   ]
  },
  {
   "cell_type": "code",
   "execution_count": 160,
   "metadata": {
    "collapsed": false
   },
   "outputs": [
    {
     "name": "stdout",
     "output_type": "stream",
     "text": [
      "non-myristoylated\n",
      "Score = 0.00778242 - 0.992308 = -0.98452558\n"
     ]
    }
   ],
   "source": [
    "s0 = R.index(\"Score\")\n",
    "\n",
    "s1 = R.index(\" \\n<br><br><hr><!-- sib_body -->\")\n",
    "\n",
    "G = R[s0:s1]\n",
    "\n",
    "r0 = R.index(\"predicted as\")\n",
    "\n",
    "r1 = R.index('</b>:<br><br><table class=\"proteomics2\"><tr><th></th><th>Positive')\n",
    "\n",
    "G1 = R[r0:r1]\n",
    "\n",
    "G1 = R[r0+16:r1]\n",
    "\n",
    "print G1+\"\\n\"+G"
   ]
  },
  {
   "cell_type": "markdown",
   "metadata": {},
   "source": [
    "### Using mechanize to download files online"
   ]
  },
  {
   "cell_type": "code",
   "execution_count": 161,
   "metadata": {
    "collapsed": false
   },
   "outputs": [
    {
     "data": {
      "text/plain": [
       "'cooool.xls'"
      ]
     },
     "execution_count": 161,
     "metadata": {},
     "output_type": "execute_result"
    }
   ],
   "source": [
    "br = mechanize.Browser(factory=mechanize.RobustFactory())\n",
    "br.set_handle_robots(False)\n",
    "br.addheaders = [('User-agent', 'Firefox')]\n",
    "br.retrieve(\"http://www.ncbi.nlm.nih.gov/pmc/articles/PMC3202803/bin/msb201166-s2.xls\",\"cooool.xls\")[0]"
   ]
  },
  {
   "cell_type": "markdown",
   "metadata": {},
   "source": [
    "---\n",
    "\n",
    "<a id=\"bio\"></a>\n",
    "# BIOPYTHON\n",
    "- [biopython tutorial](http://biopython.org/DIST/docs/tutorial/Tutorial.html)\n"
   ]
  },
  {
   "cell_type": "markdown",
   "metadata": {},
   "source": [
    "---\n",
    "\n",
    "<a id = \"rand\"></a>\n",
    "# Random"
   ]
  },
  {
   "cell_type": "code",
   "execution_count": 28,
   "metadata": {
    "collapsed": false
   },
   "outputs": [
    {
     "data": {
      "text/plain": [
       "8"
      ]
     },
     "execution_count": 28,
     "metadata": {},
     "output_type": "execute_result"
    }
   ],
   "source": [
    "import random as rand\n",
    "\n",
    "rand.randint(0,10)#returns a random int"
   ]
  },
  {
   "cell_type": "code",
   "execution_count": 29,
   "metadata": {
    "collapsed": false
   },
   "outputs": [
    {
     "data": {
      "text/plain": [
       "0.4863629132098982"
      ]
     },
     "execution_count": 29,
     "metadata": {},
     "output_type": "execute_result"
    }
   ],
   "source": [
    "rand.random()#returns random float"
   ]
  },
  {
   "cell_type": "code",
   "execution_count": 30,
   "metadata": {
    "collapsed": false
   },
   "outputs": [
    {
     "data": {
      "text/plain": [
       "'whatever'"
      ]
     },
     "execution_count": 30,
     "metadata": {},
     "output_type": "execute_result"
    }
   ],
   "source": [
    "import random as rand\n",
    "rand.choice(\"I can put whatever I want to in here\".split())"
   ]
  },
  {
   "cell_type": "markdown",
   "metadata": {},
   "source": [
    "---\n",
    "\n",
    "<a id=\"Webcolors\"></a>\n",
    "# Webcolors\n",
    "\n",
    "<a id = \"CSS\"></a>\n",
    "### [ipython blocks](http://nbviewer.jupyter.org/github/jiffyclub/ipythonblocks/blob/master/demos/ipythonblocks_demo.ipynb)\n",
    "### [Hexidecimal on wikipedia](https://en.wikipedia.org/wiki/Hexadecimal)\n",
    "### [CSS3 colors names and color codes](http://www.cssportal.com/css3-color-names/)"
   ]
  },
  {
   "cell_type": "code",
   "execution_count": 21,
   "metadata": {
    "collapsed": false
   },
   "outputs": [
    {
     "data": {
      "text/html": [
       "<style type=\"text/css\">table.blockgrid {border: none;} .blockgrid tr {border: none;} .blockgrid td {padding: 0px;} #blocks13739b74-0818-4b00-b15d-09bd16682d6f td {border: 1px solid white;}</style><table id=\"blocks13739b74-0818-4b00-b15d-09bd16682d6f\" class=\"blockgrid\"><tbody><tr><td title=\"Index: [0, 0]&#10;Color: (250, 128, 114)\" style=\"width: 20px; height: 20px;background-color: rgb(250, 128, 114);\"></td><td title=\"Index: [0, 1]&#10;Color: (250, 128, 114)\" style=\"width: 20px; height: 20px;background-color: rgb(250, 128, 114);\"></td><td title=\"Index: [0, 2]&#10;Color: (250, 128, 114)\" style=\"width: 20px; height: 20px;background-color: rgb(250, 128, 114);\"></td><td title=\"Index: [0, 3]&#10;Color: (250, 128, 114)\" style=\"width: 20px; height: 20px;background-color: rgb(250, 128, 114);\"></td><td title=\"Index: [0, 4]&#10;Color: (250, 128, 114)\" style=\"width: 20px; height: 20px;background-color: rgb(250, 128, 114);\"></td></tr><tr><td title=\"Index: [1, 0]&#10;Color: (250, 128, 114)\" style=\"width: 20px; height: 20px;background-color: rgb(250, 128, 114);\"></td><td title=\"Index: [1, 1]&#10;Color: (250, 128, 114)\" style=\"width: 20px; height: 20px;background-color: rgb(250, 128, 114);\"></td><td title=\"Index: [1, 2]&#10;Color: (250, 128, 114)\" style=\"width: 20px; height: 20px;background-color: rgb(250, 128, 114);\"></td><td title=\"Index: [1, 3]&#10;Color: (250, 128, 114)\" style=\"width: 20px; height: 20px;background-color: rgb(250, 128, 114);\"></td><td title=\"Index: [1, 4]&#10;Color: (250, 128, 114)\" style=\"width: 20px; height: 20px;background-color: rgb(250, 128, 114);\"></td></tr><tr><td title=\"Index: [2, 0]&#10;Color: (250, 128, 114)\" style=\"width: 20px; height: 20px;background-color: rgb(250, 128, 114);\"></td><td title=\"Index: [2, 1]&#10;Color: (250, 128, 114)\" style=\"width: 20px; height: 20px;background-color: rgb(250, 128, 114);\"></td><td title=\"Index: [2, 2]&#10;Color: (250, 128, 114)\" style=\"width: 20px; height: 20px;background-color: rgb(250, 128, 114);\"></td><td title=\"Index: [2, 3]&#10;Color: (250, 128, 114)\" style=\"width: 20px; height: 20px;background-color: rgb(250, 128, 114);\"></td><td title=\"Index: [2, 4]&#10;Color: (250, 128, 114)\" style=\"width: 20px; height: 20px;background-color: rgb(250, 128, 114);\"></td></tr><tr><td title=\"Index: [3, 0]&#10;Color: (250, 128, 114)\" style=\"width: 20px; height: 20px;background-color: rgb(250, 128, 114);\"></td><td title=\"Index: [3, 1]&#10;Color: (250, 128, 114)\" style=\"width: 20px; height: 20px;background-color: rgb(250, 128, 114);\"></td><td title=\"Index: [3, 2]&#10;Color: (250, 128, 114)\" style=\"width: 20px; height: 20px;background-color: rgb(250, 128, 114);\"></td><td title=\"Index: [3, 3]&#10;Color: (250, 128, 114)\" style=\"width: 20px; height: 20px;background-color: rgb(250, 128, 114);\"></td><td title=\"Index: [3, 4]&#10;Color: (250, 128, 114)\" style=\"width: 20px; height: 20px;background-color: rgb(250, 128, 114);\"></td></tr><tr><td title=\"Index: [4, 0]&#10;Color: (250, 128, 114)\" style=\"width: 20px; height: 20px;background-color: rgb(250, 128, 114);\"></td><td title=\"Index: [4, 1]&#10;Color: (250, 128, 114)\" style=\"width: 20px; height: 20px;background-color: rgb(250, 128, 114);\"></td><td title=\"Index: [4, 2]&#10;Color: (250, 128, 114)\" style=\"width: 20px; height: 20px;background-color: rgb(250, 128, 114);\"></td><td title=\"Index: [4, 3]&#10;Color: (250, 128, 114)\" style=\"width: 20px; height: 20px;background-color: rgb(250, 128, 114);\"></td><td title=\"Index: [4, 4]&#10;Color: (250, 128, 114)\" style=\"width: 20px; height: 20px;background-color: rgb(250, 128, 114);\"></td></tr></tbody></table>"
      ],
      "text/plain": [
       "<ipythonblocks.ipythonblocks.BlockGrid at 0x96a5e10>"
      ]
     },
     "execution_count": 21,
     "metadata": {},
     "output_type": "execute_result"
    }
   ],
   "source": [
    "import webcolors as wc\n",
    "\n",
    "my_color = wc.name_to_rgb(\"Salmon\")\n",
    "\n",
    "from ipythonblocks import BlockGrid as bg\n",
    "\n",
    "grid =bg(5,5,fill= my_color)#can manipulate the color by using fill\n",
    "grid"
   ]
  },
  {
   "cell_type": "code",
   "execution_count": 27,
   "metadata": {
    "collapsed": false
   },
   "outputs": [
    {
     "data": {
      "text/html": [
       "<style type=\"text/css\">table.blockgrid {border: none;} .blockgrid tr {border: none;} .blockgrid td {padding: 0px;} #blocksd65187ea-e8ea-40de-a7e4-0a8d8da49592 td {border: 1px solid white;}</style><table id=\"blocksd65187ea-e8ea-40de-a7e4-0a8d8da49592\" class=\"blockgrid\"><tbody><tr><td title=\"Index: [0, 0]&#10;Color: (255, 0, 0)\" style=\"width: 20px; height: 20px;background-color: rgb(255, 0, 0);\"></td><td title=\"Index: [0, 1]&#10;Color: (0, 0, 0)\" style=\"width: 20px; height: 20px;background-color: rgb(0, 0, 0);\"></td><td title=\"Index: [0, 2]&#10;Color: (0, 0, 0)\" style=\"width: 20px; height: 20px;background-color: rgb(0, 0, 0);\"></td><td title=\"Index: [0, 3]&#10;Color: (0, 0, 0)\" style=\"width: 20px; height: 20px;background-color: rgb(0, 0, 0);\"></td><td title=\"Index: [0, 4]&#10;Color: (0, 0, 0)\" style=\"width: 20px; height: 20px;background-color: rgb(0, 0, 0);\"></td></tr><tr><td title=\"Index: [1, 0]&#10;Color: (0, 0, 0)\" style=\"width: 20px; height: 20px;background-color: rgb(0, 0, 0);\"></td><td title=\"Index: [1, 1]&#10;Color: (0, 0, 0)\" style=\"width: 20px; height: 20px;background-color: rgb(0, 0, 0);\"></td><td title=\"Index: [1, 2]&#10;Color: (0, 0, 0)\" style=\"width: 20px; height: 20px;background-color: rgb(0, 0, 0);\"></td><td title=\"Index: [1, 3]&#10;Color: (0, 0, 0)\" style=\"width: 20px; height: 20px;background-color: rgb(0, 0, 0);\"></td><td title=\"Index: [1, 4]&#10;Color: (0, 0, 0)\" style=\"width: 20px; height: 20px;background-color: rgb(0, 0, 0);\"></td></tr><tr><td title=\"Index: [2, 0]&#10;Color: (0, 0, 0)\" style=\"width: 20px; height: 20px;background-color: rgb(0, 0, 0);\"></td><td title=\"Index: [2, 1]&#10;Color: (0, 0, 0)\" style=\"width: 20px; height: 20px;background-color: rgb(0, 0, 0);\"></td><td title=\"Index: [2, 2]&#10;Color: (0, 0, 0)\" style=\"width: 20px; height: 20px;background-color: rgb(0, 0, 0);\"></td><td title=\"Index: [2, 3]&#10;Color: (0, 0, 0)\" style=\"width: 20px; height: 20px;background-color: rgb(0, 0, 0);\"></td><td title=\"Index: [2, 4]&#10;Color: (0, 0, 0)\" style=\"width: 20px; height: 20px;background-color: rgb(0, 0, 0);\"></td></tr><tr><td title=\"Index: [3, 0]&#10;Color: (0, 0, 0)\" style=\"width: 20px; height: 20px;background-color: rgb(0, 0, 0);\"></td><td title=\"Index: [3, 1]&#10;Color: (0, 0, 0)\" style=\"width: 20px; height: 20px;background-color: rgb(0, 0, 0);\"></td><td title=\"Index: [3, 2]&#10;Color: (0, 0, 0)\" style=\"width: 20px; height: 20px;background-color: rgb(0, 0, 0);\"></td><td title=\"Index: [3, 3]&#10;Color: (0, 0, 0)\" style=\"width: 20px; height: 20px;background-color: rgb(0, 0, 0);\"></td><td title=\"Index: [3, 4]&#10;Color: (0, 0, 0)\" style=\"width: 20px; height: 20px;background-color: rgb(0, 0, 0);\"></td></tr><tr><td title=\"Index: [4, 0]&#10;Color: (0, 0, 0)\" style=\"width: 20px; height: 20px;background-color: rgb(0, 0, 0);\"></td><td title=\"Index: [4, 1]&#10;Color: (0, 0, 0)\" style=\"width: 20px; height: 20px;background-color: rgb(0, 0, 0);\"></td><td title=\"Index: [4, 2]&#10;Color: (0, 0, 0)\" style=\"width: 20px; height: 20px;background-color: rgb(0, 0, 0);\"></td><td title=\"Index: [4, 3]&#10;Color: (0, 0, 0)\" style=\"width: 20px; height: 20px;background-color: rgb(0, 0, 0);\"></td><td title=\"Index: [4, 4]&#10;Color: (0, 0, 0)\" style=\"width: 20px; height: 20px;background-color: rgb(0, 0, 0);\"></td></tr><tr><td title=\"Index: [5, 0]&#10;Color: (0, 0, 0)\" style=\"width: 20px; height: 20px;background-color: rgb(0, 0, 0);\"></td><td title=\"Index: [5, 1]&#10;Color: (0, 0, 0)\" style=\"width: 20px; height: 20px;background-color: rgb(0, 0, 0);\"></td><td title=\"Index: [5, 2]&#10;Color: (0, 0, 0)\" style=\"width: 20px; height: 20px;background-color: rgb(0, 0, 0);\"></td><td title=\"Index: [5, 3]&#10;Color: (0, 0, 0)\" style=\"width: 20px; height: 20px;background-color: rgb(0, 0, 0);\"></td><td title=\"Index: [5, 4]&#10;Color: (0, 0, 0)\" style=\"width: 20px; height: 20px;background-color: rgb(0, 0, 0);\"></td></tr><tr><td title=\"Index: [6, 0]&#10;Color: (0, 0, 0)\" style=\"width: 20px; height: 20px;background-color: rgb(0, 0, 0);\"></td><td title=\"Index: [6, 1]&#10;Color: (0, 0, 0)\" style=\"width: 20px; height: 20px;background-color: rgb(0, 0, 0);\"></td><td title=\"Index: [6, 2]&#10;Color: (0, 0, 0)\" style=\"width: 20px; height: 20px;background-color: rgb(0, 0, 0);\"></td><td title=\"Index: [6, 3]&#10;Color: (0, 0, 0)\" style=\"width: 20px; height: 20px;background-color: rgb(0, 0, 0);\"></td><td title=\"Index: [6, 4]&#10;Color: (0, 0, 0)\" style=\"width: 20px; height: 20px;background-color: rgb(0, 0, 0);\"></td></tr><tr><td title=\"Index: [7, 0]&#10;Color: (0, 0, 0)\" style=\"width: 20px; height: 20px;background-color: rgb(0, 0, 0);\"></td><td title=\"Index: [7, 1]&#10;Color: (0, 0, 0)\" style=\"width: 20px; height: 20px;background-color: rgb(0, 0, 0);\"></td><td title=\"Index: [7, 2]&#10;Color: (0, 0, 0)\" style=\"width: 20px; height: 20px;background-color: rgb(0, 0, 0);\"></td><td title=\"Index: [7, 3]&#10;Color: (0, 0, 0)\" style=\"width: 20px; height: 20px;background-color: rgb(0, 0, 0);\"></td><td title=\"Index: [7, 4]&#10;Color: (0, 0, 0)\" style=\"width: 20px; height: 20px;background-color: rgb(0, 0, 0);\"></td></tr><tr><td title=\"Index: [8, 0]&#10;Color: (0, 0, 0)\" style=\"width: 20px; height: 20px;background-color: rgb(0, 0, 0);\"></td><td title=\"Index: [8, 1]&#10;Color: (0, 0, 0)\" style=\"width: 20px; height: 20px;background-color: rgb(0, 0, 0);\"></td><td title=\"Index: [8, 2]&#10;Color: (0, 0, 0)\" style=\"width: 20px; height: 20px;background-color: rgb(0, 0, 0);\"></td><td title=\"Index: [8, 3]&#10;Color: (0, 0, 0)\" style=\"width: 20px; height: 20px;background-color: rgb(0, 0, 0);\"></td><td title=\"Index: [8, 4]&#10;Color: (0, 0, 0)\" style=\"width: 20px; height: 20px;background-color: rgb(0, 0, 0);\"></td></tr><tr><td title=\"Index: [9, 0]&#10;Color: (0, 0, 0)\" style=\"width: 20px; height: 20px;background-color: rgb(0, 0, 0);\"></td><td title=\"Index: [9, 1]&#10;Color: (0, 0, 0)\" style=\"width: 20px; height: 20px;background-color: rgb(0, 0, 0);\"></td><td title=\"Index: [9, 2]&#10;Color: (0, 0, 0)\" style=\"width: 20px; height: 20px;background-color: rgb(0, 0, 0);\"></td><td title=\"Index: [9, 3]&#10;Color: (0, 0, 0)\" style=\"width: 20px; height: 20px;background-color: rgb(0, 0, 0);\"></td><td title=\"Index: [9, 4]&#10;Color: (250, 128, 114)\" style=\"width: 20px; height: 20px;background-color: rgb(250, 128, 114);\"></td></tr></tbody></table>"
      ],
      "text/plain": [
       "<ipythonblocks.ipythonblocks.BlockGrid at 0x96ad470>"
      ]
     },
     "execution_count": 27,
     "metadata": {},
     "output_type": "execute_result"
    }
   ],
   "source": [
    "from ipythonblocks import BlockGrid\n",
    "my_grid = BlockGrid(5,10)\n",
    "my_grid[0,0] = (255, 0, 0)\n",
    "my_grid[-1,-1] = my_color\n",
    "my_grid"
   ]
  },
  {
   "cell_type": "markdown",
   "metadata": {},
   "source": [
    "---\n",
    "\n",
    "<a id=\"time\"></a>\n",
    "# Time\n",
    "- Get the posix time for any given moment."
   ]
  },
  {
   "cell_type": "code",
   "execution_count": 1,
   "metadata": {
    "collapsed": false
   },
   "outputs": [
    {
     "data": {
      "text/plain": [
       "1430374478.232946"
      ]
     },
     "execution_count": 1,
     "metadata": {},
     "output_type": "execute_result"
    }
   ],
   "source": [
    "import time\n",
    "time.time()"
   ]
  },
  {
   "cell_type": "markdown",
   "metadata": {},
   "source": [
    "---\n",
    "\n",
    "<a id= \"class\"></a>\n",
    "# Classes\n",
    "- [intro to python classes](http://introtopython.org/classes.html)\n",
    "- [classes and mtaclasses](http://nbviewer.ipython.org/github/jakevdp/jakevdp.github.com/blob/master/downloads/notebooks/MetaClasses.ipynb)"
   ]
  },
  {
   "cell_type": "markdown",
   "metadata": {},
   "source": [
    "---\n",
    "\n",
    "<a id = \"java\"></a>\n",
    "## Java resources\n",
    "\n",
    "* [Java for Python programmers](http://interactivepython.org/courselib/static/java4python/index.html)\n",
    "* [From Python to Java](http://home.wlu.edu/~lambertk/pythontojava/index.htm)\n",
    "* [Python and Java side by side](http://pythonconquerstheuniverse.wordpress.com/2009/10/03/python-java-a-side-by-side-comparison/)\n",
    "* [Python to Java tutorial](http://www.csc.uvic.ca/~labspg/Reference/PytoJava/)\n",
    "* [Getting started with Eclipse](http://eclipsetutorial.sourceforge.net/totalbeginner.html)\n",
    "* [Videos from Dewan's offering of 401](https://www.youtube.com/playlist?list=PLH5XTBxCO2hx5lrFiPsQ7M3MIf4N1eV5s)\n",
    "\n",
    "GB recommends this one; [The Python Paradox](http://paulgraham.com/pypar.html)"
   ]
  },
  {
   "cell_type": "markdown",
   "metadata": {},
   "source": [
    "---\n",
    "<a id = \"jython\"></a>\n",
    "# Jython\n",
    "\n",
    "- [pretty good from the book on jython](http://www.jython.org/jythonbook/en/1.0/index.html#part-iii-developing-applications-with-jython)\n",
    "- [servlets](http://www.jython.org/jythonbook/en/1.0/SimpleWebApps.html#servlets)\n",
    "- []()"
   ]
  },
  {
   "cell_type": "markdown",
   "metadata": {},
   "source": [
    "---\n",
    "\n",
    "<a id = \"module\"></a>\n",
    "# Modules\n",
    "\n",
    "- [Modules -- Python doc](https://docs.python.org/2/tutorial/modules.html)\n",
    "\n",
    "\n",
    "---\n",
    "\n",
    "<a id=\"misc\"></a>\n",
    "# Misc.Info\n",
    "[FIXME: incorporate into helpful links]\n",
    "- 90px = 1in\n",
    "- [Calendar module](https://docs.python.org/2/library/calendar.html)\n",
    "- [Python for Biologists](http://pythonforbiologists.com/index.php/profiling-execution-time-in-python/)\n",
    "- [Bluecollar Bioinformatics](http://bcb.io/2009/01/10/extracting-protein-characteristics-for-an-interpro-domain/)\n",
    "- [deep learning reading list](http://deeplearning.net/reading-list/)\n",
    "\n",
    "- [Wikipedia on the Elliot Wave Priciple](http://en.wikipedia.org/wiki/Elliott_wave_principle)\n",
    "- back to [TOC](#TOC)\n",
    "\n",
    "---\n",
    "\n",
    "# Python docs\n",
    "[FIXME: incorporate into helpful links]\n",
    "- [graphviz Python doc](https://pypi.python.org/pypi/graphviz)\n",
    "- [time](https://docs.python.org/2/library/time.html)\n",
    "- [Classes](https://docs.python.org/2/tutorial/classes.html)\n",
    "- [re operations](https://docs.python.org/2/library/re.html#re.DOTALL)\n",
    "- [urlib](https://docs.python.org/2/library/urllib.html)\n",
    "- [random](https://docs.python.org/2/library/random.html)\n",
    "- [Pickle](https://docs.python.org/2/library/pickle.html)\n",
    "- [pptx](https://pypi.python.org/pypi/python-pptx)\n",
    "- [pptx doc](https://python-pptx.readthedocs.org/en/latest/index.html)\n",
    "\n",
    "---\n",
    "\n",
    "## links \n",
    "[FIXME: incorporate into helpful links]\n",
    "- [School of Data](http://schoolofdata.org/blog/)\n",
    "- [Allen Downing there is only one test](http://allendowney.blogspot.com/2011/05/there-is-only-one-test.html)\n",
    "- [Active State Python Recipies](http://code.activestate.com/recipes/langs/python/)\n",
    "- [Biopython](http://biopython.org/wiki/Main_Page)\n",
    "- [Orange computer learning](http://orange.biolab.si/)\n",
    "- [pybrain](http://pybrain.org/pages/features)\n",
    "\n",
    "---\n",
    "\n",
    "## Blogging with Ipython\n",
    "   - [Fenando Perez's original article on blogging with ipython](http://blog.fperez.org/2012/09/blogging-with-ipython-notebook.html) \n",
    "   - [jakevdp's github about ipy blogging](http://nbviewer.ipython.org/github/jakevdp/jakevdp.github.com/blob/master/downloads/notebooks/nb_in_octopress.ipynb)\n",
    "   - [jakevdp's github](http://jakevdp.github.io/)\n",
    "   - So if you wanna publish a notebook file you have to put that file in a github repository. Once that have been published to github then you can use [nbviewer](http://nbviewer.ipython.org/) to view it in the broswer."
   ]
  },
  {
   "cell_type": "markdown",
   "metadata": {},
   "source": [
    "---\n",
    "\n",
    "\n",
    "# [MARKOV CHAIN IN IPYNOTEBOOK](http://nbviewer.ipython.org/gist/fonnesbeck/2352771)\n",
    "   - [here is the blog that it is from](http://nbipython.blogspot.com/2012/11/ipython-notebook-examples.html)"
   ]
  },
  {
   "cell_type": "code",
   "execution_count": null,
   "metadata": {
    "collapsed": true
   },
   "outputs": [],
   "source": []
  }
 ],
 "metadata": {
  "anaconda-cloud": {},
  "kernelspec": {
   "display_name": "Python [Root]",
   "language": "python",
   "name": "Python [Root]"
  },
  "language_info": {
   "codemirror_mode": {
    "name": "ipython",
    "version": 3
   },
   "file_extension": ".py",
   "mimetype": "text/x-python",
   "name": "python",
   "nbconvert_exporter": "python",
   "pygments_lexer": "ipython3",
   "version": "3.5.2"
  }
 },
 "nbformat": 4,
 "nbformat_minor": 0
}
